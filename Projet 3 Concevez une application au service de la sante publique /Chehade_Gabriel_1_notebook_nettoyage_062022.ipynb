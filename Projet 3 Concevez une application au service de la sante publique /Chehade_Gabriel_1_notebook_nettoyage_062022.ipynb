{
 "cells": [
  {
   "cell_type": "code",
   "execution_count": 1,
   "id": "1ed94955",
   "metadata": {
    "ExecuteTime": {
     "end_time": "2022-10-17T23:19:26.071650Z",
     "start_time": "2022-10-17T23:19:24.818041Z"
    }
   },
   "outputs": [],
   "source": [
    "import numpy as np\n",
    "import pandas as pd\n",
    "import matplotlib.pyplot as plt\n",
    "import seaborn as sns\n",
    "sns.set_theme()\n",
    "import sklearn"
   ]
  },
  {
   "cell_type": "markdown",
   "id": "e58f8b41",
   "metadata": {},
   "source": [
    "Import des données"
   ]
  },
  {
   "cell_type": "code",
   "execution_count": 2,
   "id": "ab5660b3",
   "metadata": {
    "ExecuteTime": {
     "end_time": "2022-10-17T23:19:40.927550Z",
     "start_time": "2022-10-17T23:19:26.073546Z"
    }
   },
   "outputs": [
    {
     "data": {
      "text/html": [
       "<div>\n",
       "<style scoped>\n",
       "    .dataframe tbody tr th:only-of-type {\n",
       "        vertical-align: middle;\n",
       "    }\n",
       "\n",
       "    .dataframe tbody tr th {\n",
       "        vertical-align: top;\n",
       "    }\n",
       "\n",
       "    .dataframe thead th {\n",
       "        text-align: right;\n",
       "    }\n",
       "</style>\n",
       "<table border=\"1\" class=\"dataframe\">\n",
       "  <thead>\n",
       "    <tr style=\"text-align: right;\">\n",
       "      <th></th>\n",
       "      <th>code</th>\n",
       "      <th>url</th>\n",
       "      <th>creator</th>\n",
       "      <th>created_t</th>\n",
       "      <th>created_datetime</th>\n",
       "      <th>last_modified_t</th>\n",
       "      <th>last_modified_datetime</th>\n",
       "      <th>product_name</th>\n",
       "      <th>generic_name</th>\n",
       "      <th>quantity</th>\n",
       "      <th>...</th>\n",
       "      <th>ph_100g</th>\n",
       "      <th>fruits-vegetables-nuts_100g</th>\n",
       "      <th>collagen-meat-protein-ratio_100g</th>\n",
       "      <th>cocoa_100g</th>\n",
       "      <th>chlorophyl_100g</th>\n",
       "      <th>carbon-footprint_100g</th>\n",
       "      <th>nutrition-score-fr_100g</th>\n",
       "      <th>nutrition-score-uk_100g</th>\n",
       "      <th>glycemic-index_100g</th>\n",
       "      <th>water-hardness_100g</th>\n",
       "    </tr>\n",
       "  </thead>\n",
       "  <tbody>\n",
       "    <tr>\n",
       "      <th>0</th>\n",
       "      <td>0000000003087</td>\n",
       "      <td>http://world-fr.openfoodfacts.org/produit/0000...</td>\n",
       "      <td>openfoodfacts-contributors</td>\n",
       "      <td>1474103866</td>\n",
       "      <td>2016-09-17T09:17:46Z</td>\n",
       "      <td>1474103893</td>\n",
       "      <td>2016-09-17T09:18:13Z</td>\n",
       "      <td>Farine de blé noir</td>\n",
       "      <td>NaN</td>\n",
       "      <td>1kg</td>\n",
       "      <td>...</td>\n",
       "      <td>NaN</td>\n",
       "      <td>NaN</td>\n",
       "      <td>NaN</td>\n",
       "      <td>NaN</td>\n",
       "      <td>NaN</td>\n",
       "      <td>NaN</td>\n",
       "      <td>NaN</td>\n",
       "      <td>NaN</td>\n",
       "      <td>NaN</td>\n",
       "      <td>NaN</td>\n",
       "    </tr>\n",
       "    <tr>\n",
       "      <th>1</th>\n",
       "      <td>0000000004530</td>\n",
       "      <td>http://world-fr.openfoodfacts.org/produit/0000...</td>\n",
       "      <td>usda-ndb-import</td>\n",
       "      <td>1489069957</td>\n",
       "      <td>2017-03-09T14:32:37Z</td>\n",
       "      <td>1489069957</td>\n",
       "      <td>2017-03-09T14:32:37Z</td>\n",
       "      <td>Banana Chips Sweetened (Whole)</td>\n",
       "      <td>NaN</td>\n",
       "      <td>NaN</td>\n",
       "      <td>...</td>\n",
       "      <td>NaN</td>\n",
       "      <td>NaN</td>\n",
       "      <td>NaN</td>\n",
       "      <td>NaN</td>\n",
       "      <td>NaN</td>\n",
       "      <td>NaN</td>\n",
       "      <td>14.0</td>\n",
       "      <td>14.0</td>\n",
       "      <td>NaN</td>\n",
       "      <td>NaN</td>\n",
       "    </tr>\n",
       "    <tr>\n",
       "      <th>2</th>\n",
       "      <td>0000000004559</td>\n",
       "      <td>http://world-fr.openfoodfacts.org/produit/0000...</td>\n",
       "      <td>usda-ndb-import</td>\n",
       "      <td>1489069957</td>\n",
       "      <td>2017-03-09T14:32:37Z</td>\n",
       "      <td>1489069957</td>\n",
       "      <td>2017-03-09T14:32:37Z</td>\n",
       "      <td>Peanuts</td>\n",
       "      <td>NaN</td>\n",
       "      <td>NaN</td>\n",
       "      <td>...</td>\n",
       "      <td>NaN</td>\n",
       "      <td>NaN</td>\n",
       "      <td>NaN</td>\n",
       "      <td>NaN</td>\n",
       "      <td>NaN</td>\n",
       "      <td>NaN</td>\n",
       "      <td>0.0</td>\n",
       "      <td>0.0</td>\n",
       "      <td>NaN</td>\n",
       "      <td>NaN</td>\n",
       "    </tr>\n",
       "    <tr>\n",
       "      <th>3</th>\n",
       "      <td>0000000016087</td>\n",
       "      <td>http://world-fr.openfoodfacts.org/produit/0000...</td>\n",
       "      <td>usda-ndb-import</td>\n",
       "      <td>1489055731</td>\n",
       "      <td>2017-03-09T10:35:31Z</td>\n",
       "      <td>1489055731</td>\n",
       "      <td>2017-03-09T10:35:31Z</td>\n",
       "      <td>Organic Salted Nut Mix</td>\n",
       "      <td>NaN</td>\n",
       "      <td>NaN</td>\n",
       "      <td>...</td>\n",
       "      <td>NaN</td>\n",
       "      <td>NaN</td>\n",
       "      <td>NaN</td>\n",
       "      <td>NaN</td>\n",
       "      <td>NaN</td>\n",
       "      <td>NaN</td>\n",
       "      <td>12.0</td>\n",
       "      <td>12.0</td>\n",
       "      <td>NaN</td>\n",
       "      <td>NaN</td>\n",
       "    </tr>\n",
       "    <tr>\n",
       "      <th>4</th>\n",
       "      <td>0000000016094</td>\n",
       "      <td>http://world-fr.openfoodfacts.org/produit/0000...</td>\n",
       "      <td>usda-ndb-import</td>\n",
       "      <td>1489055653</td>\n",
       "      <td>2017-03-09T10:34:13Z</td>\n",
       "      <td>1489055653</td>\n",
       "      <td>2017-03-09T10:34:13Z</td>\n",
       "      <td>Organic Polenta</td>\n",
       "      <td>NaN</td>\n",
       "      <td>NaN</td>\n",
       "      <td>...</td>\n",
       "      <td>NaN</td>\n",
       "      <td>NaN</td>\n",
       "      <td>NaN</td>\n",
       "      <td>NaN</td>\n",
       "      <td>NaN</td>\n",
       "      <td>NaN</td>\n",
       "      <td>NaN</td>\n",
       "      <td>NaN</td>\n",
       "      <td>NaN</td>\n",
       "      <td>NaN</td>\n",
       "    </tr>\n",
       "  </tbody>\n",
       "</table>\n",
       "<p>5 rows × 162 columns</p>\n",
       "</div>"
      ],
      "text/plain": [
       "            code                                                url  \\\n",
       "0  0000000003087  http://world-fr.openfoodfacts.org/produit/0000...   \n",
       "1  0000000004530  http://world-fr.openfoodfacts.org/produit/0000...   \n",
       "2  0000000004559  http://world-fr.openfoodfacts.org/produit/0000...   \n",
       "3  0000000016087  http://world-fr.openfoodfacts.org/produit/0000...   \n",
       "4  0000000016094  http://world-fr.openfoodfacts.org/produit/0000...   \n",
       "\n",
       "                      creator   created_t      created_datetime  \\\n",
       "0  openfoodfacts-contributors  1474103866  2016-09-17T09:17:46Z   \n",
       "1             usda-ndb-import  1489069957  2017-03-09T14:32:37Z   \n",
       "2             usda-ndb-import  1489069957  2017-03-09T14:32:37Z   \n",
       "3             usda-ndb-import  1489055731  2017-03-09T10:35:31Z   \n",
       "4             usda-ndb-import  1489055653  2017-03-09T10:34:13Z   \n",
       "\n",
       "  last_modified_t last_modified_datetime                    product_name  \\\n",
       "0      1474103893   2016-09-17T09:18:13Z              Farine de blé noir   \n",
       "1      1489069957   2017-03-09T14:32:37Z  Banana Chips Sweetened (Whole)   \n",
       "2      1489069957   2017-03-09T14:32:37Z                         Peanuts   \n",
       "3      1489055731   2017-03-09T10:35:31Z          Organic Salted Nut Mix   \n",
       "4      1489055653   2017-03-09T10:34:13Z                 Organic Polenta   \n",
       "\n",
       "  generic_name quantity  ... ph_100g fruits-vegetables-nuts_100g  \\\n",
       "0          NaN      1kg  ...     NaN                         NaN   \n",
       "1          NaN      NaN  ...     NaN                         NaN   \n",
       "2          NaN      NaN  ...     NaN                         NaN   \n",
       "3          NaN      NaN  ...     NaN                         NaN   \n",
       "4          NaN      NaN  ...     NaN                         NaN   \n",
       "\n",
       "  collagen-meat-protein-ratio_100g cocoa_100g chlorophyl_100g  \\\n",
       "0                              NaN        NaN             NaN   \n",
       "1                              NaN        NaN             NaN   \n",
       "2                              NaN        NaN             NaN   \n",
       "3                              NaN        NaN             NaN   \n",
       "4                              NaN        NaN             NaN   \n",
       "\n",
       "  carbon-footprint_100g nutrition-score-fr_100g nutrition-score-uk_100g  \\\n",
       "0                   NaN                     NaN                     NaN   \n",
       "1                   NaN                    14.0                    14.0   \n",
       "2                   NaN                     0.0                     0.0   \n",
       "3                   NaN                    12.0                    12.0   \n",
       "4                   NaN                     NaN                     NaN   \n",
       "\n",
       "  glycemic-index_100g water-hardness_100g  \n",
       "0                 NaN                 NaN  \n",
       "1                 NaN                 NaN  \n",
       "2                 NaN                 NaN  \n",
       "3                 NaN                 NaN  \n",
       "4                 NaN                 NaN  \n",
       "\n",
       "[5 rows x 162 columns]"
      ]
     },
     "execution_count": 2,
     "metadata": {},
     "output_type": "execute_result"
    }
   ],
   "source": [
    "data = pd.read_csv(\"fr.openfoodfacts.org.products.csv\", sep=\"\\t\", low_memory=False)\n",
    "data.head()"
   ]
  },
  {
   "cell_type": "markdown",
   "id": "c768c79b",
   "metadata": {},
   "source": [
    "# Nettoyage des données"
   ]
  },
  {
   "cell_type": "markdown",
   "id": "0b497878",
   "metadata": {},
   "source": [
    "## Analyse de forme"
   ]
  },
  {
   "cell_type": "code",
   "execution_count": 3,
   "id": "e1f3d8d9",
   "metadata": {
    "ExecuteTime": {
     "end_time": "2022-10-17T23:19:41.231952Z",
     "start_time": "2022-10-17T23:19:40.930056Z"
    }
   },
   "outputs": [],
   "source": [
    "df = data.copy()"
   ]
  },
  {
   "cell_type": "markdown",
   "id": "3a2ccea0",
   "metadata": {},
   "source": [
    "Dimensions du tableau"
   ]
  },
  {
   "cell_type": "code",
   "execution_count": 4,
   "id": "7dcdb01b",
   "metadata": {
    "ExecuteTime": {
     "end_time": "2022-10-17T23:19:41.238531Z",
     "start_time": "2022-10-17T23:19:41.234654Z"
    }
   },
   "outputs": [
    {
     "data": {
      "text/plain": [
       "(320772, 162)"
      ]
     },
     "execution_count": 4,
     "metadata": {},
     "output_type": "execute_result"
    }
   ],
   "source": [
    "df.shape"
   ]
  },
  {
   "cell_type": "markdown",
   "id": "dd95d760",
   "metadata": {},
   "source": [
    "Types et nombre de variables associées"
   ]
  },
  {
   "cell_type": "code",
   "execution_count": 5,
   "id": "99c64f88",
   "metadata": {
    "ExecuteTime": {
     "end_time": "2022-10-17T23:19:41.245563Z",
     "start_time": "2022-10-17T23:19:41.240394Z"
    }
   },
   "outputs": [
    {
     "data": {
      "text/plain": [
       "float64    106\n",
       "object      56\n",
       "dtype: int64"
      ]
     },
     "execution_count": 5,
     "metadata": {},
     "output_type": "execute_result"
    }
   ],
   "source": [
    "df.dtypes.value_counts()"
   ]
  },
  {
   "cell_type": "code",
   "execution_count": 6,
   "id": "f8974d95",
   "metadata": {
    "ExecuteTime": {
     "end_time": "2022-10-17T23:19:41.250200Z",
     "start_time": "2022-10-17T23:19:41.247666Z"
    }
   },
   "outputs": [],
   "source": [
    "# Pour pouvoir observer toutes les colonnes\n",
    "pd.set_option(\"display.max_column\", 162)"
   ]
  },
  {
   "cell_type": "code",
   "execution_count": 7,
   "id": "046bd25a",
   "metadata": {
    "ExecuteTime": {
     "end_time": "2022-10-17T23:19:41.349100Z",
     "start_time": "2022-10-17T23:19:41.251963Z"
    }
   },
   "outputs": [
    {
     "data": {
      "text/html": [
       "<div>\n",
       "<style scoped>\n",
       "    .dataframe tbody tr th:only-of-type {\n",
       "        vertical-align: middle;\n",
       "    }\n",
       "\n",
       "    .dataframe tbody tr th {\n",
       "        vertical-align: top;\n",
       "    }\n",
       "\n",
       "    .dataframe thead th {\n",
       "        text-align: right;\n",
       "    }\n",
       "</style>\n",
       "<table border=\"1\" class=\"dataframe\">\n",
       "  <thead>\n",
       "    <tr style=\"text-align: right;\">\n",
       "      <th></th>\n",
       "      <th>code</th>\n",
       "      <th>url</th>\n",
       "      <th>creator</th>\n",
       "      <th>created_t</th>\n",
       "      <th>created_datetime</th>\n",
       "      <th>last_modified_t</th>\n",
       "      <th>last_modified_datetime</th>\n",
       "      <th>product_name</th>\n",
       "      <th>generic_name</th>\n",
       "      <th>quantity</th>\n",
       "      <th>packaging</th>\n",
       "      <th>packaging_tags</th>\n",
       "      <th>brands</th>\n",
       "      <th>brands_tags</th>\n",
       "      <th>categories</th>\n",
       "      <th>categories_tags</th>\n",
       "      <th>categories_fr</th>\n",
       "      <th>origins</th>\n",
       "      <th>origins_tags</th>\n",
       "      <th>manufacturing_places</th>\n",
       "      <th>manufacturing_places_tags</th>\n",
       "      <th>labels</th>\n",
       "      <th>labels_tags</th>\n",
       "      <th>labels_fr</th>\n",
       "      <th>emb_codes</th>\n",
       "      <th>emb_codes_tags</th>\n",
       "      <th>first_packaging_code_geo</th>\n",
       "      <th>cities</th>\n",
       "      <th>cities_tags</th>\n",
       "      <th>purchase_places</th>\n",
       "      <th>stores</th>\n",
       "      <th>countries</th>\n",
       "      <th>countries_tags</th>\n",
       "      <th>countries_fr</th>\n",
       "      <th>ingredients_text</th>\n",
       "      <th>allergens</th>\n",
       "      <th>allergens_fr</th>\n",
       "      <th>traces</th>\n",
       "      <th>traces_tags</th>\n",
       "      <th>traces_fr</th>\n",
       "      <th>serving_size</th>\n",
       "      <th>no_nutriments</th>\n",
       "      <th>additives_n</th>\n",
       "      <th>additives</th>\n",
       "      <th>additives_tags</th>\n",
       "      <th>additives_fr</th>\n",
       "      <th>ingredients_from_palm_oil_n</th>\n",
       "      <th>ingredients_from_palm_oil</th>\n",
       "      <th>ingredients_from_palm_oil_tags</th>\n",
       "      <th>ingredients_that_may_be_from_palm_oil_n</th>\n",
       "      <th>ingredients_that_may_be_from_palm_oil</th>\n",
       "      <th>ingredients_that_may_be_from_palm_oil_tags</th>\n",
       "      <th>nutrition_grade_uk</th>\n",
       "      <th>nutrition_grade_fr</th>\n",
       "      <th>pnns_groups_1</th>\n",
       "      <th>pnns_groups_2</th>\n",
       "      <th>states</th>\n",
       "      <th>states_tags</th>\n",
       "      <th>states_fr</th>\n",
       "      <th>main_category</th>\n",
       "      <th>main_category_fr</th>\n",
       "      <th>image_url</th>\n",
       "      <th>image_small_url</th>\n",
       "      <th>energy_100g</th>\n",
       "      <th>energy-from-fat_100g</th>\n",
       "      <th>fat_100g</th>\n",
       "      <th>saturated-fat_100g</th>\n",
       "      <th>butyric-acid_100g</th>\n",
       "      <th>caproic-acid_100g</th>\n",
       "      <th>caprylic-acid_100g</th>\n",
       "      <th>capric-acid_100g</th>\n",
       "      <th>lauric-acid_100g</th>\n",
       "      <th>myristic-acid_100g</th>\n",
       "      <th>palmitic-acid_100g</th>\n",
       "      <th>stearic-acid_100g</th>\n",
       "      <th>arachidic-acid_100g</th>\n",
       "      <th>behenic-acid_100g</th>\n",
       "      <th>lignoceric-acid_100g</th>\n",
       "      <th>cerotic-acid_100g</th>\n",
       "      <th>montanic-acid_100g</th>\n",
       "      <th>melissic-acid_100g</th>\n",
       "      <th>monounsaturated-fat_100g</th>\n",
       "      <th>polyunsaturated-fat_100g</th>\n",
       "      <th>omega-3-fat_100g</th>\n",
       "      <th>alpha-linolenic-acid_100g</th>\n",
       "      <th>eicosapentaenoic-acid_100g</th>\n",
       "      <th>docosahexaenoic-acid_100g</th>\n",
       "      <th>omega-6-fat_100g</th>\n",
       "      <th>linoleic-acid_100g</th>\n",
       "      <th>arachidonic-acid_100g</th>\n",
       "      <th>gamma-linolenic-acid_100g</th>\n",
       "      <th>dihomo-gamma-linolenic-acid_100g</th>\n",
       "      <th>omega-9-fat_100g</th>\n",
       "      <th>oleic-acid_100g</th>\n",
       "      <th>elaidic-acid_100g</th>\n",
       "      <th>gondoic-acid_100g</th>\n",
       "      <th>mead-acid_100g</th>\n",
       "      <th>erucic-acid_100g</th>\n",
       "      <th>nervonic-acid_100g</th>\n",
       "      <th>trans-fat_100g</th>\n",
       "      <th>cholesterol_100g</th>\n",
       "      <th>carbohydrates_100g</th>\n",
       "      <th>sugars_100g</th>\n",
       "      <th>sucrose_100g</th>\n",
       "      <th>glucose_100g</th>\n",
       "      <th>fructose_100g</th>\n",
       "      <th>lactose_100g</th>\n",
       "      <th>maltose_100g</th>\n",
       "      <th>maltodextrins_100g</th>\n",
       "      <th>starch_100g</th>\n",
       "      <th>polyols_100g</th>\n",
       "      <th>fiber_100g</th>\n",
       "      <th>proteins_100g</th>\n",
       "      <th>casein_100g</th>\n",
       "      <th>serum-proteins_100g</th>\n",
       "      <th>nucleotides_100g</th>\n",
       "      <th>salt_100g</th>\n",
       "      <th>sodium_100g</th>\n",
       "      <th>alcohol_100g</th>\n",
       "      <th>vitamin-a_100g</th>\n",
       "      <th>beta-carotene_100g</th>\n",
       "      <th>vitamin-d_100g</th>\n",
       "      <th>vitamin-e_100g</th>\n",
       "      <th>vitamin-k_100g</th>\n",
       "      <th>vitamin-c_100g</th>\n",
       "      <th>vitamin-b1_100g</th>\n",
       "      <th>vitamin-b2_100g</th>\n",
       "      <th>vitamin-pp_100g</th>\n",
       "      <th>vitamin-b6_100g</th>\n",
       "      <th>vitamin-b9_100g</th>\n",
       "      <th>folates_100g</th>\n",
       "      <th>vitamin-b12_100g</th>\n",
       "      <th>biotin_100g</th>\n",
       "      <th>pantothenic-acid_100g</th>\n",
       "      <th>silica_100g</th>\n",
       "      <th>bicarbonate_100g</th>\n",
       "      <th>potassium_100g</th>\n",
       "      <th>chloride_100g</th>\n",
       "      <th>calcium_100g</th>\n",
       "      <th>phosphorus_100g</th>\n",
       "      <th>iron_100g</th>\n",
       "      <th>magnesium_100g</th>\n",
       "      <th>zinc_100g</th>\n",
       "      <th>copper_100g</th>\n",
       "      <th>manganese_100g</th>\n",
       "      <th>fluoride_100g</th>\n",
       "      <th>selenium_100g</th>\n",
       "      <th>chromium_100g</th>\n",
       "      <th>molybdenum_100g</th>\n",
       "      <th>iodine_100g</th>\n",
       "      <th>caffeine_100g</th>\n",
       "      <th>taurine_100g</th>\n",
       "      <th>ph_100g</th>\n",
       "      <th>fruits-vegetables-nuts_100g</th>\n",
       "      <th>collagen-meat-protein-ratio_100g</th>\n",
       "      <th>cocoa_100g</th>\n",
       "      <th>chlorophyl_100g</th>\n",
       "      <th>carbon-footprint_100g</th>\n",
       "      <th>nutrition-score-fr_100g</th>\n",
       "      <th>nutrition-score-uk_100g</th>\n",
       "      <th>glycemic-index_100g</th>\n",
       "      <th>water-hardness_100g</th>\n",
       "    </tr>\n",
       "  </thead>\n",
       "  <tbody>\n",
       "    <tr>\n",
       "      <th>0</th>\n",
       "      <td>0000000003087</td>\n",
       "      <td>http://world-fr.openfoodfacts.org/produit/0000...</td>\n",
       "      <td>openfoodfacts-contributors</td>\n",
       "      <td>1474103866</td>\n",
       "      <td>2016-09-17T09:17:46Z</td>\n",
       "      <td>1474103893</td>\n",
       "      <td>2016-09-17T09:18:13Z</td>\n",
       "      <td>Farine de blé noir</td>\n",
       "      <td>NaN</td>\n",
       "      <td>1kg</td>\n",
       "      <td>NaN</td>\n",
       "      <td>NaN</td>\n",
       "      <td>Ferme t'y R'nao</td>\n",
       "      <td>ferme-t-y-r-nao</td>\n",
       "      <td>NaN</td>\n",
       "      <td>NaN</td>\n",
       "      <td>NaN</td>\n",
       "      <td>NaN</td>\n",
       "      <td>NaN</td>\n",
       "      <td>NaN</td>\n",
       "      <td>NaN</td>\n",
       "      <td>NaN</td>\n",
       "      <td>NaN</td>\n",
       "      <td>NaN</td>\n",
       "      <td>NaN</td>\n",
       "      <td>NaN</td>\n",
       "      <td>NaN</td>\n",
       "      <td>NaN</td>\n",
       "      <td>NaN</td>\n",
       "      <td>NaN</td>\n",
       "      <td>NaN</td>\n",
       "      <td>en:FR</td>\n",
       "      <td>en:france</td>\n",
       "      <td>France</td>\n",
       "      <td>NaN</td>\n",
       "      <td>NaN</td>\n",
       "      <td>NaN</td>\n",
       "      <td>NaN</td>\n",
       "      <td>NaN</td>\n",
       "      <td>NaN</td>\n",
       "      <td>NaN</td>\n",
       "      <td>NaN</td>\n",
       "      <td>NaN</td>\n",
       "      <td>NaN</td>\n",
       "      <td>NaN</td>\n",
       "      <td>NaN</td>\n",
       "      <td>NaN</td>\n",
       "      <td>NaN</td>\n",
       "      <td>NaN</td>\n",
       "      <td>NaN</td>\n",
       "      <td>NaN</td>\n",
       "      <td>NaN</td>\n",
       "      <td>NaN</td>\n",
       "      <td>NaN</td>\n",
       "      <td>NaN</td>\n",
       "      <td>NaN</td>\n",
       "      <td>en:to-be-completed, en:nutrition-facts-to-be-c...</td>\n",
       "      <td>en:to-be-completed,en:nutrition-facts-to-be-co...</td>\n",
       "      <td>A compléter,Informations nutritionnelles à com...</td>\n",
       "      <td>NaN</td>\n",
       "      <td>NaN</td>\n",
       "      <td>NaN</td>\n",
       "      <td>NaN</td>\n",
       "      <td>NaN</td>\n",
       "      <td>NaN</td>\n",
       "      <td>NaN</td>\n",
       "      <td>NaN</td>\n",
       "      <td>NaN</td>\n",
       "      <td>NaN</td>\n",
       "      <td>NaN</td>\n",
       "      <td>NaN</td>\n",
       "      <td>NaN</td>\n",
       "      <td>NaN</td>\n",
       "      <td>NaN</td>\n",
       "      <td>NaN</td>\n",
       "      <td>NaN</td>\n",
       "      <td>NaN</td>\n",
       "      <td>NaN</td>\n",
       "      <td>NaN</td>\n",
       "      <td>NaN</td>\n",
       "      <td>NaN</td>\n",
       "      <td>NaN</td>\n",
       "      <td>NaN</td>\n",
       "      <td>NaN</td>\n",
       "      <td>NaN</td>\n",
       "      <td>NaN</td>\n",
       "      <td>NaN</td>\n",
       "      <td>NaN</td>\n",
       "      <td>NaN</td>\n",
       "      <td>NaN</td>\n",
       "      <td>NaN</td>\n",
       "      <td>NaN</td>\n",
       "      <td>NaN</td>\n",
       "      <td>NaN</td>\n",
       "      <td>NaN</td>\n",
       "      <td>NaN</td>\n",
       "      <td>NaN</td>\n",
       "      <td>NaN</td>\n",
       "      <td>NaN</td>\n",
       "      <td>NaN</td>\n",
       "      <td>NaN</td>\n",
       "      <td>NaN</td>\n",
       "      <td>NaN</td>\n",
       "      <td>NaN</td>\n",
       "      <td>NaN</td>\n",
       "      <td>NaN</td>\n",
       "      <td>NaN</td>\n",
       "      <td>NaN</td>\n",
       "      <td>NaN</td>\n",
       "      <td>NaN</td>\n",
       "      <td>NaN</td>\n",
       "      <td>NaN</td>\n",
       "      <td>NaN</td>\n",
       "      <td>NaN</td>\n",
       "      <td>NaN</td>\n",
       "      <td>NaN</td>\n",
       "      <td>NaN</td>\n",
       "      <td>NaN</td>\n",
       "      <td>NaN</td>\n",
       "      <td>NaN</td>\n",
       "      <td>NaN</td>\n",
       "      <td>NaN</td>\n",
       "      <td>NaN</td>\n",
       "      <td>NaN</td>\n",
       "      <td>NaN</td>\n",
       "      <td>NaN</td>\n",
       "      <td>NaN</td>\n",
       "      <td>NaN</td>\n",
       "      <td>NaN</td>\n",
       "      <td>NaN</td>\n",
       "      <td>NaN</td>\n",
       "      <td>NaN</td>\n",
       "      <td>NaN</td>\n",
       "      <td>NaN</td>\n",
       "      <td>NaN</td>\n",
       "      <td>NaN</td>\n",
       "      <td>NaN</td>\n",
       "      <td>NaN</td>\n",
       "      <td>NaN</td>\n",
       "      <td>NaN</td>\n",
       "      <td>NaN</td>\n",
       "      <td>NaN</td>\n",
       "      <td>NaN</td>\n",
       "      <td>NaN</td>\n",
       "      <td>NaN</td>\n",
       "      <td>NaN</td>\n",
       "      <td>NaN</td>\n",
       "      <td>NaN</td>\n",
       "      <td>NaN</td>\n",
       "      <td>NaN</td>\n",
       "      <td>NaN</td>\n",
       "      <td>NaN</td>\n",
       "      <td>NaN</td>\n",
       "      <td>NaN</td>\n",
       "      <td>NaN</td>\n",
       "      <td>NaN</td>\n",
       "      <td>NaN</td>\n",
       "      <td>NaN</td>\n",
       "      <td>NaN</td>\n",
       "      <td>NaN</td>\n",
       "      <td>NaN</td>\n",
       "      <td>NaN</td>\n",
       "    </tr>\n",
       "    <tr>\n",
       "      <th>1</th>\n",
       "      <td>0000000004530</td>\n",
       "      <td>http://world-fr.openfoodfacts.org/produit/0000...</td>\n",
       "      <td>usda-ndb-import</td>\n",
       "      <td>1489069957</td>\n",
       "      <td>2017-03-09T14:32:37Z</td>\n",
       "      <td>1489069957</td>\n",
       "      <td>2017-03-09T14:32:37Z</td>\n",
       "      <td>Banana Chips Sweetened (Whole)</td>\n",
       "      <td>NaN</td>\n",
       "      <td>NaN</td>\n",
       "      <td>NaN</td>\n",
       "      <td>NaN</td>\n",
       "      <td>NaN</td>\n",
       "      <td>NaN</td>\n",
       "      <td>NaN</td>\n",
       "      <td>NaN</td>\n",
       "      <td>NaN</td>\n",
       "      <td>NaN</td>\n",
       "      <td>NaN</td>\n",
       "      <td>NaN</td>\n",
       "      <td>NaN</td>\n",
       "      <td>NaN</td>\n",
       "      <td>NaN</td>\n",
       "      <td>NaN</td>\n",
       "      <td>NaN</td>\n",
       "      <td>NaN</td>\n",
       "      <td>NaN</td>\n",
       "      <td>NaN</td>\n",
       "      <td>NaN</td>\n",
       "      <td>NaN</td>\n",
       "      <td>NaN</td>\n",
       "      <td>US</td>\n",
       "      <td>en:united-states</td>\n",
       "      <td>États-Unis</td>\n",
       "      <td>Bananas, vegetable oil (coconut oil, corn oil ...</td>\n",
       "      <td>NaN</td>\n",
       "      <td>NaN</td>\n",
       "      <td>NaN</td>\n",
       "      <td>NaN</td>\n",
       "      <td>NaN</td>\n",
       "      <td>28 g (1 ONZ)</td>\n",
       "      <td>NaN</td>\n",
       "      <td>0.0</td>\n",
       "      <td>[ bananas -&gt; en:bananas  ]  [ vegetable-oil -...</td>\n",
       "      <td>NaN</td>\n",
       "      <td>NaN</td>\n",
       "      <td>0.0</td>\n",
       "      <td>NaN</td>\n",
       "      <td>NaN</td>\n",
       "      <td>0.0</td>\n",
       "      <td>NaN</td>\n",
       "      <td>NaN</td>\n",
       "      <td>NaN</td>\n",
       "      <td>d</td>\n",
       "      <td>NaN</td>\n",
       "      <td>NaN</td>\n",
       "      <td>en:to-be-completed, en:nutrition-facts-complet...</td>\n",
       "      <td>en:to-be-completed,en:nutrition-facts-complete...</td>\n",
       "      <td>A compléter,Informations nutritionnelles compl...</td>\n",
       "      <td>NaN</td>\n",
       "      <td>NaN</td>\n",
       "      <td>NaN</td>\n",
       "      <td>NaN</td>\n",
       "      <td>2243.0</td>\n",
       "      <td>NaN</td>\n",
       "      <td>28.57</td>\n",
       "      <td>28.57</td>\n",
       "      <td>NaN</td>\n",
       "      <td>NaN</td>\n",
       "      <td>NaN</td>\n",
       "      <td>NaN</td>\n",
       "      <td>NaN</td>\n",
       "      <td>NaN</td>\n",
       "      <td>NaN</td>\n",
       "      <td>NaN</td>\n",
       "      <td>NaN</td>\n",
       "      <td>NaN</td>\n",
       "      <td>NaN</td>\n",
       "      <td>NaN</td>\n",
       "      <td>NaN</td>\n",
       "      <td>NaN</td>\n",
       "      <td>NaN</td>\n",
       "      <td>NaN</td>\n",
       "      <td>NaN</td>\n",
       "      <td>NaN</td>\n",
       "      <td>NaN</td>\n",
       "      <td>NaN</td>\n",
       "      <td>NaN</td>\n",
       "      <td>NaN</td>\n",
       "      <td>NaN</td>\n",
       "      <td>NaN</td>\n",
       "      <td>NaN</td>\n",
       "      <td>NaN</td>\n",
       "      <td>NaN</td>\n",
       "      <td>NaN</td>\n",
       "      <td>NaN</td>\n",
       "      <td>NaN</td>\n",
       "      <td>NaN</td>\n",
       "      <td>NaN</td>\n",
       "      <td>0.0</td>\n",
       "      <td>0.018</td>\n",
       "      <td>64.29</td>\n",
       "      <td>14.29</td>\n",
       "      <td>NaN</td>\n",
       "      <td>NaN</td>\n",
       "      <td>NaN</td>\n",
       "      <td>NaN</td>\n",
       "      <td>NaN</td>\n",
       "      <td>NaN</td>\n",
       "      <td>NaN</td>\n",
       "      <td>NaN</td>\n",
       "      <td>3.6</td>\n",
       "      <td>3.57</td>\n",
       "      <td>NaN</td>\n",
       "      <td>NaN</td>\n",
       "      <td>NaN</td>\n",
       "      <td>0.00000</td>\n",
       "      <td>0.000</td>\n",
       "      <td>NaN</td>\n",
       "      <td>0.0</td>\n",
       "      <td>NaN</td>\n",
       "      <td>NaN</td>\n",
       "      <td>NaN</td>\n",
       "      <td>NaN</td>\n",
       "      <td>0.0214</td>\n",
       "      <td>NaN</td>\n",
       "      <td>NaN</td>\n",
       "      <td>NaN</td>\n",
       "      <td>NaN</td>\n",
       "      <td>NaN</td>\n",
       "      <td>NaN</td>\n",
       "      <td>NaN</td>\n",
       "      <td>NaN</td>\n",
       "      <td>NaN</td>\n",
       "      <td>NaN</td>\n",
       "      <td>NaN</td>\n",
       "      <td>NaN</td>\n",
       "      <td>NaN</td>\n",
       "      <td>0.000</td>\n",
       "      <td>NaN</td>\n",
       "      <td>0.00129</td>\n",
       "      <td>NaN</td>\n",
       "      <td>NaN</td>\n",
       "      <td>NaN</td>\n",
       "      <td>NaN</td>\n",
       "      <td>NaN</td>\n",
       "      <td>NaN</td>\n",
       "      <td>NaN</td>\n",
       "      <td>NaN</td>\n",
       "      <td>NaN</td>\n",
       "      <td>NaN</td>\n",
       "      <td>NaN</td>\n",
       "      <td>NaN</td>\n",
       "      <td>NaN</td>\n",
       "      <td>NaN</td>\n",
       "      <td>NaN</td>\n",
       "      <td>NaN</td>\n",
       "      <td>NaN</td>\n",
       "      <td>14.0</td>\n",
       "      <td>14.0</td>\n",
       "      <td>NaN</td>\n",
       "      <td>NaN</td>\n",
       "    </tr>\n",
       "    <tr>\n",
       "      <th>2</th>\n",
       "      <td>0000000004559</td>\n",
       "      <td>http://world-fr.openfoodfacts.org/produit/0000...</td>\n",
       "      <td>usda-ndb-import</td>\n",
       "      <td>1489069957</td>\n",
       "      <td>2017-03-09T14:32:37Z</td>\n",
       "      <td>1489069957</td>\n",
       "      <td>2017-03-09T14:32:37Z</td>\n",
       "      <td>Peanuts</td>\n",
       "      <td>NaN</td>\n",
       "      <td>NaN</td>\n",
       "      <td>NaN</td>\n",
       "      <td>NaN</td>\n",
       "      <td>Torn &amp; Glasser</td>\n",
       "      <td>torn-glasser</td>\n",
       "      <td>NaN</td>\n",
       "      <td>NaN</td>\n",
       "      <td>NaN</td>\n",
       "      <td>NaN</td>\n",
       "      <td>NaN</td>\n",
       "      <td>NaN</td>\n",
       "      <td>NaN</td>\n",
       "      <td>NaN</td>\n",
       "      <td>NaN</td>\n",
       "      <td>NaN</td>\n",
       "      <td>NaN</td>\n",
       "      <td>NaN</td>\n",
       "      <td>NaN</td>\n",
       "      <td>NaN</td>\n",
       "      <td>NaN</td>\n",
       "      <td>NaN</td>\n",
       "      <td>NaN</td>\n",
       "      <td>US</td>\n",
       "      <td>en:united-states</td>\n",
       "      <td>États-Unis</td>\n",
       "      <td>Peanuts, wheat flour, sugar, rice flour, tapio...</td>\n",
       "      <td>NaN</td>\n",
       "      <td>NaN</td>\n",
       "      <td>NaN</td>\n",
       "      <td>NaN</td>\n",
       "      <td>NaN</td>\n",
       "      <td>28 g (0.25 cup)</td>\n",
       "      <td>NaN</td>\n",
       "      <td>0.0</td>\n",
       "      <td>[ peanuts -&gt; en:peanuts  ]  [ wheat-flour -&gt; ...</td>\n",
       "      <td>NaN</td>\n",
       "      <td>NaN</td>\n",
       "      <td>0.0</td>\n",
       "      <td>NaN</td>\n",
       "      <td>NaN</td>\n",
       "      <td>0.0</td>\n",
       "      <td>NaN</td>\n",
       "      <td>NaN</td>\n",
       "      <td>NaN</td>\n",
       "      <td>b</td>\n",
       "      <td>NaN</td>\n",
       "      <td>NaN</td>\n",
       "      <td>en:to-be-completed, en:nutrition-facts-complet...</td>\n",
       "      <td>en:to-be-completed,en:nutrition-facts-complete...</td>\n",
       "      <td>A compléter,Informations nutritionnelles compl...</td>\n",
       "      <td>NaN</td>\n",
       "      <td>NaN</td>\n",
       "      <td>NaN</td>\n",
       "      <td>NaN</td>\n",
       "      <td>1941.0</td>\n",
       "      <td>NaN</td>\n",
       "      <td>17.86</td>\n",
       "      <td>0.00</td>\n",
       "      <td>NaN</td>\n",
       "      <td>NaN</td>\n",
       "      <td>NaN</td>\n",
       "      <td>NaN</td>\n",
       "      <td>NaN</td>\n",
       "      <td>NaN</td>\n",
       "      <td>NaN</td>\n",
       "      <td>NaN</td>\n",
       "      <td>NaN</td>\n",
       "      <td>NaN</td>\n",
       "      <td>NaN</td>\n",
       "      <td>NaN</td>\n",
       "      <td>NaN</td>\n",
       "      <td>NaN</td>\n",
       "      <td>NaN</td>\n",
       "      <td>NaN</td>\n",
       "      <td>NaN</td>\n",
       "      <td>NaN</td>\n",
       "      <td>NaN</td>\n",
       "      <td>NaN</td>\n",
       "      <td>NaN</td>\n",
       "      <td>NaN</td>\n",
       "      <td>NaN</td>\n",
       "      <td>NaN</td>\n",
       "      <td>NaN</td>\n",
       "      <td>NaN</td>\n",
       "      <td>NaN</td>\n",
       "      <td>NaN</td>\n",
       "      <td>NaN</td>\n",
       "      <td>NaN</td>\n",
       "      <td>NaN</td>\n",
       "      <td>NaN</td>\n",
       "      <td>0.0</td>\n",
       "      <td>0.000</td>\n",
       "      <td>60.71</td>\n",
       "      <td>17.86</td>\n",
       "      <td>NaN</td>\n",
       "      <td>NaN</td>\n",
       "      <td>NaN</td>\n",
       "      <td>NaN</td>\n",
       "      <td>NaN</td>\n",
       "      <td>NaN</td>\n",
       "      <td>NaN</td>\n",
       "      <td>NaN</td>\n",
       "      <td>7.1</td>\n",
       "      <td>17.86</td>\n",
       "      <td>NaN</td>\n",
       "      <td>NaN</td>\n",
       "      <td>NaN</td>\n",
       "      <td>0.63500</td>\n",
       "      <td>0.250</td>\n",
       "      <td>NaN</td>\n",
       "      <td>0.0</td>\n",
       "      <td>NaN</td>\n",
       "      <td>NaN</td>\n",
       "      <td>NaN</td>\n",
       "      <td>NaN</td>\n",
       "      <td>0.0000</td>\n",
       "      <td>NaN</td>\n",
       "      <td>NaN</td>\n",
       "      <td>NaN</td>\n",
       "      <td>NaN</td>\n",
       "      <td>NaN</td>\n",
       "      <td>NaN</td>\n",
       "      <td>NaN</td>\n",
       "      <td>NaN</td>\n",
       "      <td>NaN</td>\n",
       "      <td>NaN</td>\n",
       "      <td>NaN</td>\n",
       "      <td>NaN</td>\n",
       "      <td>NaN</td>\n",
       "      <td>0.071</td>\n",
       "      <td>NaN</td>\n",
       "      <td>0.00129</td>\n",
       "      <td>NaN</td>\n",
       "      <td>NaN</td>\n",
       "      <td>NaN</td>\n",
       "      <td>NaN</td>\n",
       "      <td>NaN</td>\n",
       "      <td>NaN</td>\n",
       "      <td>NaN</td>\n",
       "      <td>NaN</td>\n",
       "      <td>NaN</td>\n",
       "      <td>NaN</td>\n",
       "      <td>NaN</td>\n",
       "      <td>NaN</td>\n",
       "      <td>NaN</td>\n",
       "      <td>NaN</td>\n",
       "      <td>NaN</td>\n",
       "      <td>NaN</td>\n",
       "      <td>NaN</td>\n",
       "      <td>0.0</td>\n",
       "      <td>0.0</td>\n",
       "      <td>NaN</td>\n",
       "      <td>NaN</td>\n",
       "    </tr>\n",
       "    <tr>\n",
       "      <th>3</th>\n",
       "      <td>0000000016087</td>\n",
       "      <td>http://world-fr.openfoodfacts.org/produit/0000...</td>\n",
       "      <td>usda-ndb-import</td>\n",
       "      <td>1489055731</td>\n",
       "      <td>2017-03-09T10:35:31Z</td>\n",
       "      <td>1489055731</td>\n",
       "      <td>2017-03-09T10:35:31Z</td>\n",
       "      <td>Organic Salted Nut Mix</td>\n",
       "      <td>NaN</td>\n",
       "      <td>NaN</td>\n",
       "      <td>NaN</td>\n",
       "      <td>NaN</td>\n",
       "      <td>Grizzlies</td>\n",
       "      <td>grizzlies</td>\n",
       "      <td>NaN</td>\n",
       "      <td>NaN</td>\n",
       "      <td>NaN</td>\n",
       "      <td>NaN</td>\n",
       "      <td>NaN</td>\n",
       "      <td>NaN</td>\n",
       "      <td>NaN</td>\n",
       "      <td>NaN</td>\n",
       "      <td>NaN</td>\n",
       "      <td>NaN</td>\n",
       "      <td>NaN</td>\n",
       "      <td>NaN</td>\n",
       "      <td>NaN</td>\n",
       "      <td>NaN</td>\n",
       "      <td>NaN</td>\n",
       "      <td>NaN</td>\n",
       "      <td>NaN</td>\n",
       "      <td>US</td>\n",
       "      <td>en:united-states</td>\n",
       "      <td>États-Unis</td>\n",
       "      <td>Organic hazelnuts, organic cashews, organic wa...</td>\n",
       "      <td>NaN</td>\n",
       "      <td>NaN</td>\n",
       "      <td>NaN</td>\n",
       "      <td>NaN</td>\n",
       "      <td>NaN</td>\n",
       "      <td>28 g (0.25 cup)</td>\n",
       "      <td>NaN</td>\n",
       "      <td>0.0</td>\n",
       "      <td>[ organic-hazelnuts -&gt; en:organic-hazelnuts  ...</td>\n",
       "      <td>NaN</td>\n",
       "      <td>NaN</td>\n",
       "      <td>0.0</td>\n",
       "      <td>NaN</td>\n",
       "      <td>NaN</td>\n",
       "      <td>0.0</td>\n",
       "      <td>NaN</td>\n",
       "      <td>NaN</td>\n",
       "      <td>NaN</td>\n",
       "      <td>d</td>\n",
       "      <td>NaN</td>\n",
       "      <td>NaN</td>\n",
       "      <td>en:to-be-completed, en:nutrition-facts-complet...</td>\n",
       "      <td>en:to-be-completed,en:nutrition-facts-complete...</td>\n",
       "      <td>A compléter,Informations nutritionnelles compl...</td>\n",
       "      <td>NaN</td>\n",
       "      <td>NaN</td>\n",
       "      <td>NaN</td>\n",
       "      <td>NaN</td>\n",
       "      <td>2540.0</td>\n",
       "      <td>NaN</td>\n",
       "      <td>57.14</td>\n",
       "      <td>5.36</td>\n",
       "      <td>NaN</td>\n",
       "      <td>NaN</td>\n",
       "      <td>NaN</td>\n",
       "      <td>NaN</td>\n",
       "      <td>NaN</td>\n",
       "      <td>NaN</td>\n",
       "      <td>NaN</td>\n",
       "      <td>NaN</td>\n",
       "      <td>NaN</td>\n",
       "      <td>NaN</td>\n",
       "      <td>NaN</td>\n",
       "      <td>NaN</td>\n",
       "      <td>NaN</td>\n",
       "      <td>NaN</td>\n",
       "      <td>NaN</td>\n",
       "      <td>NaN</td>\n",
       "      <td>NaN</td>\n",
       "      <td>NaN</td>\n",
       "      <td>NaN</td>\n",
       "      <td>NaN</td>\n",
       "      <td>NaN</td>\n",
       "      <td>NaN</td>\n",
       "      <td>NaN</td>\n",
       "      <td>NaN</td>\n",
       "      <td>NaN</td>\n",
       "      <td>NaN</td>\n",
       "      <td>NaN</td>\n",
       "      <td>NaN</td>\n",
       "      <td>NaN</td>\n",
       "      <td>NaN</td>\n",
       "      <td>NaN</td>\n",
       "      <td>NaN</td>\n",
       "      <td>NaN</td>\n",
       "      <td>NaN</td>\n",
       "      <td>17.86</td>\n",
       "      <td>3.57</td>\n",
       "      <td>NaN</td>\n",
       "      <td>NaN</td>\n",
       "      <td>NaN</td>\n",
       "      <td>NaN</td>\n",
       "      <td>NaN</td>\n",
       "      <td>NaN</td>\n",
       "      <td>NaN</td>\n",
       "      <td>NaN</td>\n",
       "      <td>7.1</td>\n",
       "      <td>17.86</td>\n",
       "      <td>NaN</td>\n",
       "      <td>NaN</td>\n",
       "      <td>NaN</td>\n",
       "      <td>1.22428</td>\n",
       "      <td>0.482</td>\n",
       "      <td>NaN</td>\n",
       "      <td>NaN</td>\n",
       "      <td>NaN</td>\n",
       "      <td>NaN</td>\n",
       "      <td>NaN</td>\n",
       "      <td>NaN</td>\n",
       "      <td>NaN</td>\n",
       "      <td>NaN</td>\n",
       "      <td>NaN</td>\n",
       "      <td>NaN</td>\n",
       "      <td>NaN</td>\n",
       "      <td>NaN</td>\n",
       "      <td>NaN</td>\n",
       "      <td>NaN</td>\n",
       "      <td>NaN</td>\n",
       "      <td>NaN</td>\n",
       "      <td>NaN</td>\n",
       "      <td>NaN</td>\n",
       "      <td>NaN</td>\n",
       "      <td>NaN</td>\n",
       "      <td>0.143</td>\n",
       "      <td>NaN</td>\n",
       "      <td>0.00514</td>\n",
       "      <td>NaN</td>\n",
       "      <td>NaN</td>\n",
       "      <td>NaN</td>\n",
       "      <td>NaN</td>\n",
       "      <td>NaN</td>\n",
       "      <td>NaN</td>\n",
       "      <td>NaN</td>\n",
       "      <td>NaN</td>\n",
       "      <td>NaN</td>\n",
       "      <td>NaN</td>\n",
       "      <td>NaN</td>\n",
       "      <td>NaN</td>\n",
       "      <td>NaN</td>\n",
       "      <td>NaN</td>\n",
       "      <td>NaN</td>\n",
       "      <td>NaN</td>\n",
       "      <td>NaN</td>\n",
       "      <td>12.0</td>\n",
       "      <td>12.0</td>\n",
       "      <td>NaN</td>\n",
       "      <td>NaN</td>\n",
       "    </tr>\n",
       "    <tr>\n",
       "      <th>4</th>\n",
       "      <td>0000000016094</td>\n",
       "      <td>http://world-fr.openfoodfacts.org/produit/0000...</td>\n",
       "      <td>usda-ndb-import</td>\n",
       "      <td>1489055653</td>\n",
       "      <td>2017-03-09T10:34:13Z</td>\n",
       "      <td>1489055653</td>\n",
       "      <td>2017-03-09T10:34:13Z</td>\n",
       "      <td>Organic Polenta</td>\n",
       "      <td>NaN</td>\n",
       "      <td>NaN</td>\n",
       "      <td>NaN</td>\n",
       "      <td>NaN</td>\n",
       "      <td>Bob's Red Mill</td>\n",
       "      <td>bob-s-red-mill</td>\n",
       "      <td>NaN</td>\n",
       "      <td>NaN</td>\n",
       "      <td>NaN</td>\n",
       "      <td>NaN</td>\n",
       "      <td>NaN</td>\n",
       "      <td>NaN</td>\n",
       "      <td>NaN</td>\n",
       "      <td>NaN</td>\n",
       "      <td>NaN</td>\n",
       "      <td>NaN</td>\n",
       "      <td>NaN</td>\n",
       "      <td>NaN</td>\n",
       "      <td>NaN</td>\n",
       "      <td>NaN</td>\n",
       "      <td>NaN</td>\n",
       "      <td>NaN</td>\n",
       "      <td>NaN</td>\n",
       "      <td>US</td>\n",
       "      <td>en:united-states</td>\n",
       "      <td>États-Unis</td>\n",
       "      <td>Organic polenta</td>\n",
       "      <td>NaN</td>\n",
       "      <td>NaN</td>\n",
       "      <td>NaN</td>\n",
       "      <td>NaN</td>\n",
       "      <td>NaN</td>\n",
       "      <td>35 g (0.25 cup)</td>\n",
       "      <td>NaN</td>\n",
       "      <td>0.0</td>\n",
       "      <td>[ organic-polenta -&gt; en:organic-polenta  ]  [...</td>\n",
       "      <td>NaN</td>\n",
       "      <td>NaN</td>\n",
       "      <td>0.0</td>\n",
       "      <td>NaN</td>\n",
       "      <td>NaN</td>\n",
       "      <td>0.0</td>\n",
       "      <td>NaN</td>\n",
       "      <td>NaN</td>\n",
       "      <td>NaN</td>\n",
       "      <td>NaN</td>\n",
       "      <td>NaN</td>\n",
       "      <td>NaN</td>\n",
       "      <td>en:to-be-completed, en:nutrition-facts-complet...</td>\n",
       "      <td>en:to-be-completed,en:nutrition-facts-complete...</td>\n",
       "      <td>A compléter,Informations nutritionnelles compl...</td>\n",
       "      <td>NaN</td>\n",
       "      <td>NaN</td>\n",
       "      <td>NaN</td>\n",
       "      <td>NaN</td>\n",
       "      <td>1552.0</td>\n",
       "      <td>NaN</td>\n",
       "      <td>1.43</td>\n",
       "      <td>NaN</td>\n",
       "      <td>NaN</td>\n",
       "      <td>NaN</td>\n",
       "      <td>NaN</td>\n",
       "      <td>NaN</td>\n",
       "      <td>NaN</td>\n",
       "      <td>NaN</td>\n",
       "      <td>NaN</td>\n",
       "      <td>NaN</td>\n",
       "      <td>NaN</td>\n",
       "      <td>NaN</td>\n",
       "      <td>NaN</td>\n",
       "      <td>NaN</td>\n",
       "      <td>NaN</td>\n",
       "      <td>NaN</td>\n",
       "      <td>NaN</td>\n",
       "      <td>NaN</td>\n",
       "      <td>NaN</td>\n",
       "      <td>NaN</td>\n",
       "      <td>NaN</td>\n",
       "      <td>NaN</td>\n",
       "      <td>NaN</td>\n",
       "      <td>NaN</td>\n",
       "      <td>NaN</td>\n",
       "      <td>NaN</td>\n",
       "      <td>NaN</td>\n",
       "      <td>NaN</td>\n",
       "      <td>NaN</td>\n",
       "      <td>NaN</td>\n",
       "      <td>NaN</td>\n",
       "      <td>NaN</td>\n",
       "      <td>NaN</td>\n",
       "      <td>NaN</td>\n",
       "      <td>NaN</td>\n",
       "      <td>NaN</td>\n",
       "      <td>77.14</td>\n",
       "      <td>NaN</td>\n",
       "      <td>NaN</td>\n",
       "      <td>NaN</td>\n",
       "      <td>NaN</td>\n",
       "      <td>NaN</td>\n",
       "      <td>NaN</td>\n",
       "      <td>NaN</td>\n",
       "      <td>NaN</td>\n",
       "      <td>NaN</td>\n",
       "      <td>5.7</td>\n",
       "      <td>8.57</td>\n",
       "      <td>NaN</td>\n",
       "      <td>NaN</td>\n",
       "      <td>NaN</td>\n",
       "      <td>NaN</td>\n",
       "      <td>NaN</td>\n",
       "      <td>NaN</td>\n",
       "      <td>NaN</td>\n",
       "      <td>NaN</td>\n",
       "      <td>NaN</td>\n",
       "      <td>NaN</td>\n",
       "      <td>NaN</td>\n",
       "      <td>NaN</td>\n",
       "      <td>NaN</td>\n",
       "      <td>NaN</td>\n",
       "      <td>NaN</td>\n",
       "      <td>NaN</td>\n",
       "      <td>NaN</td>\n",
       "      <td>NaN</td>\n",
       "      <td>NaN</td>\n",
       "      <td>NaN</td>\n",
       "      <td>NaN</td>\n",
       "      <td>NaN</td>\n",
       "      <td>NaN</td>\n",
       "      <td>NaN</td>\n",
       "      <td>NaN</td>\n",
       "      <td>NaN</td>\n",
       "      <td>NaN</td>\n",
       "      <td>NaN</td>\n",
       "      <td>NaN</td>\n",
       "      <td>NaN</td>\n",
       "      <td>NaN</td>\n",
       "      <td>NaN</td>\n",
       "      <td>NaN</td>\n",
       "      <td>NaN</td>\n",
       "      <td>NaN</td>\n",
       "      <td>NaN</td>\n",
       "      <td>NaN</td>\n",
       "      <td>NaN</td>\n",
       "      <td>NaN</td>\n",
       "      <td>NaN</td>\n",
       "      <td>NaN</td>\n",
       "      <td>NaN</td>\n",
       "      <td>NaN</td>\n",
       "      <td>NaN</td>\n",
       "      <td>NaN</td>\n",
       "      <td>NaN</td>\n",
       "      <td>NaN</td>\n",
       "      <td>NaN</td>\n",
       "      <td>NaN</td>\n",
       "    </tr>\n",
       "  </tbody>\n",
       "</table>\n",
       "</div>"
      ],
      "text/plain": [
       "            code                                                url  \\\n",
       "0  0000000003087  http://world-fr.openfoodfacts.org/produit/0000...   \n",
       "1  0000000004530  http://world-fr.openfoodfacts.org/produit/0000...   \n",
       "2  0000000004559  http://world-fr.openfoodfacts.org/produit/0000...   \n",
       "3  0000000016087  http://world-fr.openfoodfacts.org/produit/0000...   \n",
       "4  0000000016094  http://world-fr.openfoodfacts.org/produit/0000...   \n",
       "\n",
       "                      creator   created_t      created_datetime  \\\n",
       "0  openfoodfacts-contributors  1474103866  2016-09-17T09:17:46Z   \n",
       "1             usda-ndb-import  1489069957  2017-03-09T14:32:37Z   \n",
       "2             usda-ndb-import  1489069957  2017-03-09T14:32:37Z   \n",
       "3             usda-ndb-import  1489055731  2017-03-09T10:35:31Z   \n",
       "4             usda-ndb-import  1489055653  2017-03-09T10:34:13Z   \n",
       "\n",
       "  last_modified_t last_modified_datetime                    product_name  \\\n",
       "0      1474103893   2016-09-17T09:18:13Z              Farine de blé noir   \n",
       "1      1489069957   2017-03-09T14:32:37Z  Banana Chips Sweetened (Whole)   \n",
       "2      1489069957   2017-03-09T14:32:37Z                         Peanuts   \n",
       "3      1489055731   2017-03-09T10:35:31Z          Organic Salted Nut Mix   \n",
       "4      1489055653   2017-03-09T10:34:13Z                 Organic Polenta   \n",
       "\n",
       "  generic_name quantity packaging packaging_tags           brands  \\\n",
       "0          NaN      1kg       NaN            NaN  Ferme t'y R'nao   \n",
       "1          NaN      NaN       NaN            NaN              NaN   \n",
       "2          NaN      NaN       NaN            NaN   Torn & Glasser   \n",
       "3          NaN      NaN       NaN            NaN        Grizzlies   \n",
       "4          NaN      NaN       NaN            NaN   Bob's Red Mill   \n",
       "\n",
       "       brands_tags categories categories_tags categories_fr origins  \\\n",
       "0  ferme-t-y-r-nao        NaN             NaN           NaN     NaN   \n",
       "1              NaN        NaN             NaN           NaN     NaN   \n",
       "2     torn-glasser        NaN             NaN           NaN     NaN   \n",
       "3        grizzlies        NaN             NaN           NaN     NaN   \n",
       "4   bob-s-red-mill        NaN             NaN           NaN     NaN   \n",
       "\n",
       "  origins_tags manufacturing_places manufacturing_places_tags labels  \\\n",
       "0          NaN                  NaN                       NaN    NaN   \n",
       "1          NaN                  NaN                       NaN    NaN   \n",
       "2          NaN                  NaN                       NaN    NaN   \n",
       "3          NaN                  NaN                       NaN    NaN   \n",
       "4          NaN                  NaN                       NaN    NaN   \n",
       "\n",
       "  labels_tags labels_fr emb_codes emb_codes_tags first_packaging_code_geo  \\\n",
       "0         NaN       NaN       NaN            NaN                      NaN   \n",
       "1         NaN       NaN       NaN            NaN                      NaN   \n",
       "2         NaN       NaN       NaN            NaN                      NaN   \n",
       "3         NaN       NaN       NaN            NaN                      NaN   \n",
       "4         NaN       NaN       NaN            NaN                      NaN   \n",
       "\n",
       "  cities cities_tags purchase_places stores countries    countries_tags  \\\n",
       "0    NaN         NaN             NaN    NaN     en:FR         en:france   \n",
       "1    NaN         NaN             NaN    NaN        US  en:united-states   \n",
       "2    NaN         NaN             NaN    NaN        US  en:united-states   \n",
       "3    NaN         NaN             NaN    NaN        US  en:united-states   \n",
       "4    NaN         NaN             NaN    NaN        US  en:united-states   \n",
       "\n",
       "  countries_fr                                   ingredients_text allergens  \\\n",
       "0       France                                                NaN       NaN   \n",
       "1   États-Unis  Bananas, vegetable oil (coconut oil, corn oil ...       NaN   \n",
       "2   États-Unis  Peanuts, wheat flour, sugar, rice flour, tapio...       NaN   \n",
       "3   États-Unis  Organic hazelnuts, organic cashews, organic wa...       NaN   \n",
       "4   États-Unis                                    Organic polenta       NaN   \n",
       "\n",
       "  allergens_fr traces traces_tags traces_fr     serving_size  no_nutriments  \\\n",
       "0          NaN    NaN         NaN       NaN              NaN            NaN   \n",
       "1          NaN    NaN         NaN       NaN     28 g (1 ONZ)            NaN   \n",
       "2          NaN    NaN         NaN       NaN  28 g (0.25 cup)            NaN   \n",
       "3          NaN    NaN         NaN       NaN  28 g (0.25 cup)            NaN   \n",
       "4          NaN    NaN         NaN       NaN  35 g (0.25 cup)            NaN   \n",
       "\n",
       "   additives_n                                          additives  \\\n",
       "0          NaN                                                NaN   \n",
       "1          0.0   [ bananas -> en:bananas  ]  [ vegetable-oil -...   \n",
       "2          0.0   [ peanuts -> en:peanuts  ]  [ wheat-flour -> ...   \n",
       "3          0.0   [ organic-hazelnuts -> en:organic-hazelnuts  ...   \n",
       "4          0.0   [ organic-polenta -> en:organic-polenta  ]  [...   \n",
       "\n",
       "  additives_tags additives_fr  ingredients_from_palm_oil_n  \\\n",
       "0            NaN          NaN                          NaN   \n",
       "1            NaN          NaN                          0.0   \n",
       "2            NaN          NaN                          0.0   \n",
       "3            NaN          NaN                          0.0   \n",
       "4            NaN          NaN                          0.0   \n",
       "\n",
       "   ingredients_from_palm_oil ingredients_from_palm_oil_tags  \\\n",
       "0                        NaN                            NaN   \n",
       "1                        NaN                            NaN   \n",
       "2                        NaN                            NaN   \n",
       "3                        NaN                            NaN   \n",
       "4                        NaN                            NaN   \n",
       "\n",
       "   ingredients_that_may_be_from_palm_oil_n  \\\n",
       "0                                      NaN   \n",
       "1                                      0.0   \n",
       "2                                      0.0   \n",
       "3                                      0.0   \n",
       "4                                      0.0   \n",
       "\n",
       "   ingredients_that_may_be_from_palm_oil  \\\n",
       "0                                    NaN   \n",
       "1                                    NaN   \n",
       "2                                    NaN   \n",
       "3                                    NaN   \n",
       "4                                    NaN   \n",
       "\n",
       "  ingredients_that_may_be_from_palm_oil_tags  nutrition_grade_uk  \\\n",
       "0                                        NaN                 NaN   \n",
       "1                                        NaN                 NaN   \n",
       "2                                        NaN                 NaN   \n",
       "3                                        NaN                 NaN   \n",
       "4                                        NaN                 NaN   \n",
       "\n",
       "  nutrition_grade_fr pnns_groups_1 pnns_groups_2  \\\n",
       "0                NaN           NaN           NaN   \n",
       "1                  d           NaN           NaN   \n",
       "2                  b           NaN           NaN   \n",
       "3                  d           NaN           NaN   \n",
       "4                NaN           NaN           NaN   \n",
       "\n",
       "                                              states  \\\n",
       "0  en:to-be-completed, en:nutrition-facts-to-be-c...   \n",
       "1  en:to-be-completed, en:nutrition-facts-complet...   \n",
       "2  en:to-be-completed, en:nutrition-facts-complet...   \n",
       "3  en:to-be-completed, en:nutrition-facts-complet...   \n",
       "4  en:to-be-completed, en:nutrition-facts-complet...   \n",
       "\n",
       "                                         states_tags  \\\n",
       "0  en:to-be-completed,en:nutrition-facts-to-be-co...   \n",
       "1  en:to-be-completed,en:nutrition-facts-complete...   \n",
       "2  en:to-be-completed,en:nutrition-facts-complete...   \n",
       "3  en:to-be-completed,en:nutrition-facts-complete...   \n",
       "4  en:to-be-completed,en:nutrition-facts-complete...   \n",
       "\n",
       "                                           states_fr main_category  \\\n",
       "0  A compléter,Informations nutritionnelles à com...           NaN   \n",
       "1  A compléter,Informations nutritionnelles compl...           NaN   \n",
       "2  A compléter,Informations nutritionnelles compl...           NaN   \n",
       "3  A compléter,Informations nutritionnelles compl...           NaN   \n",
       "4  A compléter,Informations nutritionnelles compl...           NaN   \n",
       "\n",
       "  main_category_fr image_url image_small_url  energy_100g  \\\n",
       "0              NaN       NaN             NaN          NaN   \n",
       "1              NaN       NaN             NaN       2243.0   \n",
       "2              NaN       NaN             NaN       1941.0   \n",
       "3              NaN       NaN             NaN       2540.0   \n",
       "4              NaN       NaN             NaN       1552.0   \n",
       "\n",
       "   energy-from-fat_100g  fat_100g  saturated-fat_100g  butyric-acid_100g  \\\n",
       "0                   NaN       NaN                 NaN                NaN   \n",
       "1                   NaN     28.57               28.57                NaN   \n",
       "2                   NaN     17.86                0.00                NaN   \n",
       "3                   NaN     57.14                5.36                NaN   \n",
       "4                   NaN      1.43                 NaN                NaN   \n",
       "\n",
       "   caproic-acid_100g  caprylic-acid_100g  capric-acid_100g  lauric-acid_100g  \\\n",
       "0                NaN                 NaN               NaN               NaN   \n",
       "1                NaN                 NaN               NaN               NaN   \n",
       "2                NaN                 NaN               NaN               NaN   \n",
       "3                NaN                 NaN               NaN               NaN   \n",
       "4                NaN                 NaN               NaN               NaN   \n",
       "\n",
       "   myristic-acid_100g  palmitic-acid_100g  stearic-acid_100g  \\\n",
       "0                 NaN                 NaN                NaN   \n",
       "1                 NaN                 NaN                NaN   \n",
       "2                 NaN                 NaN                NaN   \n",
       "3                 NaN                 NaN                NaN   \n",
       "4                 NaN                 NaN                NaN   \n",
       "\n",
       "   arachidic-acid_100g  behenic-acid_100g  lignoceric-acid_100g  \\\n",
       "0                  NaN                NaN                   NaN   \n",
       "1                  NaN                NaN                   NaN   \n",
       "2                  NaN                NaN                   NaN   \n",
       "3                  NaN                NaN                   NaN   \n",
       "4                  NaN                NaN                   NaN   \n",
       "\n",
       "   cerotic-acid_100g  montanic-acid_100g  melissic-acid_100g  \\\n",
       "0                NaN                 NaN                 NaN   \n",
       "1                NaN                 NaN                 NaN   \n",
       "2                NaN                 NaN                 NaN   \n",
       "3                NaN                 NaN                 NaN   \n",
       "4                NaN                 NaN                 NaN   \n",
       "\n",
       "   monounsaturated-fat_100g  polyunsaturated-fat_100g  omega-3-fat_100g  \\\n",
       "0                       NaN                       NaN               NaN   \n",
       "1                       NaN                       NaN               NaN   \n",
       "2                       NaN                       NaN               NaN   \n",
       "3                       NaN                       NaN               NaN   \n",
       "4                       NaN                       NaN               NaN   \n",
       "\n",
       "   alpha-linolenic-acid_100g  eicosapentaenoic-acid_100g  \\\n",
       "0                        NaN                         NaN   \n",
       "1                        NaN                         NaN   \n",
       "2                        NaN                         NaN   \n",
       "3                        NaN                         NaN   \n",
       "4                        NaN                         NaN   \n",
       "\n",
       "   docosahexaenoic-acid_100g  omega-6-fat_100g  linoleic-acid_100g  \\\n",
       "0                        NaN               NaN                 NaN   \n",
       "1                        NaN               NaN                 NaN   \n",
       "2                        NaN               NaN                 NaN   \n",
       "3                        NaN               NaN                 NaN   \n",
       "4                        NaN               NaN                 NaN   \n",
       "\n",
       "   arachidonic-acid_100g  gamma-linolenic-acid_100g  \\\n",
       "0                    NaN                        NaN   \n",
       "1                    NaN                        NaN   \n",
       "2                    NaN                        NaN   \n",
       "3                    NaN                        NaN   \n",
       "4                    NaN                        NaN   \n",
       "\n",
       "   dihomo-gamma-linolenic-acid_100g  omega-9-fat_100g  oleic-acid_100g  \\\n",
       "0                               NaN               NaN              NaN   \n",
       "1                               NaN               NaN              NaN   \n",
       "2                               NaN               NaN              NaN   \n",
       "3                               NaN               NaN              NaN   \n",
       "4                               NaN               NaN              NaN   \n",
       "\n",
       "   elaidic-acid_100g  gondoic-acid_100g  mead-acid_100g  erucic-acid_100g  \\\n",
       "0                NaN                NaN             NaN               NaN   \n",
       "1                NaN                NaN             NaN               NaN   \n",
       "2                NaN                NaN             NaN               NaN   \n",
       "3                NaN                NaN             NaN               NaN   \n",
       "4                NaN                NaN             NaN               NaN   \n",
       "\n",
       "   nervonic-acid_100g  trans-fat_100g  cholesterol_100g  carbohydrates_100g  \\\n",
       "0                 NaN             NaN               NaN                 NaN   \n",
       "1                 NaN             0.0             0.018               64.29   \n",
       "2                 NaN             0.0             0.000               60.71   \n",
       "3                 NaN             NaN               NaN               17.86   \n",
       "4                 NaN             NaN               NaN               77.14   \n",
       "\n",
       "   sugars_100g  sucrose_100g  glucose_100g  fructose_100g  lactose_100g  \\\n",
       "0          NaN           NaN           NaN            NaN           NaN   \n",
       "1        14.29           NaN           NaN            NaN           NaN   \n",
       "2        17.86           NaN           NaN            NaN           NaN   \n",
       "3         3.57           NaN           NaN            NaN           NaN   \n",
       "4          NaN           NaN           NaN            NaN           NaN   \n",
       "\n",
       "   maltose_100g  maltodextrins_100g  starch_100g  polyols_100g  fiber_100g  \\\n",
       "0           NaN                 NaN          NaN           NaN         NaN   \n",
       "1           NaN                 NaN          NaN           NaN         3.6   \n",
       "2           NaN                 NaN          NaN           NaN         7.1   \n",
       "3           NaN                 NaN          NaN           NaN         7.1   \n",
       "4           NaN                 NaN          NaN           NaN         5.7   \n",
       "\n",
       "   proteins_100g  casein_100g  serum-proteins_100g  nucleotides_100g  \\\n",
       "0            NaN          NaN                  NaN               NaN   \n",
       "1           3.57          NaN                  NaN               NaN   \n",
       "2          17.86          NaN                  NaN               NaN   \n",
       "3          17.86          NaN                  NaN               NaN   \n",
       "4           8.57          NaN                  NaN               NaN   \n",
       "\n",
       "   salt_100g  sodium_100g  alcohol_100g  vitamin-a_100g  beta-carotene_100g  \\\n",
       "0        NaN          NaN           NaN             NaN                 NaN   \n",
       "1    0.00000        0.000           NaN             0.0                 NaN   \n",
       "2    0.63500        0.250           NaN             0.0                 NaN   \n",
       "3    1.22428        0.482           NaN             NaN                 NaN   \n",
       "4        NaN          NaN           NaN             NaN                 NaN   \n",
       "\n",
       "   vitamin-d_100g  vitamin-e_100g  vitamin-k_100g  vitamin-c_100g  \\\n",
       "0             NaN             NaN             NaN             NaN   \n",
       "1             NaN             NaN             NaN          0.0214   \n",
       "2             NaN             NaN             NaN          0.0000   \n",
       "3             NaN             NaN             NaN             NaN   \n",
       "4             NaN             NaN             NaN             NaN   \n",
       "\n",
       "   vitamin-b1_100g  vitamin-b2_100g  vitamin-pp_100g  vitamin-b6_100g  \\\n",
       "0              NaN              NaN              NaN              NaN   \n",
       "1              NaN              NaN              NaN              NaN   \n",
       "2              NaN              NaN              NaN              NaN   \n",
       "3              NaN              NaN              NaN              NaN   \n",
       "4              NaN              NaN              NaN              NaN   \n",
       "\n",
       "   vitamin-b9_100g  folates_100g  vitamin-b12_100g  biotin_100g  \\\n",
       "0              NaN           NaN               NaN          NaN   \n",
       "1              NaN           NaN               NaN          NaN   \n",
       "2              NaN           NaN               NaN          NaN   \n",
       "3              NaN           NaN               NaN          NaN   \n",
       "4              NaN           NaN               NaN          NaN   \n",
       "\n",
       "   pantothenic-acid_100g  silica_100g  bicarbonate_100g  potassium_100g  \\\n",
       "0                    NaN          NaN               NaN             NaN   \n",
       "1                    NaN          NaN               NaN             NaN   \n",
       "2                    NaN          NaN               NaN             NaN   \n",
       "3                    NaN          NaN               NaN             NaN   \n",
       "4                    NaN          NaN               NaN             NaN   \n",
       "\n",
       "   chloride_100g  calcium_100g  phosphorus_100g  iron_100g  magnesium_100g  \\\n",
       "0            NaN           NaN              NaN        NaN             NaN   \n",
       "1            NaN         0.000              NaN    0.00129             NaN   \n",
       "2            NaN         0.071              NaN    0.00129             NaN   \n",
       "3            NaN         0.143              NaN    0.00514             NaN   \n",
       "4            NaN           NaN              NaN        NaN             NaN   \n",
       "\n",
       "   zinc_100g  copper_100g  manganese_100g  fluoride_100g  selenium_100g  \\\n",
       "0        NaN          NaN             NaN            NaN            NaN   \n",
       "1        NaN          NaN             NaN            NaN            NaN   \n",
       "2        NaN          NaN             NaN            NaN            NaN   \n",
       "3        NaN          NaN             NaN            NaN            NaN   \n",
       "4        NaN          NaN             NaN            NaN            NaN   \n",
       "\n",
       "   chromium_100g  molybdenum_100g  iodine_100g  caffeine_100g  taurine_100g  \\\n",
       "0            NaN              NaN          NaN            NaN           NaN   \n",
       "1            NaN              NaN          NaN            NaN           NaN   \n",
       "2            NaN              NaN          NaN            NaN           NaN   \n",
       "3            NaN              NaN          NaN            NaN           NaN   \n",
       "4            NaN              NaN          NaN            NaN           NaN   \n",
       "\n",
       "   ph_100g  fruits-vegetables-nuts_100g  collagen-meat-protein-ratio_100g  \\\n",
       "0      NaN                          NaN                               NaN   \n",
       "1      NaN                          NaN                               NaN   \n",
       "2      NaN                          NaN                               NaN   \n",
       "3      NaN                          NaN                               NaN   \n",
       "4      NaN                          NaN                               NaN   \n",
       "\n",
       "   cocoa_100g  chlorophyl_100g  carbon-footprint_100g  \\\n",
       "0         NaN              NaN                    NaN   \n",
       "1         NaN              NaN                    NaN   \n",
       "2         NaN              NaN                    NaN   \n",
       "3         NaN              NaN                    NaN   \n",
       "4         NaN              NaN                    NaN   \n",
       "\n",
       "   nutrition-score-fr_100g  nutrition-score-uk_100g  glycemic-index_100g  \\\n",
       "0                      NaN                      NaN                  NaN   \n",
       "1                     14.0                     14.0                  NaN   \n",
       "2                      0.0                      0.0                  NaN   \n",
       "3                     12.0                     12.0                  NaN   \n",
       "4                      NaN                      NaN                  NaN   \n",
       "\n",
       "   water-hardness_100g  \n",
       "0                  NaN  \n",
       "1                  NaN  \n",
       "2                  NaN  \n",
       "3                  NaN  \n",
       "4                  NaN  "
      ]
     },
     "execution_count": 7,
     "metadata": {},
     "output_type": "execute_result"
    }
   ],
   "source": [
    "df.head()"
   ]
  },
  {
   "cell_type": "markdown",
   "id": "18e94ea3",
   "metadata": {},
   "source": [
    "### Nan values"
   ]
  },
  {
   "cell_type": "code",
   "execution_count": 8,
   "id": "2cb7353b",
   "metadata": {
    "ExecuteTime": {
     "end_time": "2022-10-17T23:20:32.686151Z",
     "start_time": "2022-10-17T23:19:41.352497Z"
    }
   },
   "outputs": [
    {
     "data": {
      "text/plain": [
       "<AxesSubplot:>"
      ]
     },
     "execution_count": 8,
     "metadata": {},
     "output_type": "execute_result"
    },
    {
     "data": {
      "image/png": "[encoded data removed]",
      "text/plain": [
       "<Figure size 1152x648 with 1 Axes>"
      ]
     },
     "metadata": {},
     "output_type": "display_data"
    }
   ],
   "source": [
    "plt.figure(figsize=(16,9))\n",
    "plt.tick_params(labelbottom=False, labelleft=False)\n",
    "sns.heatmap(df.isna(), cbar=False, cmap=['k', 'whitesmoke'])"
   ]
  },
  {
   "cell_type": "code",
   "execution_count": 9,
   "id": "3671d9f3",
   "metadata": {
    "ExecuteTime": {
     "end_time": "2022-10-17T23:20:35.093824Z",
     "start_time": "2022-10-17T23:20:32.689322Z"
    }
   },
   "outputs": [
    {
     "data": {
      "text/plain": [
       "0.7622157263195134"
      ]
     },
     "execution_count": 9,
     "metadata": {},
     "output_type": "execute_result"
    }
   ],
   "source": [
    "df.isna().mean().mean()"
   ]
  },
  {
   "cell_type": "code",
   "execution_count": 10,
   "id": "49ef7bc2",
   "metadata": {
    "ExecuteTime": {
     "end_time": "2022-10-17T23:20:37.267753Z",
     "start_time": "2022-10-17T23:20:35.095753Z"
    },
    "scrolled": true,
    "tags": []
   },
   "outputs": [
    {
     "data": {
      "text/plain": [
       "last_modified_t                               0.000000\n",
       "last_modified_datetime                        0.000000\n",
       "creator                                       0.000006\n",
       "created_t                                     0.000009\n",
       "created_datetime                              0.000028\n",
       "code                                          0.000072\n",
       "url                                           0.000072\n",
       "states                                        0.000143\n",
       "states_tags                                   0.000143\n",
       "states_fr                                     0.000143\n",
       "countries_fr                                  0.000873\n",
       "countries                                     0.000873\n",
       "countries_tags                                0.000873\n",
       "product_name                                  0.055373\n",
       "brands                                        0.088574\n",
       "brands_tags                                   0.088599\n",
       "energy_100g                                   0.185986\n",
       "proteins_100g                                 0.189699\n",
       "salt_100g                                     0.203453\n",
       "sodium_100g                                   0.203599\n",
       "ingredients_text                              0.223866\n",
       "ingredients_that_may_be_from_palm_oil_n       0.223938\n",
       "additives_n                                   0.223938\n",
       "ingredients_from_palm_oil_n                   0.223938\n",
       "additives                                     0.224044\n",
       "sugars_100g                                   0.236308\n",
       "fat_100g                                      0.239675\n",
       "carbohydrates_100g                            0.240620\n",
       "saturated-fat_100g                            0.284370\n",
       "nutrition-score-uk_100g                       0.310382\n",
       "nutrition-score-fr_100g                       0.310382\n",
       "nutrition_grade_fr                            0.310382\n",
       "serving_size                                  0.341180\n",
       "fiber_100g                                    0.373742\n",
       "additives_fr                                  0.517788\n",
       "additives_tags                                0.517788\n",
       "cholesterol_100g                              0.550802\n",
       "trans-fat_100g                                0.553271\n",
       "calcium_100g                                  0.560280\n",
       "vitamin-c_100g                                0.560850\n",
       "iron_100g                                     0.562113\n",
       "vitamin-a_100g                                0.571178\n",
       "quantity                                      0.673229\n",
       "pnns_groups_2                                 0.705426\n",
       "pnns_groups_1                                 0.714710\n",
       "categories_fr                                 0.736850\n",
       "categories                                    0.736854\n",
       "categories_tags                               0.736919\n",
       "main_category                                 0.736991\n",
       "main_category_fr                              0.736991\n",
       "packaging_tags                                0.753841\n",
       "packaging                                     0.753844\n",
       "image_small_url                               0.763583\n",
       "image_url                                     0.763583\n",
       "purchase_places                               0.818585\n",
       "generic_name                                  0.835413\n",
       "stores                                        0.838758\n",
       "labels_fr                                     0.854520\n",
       "labels_tags                                   0.854588\n",
       "labels                                        0.854853\n",
       "manufacturing_places                          0.886209\n",
       "manufacturing_places_tags                     0.886228\n",
       "emb_codes                                     0.908639\n",
       "emb_codes_tags                                0.908649\n",
       "allergens                                     0.911638\n",
       "potassium_100g                                0.922849\n",
       "traces                                        0.924080\n",
       "traces_fr                                     0.924083\n",
       "traces_tags                                   0.924155\n",
       "polyunsaturated-fat_100g                      0.928738\n",
       "monounsaturated-fat_100g                      0.928850\n",
       "origins                                       0.930823\n",
       "origins_tags                                  0.930938\n",
       "cities_tags                                   0.936653\n",
       "first_packaging_code_geo                      0.941382\n",
       "vitamin-pp_100g                               0.963435\n",
       "ingredients_that_may_be_from_palm_oil_tags    0.963538\n",
       "vitamin-b1_100g                               0.965228\n",
       "vitamin-b2_100g                               0.966284\n",
       "vitamin-d_100g                                0.978000\n",
       "vitamin-b6_100g                               0.978851\n",
       "magnesium_100g                                0.980506\n",
       "phosphorus_100g                               0.981778\n",
       "vitamin-b12_100g                              0.983477\n",
       "vitamin-b9_100g                               0.983664\n",
       "ingredients_from_palm_oil_tags                0.984927\n",
       "alcohol_100g                                  0.987115\n",
       "zinc_100g                                     0.987751\n",
       "folates_100g                                  0.990517\n",
       "fruits-vegetables-nuts_100g                   0.990535\n",
       "pantothenic-acid_100g                         0.992259\n",
       "copper_100g                                   0.993435\n",
       "manganese_100g                                0.994950\n",
       "vitamin-e_100g                                0.995823\n",
       "selenium_100g                                 0.996359\n",
       "cocoa_100g                                    0.997045\n",
       "vitamin-k_100g                                0.997138\n",
       "energy-from-fat_100g                          0.997328\n",
       "omega-3-fat_100g                              0.997378\n",
       "polyols_100g                                  0.998709\n",
       "biotin_100g                                   0.998971\n",
       "carbon-footprint_100g                         0.999165\n",
       "starch_100g                                   0.999171\n",
       "lactose_100g                                  0.999183\n",
       "iodine_100g                                   0.999193\n",
       "omega-6-fat_100g                              0.999414\n",
       "alpha-linolenic-acid_100g                     0.999420\n",
       "collagen-meat-protein-ratio_100g              0.999486\n",
       "chloride_100g                                 0.999507\n",
       "linoleic-acid_100g                            0.999535\n",
       "bicarbonate_100g                              0.999747\n",
       "fluoride_100g                                 0.999754\n",
       "caffeine_100g                                 0.999757\n",
       "docosahexaenoic-acid_100g                     0.999757\n",
       "sucrose_100g                                  0.999776\n",
       "ph_100g                                       0.999847\n",
       "fructose_100g                                 0.999882\n",
       "silica_100g                                   0.999882\n",
       "eicosapentaenoic-acid_100g                    0.999882\n",
       "beta-carotene_100g                            0.999894\n",
       "taurine_100g                                  0.999910\n",
       "casein_100g                                   0.999916\n",
       "glucose_100g                                  0.999919\n",
       "gamma-linolenic-acid_100g                     0.999925\n",
       "arachidic-acid_100g                           0.999925\n",
       "dihomo-gamma-linolenic-acid_100g              0.999928\n",
       "behenic-acid_100g                             0.999928\n",
       "cities                                        0.999928\n",
       "omega-9-fat_100g                              0.999935\n",
       "chromium_100g                                 0.999938\n",
       "allergens_fr                                  0.999941\n",
       "serum-proteins_100g                           0.999950\n",
       "gondoic-acid_100g                             0.999956\n",
       "oleic-acid_100g                               0.999959\n",
       "maltodextrins_100g                            0.999966\n",
       "molybdenum_100g                               0.999966\n",
       "nucleotides_100g                              0.999972\n",
       "arachidonic-acid_100g                         0.999975\n",
       "maltose_100g                                  0.999988\n",
       "lauric-acid_100g                              0.999988\n",
       "capric-acid_100g                              0.999994\n",
       "myristic-acid_100g                            0.999997\n",
       "stearic-acid_100g                             0.999997\n",
       "caprylic-acid_100g                            0.999997\n",
       "montanic-acid_100g                            0.999997\n",
       "palmitic-acid_100g                            0.999997\n",
       "chlorophyl_100g                               1.000000\n",
       "melissic-acid_100g                            1.000000\n",
       "erucic-acid_100g                              1.000000\n",
       "mead-acid_100g                                1.000000\n",
       "elaidic-acid_100g                             1.000000\n",
       "glycemic-index_100g                           1.000000\n",
       "cerotic-acid_100g                             1.000000\n",
       "lignoceric-acid_100g                          1.000000\n",
       "caproic-acid_100g                             1.000000\n",
       "butyric-acid_100g                             1.000000\n",
       "nutrition_grade_uk                            1.000000\n",
       "ingredients_that_may_be_from_palm_oil         1.000000\n",
       "ingredients_from_palm_oil                     1.000000\n",
       "no_nutriments                                 1.000000\n",
       "nervonic-acid_100g                            1.000000\n",
       "water-hardness_100g                           1.000000\n",
       "dtype: float64"
      ]
     },
     "execution_count": 10,
     "metadata": {},
     "output_type": "execute_result"
    }
   ],
   "source": [
    "# pour pouvoir observer toutes les lignes de la commande suivante\n",
    "pd.set_option(\"display.max_row\", 162)\n",
    "df.isna().mean().sort_values()"
   ]
  },
  {
   "cell_type": "code",
   "execution_count": 11,
   "id": "ff5365b0",
   "metadata": {
    "ExecuteTime": {
     "end_time": "2022-10-17T23:20:39.317128Z",
     "start_time": "2022-10-17T23:20:37.269820Z"
    }
   },
   "outputs": [
    {
     "data": {
      "text/plain": [
       "100"
      ]
     },
     "execution_count": 11,
     "metadata": {},
     "output_type": "execute_result"
    }
   ],
   "source": [
    "# Nombre de variables qui ont plus de 90% de valeurs manquantes\n",
    "(df.isna().mean() > .9).sum()"
   ]
  },
  {
   "cell_type": "code",
   "execution_count": 12,
   "id": "891b0191",
   "metadata": {
    "ExecuteTime": {
     "end_time": "2022-10-17T23:20:40.126311Z",
     "start_time": "2022-10-17T23:20:39.319350Z"
    }
   },
   "outputs": [
    {
     "data": {
      "text/plain": [
       "96"
      ]
     },
     "execution_count": 12,
     "metadata": {},
     "output_type": "execute_result"
    }
   ],
   "source": [
    "# Nombre de variables qui ont plus de 90% de valeurs manquantes et qui sont vendus en France\n",
    "(df[df['countries_fr'] == 'France'].isna().mean() > .9).sum()"
   ]
  },
  {
   "cell_type": "markdown",
   "id": "38ea1574",
   "metadata": {},
   "source": [
    "## Visualisation initiale - élimination des données inutiles"
   ]
  },
  {
   "cell_type": "markdown",
   "id": "61967303",
   "metadata": {},
   "source": [
    "On ne garde que les produits vendus en France"
   ]
  },
  {
   "cell_type": "code",
   "execution_count": 13,
   "id": "a98829ee",
   "metadata": {
    "ExecuteTime": {
     "end_time": "2022-10-17T23:20:40.233464Z",
     "start_time": "2022-10-17T23:20:40.128320Z"
    },
    "scrolled": true
   },
   "outputs": [
    {
     "data": {
      "text/plain": [
       "(94392, 162)"
      ]
     },
     "execution_count": 13,
     "metadata": {},
     "output_type": "execute_result"
    }
   ],
   "source": [
    "df = df[df['countries_fr'] == 'France']\n",
    "df.shape"
   ]
  },
  {
   "cell_type": "markdown",
   "id": "d797bedc",
   "metadata": {},
   "source": [
    "On ne garde que les variables qui ont moins de 90% de nan"
   ]
  },
  {
   "cell_type": "code",
   "execution_count": 14,
   "id": "3e69880c",
   "metadata": {
    "ExecuteTime": {
     "end_time": "2022-10-17T23:20:41.017369Z",
     "start_time": "2022-10-17T23:20:40.235602Z"
    }
   },
   "outputs": [
    {
     "data": {
      "text/plain": [
       "(94392, 66)"
      ]
     },
     "execution_count": 14,
     "metadata": {},
     "output_type": "execute_result"
    }
   ],
   "source": [
    "df = df[df.columns[df.isna().mean() < .9]]\n",
    "df.shape"
   ]
  },
  {
   "cell_type": "code",
   "execution_count": 15,
   "id": "b1a3f240",
   "metadata": {
    "ExecuteTime": {
     "end_time": "2022-10-17T23:20:41.024864Z",
     "start_time": "2022-10-17T23:20:41.019718Z"
    }
   },
   "outputs": [
    {
     "data": {
      "text/plain": [
       "Index(['code', 'url', 'creator', 'created_t', 'created_datetime',\n",
       "       'last_modified_t', 'last_modified_datetime', 'product_name',\n",
       "       'generic_name', 'quantity', 'packaging', 'packaging_tags', 'brands',\n",
       "       'brands_tags', 'categories', 'categories_tags', 'categories_fr',\n",
       "       'origins', 'origins_tags', 'manufacturing_places',\n",
       "       'manufacturing_places_tags', 'labels', 'labels_tags', 'labels_fr',\n",
       "       'emb_codes', 'emb_codes_tags', 'first_packaging_code_geo',\n",
       "       'cities_tags', 'purchase_places', 'stores', 'countries',\n",
       "       'countries_tags', 'countries_fr', 'ingredients_text', 'allergens',\n",
       "       'traces', 'traces_tags', 'traces_fr', 'serving_size', 'additives_n',\n",
       "       'additives', 'additives_tags', 'additives_fr',\n",
       "       'ingredients_from_palm_oil_n',\n",
       "       'ingredients_that_may_be_from_palm_oil_n', 'nutrition_grade_fr',\n",
       "       'pnns_groups_1', 'pnns_groups_2', 'states', 'states_tags', 'states_fr',\n",
       "       'main_category', 'main_category_fr', 'image_url', 'image_small_url',\n",
       "       'energy_100g', 'fat_100g', 'saturated-fat_100g', 'carbohydrates_100g',\n",
       "       'sugars_100g', 'fiber_100g', 'proteins_100g', 'salt_100g',\n",
       "       'sodium_100g', 'nutrition-score-fr_100g', 'nutrition-score-uk_100g'],\n",
       "      dtype='object')"
      ]
     },
     "execution_count": 15,
     "metadata": {},
     "output_type": "execute_result"
    }
   ],
   "source": [
    "df.columns"
   ]
  },
  {
   "cell_type": "markdown",
   "id": "35ed9aeb",
   "metadata": {},
   "source": [
    "On ne garde que les variables intéressantes"
   ]
  },
  {
   "cell_type": "code",
   "execution_count": 16,
   "id": "941d9857",
   "metadata": {
    "ExecuteTime": {
     "end_time": "2022-10-17T23:20:41.065237Z",
     "start_time": "2022-10-17T23:20:41.027111Z"
    }
   },
   "outputs": [
    {
     "data": {
      "text/plain": [
       "(94392, 15)"
      ]
     },
     "execution_count": 16,
     "metadata": {},
     "output_type": "execute_result"
    }
   ],
   "source": [
    "df = df[\n",
    "    ['product_name', 'nutrition_grade_fr', 'nutrition-score-fr_100g',\n",
    "     'pnns_groups_1', 'pnns_groups_2', 'main_category_fr',\n",
    "     'energy_100g', 'fat_100g', 'saturated-fat_100g', 'carbohydrates_100g',\n",
    "     'sugars_100g', 'fiber_100g', 'proteins_100g', 'salt_100g',\n",
    "     'additives_n'\n",
    "     ]\n",
    "]\n",
    "df.shape"
   ]
  },
  {
   "cell_type": "markdown",
   "id": "0f961677",
   "metadata": {},
   "source": [
    "On rajoute les colonnes qui seront utiles pour notre application"
   ]
  },
  {
   "cell_type": "code",
   "execution_count": 17,
   "id": "18eff449",
   "metadata": {
    "ExecuteTime": {
     "end_time": "2022-10-17T23:20:41.082244Z",
     "start_time": "2022-10-17T23:20:41.067605Z"
    }
   },
   "outputs": [],
   "source": [
    "df[['alcohol_100g', 'cholesterol_100g']] = data[['alcohol_100g', 'cholesterol_100g']]"
   ]
  },
  {
   "cell_type": "code",
   "execution_count": 18,
   "id": "9be64af7",
   "metadata": {
    "ExecuteTime": {
     "end_time": "2022-10-17T23:20:41.108327Z",
     "start_time": "2022-10-17T23:20:41.084690Z"
    }
   },
   "outputs": [
    {
     "data": {
      "text/plain": [
       "alcohol_100g        0.976894\n",
       "cholesterol_100g    0.997362\n",
       "dtype: float64"
      ]
     },
     "execution_count": 18,
     "metadata": {},
     "output_type": "execute_result"
    }
   ],
   "source": [
    "df[['alcohol_100g', 'cholesterol_100g']].isna().mean()"
   ]
  },
  {
   "cell_type": "markdown",
   "id": "7d609475",
   "metadata": {},
   "source": [
    "La colonne `cholesterol_100g` est très peu renseignée dans les produits français comparé aux autres pays"
   ]
  },
  {
   "cell_type": "code",
   "execution_count": 19,
   "id": "6ec3057e",
   "metadata": {
    "ExecuteTime": {
     "end_time": "2022-10-17T23:20:41.116097Z",
     "start_time": "2022-10-17T23:20:41.110421Z"
    }
   },
   "outputs": [
    {
     "data": {
      "text/plain": [
       "0.5508024391156335"
      ]
     },
     "execution_count": 19,
     "metadata": {},
     "output_type": "execute_result"
    }
   ],
   "source": [
    "data['cholesterol_100g'].isna().mean()"
   ]
  },
  {
   "cell_type": "code",
   "execution_count": 20,
   "id": "e02ab480",
   "metadata": {
    "ExecuteTime": {
     "end_time": "2022-10-17T23:20:41.122314Z",
     "start_time": "2022-10-17T23:20:41.118137Z"
    }
   },
   "outputs": [
    {
     "data": {
      "text/plain": [
       "(94392, 17)"
      ]
     },
     "execution_count": 20,
     "metadata": {},
     "output_type": "execute_result"
    }
   ],
   "source": [
    "df.shape"
   ]
  },
  {
   "cell_type": "markdown",
   "id": "69aadf77",
   "metadata": {},
   "source": [
    "On remplace les valeurs 'unknown' dans `pnns_groups_1` et `pns_groups_2` par des nan"
   ]
  },
  {
   "cell_type": "code",
   "execution_count": 21,
   "id": "c0b5cf2f",
   "metadata": {
    "ExecuteTime": {
     "end_time": "2022-10-17T23:20:41.141202Z",
     "start_time": "2022-10-17T23:20:41.124630Z"
    }
   },
   "outputs": [],
   "source": [
    "df.loc[df['pnns_groups_1'] == 'unknown', 'pnns_groups_1'] = np.nan\n",
    "df.loc[df['pnns_groups_2'] == 'unknown', 'pnns_groups_2'] = np.nan"
   ]
  },
  {
   "cell_type": "markdown",
   "id": "a2726e67",
   "metadata": {},
   "source": [
    "On enlève les produits non alimentaires"
   ]
  },
  {
   "cell_type": "code",
   "execution_count": 22,
   "id": "f8ed3bf5",
   "metadata": {
    "ExecuteTime": {
     "end_time": "2022-10-17T23:20:41.168135Z",
     "start_time": "2022-10-17T23:20:41.143160Z"
    }
   },
   "outputs": [],
   "source": [
    "df = df[~(df['main_category_fr'] == 'Non alimentaire')]"
   ]
  },
  {
   "cell_type": "markdown",
   "id": "dcdd8640",
   "metadata": {},
   "source": [
    "On garde les lignes qui ont au moins 4 valeurs remplies"
   ]
  },
  {
   "cell_type": "code",
   "execution_count": 23,
   "id": "6f94e72e",
   "metadata": {
    "ExecuteTime": {
     "end_time": "2022-10-17T23:20:41.768454Z",
     "start_time": "2022-10-17T23:20:41.176205Z"
    }
   },
   "outputs": [
    {
     "data": {
      "text/plain": [
       "(72519, 17)"
      ]
     },
     "execution_count": 23,
     "metadata": {},
     "output_type": "execute_result"
    }
   ],
   "source": [
    "df = df[df.T.notna().sum() >= 4]\n",
    "df.shape"
   ]
  },
  {
   "cell_type": "markdown",
   "id": "0c26caa6",
   "metadata": {},
   "source": [
    "On supprime les doublons"
   ]
  },
  {
   "cell_type": "code",
   "execution_count": 24,
   "id": "f8ae6b0c",
   "metadata": {
    "ExecuteTime": {
     "end_time": "2022-10-17T23:20:41.866749Z",
     "start_time": "2022-10-17T23:20:41.773915Z"
    }
   },
   "outputs": [
    {
     "data": {
      "text/plain": [
       "(71071, 17)"
      ]
     },
     "execution_count": 24,
     "metadata": {},
     "output_type": "execute_result"
    }
   ],
   "source": [
    "df = df.drop_duplicates()\n",
    "df.shape"
   ]
  },
  {
   "cell_type": "markdown",
   "id": "e2a5b2c4",
   "metadata": {},
   "source": [
    "Regardons de nouveau le tableau des valeurs manquantes"
   ]
  },
  {
   "cell_type": "code",
   "execution_count": 25,
   "id": "4cc7e6bc",
   "metadata": {
    "ExecuteTime": {
     "end_time": "2022-10-17T23:20:43.402053Z",
     "start_time": "2022-10-17T23:20:41.868857Z"
    }
   },
   "outputs": [
    {
     "data": {
      "text/plain": [
       "<AxesSubplot:>"
      ]
     },
     "execution_count": 25,
     "metadata": {},
     "output_type": "execute_result"
    },
    {
     "data": {
      "image/png": "[encoded data removed]",
      "text/plain": [
       "<Figure size 864x576 with 1 Axes>"
      ]
     },
     "metadata": {
      "needs_background": "light"
     },
     "output_type": "display_data"
    }
   ],
   "source": [
    "plt.figure(figsize=(12,8))\n",
    "plt.tick_params(labelleft=False)\n",
    "sns.heatmap(df.isna(), cbar=False, cmap=['k', 'whitesmoke'])"
   ]
  },
  {
   "cell_type": "code",
   "execution_count": 26,
   "id": "e407ab6f",
   "metadata": {
    "ExecuteTime": {
     "end_time": "2022-10-17T23:20:43.466033Z",
     "start_time": "2022-10-17T23:20:43.403788Z"
    }
   },
   "outputs": [
    {
     "data": {
      "text/plain": [
       "product_name               0.004545\n",
       "energy_100g                0.144532\n",
       "proteins_100g              0.147880\n",
       "salt_100g                  0.170871\n",
       "sugars_100g                0.171631\n",
       "saturated-fat_100g         0.172982\n",
       "nutrition-score-fr_100g    0.185491\n",
       "nutrition_grade_fr         0.185491\n",
       "main_category_fr           0.232401\n",
       "pnns_groups_2              0.297632\n",
       "pnns_groups_1              0.320454\n",
       "additives_n                0.327447\n",
       "fat_100g                   0.380732\n",
       "carbohydrates_100g         0.386473\n",
       "fiber_100g                 0.390623\n",
       "alcohol_100g               0.970762\n",
       "cholesterol_100g           0.996496\n",
       "dtype: float64"
      ]
     },
     "execution_count": 26,
     "metadata": {},
     "output_type": "execute_result"
    }
   ],
   "source": [
    "df.isna().mean().sort_values()"
   ]
  },
  {
   "cell_type": "markdown",
   "id": "100a3270",
   "metadata": {},
   "source": [
    "# Analyse des données quantitatives"
   ]
  },
  {
   "cell_type": "code",
   "execution_count": 27,
   "id": "204c93ad",
   "metadata": {
    "ExecuteTime": {
     "end_time": "2022-10-17T23:20:43.564009Z",
     "start_time": "2022-10-17T23:20:43.468080Z"
    }
   },
   "outputs": [
    {
     "data": {
      "text/html": [
       "<div>\n",
       "<style scoped>\n",
       "    .dataframe tbody tr th:only-of-type {\n",
       "        vertical-align: middle;\n",
       "    }\n",
       "\n",
       "    .dataframe tbody tr th {\n",
       "        vertical-align: top;\n",
       "    }\n",
       "\n",
       "    .dataframe thead th {\n",
       "        text-align: right;\n",
       "    }\n",
       "</style>\n",
       "<table border=\"1\" class=\"dataframe\">\n",
       "  <thead>\n",
       "    <tr style=\"text-align: right;\">\n",
       "      <th></th>\n",
       "      <th>nutrition-score-fr_100g</th>\n",
       "      <th>energy_100g</th>\n",
       "      <th>fat_100g</th>\n",
       "      <th>saturated-fat_100g</th>\n",
       "      <th>carbohydrates_100g</th>\n",
       "      <th>sugars_100g</th>\n",
       "      <th>fiber_100g</th>\n",
       "      <th>proteins_100g</th>\n",
       "      <th>salt_100g</th>\n",
       "      <th>additives_n</th>\n",
       "      <th>alcohol_100g</th>\n",
       "      <th>cholesterol_100g</th>\n",
       "    </tr>\n",
       "  </thead>\n",
       "  <tbody>\n",
       "    <tr>\n",
       "      <th>count</th>\n",
       "      <td>57888.000000</td>\n",
       "      <td>6.079900e+04</td>\n",
       "      <td>44012.000000</td>\n",
       "      <td>58777.000000</td>\n",
       "      <td>43604.000000</td>\n",
       "      <td>58873.000000</td>\n",
       "      <td>43309.000000</td>\n",
       "      <td>60561.000000</td>\n",
       "      <td>58927.000000</td>\n",
       "      <td>47799.000000</td>\n",
       "      <td>2078.000000</td>\n",
       "      <td>249.000000</td>\n",
       "    </tr>\n",
       "    <tr>\n",
       "      <th>mean</th>\n",
       "      <td>8.598172</td>\n",
       "      <td>1.168804e+03</td>\n",
       "      <td>13.243576</td>\n",
       "      <td>5.389584</td>\n",
       "      <td>27.378013</td>\n",
       "      <td>13.246220</td>\n",
       "      <td>2.523931</td>\n",
       "      <td>7.795289</td>\n",
       "      <td>1.163696</td>\n",
       "      <td>1.903764</td>\n",
       "      <td>9.085808</td>\n",
       "      <td>0.060354</td>\n",
       "    </tr>\n",
       "    <tr>\n",
       "      <th>std</th>\n",
       "      <td>9.021356</td>\n",
       "      <td>1.322872e+04</td>\n",
       "      <td>16.862843</td>\n",
       "      <td>8.533552</td>\n",
       "      <td>27.295043</td>\n",
       "      <td>19.008464</td>\n",
       "      <td>4.619034</td>\n",
       "      <td>7.910278</td>\n",
       "      <td>4.311255</td>\n",
       "      <td>2.589077</td>\n",
       "      <td>10.379445</td>\n",
       "      <td>0.690866</td>\n",
       "    </tr>\n",
       "    <tr>\n",
       "      <th>min</th>\n",
       "      <td>-15.000000</td>\n",
       "      <td>0.000000e+00</td>\n",
       "      <td>0.000000</td>\n",
       "      <td>0.000000</td>\n",
       "      <td>0.000000</td>\n",
       "      <td>-0.100000</td>\n",
       "      <td>0.000000</td>\n",
       "      <td>0.000000</td>\n",
       "      <td>0.000000</td>\n",
       "      <td>0.000000</td>\n",
       "      <td>0.000000</td>\n",
       "      <td>0.000000</td>\n",
       "    </tr>\n",
       "    <tr>\n",
       "      <th>25%</th>\n",
       "      <td>1.000000</td>\n",
       "      <td>4.270000e+02</td>\n",
       "      <td>1.300000</td>\n",
       "      <td>0.300000</td>\n",
       "      <td>4.000000</td>\n",
       "      <td>1.000000</td>\n",
       "      <td>0.000000</td>\n",
       "      <td>1.800000</td>\n",
       "      <td>0.080000</td>\n",
       "      <td>0.000000</td>\n",
       "      <td>1.100000</td>\n",
       "      <td>0.000000</td>\n",
       "    </tr>\n",
       "    <tr>\n",
       "      <th>50%</th>\n",
       "      <td>8.000000</td>\n",
       "      <td>1.029000e+03</td>\n",
       "      <td>6.800000</td>\n",
       "      <td>1.950000</td>\n",
       "      <td>14.000000</td>\n",
       "      <td>4.000000</td>\n",
       "      <td>1.300000</td>\n",
       "      <td>6.000000</td>\n",
       "      <td>0.570000</td>\n",
       "      <td>1.000000</td>\n",
       "      <td>6.200000</td>\n",
       "      <td>0.000000</td>\n",
       "    </tr>\n",
       "    <tr>\n",
       "      <th>75%</th>\n",
       "      <td>15.000000</td>\n",
       "      <td>1.639000e+03</td>\n",
       "      <td>21.000000</td>\n",
       "      <td>7.300000</td>\n",
       "      <td>52.800000</td>\n",
       "      <td>17.000000</td>\n",
       "      <td>3.200000</td>\n",
       "      <td>11.000000</td>\n",
       "      <td>1.250000</td>\n",
       "      <td>3.000000</td>\n",
       "      <td>12.500000</td>\n",
       "      <td>0.012500</td>\n",
       "    </tr>\n",
       "    <tr>\n",
       "      <th>max</th>\n",
       "      <td>40.000000</td>\n",
       "      <td>3.251373e+06</td>\n",
       "      <td>380.000000</td>\n",
       "      <td>210.000000</td>\n",
       "      <td>190.000000</td>\n",
       "      <td>105.000000</td>\n",
       "      <td>178.000000</td>\n",
       "      <td>100.000000</td>\n",
       "      <td>211.000000</td>\n",
       "      <td>31.000000</td>\n",
       "      <td>69.000000</td>\n",
       "      <td>10.900000</td>\n",
       "    </tr>\n",
       "  </tbody>\n",
       "</table>\n",
       "</div>"
      ],
      "text/plain": [
       "       nutrition-score-fr_100g   energy_100g      fat_100g  \\\n",
       "count             57888.000000  6.079900e+04  44012.000000   \n",
       "mean                  8.598172  1.168804e+03     13.243576   \n",
       "std                   9.021356  1.322872e+04     16.862843   \n",
       "min                 -15.000000  0.000000e+00      0.000000   \n",
       "25%                   1.000000  4.270000e+02      1.300000   \n",
       "50%                   8.000000  1.029000e+03      6.800000   \n",
       "75%                  15.000000  1.639000e+03     21.000000   \n",
       "max                  40.000000  3.251373e+06    380.000000   \n",
       "\n",
       "       saturated-fat_100g  carbohydrates_100g   sugars_100g    fiber_100g  \\\n",
       "count        58777.000000        43604.000000  58873.000000  43309.000000   \n",
       "mean             5.389584           27.378013     13.246220      2.523931   \n",
       "std              8.533552           27.295043     19.008464      4.619034   \n",
       "min              0.000000            0.000000     -0.100000      0.000000   \n",
       "25%              0.300000            4.000000      1.000000      0.000000   \n",
       "50%              1.950000           14.000000      4.000000      1.300000   \n",
       "75%              7.300000           52.800000     17.000000      3.200000   \n",
       "max            210.000000          190.000000    105.000000    178.000000   \n",
       "\n",
       "       proteins_100g     salt_100g   additives_n  alcohol_100g  \\\n",
       "count   60561.000000  58927.000000  47799.000000   2078.000000   \n",
       "mean        7.795289      1.163696      1.903764      9.085808   \n",
       "std         7.910278      4.311255      2.589077     10.379445   \n",
       "min         0.000000      0.000000      0.000000      0.000000   \n",
       "25%         1.800000      0.080000      0.000000      1.100000   \n",
       "50%         6.000000      0.570000      1.000000      6.200000   \n",
       "75%        11.000000      1.250000      3.000000     12.500000   \n",
       "max       100.000000    211.000000     31.000000     69.000000   \n",
       "\n",
       "       cholesterol_100g  \n",
       "count        249.000000  \n",
       "mean           0.060354  \n",
       "std            0.690866  \n",
       "min            0.000000  \n",
       "25%            0.000000  \n",
       "50%            0.000000  \n",
       "75%            0.012500  \n",
       "max           10.900000  "
      ]
     },
     "execution_count": 27,
     "metadata": {},
     "output_type": "execute_result"
    }
   ],
   "source": [
    "df.describe()"
   ]
  },
  {
   "cell_type": "code",
   "execution_count": 28,
   "id": "7fd899d8",
   "metadata": {
    "ExecuteTime": {
     "end_time": "2022-10-17T23:20:43.570617Z",
     "start_time": "2022-10-17T23:20:43.566254Z"
    }
   },
   "outputs": [
    {
     "data": {
      "text/plain": [
       "12"
      ]
     },
     "execution_count": 28,
     "metadata": {},
     "output_type": "execute_result"
    }
   ],
   "source": [
    "# nombre de colonnes de type 'float'\n",
    "df.select_dtypes('float').columns.size"
   ]
  },
  {
   "cell_type": "code",
   "execution_count": 29,
   "id": "768fb0ac",
   "metadata": {
    "ExecuteTime": {
     "end_time": "2022-10-17T23:20:43.576378Z",
     "start_time": "2022-10-17T23:20:43.572823Z"
    }
   },
   "outputs": [
    {
     "name": "stdout",
     "output_type": "stream",
     "text": [
      "nutrition-score-fr_100g\n",
      "energy_100g\n",
      "fat_100g\n",
      "saturated-fat_100g\n",
      "carbohydrates_100g\n",
      "sugars_100g\n",
      "fiber_100g\n",
      "proteins_100g\n",
      "salt_100g\n",
      "additives_n\n",
      "alcohol_100g\n",
      "cholesterol_100g\n"
     ]
    }
   ],
   "source": [
    "# nom des colonnes de type 'float'\n",
    "for col in df.select_dtypes('float'):\n",
    "    print(col)"
   ]
  },
  {
   "cell_type": "markdown",
   "id": "180e6cc0",
   "metadata": {},
   "source": [
    "## Apports nutritionnels"
   ]
  },
  {
   "cell_type": "code",
   "execution_count": 30,
   "id": "88bfa7ea",
   "metadata": {
    "ExecuteTime": {
     "end_time": "2022-10-17T23:20:43.581232Z",
     "start_time": "2022-10-17T23:20:43.578622Z"
    }
   },
   "outputs": [],
   "source": [
    "nutrition_facts = ['energy_100g', 'fat_100g', 'saturated-fat_100g', 'carbohydrates_100g',\n",
    "                   'sugars_100g', 'fiber_100g', 'proteins_100g', 'salt_100g',\n",
    "                  'alcohol_100g', 'cholesterol_100g'\n",
    "                  ]"
   ]
  },
  {
   "cell_type": "markdown",
   "id": "306b2239",
   "metadata": {},
   "source": [
    "Regardons la distribution des valeurs pour ces variables"
   ]
  },
  {
   "cell_type": "code",
   "execution_count": 31,
   "id": "fd3dc40d",
   "metadata": {
    "ExecuteTime": {
     "end_time": "2022-10-17T23:20:46.641591Z",
     "start_time": "2022-10-17T23:20:43.583578Z"
    },
    "scrolled": false
   },
   "outputs": [
    {
     "data": {
      "image/png": "[encoded data removed]",
      "text/plain": [
       "<Figure size 864x288 with 2 Axes>"
      ]
     },
     "metadata": {
      "needs_background": "light"
     },
     "output_type": "display_data"
    },
    {
     "data": {
      "image/png": "[encoded data removed]",
      "text/plain": [
       "<Figure size 864x288 with 2 Axes>"
      ]
     },
     "metadata": {
      "needs_background": "light"
     },
     "output_type": "display_data"
    },
    {
     "data": {
      "image/png": "[encoded data removed]",
      "text/plain": [
       "<Figure size 864x288 with 2 Axes>"
      ]
     },
     "metadata": {
      "needs_background": "light"
     },
     "output_type": "display_data"
    },
    {
     "data": {
      "image/png": "[encoded data removed]",
      "text/plain": [
       "<Figure size 864x288 with 2 Axes>"
      ]
     },
     "metadata": {
      "needs_background": "light"
     },
     "output_type": "display_data"
    },
    {
     "data": {
      "image/png": "[encoded data removed]",
      "text/plain": [
       "<Figure size 864x288 with 2 Axes>"
      ]
     },
     "metadata": {
      "needs_background": "light"
     },
     "output_type": "display_data"
    },
    {
     "data": {
      "image/png": "[encoded data removed]",
      "text/plain": [
       "<Figure size 864x288 with 2 Axes>"
      ]
     },
     "metadata": {
      "needs_background": "light"
     },
     "output_type": "display_data"
    },
    {
     "data": {
      "image/png": "[encoded data removed]",
      "text/plain": [
       "<Figure size 864x288 with 2 Axes>"
      ]
     },
     "metadata": {
      "needs_background": "light"
     },
     "output_type": "display_data"
    },
    {
     "data": {
      "image/png": "[encoded data removed]",
      "text/plain": [
       "<Figure size 864x288 with 2 Axes>"
      ]
     },
     "metadata": {
      "needs_background": "light"
     },
     "output_type": "display_data"
    },
    {
     "data": {
      "image/png": "[encoded data removed]",
      "text/plain": [
       "<Figure size 864x288 with 2 Axes>"
      ]
     },
     "metadata": {
      "needs_background": "light"
     },
     "output_type": "display_data"
    },
    {
     "data": {
      "image/png": "[encoded data removed]",
      "text/plain": [
       "<Figure size 864x288 with 2 Axes>"
      ]
     },
     "metadata": {
      "needs_background": "light"
     },
     "output_type": "display_data"
    }
   ],
   "source": [
    "i = 0\n",
    "for col in nutrition_facts:\n",
    "    fig, axs = plt.subplots(1, 2, sharey=True, figsize=(12,4))\n",
    "    sns.boxplot(x=df[col], ax=axs[0])\n",
    "    sns.boxplot(x=df[col], ax=axs[1], showfliers=False)\n",
    "    if i == 0:\n",
    "        axs[0].set_title('With outliers', fontsize=16)\n",
    "        axs[1].set_title('Without outliers', fontsize=16)\n",
    "        i += 1"
   ]
  },
  {
   "cell_type": "markdown",
   "id": "90eef097",
   "metadata": {},
   "source": [
    "## Score nutritionnel"
   ]
  },
  {
   "cell_type": "code",
   "execution_count": 32,
   "id": "b3edcdc9",
   "metadata": {
    "ExecuteTime": {
     "end_time": "2022-10-17T23:20:46.829750Z",
     "start_time": "2022-10-17T23:20:46.643442Z"
    }
   },
   "outputs": [
    {
     "data": {
      "text/plain": [
       "<AxesSubplot:xlabel='nutrition-score-fr_100g'>"
      ]
     },
     "execution_count": 32,
     "metadata": {},
     "output_type": "execute_result"
    },
    {
     "data": {
      "image/png": "[encoded data removed]",
      "text/plain": [
       "<Figure size 432x288 with 1 Axes>"
      ]
     },
     "metadata": {
      "needs_background": "light"
     },
     "output_type": "display_data"
    }
   ],
   "source": [
    "sns.boxplot(x='nutrition-score-fr_100g', data=df)"
   ]
  },
  {
   "cell_type": "markdown",
   "id": "0783475e",
   "metadata": {},
   "source": [
    "# Analyse des variables qualitatives"
   ]
  },
  {
   "cell_type": "markdown",
   "id": "c36cdde8",
   "metadata": {},
   "source": [
    "## Nutriscore"
   ]
  },
  {
   "cell_type": "code",
   "execution_count": 33,
   "id": "cd797ff7",
   "metadata": {
    "ExecuteTime": {
     "end_time": "2022-10-17T23:20:46.840242Z",
     "start_time": "2022-10-17T23:20:46.832316Z"
    }
   },
   "outputs": [
    {
     "data": {
      "text/plain": [
       "array([nan, 'd', 'e', 'c', 'b', 'a'], dtype=object)"
      ]
     },
     "execution_count": 33,
     "metadata": {},
     "output_type": "execute_result"
    }
   ],
   "source": [
    "df['nutrition_grade_fr'].unique()"
   ]
  },
  {
   "cell_type": "markdown",
   "id": "c693ba7d",
   "metadata": {},
   "source": [
    "On va mettre les lettres en capitales"
   ]
  },
  {
   "cell_type": "code",
   "execution_count": 34,
   "id": "bc652d6a",
   "metadata": {
    "ExecuteTime": {
     "end_time": "2022-10-17T23:20:46.871961Z",
     "start_time": "2022-10-17T23:20:46.842358Z"
    }
   },
   "outputs": [],
   "source": [
    "df['nutrition_grade_fr'] = df['nutrition_grade_fr'].str.upper()"
   ]
  },
  {
   "cell_type": "code",
   "execution_count": 35,
   "id": "47da6d64",
   "metadata": {
    "ExecuteTime": {
     "end_time": "2022-10-17T23:20:46.885018Z",
     "start_time": "2022-10-17T23:20:46.874583Z"
    }
   },
   "outputs": [
    {
     "data": {
      "text/plain": [
       "array([nan, 'D', 'E', 'C', 'B', 'A'], dtype=object)"
      ]
     },
     "execution_count": 35,
     "metadata": {},
     "output_type": "execute_result"
    }
   ],
   "source": [
    "df['nutrition_grade_fr'].unique()"
   ]
  },
  {
   "cell_type": "markdown",
   "id": "04afb334",
   "metadata": {},
   "source": [
    "## pnns_groups_1"
   ]
  },
  {
   "cell_type": "code",
   "execution_count": 36,
   "id": "ab7c594c",
   "metadata": {
    "ExecuteTime": {
     "end_time": "2022-10-17T23:20:46.898065Z",
     "start_time": "2022-10-17T23:20:46.889618Z"
    }
   },
   "outputs": [
    {
     "data": {
      "text/plain": [
       "array(['Cereals and potatoes', 'Sugary snacks', 'Beverages', nan,\n",
       "       'Fish Meat Eggs', 'Fruits and vegetables', 'Salty snacks',\n",
       "       'Fat and sauces', 'Composite foods', 'Milk and dairy products',\n",
       "       'fruits-and-vegetables', 'sugary-snacks', 'cereals-and-potatoes'],\n",
       "      dtype=object)"
      ]
     },
     "execution_count": 36,
     "metadata": {},
     "output_type": "execute_result"
    }
   ],
   "source": [
    "df['pnns_groups_1'].unique()"
   ]
  },
  {
   "cell_type": "markdown",
   "id": "d7c20ddd",
   "metadata": {},
   "source": [
    "Dans la variables `pnns_groups_1`, les valeurs 'Fruits and vegetables' et 'fruits-and-vegetables', 'Sugary snacks' et 'sugary-snacks', et  'Cereals and potatoes' et 'cereals-and-potatoes' semblent être identiques"
   ]
  },
  {
   "cell_type": "code",
   "execution_count": 37,
   "id": "acbfe1c9",
   "metadata": {
    "ExecuteTime": {
     "end_time": "2022-10-17T23:20:46.918509Z",
     "start_time": "2022-10-17T23:20:46.900523Z"
    }
   },
   "outputs": [],
   "source": [
    "mask = df['pnns_groups_1'] == 'fruits-and-vegetables'\n",
    "df.loc[mask, 'pnns_groups_1'] = 'Fruits and vegetables'\n",
    "\n",
    "mask = df['pnns_groups_1'] == 'sugary-snacks'\n",
    "df.loc[mask, 'pnns_groups_1'] = 'Sugary snacks'\n",
    "\n",
    "mask = df['pnns_groups_1'] == 'cereals-and-potatoes'\n",
    "df.loc[mask, 'pnns_groups_1'] = 'Cereals and potatoes'"
   ]
  },
  {
   "cell_type": "code",
   "execution_count": 38,
   "id": "b44ab294",
   "metadata": {
    "ExecuteTime": {
     "end_time": "2022-10-17T23:20:46.930466Z",
     "start_time": "2022-10-17T23:20:46.922516Z"
    }
   },
   "outputs": [
    {
     "data": {
      "text/plain": [
       "array(['Cereals and potatoes', 'Sugary snacks', 'Beverages', nan,\n",
       "       'Fish Meat Eggs', 'Fruits and vegetables', 'Salty snacks',\n",
       "       'Fat and sauces', 'Composite foods', 'Milk and dairy products'],\n",
       "      dtype=object)"
      ]
     },
     "execution_count": 38,
     "metadata": {},
     "output_type": "execute_result"
    }
   ],
   "source": [
    "df['pnns_groups_1'].unique()"
   ]
  },
  {
   "cell_type": "markdown",
   "id": "a4c8fe91",
   "metadata": {},
   "source": [
    "## pnns_groups_2"
   ]
  },
  {
   "cell_type": "code",
   "execution_count": 39,
   "id": "28c7ac0f",
   "metadata": {
    "ExecuteTime": {
     "end_time": "2022-10-17T23:20:46.946782Z",
     "start_time": "2022-10-17T23:20:46.933082Z"
    }
   },
   "outputs": [
    {
     "data": {
      "text/plain": [
       "array(['Legumes', 'Biscuits and cakes', 'Non-sugared beverages', nan,\n",
       "       'Sweetened beverages', 'Meat', 'Soups', 'Appetizers',\n",
       "       'Dressings and sauces', 'Chocolate products', 'Sweets',\n",
       "       'Dried fruits', 'Nuts', 'One-dish meals', 'Cheese', 'Fruits',\n",
       "       'Fats', 'Alcoholic beverages', 'Pizza pies and quiche',\n",
       "       'Vegetables', 'Breakfast cereals', 'Cereals', 'Fruit juices',\n",
       "       'vegetables', 'Ice cream', 'Milk and yogurt', 'Bread',\n",
       "       'Fish and seafood', 'Tripe dishes', 'pastries', 'Processed meat',\n",
       "       'Dairy desserts', 'Artificially sweetened beverages',\n",
       "       'Fruit nectars', 'Sandwich', 'Potatoes', 'Eggs',\n",
       "       'Salty and fatty products', 'fruits', 'legumes', 'cereals'],\n",
       "      dtype=object)"
      ]
     },
     "metadata": {},
     "output_type": "display_data"
    },
    {
     "data": {
      "text/plain": [
       "41"
      ]
     },
     "execution_count": 39,
     "metadata": {},
     "output_type": "execute_result"
    }
   ],
   "source": [
    "display(df['pnns_groups_2'].unique())\n",
    "df['pnns_groups_2'].unique().size"
   ]
  },
  {
   "cell_type": "markdown",
   "id": "48606482",
   "metadata": {},
   "source": [
    "On repère les valeurs identiques en identifiant celles qui se répètent une fois mises en minuscules"
   ]
  },
  {
   "cell_type": "code",
   "execution_count": 40,
   "id": "550bbde9",
   "metadata": {
    "ExecuteTime": {
     "end_time": "2022-10-17T23:20:46.959775Z",
     "start_time": "2022-10-17T23:20:46.949122Z"
    }
   },
   "outputs": [
    {
     "data": {
      "text/plain": [
       "23    vegetables\n",
       "38        fruits\n",
       "39       legumes\n",
       "40       cereals\n",
       "dtype: object"
      ]
     },
     "execution_count": 40,
     "metadata": {},
     "output_type": "execute_result"
    }
   ],
   "source": [
    "s = pd.Series(df['pnns_groups_2'].unique())\n",
    "s = s.str.lower()\n",
    "s[s.duplicated()]"
   ]
  },
  {
   "cell_type": "markdown",
   "id": "cfd7f821",
   "metadata": {},
   "source": [
    "Dans la variable `pnns_groups_2`, les valeurs 'Vegetables' et 'vegetables', 'Fruits' et 'fruits', 'Cereals' et 'cereals', 'Legumes' et 'legumes' semblent être identiques."
   ]
  },
  {
   "cell_type": "code",
   "execution_count": 41,
   "id": "948680d4",
   "metadata": {
    "ExecuteTime": {
     "end_time": "2022-10-17T23:20:46.986255Z",
     "start_time": "2022-10-17T23:20:46.962204Z"
    }
   },
   "outputs": [],
   "source": [
    "mask = df['pnns_groups_2'] == 'vegetables'\n",
    "df.loc[mask, 'pnns_groups_2'] = 'Vegetables'\n",
    "\n",
    "mask = df['pnns_groups_2'] == 'fruits'\n",
    "df.loc[mask, 'pnns_groups_2'] = 'Fruits'\n",
    "\n",
    "mask = df['pnns_groups_2'] == 'cereals'\n",
    "df.loc[mask, 'pnns_groups_2'] = 'Cereals'\n",
    "\n",
    "mask = df['pnns_groups_2'] == 'legumes'\n",
    "df.loc[mask, 'pnns_groups_2'] = 'Legumes'"
   ]
  },
  {
   "cell_type": "code",
   "execution_count": 42,
   "id": "544c370a",
   "metadata": {
    "ExecuteTime": {
     "end_time": "2022-10-17T23:20:47.001469Z",
     "start_time": "2022-10-17T23:20:46.988721Z"
    }
   },
   "outputs": [
    {
     "data": {
      "text/plain": [
       "array(['Legumes', 'Biscuits and cakes', 'Non-sugared beverages', nan,\n",
       "       'Sweetened beverages', 'Meat', 'Soups', 'Appetizers',\n",
       "       'Dressings and sauces', 'Chocolate products', 'Sweets',\n",
       "       'Dried fruits', 'Nuts', 'One-dish meals', 'Cheese', 'Fruits',\n",
       "       'Fats', 'Alcoholic beverages', 'Pizza pies and quiche',\n",
       "       'Vegetables', 'Breakfast cereals', 'Cereals', 'Fruit juices',\n",
       "       'Ice cream', 'Milk and yogurt', 'Bread', 'Fish and seafood',\n",
       "       'Tripe dishes', 'pastries', 'Processed meat', 'Dairy desserts',\n",
       "       'Artificially sweetened beverages', 'Fruit nectars', 'Sandwich',\n",
       "       'Potatoes', 'Eggs', 'Salty and fatty products'], dtype=object)"
      ]
     },
     "metadata": {},
     "output_type": "display_data"
    },
    {
     "data": {
      "text/plain": [
       "37"
      ]
     },
     "execution_count": 42,
     "metadata": {},
     "output_type": "execute_result"
    }
   ],
   "source": [
    "display(df['pnns_groups_2'].unique())\n",
    "df['pnns_groups_2'].unique().size"
   ]
  },
  {
   "cell_type": "markdown",
   "id": "17ce576d",
   "metadata": {},
   "source": [
    "# Traitement des valeurs aberrantes"
   ]
  },
  {
   "cell_type": "markdown",
   "id": "fb0c30b2",
   "metadata": {},
   "source": [
    "## energy_100g"
   ]
  },
  {
   "cell_type": "markdown",
   "id": "f7531d7a",
   "metadata": {},
   "source": [
    "D'après les valeurs statistiques de `energy_100g`, les valeurs semblent être exprimées majoritairement en kJ.\n",
    "L'aliment le plus calorique est l'huile et contient 900 kcal pour 100g, soit 3765 kJ ($900\\times4.184 = 3765$).\n",
    "On va donc considérer toutes les valeurs au-dessus de 3765 comme des valeurs aberrantes. <br>\n",
    "Source : https://sante.journaldesfemmes.fr/calories/classement/aliments/calories"
   ]
  },
  {
   "cell_type": "markdown",
   "id": "5dfc6883",
   "metadata": {},
   "source": [
    "On remplace les valeurs aberrantes par des nan"
   ]
  },
  {
   "cell_type": "code",
   "execution_count": 43,
   "id": "2cbaa97f",
   "metadata": {
    "ExecuteTime": {
     "end_time": "2022-10-17T23:20:47.008707Z",
     "start_time": "2022-10-17T23:20:47.004245Z"
    },
    "scrolled": true
   },
   "outputs": [],
   "source": [
    "mask = df['energy_100g'] > 3800\n",
    "df.loc[mask, 'energy_100g'] = np.nan"
   ]
  },
  {
   "cell_type": "code",
   "execution_count": 44,
   "id": "b7a65a26",
   "metadata": {
    "ExecuteTime": {
     "end_time": "2022-10-17T23:20:47.024883Z",
     "start_time": "2022-10-17T23:20:47.011120Z"
    }
   },
   "outputs": [
    {
     "data": {
      "text/plain": [
       "count    60708.000000\n",
       "mean      1104.989069\n",
       "std        769.239339\n",
       "min          0.000000\n",
       "25%        427.000000\n",
       "50%       1026.000000\n",
       "75%       1636.000000\n",
       "max       3774.000000\n",
       "Name: energy_100g, dtype: float64"
      ]
     },
     "execution_count": 44,
     "metadata": {},
     "output_type": "execute_result"
    }
   ],
   "source": [
    "df['energy_100g'].describe()"
   ]
  },
  {
   "cell_type": "markdown",
   "id": "91f30f14",
   "metadata": {},
   "source": [
    "Regardons de nouveau le boxplot"
   ]
  },
  {
   "cell_type": "code",
   "execution_count": 45,
   "id": "c82a84cd",
   "metadata": {
    "ExecuteTime": {
     "end_time": "2022-10-17T23:20:47.380416Z",
     "start_time": "2022-10-17T23:20:47.027013Z"
    }
   },
   "outputs": [
    {
     "data": {
      "image/png": "[encoded data removed]",
      "text/plain": [
       "<Figure size 864x288 with 2 Axes>"
      ]
     },
     "metadata": {
      "needs_background": "light"
     },
     "output_type": "display_data"
    }
   ],
   "source": [
    "fig, axs = plt.subplots(1, 2, figsize=(12,4))\n",
    "sns.boxplot(x=df['energy_100g'], showfliers=True, ax=axs[0])\n",
    "sns.boxplot(x=df['energy_100g'], showfliers=False, ax=axs[1]);"
   ]
  },
  {
   "cell_type": "markdown",
   "id": "6777a582",
   "metadata": {},
   "source": [
    "## Autres apports nutritionnels"
   ]
  },
  {
   "cell_type": "markdown",
   "id": "99ce49a7",
   "metadata": {},
   "source": [
    "### Approche générale"
   ]
  },
  {
   "cell_type": "markdown",
   "id": "3d2c2d37",
   "metadata": {},
   "source": [
    "On remplace les valeurs négatives par des nan"
   ]
  },
  {
   "cell_type": "code",
   "execution_count": 46,
   "id": "5504720c",
   "metadata": {
    "ExecuteTime": {
     "end_time": "2022-10-17T23:20:47.390203Z",
     "start_time": "2022-10-17T23:20:47.382585Z"
    }
   },
   "outputs": [],
   "source": [
    "for col in nutrition_facts:\n",
    "    mask = df[col] < 0\n",
    "    df.loc[mask, col] = np.nan"
   ]
  },
  {
   "cell_type": "markdown",
   "id": "f313a62c",
   "metadata": {},
   "source": [
    "On remplace les valeurs supérieures à 100 par des nan"
   ]
  },
  {
   "cell_type": "code",
   "execution_count": 47,
   "id": "021a3196",
   "metadata": {
    "ExecuteTime": {
     "end_time": "2022-10-17T23:20:47.399549Z",
     "start_time": "2022-10-17T23:20:47.392347Z"
    }
   },
   "outputs": [],
   "source": [
    "for col in nutrition_facts:\n",
    "    if col == 'energy_100g':\n",
    "        continue\n",
    "    mask = df[col] > 100\n",
    "    df.loc[mask, col] = np.nan"
   ]
  },
  {
   "cell_type": "markdown",
   "id": "3ba4d354",
   "metadata": {},
   "source": [
    "### saturated-fat_100g et sugars_100g"
   ]
  },
  {
   "cell_type": "markdown",
   "id": "52290679",
   "metadata": {},
   "source": [
    "Les valeurs pour `saturated-fat_100g` et `sugars_100g` doivent être inférieures à `fat_100g` et `carbohydrates` respectivement"
   ]
  },
  {
   "cell_type": "code",
   "execution_count": 48,
   "id": "98556965",
   "metadata": {
    "ExecuteTime": {
     "end_time": "2022-10-17T23:20:47.406563Z",
     "start_time": "2022-10-17T23:20:47.401429Z"
    }
   },
   "outputs": [],
   "source": [
    "# On remplace les valeurs aberrantes dans 'saturated-fat_100g'\n",
    "mask = df['saturated-fat_100g'] > df['fat_100g']\n",
    "df.loc[mask, 'saturated-fat_100g'] = np.nan\n",
    "\n",
    "# On remplace les valeurs aberrantes dans 'sugars_100g'\n",
    "mask = df['sugars_100g'] > df['carbohydrates_100g']\n",
    "df.loc[mask, 'sugars_100g'] = np.nan"
   ]
  },
  {
   "cell_type": "markdown",
   "id": "0896dd62",
   "metadata": {},
   "source": [
    "### Protéines"
   ]
  },
  {
   "cell_type": "markdown",
   "id": "fb3e892a",
   "metadata": {},
   "source": [
    "L'aliments le plus riches en protéines est la gélatine alimentaire et contient environ 88g pour 100g (https://sante.journaldesfemmes.fr/calories/classement/aliments/proteines). On peut donc supprimer les produits qui ont une valeur supérieure à celle-ci (sauf peut-être les protéines en poudre)."
   ]
  },
  {
   "cell_type": "code",
   "execution_count": 49,
   "id": "a24b4cfc",
   "metadata": {
    "ExecuteTime": {
     "end_time": "2022-10-17T23:20:47.440964Z",
     "start_time": "2022-10-17T23:20:47.408490Z"
    }
   },
   "outputs": [
    {
     "data": {
      "text/html": [
       "<div>\n",
       "<style scoped>\n",
       "    .dataframe tbody tr th:only-of-type {\n",
       "        vertical-align: middle;\n",
       "    }\n",
       "\n",
       "    .dataframe tbody tr th {\n",
       "        vertical-align: top;\n",
       "    }\n",
       "\n",
       "    .dataframe thead th {\n",
       "        text-align: right;\n",
       "    }\n",
       "</style>\n",
       "<table border=\"1\" class=\"dataframe\">\n",
       "  <thead>\n",
       "    <tr style=\"text-align: right;\">\n",
       "      <th></th>\n",
       "      <th>product_name</th>\n",
       "      <th>nutrition_grade_fr</th>\n",
       "      <th>nutrition-score-fr_100g</th>\n",
       "      <th>pnns_groups_1</th>\n",
       "      <th>pnns_groups_2</th>\n",
       "      <th>main_category_fr</th>\n",
       "      <th>energy_100g</th>\n",
       "      <th>fat_100g</th>\n",
       "      <th>saturated-fat_100g</th>\n",
       "      <th>carbohydrates_100g</th>\n",
       "      <th>sugars_100g</th>\n",
       "      <th>fiber_100g</th>\n",
       "      <th>proteins_100g</th>\n",
       "      <th>salt_100g</th>\n",
       "      <th>additives_n</th>\n",
       "      <th>alcohol_100g</th>\n",
       "      <th>cholesterol_100g</th>\n",
       "    </tr>\n",
       "  </thead>\n",
       "  <tbody>\n",
       "    <tr>\n",
       "      <th>127525</th>\n",
       "      <td>Savarez - Jeu De Cordes</td>\n",
       "      <td>A</td>\n",
       "      <td>-10.0</td>\n",
       "      <td>NaN</td>\n",
       "      <td>NaN</td>\n",
       "      <td>NaN</td>\n",
       "      <td>4.0</td>\n",
       "      <td>NaN</td>\n",
       "      <td>0.1</td>\n",
       "      <td>NaN</td>\n",
       "      <td>0.1</td>\n",
       "      <td>100.0</td>\n",
       "      <td>100.0</td>\n",
       "      <td>0.00</td>\n",
       "      <td>NaN</td>\n",
       "      <td>NaN</td>\n",
       "      <td>NaN</td>\n",
       "    </tr>\n",
       "    <tr>\n",
       "      <th>198798</th>\n",
       "      <td>Le saunier de camargue</td>\n",
       "      <td>E</td>\n",
       "      <td>20.0</td>\n",
       "      <td>NaN</td>\n",
       "      <td>NaN</td>\n",
       "      <td>NaN</td>\n",
       "      <td>243.0</td>\n",
       "      <td>NaN</td>\n",
       "      <td>36.0</td>\n",
       "      <td>NaN</td>\n",
       "      <td>0.5</td>\n",
       "      <td>0.0</td>\n",
       "      <td>96.0</td>\n",
       "      <td>100.00</td>\n",
       "      <td>NaN</td>\n",
       "      <td>NaN</td>\n",
       "      <td>NaN</td>\n",
       "    </tr>\n",
       "    <tr>\n",
       "      <th>213017</th>\n",
       "      <td>Edulcorant a l'extrait de stevia</td>\n",
       "      <td>B</td>\n",
       "      <td>0.0</td>\n",
       "      <td>NaN</td>\n",
       "      <td>NaN</td>\n",
       "      <td>Aliments et boissons à base de végétaux</td>\n",
       "      <td>1556.0</td>\n",
       "      <td>NaN</td>\n",
       "      <td>0.0</td>\n",
       "      <td>NaN</td>\n",
       "      <td>6.9</td>\n",
       "      <td>0.0</td>\n",
       "      <td>93.1</td>\n",
       "      <td>0.08</td>\n",
       "      <td>NaN</td>\n",
       "      <td>NaN</td>\n",
       "      <td>NaN</td>\n",
       "    </tr>\n",
       "    <tr>\n",
       "      <th>228018</th>\n",
       "      <td>Fromage blanc brebis</td>\n",
       "      <td>A</td>\n",
       "      <td>-1.0</td>\n",
       "      <td>NaN</td>\n",
       "      <td>NaN</td>\n",
       "      <td>NaN</td>\n",
       "      <td>364.0</td>\n",
       "      <td>NaN</td>\n",
       "      <td>3.2</td>\n",
       "      <td>NaN</td>\n",
       "      <td>2.9</td>\n",
       "      <td>0.0</td>\n",
       "      <td>94.7</td>\n",
       "      <td>0.10</td>\n",
       "      <td>NaN</td>\n",
       "      <td>NaN</td>\n",
       "      <td>NaN</td>\n",
       "    </tr>\n",
       "    <tr>\n",
       "      <th>273543</th>\n",
       "      <td>Le Hobbit : La Bataille Des Cinq Armés - Versi...</td>\n",
       "      <td>A</td>\n",
       "      <td>-10.0</td>\n",
       "      <td>NaN</td>\n",
       "      <td>NaN</td>\n",
       "      <td>NaN</td>\n",
       "      <td>4.0</td>\n",
       "      <td>NaN</td>\n",
       "      <td>0.0</td>\n",
       "      <td>NaN</td>\n",
       "      <td>0.0</td>\n",
       "      <td>100.0</td>\n",
       "      <td>100.0</td>\n",
       "      <td>0.00</td>\n",
       "      <td>NaN</td>\n",
       "      <td>NaN</td>\n",
       "      <td>NaN</td>\n",
       "    </tr>\n",
       "    <tr>\n",
       "      <th>274144</th>\n",
       "      <td>Impact whey isolate</td>\n",
       "      <td>B</td>\n",
       "      <td>1.0</td>\n",
       "      <td>NaN</td>\n",
       "      <td>NaN</td>\n",
       "      <td>NaN</td>\n",
       "      <td>1561.0</td>\n",
       "      <td>0.3</td>\n",
       "      <td>0.3</td>\n",
       "      <td>2.5</td>\n",
       "      <td>2.5</td>\n",
       "      <td>NaN</td>\n",
       "      <td>90.0</td>\n",
       "      <td>0.50</td>\n",
       "      <td>NaN</td>\n",
       "      <td>NaN</td>\n",
       "      <td>NaN</td>\n",
       "    </tr>\n",
       "    <tr>\n",
       "      <th>274145</th>\n",
       "      <td>Myprotein Impact Whey Isolate, Geschmacksneutral</td>\n",
       "      <td>B</td>\n",
       "      <td>1.0</td>\n",
       "      <td>NaN</td>\n",
       "      <td>NaN</td>\n",
       "      <td>NaN</td>\n",
       "      <td>1561.0</td>\n",
       "      <td>NaN</td>\n",
       "      <td>0.3</td>\n",
       "      <td>NaN</td>\n",
       "      <td>0.0</td>\n",
       "      <td>0.0</td>\n",
       "      <td>90.0</td>\n",
       "      <td>0.50</td>\n",
       "      <td>NaN</td>\n",
       "      <td>NaN</td>\n",
       "      <td>NaN</td>\n",
       "    </tr>\n",
       "    <tr>\n",
       "      <th>283105</th>\n",
       "      <td>Eau</td>\n",
       "      <td>E</td>\n",
       "      <td>24.0</td>\n",
       "      <td>NaN</td>\n",
       "      <td>NaN</td>\n",
       "      <td>NaN</td>\n",
       "      <td>418.0</td>\n",
       "      <td>NaN</td>\n",
       "      <td>100.0</td>\n",
       "      <td>NaN</td>\n",
       "      <td>100.0</td>\n",
       "      <td>100.0</td>\n",
       "      <td>100.0</td>\n",
       "      <td>2.00</td>\n",
       "      <td>NaN</td>\n",
       "      <td>NaN</td>\n",
       "      <td>NaN</td>\n",
       "    </tr>\n",
       "    <tr>\n",
       "      <th>285429</th>\n",
       "      <td>Marshall - Major Noir</td>\n",
       "      <td>C</td>\n",
       "      <td>10.0</td>\n",
       "      <td>NaN</td>\n",
       "      <td>NaN</td>\n",
       "      <td>NaN</td>\n",
       "      <td>21.0</td>\n",
       "      <td>NaN</td>\n",
       "      <td>5.0</td>\n",
       "      <td>NaN</td>\n",
       "      <td>5.0</td>\n",
       "      <td>100.0</td>\n",
       "      <td>100.0</td>\n",
       "      <td>50.00</td>\n",
       "      <td>NaN</td>\n",
       "      <td>NaN</td>\n",
       "      <td>NaN</td>\n",
       "    </tr>\n",
       "    <tr>\n",
       "      <th>303889</th>\n",
       "      <td>Mini Gressins</td>\n",
       "      <td>D</td>\n",
       "      <td>11.0</td>\n",
       "      <td>NaN</td>\n",
       "      <td>NaN</td>\n",
       "      <td>NaN</td>\n",
       "      <td>1640.0</td>\n",
       "      <td>NaN</td>\n",
       "      <td>4.0</td>\n",
       "      <td>NaN</td>\n",
       "      <td>2.5</td>\n",
       "      <td>3.5</td>\n",
       "      <td>95.0</td>\n",
       "      <td>2.00</td>\n",
       "      <td>NaN</td>\n",
       "      <td>NaN</td>\n",
       "      <td>NaN</td>\n",
       "    </tr>\n",
       "  </tbody>\n",
       "</table>\n",
       "</div>"
      ],
      "text/plain": [
       "                                             product_name nutrition_grade_fr  \\\n",
       "127525                            Savarez - Jeu De Cordes                  A   \n",
       "198798                             Le saunier de camargue                  E   \n",
       "213017                   Edulcorant a l'extrait de stevia                  B   \n",
       "228018                               Fromage blanc brebis                  A   \n",
       "273543  Le Hobbit : La Bataille Des Cinq Armés - Versi...                  A   \n",
       "274144                                Impact whey isolate                  B   \n",
       "274145   Myprotein Impact Whey Isolate, Geschmacksneutral                  B   \n",
       "283105                                                Eau                  E   \n",
       "285429                              Marshall - Major Noir                  C   \n",
       "303889                                      Mini Gressins                  D   \n",
       "\n",
       "        nutrition-score-fr_100g pnns_groups_1 pnns_groups_2  \\\n",
       "127525                    -10.0           NaN           NaN   \n",
       "198798                     20.0           NaN           NaN   \n",
       "213017                      0.0           NaN           NaN   \n",
       "228018                     -1.0           NaN           NaN   \n",
       "273543                    -10.0           NaN           NaN   \n",
       "274144                      1.0           NaN           NaN   \n",
       "274145                      1.0           NaN           NaN   \n",
       "283105                     24.0           NaN           NaN   \n",
       "285429                     10.0           NaN           NaN   \n",
       "303889                     11.0           NaN           NaN   \n",
       "\n",
       "                               main_category_fr  energy_100g  fat_100g  \\\n",
       "127525                                      NaN          4.0       NaN   \n",
       "198798                                      NaN        243.0       NaN   \n",
       "213017  Aliments et boissons à base de végétaux       1556.0       NaN   \n",
       "228018                                      NaN        364.0       NaN   \n",
       "273543                                      NaN          4.0       NaN   \n",
       "274144                                      NaN       1561.0       0.3   \n",
       "274145                                      NaN       1561.0       NaN   \n",
       "283105                                      NaN        418.0       NaN   \n",
       "285429                                      NaN         21.0       NaN   \n",
       "303889                                      NaN       1640.0       NaN   \n",
       "\n",
       "        saturated-fat_100g  carbohydrates_100g  sugars_100g  fiber_100g  \\\n",
       "127525                 0.1                 NaN          0.1       100.0   \n",
       "198798                36.0                 NaN          0.5         0.0   \n",
       "213017                 0.0                 NaN          6.9         0.0   \n",
       "228018                 3.2                 NaN          2.9         0.0   \n",
       "273543                 0.0                 NaN          0.0       100.0   \n",
       "274144                 0.3                 2.5          2.5         NaN   \n",
       "274145                 0.3                 NaN          0.0         0.0   \n",
       "283105               100.0                 NaN        100.0       100.0   \n",
       "285429                 5.0                 NaN          5.0       100.0   \n",
       "303889                 4.0                 NaN          2.5         3.5   \n",
       "\n",
       "        proteins_100g  salt_100g  additives_n  alcohol_100g  cholesterol_100g  \n",
       "127525          100.0       0.00          NaN           NaN               NaN  \n",
       "198798           96.0     100.00          NaN           NaN               NaN  \n",
       "213017           93.1       0.08          NaN           NaN               NaN  \n",
       "228018           94.7       0.10          NaN           NaN               NaN  \n",
       "273543          100.0       0.00          NaN           NaN               NaN  \n",
       "274144           90.0       0.50          NaN           NaN               NaN  \n",
       "274145           90.0       0.50          NaN           NaN               NaN  \n",
       "283105          100.0       2.00          NaN           NaN               NaN  \n",
       "285429          100.0      50.00          NaN           NaN               NaN  \n",
       "303889           95.0       2.00          NaN           NaN               NaN  "
      ]
     },
     "execution_count": 49,
     "metadata": {},
     "output_type": "execute_result"
    }
   ],
   "source": [
    "df[df['proteins_100g'] > 88]"
   ]
  },
  {
   "cell_type": "markdown",
   "id": "fc3fc307",
   "metadata": {},
   "source": [
    "On va supprimer ces éléments sauf les protéines"
   ]
  },
  {
   "cell_type": "code",
   "execution_count": 50,
   "id": "f77baa28",
   "metadata": {
    "ExecuteTime": {
     "end_time": "2022-10-17T23:20:47.532720Z",
     "start_time": "2022-10-17T23:20:47.443087Z"
    }
   },
   "outputs": [],
   "source": [
    "mask_1 = df['proteins_100g'] > 88\n",
    "mask_2 = df['product_name'].str.lower().str.contains('whey').fillna(False)\n",
    "df = df[~(mask_1 & ~mask_2)]"
   ]
  },
  {
   "cell_type": "code",
   "execution_count": 51,
   "id": "3207a972",
   "metadata": {
    "ExecuteTime": {
     "end_time": "2022-10-17T23:20:47.539834Z",
     "start_time": "2022-10-17T23:20:47.535028Z"
    }
   },
   "outputs": [
    {
     "data": {
      "text/plain": [
       "(71063, 17)"
      ]
     },
     "execution_count": 51,
     "metadata": {},
     "output_type": "execute_result"
    }
   ],
   "source": [
    "df.shape"
   ]
  },
  {
   "cell_type": "markdown",
   "id": "b3dabe3e",
   "metadata": {},
   "source": [
    "### Fibres"
   ]
  },
  {
   "cell_type": "markdown",
   "id": "6c1d1290",
   "metadata": {},
   "source": [
    "L'aliment le plus riche en fibres est la cannelle et contient 43,5g pour 100g (https://sante.journaldesfemmes.fr/calories/classement/aliments/fibres)."
   ]
  },
  {
   "cell_type": "code",
   "execution_count": 52,
   "id": "3df39240",
   "metadata": {
    "ExecuteTime": {
     "end_time": "2022-10-17T23:20:47.546014Z",
     "start_time": "2022-10-17T23:20:47.542220Z"
    }
   },
   "outputs": [],
   "source": [
    "df.loc[df['fiber_100g'] > 44, 'fiber_100g'] = np.nan"
   ]
  },
  {
   "cell_type": "markdown",
   "id": "43da6502",
   "metadata": {},
   "source": [
    "### Cholesterol"
   ]
  },
  {
   "cell_type": "markdown",
   "id": "3383ffa4",
   "metadata": {},
   "source": [
    "L'aliment que l'on peut trouver au supermarché et qui contient le plus de cholestérol est le foie gras de canard avec 1.040 g pour 100g (https://sante.journaldesfemmes.fr/calories/classement/aliments/cholesterol)."
   ]
  },
  {
   "cell_type": "code",
   "execution_count": 53,
   "id": "2ee516eb",
   "metadata": {
    "ExecuteTime": {
     "end_time": "2022-10-17T23:20:47.558650Z",
     "start_time": "2022-10-17T23:20:47.548968Z"
    }
   },
   "outputs": [],
   "source": [
    "df.loc[df['cholesterol_100g'] > 1, 'cholesterol_100g'] = np.nan"
   ]
  },
  {
   "cell_type": "markdown",
   "id": "9ef3faaa",
   "metadata": {},
   "source": [
    "## Résultats"
   ]
  },
  {
   "cell_type": "markdown",
   "id": "2a8f1b6b",
   "metadata": {},
   "source": [
    "On regarde de nouveau les boxplot"
   ]
  },
  {
   "cell_type": "code",
   "execution_count": 54,
   "id": "875ce9ed",
   "metadata": {
    "ExecuteTime": {
     "end_time": "2022-10-17T23:20:50.194023Z",
     "start_time": "2022-10-17T23:20:47.560859Z"
    },
    "scrolled": false
   },
   "outputs": [
    {
     "data": {
      "image/png": "[encoded data removed]",
      "text/plain": [
       "<Figure size 864x288 with 2 Axes>"
      ]
     },
     "metadata": {
      "needs_background": "light"
     },
     "output_type": "display_data"
    },
    {
     "data": {
      "image/png": "[encoded data removed]",
      "text/plain": [
       "<Figure size 864x288 with 2 Axes>"
      ]
     },
     "metadata": {
      "needs_background": "light"
     },
     "output_type": "display_data"
    },
    {
     "data": {
      "image/png": "[encoded data removed]",
      "text/plain": [
       "<Figure size 864x288 with 2 Axes>"
      ]
     },
     "metadata": {
      "needs_background": "light"
     },
     "output_type": "display_data"
    },
    {
     "data": {
      "image/png": "[encoded data removed]",
      "text/plain": [
       "<Figure size 864x288 with 2 Axes>"
      ]
     },
     "metadata": {
      "needs_background": "light"
     },
     "output_type": "display_data"
    },
    {
     "data": {
      "image/png": "[encoded data removed]",
      "text/plain": [
       "<Figure size 864x288 with 2 Axes>"
      ]
     },
     "metadata": {
      "needs_background": "light"
     },
     "output_type": "display_data"
    },
    {
     "data": {
      "image/png": "[encoded data removed]",
      "text/plain": [
       "<Figure size 864x288 with 2 Axes>"
      ]
     },
     "metadata": {
      "needs_background": "light"
     },
     "output_type": "display_data"
    },
    {
     "data": {
      "image/png": "[encoded data removed]",
      "text/plain": [
       "<Figure size 864x288 with 2 Axes>"
      ]
     },
     "metadata": {
      "needs_background": "light"
     },
     "output_type": "display_data"
    },
    {
     "data": {
      "image/png": "[encoded data removed]",
      "text/plain": [
       "<Figure size 864x288 with 2 Axes>"
      ]
     },
     "metadata": {
      "needs_background": "light"
     },
     "output_type": "display_data"
    },
    {
     "data": {
      "image/png": "[encoded data removed]",
      "text/plain": [
       "<Figure size 864x288 with 2 Axes>"
      ]
     },
     "metadata": {
      "needs_background": "light"
     },
     "output_type": "display_data"
    },
    {
     "data": {
      "image/png": "[encoded data removed]",
      "text/plain": [
       "<Figure size 864x288 with 2 Axes>"
      ]
     },
     "metadata": {
      "needs_background": "light"
     },
     "output_type": "display_data"
    }
   ],
   "source": [
    "i = 0\n",
    "for col in nutrition_facts:\n",
    "    fig, axs = plt.subplots(1, 2, sharey=True, figsize=(12, 4))\n",
    "    sns.boxplot(x=df[col], ax=axs[0])\n",
    "    sns.boxplot(x=df[col], ax=axs[1], showfliers=False)\n",
    "    if i == 0:\n",
    "        axs[0].set_title('With outliers', fontsize=16)\n",
    "        axs[1].set_title('Without outliers', fontsize=16)\n",
    "        i += 1"
   ]
  },
  {
   "cell_type": "code",
   "execution_count": 55,
   "id": "5371c519",
   "metadata": {
    "ExecuteTime": {
     "end_time": "2022-10-17T23:20:50.819249Z",
     "start_time": "2022-10-17T23:20:50.196133Z"
    }
   },
   "outputs": [],
   "source": [
    "# On sauvegarde les données nettoyées non imputées\n",
    "df.to_csv('df_nan.csv')"
   ]
  },
  {
   "cell_type": "markdown",
   "id": "e8686211",
   "metadata": {},
   "source": [
    "# Traitement des valeurs manquantes"
   ]
  },
  {
   "cell_type": "code",
   "execution_count": 56,
   "id": "8a371373",
   "metadata": {
    "ExecuteTime": {
     "end_time": "2022-10-17T23:20:50.877838Z",
     "start_time": "2022-10-17T23:20:50.821329Z"
    }
   },
   "outputs": [
    {
     "data": {
      "text/plain": [
       "product_name               0.004545\n",
       "nutrition_grade_fr         0.185511\n",
       "nutrition-score-fr_100g    0.185511\n",
       "pnns_groups_1              0.320378\n",
       "pnns_groups_2              0.297553\n",
       "main_category_fr           0.232329\n",
       "energy_100g                0.145828\n",
       "fat_100g                   0.380690\n",
       "saturated-fat_100g         0.174085\n",
       "carbohydrates_100g         0.386516\n",
       "sugars_100g                0.172973\n",
       "fiber_100g                 0.391681\n",
       "proteins_100g              0.147897\n",
       "salt_100g                  0.170919\n",
       "additives_n                0.327371\n",
       "alcohol_100g               0.970758\n",
       "cholesterol_100g           0.996510\n",
       "dtype: float64"
      ]
     },
     "execution_count": 56,
     "metadata": {},
     "output_type": "execute_result"
    }
   ],
   "source": [
    "df.isna().mean()"
   ]
  },
  {
   "cell_type": "markdown",
   "id": "7422b93c",
   "metadata": {},
   "source": [
    "## Eau"
   ]
  },
  {
   "cell_type": "markdown",
   "id": "11441e8d",
   "metadata": {},
   "source": [
    "On attribue une note de **A** à toutes les boissons de la catégorie `Eaux` car c'est le nutriscore de l'eau par défaut."
   ]
  },
  {
   "cell_type": "code",
   "execution_count": 57,
   "id": "3f8dac38",
   "metadata": {
    "ExecuteTime": {
     "end_time": "2022-10-17T23:20:50.886047Z",
     "start_time": "2022-10-17T23:20:50.879684Z"
    }
   },
   "outputs": [],
   "source": [
    "df.loc[df['main_category_fr'] == 'Eaux', 'nutrition_grade_fr'] = 'A'"
   ]
  },
  {
   "cell_type": "markdown",
   "id": "492e1d01",
   "metadata": {},
   "source": [
    "## Imputation par 0"
   ]
  },
  {
   "cell_type": "markdown",
   "id": "ec9e4e26",
   "metadata": {
    "ExecuteTime": {
     "end_time": "2022-05-13T14:37:50.068324Z",
     "start_time": "2022-05-13T14:37:50.054522Z"
    }
   },
   "source": [
    "Pour les variables `fiber_100g` et `alcohol_100g` on va remplacer les valeurs manquantes par 0 car la plupart des aliments ne contiennent pas de fibre ou d'alcool, on peut donc supposer que les valeurs manquantes correspondent en fait à des 0."
   ]
  },
  {
   "cell_type": "code",
   "execution_count": 58,
   "id": "26fcc200",
   "metadata": {
    "ExecuteTime": {
     "end_time": "2022-10-17T23:20:50.897409Z",
     "start_time": "2022-10-17T23:20:50.887898Z"
    }
   },
   "outputs": [],
   "source": [
    "df.loc[:, ['fiber_100g', 'alcohol_100g', 'additives_n']] = df[['fiber_100g', 'alcohol_100g', 'additives_n']].fillna(0)"
   ]
  },
  {
   "cell_type": "code",
   "execution_count": 59,
   "id": "fb63535c",
   "metadata": {
    "ExecuteTime": {
     "end_time": "2022-10-17T23:20:50.907947Z",
     "start_time": "2022-10-17T23:20:50.899764Z"
    }
   },
   "outputs": [
    {
     "data": {
      "text/plain": [
       "fiber_100g      0.0\n",
       "alcohol_100g    0.0\n",
       "additives_n     0.0\n",
       "dtype: float64"
      ]
     },
     "execution_count": 59,
     "metadata": {},
     "output_type": "execute_result"
    }
   ],
   "source": [
    "df[['fiber_100g', 'alcohol_100g', 'additives_n']].isna().mean()"
   ]
  },
  {
   "cell_type": "markdown",
   "id": "2714b11a",
   "metadata": {},
   "source": [
    "## IterativeImputer"
   ]
  },
  {
   "cell_type": "markdown",
   "id": "b5787949",
   "metadata": {},
   "source": [
    "Nous allons utiliser ici la fonction `IterativeImputer` de scikit-learn. Cependant, cette fonction n'est efficace qu'avec des variables qui sont corrélées entre elles. Nous allons donc d'abord étudier les corrélations entre les variables quantitatives de notre data set"
   ]
  },
  {
   "cell_type": "markdown",
   "id": "f4d1f060",
   "metadata": {},
   "source": [
    "### Etude des corrélations"
   ]
  },
  {
   "cell_type": "markdown",
   "id": "05e5382c",
   "metadata": {
    "ExecuteTime": {
     "end_time": "2022-05-13T14:41:42.604729Z",
     "start_time": "2022-05-13T14:41:42.600555Z"
    }
   },
   "source": [
    "Voyons d'abord les variables qui semblent corrélées entre elles à l'aide de la matrice des corrélations"
   ]
  },
  {
   "cell_type": "code",
   "execution_count": 60,
   "id": "bdc4ac28",
   "metadata": {
    "ExecuteTime": {
     "end_time": "2022-10-17T23:20:51.287254Z",
     "start_time": "2022-10-17T23:20:50.910865Z"
    }
   },
   "outputs": [
    {
     "data": {
      "image/png": "[encoded data removed]",
      "text/plain": [
       "<Figure size 792x648 with 2 Axes>"
      ]
     },
     "metadata": {
      "needs_background": "light"
     },
     "output_type": "display_data"
    }
   ],
   "source": [
    "# Compute the correlation matrix\n",
    "corr = df.corr()\n",
    "\n",
    "# Generate a mask for the upper triangle\n",
    "mask = np.triu(np.ones_like(corr, dtype=bool))\n",
    "\n",
    "# Set up the matplotlib figure\n",
    "fig, ax = plt.subplots(figsize=(11, 9))\n",
    "\n",
    "# Generate a custom diverging colormap\n",
    "cmap = sns.diverging_palette(230, 20, as_cmap=True)\n",
    "\n",
    "# Draw the heatmap with the mask and correct aspect ratio\n",
    "sns.heatmap(corr, mask=mask, cmap=cmap, vmax=1, center=0,\n",
    "            square=True, linewidths=.5, cbar_kws={\"shrink\": .5})\n",
    "plt.xticks(rotation=50);"
   ]
  },
  {
   "cell_type": "markdown",
   "id": "cf0b613a",
   "metadata": {},
   "source": [
    "Les variables `energy_100g`, `fat_100g` et `saturated-fat_100g` semblent corrélées entre elles. De même que `carbohydrates_100g` et `sugars_100g`."
   ]
  },
  {
   "cell_type": "markdown",
   "id": "5020e025",
   "metadata": {},
   "source": [
    "On crée une fonction qui permet d'afficher les variables corrélées au-delà d'un certain seuil"
   ]
  },
  {
   "cell_type": "code",
   "execution_count": 61,
   "id": "ae36503c",
   "metadata": {
    "ExecuteTime": {
     "end_time": "2022-10-17T23:20:51.294275Z",
     "start_time": "2022-10-17T23:20:51.289280Z"
    }
   },
   "outputs": [],
   "source": [
    "def print_correlations(df, min_corr, max_corr=1):\n",
    "    \"\"\"\n",
    "    Print the correlations between different variables if the value is between min_corr and max_corr.\n",
    "    \n",
    "    \n",
    "    Parameters\n",
    "    ----------\n",
    "    df : class:`pandas.DataFrame`\n",
    "        The DataFrame from which we compute the correlation matrix.\n",
    "    \n",
    "    min_corr : float\n",
    "        Minimum correlation value to print.\n",
    "    \n",
    "    max_corr : float, default: 1\n",
    "        Maximum correlation value to print.\n",
    "    \"\"\"\n",
    "    \n",
    "    # We fill the upper right diagonal with NaNs so we don't print the correlation of the variable\n",
    "    # with itself and we dont print 2 times the same pair of variables\n",
    "    corr = df.corr()\n",
    "    for i in range(corr.shape[0]):\n",
    "        for j in np.arange(corr.shape[1])[i:]:\n",
    "            corr.iloc[i, j] = np.nan\n",
    "\n",
    "    mask = (corr > min_corr) & (corr <= max_corr)\n",
    "\n",
    "    for col in corr.columns:\n",
    "        values = corr[mask][col].dropna().values.round(3) # we round to the thousandth\n",
    "        if values.size > 0:\n",
    "            indexes = corr[mask][col].dropna().index\n",
    "            for i in range(indexes.size):\n",
    "                print(f'{col} / {indexes[i]}' + '-'*(60-(len(col)+len(indexes[i]))) + f'({values[i]})')"
   ]
  },
  {
   "cell_type": "markdown",
   "id": "cde62e96",
   "metadata": {},
   "source": [
    "On affiche les variables corrélées à plus de 50%"
   ]
  },
  {
   "cell_type": "code",
   "execution_count": 62,
   "id": "033d9ca5",
   "metadata": {
    "ExecuteTime": {
     "end_time": "2022-10-17T23:20:51.346812Z",
     "start_time": "2022-10-17T23:20:51.295941Z"
    }
   },
   "outputs": [
    {
     "name": "stdout",
     "output_type": "stream",
     "text": [
      "nutrition-score-fr_100g / energy_100g--------------------------(0.625)\n",
      "nutrition-score-fr_100g / fat_100g-----------------------------(0.575)\n",
      "nutrition-score-fr_100g / saturated-fat_100g-------------------(0.601)\n",
      "energy_100g / fat_100g-----------------------------------------(0.784)\n",
      "energy_100g / saturated-fat_100g-------------------------------(0.574)\n",
      "energy_100g / carbohydrates_100g-------------------------------(0.517)\n",
      "fat_100g / saturated-fat_100g----------------------------------(0.739)\n",
      "carbohydrates_100g / sugars_100g-------------------------------(0.64)\n"
     ]
    }
   ],
   "source": [
    "print_correlations(df, .5)"
   ]
  },
  {
   "cell_type": "markdown",
   "id": "bcafa0b0",
   "metadata": {},
   "source": [
    "On peut également remarquer la corrélation entre le score nutritionnel et les variables `energy_100g`, `fat_100g`, `saturated-fat_100g`, `sugars_100g`. C'est normal car plus un aliment est gras et sucré plus sa note est mauvaise et donc plus elle est élevée (Le score nutritionnel compte des valeurs entre -15 et 40 où -15 correspond à la meilleure note et 40 à la pire)."
   ]
  },
  {
   "cell_type": "markdown",
   "id": "e0ecf434",
   "metadata": {},
   "source": [
    "### Remplissage des valeurs manquantes"
   ]
  },
  {
   "cell_type": "code",
   "execution_count": 63,
   "id": "cc4944b5",
   "metadata": {
    "ExecuteTime": {
     "end_time": "2022-10-17T23:20:51.468026Z",
     "start_time": "2022-10-17T23:20:51.348722Z"
    }
   },
   "outputs": [],
   "source": [
    "# explicitly require this experimental feature\n",
    "from sklearn.experimental import enable_iterative_imputer  # noqa\n",
    "# now you can import normally from sklearn.impute\n",
    "from sklearn.impute import IterativeImputer"
   ]
  },
  {
   "cell_type": "markdown",
   "id": "515fedf2",
   "metadata": {},
   "source": [
    "#### Variables liées aux matières grasses"
   ]
  },
  {
   "cell_type": "code",
   "execution_count": 64,
   "id": "91e0f00a",
   "metadata": {
    "ExecuteTime": {
     "end_time": "2022-10-17T23:20:51.688286Z",
     "start_time": "2022-10-17T23:20:51.469837Z"
    }
   },
   "outputs": [
    {
     "data": {
      "text/plain": [
       "energy_100g           0.0\n",
       "fat_100g              0.0\n",
       "saturated-fat_100g    0.0\n",
       "dtype: float64"
      ]
     },
     "execution_count": 64,
     "metadata": {},
     "output_type": "execute_result"
    }
   ],
   "source": [
    "fat = ['energy_100g', 'fat_100g', 'saturated-fat_100g']\n",
    "\n",
    "imputer = IterativeImputer(random_state=0, max_iter=20, \n",
    "                           min_value=[0, 0, 0], max_value=[3765, 100, 100]\n",
    "                          )\n",
    "X = imputer.fit_transform(df[fat])\n",
    "\n",
    "df[fat] = X\n",
    "df[fat].isna().mean()"
   ]
  },
  {
   "cell_type": "markdown",
   "id": "d3ec4dea",
   "metadata": {
    "ExecuteTime": {
     "end_time": "2022-05-14T04:39:36.823683Z",
     "start_time": "2022-05-14T04:39:36.821231Z"
    }
   },
   "source": [
    "#### Variables liées au sucre"
   ]
  },
  {
   "cell_type": "code",
   "execution_count": 65,
   "id": "cc4ced34",
   "metadata": {
    "ExecuteTime": {
     "end_time": "2022-10-17T23:20:51.753126Z",
     "start_time": "2022-10-17T23:20:51.690260Z"
    }
   },
   "outputs": [
    {
     "data": {
      "text/plain": [
       "carbohydrates_100g    0.0\n",
       "sugars_100g           0.0\n",
       "dtype: float64"
      ]
     },
     "execution_count": 65,
     "metadata": {},
     "output_type": "execute_result"
    }
   ],
   "source": [
    "sugar = ['carbohydrates_100g', 'sugars_100g']\n",
    "\n",
    "imputer = IterativeImputer(random_state=0, max_iter=20, min_value=[0, 0], max_value=[100, 100])\n",
    "X = imputer.fit_transform(df[sugar])\n",
    "\n",
    "df[sugar] = X\n",
    "df[sugar].isna().mean()"
   ]
  },
  {
   "cell_type": "markdown",
   "id": "c9b13dce",
   "metadata": {},
   "source": [
    "On vérifie s'il y a des valeurs aberrantes"
   ]
  },
  {
   "cell_type": "code",
   "execution_count": 66,
   "id": "c942b0b2",
   "metadata": {
    "ExecuteTime": {
     "end_time": "2022-10-17T23:20:51.761354Z",
     "start_time": "2022-10-17T23:20:51.755010Z"
    }
   },
   "outputs": [
    {
     "data": {
      "text/plain": [
       "(2868, 17)"
      ]
     },
     "execution_count": 66,
     "metadata": {},
     "output_type": "execute_result"
    }
   ],
   "source": [
    "df[df['saturated-fat_100g'] > df['fat_100g']].shape"
   ]
  },
  {
   "cell_type": "code",
   "execution_count": 67,
   "id": "fc784a5f",
   "metadata": {
    "ExecuteTime": {
     "end_time": "2022-10-17T23:20:51.769391Z",
     "start_time": "2022-10-17T23:20:51.763794Z"
    }
   },
   "outputs": [
    {
     "data": {
      "text/plain": [
       "(0, 17)"
      ]
     },
     "execution_count": 67,
     "metadata": {},
     "output_type": "execute_result"
    }
   ],
   "source": [
    "df[df['sugars_100g'] > df['carbohydrates_100g']].shape"
   ]
  },
  {
   "cell_type": "markdown",
   "id": "40fcd072",
   "metadata": {},
   "source": [
    "On les remplace par des nan"
   ]
  },
  {
   "cell_type": "code",
   "execution_count": 68,
   "id": "af44f9a8",
   "metadata": {
    "ExecuteTime": {
     "end_time": "2022-10-17T23:20:51.792895Z",
     "start_time": "2022-10-17T23:20:51.786843Z"
    }
   },
   "outputs": [],
   "source": [
    "df.loc[df['saturated-fat_100g'] > df['fat_100g'], ['saturated-fat_100g', 'fat_100g']] = np.nan"
   ]
  },
  {
   "cell_type": "markdown",
   "id": "b2111908",
   "metadata": {},
   "source": [
    "## Médiane"
   ]
  },
  {
   "cell_type": "markdown",
   "id": "ab8ae415",
   "metadata": {},
   "source": [
    "On va remplir les valeurs manquantes des variables numériques en fonction de leur catégorie (`main_category_fr`) puis en fonction de leur groupe (`pnns_groups_2`) s'il reste des nan, sauf pour la variable `cholesterol_100g` dont on s'occupera plus tard"
   ]
  },
  {
   "cell_type": "code",
   "execution_count": 69,
   "id": "7a5ebd93",
   "metadata": {
    "ExecuteTime": {
     "end_time": "2022-10-17T23:20:51.810532Z",
     "start_time": "2022-10-17T23:20:51.798216Z"
    }
   },
   "outputs": [
    {
     "data": {
      "text/plain": [
       "energy_100g                0.000000\n",
       "carbohydrates_100g         0.000000\n",
       "sugars_100g                0.000000\n",
       "fiber_100g                 0.000000\n",
       "additives_n                0.000000\n",
       "alcohol_100g               0.000000\n",
       "fat_100g                   0.040359\n",
       "saturated-fat_100g         0.040359\n",
       "proteins_100g              0.147897\n",
       "salt_100g                  0.170919\n",
       "nutrition-score-fr_100g    0.185511\n",
       "dtype: float64"
      ]
     },
     "execution_count": 69,
     "metadata": {},
     "output_type": "execute_result"
    }
   ],
   "source": [
    "columns = list(df.select_dtypes(np.number))\n",
    "columns.remove('cholesterol_100g')\n",
    "df[columns].isna().mean().sort_values()"
   ]
  },
  {
   "cell_type": "markdown",
   "id": "48643d5e",
   "metadata": {},
   "source": [
    "On commence par remplacer par la médiane des aliments qui ont la même valeur de `main_category_fr`"
   ]
  },
  {
   "cell_type": "code",
   "execution_count": 70,
   "id": "ff826b8d",
   "metadata": {
    "ExecuteTime": {
     "end_time": "2022-10-17T23:20:51.859582Z",
     "start_time": "2022-10-17T23:20:51.813020Z"
    }
   },
   "outputs": [],
   "source": [
    "df.loc[:, columns] = df[columns].fillna(df.groupby('main_category_fr')[columns].transform('median'))"
   ]
  },
  {
   "cell_type": "code",
   "execution_count": 71,
   "id": "b6a5d16b",
   "metadata": {
    "ExecuteTime": {
     "end_time": "2022-10-17T23:20:51.872131Z",
     "start_time": "2022-10-17T23:20:51.861782Z"
    }
   },
   "outputs": [
    {
     "data": {
      "text/plain": [
       "nutrition-score-fr_100g    0.001393\n",
       "energy_100g                0.000000\n",
       "fat_100g                   0.000366\n",
       "saturated-fat_100g         0.000366\n",
       "carbohydrates_100g         0.000000\n",
       "sugars_100g                0.000000\n",
       "fiber_100g                 0.000000\n",
       "proteins_100g              0.000493\n",
       "salt_100g                  0.001112\n",
       "additives_n                0.000000\n",
       "alcohol_100g               0.000000\n",
       "dtype: float64"
      ]
     },
     "execution_count": 71,
     "metadata": {},
     "output_type": "execute_result"
    }
   ],
   "source": [
    "df[columns].isna().mean()"
   ]
  },
  {
   "cell_type": "markdown",
   "id": "035ac282",
   "metadata": {},
   "source": [
    "Ensuite, on remplace par la médiane des aliments qui ont la même valeur de `pnns_groups_2`"
   ]
  },
  {
   "cell_type": "code",
   "execution_count": 72,
   "id": "6335a7f7",
   "metadata": {
    "ExecuteTime": {
     "end_time": "2022-10-17T23:20:51.917209Z",
     "start_time": "2022-10-17T23:20:51.874566Z"
    }
   },
   "outputs": [],
   "source": [
    "df.loc[:, columns] = df[columns].fillna(df.groupby('pnns_groups_2')[columns].transform('median'))"
   ]
  },
  {
   "cell_type": "code",
   "execution_count": 73,
   "id": "77128cef",
   "metadata": {
    "ExecuteTime": {
     "end_time": "2022-10-17T23:20:51.931150Z",
     "start_time": "2022-10-17T23:20:51.919992Z"
    }
   },
   "outputs": [
    {
     "data": {
      "text/plain": [
       "nutrition-score-fr_100g    0.0\n",
       "energy_100g                0.0\n",
       "fat_100g                   0.0\n",
       "saturated-fat_100g         0.0\n",
       "carbohydrates_100g         0.0\n",
       "sugars_100g                0.0\n",
       "fiber_100g                 0.0\n",
       "proteins_100g              0.0\n",
       "salt_100g                  0.0\n",
       "additives_n                0.0\n",
       "alcohol_100g               0.0\n",
       "dtype: float64"
      ]
     },
     "execution_count": 73,
     "metadata": {},
     "output_type": "execute_result"
    }
   ],
   "source": [
    "df[columns].isna().mean()"
   ]
  },
  {
   "cell_type": "markdown",
   "id": "3acdf380",
   "metadata": {},
   "source": [
    "## cholesterol_100g"
   ]
  },
  {
   "cell_type": "markdown",
   "id": "03eaa7a5",
   "metadata": {
    "ExecuteTime": {
     "end_time": "2022-05-24T07:21:57.730192Z",
     "start_time": "2022-05-24T07:21:57.726688Z"
    }
   },
   "source": [
    "On va utiliser la même stratégie mais avec les données initiales pour lesquelles la colonne `cholesterol_100g` est bien plus remplie"
   ]
  },
  {
   "cell_type": "markdown",
   "id": "236b15d4",
   "metadata": {},
   "source": [
    "On remplit d'abord en fonction de `main_category_fr`"
   ]
  },
  {
   "cell_type": "code",
   "execution_count": 74,
   "id": "40412e02",
   "metadata": {
    "ExecuteTime": {
     "end_time": "2022-10-17T23:20:51.970180Z",
     "start_time": "2022-10-17T23:20:51.933089Z"
    }
   },
   "outputs": [],
   "source": [
    "df.loc[:, 'cholesterol_100g'] = df['cholesterol_100g'].fillna(data.groupby('main_category_fr')['cholesterol_100g'].transform('median'))"
   ]
  },
  {
   "cell_type": "code",
   "execution_count": 75,
   "id": "511eea2c",
   "metadata": {
    "ExecuteTime": {
     "end_time": "2022-10-17T23:20:51.978493Z",
     "start_time": "2022-10-17T23:20:51.972456Z"
    }
   },
   "outputs": [
    {
     "data": {
      "text/plain": [
       "0.3339853369545333"
      ]
     },
     "execution_count": 75,
     "metadata": {},
     "output_type": "execute_result"
    }
   ],
   "source": [
    "df['cholesterol_100g'].isna().mean()"
   ]
  },
  {
   "cell_type": "markdown",
   "id": "d53e4b60",
   "metadata": {},
   "source": [
    "Puis en fonction de `pnns_groups_2`"
   ]
  },
  {
   "cell_type": "code",
   "execution_count": 76,
   "id": "0a8f07a9",
   "metadata": {
    "ExecuteTime": {
     "end_time": "2022-10-17T23:20:52.010631Z",
     "start_time": "2022-10-17T23:20:51.980745Z"
    }
   },
   "outputs": [],
   "source": [
    "df.loc[:, 'cholesterol_100g'] = df['cholesterol_100g'].fillna(data.groupby('pnns_groups_2')['cholesterol_100g'].transform('median'))"
   ]
  },
  {
   "cell_type": "code",
   "execution_count": 77,
   "id": "70027cbf",
   "metadata": {
    "ExecuteTime": {
     "end_time": "2022-10-17T23:20:52.017778Z",
     "start_time": "2022-10-17T23:20:52.012681Z"
    }
   },
   "outputs": [
    {
     "data": {
      "text/plain": [
       "0.20612695776986617"
      ]
     },
     "execution_count": 77,
     "metadata": {},
     "output_type": "execute_result"
    }
   ],
   "source": [
    "df['cholesterol_100g'].isna().mean()"
   ]
  },
  {
   "cell_type": "markdown",
   "id": "776b46f8",
   "metadata": {
    "ExecuteTime": {
     "end_time": "2022-05-24T11:16:08.484313Z",
     "start_time": "2022-05-24T11:16:08.480411Z"
    }
   },
   "source": [
    "Puis de `pnns_groups_1`"
   ]
  },
  {
   "cell_type": "code",
   "execution_count": 78,
   "id": "6a8b9e2f",
   "metadata": {
    "ExecuteTime": {
     "end_time": "2022-10-17T23:20:52.049983Z",
     "start_time": "2022-10-17T23:20:52.019733Z"
    }
   },
   "outputs": [],
   "source": [
    "df.loc[:, 'cholesterol_100g'] = df['cholesterol_100g'].fillna(data.groupby('pnns_groups_1')['cholesterol_100g'].transform('median'))"
   ]
  },
  {
   "cell_type": "code",
   "execution_count": 79,
   "id": "6857afbf",
   "metadata": {
    "ExecuteTime": {
     "end_time": "2022-10-17T23:20:52.058457Z",
     "start_time": "2022-10-17T23:20:52.052284Z"
    }
   },
   "outputs": [
    {
     "data": {
      "text/plain": [
       "0.1932229148783474"
      ]
     },
     "execution_count": 79,
     "metadata": {},
     "output_type": "execute_result"
    }
   ],
   "source": [
    "df['cholesterol_100g'].isna().mean()"
   ]
  },
  {
   "cell_type": "markdown",
   "id": "f82aa3ef",
   "metadata": {},
   "source": [
    "Enfin, pour les nan qu'il reste on prend simplement la médiane de l'ensemble des valeurs"
   ]
  },
  {
   "cell_type": "code",
   "execution_count": 80,
   "id": "a17a2dc2",
   "metadata": {
    "ExecuteTime": {
     "end_time": "2022-10-17T23:20:52.066959Z",
     "start_time": "2022-10-17T23:20:52.060605Z"
    }
   },
   "outputs": [],
   "source": [
    "df.loc[:, 'cholesterol_100g'] = df['cholesterol_100g'].fillna(df['cholesterol_100g'].median())"
   ]
  },
  {
   "cell_type": "code",
   "execution_count": 81,
   "id": "b9de7dc5",
   "metadata": {
    "ExecuteTime": {
     "end_time": "2022-10-17T23:20:52.074933Z",
     "start_time": "2022-10-17T23:20:52.069190Z"
    }
   },
   "outputs": [
    {
     "data": {
      "text/plain": [
       "0.0"
      ]
     },
     "execution_count": 81,
     "metadata": {},
     "output_type": "execute_result"
    }
   ],
   "source": [
    "df['cholesterol_100g'].isna().mean()"
   ]
  },
  {
   "cell_type": "markdown",
   "id": "a7cef9fb",
   "metadata": {},
   "source": [
    "Toutes les variables quantitatives sont maintenant remplies"
   ]
  },
  {
   "cell_type": "code",
   "execution_count": 82,
   "id": "239f082c",
   "metadata": {
    "ExecuteTime": {
     "end_time": "2022-10-17T23:20:52.084363Z",
     "start_time": "2022-10-17T23:20:52.076871Z"
    }
   },
   "outputs": [
    {
     "data": {
      "text/plain": [
       "nutrition-score-fr_100g    0.0\n",
       "energy_100g                0.0\n",
       "fat_100g                   0.0\n",
       "saturated-fat_100g         0.0\n",
       "carbohydrates_100g         0.0\n",
       "sugars_100g                0.0\n",
       "fiber_100g                 0.0\n",
       "proteins_100g              0.0\n",
       "salt_100g                  0.0\n",
       "additives_n                0.0\n",
       "alcohol_100g               0.0\n",
       "cholesterol_100g           0.0\n",
       "dtype: float64"
      ]
     },
     "execution_count": 82,
     "metadata": {},
     "output_type": "execute_result"
    }
   ],
   "source": [
    "df.select_dtypes(np.number).isna().mean()"
   ]
  },
  {
   "cell_type": "markdown",
   "id": "a2826098",
   "metadata": {},
   "source": [
    "## Attribution du nutriscore"
   ]
  },
  {
   "cell_type": "markdown",
   "id": "8d60d739",
   "metadata": {},
   "source": [
    "On comence par s'assurer que les valeurs de `nutrition-score-fr_100g` sont des entiers"
   ]
  },
  {
   "cell_type": "code",
   "execution_count": 83,
   "id": "e31d8701",
   "metadata": {
    "ExecuteTime": {
     "end_time": "2022-10-17T23:20:52.092860Z",
     "start_time": "2022-10-17T23:20:52.086923Z"
    }
   },
   "outputs": [
    {
     "data": {
      "text/plain": [
       "array([ 4.5, 12.5,  1.5,  6.5, -1.5, 15.5, 19.5,  9.5, -3.5, 10.5])"
      ]
     },
     "execution_count": 83,
     "metadata": {},
     "output_type": "execute_result"
    }
   ],
   "source": [
    "# Vérifions la présence de valeurs décimales\n",
    "arr = df['nutrition-score-fr_100g'].unique()\n",
    "arr[arr != arr.astype(int)]"
   ]
  },
  {
   "cell_type": "code",
   "execution_count": 84,
   "id": "fa430550",
   "metadata": {
    "ExecuteTime": {
     "end_time": "2022-10-17T23:20:52.103778Z",
     "start_time": "2022-10-17T23:20:52.095950Z"
    }
   },
   "outputs": [],
   "source": [
    "# On arrondie les valeurs et les convertie au format 'int8'\n",
    "df['nutrition-score-fr_100g'] = df['nutrition-score-fr_100g'].round().astype('int8')"
   ]
  },
  {
   "cell_type": "code",
   "execution_count": 85,
   "id": "fa16ea18",
   "metadata": {
    "ExecuteTime": {
     "end_time": "2022-10-17T23:20:52.112634Z",
     "start_time": "2022-10-17T23:20:52.106830Z"
    }
   },
   "outputs": [
    {
     "data": {
      "text/plain": [
       "array([], dtype=int8)"
      ]
     },
     "execution_count": 85,
     "metadata": {},
     "output_type": "execute_result"
    }
   ],
   "source": [
    "arr = df['nutrition-score-fr_100g'].unique()\n",
    "arr[arr != arr.astype(int)]"
   ]
  },
  {
   "cell_type": "markdown",
   "id": "458acc00",
   "metadata": {},
   "source": [
    "La lettre attribuée au produit en fonction du score nutritionnel est donnée ci-dessous :\n",
    "\n",
    "<img src='images/logo.png' width=600px />"
   ]
  },
  {
   "cell_type": "markdown",
   "id": "b44e289c",
   "metadata": {},
   "source": [
    "### Aliments solides"
   ]
  },
  {
   "cell_type": "code",
   "execution_count": 86,
   "id": "d2d1af10",
   "metadata": {
    "ExecuteTime": {
     "end_time": "2022-10-17T23:20:52.131810Z",
     "start_time": "2022-10-17T23:20:52.114633Z"
    }
   },
   "outputs": [
    {
     "data": {
      "text/plain": [
       "(65205, 17)"
      ]
     },
     "execution_count": 86,
     "metadata": {},
     "output_type": "execute_result"
    }
   ],
   "source": [
    "mask_1 = df['pnns_groups_1'] != 'Beverages'\n",
    "df[mask_1].shape"
   ]
  },
  {
   "cell_type": "code",
   "execution_count": 87,
   "id": "46d000c7",
   "metadata": {
    "ExecuteTime": {
     "end_time": "2022-10-17T23:20:52.140841Z",
     "start_time": "2022-10-17T23:20:52.134187Z"
    }
   },
   "outputs": [],
   "source": [
    "# masque des nutriscores correspondant à la valeur A\n",
    "mask_a = df['nutrition-score-fr_100g'] <= -1\n",
    "\n",
    "# masque des nutriscores correspondant à la valeur B\n",
    "mask_b = (df['nutrition-score-fr_100g'] >= 0) & (df['nutrition-score-fr_100g'] <= 2)\n",
    "\n",
    "# masque des nutriscores correspondant à la valeur C\n",
    "mask_c = (df['nutrition-score-fr_100g'] >= 3) & (df['nutrition-score-fr_100g'] <= 10)\n",
    "\n",
    "# masque des nutriscores correspondant à la valeur D\n",
    "mask_d = (df['nutrition-score-fr_100g'] >= 11) & (df['nutrition-score-fr_100g'] <= 18)\n",
    "\n",
    "# masque des nutriscores correspondant à la valeur E\n",
    "mask_e = df['nutrition-score-fr_100g'] >= 19"
   ]
  },
  {
   "cell_type": "markdown",
   "id": "b88d6187",
   "metadata": {},
   "source": [
    "On vérifie qu'il ne manque aucun élément"
   ]
  },
  {
   "cell_type": "code",
   "execution_count": 88,
   "id": "f1695d1b",
   "metadata": {
    "ExecuteTime": {
     "end_time": "2022-10-17T23:20:52.172428Z",
     "start_time": "2022-10-17T23:20:52.143251Z"
    }
   },
   "outputs": [
    {
     "data": {
      "text/plain": [
       "True"
      ]
     },
     "execution_count": 88,
     "metadata": {},
     "output_type": "execute_result"
    }
   ],
   "source": [
    "df[mask_1].shape[0] == (df[mask_1 & mask_a].shape[0] \n",
    "                            + df[mask_1 & mask_b].shape[0] \n",
    "                            + df[mask_1 & mask_c].shape[0] \n",
    "                            + df[mask_1 & mask_d].shape[0] \n",
    "                            + df[mask_1 & mask_e].shape[0])"
   ]
  },
  {
   "cell_type": "markdown",
   "id": "cc00ef63",
   "metadata": {},
   "source": [
    "On remplit les valeurs manquantes"
   ]
  },
  {
   "cell_type": "code",
   "execution_count": 89,
   "id": "493a215b",
   "metadata": {
    "ExecuteTime": {
     "end_time": "2022-10-17T23:20:52.201293Z",
     "start_time": "2022-10-17T23:20:52.174962Z"
    }
   },
   "outputs": [],
   "source": [
    "# par A\n",
    "df.loc[df['nutrition_grade_fr'].isna() & mask_1 & mask_a, 'nutrition_grade_fr'] = 'A'\n",
    "\n",
    "# par B\n",
    "df.loc[df['nutrition_grade_fr'].isna() & mask_1 & mask_b, 'nutrition_grade_fr'] = 'B'\n",
    "\n",
    "# par C\n",
    "df.loc[df['nutrition_grade_fr'].isna() & mask_1 & mask_c, 'nutrition_grade_fr'] = 'C'\n",
    "\n",
    "# par D\n",
    "df.loc[df['nutrition_grade_fr'].isna() & mask_1 & mask_d, 'nutrition_grade_fr'] = 'D'\n",
    "\n",
    "# par E\n",
    "df.loc[df['nutrition_grade_fr'].isna() & mask_1 & mask_e, 'nutrition_grade_fr'] = 'E'"
   ]
  },
  {
   "cell_type": "code",
   "execution_count": 90,
   "id": "1c64aab4",
   "metadata": {
    "ExecuteTime": {
     "end_time": "2022-10-17T23:20:52.211360Z",
     "start_time": "2022-10-17T23:20:52.203602Z"
    }
   },
   "outputs": [
    {
     "data": {
      "text/plain": [
       "0.022036784261852158"
      ]
     },
     "execution_count": 90,
     "metadata": {},
     "output_type": "execute_result"
    }
   ],
   "source": [
    "df['nutrition_grade_fr'].isna().mean()"
   ]
  },
  {
   "cell_type": "markdown",
   "id": "82590495",
   "metadata": {},
   "source": [
    "### Boissons"
   ]
  },
  {
   "cell_type": "code",
   "execution_count": 91,
   "id": "721c461e",
   "metadata": {
    "ExecuteTime": {
     "end_time": "2022-10-17T23:20:52.224065Z",
     "start_time": "2022-10-17T23:20:52.213562Z"
    }
   },
   "outputs": [
    {
     "data": {
      "text/plain": [
       "(5858, 17)"
      ]
     },
     "execution_count": 91,
     "metadata": {},
     "output_type": "execute_result"
    }
   ],
   "source": [
    "mask_2 = df['pnns_groups_1'] == 'Beverages'\n",
    "df[mask_2].shape"
   ]
  },
  {
   "cell_type": "code",
   "execution_count": 92,
   "id": "b8e192e1",
   "metadata": {
    "ExecuteTime": {
     "end_time": "2022-10-17T23:20:52.231834Z",
     "start_time": "2022-10-17T23:20:52.226077Z"
    }
   },
   "outputs": [],
   "source": [
    "# masque des nutriscores correspondant à la valeur A\n",
    "mask_b = df['nutrition-score-fr_100g'] <= -1\n",
    "\n",
    "# masque des nutriscores correspondant à la valeur C\n",
    "mask_c = (df['nutrition-score-fr_100g'] >= 2) & (df['nutrition-score-fr_100g'] <= 5)\n",
    "\n",
    "# masque des nutriscores correspondant à la valeur D\n",
    "mask_d = (df['nutrition-score-fr_100g'] >= 6) & (df['nutrition-score-fr_100g'] <= 9)\n",
    "\n",
    "# masque des nutriscores correspondant à la valeur E\n",
    "mask_e = df['nutrition-score-fr_100g'] >= 10"
   ]
  },
  {
   "cell_type": "markdown",
   "id": "56d7ee3e",
   "metadata": {},
   "source": [
    "On vérifie qu'il ne manque aucun élément"
   ]
  },
  {
   "cell_type": "code",
   "execution_count": 93,
   "id": "52c9cbc2",
   "metadata": {
    "ExecuteTime": {
     "end_time": "2022-10-17T23:20:52.247897Z",
     "start_time": "2022-10-17T23:20:52.233915Z"
    }
   },
   "outputs": [
    {
     "data": {
      "text/plain": [
       "False"
      ]
     },
     "execution_count": 93,
     "metadata": {},
     "output_type": "execute_result"
    }
   ],
   "source": [
    "df[mask_2].shape[0] == (df[mask_2 & mask_a].shape[0] \n",
    "                            + df[mask_2 & mask_b].shape[0] \n",
    "                            + df[mask_2 & mask_c].shape[0] \n",
    "                            + df[mask_2 & mask_d].shape[0] \n",
    "                            + df[mask_2 & mask_e].shape[0])"
   ]
  },
  {
   "cell_type": "markdown",
   "id": "28ddbd42",
   "metadata": {},
   "source": [
    "On remplit les valeurs manquantes"
   ]
  },
  {
   "cell_type": "code",
   "execution_count": 94,
   "id": "1535f9ce",
   "metadata": {
    "ExecuteTime": {
     "end_time": "2022-10-17T23:20:52.273886Z",
     "start_time": "2022-10-17T23:20:52.250145Z"
    }
   },
   "outputs": [],
   "source": [
    "# par A\n",
    "df.loc[df['nutrition_grade_fr'].isna() & mask_2 & mask_a, 'nutrition_grade_fr'] = 'A'\n",
    "\n",
    "# par B\n",
    "df.loc[df['nutrition_grade_fr'].isna() & mask_2 & mask_b, 'nutrition_grade_fr'] = 'B'\n",
    "\n",
    "# par C\n",
    "df.loc[df['nutrition_grade_fr'].isna() & mask_2 & mask_c, 'nutrition_grade_fr'] = 'C'\n",
    "\n",
    "# par D\n",
    "df.loc[df['nutrition_grade_fr'].isna() & mask_2 & mask_d, 'nutrition_grade_fr'] = 'D'\n",
    "\n",
    "# par E\n",
    "df.loc[df['nutrition_grade_fr'].isna() & mask_2 & mask_e, 'nutrition_grade_fr'] = 'E'"
   ]
  },
  {
   "cell_type": "code",
   "execution_count": 95,
   "id": "121628d2",
   "metadata": {
    "ExecuteTime": {
     "end_time": "2022-10-17T23:20:52.283610Z",
     "start_time": "2022-10-17T23:20:52.276071Z"
    }
   },
   "outputs": [
    {
     "data": {
      "text/plain": [
       "0.0005628808240575264"
      ]
     },
     "execution_count": 95,
     "metadata": {},
     "output_type": "execute_result"
    }
   ],
   "source": [
    "df['nutrition_grade_fr'].isna().mean()"
   ]
  },
  {
   "cell_type": "markdown",
   "id": "8f865e3d",
   "metadata": {},
   "source": [
    "Regardons la répartition des différentes notes dans notre tableau"
   ]
  },
  {
   "cell_type": "code",
   "execution_count": 96,
   "id": "4baa91f1",
   "metadata": {
    "ExecuteTime": {
     "end_time": "2022-10-17T23:20:52.288224Z",
     "start_time": "2022-10-17T23:20:52.285570Z"
    }
   },
   "outputs": [],
   "source": [
    "# palette de couleurs correspondant aux couleurs du nutriscore\n",
    "palette = ['green', 'limegreen', 'gold', 'tab:orange', 'tab:red']"
   ]
  },
  {
   "cell_type": "code",
   "execution_count": 97,
   "id": "ab6b0401",
   "metadata": {
    "ExecuteTime": {
     "end_time": "2022-10-17T23:20:52.439191Z",
     "start_time": "2022-10-17T23:20:52.290361Z"
    }
   },
   "outputs": [
    {
     "data": {
      "image/png": "[encoded data removed]",
      "text/plain": [
       "<Figure size 576x576 with 1 Axes>"
      ]
     },
     "metadata": {},
     "output_type": "display_data"
    }
   ],
   "source": [
    "fig, ax = plt.subplots(figsize=(8,8))\n",
    "df[\"nutrition_grade_fr\"].value_counts().sort_index().plot.pie(counterclock=False,\n",
    "                                                             startangle=150, autopct='%1.1f%%', ax=ax,\n",
    "                                                             textprops={'fontsize':16}, colors=palette\n",
    "                                                             )\n",
    "ax.set_ylabel(' ');"
   ]
  },
  {
   "cell_type": "markdown",
   "id": "79c2e90a",
   "metadata": {},
   "source": [
    "On compare avec les répartition des nutriscores dans le data set avant imputation"
   ]
  },
  {
   "cell_type": "code",
   "execution_count": 98,
   "id": "ad17b295",
   "metadata": {
    "ExecuteTime": {
     "end_time": "2022-10-17T23:20:52.627850Z",
     "start_time": "2022-10-17T23:20:52.441488Z"
    }
   },
   "outputs": [],
   "source": [
    "df_nan = pd.read_csv('df_nan.csv', index_col=0)"
   ]
  },
  {
   "cell_type": "code",
   "execution_count": 99,
   "id": "53539b58",
   "metadata": {
    "ExecuteTime": {
     "end_time": "2022-10-17T23:20:52.825400Z",
     "start_time": "2022-10-17T23:20:52.629729Z"
    }
   },
   "outputs": [
    {
     "data": {
      "image/png": "[encoded data removed]",
      "text/plain": [
       "<Figure size 576x576 with 1 Axes>"
      ]
     },
     "metadata": {},
     "output_type": "display_data"
    }
   ],
   "source": [
    "fig, ax = plt.subplots(figsize=(8,8))\n",
    "df_nan[\"nutrition_grade_fr\"].value_counts().sort_index().plot.pie(counterclock=False,\n",
    "                                                             startangle=150, autopct='%1.1f%%', ax=ax,\n",
    "                                                             textprops={'fontsize':16}, colors=palette\n",
    "                                                             );\n",
    "ax.set_ylabel(' ');"
   ]
  },
  {
   "cell_type": "code",
   "execution_count": 100,
   "id": "a1550f50",
   "metadata": {
    "ExecuteTime": {
     "end_time": "2022-10-17T23:20:52.839114Z",
     "start_time": "2022-10-17T23:20:52.827062Z"
    }
   },
   "outputs": [
    {
     "data": {
      "text/plain": [
       "A   -0.137109\n",
       "B   -0.376617\n",
       "C   -0.407108\n",
       "D    1.728837\n",
       "E   -0.808002\n",
       "Name: nutrition_grade_fr, dtype: float64"
      ]
     },
     "execution_count": 100,
     "metadata": {},
     "output_type": "execute_result"
    }
   ],
   "source": [
    "# Différence en %\n",
    "counts_after = df[\"nutrition_grade_fr\"].value_counts(normalize=True).sort_index()\n",
    "counts_before = df_nan[\"nutrition_grade_fr\"].value_counts(normalize=True).sort_index()\n",
    "(counts_after - counts_before)*100"
   ]
  },
  {
   "cell_type": "markdown",
   "id": "eb109a6c",
   "metadata": {},
   "source": [
    "Il y a un léger écart pour les notes **D** et **E** mais sinon les proportions ont peu changé"
   ]
  },
  {
   "cell_type": "markdown",
   "id": "71bece3c",
   "metadata": {},
   "source": [
    "# Export des données au format csv"
   ]
  },
  {
   "cell_type": "markdown",
   "id": "61b37e6f",
   "metadata": {},
   "source": [
    "On peut enlever la colonne correspondant aux noms des produits car celle-ci ne nous intéressera pas pour l'analyse exploratoire"
   ]
  },
  {
   "cell_type": "code",
   "execution_count": 101,
   "id": "b4b48507",
   "metadata": {
    "ExecuteTime": {
     "end_time": "2022-10-17T23:20:53.525169Z",
     "start_time": "2022-10-17T23:20:52.841107Z"
    }
   },
   "outputs": [],
   "source": [
    "df = df.drop(['product_name'], axis=1)\n",
    "df.to_csv('df.csv')"
   ]
  },
  {
   "cell_type": "code",
   "execution_count": null,
   "id": "89605fd1",
   "metadata": {},
   "outputs": [],
   "source": []
  }
 ],
 "metadata": {
  "kernelspec": {
   "display_name": "Python 3",
   "language": "python",
   "name": "python3"
  },
  "language_info": {
   "codemirror_mode": {
    "name": "ipython",
    "version": 3
   },
   "file_extension": ".py",
   "mimetype": "text/x-python",
   "name": "python",
   "nbconvert_exporter": "python",
   "pygments_lexer": "ipython3",
   "version": "3.9.4"
  },
  "toc": {
   "base_numbering": 1,
   "nav_menu": {},
   "number_sections": true,
   "sideBar": true,
   "skip_h1_title": false,
   "title_cell": "Table of Contents",
   "title_sidebar": "Contents",
   "toc_cell": false,
   "toc_position": {
    "height": "calc(100% - 180px)",
    "left": "10px",
    "top": "150px",
    "width": "231.60000610351562px"
   },
   "toc_section_display": true,
   "toc_window_display": true
  }
 },
 "nbformat": 4,
 "nbformat_minor": 5
}
