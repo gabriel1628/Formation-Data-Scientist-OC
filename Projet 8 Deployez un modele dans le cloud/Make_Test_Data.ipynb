{
 "cells": [
  {
   "cell_type": "code",
   "execution_count": 1,
   "id": "7604c72c",
   "metadata": {},
   "outputs": [],
   "source": [
    "import os\n",
    "import shutil"
   ]
  },
  {
   "cell_type": "code",
   "execution_count": 2,
   "id": "0adbb69e",
   "metadata": {},
   "outputs": [
    {
     "data": {
      "text/plain": [
       "'/home/ubuntu/Home/Multipass/primary/Projet8'"
      ]
     },
     "execution_count": 2,
     "metadata": {},
     "output_type": "execute_result"
    }
   ],
   "source": [
    "os.getcwd()"
   ]
  },
  {
   "cell_type": "code",
   "execution_count": 3,
   "id": "ece5fe18",
   "metadata": {},
   "outputs": [
    {
     "data": {
      "text/plain": [
       "['Apple Braeburn',\n",
       " 'Apple Crimson Snow',\n",
       " 'Apple Golden 1',\n",
       " 'Apple Golden 2',\n",
       " 'Apple Golden 3',\n",
       " 'Apple Granny Smith',\n",
       " 'Apple Pink Lady',\n",
       " 'Apple Red 1',\n",
       " 'Apple Red 2',\n",
       " 'Apple Red 3',\n",
       " 'Apple Red Delicious',\n",
       " 'Apple Red Yellow 1',\n",
       " 'Apple Red Yellow 2',\n",
       " 'Apricot',\n",
       " 'Avocado',\n",
       " 'Avocado ripe',\n",
       " 'Banana',\n",
       " 'Banana Lady Finger',\n",
       " 'Banana Red',\n",
       " 'Beetroot',\n",
       " 'Blueberry',\n",
       " 'Cactus fruit',\n",
       " 'Cantaloupe 1',\n",
       " 'Cantaloupe 2',\n",
       " 'Carambula',\n",
       " 'Cauliflower',\n",
       " 'Cherry 1',\n",
       " 'Cherry 2',\n",
       " 'Cherry Rainier',\n",
       " 'Cherry Wax Black',\n",
       " 'Cherry Wax Red',\n",
       " 'Cherry Wax Yellow',\n",
       " 'Chestnut',\n",
       " 'Clementine',\n",
       " 'Cocos',\n",
       " 'Corn',\n",
       " 'Corn Husk',\n",
       " 'Cucumber Ripe',\n",
       " 'Cucumber Ripe 2',\n",
       " 'Dates',\n",
       " 'Eggplant',\n",
       " 'Fig',\n",
       " 'Ginger Root',\n",
       " 'Granadilla',\n",
       " 'Grape Blue',\n",
       " 'Grape Pink',\n",
       " 'Grape White',\n",
       " 'Grape White 2',\n",
       " 'Grape White 3',\n",
       " 'Grape White 4',\n",
       " 'Grapefruit Pink',\n",
       " 'Grapefruit White',\n",
       " 'Guava',\n",
       " 'Hazelnut',\n",
       " 'Huckleberry',\n",
       " 'Kaki',\n",
       " 'Kiwi',\n",
       " 'Kohlrabi',\n",
       " 'Kumquats',\n",
       " 'Lemon',\n",
       " 'Lemon Meyer',\n",
       " 'Limes',\n",
       " 'Lychee',\n",
       " 'Mandarine',\n",
       " 'Mango',\n",
       " 'Mango Red',\n",
       " 'Mangostan',\n",
       " 'Maracuja',\n",
       " 'Melon Piel de Sapo',\n",
       " 'Mulberry',\n",
       " 'Nectarine',\n",
       " 'Nectarine Flat',\n",
       " 'Nut Forest',\n",
       " 'Nut Pecan',\n",
       " 'Onion Red',\n",
       " 'Onion Red Peeled',\n",
       " 'Onion White',\n",
       " 'Orange',\n",
       " 'Papaya',\n",
       " 'Passion Fruit',\n",
       " 'Peach',\n",
       " 'Peach 2',\n",
       " 'Peach Flat',\n",
       " 'Pear',\n",
       " 'Pear 2',\n",
       " 'Pear Abate',\n",
       " 'Pear Forelle',\n",
       " 'Pear Kaiser',\n",
       " 'Pear Monster',\n",
       " 'Pear Red',\n",
       " 'Pear Stone',\n",
       " 'Pear Williams',\n",
       " 'Pepino',\n",
       " 'Pepper Green',\n",
       " 'Pepper Orange',\n",
       " 'Pepper Red',\n",
       " 'Pepper Yellow',\n",
       " 'Physalis',\n",
       " 'Physalis with Husk',\n",
       " 'Pineapple',\n",
       " 'Pineapple Mini',\n",
       " 'Pitahaya Red',\n",
       " 'Plum',\n",
       " 'Plum 2',\n",
       " 'Plum 3',\n",
       " 'Pomegranate',\n",
       " 'Pomelo Sweetie',\n",
       " 'Potato Red',\n",
       " 'Potato Red Washed',\n",
       " 'Potato Sweet',\n",
       " 'Potato White',\n",
       " 'Quince',\n",
       " 'Rambutan',\n",
       " 'Raspberry',\n",
       " 'Redcurrant',\n",
       " 'Salak',\n",
       " 'Strawberry',\n",
       " 'Strawberry Wedge',\n",
       " 'Tamarillo',\n",
       " 'Tangelo',\n",
       " 'Tomato 1',\n",
       " 'Tomato 2',\n",
       " 'Tomato 3',\n",
       " 'Tomato 4',\n",
       " 'Tomato Cherry Red',\n",
       " 'Tomato Heart',\n",
       " 'Tomato Maroon',\n",
       " 'Tomato not Ripened',\n",
       " 'Tomato Yellow',\n",
       " 'Walnut',\n",
       " 'Watermelon']"
      ]
     },
     "execution_count": 3,
     "metadata": {},
     "output_type": "execute_result"
    }
   ],
   "source": [
    "os.listdir('data/fruits-360_dataset/fruits-360/Training/')"
   ]
  },
  {
   "cell_type": "code",
   "execution_count": 4,
   "id": "addaa98f",
   "metadata": {},
   "outputs": [],
   "source": [
    "dir_path = 'data/fruits-360_dataset/fruits-360/Training/'\n",
    "paths = []\n",
    "dirs = []\n",
    "files = []\n",
    "for (dir_path, dir_names, file_names) in os.walk(dir_path):\n",
    "    if file_names == ['.DS_Store']:\n",
    "        continue\n",
    "    paths.append(dir_path)\n",
    "    dirs.append(dir_names)\n",
    "    files.append(file_names)"
   ]
  },
  {
   "cell_type": "code",
   "execution_count": 5,
   "id": "acede42e",
   "metadata": {},
   "outputs": [
    {
     "data": {
      "text/plain": [
       "132"
      ]
     },
     "execution_count": 5,
     "metadata": {},
     "output_type": "execute_result"
    }
   ],
   "source": [
    "len(paths)"
   ]
  },
  {
   "cell_type": "code",
   "execution_count": 6,
   "id": "d1a2719c",
   "metadata": {},
   "outputs": [
    {
     "data": {
      "text/plain": [
       "132"
      ]
     },
     "execution_count": 6,
     "metadata": {},
     "output_type": "execute_result"
    }
   ],
   "source": [
    "len(dirs)"
   ]
  },
  {
   "cell_type": "code",
   "execution_count": 7,
   "id": "6097b808",
   "metadata": {},
   "outputs": [
    {
     "data": {
      "text/plain": [
       "132"
      ]
     },
     "execution_count": 7,
     "metadata": {},
     "output_type": "execute_result"
    }
   ],
   "source": [
    "len(files)"
   ]
  },
  {
   "cell_type": "code",
   "execution_count": 15,
   "id": "592c8255",
   "metadata": {},
   "outputs": [
    {
     "data": {
      "text/plain": [
       "'data/fruits-360_dataset/fruits-360/Training/'"
      ]
     },
     "execution_count": 15,
     "metadata": {},
     "output_type": "execute_result"
    }
   ],
   "source": [
    "paths[0]"
   ]
  },
  {
   "cell_type": "code",
   "execution_count": 21,
   "id": "dd6b1a9b",
   "metadata": {},
   "outputs": [
    {
     "data": {
      "text/plain": [
       "['Apple Braeburn',\n",
       " 'Apple Crimson Snow',\n",
       " 'Apple Golden 1',\n",
       " 'Apple Golden 2',\n",
       " 'Apple Golden 3',\n",
       " 'Apple Granny Smith',\n",
       " 'Apple Pink Lady',\n",
       " 'Apple Red 1',\n",
       " 'Apple Red 2',\n",
       " 'Apple Red 3',\n",
       " 'Apple Red Delicious',\n",
       " 'Apple Red Yellow 1',\n",
       " 'Apple Red Yellow 2',\n",
       " 'Apricot',\n",
       " 'Avocado',\n",
       " 'Avocado ripe',\n",
       " 'Banana',\n",
       " 'Banana Lady Finger',\n",
       " 'Banana Red',\n",
       " 'Beetroot',\n",
       " 'Blueberry',\n",
       " 'Cactus fruit',\n",
       " 'Cantaloupe 1',\n",
       " 'Cantaloupe 2',\n",
       " 'Carambula',\n",
       " 'Cauliflower',\n",
       " 'Cherry 1',\n",
       " 'Cherry 2',\n",
       " 'Cherry Rainier',\n",
       " 'Cherry Wax Black',\n",
       " 'Cherry Wax Red',\n",
       " 'Cherry Wax Yellow',\n",
       " 'Chestnut',\n",
       " 'Clementine',\n",
       " 'Cocos',\n",
       " 'Corn',\n",
       " 'Corn Husk',\n",
       " 'Cucumber Ripe',\n",
       " 'Cucumber Ripe 2',\n",
       " 'Dates',\n",
       " 'Eggplant',\n",
       " 'Fig',\n",
       " 'Ginger Root',\n",
       " 'Granadilla',\n",
       " 'Grape Blue',\n",
       " 'Grape Pink',\n",
       " 'Grape White',\n",
       " 'Grape White 2',\n",
       " 'Grape White 3',\n",
       " 'Grape White 4',\n",
       " 'Grapefruit Pink',\n",
       " 'Grapefruit White',\n",
       " 'Guava',\n",
       " 'Hazelnut',\n",
       " 'Huckleberry',\n",
       " 'Kaki',\n",
       " 'Kiwi',\n",
       " 'Kohlrabi',\n",
       " 'Kumquats',\n",
       " 'Lemon',\n",
       " 'Lemon Meyer',\n",
       " 'Limes',\n",
       " 'Lychee',\n",
       " 'Mandarine',\n",
       " 'Mango',\n",
       " 'Mango Red',\n",
       " 'Mangostan',\n",
       " 'Maracuja',\n",
       " 'Melon Piel de Sapo',\n",
       " 'Mulberry',\n",
       " 'Nectarine',\n",
       " 'Nectarine Flat',\n",
       " 'Nut Forest',\n",
       " 'Nut Pecan',\n",
       " 'Onion Red',\n",
       " 'Onion Red Peeled',\n",
       " 'Onion White',\n",
       " 'Orange',\n",
       " 'Papaya',\n",
       " 'Passion Fruit',\n",
       " 'Peach',\n",
       " 'Peach 2',\n",
       " 'Peach Flat',\n",
       " 'Pear',\n",
       " 'Pear 2',\n",
       " 'Pear Abate',\n",
       " 'Pear Forelle',\n",
       " 'Pear Kaiser',\n",
       " 'Pear Monster',\n",
       " 'Pear Red',\n",
       " 'Pear Stone',\n",
       " 'Pear Williams',\n",
       " 'Pepino',\n",
       " 'Pepper Green',\n",
       " 'Pepper Orange',\n",
       " 'Pepper Red',\n",
       " 'Pepper Yellow',\n",
       " 'Physalis',\n",
       " 'Physalis with Husk',\n",
       " 'Pineapple',\n",
       " 'Pineapple Mini',\n",
       " 'Pitahaya Red',\n",
       " 'Plum',\n",
       " 'Plum 2',\n",
       " 'Plum 3',\n",
       " 'Pomegranate',\n",
       " 'Pomelo Sweetie',\n",
       " 'Potato Red',\n",
       " 'Potato Red Washed',\n",
       " 'Potato Sweet',\n",
       " 'Potato White',\n",
       " 'Quince',\n",
       " 'Rambutan',\n",
       " 'Raspberry',\n",
       " 'Redcurrant',\n",
       " 'Salak',\n",
       " 'Strawberry',\n",
       " 'Strawberry Wedge',\n",
       " 'Tamarillo',\n",
       " 'Tangelo',\n",
       " 'Tomato 1',\n",
       " 'Tomato 2',\n",
       " 'Tomato 3',\n",
       " 'Tomato 4',\n",
       " 'Tomato Cherry Red',\n",
       " 'Tomato Heart',\n",
       " 'Tomato Maroon',\n",
       " 'Tomato not Ripened',\n",
       " 'Tomato Yellow',\n",
       " 'Walnut',\n",
       " 'Watermelon']"
      ]
     },
     "execution_count": 21,
     "metadata": {},
     "output_type": "execute_result"
    }
   ],
   "source": [
    "dirs[0]"
   ]
  },
  {
   "cell_type": "code",
   "execution_count": 17,
   "id": "69e54d12",
   "metadata": {},
   "outputs": [
    {
     "data": {
      "text/plain": [
       "[]"
      ]
     },
     "execution_count": 17,
     "metadata": {},
     "output_type": "execute_result"
    }
   ],
   "source": [
    "files[0]"
   ]
  },
  {
   "cell_type": "code",
   "execution_count": 18,
   "id": "4a28882c",
   "metadata": {},
   "outputs": [],
   "source": [
    "os.mkdir('data/Test1/')\n",
    "os.mkdir('data/Results')"
   ]
  },
  {
   "cell_type": "code",
   "execution_count": 44,
   "id": "b348f99d",
   "metadata": {},
   "outputs": [
    {
     "name": "stdout",
     "output_type": "stream",
     "text": [
      "source : data/fruits-360_dataset/fruits-360/Training/Apple Braeburn/0_100.jpg\n"
     ]
    },
    {
     "data": {
      "text/plain": [
       "'data/Test1/Apple Braeburn/0_100.jpg'"
      ]
     },
     "execution_count": 44,
     "metadata": {},
     "output_type": "execute_result"
    }
   ],
   "source": [
    "i = 0\n",
    "j = 0\n",
    "src = paths[i+1] + '/' + files[i+1][j]\n",
    "dst = 'data/Test1/' + dirs[0][i] + '/' + files[i+1][j]\n",
    "os.mkdir('data/Test1/' + dirs[0][i])\n",
    "print('source :', src)\n",
    "shutil.copyfile(src, dst)"
   ]
  },
  {
   "cell_type": "code",
   "execution_count": 45,
   "id": "d4db0c98",
   "metadata": {},
   "outputs": [
    {
     "data": {
      "text/plain": [
       "['Apple Braeburn']"
      ]
     },
     "execution_count": 45,
     "metadata": {},
     "output_type": "execute_result"
    }
   ],
   "source": [
    "os.listdir('data/Test1/')"
   ]
  },
  {
   "cell_type": "code",
   "execution_count": 46,
   "id": "c759adaf",
   "metadata": {},
   "outputs": [
    {
     "data": {
      "text/plain": [
       "['0_100.jpg']"
      ]
     },
     "execution_count": 46,
     "metadata": {},
     "output_type": "execute_result"
    }
   ],
   "source": [
    "os.listdir('data/Test1/Apple Braeburn/')"
   ]
  },
  {
   "cell_type": "code",
   "execution_count": 47,
   "id": "f3483e35",
   "metadata": {},
   "outputs": [],
   "source": [
    "shutil.rmtree('data/Test1/Apple Braeburn/')"
   ]
  },
  {
   "cell_type": "code",
   "execution_count": 48,
   "id": "7eeed8e5",
   "metadata": {},
   "outputs": [
    {
     "data": {
      "text/plain": [
       "[]"
      ]
     },
     "execution_count": 48,
     "metadata": {},
     "output_type": "execute_result"
    }
   ],
   "source": [
    "os.listdir('data/Test1/')"
   ]
  },
  {
   "cell_type": "code",
   "execution_count": 49,
   "id": "7b4bb0d6",
   "metadata": {},
   "outputs": [],
   "source": [
    "for i in range(100):\n",
    "    os.mkdir('data/Test1/'+dirs[0][i])\n",
    "    for j in range(3):\n",
    "        src = paths[i+1] + '/' + files[i+1][j]\n",
    "        dst = 'data/Test1/' + dirs[0][i] + '/' + files[i+1][j]\n",
    "        shutil.copyfile(src, dst)"
   ]
  },
  {
   "cell_type": "code",
   "execution_count": 51,
   "id": "2b02b184",
   "metadata": {},
   "outputs": [
    {
     "data": {
      "text/plain": [
       "100"
      ]
     },
     "execution_count": 51,
     "metadata": {},
     "output_type": "execute_result"
    }
   ],
   "source": [
    "len(os.listdir('data/Test1/'))"
   ]
  },
  {
   "cell_type": "code",
   "execution_count": 52,
   "id": "be5f238e",
   "metadata": {},
   "outputs": [],
   "source": [
    "dir_path = 'data/Test1'\n",
    "files = []\n",
    "for (dir_path, dir_names, file_names) in os.walk(dir_path):\n",
    "    if file_names == ['.DS_Store']:\n",
    "        continue\n",
    "    files.extend(file_names)"
   ]
  },
  {
   "cell_type": "code",
   "execution_count": 53,
   "id": "f33fc01d",
   "metadata": {},
   "outputs": [
    {
     "data": {
      "text/plain": [
       "300"
      ]
     },
     "execution_count": 53,
     "metadata": {},
     "output_type": "execute_result"
    }
   ],
   "source": [
    "len(files)"
   ]
  },
  {
   "cell_type": "code",
   "execution_count": null,
   "id": "3e5f76a8",
   "metadata": {},
   "outputs": [],
   "source": []
  }
 ],
 "metadata": {
  "kernelspec": {
   "display_name": "Python 3 (ipykernel)",
   "language": "python",
   "name": "python3"
  },
  "language_info": {
   "codemirror_mode": {
    "name": "ipython",
    "version": 3
   },
   "file_extension": ".py",
   "mimetype": "text/x-python",
   "name": "python",
   "nbconvert_exporter": "python",
   "pygments_lexer": "ipython3",
   "version": "3.10.6"
  },
  "toc": {
   "base_numbering": 1,
   "nav_menu": {},
   "number_sections": true,
   "sideBar": true,
   "skip_h1_title": false,
   "title_cell": "Table of Contents",
   "title_sidebar": "Contents",
   "toc_cell": false,
   "toc_position": {},
   "toc_section_display": true,
   "toc_window_display": false
  }
 },
 "nbformat": 4,
 "nbformat_minor": 5
}
