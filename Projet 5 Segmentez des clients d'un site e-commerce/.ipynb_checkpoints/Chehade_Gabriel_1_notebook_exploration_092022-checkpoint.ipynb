{
 "cells": [
  {
   "cell_type": "code",
   "execution_count": 1,
   "id": "6f43e130",
   "metadata": {
    "ExecuteTime": {
     "end_time": "2022-10-23T09:58:40.345815Z",
     "start_time": "2022-10-23T09:58:38.781255Z"
    }
   },
   "outputs": [],
   "source": [
    "import numpy as np\n",
    "import pandas as pd\n",
    "\n",
    "import matplotlib.pyplot as plt\n",
    "\n",
    "import seaborn as sns\n",
    "sns.set_theme()\n",
    "sns.set_color_codes('deep')"
   ]
  },
  {
   "cell_type": "markdown",
   "id": "3ebe3ff8",
   "metadata": {},
   "source": [
    "# Data sets"
   ]
  },
  {
   "cell_type": "markdown",
   "id": "487a0a0f",
   "metadata": {},
   "source": [
    "On va importer les différents fichiers et faire une première analyse des variables"
   ]
  },
  {
   "cell_type": "markdown",
   "id": "d8e7a07b",
   "metadata": {},
   "source": [
    "## Customers"
   ]
  },
  {
   "cell_type": "markdown",
   "id": "04e50b58",
   "metadata": {},
   "source": [
    "Fichier clients contenant des informations sur les clients. La valeur de `customer_id` diffère pour chaque commande et celle de `customer_unique_id` est propre à chaque client."
   ]
  },
  {
   "cell_type": "code",
   "execution_count": 2,
   "id": "633e2c52",
   "metadata": {
    "ExecuteTime": {
     "end_time": "2022-10-23T09:58:40.507908Z",
     "start_time": "2022-10-23T09:58:40.348448Z"
    }
   },
   "outputs": [
    {
     "data": {
      "text/html": [
       "<div>\n",
       "<style scoped>\n",
       "    .dataframe tbody tr th:only-of-type {\n",
       "        vertical-align: middle;\n",
       "    }\n",
       "\n",
       "    .dataframe tbody tr th {\n",
       "        vertical-align: top;\n",
       "    }\n",
       "\n",
       "    .dataframe thead th {\n",
       "        text-align: right;\n",
       "    }\n",
       "</style>\n",
       "<table border=\"1\" class=\"dataframe\">\n",
       "  <thead>\n",
       "    <tr style=\"text-align: right;\">\n",
       "      <th></th>\n",
       "      <th>customer_id</th>\n",
       "      <th>customer_unique_id</th>\n",
       "      <th>customer_zip_code_prefix</th>\n",
       "      <th>customer_city</th>\n",
       "      <th>customer_state</th>\n",
       "    </tr>\n",
       "  </thead>\n",
       "  <tbody>\n",
       "    <tr>\n",
       "      <th>0</th>\n",
       "      <td>06b8999e2fba1a1fbc88172c00ba8bc7</td>\n",
       "      <td>861eff4711a542e4b93843c6dd7febb0</td>\n",
       "      <td>14409</td>\n",
       "      <td>franca</td>\n",
       "      <td>SP</td>\n",
       "    </tr>\n",
       "    <tr>\n",
       "      <th>1</th>\n",
       "      <td>18955e83d337fd6b2def6b18a428ac77</td>\n",
       "      <td>290c77bc529b7ac935b93aa66c333dc3</td>\n",
       "      <td>9790</td>\n",
       "      <td>sao bernardo do campo</td>\n",
       "      <td>SP</td>\n",
       "    </tr>\n",
       "    <tr>\n",
       "      <th>2</th>\n",
       "      <td>4e7b3e00288586ebd08712fdd0374a03</td>\n",
       "      <td>060e732b5b29e8181a18229c7b0b2b5e</td>\n",
       "      <td>1151</td>\n",
       "      <td>sao paulo</td>\n",
       "      <td>SP</td>\n",
       "    </tr>\n",
       "    <tr>\n",
       "      <th>3</th>\n",
       "      <td>b2b6027bc5c5109e529d4dc6358b12c3</td>\n",
       "      <td>259dac757896d24d7702b9acbbff3f3c</td>\n",
       "      <td>8775</td>\n",
       "      <td>mogi das cruzes</td>\n",
       "      <td>SP</td>\n",
       "    </tr>\n",
       "    <tr>\n",
       "      <th>4</th>\n",
       "      <td>4f2d8ab171c80ec8364f7c12e35b23ad</td>\n",
       "      <td>345ecd01c38d18a9036ed96c73b8d066</td>\n",
       "      <td>13056</td>\n",
       "      <td>campinas</td>\n",
       "      <td>SP</td>\n",
       "    </tr>\n",
       "  </tbody>\n",
       "</table>\n",
       "</div>"
      ],
      "text/plain": [
       "                        customer_id                customer_unique_id  \\\n",
       "0  06b8999e2fba1a1fbc88172c00ba8bc7  861eff4711a542e4b93843c6dd7febb0   \n",
       "1  18955e83d337fd6b2def6b18a428ac77  290c77bc529b7ac935b93aa66c333dc3   \n",
       "2  4e7b3e00288586ebd08712fdd0374a03  060e732b5b29e8181a18229c7b0b2b5e   \n",
       "3  b2b6027bc5c5109e529d4dc6358b12c3  259dac757896d24d7702b9acbbff3f3c   \n",
       "4  4f2d8ab171c80ec8364f7c12e35b23ad  345ecd01c38d18a9036ed96c73b8d066   \n",
       "\n",
       "   customer_zip_code_prefix          customer_city customer_state  \n",
       "0                     14409                 franca             SP  \n",
       "1                      9790  sao bernardo do campo             SP  \n",
       "2                      1151              sao paulo             SP  \n",
       "3                      8775        mogi das cruzes             SP  \n",
       "4                     13056               campinas             SP  "
      ]
     },
     "execution_count": 2,
     "metadata": {},
     "output_type": "execute_result"
    }
   ],
   "source": [
    "df_customers = pd.read_csv('data/olist_customers_dataset.csv')\n",
    "df_customers.head()"
   ]
  },
  {
   "cell_type": "code",
   "execution_count": 3,
   "id": "6b5c1eb4",
   "metadata": {
    "ExecuteTime": {
     "end_time": "2022-10-23T09:58:40.514984Z",
     "start_time": "2022-10-23T09:58:40.510750Z"
    }
   },
   "outputs": [
    {
     "data": {
      "text/plain": [
       "(99441, 5)"
      ]
     },
     "execution_count": 3,
     "metadata": {},
     "output_type": "execute_result"
    }
   ],
   "source": [
    "df_customers.shape"
   ]
  },
  {
   "cell_type": "code",
   "execution_count": 4,
   "id": "8011e92c",
   "metadata": {
    "ExecuteTime": {
     "end_time": "2022-10-23T09:58:40.521938Z",
     "start_time": "2022-10-23T09:58:40.517379Z"
    }
   },
   "outputs": [
    {
     "data": {
      "text/plain": [
       "customer_id                 object\n",
       "customer_unique_id          object\n",
       "customer_zip_code_prefix     int64\n",
       "customer_city               object\n",
       "customer_state              object\n",
       "dtype: object"
      ]
     },
     "execution_count": 4,
     "metadata": {},
     "output_type": "execute_result"
    }
   ],
   "source": [
    "df_customers.dtypes"
   ]
  },
  {
   "cell_type": "code",
   "execution_count": 5,
   "id": "bda92989",
   "metadata": {
    "ExecuteTime": {
     "end_time": "2022-10-23T09:58:40.581133Z",
     "start_time": "2022-10-23T09:58:40.523847Z"
    }
   },
   "outputs": [
    {
     "name": "stdout",
     "output_type": "stream",
     "text": [
      "customer_id--------------------------------------- 99441\n",
      "customer_unique_id-------------------------------- 96096\n",
      "customer_zip_code_prefix-------------------------- 14994\n",
      "customer_city------------------------------------- 4119\n",
      "customer_state------------------------------------ 27\n"
     ]
    }
   ],
   "source": [
    "# Nombre de valeurs uniques par variable\n",
    "for col in df_customers.columns:\n",
    "    print(f'{col :-<50} {df_customers[col].unique().size}')"
   ]
  },
  {
   "cell_type": "code",
   "execution_count": 6,
   "id": "22e66562",
   "metadata": {
    "ExecuteTime": {
     "end_time": "2022-10-23T09:58:40.652234Z",
     "start_time": "2022-10-23T09:58:40.583932Z"
    }
   },
   "outputs": [
    {
     "data": {
      "text/plain": [
       "8d50f5eadf50201ccdcedfb9e2ac8455    17\n",
       "3e43e6105506432c953e165fb2acf44c     9\n",
       "1b6c7548a2a1f9037c1fd3ddfed95f33     7\n",
       "ca77025e7201e3b30c44b472ff346268     7\n",
       "6469f99c1f9dfae7733b25662e7f1782     7\n",
       "                                    ..\n",
       "370cd3b09ea745fe047fd11db7430441     2\n",
       "d7c6bdf20c4ec9c9cda815dde58e778a     2\n",
       "a366793a4999f8cc135855c4dd347421     2\n",
       "156283b6ca35ef976a0265903145fd5e     2\n",
       "d83257348027bd8c59a228cc034de5e3     2\n",
       "Name: customer_unique_id, Length: 2997, dtype: int64"
      ]
     },
     "execution_count": 6,
     "metadata": {},
     "output_type": "execute_result"
    }
   ],
   "source": [
    "# Série contenant les clients ayant fait plusieurs commandes avec l'id unique en indice\n",
    "# et le nombre de commandes en valeur\n",
    "repeated_df_customers = df_customers['customer_unique_id'].value_counts()\n",
    "repeated_df_customers = repeated_df_customers[repeated_df_customers > 1]\n",
    "repeated_df_customers"
   ]
  },
  {
   "cell_type": "code",
   "execution_count": 7,
   "id": "a6c11dd9",
   "metadata": {
    "ExecuteTime": {
     "end_time": "2022-10-23T09:58:40.658353Z",
     "start_time": "2022-10-23T09:58:40.654568Z"
    }
   },
   "outputs": [
    {
     "data": {
      "text/plain": [
       "2997"
      ]
     },
     "execution_count": 7,
     "metadata": {},
     "output_type": "execute_result"
    }
   ],
   "source": [
    "# Nombre de clients ayant fait plusieurs commandes\n",
    "repeated_df_customers.size"
   ]
  },
  {
   "cell_type": "code",
   "execution_count": 8,
   "id": "60a70b66",
   "metadata": {
    "ExecuteTime": {
     "end_time": "2022-10-23T09:58:40.724152Z",
     "start_time": "2022-10-23T09:58:40.662337Z"
    }
   },
   "outputs": [
    {
     "data": {
      "text/plain": [
       "customer_id                 0.0\n",
       "customer_unique_id          0.0\n",
       "customer_zip_code_prefix    0.0\n",
       "customer_city               0.0\n",
       "customer_state              0.0\n",
       "dtype: float64"
      ]
     },
     "execution_count": 8,
     "metadata": {},
     "output_type": "execute_result"
    }
   ],
   "source": [
    "df_customers.isna().mean()"
   ]
  },
  {
   "cell_type": "markdown",
   "id": "820b44e4",
   "metadata": {},
   "source": [
    "## Geolocation"
   ]
  },
  {
   "cell_type": "code",
   "execution_count": 9,
   "id": "a9e6542c",
   "metadata": {
    "ExecuteTime": {
     "end_time": "2022-10-23T09:58:41.275613Z",
     "start_time": "2022-10-23T09:58:40.726730Z"
    }
   },
   "outputs": [
    {
     "data": {
      "text/html": [
       "<div>\n",
       "<style scoped>\n",
       "    .dataframe tbody tr th:only-of-type {\n",
       "        vertical-align: middle;\n",
       "    }\n",
       "\n",
       "    .dataframe tbody tr th {\n",
       "        vertical-align: top;\n",
       "    }\n",
       "\n",
       "    .dataframe thead th {\n",
       "        text-align: right;\n",
       "    }\n",
       "</style>\n",
       "<table border=\"1\" class=\"dataframe\">\n",
       "  <thead>\n",
       "    <tr style=\"text-align: right;\">\n",
       "      <th></th>\n",
       "      <th>geolocation_zip_code_prefix</th>\n",
       "      <th>geolocation_lat</th>\n",
       "      <th>geolocation_lng</th>\n",
       "      <th>geolocation_city</th>\n",
       "      <th>geolocation_state</th>\n",
       "    </tr>\n",
       "  </thead>\n",
       "  <tbody>\n",
       "    <tr>\n",
       "      <th>0</th>\n",
       "      <td>1037</td>\n",
       "      <td>-23.545621</td>\n",
       "      <td>-46.639292</td>\n",
       "      <td>sao paulo</td>\n",
       "      <td>SP</td>\n",
       "    </tr>\n",
       "    <tr>\n",
       "      <th>1</th>\n",
       "      <td>1046</td>\n",
       "      <td>-23.546081</td>\n",
       "      <td>-46.644820</td>\n",
       "      <td>sao paulo</td>\n",
       "      <td>SP</td>\n",
       "    </tr>\n",
       "    <tr>\n",
       "      <th>2</th>\n",
       "      <td>1046</td>\n",
       "      <td>-23.546129</td>\n",
       "      <td>-46.642951</td>\n",
       "      <td>sao paulo</td>\n",
       "      <td>SP</td>\n",
       "    </tr>\n",
       "    <tr>\n",
       "      <th>3</th>\n",
       "      <td>1041</td>\n",
       "      <td>-23.544392</td>\n",
       "      <td>-46.639499</td>\n",
       "      <td>sao paulo</td>\n",
       "      <td>SP</td>\n",
       "    </tr>\n",
       "    <tr>\n",
       "      <th>4</th>\n",
       "      <td>1035</td>\n",
       "      <td>-23.541578</td>\n",
       "      <td>-46.641607</td>\n",
       "      <td>sao paulo</td>\n",
       "      <td>SP</td>\n",
       "    </tr>\n",
       "  </tbody>\n",
       "</table>\n",
       "</div>"
      ],
      "text/plain": [
       "   geolocation_zip_code_prefix  geolocation_lat  geolocation_lng  \\\n",
       "0                         1037       -23.545621       -46.639292   \n",
       "1                         1046       -23.546081       -46.644820   \n",
       "2                         1046       -23.546129       -46.642951   \n",
       "3                         1041       -23.544392       -46.639499   \n",
       "4                         1035       -23.541578       -46.641607   \n",
       "\n",
       "  geolocation_city geolocation_state  \n",
       "0        sao paulo                SP  \n",
       "1        sao paulo                SP  \n",
       "2        sao paulo                SP  \n",
       "3        sao paulo                SP  \n",
       "4        sao paulo                SP  "
      ]
     },
     "execution_count": 9,
     "metadata": {},
     "output_type": "execute_result"
    }
   ],
   "source": [
    "geolocation = pd.read_csv('data/olist_geolocation_dataset.csv')\n",
    "geolocation.head()"
   ]
  },
  {
   "cell_type": "code",
   "execution_count": 10,
   "id": "3f6ba9bc",
   "metadata": {
    "ExecuteTime": {
     "end_time": "2022-10-23T09:58:41.280507Z",
     "start_time": "2022-10-23T09:58:41.277419Z"
    }
   },
   "outputs": [
    {
     "data": {
      "text/plain": [
       "(1000163, 5)"
      ]
     },
     "execution_count": 10,
     "metadata": {},
     "output_type": "execute_result"
    }
   ],
   "source": [
    "geolocation.shape"
   ]
  },
  {
   "cell_type": "code",
   "execution_count": 11,
   "id": "4a9d3a4a",
   "metadata": {
    "ExecuteTime": {
     "end_time": "2022-10-23T09:58:41.526072Z",
     "start_time": "2022-10-23T09:58:41.282228Z"
    }
   },
   "outputs": [
    {
     "data": {
      "text/plain": [
       "geolocation_zip_code_prefix    0.0\n",
       "geolocation_lat                0.0\n",
       "geolocation_lng                0.0\n",
       "geolocation_city               0.0\n",
       "geolocation_state              0.0\n",
       "dtype: float64"
      ]
     },
     "execution_count": 11,
     "metadata": {},
     "output_type": "execute_result"
    }
   ],
   "source": [
    "geolocation.isna().mean()"
   ]
  },
  {
   "cell_type": "markdown",
   "id": "1148b085",
   "metadata": {},
   "source": [
    "## Items"
   ]
  },
  {
   "cell_type": "markdown",
   "id": "9ac174e7",
   "metadata": {},
   "source": [
    "Fichier des articles achetés par les clients. La colonne `order_item_id` contient le rang de l'article dans la commande (une commande pouvant contenir plusieurs articles)"
   ]
  },
  {
   "cell_type": "code",
   "execution_count": 12,
   "id": "d624bc40",
   "metadata": {
    "ExecuteTime": {
     "end_time": "2022-10-23T09:58:41.761749Z",
     "start_time": "2022-10-23T09:58:41.528124Z"
    }
   },
   "outputs": [
    {
     "data": {
      "text/html": [
       "<div>\n",
       "<style scoped>\n",
       "    .dataframe tbody tr th:only-of-type {\n",
       "        vertical-align: middle;\n",
       "    }\n",
       "\n",
       "    .dataframe tbody tr th {\n",
       "        vertical-align: top;\n",
       "    }\n",
       "\n",
       "    .dataframe thead th {\n",
       "        text-align: right;\n",
       "    }\n",
       "</style>\n",
       "<table border=\"1\" class=\"dataframe\">\n",
       "  <thead>\n",
       "    <tr style=\"text-align: right;\">\n",
       "      <th></th>\n",
       "      <th>order_id</th>\n",
       "      <th>order_item_id</th>\n",
       "      <th>product_id</th>\n",
       "      <th>seller_id</th>\n",
       "      <th>shipping_limit_date</th>\n",
       "      <th>price</th>\n",
       "      <th>freight_value</th>\n",
       "    </tr>\n",
       "  </thead>\n",
       "  <tbody>\n",
       "    <tr>\n",
       "      <th>0</th>\n",
       "      <td>00010242fe8c5a6d1ba2dd792cb16214</td>\n",
       "      <td>1</td>\n",
       "      <td>4244733e06e7ecb4970a6e2683c13e61</td>\n",
       "      <td>48436dade18ac8b2bce089ec2a041202</td>\n",
       "      <td>2017-09-19 09:45:35</td>\n",
       "      <td>58.90</td>\n",
       "      <td>13.29</td>\n",
       "    </tr>\n",
       "    <tr>\n",
       "      <th>1</th>\n",
       "      <td>00018f77f2f0320c557190d7a144bdd3</td>\n",
       "      <td>1</td>\n",
       "      <td>e5f2d52b802189ee658865ca93d83a8f</td>\n",
       "      <td>dd7ddc04e1b6c2c614352b383efe2d36</td>\n",
       "      <td>2017-05-03 11:05:13</td>\n",
       "      <td>239.90</td>\n",
       "      <td>19.93</td>\n",
       "    </tr>\n",
       "    <tr>\n",
       "      <th>2</th>\n",
       "      <td>000229ec398224ef6ca0657da4fc703e</td>\n",
       "      <td>1</td>\n",
       "      <td>c777355d18b72b67abbeef9df44fd0fd</td>\n",
       "      <td>5b51032eddd242adc84c38acab88f23d</td>\n",
       "      <td>2018-01-18 14:48:30</td>\n",
       "      <td>199.00</td>\n",
       "      <td>17.87</td>\n",
       "    </tr>\n",
       "    <tr>\n",
       "      <th>3</th>\n",
       "      <td>00024acbcdf0a6daa1e931b038114c75</td>\n",
       "      <td>1</td>\n",
       "      <td>7634da152a4610f1595efa32f14722fc</td>\n",
       "      <td>9d7a1d34a5052409006425275ba1c2b4</td>\n",
       "      <td>2018-08-15 10:10:18</td>\n",
       "      <td>12.99</td>\n",
       "      <td>12.79</td>\n",
       "    </tr>\n",
       "    <tr>\n",
       "      <th>4</th>\n",
       "      <td>00042b26cf59d7ce69dfabb4e55b4fd9</td>\n",
       "      <td>1</td>\n",
       "      <td>ac6c3623068f30de03045865e4e10089</td>\n",
       "      <td>df560393f3a51e74553ab94004ba5c87</td>\n",
       "      <td>2017-02-13 13:57:51</td>\n",
       "      <td>199.90</td>\n",
       "      <td>18.14</td>\n",
       "    </tr>\n",
       "  </tbody>\n",
       "</table>\n",
       "</div>"
      ],
      "text/plain": [
       "                           order_id  order_item_id  \\\n",
       "0  00010242fe8c5a6d1ba2dd792cb16214              1   \n",
       "1  00018f77f2f0320c557190d7a144bdd3              1   \n",
       "2  000229ec398224ef6ca0657da4fc703e              1   \n",
       "3  00024acbcdf0a6daa1e931b038114c75              1   \n",
       "4  00042b26cf59d7ce69dfabb4e55b4fd9              1   \n",
       "\n",
       "                         product_id                         seller_id  \\\n",
       "0  4244733e06e7ecb4970a6e2683c13e61  48436dade18ac8b2bce089ec2a041202   \n",
       "1  e5f2d52b802189ee658865ca93d83a8f  dd7ddc04e1b6c2c614352b383efe2d36   \n",
       "2  c777355d18b72b67abbeef9df44fd0fd  5b51032eddd242adc84c38acab88f23d   \n",
       "3  7634da152a4610f1595efa32f14722fc  9d7a1d34a5052409006425275ba1c2b4   \n",
       "4  ac6c3623068f30de03045865e4e10089  df560393f3a51e74553ab94004ba5c87   \n",
       "\n",
       "   shipping_limit_date   price  freight_value  \n",
       "0  2017-09-19 09:45:35   58.90          13.29  \n",
       "1  2017-05-03 11:05:13  239.90          19.93  \n",
       "2  2018-01-18 14:48:30  199.00          17.87  \n",
       "3  2018-08-15 10:10:18   12.99          12.79  \n",
       "4  2017-02-13 13:57:51  199.90          18.14  "
      ]
     },
     "execution_count": 12,
     "metadata": {},
     "output_type": "execute_result"
    }
   ],
   "source": [
    "items = pd.read_csv('data/olist_order_items_dataset.csv')\n",
    "items.head()"
   ]
  },
  {
   "cell_type": "code",
   "execution_count": 13,
   "id": "c93e1111",
   "metadata": {
    "ExecuteTime": {
     "end_time": "2022-10-23T09:58:41.767304Z",
     "start_time": "2022-10-23T09:58:41.763800Z"
    }
   },
   "outputs": [
    {
     "data": {
      "text/plain": [
       "(112650, 7)"
      ]
     },
     "execution_count": 13,
     "metadata": {},
     "output_type": "execute_result"
    }
   ],
   "source": [
    "items.shape"
   ]
  },
  {
   "cell_type": "code",
   "execution_count": 14,
   "id": "ef87343a",
   "metadata": {
    "ExecuteTime": {
     "end_time": "2022-10-23T09:58:41.773794Z",
     "start_time": "2022-10-23T09:58:41.769250Z"
    }
   },
   "outputs": [
    {
     "data": {
      "text/plain": [
       "order_id                object\n",
       "order_item_id            int64\n",
       "product_id              object\n",
       "seller_id               object\n",
       "shipping_limit_date     object\n",
       "price                  float64\n",
       "freight_value          float64\n",
       "dtype: object"
      ]
     },
     "execution_count": 14,
     "metadata": {},
     "output_type": "execute_result"
    }
   ],
   "source": [
    "items.dtypes"
   ]
  },
  {
   "cell_type": "code",
   "execution_count": 15,
   "id": "389ca99a",
   "metadata": {
    "ExecuteTime": {
     "end_time": "2022-10-23T09:58:41.844686Z",
     "start_time": "2022-10-23T09:58:41.775652Z"
    }
   },
   "outputs": [
    {
     "name": "stdout",
     "output_type": "stream",
     "text": [
      "order_id------------------------------------------ 98666\n",
      "order_item_id------------------------------------- 21\n",
      "product_id---------------------------------------- 32951\n",
      "seller_id----------------------------------------- 3095\n",
      "shipping_limit_date------------------------------- 93318\n",
      "price--------------------------------------------- 5968\n",
      "freight_value------------------------------------- 6999\n"
     ]
    }
   ],
   "source": [
    "# Nombre de valeurs uniques par variable\n",
    "for col in items.columns:\n",
    "    print(f'{col :-<50} {items[col].unique().size}')"
   ]
  },
  {
   "cell_type": "markdown",
   "id": "4075a63e",
   "metadata": {},
   "source": [
    "La variable `order_item_id` désigne l'ordre de l'article dans la commande, donc pour chaque valeur de `order_item_id` toutes les valeurs de `order_id` correspondantes sont différentes :"
   ]
  },
  {
   "cell_type": "code",
   "execution_count": 16,
   "id": "334f2efc",
   "metadata": {
    "ExecuteTime": {
     "end_time": "2022-10-23T09:58:41.893623Z",
     "start_time": "2022-10-23T09:58:41.846879Z"
    }
   },
   "outputs": [
    {
     "name": "stdout",
     "output_type": "stream",
     "text": [
      "0\n",
      "0\n",
      "0\n",
      "0\n",
      "0\n",
      "0\n",
      "0\n",
      "0\n",
      "0\n",
      "0\n",
      "0\n",
      "0\n",
      "0\n",
      "0\n",
      "0\n",
      "0\n",
      "0\n",
      "0\n",
      "0\n",
      "0\n",
      "0\n"
     ]
    }
   ],
   "source": [
    "for i in range(items['order_item_id'].unique().size):\n",
    "    print(items.loc[items['order_item_id'] == i, 'order_id'].duplicated().sum())"
   ]
  },
  {
   "cell_type": "code",
   "execution_count": 17,
   "id": "8b767658",
   "metadata": {
    "ExecuteTime": {
     "end_time": "2022-10-23T09:58:41.969057Z",
     "start_time": "2022-10-23T09:58:41.895859Z"
    }
   },
   "outputs": [
    {
     "data": {
      "text/plain": [
       "order_id               0.0\n",
       "order_item_id          0.0\n",
       "product_id             0.0\n",
       "seller_id              0.0\n",
       "shipping_limit_date    0.0\n",
       "price                  0.0\n",
       "freight_value          0.0\n",
       "dtype: float64"
      ]
     },
     "execution_count": 17,
     "metadata": {},
     "output_type": "execute_result"
    }
   ],
   "source": [
    "items.isna().mean()"
   ]
  },
  {
   "cell_type": "markdown",
   "id": "e351dc02",
   "metadata": {},
   "source": [
    "## Reviews"
   ]
  },
  {
   "cell_type": "markdown",
   "id": "ccd59885",
   "metadata": {},
   "source": [
    "Ficher contenant les avis des clients"
   ]
  },
  {
   "cell_type": "code",
   "execution_count": 18,
   "id": "b85c5bb5",
   "metadata": {
    "ExecuteTime": {
     "end_time": "2022-10-23T09:58:42.295171Z",
     "start_time": "2022-10-23T09:58:41.970810Z"
    }
   },
   "outputs": [
    {
     "data": {
      "text/html": [
       "<div>\n",
       "<style scoped>\n",
       "    .dataframe tbody tr th:only-of-type {\n",
       "        vertical-align: middle;\n",
       "    }\n",
       "\n",
       "    .dataframe tbody tr th {\n",
       "        vertical-align: top;\n",
       "    }\n",
       "\n",
       "    .dataframe thead th {\n",
       "        text-align: right;\n",
       "    }\n",
       "</style>\n",
       "<table border=\"1\" class=\"dataframe\">\n",
       "  <thead>\n",
       "    <tr style=\"text-align: right;\">\n",
       "      <th></th>\n",
       "      <th>review_id</th>\n",
       "      <th>order_id</th>\n",
       "      <th>review_score</th>\n",
       "      <th>review_comment_title</th>\n",
       "      <th>review_comment_message</th>\n",
       "      <th>review_creation_date</th>\n",
       "      <th>review_answer_timestamp</th>\n",
       "    </tr>\n",
       "  </thead>\n",
       "  <tbody>\n",
       "    <tr>\n",
       "      <th>0</th>\n",
       "      <td>7bc2406110b926393aa56f80a40eba40</td>\n",
       "      <td>73fc7af87114b39712e6da79b0a377eb</td>\n",
       "      <td>4</td>\n",
       "      <td>NaN</td>\n",
       "      <td>NaN</td>\n",
       "      <td>2018-01-18 00:00:00</td>\n",
       "      <td>2018-01-18 21:46:59</td>\n",
       "    </tr>\n",
       "    <tr>\n",
       "      <th>1</th>\n",
       "      <td>80e641a11e56f04c1ad469d5645fdfde</td>\n",
       "      <td>a548910a1c6147796b98fdf73dbeba33</td>\n",
       "      <td>5</td>\n",
       "      <td>NaN</td>\n",
       "      <td>NaN</td>\n",
       "      <td>2018-03-10 00:00:00</td>\n",
       "      <td>2018-03-11 03:05:13</td>\n",
       "    </tr>\n",
       "    <tr>\n",
       "      <th>2</th>\n",
       "      <td>228ce5500dc1d8e020d8d1322874b6f0</td>\n",
       "      <td>f9e4b658b201a9f2ecdecbb34bed034b</td>\n",
       "      <td>5</td>\n",
       "      <td>NaN</td>\n",
       "      <td>NaN</td>\n",
       "      <td>2018-02-17 00:00:00</td>\n",
       "      <td>2018-02-18 14:36:24</td>\n",
       "    </tr>\n",
       "    <tr>\n",
       "      <th>3</th>\n",
       "      <td>e64fb393e7b32834bb789ff8bb30750e</td>\n",
       "      <td>658677c97b385a9be170737859d3511b</td>\n",
       "      <td>5</td>\n",
       "      <td>NaN</td>\n",
       "      <td>Recebi bem antes do prazo estipulado.</td>\n",
       "      <td>2017-04-21 00:00:00</td>\n",
       "      <td>2017-04-21 22:02:06</td>\n",
       "    </tr>\n",
       "    <tr>\n",
       "      <th>4</th>\n",
       "      <td>f7c4243c7fe1938f181bec41a392bdeb</td>\n",
       "      <td>8e6bfb81e283fa7e4f11123a3fb894f1</td>\n",
       "      <td>5</td>\n",
       "      <td>NaN</td>\n",
       "      <td>Parabéns lojas lannister adorei comprar pela I...</td>\n",
       "      <td>2018-03-01 00:00:00</td>\n",
       "      <td>2018-03-02 10:26:53</td>\n",
       "    </tr>\n",
       "  </tbody>\n",
       "</table>\n",
       "</div>"
      ],
      "text/plain": [
       "                          review_id                          order_id  \\\n",
       "0  7bc2406110b926393aa56f80a40eba40  73fc7af87114b39712e6da79b0a377eb   \n",
       "1  80e641a11e56f04c1ad469d5645fdfde  a548910a1c6147796b98fdf73dbeba33   \n",
       "2  228ce5500dc1d8e020d8d1322874b6f0  f9e4b658b201a9f2ecdecbb34bed034b   \n",
       "3  e64fb393e7b32834bb789ff8bb30750e  658677c97b385a9be170737859d3511b   \n",
       "4  f7c4243c7fe1938f181bec41a392bdeb  8e6bfb81e283fa7e4f11123a3fb894f1   \n",
       "\n",
       "   review_score review_comment_title  \\\n",
       "0             4                  NaN   \n",
       "1             5                  NaN   \n",
       "2             5                  NaN   \n",
       "3             5                  NaN   \n",
       "4             5                  NaN   \n",
       "\n",
       "                              review_comment_message review_creation_date  \\\n",
       "0                                                NaN  2018-01-18 00:00:00   \n",
       "1                                                NaN  2018-03-10 00:00:00   \n",
       "2                                                NaN  2018-02-17 00:00:00   \n",
       "3              Recebi bem antes do prazo estipulado.  2017-04-21 00:00:00   \n",
       "4  Parabéns lojas lannister adorei comprar pela I...  2018-03-01 00:00:00   \n",
       "\n",
       "  review_answer_timestamp  \n",
       "0     2018-01-18 21:46:59  \n",
       "1     2018-03-11 03:05:13  \n",
       "2     2018-02-18 14:36:24  \n",
       "3     2017-04-21 22:02:06  \n",
       "4     2018-03-02 10:26:53  "
      ]
     },
     "execution_count": 18,
     "metadata": {},
     "output_type": "execute_result"
    }
   ],
   "source": [
    "reviews = pd.read_csv('data/olist_order_reviews_dataset.csv')\n",
    "reviews.head()"
   ]
  },
  {
   "cell_type": "code",
   "execution_count": 19,
   "id": "ada543f0",
   "metadata": {
    "ExecuteTime": {
     "end_time": "2022-10-23T09:58:42.300946Z",
     "start_time": "2022-10-23T09:58:42.297294Z"
    }
   },
   "outputs": [
    {
     "data": {
      "text/plain": [
       "(99224, 7)"
      ]
     },
     "execution_count": 19,
     "metadata": {},
     "output_type": "execute_result"
    }
   ],
   "source": [
    "reviews.shape"
   ]
  },
  {
   "cell_type": "code",
   "execution_count": 20,
   "id": "e4c49f8b",
   "metadata": {
    "ExecuteTime": {
     "end_time": "2022-10-23T09:58:42.307365Z",
     "start_time": "2022-10-23T09:58:42.302772Z"
    }
   },
   "outputs": [
    {
     "data": {
      "text/plain": [
       "review_id                  object\n",
       "order_id                   object\n",
       "review_score                int64\n",
       "review_comment_title       object\n",
       "review_comment_message     object\n",
       "review_creation_date       object\n",
       "review_answer_timestamp    object\n",
       "dtype: object"
      ]
     },
     "execution_count": 20,
     "metadata": {},
     "output_type": "execute_result"
    }
   ],
   "source": [
    "reviews.dtypes"
   ]
  },
  {
   "cell_type": "code",
   "execution_count": 21,
   "id": "e696bb05",
   "metadata": {
    "ExecuteTime": {
     "end_time": "2022-10-23T09:58:42.394139Z",
     "start_time": "2022-10-23T09:58:42.309144Z"
    }
   },
   "outputs": [
    {
     "name": "stdout",
     "output_type": "stream",
     "text": [
      "review_id----------------------------------------- 98410\n",
      "order_id------------------------------------------ 98673\n",
      "review_score-------------------------------------- 5\n",
      "review_comment_title------------------------------ 4528\n",
      "review_comment_message---------------------------- 36160\n",
      "review_creation_date------------------------------ 636\n",
      "review_answer_timestamp--------------------------- 98248\n"
     ]
    }
   ],
   "source": [
    "for col in reviews.columns:\n",
    "    print(f'{col :-<50} {reviews[col].unique().size}')"
   ]
  },
  {
   "cell_type": "code",
   "execution_count": 22,
   "id": "b6b972e8",
   "metadata": {
    "ExecuteTime": {
     "end_time": "2022-10-23T09:58:42.489337Z",
     "start_time": "2022-10-23T09:58:42.396373Z"
    }
   },
   "outputs": [
    {
     "data": {
      "text/plain": [
       "review_id                  0.000000\n",
       "order_id                   0.000000\n",
       "review_score               0.000000\n",
       "review_comment_title       0.883415\n",
       "review_comment_message     0.587025\n",
       "review_creation_date       0.000000\n",
       "review_answer_timestamp    0.000000\n",
       "dtype: float64"
      ]
     },
     "execution_count": 22,
     "metadata": {},
     "output_type": "execute_result"
    }
   ],
   "source": [
    "reviews.isna().mean()"
   ]
  },
  {
   "cell_type": "markdown",
   "id": "a0c8fd52",
   "metadata": {},
   "source": [
    "## Orders"
   ]
  },
  {
   "cell_type": "markdown",
   "id": "7be0d935",
   "metadata": {},
   "source": [
    "Fichier des commandes"
   ]
  },
  {
   "cell_type": "code",
   "execution_count": 23,
   "id": "c53c66d9",
   "metadata": {
    "ExecuteTime": {
     "end_time": "2022-10-23T09:58:42.856079Z",
     "start_time": "2022-10-23T09:58:42.496003Z"
    }
   },
   "outputs": [
    {
     "data": {
      "text/html": [
       "<div>\n",
       "<style scoped>\n",
       "    .dataframe tbody tr th:only-of-type {\n",
       "        vertical-align: middle;\n",
       "    }\n",
       "\n",
       "    .dataframe tbody tr th {\n",
       "        vertical-align: top;\n",
       "    }\n",
       "\n",
       "    .dataframe thead th {\n",
       "        text-align: right;\n",
       "    }\n",
       "</style>\n",
       "<table border=\"1\" class=\"dataframe\">\n",
       "  <thead>\n",
       "    <tr style=\"text-align: right;\">\n",
       "      <th></th>\n",
       "      <th>order_id</th>\n",
       "      <th>customer_id</th>\n",
       "      <th>order_status</th>\n",
       "      <th>order_purchase_timestamp</th>\n",
       "      <th>order_approved_at</th>\n",
       "      <th>order_delivered_carrier_date</th>\n",
       "      <th>order_delivered_customer_date</th>\n",
       "      <th>order_estimated_delivery_date</th>\n",
       "    </tr>\n",
       "  </thead>\n",
       "  <tbody>\n",
       "    <tr>\n",
       "      <th>0</th>\n",
       "      <td>e481f51cbdc54678b7cc49136f2d6af7</td>\n",
       "      <td>9ef432eb6251297304e76186b10a928d</td>\n",
       "      <td>delivered</td>\n",
       "      <td>2017-10-02 10:56:33</td>\n",
       "      <td>2017-10-02 11:07:15</td>\n",
       "      <td>2017-10-04 19:55:00</td>\n",
       "      <td>2017-10-10 21:25:13</td>\n",
       "      <td>2017-10-18 00:00:00</td>\n",
       "    </tr>\n",
       "    <tr>\n",
       "      <th>1</th>\n",
       "      <td>53cdb2fc8bc7dce0b6741e2150273451</td>\n",
       "      <td>b0830fb4747a6c6d20dea0b8c802d7ef</td>\n",
       "      <td>delivered</td>\n",
       "      <td>2018-07-24 20:41:37</td>\n",
       "      <td>2018-07-26 03:24:27</td>\n",
       "      <td>2018-07-26 14:31:00</td>\n",
       "      <td>2018-08-07 15:27:45</td>\n",
       "      <td>2018-08-13 00:00:00</td>\n",
       "    </tr>\n",
       "    <tr>\n",
       "      <th>2</th>\n",
       "      <td>47770eb9100c2d0c44946d9cf07ec65d</td>\n",
       "      <td>41ce2a54c0b03bf3443c3d931a367089</td>\n",
       "      <td>delivered</td>\n",
       "      <td>2018-08-08 08:38:49</td>\n",
       "      <td>2018-08-08 08:55:23</td>\n",
       "      <td>2018-08-08 13:50:00</td>\n",
       "      <td>2018-08-17 18:06:29</td>\n",
       "      <td>2018-09-04 00:00:00</td>\n",
       "    </tr>\n",
       "    <tr>\n",
       "      <th>3</th>\n",
       "      <td>949d5b44dbf5de918fe9c16f97b45f8a</td>\n",
       "      <td>f88197465ea7920adcdbec7375364d82</td>\n",
       "      <td>delivered</td>\n",
       "      <td>2017-11-18 19:28:06</td>\n",
       "      <td>2017-11-18 19:45:59</td>\n",
       "      <td>2017-11-22 13:39:59</td>\n",
       "      <td>2017-12-02 00:28:42</td>\n",
       "      <td>2017-12-15 00:00:00</td>\n",
       "    </tr>\n",
       "    <tr>\n",
       "      <th>4</th>\n",
       "      <td>ad21c59c0840e6cb83a9ceb5573f8159</td>\n",
       "      <td>8ab97904e6daea8866dbdbc4fb7aad2c</td>\n",
       "      <td>delivered</td>\n",
       "      <td>2018-02-13 21:18:39</td>\n",
       "      <td>2018-02-13 22:20:29</td>\n",
       "      <td>2018-02-14 19:46:34</td>\n",
       "      <td>2018-02-16 18:17:02</td>\n",
       "      <td>2018-02-26 00:00:00</td>\n",
       "    </tr>\n",
       "  </tbody>\n",
       "</table>\n",
       "</div>"
      ],
      "text/plain": [
       "                           order_id                       customer_id  \\\n",
       "0  e481f51cbdc54678b7cc49136f2d6af7  9ef432eb6251297304e76186b10a928d   \n",
       "1  53cdb2fc8bc7dce0b6741e2150273451  b0830fb4747a6c6d20dea0b8c802d7ef   \n",
       "2  47770eb9100c2d0c44946d9cf07ec65d  41ce2a54c0b03bf3443c3d931a367089   \n",
       "3  949d5b44dbf5de918fe9c16f97b45f8a  f88197465ea7920adcdbec7375364d82   \n",
       "4  ad21c59c0840e6cb83a9ceb5573f8159  8ab97904e6daea8866dbdbc4fb7aad2c   \n",
       "\n",
       "  order_status order_purchase_timestamp    order_approved_at  \\\n",
       "0    delivered      2017-10-02 10:56:33  2017-10-02 11:07:15   \n",
       "1    delivered      2018-07-24 20:41:37  2018-07-26 03:24:27   \n",
       "2    delivered      2018-08-08 08:38:49  2018-08-08 08:55:23   \n",
       "3    delivered      2017-11-18 19:28:06  2017-11-18 19:45:59   \n",
       "4    delivered      2018-02-13 21:18:39  2018-02-13 22:20:29   \n",
       "\n",
       "  order_delivered_carrier_date order_delivered_customer_date  \\\n",
       "0          2017-10-04 19:55:00           2017-10-10 21:25:13   \n",
       "1          2018-07-26 14:31:00           2018-08-07 15:27:45   \n",
       "2          2018-08-08 13:50:00           2018-08-17 18:06:29   \n",
       "3          2017-11-22 13:39:59           2017-12-02 00:28:42   \n",
       "4          2018-02-14 19:46:34           2018-02-16 18:17:02   \n",
       "\n",
       "  order_estimated_delivery_date  \n",
       "0           2017-10-18 00:00:00  \n",
       "1           2018-08-13 00:00:00  \n",
       "2           2018-09-04 00:00:00  \n",
       "3           2017-12-15 00:00:00  \n",
       "4           2018-02-26 00:00:00  "
      ]
     },
     "execution_count": 23,
     "metadata": {},
     "output_type": "execute_result"
    }
   ],
   "source": [
    "orders = pd.read_csv('data/olist_orders_dataset.csv')\n",
    "orders.head()"
   ]
  },
  {
   "cell_type": "code",
   "execution_count": 24,
   "id": "b9353c4f",
   "metadata": {
    "ExecuteTime": {
     "end_time": "2022-10-23T09:58:42.864627Z",
     "start_time": "2022-10-23T09:58:42.861101Z"
    }
   },
   "outputs": [
    {
     "data": {
      "text/plain": [
       "(99441, 8)"
      ]
     },
     "execution_count": 24,
     "metadata": {},
     "output_type": "execute_result"
    }
   ],
   "source": [
    "orders.shape"
   ]
  },
  {
   "cell_type": "code",
   "execution_count": 25,
   "id": "a1e1769e",
   "metadata": {
    "ExecuteTime": {
     "end_time": "2022-10-23T09:58:42.871170Z",
     "start_time": "2022-10-23T09:58:42.866601Z"
    }
   },
   "outputs": [
    {
     "data": {
      "text/plain": [
       "order_id                         object\n",
       "customer_id                      object\n",
       "order_status                     object\n",
       "order_purchase_timestamp         object\n",
       "order_approved_at                object\n",
       "order_delivered_carrier_date     object\n",
       "order_delivered_customer_date    object\n",
       "order_estimated_delivery_date    object\n",
       "dtype: object"
      ]
     },
     "execution_count": 25,
     "metadata": {},
     "output_type": "execute_result"
    }
   ],
   "source": [
    "orders.dtypes"
   ]
  },
  {
   "cell_type": "code",
   "execution_count": 26,
   "id": "1e4fa65c",
   "metadata": {
    "ExecuteTime": {
     "end_time": "2022-10-23T09:58:43.009233Z",
     "start_time": "2022-10-23T09:58:42.872993Z"
    }
   },
   "outputs": [
    {
     "name": "stdout",
     "output_type": "stream",
     "text": [
      "order_id------------------------------------------ 99441\n",
      "customer_id--------------------------------------- 99441\n",
      "order_status-------------------------------------- 8\n",
      "order_purchase_timestamp-------------------------- 98875\n",
      "order_approved_at--------------------------------- 90734\n",
      "order_delivered_carrier_date---------------------- 81019\n",
      "order_delivered_customer_date--------------------- 95665\n",
      "order_estimated_delivery_date--------------------- 459\n"
     ]
    }
   ],
   "source": [
    "for col in orders.columns:\n",
    "    print(f'{col :-<50} {orders[col].unique().size}')"
   ]
  },
  {
   "cell_type": "markdown",
   "id": "cad74558",
   "metadata": {},
   "source": [
    "Le nombre de valeurs uniques de `order_purchase_timestamp` est inférieure au nombre de lignes, il y a donc des commandes différentes qui ont été passées exactement au même instant"
   ]
  },
  {
   "cell_type": "code",
   "execution_count": 27,
   "id": "95d11dd6",
   "metadata": {
    "ExecuteTime": {
     "end_time": "2022-10-23T09:58:43.034886Z",
     "start_time": "2022-10-23T09:58:43.011546Z"
    }
   },
   "outputs": [
    {
     "data": {
      "text/plain": [
       "566"
      ]
     },
     "execution_count": 27,
     "metadata": {},
     "output_type": "execute_result"
    }
   ],
   "source": [
    "orders.duplicated(subset='order_purchase_timestamp').sum()"
   ]
  },
  {
   "cell_type": "code",
   "execution_count": 28,
   "id": "37ae202b",
   "metadata": {
    "ExecuteTime": {
     "end_time": "2022-10-23T09:58:43.141326Z",
     "start_time": "2022-10-23T09:58:43.036898Z"
    }
   },
   "outputs": [
    {
     "data": {
      "text/plain": [
       "order_id                         0.000000\n",
       "customer_id                      0.000000\n",
       "order_status                     0.000000\n",
       "order_purchase_timestamp         0.000000\n",
       "order_approved_at                0.001609\n",
       "order_delivered_carrier_date     0.017930\n",
       "order_delivered_customer_date    0.029817\n",
       "order_estimated_delivery_date    0.000000\n",
       "dtype: float64"
      ]
     },
     "execution_count": 28,
     "metadata": {},
     "output_type": "execute_result"
    }
   ],
   "source": [
    "orders.isna().mean()"
   ]
  },
  {
   "cell_type": "markdown",
   "id": "2ac44bad",
   "metadata": {},
   "source": [
    "## Products"
   ]
  },
  {
   "cell_type": "markdown",
   "id": "7cb1d175",
   "metadata": {},
   "source": [
    "Fichier des produits mis en vente"
   ]
  },
  {
   "cell_type": "code",
   "execution_count": 29,
   "id": "78e221b2",
   "metadata": {
    "ExecuteTime": {
     "end_time": "2022-10-23T09:58:43.198106Z",
     "start_time": "2022-10-23T09:58:43.143208Z"
    }
   },
   "outputs": [
    {
     "data": {
      "text/html": [
       "<div>\n",
       "<style scoped>\n",
       "    .dataframe tbody tr th:only-of-type {\n",
       "        vertical-align: middle;\n",
       "    }\n",
       "\n",
       "    .dataframe tbody tr th {\n",
       "        vertical-align: top;\n",
       "    }\n",
       "\n",
       "    .dataframe thead th {\n",
       "        text-align: right;\n",
       "    }\n",
       "</style>\n",
       "<table border=\"1\" class=\"dataframe\">\n",
       "  <thead>\n",
       "    <tr style=\"text-align: right;\">\n",
       "      <th></th>\n",
       "      <th>product_id</th>\n",
       "      <th>product_category_name</th>\n",
       "      <th>product_name_lenght</th>\n",
       "      <th>product_description_lenght</th>\n",
       "      <th>product_photos_qty</th>\n",
       "      <th>product_weight_g</th>\n",
       "      <th>product_length_cm</th>\n",
       "      <th>product_height_cm</th>\n",
       "      <th>product_width_cm</th>\n",
       "    </tr>\n",
       "  </thead>\n",
       "  <tbody>\n",
       "    <tr>\n",
       "      <th>0</th>\n",
       "      <td>1e9e8ef04dbcff4541ed26657ea517e5</td>\n",
       "      <td>perfumaria</td>\n",
       "      <td>40.0</td>\n",
       "      <td>287.0</td>\n",
       "      <td>1.0</td>\n",
       "      <td>225.0</td>\n",
       "      <td>16.0</td>\n",
       "      <td>10.0</td>\n",
       "      <td>14.0</td>\n",
       "    </tr>\n",
       "    <tr>\n",
       "      <th>1</th>\n",
       "      <td>3aa071139cb16b67ca9e5dea641aaa2f</td>\n",
       "      <td>artes</td>\n",
       "      <td>44.0</td>\n",
       "      <td>276.0</td>\n",
       "      <td>1.0</td>\n",
       "      <td>1000.0</td>\n",
       "      <td>30.0</td>\n",
       "      <td>18.0</td>\n",
       "      <td>20.0</td>\n",
       "    </tr>\n",
       "    <tr>\n",
       "      <th>2</th>\n",
       "      <td>96bd76ec8810374ed1b65e291975717f</td>\n",
       "      <td>esporte_lazer</td>\n",
       "      <td>46.0</td>\n",
       "      <td>250.0</td>\n",
       "      <td>1.0</td>\n",
       "      <td>154.0</td>\n",
       "      <td>18.0</td>\n",
       "      <td>9.0</td>\n",
       "      <td>15.0</td>\n",
       "    </tr>\n",
       "    <tr>\n",
       "      <th>3</th>\n",
       "      <td>cef67bcfe19066a932b7673e239eb23d</td>\n",
       "      <td>bebes</td>\n",
       "      <td>27.0</td>\n",
       "      <td>261.0</td>\n",
       "      <td>1.0</td>\n",
       "      <td>371.0</td>\n",
       "      <td>26.0</td>\n",
       "      <td>4.0</td>\n",
       "      <td>26.0</td>\n",
       "    </tr>\n",
       "    <tr>\n",
       "      <th>4</th>\n",
       "      <td>9dc1a7de274444849c219cff195d0b71</td>\n",
       "      <td>utilidades_domesticas</td>\n",
       "      <td>37.0</td>\n",
       "      <td>402.0</td>\n",
       "      <td>4.0</td>\n",
       "      <td>625.0</td>\n",
       "      <td>20.0</td>\n",
       "      <td>17.0</td>\n",
       "      <td>13.0</td>\n",
       "    </tr>\n",
       "  </tbody>\n",
       "</table>\n",
       "</div>"
      ],
      "text/plain": [
       "                         product_id  product_category_name  \\\n",
       "0  1e9e8ef04dbcff4541ed26657ea517e5             perfumaria   \n",
       "1  3aa071139cb16b67ca9e5dea641aaa2f                  artes   \n",
       "2  96bd76ec8810374ed1b65e291975717f          esporte_lazer   \n",
       "3  cef67bcfe19066a932b7673e239eb23d                  bebes   \n",
       "4  9dc1a7de274444849c219cff195d0b71  utilidades_domesticas   \n",
       "\n",
       "   product_name_lenght  product_description_lenght  product_photos_qty  \\\n",
       "0                 40.0                       287.0                 1.0   \n",
       "1                 44.0                       276.0                 1.0   \n",
       "2                 46.0                       250.0                 1.0   \n",
       "3                 27.0                       261.0                 1.0   \n",
       "4                 37.0                       402.0                 4.0   \n",
       "\n",
       "   product_weight_g  product_length_cm  product_height_cm  product_width_cm  \n",
       "0             225.0               16.0               10.0              14.0  \n",
       "1            1000.0               30.0               18.0              20.0  \n",
       "2             154.0               18.0                9.0              15.0  \n",
       "3             371.0               26.0                4.0              26.0  \n",
       "4             625.0               20.0               17.0              13.0  "
      ]
     },
     "execution_count": 29,
     "metadata": {},
     "output_type": "execute_result"
    }
   ],
   "source": [
    "products = pd.read_csv('data/olist_products_dataset.csv')\n",
    "products.head()"
   ]
  },
  {
   "cell_type": "code",
   "execution_count": 30,
   "id": "971cf47a",
   "metadata": {
    "ExecuteTime": {
     "end_time": "2022-10-23T09:58:43.203826Z",
     "start_time": "2022-10-23T09:58:43.200206Z"
    }
   },
   "outputs": [
    {
     "data": {
      "text/plain": [
       "(32951, 9)"
      ]
     },
     "execution_count": 30,
     "metadata": {},
     "output_type": "execute_result"
    }
   ],
   "source": [
    "products.shape"
   ]
  },
  {
   "cell_type": "code",
   "execution_count": 31,
   "id": "eebb0356",
   "metadata": {
    "ExecuteTime": {
     "end_time": "2022-10-23T09:58:43.209644Z",
     "start_time": "2022-10-23T09:58:43.205588Z"
    }
   },
   "outputs": [
    {
     "data": {
      "text/plain": [
       "product_id                     object\n",
       "product_category_name          object\n",
       "product_name_lenght           float64\n",
       "product_description_lenght    float64\n",
       "product_photos_qty            float64\n",
       "product_weight_g              float64\n",
       "product_length_cm             float64\n",
       "product_height_cm             float64\n",
       "product_width_cm              float64\n",
       "dtype: object"
      ]
     },
     "execution_count": 31,
     "metadata": {},
     "output_type": "execute_result"
    }
   ],
   "source": [
    "products.dtypes"
   ]
  },
  {
   "cell_type": "code",
   "execution_count": 32,
   "id": "e6ccdc38",
   "metadata": {
    "ExecuteTime": {
     "end_time": "2022-10-23T09:58:43.223372Z",
     "start_time": "2022-10-23T09:58:43.211238Z"
    }
   },
   "outputs": [
    {
     "name": "stdout",
     "output_type": "stream",
     "text": [
      "product_id---------------------------------------- 32951\n",
      "product_category_name----------------------------- 74\n",
      "product_name_lenght------------------------------- 67\n",
      "product_description_lenght------------------------ 2961\n",
      "product_photos_qty-------------------------------- 20\n",
      "product_weight_g---------------------------------- 2205\n",
      "product_length_cm--------------------------------- 100\n",
      "product_height_cm--------------------------------- 103\n",
      "product_width_cm---------------------------------- 96\n"
     ]
    }
   ],
   "source": [
    "for col in products.columns:\n",
    "    print(f'{col :-<50} {products[col].unique().size}')"
   ]
  },
  {
   "cell_type": "code",
   "execution_count": 33,
   "id": "35701a8e",
   "metadata": {
    "ExecuteTime": {
     "end_time": "2022-10-23T09:58:43.238828Z",
     "start_time": "2022-10-23T09:58:43.225202Z"
    }
   },
   "outputs": [
    {
     "data": {
      "text/plain": [
       "product_id                    0.000000\n",
       "product_category_name         0.018512\n",
       "product_name_lenght           0.018512\n",
       "product_description_lenght    0.018512\n",
       "product_photos_qty            0.018512\n",
       "product_weight_g              0.000061\n",
       "product_length_cm             0.000061\n",
       "product_height_cm             0.000061\n",
       "product_width_cm              0.000061\n",
       "dtype: float64"
      ]
     },
     "execution_count": 33,
     "metadata": {},
     "output_type": "execute_result"
    }
   ],
   "source": [
    "products.isna().mean()"
   ]
  },
  {
   "cell_type": "markdown",
   "id": "c27496c0",
   "metadata": {},
   "source": [
    "## Sellers"
   ]
  },
  {
   "cell_type": "markdown",
   "id": "0a7b8d41",
   "metadata": {},
   "source": [
    "Fichier des vendeurs"
   ]
  },
  {
   "cell_type": "code",
   "execution_count": 34,
   "id": "4b999e69",
   "metadata": {
    "ExecuteTime": {
     "end_time": "2022-10-23T09:58:43.252062Z",
     "start_time": "2022-10-23T09:58:43.240406Z"
    }
   },
   "outputs": [
    {
     "data": {
      "text/html": [
       "<div>\n",
       "<style scoped>\n",
       "    .dataframe tbody tr th:only-of-type {\n",
       "        vertical-align: middle;\n",
       "    }\n",
       "\n",
       "    .dataframe tbody tr th {\n",
       "        vertical-align: top;\n",
       "    }\n",
       "\n",
       "    .dataframe thead th {\n",
       "        text-align: right;\n",
       "    }\n",
       "</style>\n",
       "<table border=\"1\" class=\"dataframe\">\n",
       "  <thead>\n",
       "    <tr style=\"text-align: right;\">\n",
       "      <th></th>\n",
       "      <th>seller_id</th>\n",
       "      <th>seller_zip_code_prefix</th>\n",
       "      <th>seller_city</th>\n",
       "      <th>seller_state</th>\n",
       "    </tr>\n",
       "  </thead>\n",
       "  <tbody>\n",
       "    <tr>\n",
       "      <th>0</th>\n",
       "      <td>3442f8959a84dea7ee197c632cb2df15</td>\n",
       "      <td>13023</td>\n",
       "      <td>campinas</td>\n",
       "      <td>SP</td>\n",
       "    </tr>\n",
       "    <tr>\n",
       "      <th>1</th>\n",
       "      <td>d1b65fc7debc3361ea86b5f14c68d2e2</td>\n",
       "      <td>13844</td>\n",
       "      <td>mogi guacu</td>\n",
       "      <td>SP</td>\n",
       "    </tr>\n",
       "    <tr>\n",
       "      <th>2</th>\n",
       "      <td>ce3ad9de960102d0677a81f5d0bb7b2d</td>\n",
       "      <td>20031</td>\n",
       "      <td>rio de janeiro</td>\n",
       "      <td>RJ</td>\n",
       "    </tr>\n",
       "    <tr>\n",
       "      <th>3</th>\n",
       "      <td>c0f3eea2e14555b6faeea3dd58c1b1c3</td>\n",
       "      <td>4195</td>\n",
       "      <td>sao paulo</td>\n",
       "      <td>SP</td>\n",
       "    </tr>\n",
       "    <tr>\n",
       "      <th>4</th>\n",
       "      <td>51a04a8a6bdcb23deccc82b0b80742cf</td>\n",
       "      <td>12914</td>\n",
       "      <td>braganca paulista</td>\n",
       "      <td>SP</td>\n",
       "    </tr>\n",
       "  </tbody>\n",
       "</table>\n",
       "</div>"
      ],
      "text/plain": [
       "                          seller_id  seller_zip_code_prefix  \\\n",
       "0  3442f8959a84dea7ee197c632cb2df15                   13023   \n",
       "1  d1b65fc7debc3361ea86b5f14c68d2e2                   13844   \n",
       "2  ce3ad9de960102d0677a81f5d0bb7b2d                   20031   \n",
       "3  c0f3eea2e14555b6faeea3dd58c1b1c3                    4195   \n",
       "4  51a04a8a6bdcb23deccc82b0b80742cf                   12914   \n",
       "\n",
       "         seller_city seller_state  \n",
       "0           campinas           SP  \n",
       "1         mogi guacu           SP  \n",
       "2     rio de janeiro           RJ  \n",
       "3          sao paulo           SP  \n",
       "4  braganca paulista           SP  "
      ]
     },
     "execution_count": 34,
     "metadata": {},
     "output_type": "execute_result"
    }
   ],
   "source": [
    "sellers = pd.read_csv('data/olist_sellers_dataset.csv')\n",
    "sellers.head()"
   ]
  },
  {
   "cell_type": "code",
   "execution_count": 35,
   "id": "5d5ac52a",
   "metadata": {
    "ExecuteTime": {
     "end_time": "2022-10-23T09:58:43.256791Z",
     "start_time": "2022-10-23T09:58:43.253849Z"
    }
   },
   "outputs": [
    {
     "data": {
      "text/plain": [
       "(3095, 4)"
      ]
     },
     "execution_count": 35,
     "metadata": {},
     "output_type": "execute_result"
    }
   ],
   "source": [
    "sellers.shape"
   ]
  },
  {
   "cell_type": "code",
   "execution_count": 36,
   "id": "b677031b",
   "metadata": {
    "ExecuteTime": {
     "end_time": "2022-10-23T09:58:43.263045Z",
     "start_time": "2022-10-23T09:58:43.258520Z"
    }
   },
   "outputs": [
    {
     "data": {
      "text/plain": [
       "seller_id                 object\n",
       "seller_zip_code_prefix     int64\n",
       "seller_city               object\n",
       "seller_state              object\n",
       "dtype: object"
      ]
     },
     "execution_count": 36,
     "metadata": {},
     "output_type": "execute_result"
    }
   ],
   "source": [
    "sellers.dtypes"
   ]
  },
  {
   "cell_type": "code",
   "execution_count": 37,
   "id": "d50a8987",
   "metadata": {
    "ExecuteTime": {
     "end_time": "2022-10-23T09:58:43.269169Z",
     "start_time": "2022-10-23T09:58:43.264650Z"
    }
   },
   "outputs": [
    {
     "name": "stdout",
     "output_type": "stream",
     "text": [
      "seller_id----------------------------------------- 3095\n",
      "seller_zip_code_prefix---------------------------- 2246\n",
      "seller_city--------------------------------------- 611\n",
      "seller_state-------------------------------------- 23\n"
     ]
    }
   ],
   "source": [
    "for col in sellers.columns:\n",
    "    print(f'{col :-<50} {sellers[col].unique().size}')"
   ]
  },
  {
   "cell_type": "code",
   "execution_count": 38,
   "id": "890153e9",
   "metadata": {
    "ExecuteTime": {
     "end_time": "2022-10-23T09:58:43.276221Z",
     "start_time": "2022-10-23T09:58:43.270592Z"
    }
   },
   "outputs": [
    {
     "data": {
      "text/plain": [
       "seller_id                 0.0\n",
       "seller_zip_code_prefix    0.0\n",
       "seller_city               0.0\n",
       "seller_state              0.0\n",
       "dtype: float64"
      ]
     },
     "execution_count": 38,
     "metadata": {},
     "output_type": "execute_result"
    }
   ],
   "source": [
    "sellers.isna().mean()"
   ]
  },
  {
   "cell_type": "markdown",
   "id": "32fc6ece",
   "metadata": {},
   "source": [
    "## Category name translation"
   ]
  },
  {
   "cell_type": "markdown",
   "id": "af546ad5",
   "metadata": {},
   "source": [
    "Fichier contenant la traduction anglaise des noms des catégories de produit"
   ]
  },
  {
   "cell_type": "code",
   "execution_count": 39,
   "id": "2b2e258b",
   "metadata": {
    "ExecuteTime": {
     "end_time": "2022-10-23T09:58:43.285407Z",
     "start_time": "2022-10-23T09:58:43.277888Z"
    }
   },
   "outputs": [
    {
     "data": {
      "text/html": [
       "<div>\n",
       "<style scoped>\n",
       "    .dataframe tbody tr th:only-of-type {\n",
       "        vertical-align: middle;\n",
       "    }\n",
       "\n",
       "    .dataframe tbody tr th {\n",
       "        vertical-align: top;\n",
       "    }\n",
       "\n",
       "    .dataframe thead th {\n",
       "        text-align: right;\n",
       "    }\n",
       "</style>\n",
       "<table border=\"1\" class=\"dataframe\">\n",
       "  <thead>\n",
       "    <tr style=\"text-align: right;\">\n",
       "      <th></th>\n",
       "      <th>product_category_name</th>\n",
       "      <th>product_category_name_english</th>\n",
       "    </tr>\n",
       "  </thead>\n",
       "  <tbody>\n",
       "    <tr>\n",
       "      <th>0</th>\n",
       "      <td>beleza_saude</td>\n",
       "      <td>health_beauty</td>\n",
       "    </tr>\n",
       "    <tr>\n",
       "      <th>1</th>\n",
       "      <td>informatica_acessorios</td>\n",
       "      <td>computers_accessories</td>\n",
       "    </tr>\n",
       "    <tr>\n",
       "      <th>2</th>\n",
       "      <td>automotivo</td>\n",
       "      <td>auto</td>\n",
       "    </tr>\n",
       "    <tr>\n",
       "      <th>3</th>\n",
       "      <td>cama_mesa_banho</td>\n",
       "      <td>bed_bath_table</td>\n",
       "    </tr>\n",
       "    <tr>\n",
       "      <th>4</th>\n",
       "      <td>moveis_decoracao</td>\n",
       "      <td>furniture_decor</td>\n",
       "    </tr>\n",
       "  </tbody>\n",
       "</table>\n",
       "</div>"
      ],
      "text/plain": [
       "    product_category_name product_category_name_english\n",
       "0            beleza_saude                 health_beauty\n",
       "1  informatica_acessorios         computers_accessories\n",
       "2              automotivo                          auto\n",
       "3         cama_mesa_banho                bed_bath_table\n",
       "4        moveis_decoracao               furniture_decor"
      ]
     },
     "execution_count": 39,
     "metadata": {},
     "output_type": "execute_result"
    }
   ],
   "source": [
    "translation = pd.read_csv('data/product_category_name_translation.csv')\n",
    "translation.head()"
   ]
  },
  {
   "cell_type": "code",
   "execution_count": 40,
   "id": "5edb09d9",
   "metadata": {
    "ExecuteTime": {
     "end_time": "2022-10-23T09:58:43.290587Z",
     "start_time": "2022-10-23T09:58:43.287267Z"
    }
   },
   "outputs": [
    {
     "data": {
      "text/plain": [
       "(71, 2)"
      ]
     },
     "execution_count": 40,
     "metadata": {},
     "output_type": "execute_result"
    }
   ],
   "source": [
    "translation.shape"
   ]
  },
  {
   "cell_type": "markdown",
   "id": "f686fb55",
   "metadata": {},
   "source": [
    "Produits présents dans `products` mais pas dans `translation`"
   ]
  },
  {
   "cell_type": "code",
   "execution_count": 41,
   "id": "ecb31b11",
   "metadata": {
    "ExecuteTime": {
     "end_time": "2022-10-23T09:58:43.298541Z",
     "start_time": "2022-10-23T09:58:43.292055Z"
    }
   },
   "outputs": [
    {
     "data": {
      "text/plain": [
       "array([nan, 'pc_gamer', 'portateis_cozinha_e_preparadores_de_alimentos'],\n",
       "      dtype=object)"
      ]
     },
     "execution_count": 41,
     "metadata": {},
     "output_type": "execute_result"
    }
   ],
   "source": [
    "mask = products['product_category_name'].isin(translation['product_category_name'])\n",
    "products.loc[~mask, 'product_category_name'].unique()"
   ]
  },
  {
   "cell_type": "markdown",
   "id": "5b09d902",
   "metadata": {},
   "source": [
    "# Analyse de fond"
   ]
  },
  {
   "cell_type": "markdown",
   "id": "dd1f9330",
   "metadata": {},
   "source": [
    "## Élimination des colonnes inutiles"
   ]
  },
  {
   "cell_type": "code",
   "execution_count": 42,
   "id": "13c55ab1",
   "metadata": {
    "ExecuteTime": {
     "end_time": "2022-10-23T09:58:43.307349Z",
     "start_time": "2022-10-23T09:58:43.300228Z"
    }
   },
   "outputs": [
    {
     "data": {
      "text/html": [
       "<div>\n",
       "<style scoped>\n",
       "    .dataframe tbody tr th:only-of-type {\n",
       "        vertical-align: middle;\n",
       "    }\n",
       "\n",
       "    .dataframe tbody tr th {\n",
       "        vertical-align: top;\n",
       "    }\n",
       "\n",
       "    .dataframe thead th {\n",
       "        text-align: right;\n",
       "    }\n",
       "</style>\n",
       "<table border=\"1\" class=\"dataframe\">\n",
       "  <thead>\n",
       "    <tr style=\"text-align: right;\">\n",
       "      <th></th>\n",
       "      <th>customer_id</th>\n",
       "      <th>customer_unique_id</th>\n",
       "      <th>customer_zip_code_prefix</th>\n",
       "      <th>customer_city</th>\n",
       "      <th>customer_state</th>\n",
       "    </tr>\n",
       "  </thead>\n",
       "  <tbody>\n",
       "    <tr>\n",
       "      <th>0</th>\n",
       "      <td>06b8999e2fba1a1fbc88172c00ba8bc7</td>\n",
       "      <td>861eff4711a542e4b93843c6dd7febb0</td>\n",
       "      <td>14409</td>\n",
       "      <td>franca</td>\n",
       "      <td>SP</td>\n",
       "    </tr>\n",
       "    <tr>\n",
       "      <th>1</th>\n",
       "      <td>18955e83d337fd6b2def6b18a428ac77</td>\n",
       "      <td>290c77bc529b7ac935b93aa66c333dc3</td>\n",
       "      <td>9790</td>\n",
       "      <td>sao bernardo do campo</td>\n",
       "      <td>SP</td>\n",
       "    </tr>\n",
       "    <tr>\n",
       "      <th>2</th>\n",
       "      <td>4e7b3e00288586ebd08712fdd0374a03</td>\n",
       "      <td>060e732b5b29e8181a18229c7b0b2b5e</td>\n",
       "      <td>1151</td>\n",
       "      <td>sao paulo</td>\n",
       "      <td>SP</td>\n",
       "    </tr>\n",
       "    <tr>\n",
       "      <th>3</th>\n",
       "      <td>b2b6027bc5c5109e529d4dc6358b12c3</td>\n",
       "      <td>259dac757896d24d7702b9acbbff3f3c</td>\n",
       "      <td>8775</td>\n",
       "      <td>mogi das cruzes</td>\n",
       "      <td>SP</td>\n",
       "    </tr>\n",
       "    <tr>\n",
       "      <th>4</th>\n",
       "      <td>4f2d8ab171c80ec8364f7c12e35b23ad</td>\n",
       "      <td>345ecd01c38d18a9036ed96c73b8d066</td>\n",
       "      <td>13056</td>\n",
       "      <td>campinas</td>\n",
       "      <td>SP</td>\n",
       "    </tr>\n",
       "  </tbody>\n",
       "</table>\n",
       "</div>"
      ],
      "text/plain": [
       "                        customer_id                customer_unique_id  \\\n",
       "0  06b8999e2fba1a1fbc88172c00ba8bc7  861eff4711a542e4b93843c6dd7febb0   \n",
       "1  18955e83d337fd6b2def6b18a428ac77  290c77bc529b7ac935b93aa66c333dc3   \n",
       "2  4e7b3e00288586ebd08712fdd0374a03  060e732b5b29e8181a18229c7b0b2b5e   \n",
       "3  b2b6027bc5c5109e529d4dc6358b12c3  259dac757896d24d7702b9acbbff3f3c   \n",
       "4  4f2d8ab171c80ec8364f7c12e35b23ad  345ecd01c38d18a9036ed96c73b8d066   \n",
       "\n",
       "   customer_zip_code_prefix          customer_city customer_state  \n",
       "0                     14409                 franca             SP  \n",
       "1                      9790  sao bernardo do campo             SP  \n",
       "2                      1151              sao paulo             SP  \n",
       "3                      8775        mogi das cruzes             SP  \n",
       "4                     13056               campinas             SP  "
      ]
     },
     "execution_count": 42,
     "metadata": {},
     "output_type": "execute_result"
    }
   ],
   "source": [
    "df_customers.head()"
   ]
  },
  {
   "cell_type": "code",
   "execution_count": 43,
   "id": "35fa6e5b",
   "metadata": {
    "ExecuteTime": {
     "end_time": "2022-10-23T09:58:43.314625Z",
     "start_time": "2022-10-23T09:58:43.308907Z"
    }
   },
   "outputs": [],
   "source": [
    "df_customers = df_customers.drop(columns=['customer_zip_code_prefix', 'customer_city', 'customer_state'])"
   ]
  },
  {
   "cell_type": "code",
   "execution_count": 44,
   "id": "3679773e",
   "metadata": {
    "ExecuteTime": {
     "end_time": "2022-10-23T09:58:43.325021Z",
     "start_time": "2022-10-23T09:58:43.316390Z"
    }
   },
   "outputs": [
    {
     "data": {
      "text/html": [
       "<div>\n",
       "<style scoped>\n",
       "    .dataframe tbody tr th:only-of-type {\n",
       "        vertical-align: middle;\n",
       "    }\n",
       "\n",
       "    .dataframe tbody tr th {\n",
       "        vertical-align: top;\n",
       "    }\n",
       "\n",
       "    .dataframe thead th {\n",
       "        text-align: right;\n",
       "    }\n",
       "</style>\n",
       "<table border=\"1\" class=\"dataframe\">\n",
       "  <thead>\n",
       "    <tr style=\"text-align: right;\">\n",
       "      <th></th>\n",
       "      <th>order_id</th>\n",
       "      <th>order_item_id</th>\n",
       "      <th>product_id</th>\n",
       "      <th>seller_id</th>\n",
       "      <th>shipping_limit_date</th>\n",
       "      <th>price</th>\n",
       "      <th>freight_value</th>\n",
       "    </tr>\n",
       "  </thead>\n",
       "  <tbody>\n",
       "    <tr>\n",
       "      <th>0</th>\n",
       "      <td>00010242fe8c5a6d1ba2dd792cb16214</td>\n",
       "      <td>1</td>\n",
       "      <td>4244733e06e7ecb4970a6e2683c13e61</td>\n",
       "      <td>48436dade18ac8b2bce089ec2a041202</td>\n",
       "      <td>2017-09-19 09:45:35</td>\n",
       "      <td>58.90</td>\n",
       "      <td>13.29</td>\n",
       "    </tr>\n",
       "    <tr>\n",
       "      <th>1</th>\n",
       "      <td>00018f77f2f0320c557190d7a144bdd3</td>\n",
       "      <td>1</td>\n",
       "      <td>e5f2d52b802189ee658865ca93d83a8f</td>\n",
       "      <td>dd7ddc04e1b6c2c614352b383efe2d36</td>\n",
       "      <td>2017-05-03 11:05:13</td>\n",
       "      <td>239.90</td>\n",
       "      <td>19.93</td>\n",
       "    </tr>\n",
       "    <tr>\n",
       "      <th>2</th>\n",
       "      <td>000229ec398224ef6ca0657da4fc703e</td>\n",
       "      <td>1</td>\n",
       "      <td>c777355d18b72b67abbeef9df44fd0fd</td>\n",
       "      <td>5b51032eddd242adc84c38acab88f23d</td>\n",
       "      <td>2018-01-18 14:48:30</td>\n",
       "      <td>199.00</td>\n",
       "      <td>17.87</td>\n",
       "    </tr>\n",
       "    <tr>\n",
       "      <th>3</th>\n",
       "      <td>00024acbcdf0a6daa1e931b038114c75</td>\n",
       "      <td>1</td>\n",
       "      <td>7634da152a4610f1595efa32f14722fc</td>\n",
       "      <td>9d7a1d34a5052409006425275ba1c2b4</td>\n",
       "      <td>2018-08-15 10:10:18</td>\n",
       "      <td>12.99</td>\n",
       "      <td>12.79</td>\n",
       "    </tr>\n",
       "    <tr>\n",
       "      <th>4</th>\n",
       "      <td>00042b26cf59d7ce69dfabb4e55b4fd9</td>\n",
       "      <td>1</td>\n",
       "      <td>ac6c3623068f30de03045865e4e10089</td>\n",
       "      <td>df560393f3a51e74553ab94004ba5c87</td>\n",
       "      <td>2017-02-13 13:57:51</td>\n",
       "      <td>199.90</td>\n",
       "      <td>18.14</td>\n",
       "    </tr>\n",
       "  </tbody>\n",
       "</table>\n",
       "</div>"
      ],
      "text/plain": [
       "                           order_id  order_item_id  \\\n",
       "0  00010242fe8c5a6d1ba2dd792cb16214              1   \n",
       "1  00018f77f2f0320c557190d7a144bdd3              1   \n",
       "2  000229ec398224ef6ca0657da4fc703e              1   \n",
       "3  00024acbcdf0a6daa1e931b038114c75              1   \n",
       "4  00042b26cf59d7ce69dfabb4e55b4fd9              1   \n",
       "\n",
       "                         product_id                         seller_id  \\\n",
       "0  4244733e06e7ecb4970a6e2683c13e61  48436dade18ac8b2bce089ec2a041202   \n",
       "1  e5f2d52b802189ee658865ca93d83a8f  dd7ddc04e1b6c2c614352b383efe2d36   \n",
       "2  c777355d18b72b67abbeef9df44fd0fd  5b51032eddd242adc84c38acab88f23d   \n",
       "3  7634da152a4610f1595efa32f14722fc  9d7a1d34a5052409006425275ba1c2b4   \n",
       "4  ac6c3623068f30de03045865e4e10089  df560393f3a51e74553ab94004ba5c87   \n",
       "\n",
       "   shipping_limit_date   price  freight_value  \n",
       "0  2017-09-19 09:45:35   58.90          13.29  \n",
       "1  2017-05-03 11:05:13  239.90          19.93  \n",
       "2  2018-01-18 14:48:30  199.00          17.87  \n",
       "3  2018-08-15 10:10:18   12.99          12.79  \n",
       "4  2017-02-13 13:57:51  199.90          18.14  "
      ]
     },
     "execution_count": 44,
     "metadata": {},
     "output_type": "execute_result"
    }
   ],
   "source": [
    "items.head()"
   ]
  },
  {
   "cell_type": "code",
   "execution_count": 45,
   "id": "5b4d9226",
   "metadata": {
    "ExecuteTime": {
     "end_time": "2022-10-23T09:58:43.335304Z",
     "start_time": "2022-10-23T09:58:43.326489Z"
    }
   },
   "outputs": [],
   "source": [
    "items = items.drop(columns='shipping_limit_date')"
   ]
  },
  {
   "cell_type": "code",
   "execution_count": 46,
   "id": "17ddd343",
   "metadata": {
    "ExecuteTime": {
     "end_time": "2022-10-23T09:58:43.345417Z",
     "start_time": "2022-10-23T09:58:43.337270Z"
    }
   },
   "outputs": [
    {
     "data": {
      "text/html": [
       "<div>\n",
       "<style scoped>\n",
       "    .dataframe tbody tr th:only-of-type {\n",
       "        vertical-align: middle;\n",
       "    }\n",
       "\n",
       "    .dataframe tbody tr th {\n",
       "        vertical-align: top;\n",
       "    }\n",
       "\n",
       "    .dataframe thead th {\n",
       "        text-align: right;\n",
       "    }\n",
       "</style>\n",
       "<table border=\"1\" class=\"dataframe\">\n",
       "  <thead>\n",
       "    <tr style=\"text-align: right;\">\n",
       "      <th></th>\n",
       "      <th>review_id</th>\n",
       "      <th>order_id</th>\n",
       "      <th>review_score</th>\n",
       "      <th>review_comment_title</th>\n",
       "      <th>review_comment_message</th>\n",
       "      <th>review_creation_date</th>\n",
       "      <th>review_answer_timestamp</th>\n",
       "    </tr>\n",
       "  </thead>\n",
       "  <tbody>\n",
       "    <tr>\n",
       "      <th>0</th>\n",
       "      <td>7bc2406110b926393aa56f80a40eba40</td>\n",
       "      <td>73fc7af87114b39712e6da79b0a377eb</td>\n",
       "      <td>4</td>\n",
       "      <td>NaN</td>\n",
       "      <td>NaN</td>\n",
       "      <td>2018-01-18 00:00:00</td>\n",
       "      <td>2018-01-18 21:46:59</td>\n",
       "    </tr>\n",
       "    <tr>\n",
       "      <th>1</th>\n",
       "      <td>80e641a11e56f04c1ad469d5645fdfde</td>\n",
       "      <td>a548910a1c6147796b98fdf73dbeba33</td>\n",
       "      <td>5</td>\n",
       "      <td>NaN</td>\n",
       "      <td>NaN</td>\n",
       "      <td>2018-03-10 00:00:00</td>\n",
       "      <td>2018-03-11 03:05:13</td>\n",
       "    </tr>\n",
       "    <tr>\n",
       "      <th>2</th>\n",
       "      <td>228ce5500dc1d8e020d8d1322874b6f0</td>\n",
       "      <td>f9e4b658b201a9f2ecdecbb34bed034b</td>\n",
       "      <td>5</td>\n",
       "      <td>NaN</td>\n",
       "      <td>NaN</td>\n",
       "      <td>2018-02-17 00:00:00</td>\n",
       "      <td>2018-02-18 14:36:24</td>\n",
       "    </tr>\n",
       "    <tr>\n",
       "      <th>3</th>\n",
       "      <td>e64fb393e7b32834bb789ff8bb30750e</td>\n",
       "      <td>658677c97b385a9be170737859d3511b</td>\n",
       "      <td>5</td>\n",
       "      <td>NaN</td>\n",
       "      <td>Recebi bem antes do prazo estipulado.</td>\n",
       "      <td>2017-04-21 00:00:00</td>\n",
       "      <td>2017-04-21 22:02:06</td>\n",
       "    </tr>\n",
       "    <tr>\n",
       "      <th>4</th>\n",
       "      <td>f7c4243c7fe1938f181bec41a392bdeb</td>\n",
       "      <td>8e6bfb81e283fa7e4f11123a3fb894f1</td>\n",
       "      <td>5</td>\n",
       "      <td>NaN</td>\n",
       "      <td>Parabéns lojas lannister adorei comprar pela I...</td>\n",
       "      <td>2018-03-01 00:00:00</td>\n",
       "      <td>2018-03-02 10:26:53</td>\n",
       "    </tr>\n",
       "  </tbody>\n",
       "</table>\n",
       "</div>"
      ],
      "text/plain": [
       "                          review_id                          order_id  \\\n",
       "0  7bc2406110b926393aa56f80a40eba40  73fc7af87114b39712e6da79b0a377eb   \n",
       "1  80e641a11e56f04c1ad469d5645fdfde  a548910a1c6147796b98fdf73dbeba33   \n",
       "2  228ce5500dc1d8e020d8d1322874b6f0  f9e4b658b201a9f2ecdecbb34bed034b   \n",
       "3  e64fb393e7b32834bb789ff8bb30750e  658677c97b385a9be170737859d3511b   \n",
       "4  f7c4243c7fe1938f181bec41a392bdeb  8e6bfb81e283fa7e4f11123a3fb894f1   \n",
       "\n",
       "   review_score review_comment_title  \\\n",
       "0             4                  NaN   \n",
       "1             5                  NaN   \n",
       "2             5                  NaN   \n",
       "3             5                  NaN   \n",
       "4             5                  NaN   \n",
       "\n",
       "                              review_comment_message review_creation_date  \\\n",
       "0                                                NaN  2018-01-18 00:00:00   \n",
       "1                                                NaN  2018-03-10 00:00:00   \n",
       "2                                                NaN  2018-02-17 00:00:00   \n",
       "3              Recebi bem antes do prazo estipulado.  2017-04-21 00:00:00   \n",
       "4  Parabéns lojas lannister adorei comprar pela I...  2018-03-01 00:00:00   \n",
       "\n",
       "  review_answer_timestamp  \n",
       "0     2018-01-18 21:46:59  \n",
       "1     2018-03-11 03:05:13  \n",
       "2     2018-02-18 14:36:24  \n",
       "3     2017-04-21 22:02:06  \n",
       "4     2018-03-02 10:26:53  "
      ]
     },
     "execution_count": 46,
     "metadata": {},
     "output_type": "execute_result"
    }
   ],
   "source": [
    "reviews.head()"
   ]
  },
  {
   "cell_type": "code",
   "execution_count": 47,
   "id": "81b3c66e",
   "metadata": {
    "ExecuteTime": {
     "end_time": "2022-10-23T09:58:43.353538Z",
     "start_time": "2022-10-23T09:58:43.347419Z"
    }
   },
   "outputs": [],
   "source": [
    "reviews = reviews.drop(columns=['review_comment_title', 'review_comment_message', 'review_creation_date',\n",
    "                                'review_answer_timestamp'])"
   ]
  },
  {
   "cell_type": "code",
   "execution_count": 48,
   "id": "830ae888",
   "metadata": {
    "ExecuteTime": {
     "end_time": "2022-10-23T09:58:43.366395Z",
     "start_time": "2022-10-23T09:58:43.355901Z"
    }
   },
   "outputs": [
    {
     "data": {
      "text/html": [
       "<div>\n",
       "<style scoped>\n",
       "    .dataframe tbody tr th:only-of-type {\n",
       "        vertical-align: middle;\n",
       "    }\n",
       "\n",
       "    .dataframe tbody tr th {\n",
       "        vertical-align: top;\n",
       "    }\n",
       "\n",
       "    .dataframe thead th {\n",
       "        text-align: right;\n",
       "    }\n",
       "</style>\n",
       "<table border=\"1\" class=\"dataframe\">\n",
       "  <thead>\n",
       "    <tr style=\"text-align: right;\">\n",
       "      <th></th>\n",
       "      <th>order_id</th>\n",
       "      <th>customer_id</th>\n",
       "      <th>order_status</th>\n",
       "      <th>order_purchase_timestamp</th>\n",
       "      <th>order_approved_at</th>\n",
       "      <th>order_delivered_carrier_date</th>\n",
       "      <th>order_delivered_customer_date</th>\n",
       "      <th>order_estimated_delivery_date</th>\n",
       "    </tr>\n",
       "  </thead>\n",
       "  <tbody>\n",
       "    <tr>\n",
       "      <th>0</th>\n",
       "      <td>e481f51cbdc54678b7cc49136f2d6af7</td>\n",
       "      <td>9ef432eb6251297304e76186b10a928d</td>\n",
       "      <td>delivered</td>\n",
       "      <td>2017-10-02 10:56:33</td>\n",
       "      <td>2017-10-02 11:07:15</td>\n",
       "      <td>2017-10-04 19:55:00</td>\n",
       "      <td>2017-10-10 21:25:13</td>\n",
       "      <td>2017-10-18 00:00:00</td>\n",
       "    </tr>\n",
       "    <tr>\n",
       "      <th>1</th>\n",
       "      <td>53cdb2fc8bc7dce0b6741e2150273451</td>\n",
       "      <td>b0830fb4747a6c6d20dea0b8c802d7ef</td>\n",
       "      <td>delivered</td>\n",
       "      <td>2018-07-24 20:41:37</td>\n",
       "      <td>2018-07-26 03:24:27</td>\n",
       "      <td>2018-07-26 14:31:00</td>\n",
       "      <td>2018-08-07 15:27:45</td>\n",
       "      <td>2018-08-13 00:00:00</td>\n",
       "    </tr>\n",
       "    <tr>\n",
       "      <th>2</th>\n",
       "      <td>47770eb9100c2d0c44946d9cf07ec65d</td>\n",
       "      <td>41ce2a54c0b03bf3443c3d931a367089</td>\n",
       "      <td>delivered</td>\n",
       "      <td>2018-08-08 08:38:49</td>\n",
       "      <td>2018-08-08 08:55:23</td>\n",
       "      <td>2018-08-08 13:50:00</td>\n",
       "      <td>2018-08-17 18:06:29</td>\n",
       "      <td>2018-09-04 00:00:00</td>\n",
       "    </tr>\n",
       "    <tr>\n",
       "      <th>3</th>\n",
       "      <td>949d5b44dbf5de918fe9c16f97b45f8a</td>\n",
       "      <td>f88197465ea7920adcdbec7375364d82</td>\n",
       "      <td>delivered</td>\n",
       "      <td>2017-11-18 19:28:06</td>\n",
       "      <td>2017-11-18 19:45:59</td>\n",
       "      <td>2017-11-22 13:39:59</td>\n",
       "      <td>2017-12-02 00:28:42</td>\n",
       "      <td>2017-12-15 00:00:00</td>\n",
       "    </tr>\n",
       "    <tr>\n",
       "      <th>4</th>\n",
       "      <td>ad21c59c0840e6cb83a9ceb5573f8159</td>\n",
       "      <td>8ab97904e6daea8866dbdbc4fb7aad2c</td>\n",
       "      <td>delivered</td>\n",
       "      <td>2018-02-13 21:18:39</td>\n",
       "      <td>2018-02-13 22:20:29</td>\n",
       "      <td>2018-02-14 19:46:34</td>\n",
       "      <td>2018-02-16 18:17:02</td>\n",
       "      <td>2018-02-26 00:00:00</td>\n",
       "    </tr>\n",
       "  </tbody>\n",
       "</table>\n",
       "</div>"
      ],
      "text/plain": [
       "                           order_id                       customer_id  \\\n",
       "0  e481f51cbdc54678b7cc49136f2d6af7  9ef432eb6251297304e76186b10a928d   \n",
       "1  53cdb2fc8bc7dce0b6741e2150273451  b0830fb4747a6c6d20dea0b8c802d7ef   \n",
       "2  47770eb9100c2d0c44946d9cf07ec65d  41ce2a54c0b03bf3443c3d931a367089   \n",
       "3  949d5b44dbf5de918fe9c16f97b45f8a  f88197465ea7920adcdbec7375364d82   \n",
       "4  ad21c59c0840e6cb83a9ceb5573f8159  8ab97904e6daea8866dbdbc4fb7aad2c   \n",
       "\n",
       "  order_status order_purchase_timestamp    order_approved_at  \\\n",
       "0    delivered      2017-10-02 10:56:33  2017-10-02 11:07:15   \n",
       "1    delivered      2018-07-24 20:41:37  2018-07-26 03:24:27   \n",
       "2    delivered      2018-08-08 08:38:49  2018-08-08 08:55:23   \n",
       "3    delivered      2017-11-18 19:28:06  2017-11-18 19:45:59   \n",
       "4    delivered      2018-02-13 21:18:39  2018-02-13 22:20:29   \n",
       "\n",
       "  order_delivered_carrier_date order_delivered_customer_date  \\\n",
       "0          2017-10-04 19:55:00           2017-10-10 21:25:13   \n",
       "1          2018-07-26 14:31:00           2018-08-07 15:27:45   \n",
       "2          2018-08-08 13:50:00           2018-08-17 18:06:29   \n",
       "3          2017-11-22 13:39:59           2017-12-02 00:28:42   \n",
       "4          2018-02-14 19:46:34           2018-02-16 18:17:02   \n",
       "\n",
       "  order_estimated_delivery_date  \n",
       "0           2017-10-18 00:00:00  \n",
       "1           2018-08-13 00:00:00  \n",
       "2           2018-09-04 00:00:00  \n",
       "3           2017-12-15 00:00:00  \n",
       "4           2018-02-26 00:00:00  "
      ]
     },
     "execution_count": 48,
     "metadata": {},
     "output_type": "execute_result"
    }
   ],
   "source": [
    "orders.head()"
   ]
  },
  {
   "cell_type": "code",
   "execution_count": 49,
   "id": "ff57f91c",
   "metadata": {
    "ExecuteTime": {
     "end_time": "2022-10-23T09:58:43.379238Z",
     "start_time": "2022-10-23T09:58:43.368533Z"
    }
   },
   "outputs": [],
   "source": [
    "orders = orders.drop(columns=['order_approved_at', 'order_delivered_carrier_date'])"
   ]
  },
  {
   "cell_type": "code",
   "execution_count": 50,
   "id": "824468aa",
   "metadata": {
    "ExecuteTime": {
     "end_time": "2022-10-23T09:58:43.394583Z",
     "start_time": "2022-10-23T09:58:43.381191Z"
    }
   },
   "outputs": [
    {
     "data": {
      "text/html": [
       "<div>\n",
       "<style scoped>\n",
       "    .dataframe tbody tr th:only-of-type {\n",
       "        vertical-align: middle;\n",
       "    }\n",
       "\n",
       "    .dataframe tbody tr th {\n",
       "        vertical-align: top;\n",
       "    }\n",
       "\n",
       "    .dataframe thead th {\n",
       "        text-align: right;\n",
       "    }\n",
       "</style>\n",
       "<table border=\"1\" class=\"dataframe\">\n",
       "  <thead>\n",
       "    <tr style=\"text-align: right;\">\n",
       "      <th></th>\n",
       "      <th>product_id</th>\n",
       "      <th>product_category_name</th>\n",
       "      <th>product_name_lenght</th>\n",
       "      <th>product_description_lenght</th>\n",
       "      <th>product_photos_qty</th>\n",
       "      <th>product_weight_g</th>\n",
       "      <th>product_length_cm</th>\n",
       "      <th>product_height_cm</th>\n",
       "      <th>product_width_cm</th>\n",
       "    </tr>\n",
       "  </thead>\n",
       "  <tbody>\n",
       "    <tr>\n",
       "      <th>0</th>\n",
       "      <td>1e9e8ef04dbcff4541ed26657ea517e5</td>\n",
       "      <td>perfumaria</td>\n",
       "      <td>40.0</td>\n",
       "      <td>287.0</td>\n",
       "      <td>1.0</td>\n",
       "      <td>225.0</td>\n",
       "      <td>16.0</td>\n",
       "      <td>10.0</td>\n",
       "      <td>14.0</td>\n",
       "    </tr>\n",
       "    <tr>\n",
       "      <th>1</th>\n",
       "      <td>3aa071139cb16b67ca9e5dea641aaa2f</td>\n",
       "      <td>artes</td>\n",
       "      <td>44.0</td>\n",
       "      <td>276.0</td>\n",
       "      <td>1.0</td>\n",
       "      <td>1000.0</td>\n",
       "      <td>30.0</td>\n",
       "      <td>18.0</td>\n",
       "      <td>20.0</td>\n",
       "    </tr>\n",
       "    <tr>\n",
       "      <th>2</th>\n",
       "      <td>96bd76ec8810374ed1b65e291975717f</td>\n",
       "      <td>esporte_lazer</td>\n",
       "      <td>46.0</td>\n",
       "      <td>250.0</td>\n",
       "      <td>1.0</td>\n",
       "      <td>154.0</td>\n",
       "      <td>18.0</td>\n",
       "      <td>9.0</td>\n",
       "      <td>15.0</td>\n",
       "    </tr>\n",
       "    <tr>\n",
       "      <th>3</th>\n",
       "      <td>cef67bcfe19066a932b7673e239eb23d</td>\n",
       "      <td>bebes</td>\n",
       "      <td>27.0</td>\n",
       "      <td>261.0</td>\n",
       "      <td>1.0</td>\n",
       "      <td>371.0</td>\n",
       "      <td>26.0</td>\n",
       "      <td>4.0</td>\n",
       "      <td>26.0</td>\n",
       "    </tr>\n",
       "    <tr>\n",
       "      <th>4</th>\n",
       "      <td>9dc1a7de274444849c219cff195d0b71</td>\n",
       "      <td>utilidades_domesticas</td>\n",
       "      <td>37.0</td>\n",
       "      <td>402.0</td>\n",
       "      <td>4.0</td>\n",
       "      <td>625.0</td>\n",
       "      <td>20.0</td>\n",
       "      <td>17.0</td>\n",
       "      <td>13.0</td>\n",
       "    </tr>\n",
       "  </tbody>\n",
       "</table>\n",
       "</div>"
      ],
      "text/plain": [
       "                         product_id  product_category_name  \\\n",
       "0  1e9e8ef04dbcff4541ed26657ea517e5             perfumaria   \n",
       "1  3aa071139cb16b67ca9e5dea641aaa2f                  artes   \n",
       "2  96bd76ec8810374ed1b65e291975717f          esporte_lazer   \n",
       "3  cef67bcfe19066a932b7673e239eb23d                  bebes   \n",
       "4  9dc1a7de274444849c219cff195d0b71  utilidades_domesticas   \n",
       "\n",
       "   product_name_lenght  product_description_lenght  product_photos_qty  \\\n",
       "0                 40.0                       287.0                 1.0   \n",
       "1                 44.0                       276.0                 1.0   \n",
       "2                 46.0                       250.0                 1.0   \n",
       "3                 27.0                       261.0                 1.0   \n",
       "4                 37.0                       402.0                 4.0   \n",
       "\n",
       "   product_weight_g  product_length_cm  product_height_cm  product_width_cm  \n",
       "0             225.0               16.0               10.0              14.0  \n",
       "1            1000.0               30.0               18.0              20.0  \n",
       "2             154.0               18.0                9.0              15.0  \n",
       "3             371.0               26.0                4.0              26.0  \n",
       "4             625.0               20.0               17.0              13.0  "
      ]
     },
     "execution_count": 50,
     "metadata": {},
     "output_type": "execute_result"
    }
   ],
   "source": [
    "products.head()"
   ]
  },
  {
   "cell_type": "code",
   "execution_count": 51,
   "id": "bf871ab1",
   "metadata": {
    "ExecuteTime": {
     "end_time": "2022-10-23T09:58:43.400334Z",
     "start_time": "2022-10-23T09:58:43.396673Z"
    }
   },
   "outputs": [],
   "source": [
    "products = products.drop(columns=['product_name_lenght', 'product_description_lenght', \n",
    "                                  'product_photos_qty', 'product_weight_g', 'product_length_cm', \n",
    "                                  'product_height_cm', 'product_width_cm'])"
   ]
  },
  {
   "cell_type": "markdown",
   "id": "29d77665",
   "metadata": {},
   "source": [
    "## Jointure des dataframes"
   ]
  },
  {
   "cell_type": "markdown",
   "id": "c98dc3c2",
   "metadata": {},
   "source": [
    "On commence par remplacer les noms des catégories par leurs noms anglais"
   ]
  },
  {
   "cell_type": "code",
   "execution_count": 52,
   "id": "b88add56",
   "metadata": {
    "ExecuteTime": {
     "end_time": "2022-10-23T09:58:43.425819Z",
     "start_time": "2022-10-23T09:58:43.402372Z"
    }
   },
   "outputs": [],
   "source": [
    "df = pd.merge(products, translation, how='left')\n",
    "\n",
    "mask1 = df['product_category_name'] == 'portateis_cozinha_e_preparadores_de_alimentos'\n",
    "df.loc[mask1, 'product_category_name_english'] = 'portable_kitchen_and_food_preparation'\n",
    "mask2 = df['product_category_name'] == 'pc_gamer'\n",
    "df.loc[mask2, 'product_category_name_english'] = 'pc_gamer'\n",
    "\n",
    "products = df.drop(columns='product_category_name')"
   ]
  },
  {
   "cell_type": "markdown",
   "id": "4eee27bb",
   "metadata": {},
   "source": [
    "On n'utilisera pas les données sur la géolocalisation et les vendeurs"
   ]
  },
  {
   "cell_type": "code",
   "execution_count": 53,
   "id": "676a7a64",
   "metadata": {
    "ExecuteTime": {
     "end_time": "2022-10-23T09:58:43.932059Z",
     "start_time": "2022-10-23T09:58:43.427867Z"
    }
   },
   "outputs": [
    {
     "data": {
      "text/plain": [
       "(114092, 15)"
      ]
     },
     "execution_count": 53,
     "metadata": {},
     "output_type": "execute_result"
    }
   ],
   "source": [
    "# On regroupe les données dans le DataFrame `df`\n",
    "df = pd.merge(df_customers, orders, on='customer_id', how='inner')\n",
    "df = pd.merge(df, items, on='order_id', how='left')\n",
    "df = pd.merge(df, reviews, on='order_id', how='left')\n",
    "df = pd.merge(df, products, on='product_id', how='left')\n",
    "df.shape"
   ]
  },
  {
   "cell_type": "code",
   "execution_count": 54,
   "id": "02aa88eb",
   "metadata": {
    "ExecuteTime": {
     "end_time": "2022-10-23T09:58:43.946932Z",
     "start_time": "2022-10-23T09:58:43.934095Z"
    }
   },
   "outputs": [
    {
     "data": {
      "text/plain": [
       "delivered      110840\n",
       "shipped          1197\n",
       "canceled          711\n",
       "unavailable       612\n",
       "invoiced          366\n",
       "processing        358\n",
       "created             5\n",
       "approved            3\n",
       "Name: order_status, dtype: int64"
      ]
     },
     "execution_count": 54,
     "metadata": {},
     "output_type": "execute_result"
    }
   ],
   "source": [
    "# Status des commandes\n",
    "df['order_status'].value_counts()"
   ]
  },
  {
   "cell_type": "markdown",
   "id": "07a09368",
   "metadata": {},
   "source": [
    "On ne garde que les commandes qui ont été livrées puis on supprime la colonne `order_status`"
   ]
  },
  {
   "cell_type": "code",
   "execution_count": 55,
   "id": "4fee2e27",
   "metadata": {
    "ExecuteTime": {
     "end_time": "2022-10-23T09:58:44.046937Z",
     "start_time": "2022-10-23T09:58:43.948941Z"
    }
   },
   "outputs": [
    {
     "data": {
      "text/plain": [
       "(110840, 14)"
      ]
     },
     "execution_count": 55,
     "metadata": {},
     "output_type": "execute_result"
    }
   ],
   "source": [
    "df = df[df['order_status'] == 'delivered']\n",
    "df = df.drop(columns='order_status')\n",
    "df.shape"
   ]
  },
  {
   "cell_type": "markdown",
   "id": "5d45cdbe",
   "metadata": {},
   "source": [
    "Regardons le nombre de valeurs manquantes par colonne"
   ]
  },
  {
   "cell_type": "code",
   "execution_count": 56,
   "id": "38a04620",
   "metadata": {
    "ExecuteTime": {
     "end_time": "2022-10-23T09:58:44.214767Z",
     "start_time": "2022-10-23T09:58:44.049011Z"
    }
   },
   "outputs": [
    {
     "data": {
      "text/plain": [
       "customer_id                         0\n",
       "customer_unique_id                  0\n",
       "order_id                            0\n",
       "order_purchase_timestamp            0\n",
       "order_delivered_customer_date       8\n",
       "order_estimated_delivery_date       0\n",
       "order_item_id                       0\n",
       "product_id                          0\n",
       "seller_id                           0\n",
       "price                               0\n",
       "freight_value                       0\n",
       "review_id                         827\n",
       "review_score                      827\n",
       "product_category_name_english    1545\n",
       "dtype: int64"
      ]
     },
     "execution_count": 56,
     "metadata": {},
     "output_type": "execute_result"
    }
   ],
   "source": [
    "df.isna().sum()"
   ]
  },
  {
   "cell_type": "markdown",
   "id": "dd3f14bf",
   "metadata": {},
   "source": [
    "Comme on a > 100k lignes, on peut se permettre d'éliminer les valeurs manquantes"
   ]
  },
  {
   "cell_type": "code",
   "execution_count": 57,
   "id": "7e7e1cda",
   "metadata": {
    "ExecuteTime": {
     "end_time": "2022-10-23T09:58:44.415591Z",
     "start_time": "2022-10-23T09:58:44.217112Z"
    }
   },
   "outputs": [
    {
     "data": {
      "text/plain": [
       "(108472, 14)"
      ]
     },
     "execution_count": 57,
     "metadata": {},
     "output_type": "execute_result"
    }
   ],
   "source": [
    "df = df.dropna()\n",
    "df.shape"
   ]
  },
  {
   "cell_type": "markdown",
   "id": "d1a2e058",
   "metadata": {
    "ExecuteTime": {
     "end_time": "2022-08-20T14:21:33.704631Z",
     "start_time": "2022-08-20T14:21:33.686550Z"
    }
   },
   "source": [
    "On supprime les id sauf l'id unique client"
   ]
  },
  {
   "cell_type": "code",
   "execution_count": 58,
   "id": "e2dd6049",
   "metadata": {
    "ExecuteTime": {
     "end_time": "2022-10-23T09:58:44.437852Z",
     "start_time": "2022-10-23T09:58:44.417776Z"
    }
   },
   "outputs": [
    {
     "data": {
      "text/plain": [
       "(108472, 10)"
      ]
     },
     "execution_count": 58,
     "metadata": {},
     "output_type": "execute_result"
    }
   ],
   "source": [
    "df = df.drop(columns=['customer_id', 'product_id', 'seller_id', 'review_id'])\n",
    "df.shape"
   ]
  },
  {
   "cell_type": "code",
   "execution_count": 59,
   "id": "d1da8ce1",
   "metadata": {
    "ExecuteTime": {
     "end_time": "2022-10-23T09:58:44.552139Z",
     "start_time": "2022-10-23T09:58:44.439983Z"
    }
   },
   "outputs": [
    {
     "data": {
      "text/plain": [
       "0"
      ]
     },
     "execution_count": 59,
     "metadata": {},
     "output_type": "execute_result"
    }
   ],
   "source": [
    "df.isna().sum().sum()"
   ]
  },
  {
   "cell_type": "markdown",
   "id": "562c57b8",
   "metadata": {},
   "source": [
    "On enlève les commandes dont on a éliminé une partie des articles par les opérations précédentes"
   ]
  },
  {
   "cell_type": "code",
   "execution_count": 60,
   "id": "4481f4e4",
   "metadata": {
    "ExecuteTime": {
     "end_time": "2022-10-23T09:58:44.729841Z",
     "start_time": "2022-10-23T09:58:44.553795Z"
    }
   },
   "outputs": [
    {
     "data": {
      "text/plain": [
       "Index(['0b01066982af6f2681ea9b0169f0d987', '0ca8999f0176e37f35b6e49a9b2569da',\n",
       "       '1272198ea0829564b49fe8bb6ad3ea27', '15a1cd1da2bcaccc711512ecb5701c5d',\n",
       "       '23f098e532da469bf9f45d52c5d16d10', '28f0558838bcded1adf9bd48f1bdc457',\n",
       "       '293f1f31a342e210ff008a393e2955bd', '31ee7866f7203208e59eba90498ead4c',\n",
       "       '35575d651196f286d8d73c2b92653aa1', '4ca4a1922b582950b25cce6e7ef34315',\n",
       "       '5a45e21be984a22a54a63a7e950c2f0e', '5bd04e944fbdeb94cb04e86654501cfb',\n",
       "       '5f9d46795c3126674e52becb3a1a517f', '626f6424e635c6341bfddf7d53bf3746',\n",
       "       '669d4be1c2a2cab7e5ec040bf54c5d91', '824abb0e495f59750ecceff64e86459c',\n",
       "       '9b2fa9acfe395734a133a58bcbfb9776', '9f5054bd9a3c71702aa0917a7da29193',\n",
       "       'a908872306574c9405b29a838aee5521', 'c8897b5891a3195ee9cecf410341b589',\n",
       "       'cd9ef363164449df0bf374f87fa1b1de', 'd2cbe14a29b243f01171170540ddc94d',\n",
       "       'dffe3c3fdb38dd7ca56eb98408730378', 'e6b23db78d4473c921fb9315e04b5c0f',\n",
       "       'e6e7ffc09203a472e7a298a12281363d', 'f89be3ed1cd9bd6531cff9ffea1c8546'],\n",
       "      dtype='object', name='order_id')"
      ]
     },
     "execution_count": 60,
     "metadata": {},
     "output_type": "execute_result"
    }
   ],
   "source": [
    "incomplete_orders = df[['order_id', 'order_item_id']].groupby('order_id').min()\n",
    "incomplete_orders = incomplete_orders[incomplete_orders['order_item_id'] > 1]\n",
    "incomplete_orders = incomplete_orders.index\n",
    "incomplete_orders"
   ]
  },
  {
   "cell_type": "code",
   "execution_count": 61,
   "id": "1391ce28",
   "metadata": {
    "ExecuteTime": {
     "end_time": "2022-10-23T09:58:44.761475Z",
     "start_time": "2022-10-23T09:58:44.731913Z"
    }
   },
   "outputs": [
    {
     "data": {
      "text/plain": [
       "(108435, 10)"
      ]
     },
     "execution_count": 61,
     "metadata": {},
     "output_type": "execute_result"
    }
   ],
   "source": [
    "df = df[~df['order_id'].isin(incomplete_orders)]\n",
    "df.shape"
   ]
  },
  {
   "cell_type": "code",
   "execution_count": 62,
   "id": "36fe25e6",
   "metadata": {
    "ExecuteTime": {
     "end_time": "2022-10-23T09:58:44.802883Z",
     "start_time": "2022-10-23T09:58:44.763617Z"
    }
   },
   "outputs": [
    {
     "data": {
      "text/plain": [
       "94474"
      ]
     },
     "execution_count": 62,
     "metadata": {},
     "output_type": "execute_result"
    }
   ],
   "source": [
    "df['order_id'].unique().size"
   ]
  },
  {
   "cell_type": "code",
   "execution_count": 63,
   "id": "4f96d253",
   "metadata": {
    "ExecuteTime": {
     "end_time": "2022-10-23T09:58:44.828604Z",
     "start_time": "2022-10-23T09:58:44.805222Z"
    }
   },
   "outputs": [
    {
     "data": {
      "text/plain": [
       "(94995, 10)"
      ]
     },
     "execution_count": 63,
     "metadata": {},
     "output_type": "execute_result"
    }
   ],
   "source": [
    "df[df['order_item_id'] == 1].shape"
   ]
  },
  {
   "cell_type": "markdown",
   "id": "a0ad1bef",
   "metadata": {},
   "source": [
    "On voit que le nombre d'id commande est différent du nombre de commandes contenant au moins 1 article (donc le nombre de commandes). Il y a donc des doublons"
   ]
  },
  {
   "cell_type": "code",
   "execution_count": 64,
   "id": "112917ef",
   "metadata": {
    "ExecuteTime": {
     "end_time": "2022-10-23T09:58:44.894956Z",
     "start_time": "2022-10-23T09:58:44.831173Z"
    }
   },
   "outputs": [
    {
     "data": {
      "text/html": [
       "<div>\n",
       "<style scoped>\n",
       "    .dataframe tbody tr th:only-of-type {\n",
       "        vertical-align: middle;\n",
       "    }\n",
       "\n",
       "    .dataframe tbody tr th {\n",
       "        vertical-align: top;\n",
       "    }\n",
       "\n",
       "    .dataframe thead th {\n",
       "        text-align: right;\n",
       "    }\n",
       "</style>\n",
       "<table border=\"1\" class=\"dataframe\">\n",
       "  <thead>\n",
       "    <tr style=\"text-align: right;\">\n",
       "      <th></th>\n",
       "      <th>customer_unique_id</th>\n",
       "      <th>order_id</th>\n",
       "      <th>order_purchase_timestamp</th>\n",
       "      <th>order_delivered_customer_date</th>\n",
       "      <th>order_estimated_delivery_date</th>\n",
       "      <th>order_item_id</th>\n",
       "      <th>price</th>\n",
       "      <th>freight_value</th>\n",
       "      <th>review_score</th>\n",
       "      <th>product_category_name_english</th>\n",
       "    </tr>\n",
       "  </thead>\n",
       "  <tbody>\n",
       "    <tr>\n",
       "      <th>496</th>\n",
       "      <td>b09f1bff1aff13c997af071602bc048b</td>\n",
       "      <td>c27cd942c2a926d25153090afa106ceb</td>\n",
       "      <td>2017-06-15 14:26:01</td>\n",
       "      <td>2017-06-26 11:23:32</td>\n",
       "      <td>2017-07-10 00:00:00</td>\n",
       "      <td>1.0</td>\n",
       "      <td>36.99</td>\n",
       "      <td>11.85</td>\n",
       "      <td>5.0</td>\n",
       "      <td>bed_bath_table</td>\n",
       "    </tr>\n",
       "    <tr>\n",
       "      <th>597</th>\n",
       "      <td>63df651d5e8adb6a0e4baeb66a0eea37</td>\n",
       "      <td>bbf6a647ecc68aa5e79d2cd75ef44c68</td>\n",
       "      <td>2017-09-01 10:33:16</td>\n",
       "      <td>2017-09-13 18:53:49</td>\n",
       "      <td>2017-09-22 00:00:00</td>\n",
       "      <td>1.0</td>\n",
       "      <td>34.99</td>\n",
       "      <td>11.85</td>\n",
       "      <td>5.0</td>\n",
       "      <td>health_beauty</td>\n",
       "    </tr>\n",
       "    <tr>\n",
       "      <th>713</th>\n",
       "      <td>78c5f76b60a3a2588635aadc70e34df7</td>\n",
       "      <td>b45d11b61c2a68756bbbd7665d67e812</td>\n",
       "      <td>2017-10-11 21:55:04</td>\n",
       "      <td>2017-10-19 19:18:47</td>\n",
       "      <td>2017-11-03 00:00:00</td>\n",
       "      <td>1.0</td>\n",
       "      <td>89.99</td>\n",
       "      <td>16.39</td>\n",
       "      <td>5.0</td>\n",
       "      <td>health_beauty</td>\n",
       "    </tr>\n",
       "    <tr>\n",
       "      <th>768</th>\n",
       "      <td>00cc12a6d8b578b8ebd21ea4e2ae8b27</td>\n",
       "      <td>d61b915b69851aec8a8865f36cfd793e</td>\n",
       "      <td>2017-03-21 19:25:23</td>\n",
       "      <td>2017-03-28 14:54:11</td>\n",
       "      <td>2017-04-07 00:00:00</td>\n",
       "      <td>1.0</td>\n",
       "      <td>69.90</td>\n",
       "      <td>11.88</td>\n",
       "      <td>3.0</td>\n",
       "      <td>bed_bath_table</td>\n",
       "    </tr>\n",
       "    <tr>\n",
       "      <th>835</th>\n",
       "      <td>13613cae6e3bfea8327a916246c96cc9</td>\n",
       "      <td>0176a6846bcb3b0d3aa3116a9a768597</td>\n",
       "      <td>2017-12-25 10:40:52</td>\n",
       "      <td>2017-12-29 21:22:35</td>\n",
       "      <td>2018-01-15 00:00:00</td>\n",
       "      <td>1.0</td>\n",
       "      <td>45.90</td>\n",
       "      <td>7.78</td>\n",
       "      <td>5.0</td>\n",
       "      <td>sports_leisure</td>\n",
       "    </tr>\n",
       "    <tr>\n",
       "      <th>...</th>\n",
       "      <td>...</td>\n",
       "      <td>...</td>\n",
       "      <td>...</td>\n",
       "      <td>...</td>\n",
       "      <td>...</td>\n",
       "      <td>...</td>\n",
       "      <td>...</td>\n",
       "      <td>...</td>\n",
       "      <td>...</td>\n",
       "      <td>...</td>\n",
       "    </tr>\n",
       "    <tr>\n",
       "      <th>112553</th>\n",
       "      <td>ba77e9b6506636dcbd03e463d4786f24</td>\n",
       "      <td>142b0e3de54c110a3109b26c79d6ec2e</td>\n",
       "      <td>2017-07-02 20:47:23</td>\n",
       "      <td>2017-07-11 17:44:52</td>\n",
       "      <td>2017-08-01 00:00:00</td>\n",
       "      <td>1.0</td>\n",
       "      <td>56.99</td>\n",
       "      <td>15.15</td>\n",
       "      <td>5.0</td>\n",
       "      <td>perfumery</td>\n",
       "    </tr>\n",
       "    <tr>\n",
       "      <th>113092</th>\n",
       "      <td>cc14ea7099959d91a17c9d7c3a46721d</td>\n",
       "      <td>e1f693a7777b9f6ff730a9d2b45a56cb</td>\n",
       "      <td>2017-05-12 10:28:31</td>\n",
       "      <td>2017-05-26 14:04:40</td>\n",
       "      <td>2017-06-06 00:00:00</td>\n",
       "      <td>1.0</td>\n",
       "      <td>78.00</td>\n",
       "      <td>21.04</td>\n",
       "      <td>5.0</td>\n",
       "      <td>auto</td>\n",
       "    </tr>\n",
       "    <tr>\n",
       "      <th>113600</th>\n",
       "      <td>5ffbc70da7ad1808b6899421caa84fbe</td>\n",
       "      <td>677cebcf344bca22b07250e7548bd8bc</td>\n",
       "      <td>2017-05-01 18:11:52</td>\n",
       "      <td>2017-05-23 15:22:26</td>\n",
       "      <td>2017-06-12 00:00:00</td>\n",
       "      <td>1.0</td>\n",
       "      <td>12.02</td>\n",
       "      <td>22.28</td>\n",
       "      <td>4.0</td>\n",
       "      <td>housewares</td>\n",
       "    </tr>\n",
       "    <tr>\n",
       "      <th>113887</th>\n",
       "      <td>8c21dd8c37144807c601f99f2a209dfb</td>\n",
       "      <td>157de1652c032429a625d034be79eeeb</td>\n",
       "      <td>2017-05-10 09:00:07</td>\n",
       "      <td>2017-05-22 16:47:57</td>\n",
       "      <td>2017-06-01 00:00:00</td>\n",
       "      <td>1.0</td>\n",
       "      <td>24.99</td>\n",
       "      <td>14.10</td>\n",
       "      <td>5.0</td>\n",
       "      <td>fashion_sport</td>\n",
       "    </tr>\n",
       "    <tr>\n",
       "      <th>113949</th>\n",
       "      <td>08f7cf00ed9ff3e0a08fc136ec272974</td>\n",
       "      <td>f9c78e6e58306dc81efbbada1ac11f24</td>\n",
       "      <td>2017-09-01 22:26:18</td>\n",
       "      <td>2017-09-13 19:07:33</td>\n",
       "      <td>2017-09-21 00:00:00</td>\n",
       "      <td>1.0</td>\n",
       "      <td>194.99</td>\n",
       "      <td>20.85</td>\n",
       "      <td>3.0</td>\n",
       "      <td>sports_leisure</td>\n",
       "    </tr>\n",
       "  </tbody>\n",
       "</table>\n",
       "<p>521 rows × 10 columns</p>\n",
       "</div>"
      ],
      "text/plain": [
       "                      customer_unique_id                          order_id  \\\n",
       "496     b09f1bff1aff13c997af071602bc048b  c27cd942c2a926d25153090afa106ceb   \n",
       "597     63df651d5e8adb6a0e4baeb66a0eea37  bbf6a647ecc68aa5e79d2cd75ef44c68   \n",
       "713     78c5f76b60a3a2588635aadc70e34df7  b45d11b61c2a68756bbbd7665d67e812   \n",
       "768     00cc12a6d8b578b8ebd21ea4e2ae8b27  d61b915b69851aec8a8865f36cfd793e   \n",
       "835     13613cae6e3bfea8327a916246c96cc9  0176a6846bcb3b0d3aa3116a9a768597   \n",
       "...                                  ...                               ...   \n",
       "112553  ba77e9b6506636dcbd03e463d4786f24  142b0e3de54c110a3109b26c79d6ec2e   \n",
       "113092  cc14ea7099959d91a17c9d7c3a46721d  e1f693a7777b9f6ff730a9d2b45a56cb   \n",
       "113600  5ffbc70da7ad1808b6899421caa84fbe  677cebcf344bca22b07250e7548bd8bc   \n",
       "113887  8c21dd8c37144807c601f99f2a209dfb  157de1652c032429a625d034be79eeeb   \n",
       "113949  08f7cf00ed9ff3e0a08fc136ec272974  f9c78e6e58306dc81efbbada1ac11f24   \n",
       "\n",
       "       order_purchase_timestamp order_delivered_customer_date  \\\n",
       "496         2017-06-15 14:26:01           2017-06-26 11:23:32   \n",
       "597         2017-09-01 10:33:16           2017-09-13 18:53:49   \n",
       "713         2017-10-11 21:55:04           2017-10-19 19:18:47   \n",
       "768         2017-03-21 19:25:23           2017-03-28 14:54:11   \n",
       "835         2017-12-25 10:40:52           2017-12-29 21:22:35   \n",
       "...                         ...                           ...   \n",
       "112553      2017-07-02 20:47:23           2017-07-11 17:44:52   \n",
       "113092      2017-05-12 10:28:31           2017-05-26 14:04:40   \n",
       "113600      2017-05-01 18:11:52           2017-05-23 15:22:26   \n",
       "113887      2017-05-10 09:00:07           2017-05-22 16:47:57   \n",
       "113949      2017-09-01 22:26:18           2017-09-13 19:07:33   \n",
       "\n",
       "       order_estimated_delivery_date  order_item_id   price  freight_value  \\\n",
       "496              2017-07-10 00:00:00            1.0   36.99          11.85   \n",
       "597              2017-09-22 00:00:00            1.0   34.99          11.85   \n",
       "713              2017-11-03 00:00:00            1.0   89.99          16.39   \n",
       "768              2017-04-07 00:00:00            1.0   69.90          11.88   \n",
       "835              2018-01-15 00:00:00            1.0   45.90           7.78   \n",
       "...                              ...            ...     ...            ...   \n",
       "112553           2017-08-01 00:00:00            1.0   56.99          15.15   \n",
       "113092           2017-06-06 00:00:00            1.0   78.00          21.04   \n",
       "113600           2017-06-12 00:00:00            1.0   12.02          22.28   \n",
       "113887           2017-06-01 00:00:00            1.0   24.99          14.10   \n",
       "113949           2017-09-21 00:00:00            1.0  194.99          20.85   \n",
       "\n",
       "        review_score product_category_name_english  \n",
       "496              5.0                bed_bath_table  \n",
       "597              5.0                 health_beauty  \n",
       "713              5.0                 health_beauty  \n",
       "768              3.0                bed_bath_table  \n",
       "835              5.0                sports_leisure  \n",
       "...              ...                           ...  \n",
       "112553           5.0                     perfumery  \n",
       "113092           5.0                          auto  \n",
       "113600           4.0                    housewares  \n",
       "113887           5.0                 fashion_sport  \n",
       "113949           3.0                sports_leisure  \n",
       "\n",
       "[521 rows x 10 columns]"
      ]
     },
     "execution_count": 64,
     "metadata": {},
     "output_type": "execute_result"
    }
   ],
   "source": [
    "mask = df.duplicated('order_id') & (df['order_item_id'] == 1) # doublons\n",
    "df[mask]"
   ]
  },
  {
   "cell_type": "code",
   "execution_count": 65,
   "id": "c91c0718",
   "metadata": {
    "ExecuteTime": {
     "end_time": "2022-10-23T09:58:44.926051Z",
     "start_time": "2022-10-23T09:58:44.897093Z"
    }
   },
   "outputs": [
    {
     "data": {
      "text/html": [
       "<div>\n",
       "<style scoped>\n",
       "    .dataframe tbody tr th:only-of-type {\n",
       "        vertical-align: middle;\n",
       "    }\n",
       "\n",
       "    .dataframe tbody tr th {\n",
       "        vertical-align: top;\n",
       "    }\n",
       "\n",
       "    .dataframe thead th {\n",
       "        text-align: right;\n",
       "    }\n",
       "</style>\n",
       "<table border=\"1\" class=\"dataframe\">\n",
       "  <thead>\n",
       "    <tr style=\"text-align: right;\">\n",
       "      <th></th>\n",
       "      <th>customer_unique_id</th>\n",
       "      <th>order_id</th>\n",
       "      <th>order_purchase_timestamp</th>\n",
       "      <th>order_delivered_customer_date</th>\n",
       "      <th>order_estimated_delivery_date</th>\n",
       "      <th>order_item_id</th>\n",
       "      <th>price</th>\n",
       "      <th>freight_value</th>\n",
       "      <th>review_score</th>\n",
       "      <th>product_category_name_english</th>\n",
       "    </tr>\n",
       "  </thead>\n",
       "  <tbody>\n",
       "    <tr>\n",
       "      <th>495</th>\n",
       "      <td>b09f1bff1aff13c997af071602bc048b</td>\n",
       "      <td>c27cd942c2a926d25153090afa106ceb</td>\n",
       "      <td>2017-06-15 14:26:01</td>\n",
       "      <td>2017-06-26 11:23:32</td>\n",
       "      <td>2017-07-10 00:00:00</td>\n",
       "      <td>1.0</td>\n",
       "      <td>36.99</td>\n",
       "      <td>11.85</td>\n",
       "      <td>5.0</td>\n",
       "      <td>bed_bath_table</td>\n",
       "    </tr>\n",
       "    <tr>\n",
       "      <th>496</th>\n",
       "      <td>b09f1bff1aff13c997af071602bc048b</td>\n",
       "      <td>c27cd942c2a926d25153090afa106ceb</td>\n",
       "      <td>2017-06-15 14:26:01</td>\n",
       "      <td>2017-06-26 11:23:32</td>\n",
       "      <td>2017-07-10 00:00:00</td>\n",
       "      <td>1.0</td>\n",
       "      <td>36.99</td>\n",
       "      <td>11.85</td>\n",
       "      <td>5.0</td>\n",
       "      <td>bed_bath_table</td>\n",
       "    </tr>\n",
       "    <tr>\n",
       "      <th>497</th>\n",
       "      <td>b09f1bff1aff13c997af071602bc048b</td>\n",
       "      <td>c27cd942c2a926d25153090afa106ceb</td>\n",
       "      <td>2017-06-15 14:26:01</td>\n",
       "      <td>2017-06-26 11:23:32</td>\n",
       "      <td>2017-07-10 00:00:00</td>\n",
       "      <td>2.0</td>\n",
       "      <td>36.99</td>\n",
       "      <td>11.85</td>\n",
       "      <td>5.0</td>\n",
       "      <td>bed_bath_table</td>\n",
       "    </tr>\n",
       "    <tr>\n",
       "      <th>498</th>\n",
       "      <td>b09f1bff1aff13c997af071602bc048b</td>\n",
       "      <td>c27cd942c2a926d25153090afa106ceb</td>\n",
       "      <td>2017-06-15 14:26:01</td>\n",
       "      <td>2017-06-26 11:23:32</td>\n",
       "      <td>2017-07-10 00:00:00</td>\n",
       "      <td>2.0</td>\n",
       "      <td>36.99</td>\n",
       "      <td>11.85</td>\n",
       "      <td>5.0</td>\n",
       "      <td>bed_bath_table</td>\n",
       "    </tr>\n",
       "    <tr>\n",
       "      <th>499</th>\n",
       "      <td>b09f1bff1aff13c997af071602bc048b</td>\n",
       "      <td>c27cd942c2a926d25153090afa106ceb</td>\n",
       "      <td>2017-06-15 14:26:01</td>\n",
       "      <td>2017-06-26 11:23:32</td>\n",
       "      <td>2017-07-10 00:00:00</td>\n",
       "      <td>3.0</td>\n",
       "      <td>36.99</td>\n",
       "      <td>11.85</td>\n",
       "      <td>5.0</td>\n",
       "      <td>bed_bath_table</td>\n",
       "    </tr>\n",
       "    <tr>\n",
       "      <th>500</th>\n",
       "      <td>b09f1bff1aff13c997af071602bc048b</td>\n",
       "      <td>c27cd942c2a926d25153090afa106ceb</td>\n",
       "      <td>2017-06-15 14:26:01</td>\n",
       "      <td>2017-06-26 11:23:32</td>\n",
       "      <td>2017-07-10 00:00:00</td>\n",
       "      <td>3.0</td>\n",
       "      <td>36.99</td>\n",
       "      <td>11.85</td>\n",
       "      <td>5.0</td>\n",
       "      <td>bed_bath_table</td>\n",
       "    </tr>\n",
       "    <tr>\n",
       "      <th>501</th>\n",
       "      <td>b09f1bff1aff13c997af071602bc048b</td>\n",
       "      <td>c27cd942c2a926d25153090afa106ceb</td>\n",
       "      <td>2017-06-15 14:26:01</td>\n",
       "      <td>2017-06-26 11:23:32</td>\n",
       "      <td>2017-07-10 00:00:00</td>\n",
       "      <td>4.0</td>\n",
       "      <td>47.99</td>\n",
       "      <td>11.85</td>\n",
       "      <td>5.0</td>\n",
       "      <td>bed_bath_table</td>\n",
       "    </tr>\n",
       "    <tr>\n",
       "      <th>502</th>\n",
       "      <td>b09f1bff1aff13c997af071602bc048b</td>\n",
       "      <td>c27cd942c2a926d25153090afa106ceb</td>\n",
       "      <td>2017-06-15 14:26:01</td>\n",
       "      <td>2017-06-26 11:23:32</td>\n",
       "      <td>2017-07-10 00:00:00</td>\n",
       "      <td>4.0</td>\n",
       "      <td>47.99</td>\n",
       "      <td>11.85</td>\n",
       "      <td>5.0</td>\n",
       "      <td>bed_bath_table</td>\n",
       "    </tr>\n",
       "  </tbody>\n",
       "</table>\n",
       "</div>"
      ],
      "text/plain": [
       "                   customer_unique_id                          order_id  \\\n",
       "495  b09f1bff1aff13c997af071602bc048b  c27cd942c2a926d25153090afa106ceb   \n",
       "496  b09f1bff1aff13c997af071602bc048b  c27cd942c2a926d25153090afa106ceb   \n",
       "497  b09f1bff1aff13c997af071602bc048b  c27cd942c2a926d25153090afa106ceb   \n",
       "498  b09f1bff1aff13c997af071602bc048b  c27cd942c2a926d25153090afa106ceb   \n",
       "499  b09f1bff1aff13c997af071602bc048b  c27cd942c2a926d25153090afa106ceb   \n",
       "500  b09f1bff1aff13c997af071602bc048b  c27cd942c2a926d25153090afa106ceb   \n",
       "501  b09f1bff1aff13c997af071602bc048b  c27cd942c2a926d25153090afa106ceb   \n",
       "502  b09f1bff1aff13c997af071602bc048b  c27cd942c2a926d25153090afa106ceb   \n",
       "\n",
       "    order_purchase_timestamp order_delivered_customer_date  \\\n",
       "495      2017-06-15 14:26:01           2017-06-26 11:23:32   \n",
       "496      2017-06-15 14:26:01           2017-06-26 11:23:32   \n",
       "497      2017-06-15 14:26:01           2017-06-26 11:23:32   \n",
       "498      2017-06-15 14:26:01           2017-06-26 11:23:32   \n",
       "499      2017-06-15 14:26:01           2017-06-26 11:23:32   \n",
       "500      2017-06-15 14:26:01           2017-06-26 11:23:32   \n",
       "501      2017-06-15 14:26:01           2017-06-26 11:23:32   \n",
       "502      2017-06-15 14:26:01           2017-06-26 11:23:32   \n",
       "\n",
       "    order_estimated_delivery_date  order_item_id  price  freight_value  \\\n",
       "495           2017-07-10 00:00:00            1.0  36.99          11.85   \n",
       "496           2017-07-10 00:00:00            1.0  36.99          11.85   \n",
       "497           2017-07-10 00:00:00            2.0  36.99          11.85   \n",
       "498           2017-07-10 00:00:00            2.0  36.99          11.85   \n",
       "499           2017-07-10 00:00:00            3.0  36.99          11.85   \n",
       "500           2017-07-10 00:00:00            3.0  36.99          11.85   \n",
       "501           2017-07-10 00:00:00            4.0  47.99          11.85   \n",
       "502           2017-07-10 00:00:00            4.0  47.99          11.85   \n",
       "\n",
       "     review_score product_category_name_english  \n",
       "495           5.0                bed_bath_table  \n",
       "496           5.0                bed_bath_table  \n",
       "497           5.0                bed_bath_table  \n",
       "498           5.0                bed_bath_table  \n",
       "499           5.0                bed_bath_table  \n",
       "500           5.0                bed_bath_table  \n",
       "501           5.0                bed_bath_table  \n",
       "502           5.0                bed_bath_table  "
      ]
     },
     "execution_count": 65,
     "metadata": {},
     "output_type": "execute_result"
    }
   ],
   "source": [
    "# Exemple de commande présentant des doublons\n",
    "df[df['order_id'] == 'c27cd942c2a926d25153090afa106ceb']"
   ]
  },
  {
   "cell_type": "markdown",
   "id": "6f842dbf",
   "metadata": {},
   "source": [
    "## Doublons"
   ]
  },
  {
   "cell_type": "markdown",
   "id": "6990444b",
   "metadata": {},
   "source": [
    "On va supprimer les doublons"
   ]
  },
  {
   "cell_type": "code",
   "execution_count": 66,
   "id": "708d6495",
   "metadata": {
    "ExecuteTime": {
     "end_time": "2022-10-23T09:58:45.074321Z",
     "start_time": "2022-10-23T09:58:44.928232Z"
    }
   },
   "outputs": [],
   "source": [
    "subset = ['customer_unique_id', 'order_id',\n",
    "       'order_purchase_timestamp', 'order_delivered_customer_date',\n",
    "       'order_item_id', 'price',\n",
    "       'freight_value',\n",
    "       ]\n",
    "df = df.drop_duplicates(subset=subset)"
   ]
  },
  {
   "cell_type": "code",
   "execution_count": 67,
   "id": "dd9030ca",
   "metadata": {
    "ExecuteTime": {
     "end_time": "2022-10-23T09:58:45.113055Z",
     "start_time": "2022-10-23T09:58:45.076626Z"
    }
   },
   "outputs": [
    {
     "data": {
      "text/plain": [
       "94474"
      ]
     },
     "execution_count": 67,
     "metadata": {},
     "output_type": "execute_result"
    }
   ],
   "source": [
    "df['order_id'].unique().size"
   ]
  },
  {
   "cell_type": "code",
   "execution_count": 68,
   "id": "43fa6da0",
   "metadata": {
    "ExecuteTime": {
     "end_time": "2022-10-23T09:58:45.147535Z",
     "start_time": "2022-10-23T09:58:45.126752Z"
    }
   },
   "outputs": [
    {
     "data": {
      "text/plain": [
       "94474"
      ]
     },
     "execution_count": 68,
     "metadata": {},
     "output_type": "execute_result"
    }
   ],
   "source": [
    "df[df['order_item_id'] == 1].shape[0]"
   ]
  },
  {
   "cell_type": "code",
   "execution_count": 69,
   "id": "14e2b4b4",
   "metadata": {
    "ExecuteTime": {
     "end_time": "2022-10-23T09:58:45.156503Z",
     "start_time": "2022-10-23T09:58:45.152831Z"
    }
   },
   "outputs": [
    {
     "data": {
      "text/plain": [
       "(107800, 10)"
      ]
     },
     "execution_count": 69,
     "metadata": {},
     "output_type": "execute_result"
    }
   ],
   "source": [
    "df.shape"
   ]
  },
  {
   "cell_type": "markdown",
   "id": "8285e5e5",
   "metadata": {},
   "source": [
    "# Variables temporelles"
   ]
  },
  {
   "cell_type": "markdown",
   "id": "56af425c",
   "metadata": {},
   "source": [
    "On commence par changer le type des variables temporelles"
   ]
  },
  {
   "cell_type": "code",
   "execution_count": 70,
   "id": "88cd1d1b",
   "metadata": {
    "ExecuteTime": {
     "end_time": "2022-10-23T09:58:45.407811Z",
     "start_time": "2022-10-23T09:58:45.158526Z"
    }
   },
   "outputs": [],
   "source": [
    "columns = ['order_purchase_timestamp', 'order_delivered_customer_date', 'order_estimated_delivery_date']\n",
    "for col in columns:\n",
    "    df[col] = pd.to_datetime(df[col])\n",
    "    # On supprime l'heure et ne garde que la date\n",
    "    df[col] = pd.to_datetime(df[col].dt.date)"
   ]
  },
  {
   "cell_type": "code",
   "execution_count": 71,
   "id": "7b88a019",
   "metadata": {
    "ExecuteTime": {
     "end_time": "2022-10-23T09:58:45.413881Z",
     "start_time": "2022-10-23T09:58:45.409845Z"
    }
   },
   "outputs": [
    {
     "data": {
      "text/plain": [
       "customer_unique_id                       object\n",
       "order_id                                 object\n",
       "order_purchase_timestamp         datetime64[ns]\n",
       "order_delivered_customer_date    datetime64[ns]\n",
       "order_estimated_delivery_date    datetime64[ns]\n",
       "order_item_id                           float64\n",
       "price                                   float64\n",
       "freight_value                           float64\n",
       "review_score                            float64\n",
       "product_category_name_english            object\n",
       "dtype: object"
      ]
     },
     "execution_count": 71,
     "metadata": {},
     "output_type": "execute_result"
    }
   ],
   "source": [
    "df.dtypes"
   ]
  },
  {
   "cell_type": "markdown",
   "id": "d627a799",
   "metadata": {
    "ExecuteTime": {
     "end_time": "2022-08-20T14:21:35.145053Z",
     "start_time": "2022-08-20T14:21:35.129902Z"
    }
   },
   "source": [
    "On va maintenant créer des nouvelles variables à partir des variables temporelles. On va notamment créer des variables correspondant à des délais plutôt que des dates"
   ]
  },
  {
   "cell_type": "code",
   "execution_count": 72,
   "id": "5d35c47e",
   "metadata": {
    "ExecuteTime": {
     "end_time": "2022-10-23T09:58:45.447173Z",
     "start_time": "2022-10-23T09:58:45.415774Z"
    }
   },
   "outputs": [
    {
     "data": {
      "text/html": [
       "<div>\n",
       "<style scoped>\n",
       "    .dataframe tbody tr th:only-of-type {\n",
       "        vertical-align: middle;\n",
       "    }\n",
       "\n",
       "    .dataframe tbody tr th {\n",
       "        vertical-align: top;\n",
       "    }\n",
       "\n",
       "    .dataframe thead th {\n",
       "        text-align: right;\n",
       "    }\n",
       "</style>\n",
       "<table border=\"1\" class=\"dataframe\">\n",
       "  <thead>\n",
       "    <tr style=\"text-align: right;\">\n",
       "      <th></th>\n",
       "      <th>customer_unique_id</th>\n",
       "      <th>order_id</th>\n",
       "      <th>order_purchase_timestamp</th>\n",
       "      <th>order_item_id</th>\n",
       "      <th>price</th>\n",
       "      <th>freight_value</th>\n",
       "      <th>review_score</th>\n",
       "      <th>product_category_name_english</th>\n",
       "      <th>delivered_estimated_interval</th>\n",
       "    </tr>\n",
       "  </thead>\n",
       "  <tbody>\n",
       "    <tr>\n",
       "      <th>0</th>\n",
       "      <td>861eff4711a542e4b93843c6dd7febb0</td>\n",
       "      <td>00e7ee1b050b8499577073aeb2a297a1</td>\n",
       "      <td>2017-05-16</td>\n",
       "      <td>1.0</td>\n",
       "      <td>124.99</td>\n",
       "      <td>21.88</td>\n",
       "      <td>4.0</td>\n",
       "      <td>office_furniture</td>\n",
       "      <td>-11 days</td>\n",
       "    </tr>\n",
       "    <tr>\n",
       "      <th>1</th>\n",
       "      <td>290c77bc529b7ac935b93aa66c333dc3</td>\n",
       "      <td>29150127e6685892b6eab3eec79f59c7</td>\n",
       "      <td>2018-01-12</td>\n",
       "      <td>1.0</td>\n",
       "      <td>289.00</td>\n",
       "      <td>46.48</td>\n",
       "      <td>5.0</td>\n",
       "      <td>housewares</td>\n",
       "      <td>-8 days</td>\n",
       "    </tr>\n",
       "    <tr>\n",
       "      <th>2</th>\n",
       "      <td>060e732b5b29e8181a18229c7b0b2b5e</td>\n",
       "      <td>b2059ed67ce144a36e2aa97d2c9e9ad2</td>\n",
       "      <td>2018-05-19</td>\n",
       "      <td>1.0</td>\n",
       "      <td>139.94</td>\n",
       "      <td>17.79</td>\n",
       "      <td>5.0</td>\n",
       "      <td>office_furniture</td>\n",
       "      <td>1 days</td>\n",
       "    </tr>\n",
       "    <tr>\n",
       "      <th>3</th>\n",
       "      <td>259dac757896d24d7702b9acbbff3f3c</td>\n",
       "      <td>951670f92359f4fe4a63112aa7306eba</td>\n",
       "      <td>2018-03-13</td>\n",
       "      <td>1.0</td>\n",
       "      <td>149.94</td>\n",
       "      <td>23.36</td>\n",
       "      <td>5.0</td>\n",
       "      <td>office_furniture</td>\n",
       "      <td>-13 days</td>\n",
       "    </tr>\n",
       "    <tr>\n",
       "      <th>4</th>\n",
       "      <td>345ecd01c38d18a9036ed96c73b8d066</td>\n",
       "      <td>6b7d50bd145f6fc7f33cebabd7e49d0f</td>\n",
       "      <td>2018-07-29</td>\n",
       "      <td>1.0</td>\n",
       "      <td>230.00</td>\n",
       "      <td>22.25</td>\n",
       "      <td>5.0</td>\n",
       "      <td>home_confort</td>\n",
       "      <td>-6 days</td>\n",
       "    </tr>\n",
       "  </tbody>\n",
       "</table>\n",
       "</div>"
      ],
      "text/plain": [
       "                 customer_unique_id                          order_id  \\\n",
       "0  861eff4711a542e4b93843c6dd7febb0  00e7ee1b050b8499577073aeb2a297a1   \n",
       "1  290c77bc529b7ac935b93aa66c333dc3  29150127e6685892b6eab3eec79f59c7   \n",
       "2  060e732b5b29e8181a18229c7b0b2b5e  b2059ed67ce144a36e2aa97d2c9e9ad2   \n",
       "3  259dac757896d24d7702b9acbbff3f3c  951670f92359f4fe4a63112aa7306eba   \n",
       "4  345ecd01c38d18a9036ed96c73b8d066  6b7d50bd145f6fc7f33cebabd7e49d0f   \n",
       "\n",
       "  order_purchase_timestamp  order_item_id   price  freight_value  \\\n",
       "0               2017-05-16            1.0  124.99          21.88   \n",
       "1               2018-01-12            1.0  289.00          46.48   \n",
       "2               2018-05-19            1.0  139.94          17.79   \n",
       "3               2018-03-13            1.0  149.94          23.36   \n",
       "4               2018-07-29            1.0  230.00          22.25   \n",
       "\n",
       "   review_score product_category_name_english delivered_estimated_interval  \n",
       "0           4.0              office_furniture                     -11 days  \n",
       "1           5.0                    housewares                      -8 days  \n",
       "2           5.0              office_furniture                       1 days  \n",
       "3           5.0              office_furniture                     -13 days  \n",
       "4           5.0                  home_confort                      -6 days  "
      ]
     },
     "execution_count": 72,
     "metadata": {},
     "output_type": "execute_result"
    }
   ],
   "source": [
    "# Différence entre la date de livraison et la date estimée\n",
    "df['delivered_estimated_interval'] = df['order_delivered_customer_date'] - df['order_estimated_delivery_date']\n",
    "\n",
    "# On supprime les variables temporelles dont on n'a plus besoin\n",
    "df = df.drop(columns=['order_delivered_customer_date', 'order_estimated_delivery_date'])\n",
    "df.head()"
   ]
  },
  {
   "cell_type": "code",
   "execution_count": 73,
   "id": "ea4b352b",
   "metadata": {
    "ExecuteTime": {
     "end_time": "2022-10-23T09:58:45.453569Z",
     "start_time": "2022-10-23T09:58:45.449479Z"
    }
   },
   "outputs": [
    {
     "data": {
      "text/plain": [
       "(107800, 9)"
      ]
     },
     "execution_count": 73,
     "metadata": {},
     "output_type": "execute_result"
    }
   ],
   "source": [
    "df.shape"
   ]
  },
  {
   "cell_type": "markdown",
   "id": "89ce4bd9",
   "metadata": {},
   "source": [
    "On modifie l'ordre des colonnes"
   ]
  },
  {
   "cell_type": "code",
   "execution_count": 74,
   "id": "b379ede4",
   "metadata": {
    "ExecuteTime": {
     "end_time": "2022-10-23T09:58:45.463332Z",
     "start_time": "2022-10-23T09:58:45.455540Z"
    }
   },
   "outputs": [],
   "source": [
    "df = df[['order_id', 'customer_unique_id',\n",
    "         'order_item_id',\n",
    "         'order_purchase_timestamp', 'delivered_estimated_interval',\n",
    "         'price', 'freight_value', 'product_category_name_english',\n",
    "         'review_score']]"
   ]
  },
  {
   "cell_type": "code",
   "execution_count": 75,
   "id": "b001c3e6",
   "metadata": {
    "ExecuteTime": {
     "end_time": "2022-10-23T09:58:45.478534Z",
     "start_time": "2022-10-23T09:58:45.465343Z"
    }
   },
   "outputs": [
    {
     "data": {
      "text/html": [
       "<div>\n",
       "<style scoped>\n",
       "    .dataframe tbody tr th:only-of-type {\n",
       "        vertical-align: middle;\n",
       "    }\n",
       "\n",
       "    .dataframe tbody tr th {\n",
       "        vertical-align: top;\n",
       "    }\n",
       "\n",
       "    .dataframe thead th {\n",
       "        text-align: right;\n",
       "    }\n",
       "</style>\n",
       "<table border=\"1\" class=\"dataframe\">\n",
       "  <thead>\n",
       "    <tr style=\"text-align: right;\">\n",
       "      <th></th>\n",
       "      <th>order_id</th>\n",
       "      <th>customer_unique_id</th>\n",
       "      <th>order_item_id</th>\n",
       "      <th>order_purchase_timestamp</th>\n",
       "      <th>delivered_estimated_interval</th>\n",
       "      <th>price</th>\n",
       "      <th>freight_value</th>\n",
       "      <th>product_category_name_english</th>\n",
       "      <th>review_score</th>\n",
       "    </tr>\n",
       "  </thead>\n",
       "  <tbody>\n",
       "    <tr>\n",
       "      <th>0</th>\n",
       "      <td>00e7ee1b050b8499577073aeb2a297a1</td>\n",
       "      <td>861eff4711a542e4b93843c6dd7febb0</td>\n",
       "      <td>1.0</td>\n",
       "      <td>2017-05-16</td>\n",
       "      <td>-11 days</td>\n",
       "      <td>124.99</td>\n",
       "      <td>21.88</td>\n",
       "      <td>office_furniture</td>\n",
       "      <td>4.0</td>\n",
       "    </tr>\n",
       "    <tr>\n",
       "      <th>1</th>\n",
       "      <td>29150127e6685892b6eab3eec79f59c7</td>\n",
       "      <td>290c77bc529b7ac935b93aa66c333dc3</td>\n",
       "      <td>1.0</td>\n",
       "      <td>2018-01-12</td>\n",
       "      <td>-8 days</td>\n",
       "      <td>289.00</td>\n",
       "      <td>46.48</td>\n",
       "      <td>housewares</td>\n",
       "      <td>5.0</td>\n",
       "    </tr>\n",
       "    <tr>\n",
       "      <th>2</th>\n",
       "      <td>b2059ed67ce144a36e2aa97d2c9e9ad2</td>\n",
       "      <td>060e732b5b29e8181a18229c7b0b2b5e</td>\n",
       "      <td>1.0</td>\n",
       "      <td>2018-05-19</td>\n",
       "      <td>1 days</td>\n",
       "      <td>139.94</td>\n",
       "      <td>17.79</td>\n",
       "      <td>office_furniture</td>\n",
       "      <td>5.0</td>\n",
       "    </tr>\n",
       "    <tr>\n",
       "      <th>3</th>\n",
       "      <td>951670f92359f4fe4a63112aa7306eba</td>\n",
       "      <td>259dac757896d24d7702b9acbbff3f3c</td>\n",
       "      <td>1.0</td>\n",
       "      <td>2018-03-13</td>\n",
       "      <td>-13 days</td>\n",
       "      <td>149.94</td>\n",
       "      <td>23.36</td>\n",
       "      <td>office_furniture</td>\n",
       "      <td>5.0</td>\n",
       "    </tr>\n",
       "    <tr>\n",
       "      <th>4</th>\n",
       "      <td>6b7d50bd145f6fc7f33cebabd7e49d0f</td>\n",
       "      <td>345ecd01c38d18a9036ed96c73b8d066</td>\n",
       "      <td>1.0</td>\n",
       "      <td>2018-07-29</td>\n",
       "      <td>-6 days</td>\n",
       "      <td>230.00</td>\n",
       "      <td>22.25</td>\n",
       "      <td>home_confort</td>\n",
       "      <td>5.0</td>\n",
       "    </tr>\n",
       "  </tbody>\n",
       "</table>\n",
       "</div>"
      ],
      "text/plain": [
       "                           order_id                customer_unique_id  \\\n",
       "0  00e7ee1b050b8499577073aeb2a297a1  861eff4711a542e4b93843c6dd7febb0   \n",
       "1  29150127e6685892b6eab3eec79f59c7  290c77bc529b7ac935b93aa66c333dc3   \n",
       "2  b2059ed67ce144a36e2aa97d2c9e9ad2  060e732b5b29e8181a18229c7b0b2b5e   \n",
       "3  951670f92359f4fe4a63112aa7306eba  259dac757896d24d7702b9acbbff3f3c   \n",
       "4  6b7d50bd145f6fc7f33cebabd7e49d0f  345ecd01c38d18a9036ed96c73b8d066   \n",
       "\n",
       "   order_item_id order_purchase_timestamp delivered_estimated_interval  \\\n",
       "0            1.0               2017-05-16                     -11 days   \n",
       "1            1.0               2018-01-12                      -8 days   \n",
       "2            1.0               2018-05-19                       1 days   \n",
       "3            1.0               2018-03-13                     -13 days   \n",
       "4            1.0               2018-07-29                      -6 days   \n",
       "\n",
       "    price  freight_value product_category_name_english  review_score  \n",
       "0  124.99          21.88              office_furniture           4.0  \n",
       "1  289.00          46.48                    housewares           5.0  \n",
       "2  139.94          17.79              office_furniture           5.0  \n",
       "3  149.94          23.36              office_furniture           5.0  \n",
       "4  230.00          22.25                  home_confort           5.0  "
      ]
     },
     "execution_count": 75,
     "metadata": {},
     "output_type": "execute_result"
    }
   ],
   "source": [
    "df.head()"
   ]
  },
  {
   "cell_type": "markdown",
   "id": "38dc69d1",
   "metadata": {},
   "source": [
    "# Visualisation des données"
   ]
  },
  {
   "cell_type": "markdown",
   "id": "80eb46cc",
   "metadata": {},
   "source": [
    "## Changement de type"
   ]
  },
  {
   "cell_type": "code",
   "execution_count": 76,
   "id": "8f8dff82",
   "metadata": {
    "ExecuteTime": {
     "end_time": "2022-10-23T09:58:45.486772Z",
     "start_time": "2022-10-23T09:58:45.480518Z"
    }
   },
   "outputs": [],
   "source": [
    "df['order_item_id'] = df['order_item_id'].astype('int')\n",
    "df['review_score'] = df['review_score'].astype('int')\n",
    "#df['customer_zip_code_prefix'] = df['customer_zip_code_prefix'].astype('object')"
   ]
  },
  {
   "cell_type": "code",
   "execution_count": 77,
   "id": "424ca6fe",
   "metadata": {
    "ExecuteTime": {
     "end_time": "2022-10-23T09:58:45.493843Z",
     "start_time": "2022-10-23T09:58:45.488787Z"
    }
   },
   "outputs": [
    {
     "data": {
      "text/plain": [
       "order_id                                  object\n",
       "customer_unique_id                        object\n",
       "order_item_id                              int64\n",
       "order_purchase_timestamp          datetime64[ns]\n",
       "delivered_estimated_interval     timedelta64[ns]\n",
       "price                                    float64\n",
       "freight_value                            float64\n",
       "product_category_name_english             object\n",
       "review_score                               int64\n",
       "dtype: object"
      ]
     },
     "execution_count": 77,
     "metadata": {},
     "output_type": "execute_result"
    }
   ],
   "source": [
    "df.dtypes"
   ]
  },
  {
   "cell_type": "markdown",
   "id": "12f731b5",
   "metadata": {},
   "source": [
    "## Variables continues"
   ]
  },
  {
   "cell_type": "markdown",
   "id": "d321314e",
   "metadata": {},
   "source": [
    "Visualisation des variables continues en échelle linéaire"
   ]
  },
  {
   "cell_type": "code",
   "execution_count": 78,
   "id": "d4056533",
   "metadata": {
    "ExecuteTime": {
     "end_time": "2022-10-23T09:58:46.125313Z",
     "start_time": "2022-10-23T09:58:45.495829Z"
    }
   },
   "outputs": [
    {
     "data": {
      "image/png": "[encoded data removed]",
      "text/plain": [
       "<Figure size 432x432 with 1 Axes>"
      ]
     },
     "metadata": {
      "needs_background": "light"
     },
     "output_type": "display_data"
    },
    {
     "data": {
      "image/png": "[encoded data removed]",
      "text/plain": [
       "<Figure size 600x600 with 1 Axes>"
      ]
     },
     "metadata": {},
     "output_type": "display_data"
    }
   ],
   "source": [
    "for col in df.select_dtypes('float'):\n",
    "    sns.displot(x=df[col], bins=50, height=6)"
   ]
  },
  {
   "cell_type": "markdown",
   "id": "6ee2a0f8",
   "metadata": {},
   "source": [
    "Même chose en échelle log"
   ]
  },
  {
   "cell_type": "code",
   "execution_count": 79,
   "id": "7e2cc5ae",
   "metadata": {
    "ExecuteTime": {
     "end_time": "2022-10-23T09:58:47.877146Z",
     "start_time": "2022-10-23T09:58:46.127409Z"
    }
   },
   "outputs": [
    {
     "data": {
      "image/png": "[encoded data removed]",
      "text/plain": [
       "<Figure size 600x600 with 1 Axes>"
      ]
     },
     "metadata": {},
     "output_type": "display_data"
    },
    {
     "data": {
      "image/png": "[encoded data removed]",
      "text/plain": [
       "<Figure size 600x600 with 1 Axes>"
      ]
     },
     "metadata": {},
     "output_type": "display_data"
    }
   ],
   "source": [
    "for col in df.select_dtypes('float'):\n",
    "    sns.displot(x=df.loc[df[col]>0, col], bins=30, log_scale=True, height=6)"
   ]
  },
  {
   "cell_type": "markdown",
   "id": "6f263055",
   "metadata": {},
   "source": [
    "## Variables entières"
   ]
  },
  {
   "cell_type": "code",
   "execution_count": 80,
   "id": "1b14231b",
   "metadata": {
    "ExecuteTime": {
     "end_time": "2022-10-23T09:58:48.375709Z",
     "start_time": "2022-10-23T09:58:47.879577Z"
    }
   },
   "outputs": [
    {
     "data": {
      "image/png": "[encoded data removed]",
      "text/plain": [
       "<Figure size 600x600 with 1 Axes>"
      ]
     },
     "metadata": {},
     "output_type": "display_data"
    }
   ],
   "source": [
    "sns.displot(x=df['order_item_id'], log_scale=(False, True), height=6);"
   ]
  },
  {
   "cell_type": "code",
   "execution_count": 81,
   "id": "621b8e8c",
   "metadata": {
    "ExecuteTime": {
     "end_time": "2022-10-23T09:58:48.525176Z",
     "start_time": "2022-10-23T09:58:48.378401Z"
    }
   },
   "outputs": [
    {
     "data": {
      "image/png": "[encoded data removed]",
      "text/plain": [
       "<Figure size 800x600 with 1 Axes>"
      ]
     },
     "metadata": {},
     "output_type": "display_data"
    }
   ],
   "source": [
    "plt.figure(figsize=(8,6))\n",
    "sns.countplot(x=df['review_score'].dropna());"
   ]
  },
  {
   "cell_type": "markdown",
   "id": "6380c9e8",
   "metadata": {},
   "source": [
    "## Dates"
   ]
  },
  {
   "cell_type": "code",
   "execution_count": 82,
   "id": "66d86e46",
   "metadata": {
    "ExecuteTime": {
     "end_time": "2022-10-23T09:58:48.987859Z",
     "start_time": "2022-10-23T09:58:48.526889Z"
    }
   },
   "outputs": [
    {
     "data": {
      "image/png": "[encoded data removed]",
      "text/plain": [
       "<Figure size 1200x800 with 1 Axes>"
      ]
     },
     "metadata": {},
     "output_type": "display_data"
    }
   ],
   "source": [
    "plt.figure(figsize=(12,8))\n",
    "sns.histplot(x=df['order_purchase_timestamp'])\n",
    "plt.xticks(rotation=30);"
   ]
  },
  {
   "cell_type": "markdown",
   "id": "91716998",
   "metadata": {},
   "source": [
    "On voit qu'il y a une discontinuité entre fin 2016 et début 2017, on va donc supprimer les commandes datant d'avant 2017"
   ]
  },
  {
   "cell_type": "code",
   "execution_count": 83,
   "id": "9adb5ef3",
   "metadata": {
    "ExecuteTime": {
     "end_time": "2022-10-23T09:58:49.009629Z",
     "start_time": "2022-10-23T09:58:48.990231Z"
    }
   },
   "outputs": [
    {
     "data": {
      "text/plain": [
       "(107489, 9)"
      ]
     },
     "execution_count": 83,
     "metadata": {},
     "output_type": "execute_result"
    }
   ],
   "source": [
    "df = df[df['order_purchase_timestamp'].dt.year >= 2017]\n",
    "df.shape"
   ]
  },
  {
   "cell_type": "code",
   "execution_count": 84,
   "id": "0997aac4",
   "metadata": {
    "ExecuteTime": {
     "end_time": "2022-10-23T09:58:49.404040Z",
     "start_time": "2022-10-23T09:58:49.012525Z"
    }
   },
   "outputs": [
    {
     "data": {
      "image/png": "[encoded data removed]",
      "text/plain": [
       "<Figure size 1200x800 with 1 Axes>"
      ]
     },
     "metadata": {},
     "output_type": "display_data"
    }
   ],
   "source": [
    "plt.figure(figsize=(12,8))\n",
    "sns.histplot(x=df['order_purchase_timestamp'])\n",
    "plt.xticks(rotation=30);"
   ]
  },
  {
   "cell_type": "markdown",
   "id": "44d8ffa7",
   "metadata": {},
   "source": [
    "Distribution des dates d'achat en fonction du mois de l'année"
   ]
  },
  {
   "cell_type": "code",
   "execution_count": 85,
   "id": "144de7b7",
   "metadata": {
    "ExecuteTime": {
     "end_time": "2022-10-23T09:58:49.600023Z",
     "start_time": "2022-10-23T09:58:49.406501Z"
    }
   },
   "outputs": [
    {
     "data": {
      "image/png": "[encoded data removed]",
      "text/plain": [
       "<Figure size 800x600 with 1 Axes>"
      ]
     },
     "metadata": {},
     "output_type": "display_data"
    }
   ],
   "source": [
    "plt.figure(figsize=(8,6))\n",
    "sns.countplot(x=df['order_purchase_timestamp'].dt.month, color='b');"
   ]
  },
  {
   "cell_type": "markdown",
   "id": "bcdc8f1d",
   "metadata": {},
   "source": [
    "Distribution des dates d'achat en fonction du jour du mois"
   ]
  },
  {
   "cell_type": "code",
   "execution_count": 86,
   "id": "38e680df",
   "metadata": {
    "ExecuteTime": {
     "end_time": "2022-10-23T09:58:49.936029Z",
     "start_time": "2022-10-23T09:58:49.601631Z"
    }
   },
   "outputs": [
    {
     "data": {
      "image/png": "[encoded data removed]",
      "text/plain": [
       "<Figure size 1200x800 with 1 Axes>"
      ]
     },
     "metadata": {},
     "output_type": "display_data"
    }
   ],
   "source": [
    "plt.figure(figsize=(12,8))\n",
    "sns.countplot(x=df['order_purchase_timestamp'].dt.day, color='b');"
   ]
  },
  {
   "cell_type": "markdown",
   "id": "fe8998d7",
   "metadata": {},
   "source": [
    "Distribution des dates d'achat en fonction du jour de la semaine"
   ]
  },
  {
   "cell_type": "code",
   "execution_count": 87,
   "id": "326699e7",
   "metadata": {
    "ExecuteTime": {
     "end_time": "2022-10-23T09:58:50.164930Z",
     "start_time": "2022-10-23T09:58:49.938390Z"
    }
   },
   "outputs": [
    {
     "data": {
      "image/png": "[encoded data removed]",
      "text/plain": [
       "<Figure size 800x600 with 1 Axes>"
      ]
     },
     "metadata": {},
     "output_type": "display_data"
    }
   ],
   "source": [
    "plt.figure(figsize=(8,6))\n",
    "order = ['Monday', 'Tuesday', 'Wednesday', 'Thursday', 'Friday', 'Saturday', 'Sunday']\n",
    "sns.countplot(x=df['order_purchase_timestamp'].dt.day_name(), order=order, color='b');"
   ]
  },
  {
   "cell_type": "markdown",
   "id": "0270ccc3",
   "metadata": {},
   "source": [
    "Distribution des retards de livraison (la commande a été livrée en avance si la valeur est négative)"
   ]
  },
  {
   "cell_type": "code",
   "execution_count": 88,
   "id": "60697998",
   "metadata": {
    "ExecuteTime": {
     "end_time": "2022-10-23T09:58:50.474227Z",
     "start_time": "2022-10-23T09:58:50.166740Z"
    }
   },
   "outputs": [
    {
     "data": {
      "image/png": "[encoded data removed]",
      "text/plain": [
       "<Figure size 600x600 with 1 Axes>"
      ]
     },
     "metadata": {},
     "output_type": "display_data"
    }
   ],
   "source": [
    "sns.displot(x=df['delivered_estimated_interval'].dt.days, bins=50, height=6);"
   ]
  },
  {
   "cell_type": "code",
   "execution_count": 89,
   "id": "12858a0f",
   "metadata": {
    "ExecuteTime": {
     "end_time": "2022-10-23T09:58:50.949216Z",
     "start_time": "2022-10-23T09:58:50.476169Z"
    }
   },
   "outputs": [
    {
     "data": {
      "image/png": "[encoded data removed]",
      "text/plain": [
       "<Figure size 600x600 with 1 Axes>"
      ]
     },
     "metadata": {},
     "output_type": "display_data"
    }
   ],
   "source": [
    "g = sns.displot(x=df['delivered_estimated_interval'].dt.days, kind='kde', height=6)\n",
    "g.ax.set_xlim(-50, 50);"
   ]
  },
  {
   "cell_type": "markdown",
   "id": "5ce22bba",
   "metadata": {},
   "source": [
    "## Variables qualitatives"
   ]
  },
  {
   "cell_type": "code",
   "execution_count": 90,
   "id": "7de28ff8",
   "metadata": {
    "ExecuteTime": {
     "end_time": "2022-10-23T09:58:51.010940Z",
     "start_time": "2022-10-23T09:58:50.952017Z"
    }
   },
   "outputs": [
    {
     "name": "stdout",
     "output_type": "stream",
     "text": [
      "order_id------------------------------------------ 94212\n",
      "customer_unique_id-------------------------------- 91220\n",
      "product_category_name_english--------------------- 73\n"
     ]
    }
   ],
   "source": [
    "# Nombre de valeurs uniques\n",
    "for col in df.select_dtypes('object'):\n",
    "    print(f'{col :-<50} {df[col].unique().size}')"
   ]
  },
  {
   "cell_type": "code",
   "execution_count": 91,
   "id": "7969469f",
   "metadata": {
    "ExecuteTime": {
     "end_time": "2022-10-23T09:58:51.954156Z",
     "start_time": "2022-10-23T09:58:51.013230Z"
    }
   },
   "outputs": [
    {
     "data": {
      "image/png": "[encoded data removed]",
      "text/plain": [
       "<Figure size 1200x2000 with 1 Axes>"
      ]
     },
     "metadata": {},
     "output_type": "display_data"
    }
   ],
   "source": [
    "order = df['product_category_name_english'].value_counts().index\n",
    "plt.figure(figsize=(12,20))\n",
    "sns.countplot(y=df['product_category_name_english'], order=order)\n",
    "plt.ylabel('');"
   ]
  },
  {
   "cell_type": "markdown",
   "id": "4dd66adb",
   "metadata": {},
   "source": [
    "# Segmentation RFM"
   ]
  },
  {
   "cell_type": "markdown",
   "id": "52fd01ef",
   "metadata": {},
   "source": [
    "## Récence"
   ]
  },
  {
   "cell_type": "code",
   "execution_count": 92,
   "id": "03ff6768",
   "metadata": {
    "ExecuteTime": {
     "end_time": "2022-10-23T09:58:51.960488Z",
     "start_time": "2022-10-23T09:58:51.956120Z"
    }
   },
   "outputs": [
    {
     "data": {
      "text/plain": [
       "(107489, 9)"
      ]
     },
     "execution_count": 92,
     "metadata": {},
     "output_type": "execute_result"
    }
   ],
   "source": [
    "df.shape"
   ]
  },
  {
   "cell_type": "code",
   "execution_count": 93,
   "id": "b208e871",
   "metadata": {
    "ExecuteTime": {
     "end_time": "2022-10-23T09:58:51.998965Z",
     "start_time": "2022-10-23T09:58:51.962153Z"
    }
   },
   "outputs": [
    {
     "name": "stdout",
     "output_type": "stream",
     "text": [
      "(107489, 9)\n"
     ]
    },
    {
     "data": {
      "text/html": [
       "<div>\n",
       "<style scoped>\n",
       "    .dataframe tbody tr th:only-of-type {\n",
       "        vertical-align: middle;\n",
       "    }\n",
       "\n",
       "    .dataframe tbody tr th {\n",
       "        vertical-align: top;\n",
       "    }\n",
       "\n",
       "    .dataframe thead th {\n",
       "        text-align: right;\n",
       "    }\n",
       "</style>\n",
       "<table border=\"1\" class=\"dataframe\">\n",
       "  <thead>\n",
       "    <tr style=\"text-align: right;\">\n",
       "      <th></th>\n",
       "      <th>order_id</th>\n",
       "      <th>customer_unique_id</th>\n",
       "      <th>order_item_id</th>\n",
       "      <th>order_purchase_timestamp</th>\n",
       "      <th>delivered_estimated_interval</th>\n",
       "      <th>price</th>\n",
       "      <th>freight_value</th>\n",
       "      <th>product_category_name_english</th>\n",
       "      <th>review_score</th>\n",
       "    </tr>\n",
       "  </thead>\n",
       "  <tbody>\n",
       "    <tr>\n",
       "      <th>77809</th>\n",
       "      <td>ce86fa5a5108884726a2244bcae51ae6</td>\n",
       "      <td>d753459418d268407f19b64be28e3c5a</td>\n",
       "      <td>1</td>\n",
       "      <td>2017-01-05</td>\n",
       "      <td>-16 days</td>\n",
       "      <td>10.9</td>\n",
       "      <td>8.72</td>\n",
       "      <td>fashion_bags_accessories</td>\n",
       "      <td>5</td>\n",
       "    </tr>\n",
       "    <tr>\n",
       "      <th>70868</th>\n",
       "      <td>e1fe072ef14b519af1f0a8ed997c1301</td>\n",
       "      <td>4b3207464f5f7a48a7f63fa0b1251d86</td>\n",
       "      <td>1</td>\n",
       "      <td>2017-01-05</td>\n",
       "      <td>-34 days</td>\n",
       "      <td>9.9</td>\n",
       "      <td>14.52</td>\n",
       "      <td>furniture_bedroom</td>\n",
       "      <td>5</td>\n",
       "    </tr>\n",
       "    <tr>\n",
       "      <th>9922</th>\n",
       "      <td>c96209cd1d43d071d3bdf48d299b7aa5</td>\n",
       "      <td>527cd2850ef91088969ffbef0103dec3</td>\n",
       "      <td>1</td>\n",
       "      <td>2017-01-05</td>\n",
       "      <td>-28 days</td>\n",
       "      <td>11.9</td>\n",
       "      <td>8.72</td>\n",
       "      <td>baby</td>\n",
       "      <td>5</td>\n",
       "    </tr>\n",
       "    <tr>\n",
       "      <th>32566</th>\n",
       "      <td>9b91ddcbd6cbceb83d4fd2462ca1f95e</td>\n",
       "      <td>12f5d6e1cbf93dafd9dcc19095df0b3d</td>\n",
       "      <td>1</td>\n",
       "      <td>2017-01-05</td>\n",
       "      <td>-16 days</td>\n",
       "      <td>10.9</td>\n",
       "      <td>8.72</td>\n",
       "      <td>fashion_bags_accessories</td>\n",
       "      <td>5</td>\n",
       "    </tr>\n",
       "    <tr>\n",
       "      <th>49116</th>\n",
       "      <td>7004296aa0256632eaddc171edaf727f</td>\n",
       "      <td>29a63a400c3ca9982907ce8de1f19527</td>\n",
       "      <td>1</td>\n",
       "      <td>2017-01-05</td>\n",
       "      <td>-16 days</td>\n",
       "      <td>10.9</td>\n",
       "      <td>8.72</td>\n",
       "      <td>fashion_bags_accessories</td>\n",
       "      <td>5</td>\n",
       "    </tr>\n",
       "  </tbody>\n",
       "</table>\n",
       "</div>"
      ],
      "text/plain": [
       "                               order_id                customer_unique_id  \\\n",
       "77809  ce86fa5a5108884726a2244bcae51ae6  d753459418d268407f19b64be28e3c5a   \n",
       "70868  e1fe072ef14b519af1f0a8ed997c1301  4b3207464f5f7a48a7f63fa0b1251d86   \n",
       "9922   c96209cd1d43d071d3bdf48d299b7aa5  527cd2850ef91088969ffbef0103dec3   \n",
       "32566  9b91ddcbd6cbceb83d4fd2462ca1f95e  12f5d6e1cbf93dafd9dcc19095df0b3d   \n",
       "49116  7004296aa0256632eaddc171edaf727f  29a63a400c3ca9982907ce8de1f19527   \n",
       "\n",
       "       order_item_id order_purchase_timestamp delivered_estimated_interval  \\\n",
       "77809              1               2017-01-05                     -16 days   \n",
       "70868              1               2017-01-05                     -34 days   \n",
       "9922               1               2017-01-05                     -28 days   \n",
       "32566              1               2017-01-05                     -16 days   \n",
       "49116              1               2017-01-05                     -16 days   \n",
       "\n",
       "       price  freight_value product_category_name_english  review_score  \n",
       "77809   10.9           8.72      fashion_bags_accessories             5  \n",
       "70868    9.9          14.52             furniture_bedroom             5  \n",
       "9922    11.9           8.72                          baby             5  \n",
       "32566   10.9           8.72      fashion_bags_accessories             5  \n",
       "49116   10.9           8.72      fashion_bags_accessories             5  "
      ]
     },
     "execution_count": 93,
     "metadata": {},
     "output_type": "execute_result"
    }
   ],
   "source": [
    "# On trie par ordre croissant de la date d'achat\n",
    "df_ = df.sort_values(by='order_purchase_timestamp')\n",
    "print(df_.shape)\n",
    "df_.head()"
   ]
  },
  {
   "cell_type": "code",
   "execution_count": 94,
   "id": "aad39d20",
   "metadata": {
    "ExecuteTime": {
     "end_time": "2022-10-23T09:58:52.065198Z",
     "start_time": "2022-10-23T09:58:52.000950Z"
    }
   },
   "outputs": [
    {
     "name": "stdout",
     "output_type": "stream",
     "text": [
      "(91220, 9)\n"
     ]
    },
    {
     "data": {
      "text/html": [
       "<div>\n",
       "<style scoped>\n",
       "    .dataframe tbody tr th:only-of-type {\n",
       "        vertical-align: middle;\n",
       "    }\n",
       "\n",
       "    .dataframe tbody tr th {\n",
       "        vertical-align: top;\n",
       "    }\n",
       "\n",
       "    .dataframe thead th {\n",
       "        text-align: right;\n",
       "    }\n",
       "</style>\n",
       "<table border=\"1\" class=\"dataframe\">\n",
       "  <thead>\n",
       "    <tr style=\"text-align: right;\">\n",
       "      <th></th>\n",
       "      <th>order_id</th>\n",
       "      <th>customer_unique_id</th>\n",
       "      <th>order_item_id</th>\n",
       "      <th>order_purchase_timestamp</th>\n",
       "      <th>delivered_estimated_interval</th>\n",
       "      <th>price</th>\n",
       "      <th>freight_value</th>\n",
       "      <th>product_category_name_english</th>\n",
       "      <th>review_score</th>\n",
       "    </tr>\n",
       "  </thead>\n",
       "  <tbody>\n",
       "    <tr>\n",
       "      <th>70868</th>\n",
       "      <td>e1fe072ef14b519af1f0a8ed997c1301</td>\n",
       "      <td>4b3207464f5f7a48a7f63fa0b1251d86</td>\n",
       "      <td>1</td>\n",
       "      <td>2017-01-05</td>\n",
       "      <td>-34 days</td>\n",
       "      <td>9.9</td>\n",
       "      <td>14.52</td>\n",
       "      <td>furniture_bedroom</td>\n",
       "      <td>5</td>\n",
       "    </tr>\n",
       "    <tr>\n",
       "      <th>9922</th>\n",
       "      <td>c96209cd1d43d071d3bdf48d299b7aa5</td>\n",
       "      <td>527cd2850ef91088969ffbef0103dec3</td>\n",
       "      <td>1</td>\n",
       "      <td>2017-01-05</td>\n",
       "      <td>-28 days</td>\n",
       "      <td>11.9</td>\n",
       "      <td>8.72</td>\n",
       "      <td>baby</td>\n",
       "      <td>5</td>\n",
       "    </tr>\n",
       "    <tr>\n",
       "      <th>49116</th>\n",
       "      <td>7004296aa0256632eaddc171edaf727f</td>\n",
       "      <td>29a63a400c3ca9982907ce8de1f19527</td>\n",
       "      <td>1</td>\n",
       "      <td>2017-01-05</td>\n",
       "      <td>-16 days</td>\n",
       "      <td>10.9</td>\n",
       "      <td>8.72</td>\n",
       "      <td>fashion_bags_accessories</td>\n",
       "      <td>5</td>\n",
       "    </tr>\n",
       "    <tr>\n",
       "      <th>73613</th>\n",
       "      <td>5965b589a33443dd1f820eb7df39762a</td>\n",
       "      <td>b6b2c3c8fd76769b478618a3c2505009</td>\n",
       "      <td>1</td>\n",
       "      <td>2017-01-05</td>\n",
       "      <td>-16 days</td>\n",
       "      <td>10.9</td>\n",
       "      <td>8.72</td>\n",
       "      <td>fashion_bags_accessories</td>\n",
       "      <td>5</td>\n",
       "    </tr>\n",
       "    <tr>\n",
       "      <th>113817</th>\n",
       "      <td>f175d67589e059cbbda956f10f0702e6</td>\n",
       "      <td>f7be9bec658c62ab6240b44cd26c0b84</td>\n",
       "      <td>1</td>\n",
       "      <td>2017-01-05</td>\n",
       "      <td>-27 days</td>\n",
       "      <td>9.9</td>\n",
       "      <td>8.72</td>\n",
       "      <td>furniture_bedroom</td>\n",
       "      <td>5</td>\n",
       "    </tr>\n",
       "  </tbody>\n",
       "</table>\n",
       "</div>"
      ],
      "text/plain": [
       "                                order_id                customer_unique_id  \\\n",
       "70868   e1fe072ef14b519af1f0a8ed997c1301  4b3207464f5f7a48a7f63fa0b1251d86   \n",
       "9922    c96209cd1d43d071d3bdf48d299b7aa5  527cd2850ef91088969ffbef0103dec3   \n",
       "49116   7004296aa0256632eaddc171edaf727f  29a63a400c3ca9982907ce8de1f19527   \n",
       "73613   5965b589a33443dd1f820eb7df39762a  b6b2c3c8fd76769b478618a3c2505009   \n",
       "113817  f175d67589e059cbbda956f10f0702e6  f7be9bec658c62ab6240b44cd26c0b84   \n",
       "\n",
       "        order_item_id order_purchase_timestamp delivered_estimated_interval  \\\n",
       "70868               1               2017-01-05                     -34 days   \n",
       "9922                1               2017-01-05                     -28 days   \n",
       "49116               1               2017-01-05                     -16 days   \n",
       "73613               1               2017-01-05                     -16 days   \n",
       "113817              1               2017-01-05                     -27 days   \n",
       "\n",
       "        price  freight_value product_category_name_english  review_score  \n",
       "70868     9.9          14.52             furniture_bedroom             5  \n",
       "9922     11.9           8.72                          baby             5  \n",
       "49116    10.9           8.72      fashion_bags_accessories             5  \n",
       "73613    10.9           8.72      fashion_bags_accessories             5  \n",
       "113817    9.9           8.72             furniture_bedroom             5  "
      ]
     },
     "execution_count": 94,
     "metadata": {},
     "output_type": "execute_result"
    }
   ],
   "source": [
    "# One ne garde que la dernière commande de chaque client\n",
    "df_last = df_.drop_duplicates(subset='customer_unique_id', keep='last')\n",
    "print(df_last.shape)\n",
    "df_last.head()"
   ]
  },
  {
   "cell_type": "code",
   "execution_count": 95,
   "id": "46786f74",
   "metadata": {
    "ExecuteTime": {
     "end_time": "2022-10-23T09:58:52.092505Z",
     "start_time": "2022-10-23T09:58:52.067610Z"
    }
   },
   "outputs": [
    {
     "data": {
      "text/plain": [
       "91220"
      ]
     },
     "execution_count": 95,
     "metadata": {},
     "output_type": "execute_result"
    }
   ],
   "source": [
    "# On a autant de lignes de que de clients différents\n",
    "df['customer_unique_id'].unique().size"
   ]
  },
  {
   "cell_type": "code",
   "execution_count": 96,
   "id": "2f05ee0e",
   "metadata": {
    "ExecuteTime": {
     "end_time": "2022-10-23T09:58:52.106228Z",
     "start_time": "2022-10-23T09:58:52.094920Z"
    }
   },
   "outputs": [
    {
     "data": {
      "text/html": [
       "<div>\n",
       "<style scoped>\n",
       "    .dataframe tbody tr th:only-of-type {\n",
       "        vertical-align: middle;\n",
       "    }\n",
       "\n",
       "    .dataframe tbody tr th {\n",
       "        vertical-align: top;\n",
       "    }\n",
       "\n",
       "    .dataframe thead th {\n",
       "        text-align: right;\n",
       "    }\n",
       "</style>\n",
       "<table border=\"1\" class=\"dataframe\">\n",
       "  <thead>\n",
       "    <tr style=\"text-align: right;\">\n",
       "      <th></th>\n",
       "      <th>customer_unique_id</th>\n",
       "      <th>order_purchase_timestamp</th>\n",
       "    </tr>\n",
       "  </thead>\n",
       "  <tbody>\n",
       "    <tr>\n",
       "      <th>70868</th>\n",
       "      <td>4b3207464f5f7a48a7f63fa0b1251d86</td>\n",
       "      <td>2017-01-05</td>\n",
       "    </tr>\n",
       "    <tr>\n",
       "      <th>9922</th>\n",
       "      <td>527cd2850ef91088969ffbef0103dec3</td>\n",
       "      <td>2017-01-05</td>\n",
       "    </tr>\n",
       "    <tr>\n",
       "      <th>49116</th>\n",
       "      <td>29a63a400c3ca9982907ce8de1f19527</td>\n",
       "      <td>2017-01-05</td>\n",
       "    </tr>\n",
       "    <tr>\n",
       "      <th>73613</th>\n",
       "      <td>b6b2c3c8fd76769b478618a3c2505009</td>\n",
       "      <td>2017-01-05</td>\n",
       "    </tr>\n",
       "    <tr>\n",
       "      <th>113817</th>\n",
       "      <td>f7be9bec658c62ab6240b44cd26c0b84</td>\n",
       "      <td>2017-01-05</td>\n",
       "    </tr>\n",
       "  </tbody>\n",
       "</table>\n",
       "</div>"
      ],
      "text/plain": [
       "                      customer_unique_id order_purchase_timestamp\n",
       "70868   4b3207464f5f7a48a7f63fa0b1251d86               2017-01-05\n",
       "9922    527cd2850ef91088969ffbef0103dec3               2017-01-05\n",
       "49116   29a63a400c3ca9982907ce8de1f19527               2017-01-05\n",
       "73613   b6b2c3c8fd76769b478618a3c2505009               2017-01-05\n",
       "113817  f7be9bec658c62ab6240b44cd26c0b84               2017-01-05"
      ]
     },
     "execution_count": 96,
     "metadata": {},
     "output_type": "execute_result"
    }
   ],
   "source": [
    "# On définit la DataFrame 'recence' qui va contenir les dates d'achat\n",
    "recence = df_last[['customer_unique_id', 'order_purchase_timestamp']]\n",
    "recence.head()"
   ]
  },
  {
   "cell_type": "markdown",
   "id": "d483ceb8",
   "metadata": {},
   "source": [
    "On va définir la récence comme le nombre de jours écoulés depuis la dernière commande"
   ]
  },
  {
   "cell_type": "code",
   "execution_count": 97,
   "id": "7c94616e",
   "metadata": {
    "ExecuteTime": {
     "end_time": "2022-10-23T09:58:52.301208Z",
     "start_time": "2022-10-23T09:58:52.108388Z"
    }
   },
   "outputs": [
    {
     "name": "stderr",
     "output_type": "stream",
     "text": [
      "<ipython-input-97-d291c5a3a0c2>:2: SettingWithCopyWarning: \n",
      "A value is trying to be set on a copy of a slice from a DataFrame.\n",
      "Try using .loc[row_indexer,col_indexer] = value instead\n",
      "\n",
      "See the caveats in the documentation: https://pandas.pydata.org/pandas-docs/stable/user_guide/indexing.html#returning-a-view-versus-a-copy\n",
      "  recence['recency'] = s.max() - s\n",
      "<ipython-input-97-d291c5a3a0c2>:3: SettingWithCopyWarning: \n",
      "A value is trying to be set on a copy of a slice from a DataFrame.\n",
      "Try using .loc[row_indexer,col_indexer] = value instead\n",
      "\n",
      "See the caveats in the documentation: https://pandas.pydata.org/pandas-docs/stable/user_guide/indexing.html#returning-a-view-versus-a-copy\n",
      "  recence['recency'] = recence['recency'].dt.days\n"
     ]
    },
    {
     "data": {
      "text/html": [
       "<div>\n",
       "<style scoped>\n",
       "    .dataframe tbody tr th:only-of-type {\n",
       "        vertical-align: middle;\n",
       "    }\n",
       "\n",
       "    .dataframe tbody tr th {\n",
       "        vertical-align: top;\n",
       "    }\n",
       "\n",
       "    .dataframe thead th {\n",
       "        text-align: right;\n",
       "    }\n",
       "</style>\n",
       "<table border=\"1\" class=\"dataframe\">\n",
       "  <thead>\n",
       "    <tr style=\"text-align: right;\">\n",
       "      <th></th>\n",
       "      <th>customer_unique_id</th>\n",
       "      <th>recency</th>\n",
       "    </tr>\n",
       "  </thead>\n",
       "  <tbody>\n",
       "    <tr>\n",
       "      <th>70868</th>\n",
       "      <td>4b3207464f5f7a48a7f63fa0b1251d86</td>\n",
       "      <td>601</td>\n",
       "    </tr>\n",
       "    <tr>\n",
       "      <th>9922</th>\n",
       "      <td>527cd2850ef91088969ffbef0103dec3</td>\n",
       "      <td>601</td>\n",
       "    </tr>\n",
       "    <tr>\n",
       "      <th>49116</th>\n",
       "      <td>29a63a400c3ca9982907ce8de1f19527</td>\n",
       "      <td>601</td>\n",
       "    </tr>\n",
       "    <tr>\n",
       "      <th>73613</th>\n",
       "      <td>b6b2c3c8fd76769b478618a3c2505009</td>\n",
       "      <td>601</td>\n",
       "    </tr>\n",
       "    <tr>\n",
       "      <th>113817</th>\n",
       "      <td>f7be9bec658c62ab6240b44cd26c0b84</td>\n",
       "      <td>601</td>\n",
       "    </tr>\n",
       "  </tbody>\n",
       "</table>\n",
       "</div>"
      ],
      "text/plain": [
       "                      customer_unique_id  recency\n",
       "70868   4b3207464f5f7a48a7f63fa0b1251d86      601\n",
       "9922    527cd2850ef91088969ffbef0103dec3      601\n",
       "49116   29a63a400c3ca9982907ce8de1f19527      601\n",
       "73613   b6b2c3c8fd76769b478618a3c2505009      601\n",
       "113817  f7be9bec658c62ab6240b44cd26c0b84      601"
      ]
     },
     "execution_count": 97,
     "metadata": {},
     "output_type": "execute_result"
    }
   ],
   "source": [
    "s = recence['order_purchase_timestamp']\n",
    "recence['recency'] = s.max() - s\n",
    "recence['recency'] = recence['recency'].dt.days\n",
    "recence = recence.drop(columns=['order_purchase_timestamp'])\n",
    "recence.head()"
   ]
  },
  {
   "cell_type": "markdown",
   "id": "57cf1daf",
   "metadata": {},
   "source": [
    "## Fréquence"
   ]
  },
  {
   "cell_type": "markdown",
   "id": "b8bffd38",
   "metadata": {},
   "source": [
    "On va définir la fréquence comme étant le nombre de fois qu'un client a fait une commande (pour rappel, une commande peut contenir plusieurs articles, le nombre de lignes pour un client donné ne correspond donc pas forcément au nombre de commandes qu'il a fait)"
   ]
  },
  {
   "cell_type": "code",
   "execution_count": 98,
   "id": "6aa1db0d",
   "metadata": {
    "ExecuteTime": {
     "end_time": "2022-10-23T09:58:52.351820Z",
     "start_time": "2022-10-23T09:58:52.303214Z"
    }
   },
   "outputs": [
    {
     "data": {
      "text/plain": [
       "(94212, 9)"
      ]
     },
     "execution_count": 98,
     "metadata": {},
     "output_type": "execute_result"
    }
   ],
   "source": [
    "# On supprime les doublons sur la colonne 'order_id' pour ne garder qu'une ligne par commande\n",
    "df_ = df.drop_duplicates(subset='order_id')\n",
    "df_.shape"
   ]
  },
  {
   "cell_type": "code",
   "execution_count": 99,
   "id": "a6938135",
   "metadata": {
    "ExecuteTime": {
     "end_time": "2022-10-23T09:58:52.412274Z",
     "start_time": "2022-10-23T09:58:52.353927Z"
    }
   },
   "outputs": [
    {
     "data": {
      "text/html": [
       "<div>\n",
       "<style scoped>\n",
       "    .dataframe tbody tr th:only-of-type {\n",
       "        vertical-align: middle;\n",
       "    }\n",
       "\n",
       "    .dataframe tbody tr th {\n",
       "        vertical-align: top;\n",
       "    }\n",
       "\n",
       "    .dataframe thead th {\n",
       "        text-align: right;\n",
       "    }\n",
       "</style>\n",
       "<table border=\"1\" class=\"dataframe\">\n",
       "  <thead>\n",
       "    <tr style=\"text-align: right;\">\n",
       "      <th></th>\n",
       "      <th>customer_unique_id</th>\n",
       "      <th>frequency</th>\n",
       "    </tr>\n",
       "  </thead>\n",
       "  <tbody>\n",
       "    <tr>\n",
       "      <th>0</th>\n",
       "      <td>8d50f5eadf50201ccdcedfb9e2ac8455</td>\n",
       "      <td>14</td>\n",
       "    </tr>\n",
       "    <tr>\n",
       "      <th>1</th>\n",
       "      <td>3e43e6105506432c953e165fb2acf44c</td>\n",
       "      <td>9</td>\n",
       "    </tr>\n",
       "    <tr>\n",
       "      <th>2</th>\n",
       "      <td>6469f99c1f9dfae7733b25662e7f1782</td>\n",
       "      <td>7</td>\n",
       "    </tr>\n",
       "    <tr>\n",
       "      <th>3</th>\n",
       "      <td>1b6c7548a2a1f9037c1fd3ddfed95f33</td>\n",
       "      <td>7</td>\n",
       "    </tr>\n",
       "    <tr>\n",
       "      <th>4</th>\n",
       "      <td>ca77025e7201e3b30c44b472ff346268</td>\n",
       "      <td>7</td>\n",
       "    </tr>\n",
       "    <tr>\n",
       "      <th>...</th>\n",
       "      <td>...</td>\n",
       "      <td>...</td>\n",
       "    </tr>\n",
       "    <tr>\n",
       "      <th>91215</th>\n",
       "      <td>075a5615f6bb67b7a4704a98e15d9c5c</td>\n",
       "      <td>1</td>\n",
       "    </tr>\n",
       "    <tr>\n",
       "      <th>91216</th>\n",
       "      <td>0b49bcd246aa9725adb7ea86e4fa0ff5</td>\n",
       "      <td>1</td>\n",
       "    </tr>\n",
       "    <tr>\n",
       "      <th>91217</th>\n",
       "      <td>9406b09ee310bd556a634c55e6781208</td>\n",
       "      <td>1</td>\n",
       "    </tr>\n",
       "    <tr>\n",
       "      <th>91218</th>\n",
       "      <td>e419ea0591aac37591b82b409ccd3d9d</td>\n",
       "      <td>1</td>\n",
       "    </tr>\n",
       "    <tr>\n",
       "      <th>91219</th>\n",
       "      <td>84732c5050c01db9b23e19ba39899398</td>\n",
       "      <td>1</td>\n",
       "    </tr>\n",
       "  </tbody>\n",
       "</table>\n",
       "<p>91220 rows × 2 columns</p>\n",
       "</div>"
      ],
      "text/plain": [
       "                     customer_unique_id  frequency\n",
       "0      8d50f5eadf50201ccdcedfb9e2ac8455         14\n",
       "1      3e43e6105506432c953e165fb2acf44c          9\n",
       "2      6469f99c1f9dfae7733b25662e7f1782          7\n",
       "3      1b6c7548a2a1f9037c1fd3ddfed95f33          7\n",
       "4      ca77025e7201e3b30c44b472ff346268          7\n",
       "...                                 ...        ...\n",
       "91215  075a5615f6bb67b7a4704a98e15d9c5c          1\n",
       "91216  0b49bcd246aa9725adb7ea86e4fa0ff5          1\n",
       "91217  9406b09ee310bd556a634c55e6781208          1\n",
       "91218  e419ea0591aac37591b82b409ccd3d9d          1\n",
       "91219  84732c5050c01db9b23e19ba39899398          1\n",
       "\n",
       "[91220 rows x 2 columns]"
      ]
     },
     "execution_count": 99,
     "metadata": {},
     "output_type": "execute_result"
    }
   ],
   "source": [
    "frequence = df_['customer_unique_id'].value_counts().reset_index()\n",
    "frequence.columns = ['customer_unique_id', 'frequency']\n",
    "frequence"
   ]
  },
  {
   "cell_type": "markdown",
   "id": "270c02fb",
   "metadata": {},
   "source": [
    "## Montant"
   ]
  },
  {
   "cell_type": "markdown",
   "id": "b198ed7a",
   "metadata": {},
   "source": [
    "Pour le montant, on va prendre le prix moyen dépensé par commande"
   ]
  },
  {
   "cell_type": "code",
   "execution_count": 100,
   "id": "aa480419",
   "metadata": {
    "ExecuteTime": {
     "end_time": "2022-10-23T09:58:52.522974Z",
     "start_time": "2022-10-23T09:58:52.414464Z"
    }
   },
   "outputs": [
    {
     "data": {
      "text/plain": [
       "8d50f5eadf50201ccdcedfb9e2ac8455    14\n",
       "3e43e6105506432c953e165fb2acf44c     9\n",
       "6469f99c1f9dfae7733b25662e7f1782     7\n",
       "1b6c7548a2a1f9037c1fd3ddfed95f33     7\n",
       "ca77025e7201e3b30c44b472ff346268     7\n",
       "                                    ..\n",
       "075a5615f6bb67b7a4704a98e15d9c5c     1\n",
       "0b49bcd246aa9725adb7ea86e4fa0ff5     1\n",
       "9406b09ee310bd556a634c55e6781208     1\n",
       "e419ea0591aac37591b82b409ccd3d9d     1\n",
       "84732c5050c01db9b23e19ba39899398     1\n",
       "Name: customer_unique_id, Length: 91220, dtype: int64"
      ]
     },
     "execution_count": 100,
     "metadata": {},
     "output_type": "execute_result"
    }
   ],
   "source": [
    "# nombre de commandes par client\n",
    "n_orders = df.drop_duplicates(subset='order_id', keep='first')['customer_unique_id'].value_counts()\n",
    "n_orders"
   ]
  },
  {
   "cell_type": "code",
   "execution_count": 101,
   "id": "c2ce6950",
   "metadata": {
    "ExecuteTime": {
     "end_time": "2022-10-23T09:58:52.672792Z",
     "start_time": "2022-10-23T09:58:52.525128Z"
    }
   },
   "outputs": [
    {
     "data": {
      "text/plain": [
       "customer_unique_id\n",
       "0000366f3b9a7992bf8c76cfdf3221e2     129.90\n",
       "0000b849f77a49e4a4ce2b2a4ca5be3f      18.90\n",
       "0000f46a3911fa3c0805444483337064      69.00\n",
       "0000f6ccb0745a6a4b88665a16c9f078      25.99\n",
       "0004aac84e0df4da2b147fca70cf8255     180.00\n",
       "                                     ...   \n",
       "fffcf5a5ff07b0908bd4e2dbc735a684    1570.00\n",
       "fffea47cd6d3cc0a88bd621562a9d061      64.89\n",
       "ffff371b4d645b6ecea244b27531430a      89.90\n",
       "ffff5962728ec6157033ef9805bacc48     115.00\n",
       "ffffd2657e2aad2907e67c3e9daecbeb      56.99\n",
       "Name: price, Length: 91220, dtype: float64"
      ]
     },
     "execution_count": 101,
     "metadata": {},
     "output_type": "execute_result"
    }
   ],
   "source": [
    "# Montant total dépensé par client\n",
    "sum_price = df.groupby(by='customer_unique_id').sum()['price']\n",
    "sum_price"
   ]
  },
  {
   "cell_type": "code",
   "execution_count": 102,
   "id": "4925dfa1",
   "metadata": {
    "ExecuteTime": {
     "end_time": "2022-10-23T09:58:52.792821Z",
     "start_time": "2022-10-23T09:58:52.674848Z"
    }
   },
   "outputs": [
    {
     "data": {
      "text/html": [
       "<div>\n",
       "<style scoped>\n",
       "    .dataframe tbody tr th:only-of-type {\n",
       "        vertical-align: middle;\n",
       "    }\n",
       "\n",
       "    .dataframe tbody tr th {\n",
       "        vertical-align: top;\n",
       "    }\n",
       "\n",
       "    .dataframe thead th {\n",
       "        text-align: right;\n",
       "    }\n",
       "</style>\n",
       "<table border=\"1\" class=\"dataframe\">\n",
       "  <thead>\n",
       "    <tr style=\"text-align: right;\">\n",
       "      <th></th>\n",
       "      <th>customer_unique_id</th>\n",
       "      <th>mean_spending</th>\n",
       "    </tr>\n",
       "  </thead>\n",
       "  <tbody>\n",
       "    <tr>\n",
       "      <th>0</th>\n",
       "      <td>0000366f3b9a7992bf8c76cfdf3221e2</td>\n",
       "      <td>129.90</td>\n",
       "    </tr>\n",
       "    <tr>\n",
       "      <th>1</th>\n",
       "      <td>0000b849f77a49e4a4ce2b2a4ca5be3f</td>\n",
       "      <td>18.90</td>\n",
       "    </tr>\n",
       "    <tr>\n",
       "      <th>2</th>\n",
       "      <td>0000f46a3911fa3c0805444483337064</td>\n",
       "      <td>69.00</td>\n",
       "    </tr>\n",
       "    <tr>\n",
       "      <th>3</th>\n",
       "      <td>0000f6ccb0745a6a4b88665a16c9f078</td>\n",
       "      <td>25.99</td>\n",
       "    </tr>\n",
       "    <tr>\n",
       "      <th>4</th>\n",
       "      <td>0004aac84e0df4da2b147fca70cf8255</td>\n",
       "      <td>180.00</td>\n",
       "    </tr>\n",
       "    <tr>\n",
       "      <th>...</th>\n",
       "      <td>...</td>\n",
       "      <td>...</td>\n",
       "    </tr>\n",
       "    <tr>\n",
       "      <th>91215</th>\n",
       "      <td>fffcf5a5ff07b0908bd4e2dbc735a684</td>\n",
       "      <td>1570.00</td>\n",
       "    </tr>\n",
       "    <tr>\n",
       "      <th>91216</th>\n",
       "      <td>fffea47cd6d3cc0a88bd621562a9d061</td>\n",
       "      <td>64.89</td>\n",
       "    </tr>\n",
       "    <tr>\n",
       "      <th>91217</th>\n",
       "      <td>ffff371b4d645b6ecea244b27531430a</td>\n",
       "      <td>89.90</td>\n",
       "    </tr>\n",
       "    <tr>\n",
       "      <th>91218</th>\n",
       "      <td>ffff5962728ec6157033ef9805bacc48</td>\n",
       "      <td>115.00</td>\n",
       "    </tr>\n",
       "    <tr>\n",
       "      <th>91219</th>\n",
       "      <td>ffffd2657e2aad2907e67c3e9daecbeb</td>\n",
       "      <td>56.99</td>\n",
       "    </tr>\n",
       "  </tbody>\n",
       "</table>\n",
       "<p>91220 rows × 2 columns</p>\n",
       "</div>"
      ],
      "text/plain": [
       "                     customer_unique_id  mean_spending\n",
       "0      0000366f3b9a7992bf8c76cfdf3221e2         129.90\n",
       "1      0000b849f77a49e4a4ce2b2a4ca5be3f          18.90\n",
       "2      0000f46a3911fa3c0805444483337064          69.00\n",
       "3      0000f6ccb0745a6a4b88665a16c9f078          25.99\n",
       "4      0004aac84e0df4da2b147fca70cf8255         180.00\n",
       "...                                 ...            ...\n",
       "91215  fffcf5a5ff07b0908bd4e2dbc735a684        1570.00\n",
       "91216  fffea47cd6d3cc0a88bd621562a9d061          64.89\n",
       "91217  ffff371b4d645b6ecea244b27531430a          89.90\n",
       "91218  ffff5962728ec6157033ef9805bacc48         115.00\n",
       "91219  ffffd2657e2aad2907e67c3e9daecbeb          56.99\n",
       "\n",
       "[91220 rows x 2 columns]"
      ]
     },
     "execution_count": 102,
     "metadata": {},
     "output_type": "execute_result"
    }
   ],
   "source": [
    "montant = sum_price / n_orders\n",
    "montant = montant.reset_index()\n",
    "montant.columns = ['customer_unique_id', 'mean_spending']\n",
    "montant"
   ]
  },
  {
   "cell_type": "markdown",
   "id": "41d57fbd",
   "metadata": {},
   "source": [
    "On regroupe les 3 variables dans le Dataframe `df_rfm`"
   ]
  },
  {
   "cell_type": "code",
   "execution_count": 103,
   "id": "fa91cb73",
   "metadata": {
    "ExecuteTime": {
     "end_time": "2022-10-23T09:58:52.929318Z",
     "start_time": "2022-10-23T09:58:52.795037Z"
    }
   },
   "outputs": [
    {
     "name": "stdout",
     "output_type": "stream",
     "text": [
      "(91220, 3)\n"
     ]
    },
    {
     "data": {
      "text/html": [
       "<div>\n",
       "<style scoped>\n",
       "    .dataframe tbody tr th:only-of-type {\n",
       "        vertical-align: middle;\n",
       "    }\n",
       "\n",
       "    .dataframe tbody tr th {\n",
       "        vertical-align: top;\n",
       "    }\n",
       "\n",
       "    .dataframe thead th {\n",
       "        text-align: right;\n",
       "    }\n",
       "</style>\n",
       "<table border=\"1\" class=\"dataframe\">\n",
       "  <thead>\n",
       "    <tr style=\"text-align: right;\">\n",
       "      <th></th>\n",
       "      <th>recency</th>\n",
       "      <th>frequency</th>\n",
       "      <th>mean_spending</th>\n",
       "    </tr>\n",
       "    <tr>\n",
       "      <th>customer_unique_id</th>\n",
       "      <th></th>\n",
       "      <th></th>\n",
       "      <th></th>\n",
       "    </tr>\n",
       "  </thead>\n",
       "  <tbody>\n",
       "    <tr>\n",
       "      <th>4b3207464f5f7a48a7f63fa0b1251d86</th>\n",
       "      <td>601</td>\n",
       "      <td>1</td>\n",
       "      <td>9.9</td>\n",
       "    </tr>\n",
       "    <tr>\n",
       "      <th>527cd2850ef91088969ffbef0103dec3</th>\n",
       "      <td>601</td>\n",
       "      <td>1</td>\n",
       "      <td>11.9</td>\n",
       "    </tr>\n",
       "    <tr>\n",
       "      <th>29a63a400c3ca9982907ce8de1f19527</th>\n",
       "      <td>601</td>\n",
       "      <td>1</td>\n",
       "      <td>10.9</td>\n",
       "    </tr>\n",
       "    <tr>\n",
       "      <th>b6b2c3c8fd76769b478618a3c2505009</th>\n",
       "      <td>601</td>\n",
       "      <td>1</td>\n",
       "      <td>10.9</td>\n",
       "    </tr>\n",
       "    <tr>\n",
       "      <th>f7be9bec658c62ab6240b44cd26c0b84</th>\n",
       "      <td>601</td>\n",
       "      <td>2</td>\n",
       "      <td>10.4</td>\n",
       "    </tr>\n",
       "  </tbody>\n",
       "</table>\n",
       "</div>"
      ],
      "text/plain": [
       "                                  recency  frequency  mean_spending\n",
       "customer_unique_id                                                 \n",
       "4b3207464f5f7a48a7f63fa0b1251d86      601          1            9.9\n",
       "527cd2850ef91088969ffbef0103dec3      601          1           11.9\n",
       "29a63a400c3ca9982907ce8de1f19527      601          1           10.9\n",
       "b6b2c3c8fd76769b478618a3c2505009      601          1           10.9\n",
       "f7be9bec658c62ab6240b44cd26c0b84      601          2           10.4"
      ]
     },
     "execution_count": 103,
     "metadata": {},
     "output_type": "execute_result"
    }
   ],
   "source": [
    "df_rfm = pd.merge(recence, frequence)\n",
    "df_rfm = df_rfm.merge(montant)\n",
    "df_rfm.set_index(keys='customer_unique_id', inplace=True)\n",
    "print(df_rfm.shape)\n",
    "df_rfm.head()"
   ]
  },
  {
   "cell_type": "code",
   "execution_count": 104,
   "id": "21d25966",
   "metadata": {
    "ExecuteTime": {
     "end_time": "2022-10-23T09:58:53.141085Z",
     "start_time": "2022-10-23T09:58:52.931741Z"
    }
   },
   "outputs": [],
   "source": [
    "# On sauvegarde le DataFrame au format csv\n",
    "df_rfm.to_csv('df_rfm.csv')"
   ]
  },
  {
   "cell_type": "markdown",
   "id": "33b5b76d",
   "metadata": {},
   "source": [
    "## Visualtisation"
   ]
  },
  {
   "cell_type": "code",
   "execution_count": 105,
   "id": "435cc9ad",
   "metadata": {
    "ExecuteTime": {
     "end_time": "2022-10-23T09:58:53.499428Z",
     "start_time": "2022-10-23T09:58:53.142759Z"
    }
   },
   "outputs": [
    {
     "data": {
      "image/png": "[encoded data removed]",
      "text/plain": [
       "<Figure size 1000x500 with 1 Axes>"
      ]
     },
     "metadata": {},
     "output_type": "display_data"
    }
   ],
   "source": [
    "sns.displot(x='recency', data=df_rfm, bins=50, aspect=2);"
   ]
  },
  {
   "cell_type": "code",
   "execution_count": 106,
   "id": "b87c10be",
   "metadata": {
    "ExecuteTime": {
     "end_time": "2022-10-23T09:58:54.029385Z",
     "start_time": "2022-10-23T09:58:53.501218Z"
    }
   },
   "outputs": [
    {
     "data": {
      "image/png": "[encoded data removed]",
      "text/plain": [
       "<Figure size 800x600 with 1 Axes>"
      ]
     },
     "metadata": {},
     "output_type": "display_data"
    }
   ],
   "source": [
    "sns.displot(x='frequency', data=df_rfm, binwidth=1, log_scale=(False, True), height=6, aspect=16/12);"
   ]
  },
  {
   "cell_type": "code",
   "execution_count": 107,
   "id": "fdbc4428",
   "metadata": {
    "ExecuteTime": {
     "end_time": "2022-10-23T09:58:55.127047Z",
     "start_time": "2022-10-23T09:58:54.032160Z"
    }
   },
   "outputs": [
    {
     "data": {
      "image/png": "[encoded data removed]",
      "text/plain": [
       "<Figure size 800x600 with 1 Axes>"
      ]
     },
     "metadata": {},
     "output_type": "display_data"
    }
   ],
   "source": [
    "sns.displot(x='mean_spending', data=df_rfm, log_scale=True, height=6, aspect=16/12);"
   ]
  },
  {
   "cell_type": "markdown",
   "id": "6fa88677",
   "metadata": {},
   "source": [
    "# Segmentation plus avancée"
   ]
  },
  {
   "cell_type": "markdown",
   "id": "27d22312",
   "metadata": {},
   "source": [
    "## Review Score"
   ]
  },
  {
   "cell_type": "markdown",
   "id": "33ecca7f",
   "metadata": {},
   "source": [
    "On va rajouter à la segmentation RFM le score attribué par le client"
   ]
  },
  {
   "cell_type": "code",
   "execution_count": 108,
   "id": "2afa17cc",
   "metadata": {
    "ExecuteTime": {
     "end_time": "2022-10-23T09:58:55.134490Z",
     "start_time": "2022-10-23T09:58:55.129483Z"
    }
   },
   "outputs": [],
   "source": [
    "scores = df[['customer_unique_id', 'review_score']]"
   ]
  },
  {
   "cell_type": "code",
   "execution_count": 109,
   "id": "bddc06d7",
   "metadata": {
    "ExecuteTime": {
     "end_time": "2022-10-23T09:58:55.276797Z",
     "start_time": "2022-10-23T09:58:55.135919Z"
    }
   },
   "outputs": [
    {
     "data": {
      "text/html": [
       "<div>\n",
       "<style scoped>\n",
       "    .dataframe tbody tr th:only-of-type {\n",
       "        vertical-align: middle;\n",
       "    }\n",
       "\n",
       "    .dataframe tbody tr th {\n",
       "        vertical-align: top;\n",
       "    }\n",
       "\n",
       "    .dataframe thead th {\n",
       "        text-align: right;\n",
       "    }\n",
       "</style>\n",
       "<table border=\"1\" class=\"dataframe\">\n",
       "  <thead>\n",
       "    <tr style=\"text-align: right;\">\n",
       "      <th></th>\n",
       "      <th>review_score</th>\n",
       "    </tr>\n",
       "    <tr>\n",
       "      <th>customer_unique_id</th>\n",
       "      <th></th>\n",
       "    </tr>\n",
       "  </thead>\n",
       "  <tbody>\n",
       "    <tr>\n",
       "      <th>0000366f3b9a7992bf8c76cfdf3221e2</th>\n",
       "      <td>5.0</td>\n",
       "    </tr>\n",
       "    <tr>\n",
       "      <th>0000b849f77a49e4a4ce2b2a4ca5be3f</th>\n",
       "      <td>4.0</td>\n",
       "    </tr>\n",
       "    <tr>\n",
       "      <th>0000f46a3911fa3c0805444483337064</th>\n",
       "      <td>3.0</td>\n",
       "    </tr>\n",
       "    <tr>\n",
       "      <th>0000f6ccb0745a6a4b88665a16c9f078</th>\n",
       "      <td>4.0</td>\n",
       "    </tr>\n",
       "    <tr>\n",
       "      <th>0004aac84e0df4da2b147fca70cf8255</th>\n",
       "      <td>5.0</td>\n",
       "    </tr>\n",
       "  </tbody>\n",
       "</table>\n",
       "</div>"
      ],
      "text/plain": [
       "                                  review_score\n",
       "customer_unique_id                            \n",
       "0000366f3b9a7992bf8c76cfdf3221e2           5.0\n",
       "0000b849f77a49e4a4ce2b2a4ca5be3f           4.0\n",
       "0000f46a3911fa3c0805444483337064           3.0\n",
       "0000f6ccb0745a6a4b88665a16c9f078           4.0\n",
       "0004aac84e0df4da2b147fca70cf8255           5.0"
      ]
     },
     "execution_count": 109,
     "metadata": {},
     "output_type": "execute_result"
    }
   ],
   "source": [
    "# Note moyenne attribuée par chaque client\n",
    "scores = scores.groupby(by='customer_unique_id').mean()\n",
    "scores.head()"
   ]
  },
  {
   "cell_type": "code",
   "execution_count": 110,
   "id": "a2d9c4e2",
   "metadata": {
    "ExecuteTime": {
     "end_time": "2022-10-23T09:58:55.326915Z",
     "start_time": "2022-10-23T09:58:55.278991Z"
    }
   },
   "outputs": [
    {
     "data": {
      "text/html": [
       "<div>\n",
       "<style scoped>\n",
       "    .dataframe tbody tr th:only-of-type {\n",
       "        vertical-align: middle;\n",
       "    }\n",
       "\n",
       "    .dataframe tbody tr th {\n",
       "        vertical-align: top;\n",
       "    }\n",
       "\n",
       "    .dataframe thead th {\n",
       "        text-align: right;\n",
       "    }\n",
       "</style>\n",
       "<table border=\"1\" class=\"dataframe\">\n",
       "  <thead>\n",
       "    <tr style=\"text-align: right;\">\n",
       "      <th></th>\n",
       "      <th>recency</th>\n",
       "      <th>frequency</th>\n",
       "      <th>mean_spending</th>\n",
       "      <th>review_score</th>\n",
       "    </tr>\n",
       "    <tr>\n",
       "      <th>customer_unique_id</th>\n",
       "      <th></th>\n",
       "      <th></th>\n",
       "      <th></th>\n",
       "      <th></th>\n",
       "    </tr>\n",
       "  </thead>\n",
       "  <tbody>\n",
       "    <tr>\n",
       "      <th>4b3207464f5f7a48a7f63fa0b1251d86</th>\n",
       "      <td>601</td>\n",
       "      <td>1</td>\n",
       "      <td>9.9</td>\n",
       "      <td>5.0</td>\n",
       "    </tr>\n",
       "    <tr>\n",
       "      <th>527cd2850ef91088969ffbef0103dec3</th>\n",
       "      <td>601</td>\n",
       "      <td>1</td>\n",
       "      <td>11.9</td>\n",
       "      <td>5.0</td>\n",
       "    </tr>\n",
       "    <tr>\n",
       "      <th>29a63a400c3ca9982907ce8de1f19527</th>\n",
       "      <td>601</td>\n",
       "      <td>1</td>\n",
       "      <td>10.9</td>\n",
       "      <td>5.0</td>\n",
       "    </tr>\n",
       "    <tr>\n",
       "      <th>b6b2c3c8fd76769b478618a3c2505009</th>\n",
       "      <td>601</td>\n",
       "      <td>1</td>\n",
       "      <td>10.9</td>\n",
       "      <td>5.0</td>\n",
       "    </tr>\n",
       "    <tr>\n",
       "      <th>f7be9bec658c62ab6240b44cd26c0b84</th>\n",
       "      <td>601</td>\n",
       "      <td>2</td>\n",
       "      <td>10.4</td>\n",
       "      <td>5.0</td>\n",
       "    </tr>\n",
       "  </tbody>\n",
       "</table>\n",
       "</div>"
      ],
      "text/plain": [
       "                                  recency  frequency  mean_spending  \\\n",
       "customer_unique_id                                                    \n",
       "4b3207464f5f7a48a7f63fa0b1251d86      601          1            9.9   \n",
       "527cd2850ef91088969ffbef0103dec3      601          1           11.9   \n",
       "29a63a400c3ca9982907ce8de1f19527      601          1           10.9   \n",
       "b6b2c3c8fd76769b478618a3c2505009      601          1           10.9   \n",
       "f7be9bec658c62ab6240b44cd26c0b84      601          2           10.4   \n",
       "\n",
       "                                  review_score  \n",
       "customer_unique_id                              \n",
       "4b3207464f5f7a48a7f63fa0b1251d86           5.0  \n",
       "527cd2850ef91088969ffbef0103dec3           5.0  \n",
       "29a63a400c3ca9982907ce8de1f19527           5.0  \n",
       "b6b2c3c8fd76769b478618a3c2505009           5.0  \n",
       "f7be9bec658c62ab6240b44cd26c0b84           5.0  "
      ]
     },
     "execution_count": 110,
     "metadata": {},
     "output_type": "execute_result"
    }
   ],
   "source": [
    "# RFMS avec le S pour 'Score'\n",
    "df_rfms = df_rfm.join(scores)\n",
    "df_rfms.head()"
   ]
  },
  {
   "cell_type": "code",
   "execution_count": 111,
   "id": "a1d66cb8",
   "metadata": {
    "ExecuteTime": {
     "end_time": "2022-10-23T09:58:55.567629Z",
     "start_time": "2022-10-23T09:58:55.329190Z"
    }
   },
   "outputs": [],
   "source": [
    "df_rfms.to_csv('df_rfms.csv')"
   ]
  },
  {
   "cell_type": "markdown",
   "id": "bf0fdc15",
   "metadata": {},
   "source": [
    "## Nombre d'article achetés"
   ]
  },
  {
   "cell_type": "markdown",
   "id": "6625abd5",
   "metadata": {},
   "source": [
    "On rajoute ici le nombre total d'articles commandés par client"
   ]
  },
  {
   "cell_type": "code",
   "execution_count": 112,
   "id": "bbf1aa25",
   "metadata": {
    "ExecuteTime": {
     "end_time": "2022-10-23T09:59:02.358813Z",
     "start_time": "2022-10-23T09:58:55.569438Z"
    }
   },
   "outputs": [
    {
     "data": {
      "text/html": [
       "<div>\n",
       "<style scoped>\n",
       "    .dataframe tbody tr th:only-of-type {\n",
       "        vertical-align: middle;\n",
       "    }\n",
       "\n",
       "    .dataframe tbody tr th {\n",
       "        vertical-align: top;\n",
       "    }\n",
       "\n",
       "    .dataframe thead th {\n",
       "        text-align: right;\n",
       "    }\n",
       "</style>\n",
       "<table border=\"1\" class=\"dataframe\">\n",
       "  <thead>\n",
       "    <tr style=\"text-align: right;\">\n",
       "      <th></th>\n",
       "      <th>customer_unique_id</th>\n",
       "      <th>order_item_id</th>\n",
       "    </tr>\n",
       "    <tr>\n",
       "      <th>order_id</th>\n",
       "      <th></th>\n",
       "      <th></th>\n",
       "    </tr>\n",
       "  </thead>\n",
       "  <tbody>\n",
       "    <tr>\n",
       "      <th>00010242fe8c5a6d1ba2dd792cb16214</th>\n",
       "      <td>871766c5855e863f6eccc05f988b23cb</td>\n",
       "      <td>1</td>\n",
       "    </tr>\n",
       "    <tr>\n",
       "      <th>00018f77f2f0320c557190d7a144bdd3</th>\n",
       "      <td>eb28e67c4c0b83846050ddfb8a35d051</td>\n",
       "      <td>1</td>\n",
       "    </tr>\n",
       "    <tr>\n",
       "      <th>000229ec398224ef6ca0657da4fc703e</th>\n",
       "      <td>3818d81c6709e39d06b2738a8d3a2474</td>\n",
       "      <td>1</td>\n",
       "    </tr>\n",
       "    <tr>\n",
       "      <th>00024acbcdf0a6daa1e931b038114c75</th>\n",
       "      <td>af861d436cfc08b2c2ddefd0ba074622</td>\n",
       "      <td>1</td>\n",
       "    </tr>\n",
       "    <tr>\n",
       "      <th>00042b26cf59d7ce69dfabb4e55b4fd9</th>\n",
       "      <td>64b576fb70d441e8f1b2d7d446e483c5</td>\n",
       "      <td>1</td>\n",
       "    </tr>\n",
       "  </tbody>\n",
       "</table>\n",
       "</div>"
      ],
      "text/plain": [
       "                                                customer_unique_id  \\\n",
       "order_id                                                             \n",
       "00010242fe8c5a6d1ba2dd792cb16214  871766c5855e863f6eccc05f988b23cb   \n",
       "00018f77f2f0320c557190d7a144bdd3  eb28e67c4c0b83846050ddfb8a35d051   \n",
       "000229ec398224ef6ca0657da4fc703e  3818d81c6709e39d06b2738a8d3a2474   \n",
       "00024acbcdf0a6daa1e931b038114c75  af861d436cfc08b2c2ddefd0ba074622   \n",
       "00042b26cf59d7ce69dfabb4e55b4fd9  64b576fb70d441e8f1b2d7d446e483c5   \n",
       "\n",
       "                                  order_item_id  \n",
       "order_id                                         \n",
       "00010242fe8c5a6d1ba2dd792cb16214              1  \n",
       "00018f77f2f0320c557190d7a144bdd3              1  \n",
       "000229ec398224ef6ca0657da4fc703e              1  \n",
       "00024acbcdf0a6daa1e931b038114c75              1  \n",
       "00042b26cf59d7ce69dfabb4e55b4fd9              1  "
      ]
     },
     "execution_count": 112,
     "metadata": {},
     "output_type": "execute_result"
    }
   ],
   "source": [
    "# On regroupe par commande et prend la valeur max de la colonne 'order_item_id' pour obtenir le nombre \n",
    "# d'articles dans la commande\n",
    "items_per_order = df[['order_id', 'customer_unique_id', 'order_item_id']].groupby('order_id').max()\n",
    "items_per_order.head()"
   ]
  },
  {
   "cell_type": "code",
   "execution_count": 113,
   "id": "28cb920b",
   "metadata": {
    "ExecuteTime": {
     "end_time": "2022-10-23T09:59:02.363645Z",
     "start_time": "2022-10-23T09:59:02.360523Z"
    }
   },
   "outputs": [
    {
     "data": {
      "text/plain": [
       "(94212, 2)"
      ]
     },
     "execution_count": 113,
     "metadata": {},
     "output_type": "execute_result"
    }
   ],
   "source": [
    "items_per_order.shape"
   ]
  },
  {
   "cell_type": "code",
   "execution_count": 114,
   "id": "05170f7e",
   "metadata": {
    "ExecuteTime": {
     "end_time": "2022-10-23T09:59:02.536708Z",
     "start_time": "2022-10-23T09:59:02.365222Z"
    }
   },
   "outputs": [
    {
     "data": {
      "text/html": [
       "<div>\n",
       "<style scoped>\n",
       "    .dataframe tbody tr th:only-of-type {\n",
       "        vertical-align: middle;\n",
       "    }\n",
       "\n",
       "    .dataframe tbody tr th {\n",
       "        vertical-align: top;\n",
       "    }\n",
       "\n",
       "    .dataframe thead th {\n",
       "        text-align: right;\n",
       "    }\n",
       "</style>\n",
       "<table border=\"1\" class=\"dataframe\">\n",
       "  <thead>\n",
       "    <tr style=\"text-align: right;\">\n",
       "      <th></th>\n",
       "      <th>total_items</th>\n",
       "    </tr>\n",
       "    <tr>\n",
       "      <th>customer_unique_id</th>\n",
       "      <th></th>\n",
       "    </tr>\n",
       "  </thead>\n",
       "  <tbody>\n",
       "    <tr>\n",
       "      <th>0000366f3b9a7992bf8c76cfdf3221e2</th>\n",
       "      <td>1</td>\n",
       "    </tr>\n",
       "    <tr>\n",
       "      <th>0000b849f77a49e4a4ce2b2a4ca5be3f</th>\n",
       "      <td>1</td>\n",
       "    </tr>\n",
       "    <tr>\n",
       "      <th>0000f46a3911fa3c0805444483337064</th>\n",
       "      <td>1</td>\n",
       "    </tr>\n",
       "    <tr>\n",
       "      <th>0000f6ccb0745a6a4b88665a16c9f078</th>\n",
       "      <td>1</td>\n",
       "    </tr>\n",
       "    <tr>\n",
       "      <th>0004aac84e0df4da2b147fca70cf8255</th>\n",
       "      <td>1</td>\n",
       "    </tr>\n",
       "  </tbody>\n",
       "</table>\n",
       "</div>"
      ],
      "text/plain": [
       "                                  total_items\n",
       "customer_unique_id                           \n",
       "0000366f3b9a7992bf8c76cfdf3221e2            1\n",
       "0000b849f77a49e4a4ce2b2a4ca5be3f            1\n",
       "0000f46a3911fa3c0805444483337064            1\n",
       "0000f6ccb0745a6a4b88665a16c9f078            1\n",
       "0004aac84e0df4da2b147fca70cf8255            1"
      ]
     },
     "execution_count": 114,
     "metadata": {},
     "output_type": "execute_result"
    }
   ],
   "source": [
    "# On somme sur la colonne 'customer_unique_id' pour obtenir le nombre d'articles commandés par client\n",
    "total_items = items_per_order.groupby(by='customer_unique_id').sum()\n",
    "total_items.columns = ['total_items']\n",
    "total_items.head()"
   ]
  },
  {
   "cell_type": "code",
   "execution_count": 115,
   "id": "34bad65d",
   "metadata": {
    "ExecuteTime": {
     "end_time": "2022-10-23T09:59:02.583729Z",
     "start_time": "2022-10-23T09:59:02.538744Z"
    }
   },
   "outputs": [
    {
     "data": {
      "text/html": [
       "<div>\n",
       "<style scoped>\n",
       "    .dataframe tbody tr th:only-of-type {\n",
       "        vertical-align: middle;\n",
       "    }\n",
       "\n",
       "    .dataframe tbody tr th {\n",
       "        vertical-align: top;\n",
       "    }\n",
       "\n",
       "    .dataframe thead th {\n",
       "        text-align: right;\n",
       "    }\n",
       "</style>\n",
       "<table border=\"1\" class=\"dataframe\">\n",
       "  <thead>\n",
       "    <tr style=\"text-align: right;\">\n",
       "      <th></th>\n",
       "      <th>recency</th>\n",
       "      <th>frequency</th>\n",
       "      <th>mean_spending</th>\n",
       "      <th>review_score</th>\n",
       "      <th>total_items</th>\n",
       "    </tr>\n",
       "    <tr>\n",
       "      <th>customer_unique_id</th>\n",
       "      <th></th>\n",
       "      <th></th>\n",
       "      <th></th>\n",
       "      <th></th>\n",
       "      <th></th>\n",
       "    </tr>\n",
       "  </thead>\n",
       "  <tbody>\n",
       "    <tr>\n",
       "      <th>4b3207464f5f7a48a7f63fa0b1251d86</th>\n",
       "      <td>601</td>\n",
       "      <td>1</td>\n",
       "      <td>9.9</td>\n",
       "      <td>5.0</td>\n",
       "      <td>1</td>\n",
       "    </tr>\n",
       "    <tr>\n",
       "      <th>527cd2850ef91088969ffbef0103dec3</th>\n",
       "      <td>601</td>\n",
       "      <td>1</td>\n",
       "      <td>11.9</td>\n",
       "      <td>5.0</td>\n",
       "      <td>1</td>\n",
       "    </tr>\n",
       "    <tr>\n",
       "      <th>29a63a400c3ca9982907ce8de1f19527</th>\n",
       "      <td>601</td>\n",
       "      <td>1</td>\n",
       "      <td>10.9</td>\n",
       "      <td>5.0</td>\n",
       "      <td>1</td>\n",
       "    </tr>\n",
       "    <tr>\n",
       "      <th>b6b2c3c8fd76769b478618a3c2505009</th>\n",
       "      <td>601</td>\n",
       "      <td>1</td>\n",
       "      <td>10.9</td>\n",
       "      <td>5.0</td>\n",
       "      <td>1</td>\n",
       "    </tr>\n",
       "    <tr>\n",
       "      <th>f7be9bec658c62ab6240b44cd26c0b84</th>\n",
       "      <td>601</td>\n",
       "      <td>2</td>\n",
       "      <td>10.4</td>\n",
       "      <td>5.0</td>\n",
       "      <td>2</td>\n",
       "    </tr>\n",
       "  </tbody>\n",
       "</table>\n",
       "</div>"
      ],
      "text/plain": [
       "                                  recency  frequency  mean_spending  \\\n",
       "customer_unique_id                                                    \n",
       "4b3207464f5f7a48a7f63fa0b1251d86      601          1            9.9   \n",
       "527cd2850ef91088969ffbef0103dec3      601          1           11.9   \n",
       "29a63a400c3ca9982907ce8de1f19527      601          1           10.9   \n",
       "b6b2c3c8fd76769b478618a3c2505009      601          1           10.9   \n",
       "f7be9bec658c62ab6240b44cd26c0b84      601          2           10.4   \n",
       "\n",
       "                                  review_score  total_items  \n",
       "customer_unique_id                                           \n",
       "4b3207464f5f7a48a7f63fa0b1251d86           5.0            1  \n",
       "527cd2850ef91088969ffbef0103dec3           5.0            1  \n",
       "29a63a400c3ca9982907ce8de1f19527           5.0            1  \n",
       "b6b2c3c8fd76769b478618a3c2505009           5.0            1  \n",
       "f7be9bec658c62ab6240b44cd26c0b84           5.0            2  "
      ]
     },
     "execution_count": 115,
     "metadata": {},
     "output_type": "execute_result"
    }
   ],
   "source": [
    "df_rfmst = df_rfms.join(total_items)\n",
    "df_rfmst.head()"
   ]
  },
  {
   "cell_type": "code",
   "execution_count": 116,
   "id": "a0c89b39",
   "metadata": {
    "ExecuteTime": {
     "end_time": "2022-10-23T09:59:02.836628Z",
     "start_time": "2022-10-23T09:59:02.585978Z"
    }
   },
   "outputs": [],
   "source": [
    "# Récence - Fréquence - Montant - Score - Total des articles\n",
    "df_rfmst.to_csv('df_rfmst.csv')"
   ]
  },
  {
   "cell_type": "markdown",
   "id": "175aeed6",
   "metadata": {},
   "source": [
    "## Nombre d'articles par commandes"
   ]
  },
  {
   "cell_type": "markdown",
   "id": "a33531e2",
   "metadata": {},
   "source": [
    "Cette fois, plutôt que de prendre le nombre total d'articles, on va prendre le nombre d'articles par commande par client"
   ]
  },
  {
   "cell_type": "code",
   "execution_count": 117,
   "id": "78870376",
   "metadata": {
    "ExecuteTime": {
     "end_time": "2022-10-23T09:59:03.004872Z",
     "start_time": "2022-10-23T09:59:02.838449Z"
    }
   },
   "outputs": [
    {
     "data": {
      "text/html": [
       "<div>\n",
       "<style scoped>\n",
       "    .dataframe tbody tr th:only-of-type {\n",
       "        vertical-align: middle;\n",
       "    }\n",
       "\n",
       "    .dataframe tbody tr th {\n",
       "        vertical-align: top;\n",
       "    }\n",
       "\n",
       "    .dataframe thead th {\n",
       "        text-align: right;\n",
       "    }\n",
       "</style>\n",
       "<table border=\"1\" class=\"dataframe\">\n",
       "  <thead>\n",
       "    <tr style=\"text-align: right;\">\n",
       "      <th></th>\n",
       "      <th>items_per_order</th>\n",
       "    </tr>\n",
       "    <tr>\n",
       "      <th>customer_unique_id</th>\n",
       "      <th></th>\n",
       "    </tr>\n",
       "  </thead>\n",
       "  <tbody>\n",
       "    <tr>\n",
       "      <th>0000366f3b9a7992bf8c76cfdf3221e2</th>\n",
       "      <td>1</td>\n",
       "    </tr>\n",
       "    <tr>\n",
       "      <th>0000b849f77a49e4a4ce2b2a4ca5be3f</th>\n",
       "      <td>1</td>\n",
       "    </tr>\n",
       "    <tr>\n",
       "      <th>0000f46a3911fa3c0805444483337064</th>\n",
       "      <td>1</td>\n",
       "    </tr>\n",
       "    <tr>\n",
       "      <th>0000f6ccb0745a6a4b88665a16c9f078</th>\n",
       "      <td>1</td>\n",
       "    </tr>\n",
       "    <tr>\n",
       "      <th>0004aac84e0df4da2b147fca70cf8255</th>\n",
       "      <td>1</td>\n",
       "    </tr>\n",
       "  </tbody>\n",
       "</table>\n",
       "</div>"
      ],
      "text/plain": [
       "                                  items_per_order\n",
       "customer_unique_id                               \n",
       "0000366f3b9a7992bf8c76cfdf3221e2                1\n",
       "0000b849f77a49e4a4ce2b2a4ca5be3f                1\n",
       "0000f46a3911fa3c0805444483337064                1\n",
       "0000f6ccb0745a6a4b88665a16c9f078                1\n",
       "0004aac84e0df4da2b147fca70cf8255                1"
      ]
     },
     "execution_count": 117,
     "metadata": {},
     "output_type": "execute_result"
    }
   ],
   "source": [
    "items_per_order_client = items_per_order.groupby(by='customer_unique_id').mean()\n",
    "items_per_order_client.columns = ['items_per_order']\n",
    "items_per_order_client['items_per_order'] = items_per_order_client['items_per_order'].astype('int') # on arrondie\n",
    "items_per_order_client.head()"
   ]
  },
  {
   "cell_type": "code",
   "execution_count": 118,
   "id": "a315cbc1",
   "metadata": {
    "ExecuteTime": {
     "end_time": "2022-10-23T09:59:03.053658Z",
     "start_time": "2022-10-23T09:59:03.006896Z"
    }
   },
   "outputs": [
    {
     "data": {
      "text/html": [
       "<div>\n",
       "<style scoped>\n",
       "    .dataframe tbody tr th:only-of-type {\n",
       "        vertical-align: middle;\n",
       "    }\n",
       "\n",
       "    .dataframe tbody tr th {\n",
       "        vertical-align: top;\n",
       "    }\n",
       "\n",
       "    .dataframe thead th {\n",
       "        text-align: right;\n",
       "    }\n",
       "</style>\n",
       "<table border=\"1\" class=\"dataframe\">\n",
       "  <thead>\n",
       "    <tr style=\"text-align: right;\">\n",
       "      <th></th>\n",
       "      <th>recency</th>\n",
       "      <th>frequency</th>\n",
       "      <th>mean_spending</th>\n",
       "      <th>review_score</th>\n",
       "      <th>items_per_order</th>\n",
       "    </tr>\n",
       "    <tr>\n",
       "      <th>customer_unique_id</th>\n",
       "      <th></th>\n",
       "      <th></th>\n",
       "      <th></th>\n",
       "      <th></th>\n",
       "      <th></th>\n",
       "    </tr>\n",
       "  </thead>\n",
       "  <tbody>\n",
       "    <tr>\n",
       "      <th>4b3207464f5f7a48a7f63fa0b1251d86</th>\n",
       "      <td>601</td>\n",
       "      <td>1</td>\n",
       "      <td>9.9</td>\n",
       "      <td>5.0</td>\n",
       "      <td>1</td>\n",
       "    </tr>\n",
       "    <tr>\n",
       "      <th>527cd2850ef91088969ffbef0103dec3</th>\n",
       "      <td>601</td>\n",
       "      <td>1</td>\n",
       "      <td>11.9</td>\n",
       "      <td>5.0</td>\n",
       "      <td>1</td>\n",
       "    </tr>\n",
       "    <tr>\n",
       "      <th>29a63a400c3ca9982907ce8de1f19527</th>\n",
       "      <td>601</td>\n",
       "      <td>1</td>\n",
       "      <td>10.9</td>\n",
       "      <td>5.0</td>\n",
       "      <td>1</td>\n",
       "    </tr>\n",
       "    <tr>\n",
       "      <th>b6b2c3c8fd76769b478618a3c2505009</th>\n",
       "      <td>601</td>\n",
       "      <td>1</td>\n",
       "      <td>10.9</td>\n",
       "      <td>5.0</td>\n",
       "      <td>1</td>\n",
       "    </tr>\n",
       "    <tr>\n",
       "      <th>f7be9bec658c62ab6240b44cd26c0b84</th>\n",
       "      <td>601</td>\n",
       "      <td>2</td>\n",
       "      <td>10.4</td>\n",
       "      <td>5.0</td>\n",
       "      <td>1</td>\n",
       "    </tr>\n",
       "  </tbody>\n",
       "</table>\n",
       "</div>"
      ],
      "text/plain": [
       "                                  recency  frequency  mean_spending  \\\n",
       "customer_unique_id                                                    \n",
       "4b3207464f5f7a48a7f63fa0b1251d86      601          1            9.9   \n",
       "527cd2850ef91088969ffbef0103dec3      601          1           11.9   \n",
       "29a63a400c3ca9982907ce8de1f19527      601          1           10.9   \n",
       "b6b2c3c8fd76769b478618a3c2505009      601          1           10.9   \n",
       "f7be9bec658c62ab6240b44cd26c0b84      601          2           10.4   \n",
       "\n",
       "                                  review_score  items_per_order  \n",
       "customer_unique_id                                               \n",
       "4b3207464f5f7a48a7f63fa0b1251d86           5.0                1  \n",
       "527cd2850ef91088969ffbef0103dec3           5.0                1  \n",
       "29a63a400c3ca9982907ce8de1f19527           5.0                1  \n",
       "b6b2c3c8fd76769b478618a3c2505009           5.0                1  \n",
       "f7be9bec658c62ab6240b44cd26c0b84           5.0                1  "
      ]
     },
     "execution_count": 118,
     "metadata": {},
     "output_type": "execute_result"
    }
   ],
   "source": [
    "df_rfmsa = df_rfms.join(items_per_order_client)\n",
    "df_rfmsa.head()"
   ]
  },
  {
   "cell_type": "code",
   "execution_count": 119,
   "id": "cc86ce40",
   "metadata": {
    "ExecuteTime": {
     "end_time": "2022-10-23T09:59:03.330733Z",
     "start_time": "2022-10-23T09:59:03.056022Z"
    }
   },
   "outputs": [],
   "source": [
    "# Récence - Fréquence - Montant - Score - Articles par commande\n",
    "df_rfmsa.to_csv('df_rfmsa.csv')"
   ]
  },
  {
   "cell_type": "code",
   "execution_count": 120,
   "id": "0424702f",
   "metadata": {
    "ExecuteTime": {
     "end_time": "2022-10-23T09:59:03.337343Z",
     "start_time": "2022-10-23T09:59:03.332805Z"
    }
   },
   "outputs": [
    {
     "data": {
      "text/plain": [
       "Timestamp('2018-08-29 00:00:00')"
      ]
     },
     "execution_count": 120,
     "metadata": {},
     "output_type": "execute_result"
    }
   ],
   "source": [
    "df['order_purchase_timestamp'].max()"
   ]
  },
  {
   "cell_type": "code",
   "execution_count": null,
   "id": "b9629022",
   "metadata": {},
   "outputs": [],
   "source": []
  }
 ],
 "metadata": {
  "kernelspec": {
   "display_name": "Python 3",
   "language": "python",
   "name": "python3"
  },
  "language_info": {
   "codemirror_mode": {
    "name": "ipython",
    "version": 3
   },
   "file_extension": ".py",
   "mimetype": "text/x-python",
   "name": "python",
   "nbconvert_exporter": "python",
   "pygments_lexer": "ipython3",
   "version": "3.9.4"
  },
  "toc": {
   "base_numbering": 1,
   "nav_menu": {},
   "number_sections": true,
   "sideBar": true,
   "skip_h1_title": false,
   "title_cell": "Table of Contents",
   "title_sidebar": "Contents",
   "toc_cell": false,
   "toc_position": {
    "height": "calc(100% - 180px)",
    "left": "10px",
    "top": "150px",
    "width": "286.719px"
   },
   "toc_section_display": true,
   "toc_window_display": true
  }
 },
 "nbformat": 4,
 "nbformat_minor": 5
}
