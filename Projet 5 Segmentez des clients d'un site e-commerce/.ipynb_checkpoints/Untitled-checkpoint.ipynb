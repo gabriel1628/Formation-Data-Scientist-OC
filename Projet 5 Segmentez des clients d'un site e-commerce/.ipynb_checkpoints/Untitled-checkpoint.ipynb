{
 "cells": [
  {
   "cell_type": "code",
   "execution_count": null,
   "id": "76c535db",
   "metadata": {},
   "outputs": [],
   "source": [
    "largeur = 2.03 + 3.48 + 3.05 + 4.83\n",
    "largeur = largeur * 3.05\n",
    "largeur\n",
    "\n",
    "longueur = 4.96 + 4.29 + 2.78 + 4.01 + 4.2 + 4.09 + 2.43\n",
    "longueur = longueur * 3.05\n",
    "longueur\n",
    "\n",
    "41 * 84\n",
    "\n",
    "m10 = 1.93\n",
    "\n",
    "l = np.sqrt(6.68**2 + 4.59**2)\n",
    "l / m10"
   ]
  }
 ],
 "metadata": {
  "kernelspec": {
   "display_name": "Python 3",
   "language": "python",
   "name": "python3"
  },
  "language_info": {
   "codemirror_mode": {
    "name": "ipython",
    "version": 3
   },
   "file_extension": ".py",
   "mimetype": "text/x-python",
   "name": "python",
   "nbconvert_exporter": "python",
   "pygments_lexer": "ipython3",
   "version": "3.9.4"
  },
  "toc": {
   "base_numbering": 1,
   "nav_menu": {},
   "number_sections": true,
   "sideBar": true,
   "skip_h1_title": false,
   "title_cell": "Table of Contents",
   "title_sidebar": "Contents",
   "toc_cell": false,
   "toc_position": {},
   "toc_section_display": true,
   "toc_window_display": false
  }
 },
 "nbformat": 4,
 "nbformat_minor": 5
}
