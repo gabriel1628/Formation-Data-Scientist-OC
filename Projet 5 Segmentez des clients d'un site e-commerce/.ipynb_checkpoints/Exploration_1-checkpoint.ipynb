{
 "cells": [
  {
   "cell_type": "code",
   "execution_count": 612,
   "id": "6f43e130",
   "metadata": {
    "ExecuteTime": {
     "end_time": "2022-08-05T08:38:01.106736Z",
     "start_time": "2022-08-05T08:38:01.103106Z"
    }
   },
   "outputs": [],
   "source": [
    "import numpy as np\n",
    "import pandas as pd\n",
    "\n",
    "import matplotlib.pyplot as plt\n",
    "\n",
    "import seaborn as sns\n",
    "sns.set_theme()\n",
    "sns.set_color_codes('deep')"
   ]
  },
  {
   "cell_type": "markdown",
   "id": "3ebe3ff8",
   "metadata": {},
   "source": [
    "# Data sets"
   ]
  },
  {
   "cell_type": "markdown",
   "id": "d8e7a07b",
   "metadata": {},
   "source": [
    "## Customers"
   ]
  },
  {
   "cell_type": "code",
   "execution_count": 613,
   "id": "633e2c52",
   "metadata": {
    "ExecuteTime": {
     "end_time": "2022-08-05T08:38:01.280380Z",
     "start_time": "2022-08-05T08:38:01.109185Z"
    }
   },
   "outputs": [
    {
     "data": {
      "text/html": [
       "<div>\n",
       "<style scoped>\n",
       "    .dataframe tbody tr th:only-of-type {\n",
       "        vertical-align: middle;\n",
       "    }\n",
       "\n",
       "    .dataframe tbody tr th {\n",
       "        vertical-align: top;\n",
       "    }\n",
       "\n",
       "    .dataframe thead th {\n",
       "        text-align: right;\n",
       "    }\n",
       "</style>\n",
       "<table border=\"1\" class=\"dataframe\">\n",
       "  <thead>\n",
       "    <tr style=\"text-align: right;\">\n",
       "      <th></th>\n",
       "      <th>customer_id</th>\n",
       "      <th>customer_unique_id</th>\n",
       "      <th>customer_zip_code_prefix</th>\n",
       "      <th>customer_city</th>\n",
       "      <th>customer_state</th>\n",
       "    </tr>\n",
       "  </thead>\n",
       "  <tbody>\n",
       "    <tr>\n",
       "      <th>0</th>\n",
       "      <td>06b8999e2fba1a1fbc88172c00ba8bc7</td>\n",
       "      <td>861eff4711a542e4b93843c6dd7febb0</td>\n",
       "      <td>14409</td>\n",
       "      <td>franca</td>\n",
       "      <td>SP</td>\n",
       "    </tr>\n",
       "    <tr>\n",
       "      <th>1</th>\n",
       "      <td>18955e83d337fd6b2def6b18a428ac77</td>\n",
       "      <td>290c77bc529b7ac935b93aa66c333dc3</td>\n",
       "      <td>9790</td>\n",
       "      <td>sao bernardo do campo</td>\n",
       "      <td>SP</td>\n",
       "    </tr>\n",
       "    <tr>\n",
       "      <th>2</th>\n",
       "      <td>4e7b3e00288586ebd08712fdd0374a03</td>\n",
       "      <td>060e732b5b29e8181a18229c7b0b2b5e</td>\n",
       "      <td>1151</td>\n",
       "      <td>sao paulo</td>\n",
       "      <td>SP</td>\n",
       "    </tr>\n",
       "    <tr>\n",
       "      <th>3</th>\n",
       "      <td>b2b6027bc5c5109e529d4dc6358b12c3</td>\n",
       "      <td>259dac757896d24d7702b9acbbff3f3c</td>\n",
       "      <td>8775</td>\n",
       "      <td>mogi das cruzes</td>\n",
       "      <td>SP</td>\n",
       "    </tr>\n",
       "    <tr>\n",
       "      <th>4</th>\n",
       "      <td>4f2d8ab171c80ec8364f7c12e35b23ad</td>\n",
       "      <td>345ecd01c38d18a9036ed96c73b8d066</td>\n",
       "      <td>13056</td>\n",
       "      <td>campinas</td>\n",
       "      <td>SP</td>\n",
       "    </tr>\n",
       "  </tbody>\n",
       "</table>\n",
       "</div>"
      ],
      "text/plain": [
       "                        customer_id                customer_unique_id  \\\n",
       "0  06b8999e2fba1a1fbc88172c00ba8bc7  861eff4711a542e4b93843c6dd7febb0   \n",
       "1  18955e83d337fd6b2def6b18a428ac77  290c77bc529b7ac935b93aa66c333dc3   \n",
       "2  4e7b3e00288586ebd08712fdd0374a03  060e732b5b29e8181a18229c7b0b2b5e   \n",
       "3  b2b6027bc5c5109e529d4dc6358b12c3  259dac757896d24d7702b9acbbff3f3c   \n",
       "4  4f2d8ab171c80ec8364f7c12e35b23ad  345ecd01c38d18a9036ed96c73b8d066   \n",
       "\n",
       "   customer_zip_code_prefix          customer_city customer_state  \n",
       "0                     14409                 franca             SP  \n",
       "1                      9790  sao bernardo do campo             SP  \n",
       "2                      1151              sao paulo             SP  \n",
       "3                      8775        mogi das cruzes             SP  \n",
       "4                     13056               campinas             SP  "
      ]
     },
     "execution_count": 613,
     "metadata": {},
     "output_type": "execute_result"
    }
   ],
   "source": [
    "customers = pd.read_csv('data/olist_customers_dataset.csv')\n",
    "customers.head()"
   ]
  },
  {
   "cell_type": "code",
   "execution_count": 614,
   "id": "6b5c1eb4",
   "metadata": {
    "ExecuteTime": {
     "end_time": "2022-08-05T08:38:01.286869Z",
     "start_time": "2022-08-05T08:38:01.283139Z"
    }
   },
   "outputs": [
    {
     "data": {
      "text/plain": [
       "(99441, 5)"
      ]
     },
     "execution_count": 614,
     "metadata": {},
     "output_type": "execute_result"
    }
   ],
   "source": [
    "customers.shape"
   ]
  },
  {
   "cell_type": "code",
   "execution_count": 615,
   "id": "8011e92c",
   "metadata": {
    "ExecuteTime": {
     "end_time": "2022-08-05T08:38:01.293797Z",
     "start_time": "2022-08-05T08:38:01.289133Z"
    }
   },
   "outputs": [
    {
     "data": {
      "text/plain": [
       "customer_id                 object\n",
       "customer_unique_id          object\n",
       "customer_zip_code_prefix     int64\n",
       "customer_city               object\n",
       "customer_state              object\n",
       "dtype: object"
      ]
     },
     "execution_count": 615,
     "metadata": {},
     "output_type": "execute_result"
    }
   ],
   "source": [
    "customers.dtypes"
   ]
  },
  {
   "cell_type": "code",
   "execution_count": 616,
   "id": "bda92989",
   "metadata": {
    "ExecuteTime": {
     "end_time": "2022-08-05T08:38:01.353461Z",
     "start_time": "2022-08-05T08:38:01.295558Z"
    }
   },
   "outputs": [
    {
     "name": "stdout",
     "output_type": "stream",
     "text": [
      "customer_id--------------------------------------- 99441\n",
      "customer_unique_id-------------------------------- 96096\n",
      "customer_zip_code_prefix-------------------------- 14994\n",
      "customer_city------------------------------------- 4119\n",
      "customer_state------------------------------------ 27\n"
     ]
    }
   ],
   "source": [
    "for col in customers.columns:\n",
    "    print(f'{col :-<50} {customers[col].unique().size}')"
   ]
  },
  {
   "cell_type": "code",
   "execution_count": 617,
   "id": "1cb6c525",
   "metadata": {
    "ExecuteTime": {
     "end_time": "2022-08-05T08:38:01.374534Z",
     "start_time": "2022-08-05T08:38:01.355443Z"
    }
   },
   "outputs": [
    {
     "data": {
      "text/plain": [
       "3345"
      ]
     },
     "execution_count": 617,
     "metadata": {},
     "output_type": "execute_result"
    }
   ],
   "source": [
    "customers['customer_unique_id'].duplicated().sum()"
   ]
  },
  {
   "cell_type": "code",
   "execution_count": 618,
   "id": "60a70b66",
   "metadata": {
    "ExecuteTime": {
     "end_time": "2022-08-05T08:38:01.446111Z",
     "start_time": "2022-08-05T08:38:01.378981Z"
    }
   },
   "outputs": [
    {
     "data": {
      "text/plain": [
       "customer_id                 0.0\n",
       "customer_unique_id          0.0\n",
       "customer_zip_code_prefix    0.0\n",
       "customer_city               0.0\n",
       "customer_state              0.0\n",
       "dtype: float64"
      ]
     },
     "execution_count": 618,
     "metadata": {},
     "output_type": "execute_result"
    }
   ],
   "source": [
    "customers.isna().mean()"
   ]
  },
  {
   "cell_type": "markdown",
   "id": "820b44e4",
   "metadata": {},
   "source": [
    "## Geolocation"
   ]
  },
  {
   "cell_type": "code",
   "execution_count": 619,
   "id": "a9e6542c",
   "metadata": {
    "ExecuteTime": {
     "end_time": "2022-08-05T08:38:02.051613Z",
     "start_time": "2022-08-05T08:38:01.449215Z"
    }
   },
   "outputs": [
    {
     "data": {
      "text/html": [
       "<div>\n",
       "<style scoped>\n",
       "    .dataframe tbody tr th:only-of-type {\n",
       "        vertical-align: middle;\n",
       "    }\n",
       "\n",
       "    .dataframe tbody tr th {\n",
       "        vertical-align: top;\n",
       "    }\n",
       "\n",
       "    .dataframe thead th {\n",
       "        text-align: right;\n",
       "    }\n",
       "</style>\n",
       "<table border=\"1\" class=\"dataframe\">\n",
       "  <thead>\n",
       "    <tr style=\"text-align: right;\">\n",
       "      <th></th>\n",
       "      <th>geolocation_zip_code_prefix</th>\n",
       "      <th>geolocation_lat</th>\n",
       "      <th>geolocation_lng</th>\n",
       "      <th>geolocation_city</th>\n",
       "      <th>geolocation_state</th>\n",
       "    </tr>\n",
       "  </thead>\n",
       "  <tbody>\n",
       "    <tr>\n",
       "      <th>0</th>\n",
       "      <td>1037</td>\n",
       "      <td>-23.545621</td>\n",
       "      <td>-46.639292</td>\n",
       "      <td>sao paulo</td>\n",
       "      <td>SP</td>\n",
       "    </tr>\n",
       "    <tr>\n",
       "      <th>1</th>\n",
       "      <td>1046</td>\n",
       "      <td>-23.546081</td>\n",
       "      <td>-46.644820</td>\n",
       "      <td>sao paulo</td>\n",
       "      <td>SP</td>\n",
       "    </tr>\n",
       "    <tr>\n",
       "      <th>2</th>\n",
       "      <td>1046</td>\n",
       "      <td>-23.546129</td>\n",
       "      <td>-46.642951</td>\n",
       "      <td>sao paulo</td>\n",
       "      <td>SP</td>\n",
       "    </tr>\n",
       "    <tr>\n",
       "      <th>3</th>\n",
       "      <td>1041</td>\n",
       "      <td>-23.544392</td>\n",
       "      <td>-46.639499</td>\n",
       "      <td>sao paulo</td>\n",
       "      <td>SP</td>\n",
       "    </tr>\n",
       "    <tr>\n",
       "      <th>4</th>\n",
       "      <td>1035</td>\n",
       "      <td>-23.541578</td>\n",
       "      <td>-46.641607</td>\n",
       "      <td>sao paulo</td>\n",
       "      <td>SP</td>\n",
       "    </tr>\n",
       "  </tbody>\n",
       "</table>\n",
       "</div>"
      ],
      "text/plain": [
       "   geolocation_zip_code_prefix  geolocation_lat  geolocation_lng  \\\n",
       "0                         1037       -23.545621       -46.639292   \n",
       "1                         1046       -23.546081       -46.644820   \n",
       "2                         1046       -23.546129       -46.642951   \n",
       "3                         1041       -23.544392       -46.639499   \n",
       "4                         1035       -23.541578       -46.641607   \n",
       "\n",
       "  geolocation_city geolocation_state  \n",
       "0        sao paulo                SP  \n",
       "1        sao paulo                SP  \n",
       "2        sao paulo                SP  \n",
       "3        sao paulo                SP  \n",
       "4        sao paulo                SP  "
      ]
     },
     "execution_count": 619,
     "metadata": {},
     "output_type": "execute_result"
    }
   ],
   "source": [
    "geolocation = pd.read_csv('data/olist_geolocation_dataset.csv')\n",
    "geolocation.head()"
   ]
  },
  {
   "cell_type": "code",
   "execution_count": 620,
   "id": "3f6ba9bc",
   "metadata": {
    "ExecuteTime": {
     "end_time": "2022-08-05T08:38:02.056531Z",
     "start_time": "2022-08-05T08:38:02.053390Z"
    }
   },
   "outputs": [
    {
     "data": {
      "text/plain": [
       "(1000163, 5)"
      ]
     },
     "execution_count": 620,
     "metadata": {},
     "output_type": "execute_result"
    }
   ],
   "source": [
    "geolocation.shape"
   ]
  },
  {
   "cell_type": "code",
   "execution_count": 621,
   "id": "4a9d3a4a",
   "metadata": {
    "ExecuteTime": {
     "end_time": "2022-08-05T08:38:02.310813Z",
     "start_time": "2022-08-05T08:38:02.058216Z"
    }
   },
   "outputs": [
    {
     "data": {
      "text/plain": [
       "geolocation_zip_code_prefix    0.0\n",
       "geolocation_lat                0.0\n",
       "geolocation_lng                0.0\n",
       "geolocation_city               0.0\n",
       "geolocation_state              0.0\n",
       "dtype: float64"
      ]
     },
     "execution_count": 621,
     "metadata": {},
     "output_type": "execute_result"
    }
   ],
   "source": [
    "geolocation.isna().mean()"
   ]
  },
  {
   "cell_type": "markdown",
   "id": "1148b085",
   "metadata": {},
   "source": [
    "## Items"
   ]
  },
  {
   "cell_type": "code",
   "execution_count": 622,
   "id": "d624bc40",
   "metadata": {
    "ExecuteTime": {
     "end_time": "2022-08-05T08:38:02.544006Z",
     "start_time": "2022-08-05T08:38:02.312572Z"
    }
   },
   "outputs": [
    {
     "data": {
      "text/html": [
       "<div>\n",
       "<style scoped>\n",
       "    .dataframe tbody tr th:only-of-type {\n",
       "        vertical-align: middle;\n",
       "    }\n",
       "\n",
       "    .dataframe tbody tr th {\n",
       "        vertical-align: top;\n",
       "    }\n",
       "\n",
       "    .dataframe thead th {\n",
       "        text-align: right;\n",
       "    }\n",
       "</style>\n",
       "<table border=\"1\" class=\"dataframe\">\n",
       "  <thead>\n",
       "    <tr style=\"text-align: right;\">\n",
       "      <th></th>\n",
       "      <th>order_id</th>\n",
       "      <th>order_item_id</th>\n",
       "      <th>product_id</th>\n",
       "      <th>seller_id</th>\n",
       "      <th>shipping_limit_date</th>\n",
       "      <th>price</th>\n",
       "      <th>freight_value</th>\n",
       "    </tr>\n",
       "  </thead>\n",
       "  <tbody>\n",
       "    <tr>\n",
       "      <th>0</th>\n",
       "      <td>00010242fe8c5a6d1ba2dd792cb16214</td>\n",
       "      <td>1</td>\n",
       "      <td>4244733e06e7ecb4970a6e2683c13e61</td>\n",
       "      <td>48436dade18ac8b2bce089ec2a041202</td>\n",
       "      <td>2017-09-19 09:45:35</td>\n",
       "      <td>58.90</td>\n",
       "      <td>13.29</td>\n",
       "    </tr>\n",
       "    <tr>\n",
       "      <th>1</th>\n",
       "      <td>00018f77f2f0320c557190d7a144bdd3</td>\n",
       "      <td>1</td>\n",
       "      <td>e5f2d52b802189ee658865ca93d83a8f</td>\n",
       "      <td>dd7ddc04e1b6c2c614352b383efe2d36</td>\n",
       "      <td>2017-05-03 11:05:13</td>\n",
       "      <td>239.90</td>\n",
       "      <td>19.93</td>\n",
       "    </tr>\n",
       "    <tr>\n",
       "      <th>2</th>\n",
       "      <td>000229ec398224ef6ca0657da4fc703e</td>\n",
       "      <td>1</td>\n",
       "      <td>c777355d18b72b67abbeef9df44fd0fd</td>\n",
       "      <td>5b51032eddd242adc84c38acab88f23d</td>\n",
       "      <td>2018-01-18 14:48:30</td>\n",
       "      <td>199.00</td>\n",
       "      <td>17.87</td>\n",
       "    </tr>\n",
       "    <tr>\n",
       "      <th>3</th>\n",
       "      <td>00024acbcdf0a6daa1e931b038114c75</td>\n",
       "      <td>1</td>\n",
       "      <td>7634da152a4610f1595efa32f14722fc</td>\n",
       "      <td>9d7a1d34a5052409006425275ba1c2b4</td>\n",
       "      <td>2018-08-15 10:10:18</td>\n",
       "      <td>12.99</td>\n",
       "      <td>12.79</td>\n",
       "    </tr>\n",
       "    <tr>\n",
       "      <th>4</th>\n",
       "      <td>00042b26cf59d7ce69dfabb4e55b4fd9</td>\n",
       "      <td>1</td>\n",
       "      <td>ac6c3623068f30de03045865e4e10089</td>\n",
       "      <td>df560393f3a51e74553ab94004ba5c87</td>\n",
       "      <td>2017-02-13 13:57:51</td>\n",
       "      <td>199.90</td>\n",
       "      <td>18.14</td>\n",
       "    </tr>\n",
       "  </tbody>\n",
       "</table>\n",
       "</div>"
      ],
      "text/plain": [
       "                           order_id  order_item_id  \\\n",
       "0  00010242fe8c5a6d1ba2dd792cb16214              1   \n",
       "1  00018f77f2f0320c557190d7a144bdd3              1   \n",
       "2  000229ec398224ef6ca0657da4fc703e              1   \n",
       "3  00024acbcdf0a6daa1e931b038114c75              1   \n",
       "4  00042b26cf59d7ce69dfabb4e55b4fd9              1   \n",
       "\n",
       "                         product_id                         seller_id  \\\n",
       "0  4244733e06e7ecb4970a6e2683c13e61  48436dade18ac8b2bce089ec2a041202   \n",
       "1  e5f2d52b802189ee658865ca93d83a8f  dd7ddc04e1b6c2c614352b383efe2d36   \n",
       "2  c777355d18b72b67abbeef9df44fd0fd  5b51032eddd242adc84c38acab88f23d   \n",
       "3  7634da152a4610f1595efa32f14722fc  9d7a1d34a5052409006425275ba1c2b4   \n",
       "4  ac6c3623068f30de03045865e4e10089  df560393f3a51e74553ab94004ba5c87   \n",
       "\n",
       "   shipping_limit_date   price  freight_value  \n",
       "0  2017-09-19 09:45:35   58.90          13.29  \n",
       "1  2017-05-03 11:05:13  239.90          19.93  \n",
       "2  2018-01-18 14:48:30  199.00          17.87  \n",
       "3  2018-08-15 10:10:18   12.99          12.79  \n",
       "4  2017-02-13 13:57:51  199.90          18.14  "
      ]
     },
     "execution_count": 622,
     "metadata": {},
     "output_type": "execute_result"
    }
   ],
   "source": [
    "items = pd.read_csv('data/olist_order_items_dataset.csv')\n",
    "items.head()"
   ]
  },
  {
   "cell_type": "code",
   "execution_count": 623,
   "id": "c93e1111",
   "metadata": {
    "ExecuteTime": {
     "end_time": "2022-08-05T08:38:02.549831Z",
     "start_time": "2022-08-05T08:38:02.546032Z"
    }
   },
   "outputs": [
    {
     "data": {
      "text/plain": [
       "(112650, 7)"
      ]
     },
     "execution_count": 623,
     "metadata": {},
     "output_type": "execute_result"
    }
   ],
   "source": [
    "items.shape"
   ]
  },
  {
   "cell_type": "code",
   "execution_count": 624,
   "id": "ef87343a",
   "metadata": {
    "ExecuteTime": {
     "end_time": "2022-08-05T08:38:02.556289Z",
     "start_time": "2022-08-05T08:38:02.551841Z"
    }
   },
   "outputs": [
    {
     "data": {
      "text/plain": [
       "order_id                object\n",
       "order_item_id            int64\n",
       "product_id              object\n",
       "seller_id               object\n",
       "shipping_limit_date     object\n",
       "price                  float64\n",
       "freight_value          float64\n",
       "dtype: object"
      ]
     },
     "execution_count": 624,
     "metadata": {},
     "output_type": "execute_result"
    }
   ],
   "source": [
    "items.dtypes"
   ]
  },
  {
   "cell_type": "code",
   "execution_count": 625,
   "id": "389ca99a",
   "metadata": {
    "ExecuteTime": {
     "end_time": "2022-08-05T08:38:02.626618Z",
     "start_time": "2022-08-05T08:38:02.557916Z"
    }
   },
   "outputs": [
    {
     "name": "stdout",
     "output_type": "stream",
     "text": [
      "order_id------------------------------------------ 98666\n",
      "order_item_id------------------------------------- 21\n",
      "product_id---------------------------------------- 32951\n",
      "seller_id----------------------------------------- 3095\n",
      "shipping_limit_date------------------------------- 93318\n",
      "price--------------------------------------------- 5968\n",
      "freight_value------------------------------------- 6999\n"
     ]
    }
   ],
   "source": [
    "for col in items.columns:\n",
    "    print(f'{col :-<50} {items[col].unique().size}')"
   ]
  },
  {
   "cell_type": "code",
   "execution_count": 626,
   "id": "ab5ce778",
   "metadata": {
    "ExecuteTime": {
     "end_time": "2022-08-05T08:38:02.644736Z",
     "start_time": "2022-08-05T08:38:02.628930Z"
    }
   },
   "outputs": [
    {
     "data": {
      "text/plain": [
       "13984"
      ]
     },
     "execution_count": 626,
     "metadata": {},
     "output_type": "execute_result"
    }
   ],
   "source": [
    "items['order_id'].duplicated().sum()"
   ]
  },
  {
   "cell_type": "markdown",
   "id": "4075a63e",
   "metadata": {},
   "source": [
    "La variable `order_item_id` désigne l'ordre de l'article dans la commande, donc pour chaque valeur de `order_item_id` on ne devrait pas avoir deux valeurs de `order_id` qui désigne l'id de la commande :"
   ]
  },
  {
   "cell_type": "code",
   "execution_count": 627,
   "id": "334f2efc",
   "metadata": {
    "ExecuteTime": {
     "end_time": "2022-08-05T08:38:02.692433Z",
     "start_time": "2022-08-05T08:38:02.646990Z"
    }
   },
   "outputs": [
    {
     "name": "stdout",
     "output_type": "stream",
     "text": [
      "0\n",
      "0\n",
      "0\n",
      "0\n",
      "0\n",
      "0\n",
      "0\n",
      "0\n",
      "0\n",
      "0\n",
      "0\n",
      "0\n",
      "0\n",
      "0\n",
      "0\n",
      "0\n",
      "0\n",
      "0\n",
      "0\n",
      "0\n",
      "0\n"
     ]
    }
   ],
   "source": [
    "for i in range(items['order_item_id'].unique().size):\n",
    "    print(items.loc[items['order_item_id'] == i, 'order_id'].duplicated().sum())"
   ]
  },
  {
   "cell_type": "code",
   "execution_count": 628,
   "id": "8b767658",
   "metadata": {
    "ExecuteTime": {
     "end_time": "2022-08-05T08:38:02.769906Z",
     "start_time": "2022-08-05T08:38:02.694466Z"
    }
   },
   "outputs": [
    {
     "data": {
      "text/plain": [
       "order_id               0.0\n",
       "order_item_id          0.0\n",
       "product_id             0.0\n",
       "seller_id              0.0\n",
       "shipping_limit_date    0.0\n",
       "price                  0.0\n",
       "freight_value          0.0\n",
       "dtype: float64"
      ]
     },
     "execution_count": 628,
     "metadata": {},
     "output_type": "execute_result"
    }
   ],
   "source": [
    "items.isna().mean()"
   ]
  },
  {
   "cell_type": "markdown",
   "id": "e351dc02",
   "metadata": {},
   "source": [
    "## Reviews"
   ]
  },
  {
   "cell_type": "code",
   "execution_count": 629,
   "id": "b85c5bb5",
   "metadata": {
    "ExecuteTime": {
     "end_time": "2022-08-05T08:38:03.109259Z",
     "start_time": "2022-08-05T08:38:02.771852Z"
    }
   },
   "outputs": [
    {
     "data": {
      "text/html": [
       "<div>\n",
       "<style scoped>\n",
       "    .dataframe tbody tr th:only-of-type {\n",
       "        vertical-align: middle;\n",
       "    }\n",
       "\n",
       "    .dataframe tbody tr th {\n",
       "        vertical-align: top;\n",
       "    }\n",
       "\n",
       "    .dataframe thead th {\n",
       "        text-align: right;\n",
       "    }\n",
       "</style>\n",
       "<table border=\"1\" class=\"dataframe\">\n",
       "  <thead>\n",
       "    <tr style=\"text-align: right;\">\n",
       "      <th></th>\n",
       "      <th>review_id</th>\n",
       "      <th>order_id</th>\n",
       "      <th>review_score</th>\n",
       "      <th>review_comment_title</th>\n",
       "      <th>review_comment_message</th>\n",
       "      <th>review_creation_date</th>\n",
       "      <th>review_answer_timestamp</th>\n",
       "    </tr>\n",
       "  </thead>\n",
       "  <tbody>\n",
       "    <tr>\n",
       "      <th>0</th>\n",
       "      <td>7bc2406110b926393aa56f80a40eba40</td>\n",
       "      <td>73fc7af87114b39712e6da79b0a377eb</td>\n",
       "      <td>4</td>\n",
       "      <td>NaN</td>\n",
       "      <td>NaN</td>\n",
       "      <td>2018-01-18 00:00:00</td>\n",
       "      <td>2018-01-18 21:46:59</td>\n",
       "    </tr>\n",
       "    <tr>\n",
       "      <th>1</th>\n",
       "      <td>80e641a11e56f04c1ad469d5645fdfde</td>\n",
       "      <td>a548910a1c6147796b98fdf73dbeba33</td>\n",
       "      <td>5</td>\n",
       "      <td>NaN</td>\n",
       "      <td>NaN</td>\n",
       "      <td>2018-03-10 00:00:00</td>\n",
       "      <td>2018-03-11 03:05:13</td>\n",
       "    </tr>\n",
       "    <tr>\n",
       "      <th>2</th>\n",
       "      <td>228ce5500dc1d8e020d8d1322874b6f0</td>\n",
       "      <td>f9e4b658b201a9f2ecdecbb34bed034b</td>\n",
       "      <td>5</td>\n",
       "      <td>NaN</td>\n",
       "      <td>NaN</td>\n",
       "      <td>2018-02-17 00:00:00</td>\n",
       "      <td>2018-02-18 14:36:24</td>\n",
       "    </tr>\n",
       "    <tr>\n",
       "      <th>3</th>\n",
       "      <td>e64fb393e7b32834bb789ff8bb30750e</td>\n",
       "      <td>658677c97b385a9be170737859d3511b</td>\n",
       "      <td>5</td>\n",
       "      <td>NaN</td>\n",
       "      <td>Recebi bem antes do prazo estipulado.</td>\n",
       "      <td>2017-04-21 00:00:00</td>\n",
       "      <td>2017-04-21 22:02:06</td>\n",
       "    </tr>\n",
       "    <tr>\n",
       "      <th>4</th>\n",
       "      <td>f7c4243c7fe1938f181bec41a392bdeb</td>\n",
       "      <td>8e6bfb81e283fa7e4f11123a3fb894f1</td>\n",
       "      <td>5</td>\n",
       "      <td>NaN</td>\n",
       "      <td>Parabéns lojas lannister adorei comprar pela I...</td>\n",
       "      <td>2018-03-01 00:00:00</td>\n",
       "      <td>2018-03-02 10:26:53</td>\n",
       "    </tr>\n",
       "  </tbody>\n",
       "</table>\n",
       "</div>"
      ],
      "text/plain": [
       "                          review_id                          order_id  \\\n",
       "0  7bc2406110b926393aa56f80a40eba40  73fc7af87114b39712e6da79b0a377eb   \n",
       "1  80e641a11e56f04c1ad469d5645fdfde  a548910a1c6147796b98fdf73dbeba33   \n",
       "2  228ce5500dc1d8e020d8d1322874b6f0  f9e4b658b201a9f2ecdecbb34bed034b   \n",
       "3  e64fb393e7b32834bb789ff8bb30750e  658677c97b385a9be170737859d3511b   \n",
       "4  f7c4243c7fe1938f181bec41a392bdeb  8e6bfb81e283fa7e4f11123a3fb894f1   \n",
       "\n",
       "   review_score review_comment_title  \\\n",
       "0             4                  NaN   \n",
       "1             5                  NaN   \n",
       "2             5                  NaN   \n",
       "3             5                  NaN   \n",
       "4             5                  NaN   \n",
       "\n",
       "                              review_comment_message review_creation_date  \\\n",
       "0                                                NaN  2018-01-18 00:00:00   \n",
       "1                                                NaN  2018-03-10 00:00:00   \n",
       "2                                                NaN  2018-02-17 00:00:00   \n",
       "3              Recebi bem antes do prazo estipulado.  2017-04-21 00:00:00   \n",
       "4  Parabéns lojas lannister adorei comprar pela I...  2018-03-01 00:00:00   \n",
       "\n",
       "  review_answer_timestamp  \n",
       "0     2018-01-18 21:46:59  \n",
       "1     2018-03-11 03:05:13  \n",
       "2     2018-02-18 14:36:24  \n",
       "3     2017-04-21 22:02:06  \n",
       "4     2018-03-02 10:26:53  "
      ]
     },
     "execution_count": 629,
     "metadata": {},
     "output_type": "execute_result"
    }
   ],
   "source": [
    "reviews = pd.read_csv('data/olist_order_reviews_dataset.csv')\n",
    "reviews.head()"
   ]
  },
  {
   "cell_type": "code",
   "execution_count": 630,
   "id": "ada543f0",
   "metadata": {
    "ExecuteTime": {
     "end_time": "2022-08-05T08:38:03.119302Z",
     "start_time": "2022-08-05T08:38:03.115723Z"
    }
   },
   "outputs": [
    {
     "data": {
      "text/plain": [
       "(99224, 7)"
      ]
     },
     "execution_count": 630,
     "metadata": {},
     "output_type": "execute_result"
    }
   ],
   "source": [
    "reviews.shape"
   ]
  },
  {
   "cell_type": "code",
   "execution_count": 631,
   "id": "e4c49f8b",
   "metadata": {
    "ExecuteTime": {
     "end_time": "2022-08-05T08:38:03.128673Z",
     "start_time": "2022-08-05T08:38:03.123952Z"
    }
   },
   "outputs": [
    {
     "data": {
      "text/plain": [
       "review_id                  object\n",
       "order_id                   object\n",
       "review_score                int64\n",
       "review_comment_title       object\n",
       "review_comment_message     object\n",
       "review_creation_date       object\n",
       "review_answer_timestamp    object\n",
       "dtype: object"
      ]
     },
     "execution_count": 631,
     "metadata": {},
     "output_type": "execute_result"
    }
   ],
   "source": [
    "reviews.dtypes"
   ]
  },
  {
   "cell_type": "code",
   "execution_count": 632,
   "id": "e696bb05",
   "metadata": {
    "ExecuteTime": {
     "end_time": "2022-08-05T08:38:03.215643Z",
     "start_time": "2022-08-05T08:38:03.130472Z"
    }
   },
   "outputs": [
    {
     "name": "stdout",
     "output_type": "stream",
     "text": [
      "review_id----------------------------------------- 98410\n",
      "order_id------------------------------------------ 98673\n",
      "review_score-------------------------------------- 5\n",
      "review_comment_title------------------------------ 4528\n",
      "review_comment_message---------------------------- 36160\n",
      "review_creation_date------------------------------ 636\n",
      "review_answer_timestamp--------------------------- 98248\n"
     ]
    }
   ],
   "source": [
    "for col in reviews.columns:\n",
    "    print(f'{col :-<50} {reviews[col].unique().size}')"
   ]
  },
  {
   "cell_type": "code",
   "execution_count": 633,
   "id": "b6b972e8",
   "metadata": {
    "ExecuteTime": {
     "end_time": "2022-08-05T08:38:03.310884Z",
     "start_time": "2022-08-05T08:38:03.217701Z"
    }
   },
   "outputs": [
    {
     "data": {
      "text/plain": [
       "review_id                  0.000000\n",
       "order_id                   0.000000\n",
       "review_score               0.000000\n",
       "review_comment_title       0.883415\n",
       "review_comment_message     0.587025\n",
       "review_creation_date       0.000000\n",
       "review_answer_timestamp    0.000000\n",
       "dtype: float64"
      ]
     },
     "execution_count": 633,
     "metadata": {},
     "output_type": "execute_result"
    }
   ],
   "source": [
    "reviews.isna().mean()"
   ]
  },
  {
   "cell_type": "markdown",
   "id": "a0c8fd52",
   "metadata": {},
   "source": [
    "## Orders"
   ]
  },
  {
   "cell_type": "code",
   "execution_count": 634,
   "id": "c53c66d9",
   "metadata": {
    "ExecuteTime": {
     "end_time": "2022-08-05T08:38:03.671755Z",
     "start_time": "2022-08-05T08:38:03.312921Z"
    }
   },
   "outputs": [
    {
     "data": {
      "text/html": [
       "<div>\n",
       "<style scoped>\n",
       "    .dataframe tbody tr th:only-of-type {\n",
       "        vertical-align: middle;\n",
       "    }\n",
       "\n",
       "    .dataframe tbody tr th {\n",
       "        vertical-align: top;\n",
       "    }\n",
       "\n",
       "    .dataframe thead th {\n",
       "        text-align: right;\n",
       "    }\n",
       "</style>\n",
       "<table border=\"1\" class=\"dataframe\">\n",
       "  <thead>\n",
       "    <tr style=\"text-align: right;\">\n",
       "      <th></th>\n",
       "      <th>order_id</th>\n",
       "      <th>customer_id</th>\n",
       "      <th>order_status</th>\n",
       "      <th>order_purchase_timestamp</th>\n",
       "      <th>order_approved_at</th>\n",
       "      <th>order_delivered_carrier_date</th>\n",
       "      <th>order_delivered_customer_date</th>\n",
       "      <th>order_estimated_delivery_date</th>\n",
       "    </tr>\n",
       "  </thead>\n",
       "  <tbody>\n",
       "    <tr>\n",
       "      <th>0</th>\n",
       "      <td>e481f51cbdc54678b7cc49136f2d6af7</td>\n",
       "      <td>9ef432eb6251297304e76186b10a928d</td>\n",
       "      <td>delivered</td>\n",
       "      <td>2017-10-02 10:56:33</td>\n",
       "      <td>2017-10-02 11:07:15</td>\n",
       "      <td>2017-10-04 19:55:00</td>\n",
       "      <td>2017-10-10 21:25:13</td>\n",
       "      <td>2017-10-18 00:00:00</td>\n",
       "    </tr>\n",
       "    <tr>\n",
       "      <th>1</th>\n",
       "      <td>53cdb2fc8bc7dce0b6741e2150273451</td>\n",
       "      <td>b0830fb4747a6c6d20dea0b8c802d7ef</td>\n",
       "      <td>delivered</td>\n",
       "      <td>2018-07-24 20:41:37</td>\n",
       "      <td>2018-07-26 03:24:27</td>\n",
       "      <td>2018-07-26 14:31:00</td>\n",
       "      <td>2018-08-07 15:27:45</td>\n",
       "      <td>2018-08-13 00:00:00</td>\n",
       "    </tr>\n",
       "    <tr>\n",
       "      <th>2</th>\n",
       "      <td>47770eb9100c2d0c44946d9cf07ec65d</td>\n",
       "      <td>41ce2a54c0b03bf3443c3d931a367089</td>\n",
       "      <td>delivered</td>\n",
       "      <td>2018-08-08 08:38:49</td>\n",
       "      <td>2018-08-08 08:55:23</td>\n",
       "      <td>2018-08-08 13:50:00</td>\n",
       "      <td>2018-08-17 18:06:29</td>\n",
       "      <td>2018-09-04 00:00:00</td>\n",
       "    </tr>\n",
       "    <tr>\n",
       "      <th>3</th>\n",
       "      <td>949d5b44dbf5de918fe9c16f97b45f8a</td>\n",
       "      <td>f88197465ea7920adcdbec7375364d82</td>\n",
       "      <td>delivered</td>\n",
       "      <td>2017-11-18 19:28:06</td>\n",
       "      <td>2017-11-18 19:45:59</td>\n",
       "      <td>2017-11-22 13:39:59</td>\n",
       "      <td>2017-12-02 00:28:42</td>\n",
       "      <td>2017-12-15 00:00:00</td>\n",
       "    </tr>\n",
       "    <tr>\n",
       "      <th>4</th>\n",
       "      <td>ad21c59c0840e6cb83a9ceb5573f8159</td>\n",
       "      <td>8ab97904e6daea8866dbdbc4fb7aad2c</td>\n",
       "      <td>delivered</td>\n",
       "      <td>2018-02-13 21:18:39</td>\n",
       "      <td>2018-02-13 22:20:29</td>\n",
       "      <td>2018-02-14 19:46:34</td>\n",
       "      <td>2018-02-16 18:17:02</td>\n",
       "      <td>2018-02-26 00:00:00</td>\n",
       "    </tr>\n",
       "  </tbody>\n",
       "</table>\n",
       "</div>"
      ],
      "text/plain": [
       "                           order_id                       customer_id  \\\n",
       "0  e481f51cbdc54678b7cc49136f2d6af7  9ef432eb6251297304e76186b10a928d   \n",
       "1  53cdb2fc8bc7dce0b6741e2150273451  b0830fb4747a6c6d20dea0b8c802d7ef   \n",
       "2  47770eb9100c2d0c44946d9cf07ec65d  41ce2a54c0b03bf3443c3d931a367089   \n",
       "3  949d5b44dbf5de918fe9c16f97b45f8a  f88197465ea7920adcdbec7375364d82   \n",
       "4  ad21c59c0840e6cb83a9ceb5573f8159  8ab97904e6daea8866dbdbc4fb7aad2c   \n",
       "\n",
       "  order_status order_purchase_timestamp    order_approved_at  \\\n",
       "0    delivered      2017-10-02 10:56:33  2017-10-02 11:07:15   \n",
       "1    delivered      2018-07-24 20:41:37  2018-07-26 03:24:27   \n",
       "2    delivered      2018-08-08 08:38:49  2018-08-08 08:55:23   \n",
       "3    delivered      2017-11-18 19:28:06  2017-11-18 19:45:59   \n",
       "4    delivered      2018-02-13 21:18:39  2018-02-13 22:20:29   \n",
       "\n",
       "  order_delivered_carrier_date order_delivered_customer_date  \\\n",
       "0          2017-10-04 19:55:00           2017-10-10 21:25:13   \n",
       "1          2018-07-26 14:31:00           2018-08-07 15:27:45   \n",
       "2          2018-08-08 13:50:00           2018-08-17 18:06:29   \n",
       "3          2017-11-22 13:39:59           2017-12-02 00:28:42   \n",
       "4          2018-02-14 19:46:34           2018-02-16 18:17:02   \n",
       "\n",
       "  order_estimated_delivery_date  \n",
       "0           2017-10-18 00:00:00  \n",
       "1           2018-08-13 00:00:00  \n",
       "2           2018-09-04 00:00:00  \n",
       "3           2017-12-15 00:00:00  \n",
       "4           2018-02-26 00:00:00  "
      ]
     },
     "execution_count": 634,
     "metadata": {},
     "output_type": "execute_result"
    }
   ],
   "source": [
    "orders = pd.read_csv('data/olist_orders_dataset.csv')\n",
    "orders.head()"
   ]
  },
  {
   "cell_type": "code",
   "execution_count": 635,
   "id": "b9353c4f",
   "metadata": {
    "ExecuteTime": {
     "end_time": "2022-08-05T08:38:03.677691Z",
     "start_time": "2022-08-05T08:38:03.673901Z"
    }
   },
   "outputs": [
    {
     "data": {
      "text/plain": [
       "(99441, 8)"
      ]
     },
     "execution_count": 635,
     "metadata": {},
     "output_type": "execute_result"
    }
   ],
   "source": [
    "orders.shape"
   ]
  },
  {
   "cell_type": "code",
   "execution_count": 636,
   "id": "a1e1769e",
   "metadata": {
    "ExecuteTime": {
     "end_time": "2022-08-05T08:38:03.684284Z",
     "start_time": "2022-08-05T08:38:03.679617Z"
    }
   },
   "outputs": [
    {
     "data": {
      "text/plain": [
       "order_id                         object\n",
       "customer_id                      object\n",
       "order_status                     object\n",
       "order_purchase_timestamp         object\n",
       "order_approved_at                object\n",
       "order_delivered_carrier_date     object\n",
       "order_delivered_customer_date    object\n",
       "order_estimated_delivery_date    object\n",
       "dtype: object"
      ]
     },
     "execution_count": 636,
     "metadata": {},
     "output_type": "execute_result"
    }
   ],
   "source": [
    "orders.dtypes"
   ]
  },
  {
   "cell_type": "code",
   "execution_count": 637,
   "id": "1e4fa65c",
   "metadata": {
    "ExecuteTime": {
     "end_time": "2022-08-05T08:38:03.823244Z",
     "start_time": "2022-08-05T08:38:03.685989Z"
    }
   },
   "outputs": [
    {
     "name": "stdout",
     "output_type": "stream",
     "text": [
      "order_id------------------------------------------ 99441\n",
      "customer_id--------------------------------------- 99441\n",
      "order_status-------------------------------------- 8\n",
      "order_purchase_timestamp-------------------------- 98875\n",
      "order_approved_at--------------------------------- 90734\n",
      "order_delivered_carrier_date---------------------- 81019\n",
      "order_delivered_customer_date--------------------- 95665\n",
      "order_estimated_delivery_date--------------------- 459\n"
     ]
    }
   ],
   "source": [
    "for col in orders.columns:\n",
    "    print(f'{col :-<50} {orders[col].unique().size}')"
   ]
  },
  {
   "cell_type": "code",
   "execution_count": 638,
   "id": "37ae202b",
   "metadata": {
    "ExecuteTime": {
     "end_time": "2022-08-05T08:38:03.941242Z",
     "start_time": "2022-08-05T08:38:03.825383Z"
    }
   },
   "outputs": [
    {
     "data": {
      "text/plain": [
       "order_id                         0.000000\n",
       "customer_id                      0.000000\n",
       "order_status                     0.000000\n",
       "order_purchase_timestamp         0.000000\n",
       "order_approved_at                0.001609\n",
       "order_delivered_carrier_date     0.017930\n",
       "order_delivered_customer_date    0.029817\n",
       "order_estimated_delivery_date    0.000000\n",
       "dtype: float64"
      ]
     },
     "execution_count": 638,
     "metadata": {},
     "output_type": "execute_result"
    }
   ],
   "source": [
    "orders.isna().mean()"
   ]
  },
  {
   "cell_type": "code",
   "execution_count": 639,
   "id": "fc0fffc8",
   "metadata": {
    "ExecuteTime": {
     "end_time": "2022-08-05T08:38:03.977211Z",
     "start_time": "2022-08-05T08:38:03.942855Z"
    }
   },
   "outputs": [
    {
     "data": {
      "text/html": [
       "<div>\n",
       "<style scoped>\n",
       "    .dataframe tbody tr th:only-of-type {\n",
       "        vertical-align: middle;\n",
       "    }\n",
       "\n",
       "    .dataframe tbody tr th {\n",
       "        vertical-align: top;\n",
       "    }\n",
       "\n",
       "    .dataframe thead th {\n",
       "        text-align: right;\n",
       "    }\n",
       "</style>\n",
       "<table border=\"1\" class=\"dataframe\">\n",
       "  <thead>\n",
       "    <tr style=\"text-align: right;\">\n",
       "      <th></th>\n",
       "      <th>order_id</th>\n",
       "      <th>customer_id</th>\n",
       "      <th>order_status</th>\n",
       "      <th>order_purchase_timestamp</th>\n",
       "      <th>order_approved_at</th>\n",
       "      <th>order_delivered_carrier_date</th>\n",
       "      <th>order_delivered_customer_date</th>\n",
       "      <th>order_estimated_delivery_date</th>\n",
       "    </tr>\n",
       "  </thead>\n",
       "  <tbody>\n",
       "    <tr>\n",
       "      <th>94965</th>\n",
       "      <td>195416246665b8268100ef5fde9722b4</td>\n",
       "      <td>b14e4569fdc3353689f16abb8b57dadc</td>\n",
       "      <td>shipped</td>\n",
       "      <td>2017-01-08 19:27:22</td>\n",
       "      <td>2017-01-08 19:45:02</td>\n",
       "      <td>2017-01-11 09:34:18</td>\n",
       "      <td>NaN</td>\n",
       "      <td>2017-02-22 00:00:00</td>\n",
       "    </tr>\n",
       "    <tr>\n",
       "      <th>12751</th>\n",
       "      <td>46936461f0c4e3c80b9289ce5fc1682a</td>\n",
       "      <td>f6295486d5e27c0de0101b3f1b63b6d1</td>\n",
       "      <td>shipped</td>\n",
       "      <td>2017-01-08 19:27:22</td>\n",
       "      <td>2017-01-08 19:45:02</td>\n",
       "      <td>2017-01-11 09:34:18</td>\n",
       "      <td>NaN</td>\n",
       "      <td>2017-02-21 00:00:00</td>\n",
       "    </tr>\n",
       "    <tr>\n",
       "      <th>5642</th>\n",
       "      <td>c5a468ae781ffb0ec6d36ae89fe512b0</td>\n",
       "      <td>ed7ef682569428c1afaf73b39a2f602b</td>\n",
       "      <td>canceled</td>\n",
       "      <td>2017-01-13 11:06:56</td>\n",
       "      <td>NaN</td>\n",
       "      <td>NaN</td>\n",
       "      <td>NaN</td>\n",
       "      <td>2017-02-13 00:00:00</td>\n",
       "    </tr>\n",
       "    <tr>\n",
       "      <th>2937</th>\n",
       "      <td>4fe2e8b329e56a00aba9b0136b46f00f</td>\n",
       "      <td>0c6e74d3848e590888f197074ee1f5ff</td>\n",
       "      <td>delivered</td>\n",
       "      <td>2017-01-13 11:06:56</td>\n",
       "      <td>2017-01-15 11:05:13</td>\n",
       "      <td>2017-01-18 04:58:17</td>\n",
       "      <td>2017-01-20 11:33:43</td>\n",
       "      <td>2017-02-24 00:00:00</td>\n",
       "    </tr>\n",
       "    <tr>\n",
       "      <th>21456</th>\n",
       "      <td>ed2ea4498bcd56d90d461a23fa47ac56</td>\n",
       "      <td>b629604bb4374da78155fb48fcc1ec4f</td>\n",
       "      <td>delivered</td>\n",
       "      <td>2017-01-14 23:05:01</td>\n",
       "      <td>2017-01-14 23:15:16</td>\n",
       "      <td>2017-01-17 05:18:01</td>\n",
       "      <td>2017-01-24 13:47:47</td>\n",
       "      <td>2017-02-24 00:00:00</td>\n",
       "    </tr>\n",
       "    <tr>\n",
       "      <th>...</th>\n",
       "      <td>...</td>\n",
       "      <td>...</td>\n",
       "      <td>...</td>\n",
       "      <td>...</td>\n",
       "      <td>...</td>\n",
       "      <td>...</td>\n",
       "      <td>...</td>\n",
       "      <td>...</td>\n",
       "    </tr>\n",
       "    <tr>\n",
       "      <th>32438</th>\n",
       "      <td>f98afca2779cb0337d7eb2bdcd2f8553</td>\n",
       "      <td>12c949ba7c24e9587a88c406d2aecbb0</td>\n",
       "      <td>delivered</td>\n",
       "      <td>2018-08-21 19:59:01</td>\n",
       "      <td>2018-08-21 20:10:20</td>\n",
       "      <td>2018-08-23 13:57:00</td>\n",
       "      <td>2018-08-25 17:24:34</td>\n",
       "      <td>2018-09-17 00:00:00</td>\n",
       "    </tr>\n",
       "    <tr>\n",
       "      <th>85855</th>\n",
       "      <td>9bb34c27042d6bab11b0cd8d50d6c00b</td>\n",
       "      <td>3c3d147bd78ea075fc4c0bea0609c8b5</td>\n",
       "      <td>delivered</td>\n",
       "      <td>2018-08-22 10:49:05</td>\n",
       "      <td>2018-08-22 11:04:36</td>\n",
       "      <td>2018-08-22 20:13:00</td>\n",
       "      <td>2018-08-24 00:31:59</td>\n",
       "      <td>2018-08-27 00:00:00</td>\n",
       "    </tr>\n",
       "    <tr>\n",
       "      <th>11754</th>\n",
       "      <td>cba45d3fa18d26bd7c6935fca4449feb</td>\n",
       "      <td>fd0cce75d1fde9e5c4a2fc87380efca2</td>\n",
       "      <td>delivered</td>\n",
       "      <td>2018-08-22 10:49:05</td>\n",
       "      <td>2018-08-22 11:04:38</td>\n",
       "      <td>2018-08-27 15:03:00</td>\n",
       "      <td>2018-08-28 20:43:43</td>\n",
       "      <td>2018-08-28 00:00:00</td>\n",
       "    </tr>\n",
       "    <tr>\n",
       "      <th>34371</th>\n",
       "      <td>81710e0039b0dcda11c1f114e3dda5cf</td>\n",
       "      <td>1bdfe41bb922828fb6d4eb176ac20071</td>\n",
       "      <td>delivered</td>\n",
       "      <td>2018-08-22 18:03:39</td>\n",
       "      <td>2018-08-22 18:24:18</td>\n",
       "      <td>2018-08-23 12:07:00</td>\n",
       "      <td>2018-08-28 09:31:24</td>\n",
       "      <td>2018-09-27 00:00:00</td>\n",
       "    </tr>\n",
       "    <tr>\n",
       "      <th>64818</th>\n",
       "      <td>3058f418c175f89b5dc680bcb5634ab1</td>\n",
       "      <td>c9b91aae07c6cd838cac23a7e534e1df</td>\n",
       "      <td>delivered</td>\n",
       "      <td>2018-08-22 18:03:39</td>\n",
       "      <td>2018-08-22 18:15:39</td>\n",
       "      <td>2018-08-23 15:14:00</td>\n",
       "      <td>2018-08-28 09:52:09</td>\n",
       "      <td>2018-09-14 00:00:00</td>\n",
       "    </tr>\n",
       "  </tbody>\n",
       "</table>\n",
       "<p>1122 rows × 8 columns</p>\n",
       "</div>"
      ],
      "text/plain": [
       "                               order_id                       customer_id  \\\n",
       "94965  195416246665b8268100ef5fde9722b4  b14e4569fdc3353689f16abb8b57dadc   \n",
       "12751  46936461f0c4e3c80b9289ce5fc1682a  f6295486d5e27c0de0101b3f1b63b6d1   \n",
       "5642   c5a468ae781ffb0ec6d36ae89fe512b0  ed7ef682569428c1afaf73b39a2f602b   \n",
       "2937   4fe2e8b329e56a00aba9b0136b46f00f  0c6e74d3848e590888f197074ee1f5ff   \n",
       "21456  ed2ea4498bcd56d90d461a23fa47ac56  b629604bb4374da78155fb48fcc1ec4f   \n",
       "...                                 ...                               ...   \n",
       "32438  f98afca2779cb0337d7eb2bdcd2f8553  12c949ba7c24e9587a88c406d2aecbb0   \n",
       "85855  9bb34c27042d6bab11b0cd8d50d6c00b  3c3d147bd78ea075fc4c0bea0609c8b5   \n",
       "11754  cba45d3fa18d26bd7c6935fca4449feb  fd0cce75d1fde9e5c4a2fc87380efca2   \n",
       "34371  81710e0039b0dcda11c1f114e3dda5cf  1bdfe41bb922828fb6d4eb176ac20071   \n",
       "64818  3058f418c175f89b5dc680bcb5634ab1  c9b91aae07c6cd838cac23a7e534e1df   \n",
       "\n",
       "      order_status order_purchase_timestamp    order_approved_at  \\\n",
       "94965      shipped      2017-01-08 19:27:22  2017-01-08 19:45:02   \n",
       "12751      shipped      2017-01-08 19:27:22  2017-01-08 19:45:02   \n",
       "5642      canceled      2017-01-13 11:06:56                  NaN   \n",
       "2937     delivered      2017-01-13 11:06:56  2017-01-15 11:05:13   \n",
       "21456    delivered      2017-01-14 23:05:01  2017-01-14 23:15:16   \n",
       "...            ...                      ...                  ...   \n",
       "32438    delivered      2018-08-21 19:59:01  2018-08-21 20:10:20   \n",
       "85855    delivered      2018-08-22 10:49:05  2018-08-22 11:04:36   \n",
       "11754    delivered      2018-08-22 10:49:05  2018-08-22 11:04:38   \n",
       "34371    delivered      2018-08-22 18:03:39  2018-08-22 18:24:18   \n",
       "64818    delivered      2018-08-22 18:03:39  2018-08-22 18:15:39   \n",
       "\n",
       "      order_delivered_carrier_date order_delivered_customer_date  \\\n",
       "94965          2017-01-11 09:34:18                           NaN   \n",
       "12751          2017-01-11 09:34:18                           NaN   \n",
       "5642                           NaN                           NaN   \n",
       "2937           2017-01-18 04:58:17           2017-01-20 11:33:43   \n",
       "21456          2017-01-17 05:18:01           2017-01-24 13:47:47   \n",
       "...                            ...                           ...   \n",
       "32438          2018-08-23 13:57:00           2018-08-25 17:24:34   \n",
       "85855          2018-08-22 20:13:00           2018-08-24 00:31:59   \n",
       "11754          2018-08-27 15:03:00           2018-08-28 20:43:43   \n",
       "34371          2018-08-23 12:07:00           2018-08-28 09:31:24   \n",
       "64818          2018-08-23 15:14:00           2018-08-28 09:52:09   \n",
       "\n",
       "      order_estimated_delivery_date  \n",
       "94965           2017-02-22 00:00:00  \n",
       "12751           2017-02-21 00:00:00  \n",
       "5642            2017-02-13 00:00:00  \n",
       "2937            2017-02-24 00:00:00  \n",
       "21456           2017-02-24 00:00:00  \n",
       "...                             ...  \n",
       "32438           2018-09-17 00:00:00  \n",
       "85855           2018-08-27 00:00:00  \n",
       "11754           2018-08-28 00:00:00  \n",
       "34371           2018-09-27 00:00:00  \n",
       "64818           2018-09-14 00:00:00  \n",
       "\n",
       "[1122 rows x 8 columns]"
      ]
     },
     "execution_count": 639,
     "metadata": {},
     "output_type": "execute_result"
    }
   ],
   "source": [
    "duplicated_dates = orders[orders['order_purchase_timestamp'].duplicated()]['order_purchase_timestamp']\n",
    "orders[orders['order_purchase_timestamp'].isin(duplicated_dates)].sort_values('order_purchase_timestamp')"
   ]
  },
  {
   "cell_type": "markdown",
   "id": "2ac44bad",
   "metadata": {},
   "source": [
    "## Products"
   ]
  },
  {
   "cell_type": "code",
   "execution_count": 640,
   "id": "78e221b2",
   "metadata": {
    "ExecuteTime": {
     "end_time": "2022-08-05T08:38:04.038990Z",
     "start_time": "2022-08-05T08:38:03.979609Z"
    }
   },
   "outputs": [
    {
     "data": {
      "text/html": [
       "<div>\n",
       "<style scoped>\n",
       "    .dataframe tbody tr th:only-of-type {\n",
       "        vertical-align: middle;\n",
       "    }\n",
       "\n",
       "    .dataframe tbody tr th {\n",
       "        vertical-align: top;\n",
       "    }\n",
       "\n",
       "    .dataframe thead th {\n",
       "        text-align: right;\n",
       "    }\n",
       "</style>\n",
       "<table border=\"1\" class=\"dataframe\">\n",
       "  <thead>\n",
       "    <tr style=\"text-align: right;\">\n",
       "      <th></th>\n",
       "      <th>product_id</th>\n",
       "      <th>product_category_name</th>\n",
       "      <th>product_name_lenght</th>\n",
       "      <th>product_description_lenght</th>\n",
       "      <th>product_photos_qty</th>\n",
       "      <th>product_weight_g</th>\n",
       "      <th>product_length_cm</th>\n",
       "      <th>product_height_cm</th>\n",
       "      <th>product_width_cm</th>\n",
       "    </tr>\n",
       "  </thead>\n",
       "  <tbody>\n",
       "    <tr>\n",
       "      <th>0</th>\n",
       "      <td>1e9e8ef04dbcff4541ed26657ea517e5</td>\n",
       "      <td>perfumaria</td>\n",
       "      <td>40.0</td>\n",
       "      <td>287.0</td>\n",
       "      <td>1.0</td>\n",
       "      <td>225.0</td>\n",
       "      <td>16.0</td>\n",
       "      <td>10.0</td>\n",
       "      <td>14.0</td>\n",
       "    </tr>\n",
       "    <tr>\n",
       "      <th>1</th>\n",
       "      <td>3aa071139cb16b67ca9e5dea641aaa2f</td>\n",
       "      <td>artes</td>\n",
       "      <td>44.0</td>\n",
       "      <td>276.0</td>\n",
       "      <td>1.0</td>\n",
       "      <td>1000.0</td>\n",
       "      <td>30.0</td>\n",
       "      <td>18.0</td>\n",
       "      <td>20.0</td>\n",
       "    </tr>\n",
       "    <tr>\n",
       "      <th>2</th>\n",
       "      <td>96bd76ec8810374ed1b65e291975717f</td>\n",
       "      <td>esporte_lazer</td>\n",
       "      <td>46.0</td>\n",
       "      <td>250.0</td>\n",
       "      <td>1.0</td>\n",
       "      <td>154.0</td>\n",
       "      <td>18.0</td>\n",
       "      <td>9.0</td>\n",
       "      <td>15.0</td>\n",
       "    </tr>\n",
       "    <tr>\n",
       "      <th>3</th>\n",
       "      <td>cef67bcfe19066a932b7673e239eb23d</td>\n",
       "      <td>bebes</td>\n",
       "      <td>27.0</td>\n",
       "      <td>261.0</td>\n",
       "      <td>1.0</td>\n",
       "      <td>371.0</td>\n",
       "      <td>26.0</td>\n",
       "      <td>4.0</td>\n",
       "      <td>26.0</td>\n",
       "    </tr>\n",
       "    <tr>\n",
       "      <th>4</th>\n",
       "      <td>9dc1a7de274444849c219cff195d0b71</td>\n",
       "      <td>utilidades_domesticas</td>\n",
       "      <td>37.0</td>\n",
       "      <td>402.0</td>\n",
       "      <td>4.0</td>\n",
       "      <td>625.0</td>\n",
       "      <td>20.0</td>\n",
       "      <td>17.0</td>\n",
       "      <td>13.0</td>\n",
       "    </tr>\n",
       "  </tbody>\n",
       "</table>\n",
       "</div>"
      ],
      "text/plain": [
       "                         product_id  product_category_name  \\\n",
       "0  1e9e8ef04dbcff4541ed26657ea517e5             perfumaria   \n",
       "1  3aa071139cb16b67ca9e5dea641aaa2f                  artes   \n",
       "2  96bd76ec8810374ed1b65e291975717f          esporte_lazer   \n",
       "3  cef67bcfe19066a932b7673e239eb23d                  bebes   \n",
       "4  9dc1a7de274444849c219cff195d0b71  utilidades_domesticas   \n",
       "\n",
       "   product_name_lenght  product_description_lenght  product_photos_qty  \\\n",
       "0                 40.0                       287.0                 1.0   \n",
       "1                 44.0                       276.0                 1.0   \n",
       "2                 46.0                       250.0                 1.0   \n",
       "3                 27.0                       261.0                 1.0   \n",
       "4                 37.0                       402.0                 4.0   \n",
       "\n",
       "   product_weight_g  product_length_cm  product_height_cm  product_width_cm  \n",
       "0             225.0               16.0               10.0              14.0  \n",
       "1            1000.0               30.0               18.0              20.0  \n",
       "2             154.0               18.0                9.0              15.0  \n",
       "3             371.0               26.0                4.0              26.0  \n",
       "4             625.0               20.0               17.0              13.0  "
      ]
     },
     "execution_count": 640,
     "metadata": {},
     "output_type": "execute_result"
    }
   ],
   "source": [
    "products = pd.read_csv('data/olist_products_dataset.csv')\n",
    "products.head()"
   ]
  },
  {
   "cell_type": "code",
   "execution_count": 641,
   "id": "971cf47a",
   "metadata": {
    "ExecuteTime": {
     "end_time": "2022-08-05T08:38:04.045002Z",
     "start_time": "2022-08-05T08:38:04.041233Z"
    }
   },
   "outputs": [
    {
     "data": {
      "text/plain": [
       "(32951, 9)"
      ]
     },
     "execution_count": 641,
     "metadata": {},
     "output_type": "execute_result"
    }
   ],
   "source": [
    "products.shape"
   ]
  },
  {
   "cell_type": "code",
   "execution_count": 642,
   "id": "eebb0356",
   "metadata": {
    "ExecuteTime": {
     "end_time": "2022-08-05T08:38:04.052056Z",
     "start_time": "2022-08-05T08:38:04.046977Z"
    }
   },
   "outputs": [
    {
     "data": {
      "text/plain": [
       "product_id                     object\n",
       "product_category_name          object\n",
       "product_name_lenght           float64\n",
       "product_description_lenght    float64\n",
       "product_photos_qty            float64\n",
       "product_weight_g              float64\n",
       "product_length_cm             float64\n",
       "product_height_cm             float64\n",
       "product_width_cm              float64\n",
       "dtype: object"
      ]
     },
     "execution_count": 642,
     "metadata": {},
     "output_type": "execute_result"
    }
   ],
   "source": [
    "products.dtypes"
   ]
  },
  {
   "cell_type": "code",
   "execution_count": 643,
   "id": "e6ccdc38",
   "metadata": {
    "ExecuteTime": {
     "end_time": "2022-08-05T08:38:04.069890Z",
     "start_time": "2022-08-05T08:38:04.054550Z"
    }
   },
   "outputs": [
    {
     "name": "stdout",
     "output_type": "stream",
     "text": [
      "product_id---------------------------------------- 32951\n",
      "product_category_name----------------------------- 74\n",
      "product_name_lenght------------------------------- 67\n",
      "product_description_lenght------------------------ 2961\n",
      "product_photos_qty-------------------------------- 20\n",
      "product_weight_g---------------------------------- 2205\n",
      "product_length_cm--------------------------------- 100\n",
      "product_height_cm--------------------------------- 103\n",
      "product_width_cm---------------------------------- 96\n"
     ]
    }
   ],
   "source": [
    "for col in products.columns:\n",
    "    print(f'{col :-<50} {products[col].unique().size}')"
   ]
  },
  {
   "cell_type": "code",
   "execution_count": 644,
   "id": "35701a8e",
   "metadata": {
    "ExecuteTime": {
     "end_time": "2022-08-05T08:38:04.088561Z",
     "start_time": "2022-08-05T08:38:04.071743Z"
    }
   },
   "outputs": [
    {
     "data": {
      "text/plain": [
       "product_id                    0.000000\n",
       "product_category_name         0.018512\n",
       "product_name_lenght           0.018512\n",
       "product_description_lenght    0.018512\n",
       "product_photos_qty            0.018512\n",
       "product_weight_g              0.000061\n",
       "product_length_cm             0.000061\n",
       "product_height_cm             0.000061\n",
       "product_width_cm              0.000061\n",
       "dtype: float64"
      ]
     },
     "execution_count": 644,
     "metadata": {},
     "output_type": "execute_result"
    }
   ],
   "source": [
    "products.isna().mean()"
   ]
  },
  {
   "cell_type": "markdown",
   "id": "c27496c0",
   "metadata": {},
   "source": [
    "## Sellers"
   ]
  },
  {
   "cell_type": "code",
   "execution_count": 645,
   "id": "4b999e69",
   "metadata": {
    "ExecuteTime": {
     "end_time": "2022-08-05T08:38:04.104569Z",
     "start_time": "2022-08-05T08:38:04.090927Z"
    }
   },
   "outputs": [
    {
     "data": {
      "text/html": [
       "<div>\n",
       "<style scoped>\n",
       "    .dataframe tbody tr th:only-of-type {\n",
       "        vertical-align: middle;\n",
       "    }\n",
       "\n",
       "    .dataframe tbody tr th {\n",
       "        vertical-align: top;\n",
       "    }\n",
       "\n",
       "    .dataframe thead th {\n",
       "        text-align: right;\n",
       "    }\n",
       "</style>\n",
       "<table border=\"1\" class=\"dataframe\">\n",
       "  <thead>\n",
       "    <tr style=\"text-align: right;\">\n",
       "      <th></th>\n",
       "      <th>seller_id</th>\n",
       "      <th>seller_zip_code_prefix</th>\n",
       "      <th>seller_city</th>\n",
       "      <th>seller_state</th>\n",
       "    </tr>\n",
       "  </thead>\n",
       "  <tbody>\n",
       "    <tr>\n",
       "      <th>0</th>\n",
       "      <td>3442f8959a84dea7ee197c632cb2df15</td>\n",
       "      <td>13023</td>\n",
       "      <td>campinas</td>\n",
       "      <td>SP</td>\n",
       "    </tr>\n",
       "    <tr>\n",
       "      <th>1</th>\n",
       "      <td>d1b65fc7debc3361ea86b5f14c68d2e2</td>\n",
       "      <td>13844</td>\n",
       "      <td>mogi guacu</td>\n",
       "      <td>SP</td>\n",
       "    </tr>\n",
       "    <tr>\n",
       "      <th>2</th>\n",
       "      <td>ce3ad9de960102d0677a81f5d0bb7b2d</td>\n",
       "      <td>20031</td>\n",
       "      <td>rio de janeiro</td>\n",
       "      <td>RJ</td>\n",
       "    </tr>\n",
       "    <tr>\n",
       "      <th>3</th>\n",
       "      <td>c0f3eea2e14555b6faeea3dd58c1b1c3</td>\n",
       "      <td>4195</td>\n",
       "      <td>sao paulo</td>\n",
       "      <td>SP</td>\n",
       "    </tr>\n",
       "    <tr>\n",
       "      <th>4</th>\n",
       "      <td>51a04a8a6bdcb23deccc82b0b80742cf</td>\n",
       "      <td>12914</td>\n",
       "      <td>braganca paulista</td>\n",
       "      <td>SP</td>\n",
       "    </tr>\n",
       "  </tbody>\n",
       "</table>\n",
       "</div>"
      ],
      "text/plain": [
       "                          seller_id  seller_zip_code_prefix  \\\n",
       "0  3442f8959a84dea7ee197c632cb2df15                   13023   \n",
       "1  d1b65fc7debc3361ea86b5f14c68d2e2                   13844   \n",
       "2  ce3ad9de960102d0677a81f5d0bb7b2d                   20031   \n",
       "3  c0f3eea2e14555b6faeea3dd58c1b1c3                    4195   \n",
       "4  51a04a8a6bdcb23deccc82b0b80742cf                   12914   \n",
       "\n",
       "         seller_city seller_state  \n",
       "0           campinas           SP  \n",
       "1         mogi guacu           SP  \n",
       "2     rio de janeiro           RJ  \n",
       "3          sao paulo           SP  \n",
       "4  braganca paulista           SP  "
      ]
     },
     "execution_count": 645,
     "metadata": {},
     "output_type": "execute_result"
    }
   ],
   "source": [
    "sellers = pd.read_csv('data/olist_sellers_dataset.csv')\n",
    "sellers.head()"
   ]
  },
  {
   "cell_type": "code",
   "execution_count": 646,
   "id": "5d5ac52a",
   "metadata": {
    "ExecuteTime": {
     "end_time": "2022-08-05T08:38:04.110136Z",
     "start_time": "2022-08-05T08:38:04.106508Z"
    }
   },
   "outputs": [
    {
     "data": {
      "text/plain": [
       "(3095, 4)"
      ]
     },
     "execution_count": 646,
     "metadata": {},
     "output_type": "execute_result"
    }
   ],
   "source": [
    "sellers.shape"
   ]
  },
  {
   "cell_type": "code",
   "execution_count": 647,
   "id": "b677031b",
   "metadata": {
    "ExecuteTime": {
     "end_time": "2022-08-05T08:38:04.116515Z",
     "start_time": "2022-08-05T08:38:04.112172Z"
    }
   },
   "outputs": [
    {
     "data": {
      "text/plain": [
       "seller_id                 object\n",
       "seller_zip_code_prefix     int64\n",
       "seller_city               object\n",
       "seller_state              object\n",
       "dtype: object"
      ]
     },
     "execution_count": 647,
     "metadata": {},
     "output_type": "execute_result"
    }
   ],
   "source": [
    "sellers.dtypes"
   ]
  },
  {
   "cell_type": "code",
   "execution_count": 648,
   "id": "d50a8987",
   "metadata": {
    "ExecuteTime": {
     "end_time": "2022-08-05T08:38:04.123665Z",
     "start_time": "2022-08-05T08:38:04.118418Z"
    }
   },
   "outputs": [
    {
     "name": "stdout",
     "output_type": "stream",
     "text": [
      "seller_id----------------------------------------- 3095\n",
      "seller_zip_code_prefix---------------------------- 2246\n",
      "seller_city--------------------------------------- 611\n",
      "seller_state-------------------------------------- 23\n"
     ]
    }
   ],
   "source": [
    "for col in sellers.columns:\n",
    "    print(f'{col :-<50} {sellers[col].unique().size}')"
   ]
  },
  {
   "cell_type": "code",
   "execution_count": 649,
   "id": "890153e9",
   "metadata": {
    "ExecuteTime": {
     "end_time": "2022-08-05T08:38:04.133886Z",
     "start_time": "2022-08-05T08:38:04.125818Z"
    }
   },
   "outputs": [
    {
     "data": {
      "text/plain": [
       "seller_id                 0.0\n",
       "seller_zip_code_prefix    0.0\n",
       "seller_city               0.0\n",
       "seller_state              0.0\n",
       "dtype: float64"
      ]
     },
     "execution_count": 649,
     "metadata": {},
     "output_type": "execute_result"
    }
   ],
   "source": [
    "sellers.isna().mean()"
   ]
  },
  {
   "cell_type": "markdown",
   "id": "32fc6ece",
   "metadata": {},
   "source": [
    "## Category name translation"
   ]
  },
  {
   "cell_type": "code",
   "execution_count": 650,
   "id": "2b2e258b",
   "metadata": {
    "ExecuteTime": {
     "end_time": "2022-08-05T08:38:04.145131Z",
     "start_time": "2022-08-05T08:38:04.136227Z"
    }
   },
   "outputs": [
    {
     "data": {
      "text/html": [
       "<div>\n",
       "<style scoped>\n",
       "    .dataframe tbody tr th:only-of-type {\n",
       "        vertical-align: middle;\n",
       "    }\n",
       "\n",
       "    .dataframe tbody tr th {\n",
       "        vertical-align: top;\n",
       "    }\n",
       "\n",
       "    .dataframe thead th {\n",
       "        text-align: right;\n",
       "    }\n",
       "</style>\n",
       "<table border=\"1\" class=\"dataframe\">\n",
       "  <thead>\n",
       "    <tr style=\"text-align: right;\">\n",
       "      <th></th>\n",
       "      <th>product_category_name</th>\n",
       "      <th>product_category_name_english</th>\n",
       "    </tr>\n",
       "  </thead>\n",
       "  <tbody>\n",
       "    <tr>\n",
       "      <th>0</th>\n",
       "      <td>beleza_saude</td>\n",
       "      <td>health_beauty</td>\n",
       "    </tr>\n",
       "    <tr>\n",
       "      <th>1</th>\n",
       "      <td>informatica_acessorios</td>\n",
       "      <td>computers_accessories</td>\n",
       "    </tr>\n",
       "    <tr>\n",
       "      <th>2</th>\n",
       "      <td>automotivo</td>\n",
       "      <td>auto</td>\n",
       "    </tr>\n",
       "    <tr>\n",
       "      <th>3</th>\n",
       "      <td>cama_mesa_banho</td>\n",
       "      <td>bed_bath_table</td>\n",
       "    </tr>\n",
       "    <tr>\n",
       "      <th>4</th>\n",
       "      <td>moveis_decoracao</td>\n",
       "      <td>furniture_decor</td>\n",
       "    </tr>\n",
       "  </tbody>\n",
       "</table>\n",
       "</div>"
      ],
      "text/plain": [
       "    product_category_name product_category_name_english\n",
       "0            beleza_saude                 health_beauty\n",
       "1  informatica_acessorios         computers_accessories\n",
       "2              automotivo                          auto\n",
       "3         cama_mesa_banho                bed_bath_table\n",
       "4        moveis_decoracao               furniture_decor"
      ]
     },
     "execution_count": 650,
     "metadata": {},
     "output_type": "execute_result"
    }
   ],
   "source": [
    "translation = pd.read_csv('data/product_category_name_translation.csv')\n",
    "translation.head()"
   ]
  },
  {
   "cell_type": "code",
   "execution_count": 651,
   "id": "5edb09d9",
   "metadata": {
    "ExecuteTime": {
     "end_time": "2022-08-05T08:38:04.150686Z",
     "start_time": "2022-08-05T08:38:04.147113Z"
    }
   },
   "outputs": [
    {
     "data": {
      "text/plain": [
       "(71, 2)"
      ]
     },
     "execution_count": 651,
     "metadata": {},
     "output_type": "execute_result"
    }
   ],
   "source": [
    "translation.shape"
   ]
  },
  {
   "cell_type": "markdown",
   "id": "f686fb55",
   "metadata": {},
   "source": [
    "Produits présents dans `products` mais pas dans `translation`"
   ]
  },
  {
   "cell_type": "code",
   "execution_count": 652,
   "id": "ecb31b11",
   "metadata": {
    "ExecuteTime": {
     "end_time": "2022-08-05T08:38:04.159233Z",
     "start_time": "2022-08-05T08:38:04.152320Z"
    }
   },
   "outputs": [
    {
     "data": {
      "text/plain": [
       "array([nan, 'pc_gamer', 'portateis_cozinha_e_preparadores_de_alimentos'],\n",
       "      dtype=object)"
      ]
     },
     "execution_count": 652,
     "metadata": {},
     "output_type": "execute_result"
    }
   ],
   "source": [
    "mask = products['product_category_name'].isin(translation['product_category_name'])\n",
    "products.loc[~mask, 'product_category_name'].unique()"
   ]
  },
  {
   "cell_type": "markdown",
   "id": "5b09d902",
   "metadata": {},
   "source": [
    "# Analyse de fond"
   ]
  },
  {
   "cell_type": "markdown",
   "id": "dd1f9330",
   "metadata": {},
   "source": [
    "## Élimination des colonnes inutiles"
   ]
  },
  {
   "cell_type": "code",
   "execution_count": 653,
   "id": "13c55ab1",
   "metadata": {
    "ExecuteTime": {
     "end_time": "2022-08-05T08:38:04.169473Z",
     "start_time": "2022-08-05T08:38:04.161284Z"
    }
   },
   "outputs": [
    {
     "data": {
      "text/html": [
       "<div>\n",
       "<style scoped>\n",
       "    .dataframe tbody tr th:only-of-type {\n",
       "        vertical-align: middle;\n",
       "    }\n",
       "\n",
       "    .dataframe tbody tr th {\n",
       "        vertical-align: top;\n",
       "    }\n",
       "\n",
       "    .dataframe thead th {\n",
       "        text-align: right;\n",
       "    }\n",
       "</style>\n",
       "<table border=\"1\" class=\"dataframe\">\n",
       "  <thead>\n",
       "    <tr style=\"text-align: right;\">\n",
       "      <th></th>\n",
       "      <th>customer_id</th>\n",
       "      <th>customer_unique_id</th>\n",
       "      <th>customer_zip_code_prefix</th>\n",
       "      <th>customer_city</th>\n",
       "      <th>customer_state</th>\n",
       "    </tr>\n",
       "  </thead>\n",
       "  <tbody>\n",
       "    <tr>\n",
       "      <th>0</th>\n",
       "      <td>06b8999e2fba1a1fbc88172c00ba8bc7</td>\n",
       "      <td>861eff4711a542e4b93843c6dd7febb0</td>\n",
       "      <td>14409</td>\n",
       "      <td>franca</td>\n",
       "      <td>SP</td>\n",
       "    </tr>\n",
       "    <tr>\n",
       "      <th>1</th>\n",
       "      <td>18955e83d337fd6b2def6b18a428ac77</td>\n",
       "      <td>290c77bc529b7ac935b93aa66c333dc3</td>\n",
       "      <td>9790</td>\n",
       "      <td>sao bernardo do campo</td>\n",
       "      <td>SP</td>\n",
       "    </tr>\n",
       "    <tr>\n",
       "      <th>2</th>\n",
       "      <td>4e7b3e00288586ebd08712fdd0374a03</td>\n",
       "      <td>060e732b5b29e8181a18229c7b0b2b5e</td>\n",
       "      <td>1151</td>\n",
       "      <td>sao paulo</td>\n",
       "      <td>SP</td>\n",
       "    </tr>\n",
       "    <tr>\n",
       "      <th>3</th>\n",
       "      <td>b2b6027bc5c5109e529d4dc6358b12c3</td>\n",
       "      <td>259dac757896d24d7702b9acbbff3f3c</td>\n",
       "      <td>8775</td>\n",
       "      <td>mogi das cruzes</td>\n",
       "      <td>SP</td>\n",
       "    </tr>\n",
       "    <tr>\n",
       "      <th>4</th>\n",
       "      <td>4f2d8ab171c80ec8364f7c12e35b23ad</td>\n",
       "      <td>345ecd01c38d18a9036ed96c73b8d066</td>\n",
       "      <td>13056</td>\n",
       "      <td>campinas</td>\n",
       "      <td>SP</td>\n",
       "    </tr>\n",
       "  </tbody>\n",
       "</table>\n",
       "</div>"
      ],
      "text/plain": [
       "                        customer_id                customer_unique_id  \\\n",
       "0  06b8999e2fba1a1fbc88172c00ba8bc7  861eff4711a542e4b93843c6dd7febb0   \n",
       "1  18955e83d337fd6b2def6b18a428ac77  290c77bc529b7ac935b93aa66c333dc3   \n",
       "2  4e7b3e00288586ebd08712fdd0374a03  060e732b5b29e8181a18229c7b0b2b5e   \n",
       "3  b2b6027bc5c5109e529d4dc6358b12c3  259dac757896d24d7702b9acbbff3f3c   \n",
       "4  4f2d8ab171c80ec8364f7c12e35b23ad  345ecd01c38d18a9036ed96c73b8d066   \n",
       "\n",
       "   customer_zip_code_prefix          customer_city customer_state  \n",
       "0                     14409                 franca             SP  \n",
       "1                      9790  sao bernardo do campo             SP  \n",
       "2                      1151              sao paulo             SP  \n",
       "3                      8775        mogi das cruzes             SP  \n",
       "4                     13056               campinas             SP  "
      ]
     },
     "execution_count": 653,
     "metadata": {},
     "output_type": "execute_result"
    }
   ],
   "source": [
    "customers.head()"
   ]
  },
  {
   "cell_type": "code",
   "execution_count": 654,
   "id": "3679773e",
   "metadata": {
    "ExecuteTime": {
     "end_time": "2022-08-05T08:38:04.183151Z",
     "start_time": "2022-08-05T08:38:04.171860Z"
    }
   },
   "outputs": [
    {
     "data": {
      "text/html": [
       "<div>\n",
       "<style scoped>\n",
       "    .dataframe tbody tr th:only-of-type {\n",
       "        vertical-align: middle;\n",
       "    }\n",
       "\n",
       "    .dataframe tbody tr th {\n",
       "        vertical-align: top;\n",
       "    }\n",
       "\n",
       "    .dataframe thead th {\n",
       "        text-align: right;\n",
       "    }\n",
       "</style>\n",
       "<table border=\"1\" class=\"dataframe\">\n",
       "  <thead>\n",
       "    <tr style=\"text-align: right;\">\n",
       "      <th></th>\n",
       "      <th>order_id</th>\n",
       "      <th>order_item_id</th>\n",
       "      <th>product_id</th>\n",
       "      <th>seller_id</th>\n",
       "      <th>shipping_limit_date</th>\n",
       "      <th>price</th>\n",
       "      <th>freight_value</th>\n",
       "    </tr>\n",
       "  </thead>\n",
       "  <tbody>\n",
       "    <tr>\n",
       "      <th>0</th>\n",
       "      <td>00010242fe8c5a6d1ba2dd792cb16214</td>\n",
       "      <td>1</td>\n",
       "      <td>4244733e06e7ecb4970a6e2683c13e61</td>\n",
       "      <td>48436dade18ac8b2bce089ec2a041202</td>\n",
       "      <td>2017-09-19 09:45:35</td>\n",
       "      <td>58.90</td>\n",
       "      <td>13.29</td>\n",
       "    </tr>\n",
       "    <tr>\n",
       "      <th>1</th>\n",
       "      <td>00018f77f2f0320c557190d7a144bdd3</td>\n",
       "      <td>1</td>\n",
       "      <td>e5f2d52b802189ee658865ca93d83a8f</td>\n",
       "      <td>dd7ddc04e1b6c2c614352b383efe2d36</td>\n",
       "      <td>2017-05-03 11:05:13</td>\n",
       "      <td>239.90</td>\n",
       "      <td>19.93</td>\n",
       "    </tr>\n",
       "    <tr>\n",
       "      <th>2</th>\n",
       "      <td>000229ec398224ef6ca0657da4fc703e</td>\n",
       "      <td>1</td>\n",
       "      <td>c777355d18b72b67abbeef9df44fd0fd</td>\n",
       "      <td>5b51032eddd242adc84c38acab88f23d</td>\n",
       "      <td>2018-01-18 14:48:30</td>\n",
       "      <td>199.00</td>\n",
       "      <td>17.87</td>\n",
       "    </tr>\n",
       "    <tr>\n",
       "      <th>3</th>\n",
       "      <td>00024acbcdf0a6daa1e931b038114c75</td>\n",
       "      <td>1</td>\n",
       "      <td>7634da152a4610f1595efa32f14722fc</td>\n",
       "      <td>9d7a1d34a5052409006425275ba1c2b4</td>\n",
       "      <td>2018-08-15 10:10:18</td>\n",
       "      <td>12.99</td>\n",
       "      <td>12.79</td>\n",
       "    </tr>\n",
       "    <tr>\n",
       "      <th>4</th>\n",
       "      <td>00042b26cf59d7ce69dfabb4e55b4fd9</td>\n",
       "      <td>1</td>\n",
       "      <td>ac6c3623068f30de03045865e4e10089</td>\n",
       "      <td>df560393f3a51e74553ab94004ba5c87</td>\n",
       "      <td>2017-02-13 13:57:51</td>\n",
       "      <td>199.90</td>\n",
       "      <td>18.14</td>\n",
       "    </tr>\n",
       "  </tbody>\n",
       "</table>\n",
       "</div>"
      ],
      "text/plain": [
       "                           order_id  order_item_id  \\\n",
       "0  00010242fe8c5a6d1ba2dd792cb16214              1   \n",
       "1  00018f77f2f0320c557190d7a144bdd3              1   \n",
       "2  000229ec398224ef6ca0657da4fc703e              1   \n",
       "3  00024acbcdf0a6daa1e931b038114c75              1   \n",
       "4  00042b26cf59d7ce69dfabb4e55b4fd9              1   \n",
       "\n",
       "                         product_id                         seller_id  \\\n",
       "0  4244733e06e7ecb4970a6e2683c13e61  48436dade18ac8b2bce089ec2a041202   \n",
       "1  e5f2d52b802189ee658865ca93d83a8f  dd7ddc04e1b6c2c614352b383efe2d36   \n",
       "2  c777355d18b72b67abbeef9df44fd0fd  5b51032eddd242adc84c38acab88f23d   \n",
       "3  7634da152a4610f1595efa32f14722fc  9d7a1d34a5052409006425275ba1c2b4   \n",
       "4  ac6c3623068f30de03045865e4e10089  df560393f3a51e74553ab94004ba5c87   \n",
       "\n",
       "   shipping_limit_date   price  freight_value  \n",
       "0  2017-09-19 09:45:35   58.90          13.29  \n",
       "1  2017-05-03 11:05:13  239.90          19.93  \n",
       "2  2018-01-18 14:48:30  199.00          17.87  \n",
       "3  2018-08-15 10:10:18   12.99          12.79  \n",
       "4  2017-02-13 13:57:51  199.90          18.14  "
      ]
     },
     "execution_count": 654,
     "metadata": {},
     "output_type": "execute_result"
    }
   ],
   "source": [
    "items.head()"
   ]
  },
  {
   "cell_type": "code",
   "execution_count": 655,
   "id": "5b4d9226",
   "metadata": {
    "ExecuteTime": {
     "end_time": "2022-08-05T08:38:04.193866Z",
     "start_time": "2022-08-05T08:38:04.185045Z"
    }
   },
   "outputs": [],
   "source": [
    "items = items.drop(columns='shipping_limit_date')"
   ]
  },
  {
   "cell_type": "code",
   "execution_count": 656,
   "id": "17ddd343",
   "metadata": {
    "ExecuteTime": {
     "end_time": "2022-08-05T08:38:04.205946Z",
     "start_time": "2022-08-05T08:38:04.195923Z"
    }
   },
   "outputs": [
    {
     "data": {
      "text/html": [
       "<div>\n",
       "<style scoped>\n",
       "    .dataframe tbody tr th:only-of-type {\n",
       "        vertical-align: middle;\n",
       "    }\n",
       "\n",
       "    .dataframe tbody tr th {\n",
       "        vertical-align: top;\n",
       "    }\n",
       "\n",
       "    .dataframe thead th {\n",
       "        text-align: right;\n",
       "    }\n",
       "</style>\n",
       "<table border=\"1\" class=\"dataframe\">\n",
       "  <thead>\n",
       "    <tr style=\"text-align: right;\">\n",
       "      <th></th>\n",
       "      <th>review_id</th>\n",
       "      <th>order_id</th>\n",
       "      <th>review_score</th>\n",
       "      <th>review_comment_title</th>\n",
       "      <th>review_comment_message</th>\n",
       "      <th>review_creation_date</th>\n",
       "      <th>review_answer_timestamp</th>\n",
       "    </tr>\n",
       "  </thead>\n",
       "  <tbody>\n",
       "    <tr>\n",
       "      <th>0</th>\n",
       "      <td>7bc2406110b926393aa56f80a40eba40</td>\n",
       "      <td>73fc7af87114b39712e6da79b0a377eb</td>\n",
       "      <td>4</td>\n",
       "      <td>NaN</td>\n",
       "      <td>NaN</td>\n",
       "      <td>2018-01-18 00:00:00</td>\n",
       "      <td>2018-01-18 21:46:59</td>\n",
       "    </tr>\n",
       "    <tr>\n",
       "      <th>1</th>\n",
       "      <td>80e641a11e56f04c1ad469d5645fdfde</td>\n",
       "      <td>a548910a1c6147796b98fdf73dbeba33</td>\n",
       "      <td>5</td>\n",
       "      <td>NaN</td>\n",
       "      <td>NaN</td>\n",
       "      <td>2018-03-10 00:00:00</td>\n",
       "      <td>2018-03-11 03:05:13</td>\n",
       "    </tr>\n",
       "    <tr>\n",
       "      <th>2</th>\n",
       "      <td>228ce5500dc1d8e020d8d1322874b6f0</td>\n",
       "      <td>f9e4b658b201a9f2ecdecbb34bed034b</td>\n",
       "      <td>5</td>\n",
       "      <td>NaN</td>\n",
       "      <td>NaN</td>\n",
       "      <td>2018-02-17 00:00:00</td>\n",
       "      <td>2018-02-18 14:36:24</td>\n",
       "    </tr>\n",
       "    <tr>\n",
       "      <th>3</th>\n",
       "      <td>e64fb393e7b32834bb789ff8bb30750e</td>\n",
       "      <td>658677c97b385a9be170737859d3511b</td>\n",
       "      <td>5</td>\n",
       "      <td>NaN</td>\n",
       "      <td>Recebi bem antes do prazo estipulado.</td>\n",
       "      <td>2017-04-21 00:00:00</td>\n",
       "      <td>2017-04-21 22:02:06</td>\n",
       "    </tr>\n",
       "    <tr>\n",
       "      <th>4</th>\n",
       "      <td>f7c4243c7fe1938f181bec41a392bdeb</td>\n",
       "      <td>8e6bfb81e283fa7e4f11123a3fb894f1</td>\n",
       "      <td>5</td>\n",
       "      <td>NaN</td>\n",
       "      <td>Parabéns lojas lannister adorei comprar pela I...</td>\n",
       "      <td>2018-03-01 00:00:00</td>\n",
       "      <td>2018-03-02 10:26:53</td>\n",
       "    </tr>\n",
       "  </tbody>\n",
       "</table>\n",
       "</div>"
      ],
      "text/plain": [
       "                          review_id                          order_id  \\\n",
       "0  7bc2406110b926393aa56f80a40eba40  73fc7af87114b39712e6da79b0a377eb   \n",
       "1  80e641a11e56f04c1ad469d5645fdfde  a548910a1c6147796b98fdf73dbeba33   \n",
       "2  228ce5500dc1d8e020d8d1322874b6f0  f9e4b658b201a9f2ecdecbb34bed034b   \n",
       "3  e64fb393e7b32834bb789ff8bb30750e  658677c97b385a9be170737859d3511b   \n",
       "4  f7c4243c7fe1938f181bec41a392bdeb  8e6bfb81e283fa7e4f11123a3fb894f1   \n",
       "\n",
       "   review_score review_comment_title  \\\n",
       "0             4                  NaN   \n",
       "1             5                  NaN   \n",
       "2             5                  NaN   \n",
       "3             5                  NaN   \n",
       "4             5                  NaN   \n",
       "\n",
       "                              review_comment_message review_creation_date  \\\n",
       "0                                                NaN  2018-01-18 00:00:00   \n",
       "1                                                NaN  2018-03-10 00:00:00   \n",
       "2                                                NaN  2018-02-17 00:00:00   \n",
       "3              Recebi bem antes do prazo estipulado.  2017-04-21 00:00:00   \n",
       "4  Parabéns lojas lannister adorei comprar pela I...  2018-03-01 00:00:00   \n",
       "\n",
       "  review_answer_timestamp  \n",
       "0     2018-01-18 21:46:59  \n",
       "1     2018-03-11 03:05:13  \n",
       "2     2018-02-18 14:36:24  \n",
       "3     2017-04-21 22:02:06  \n",
       "4     2018-03-02 10:26:53  "
      ]
     },
     "execution_count": 656,
     "metadata": {},
     "output_type": "execute_result"
    }
   ],
   "source": [
    "reviews.head()"
   ]
  },
  {
   "cell_type": "code",
   "execution_count": 657,
   "id": "81b3c66e",
   "metadata": {
    "ExecuteTime": {
     "end_time": "2022-08-05T08:38:04.216585Z",
     "start_time": "2022-08-05T08:38:04.207752Z"
    }
   },
   "outputs": [],
   "source": [
    "reviews = reviews.drop(columns=['review_comment_title', 'review_comment_message'])"
   ]
  },
  {
   "cell_type": "code",
   "execution_count": 658,
   "id": "830ae888",
   "metadata": {
    "ExecuteTime": {
     "end_time": "2022-08-05T08:38:04.228333Z",
     "start_time": "2022-08-05T08:38:04.218642Z"
    }
   },
   "outputs": [
    {
     "data": {
      "text/html": [
       "<div>\n",
       "<style scoped>\n",
       "    .dataframe tbody tr th:only-of-type {\n",
       "        vertical-align: middle;\n",
       "    }\n",
       "\n",
       "    .dataframe tbody tr th {\n",
       "        vertical-align: top;\n",
       "    }\n",
       "\n",
       "    .dataframe thead th {\n",
       "        text-align: right;\n",
       "    }\n",
       "</style>\n",
       "<table border=\"1\" class=\"dataframe\">\n",
       "  <thead>\n",
       "    <tr style=\"text-align: right;\">\n",
       "      <th></th>\n",
       "      <th>order_id</th>\n",
       "      <th>customer_id</th>\n",
       "      <th>order_status</th>\n",
       "      <th>order_purchase_timestamp</th>\n",
       "      <th>order_approved_at</th>\n",
       "      <th>order_delivered_carrier_date</th>\n",
       "      <th>order_delivered_customer_date</th>\n",
       "      <th>order_estimated_delivery_date</th>\n",
       "    </tr>\n",
       "  </thead>\n",
       "  <tbody>\n",
       "    <tr>\n",
       "      <th>0</th>\n",
       "      <td>e481f51cbdc54678b7cc49136f2d6af7</td>\n",
       "      <td>9ef432eb6251297304e76186b10a928d</td>\n",
       "      <td>delivered</td>\n",
       "      <td>2017-10-02 10:56:33</td>\n",
       "      <td>2017-10-02 11:07:15</td>\n",
       "      <td>2017-10-04 19:55:00</td>\n",
       "      <td>2017-10-10 21:25:13</td>\n",
       "      <td>2017-10-18 00:00:00</td>\n",
       "    </tr>\n",
       "    <tr>\n",
       "      <th>1</th>\n",
       "      <td>53cdb2fc8bc7dce0b6741e2150273451</td>\n",
       "      <td>b0830fb4747a6c6d20dea0b8c802d7ef</td>\n",
       "      <td>delivered</td>\n",
       "      <td>2018-07-24 20:41:37</td>\n",
       "      <td>2018-07-26 03:24:27</td>\n",
       "      <td>2018-07-26 14:31:00</td>\n",
       "      <td>2018-08-07 15:27:45</td>\n",
       "      <td>2018-08-13 00:00:00</td>\n",
       "    </tr>\n",
       "    <tr>\n",
       "      <th>2</th>\n",
       "      <td>47770eb9100c2d0c44946d9cf07ec65d</td>\n",
       "      <td>41ce2a54c0b03bf3443c3d931a367089</td>\n",
       "      <td>delivered</td>\n",
       "      <td>2018-08-08 08:38:49</td>\n",
       "      <td>2018-08-08 08:55:23</td>\n",
       "      <td>2018-08-08 13:50:00</td>\n",
       "      <td>2018-08-17 18:06:29</td>\n",
       "      <td>2018-09-04 00:00:00</td>\n",
       "    </tr>\n",
       "    <tr>\n",
       "      <th>3</th>\n",
       "      <td>949d5b44dbf5de918fe9c16f97b45f8a</td>\n",
       "      <td>f88197465ea7920adcdbec7375364d82</td>\n",
       "      <td>delivered</td>\n",
       "      <td>2017-11-18 19:28:06</td>\n",
       "      <td>2017-11-18 19:45:59</td>\n",
       "      <td>2017-11-22 13:39:59</td>\n",
       "      <td>2017-12-02 00:28:42</td>\n",
       "      <td>2017-12-15 00:00:00</td>\n",
       "    </tr>\n",
       "    <tr>\n",
       "      <th>4</th>\n",
       "      <td>ad21c59c0840e6cb83a9ceb5573f8159</td>\n",
       "      <td>8ab97904e6daea8866dbdbc4fb7aad2c</td>\n",
       "      <td>delivered</td>\n",
       "      <td>2018-02-13 21:18:39</td>\n",
       "      <td>2018-02-13 22:20:29</td>\n",
       "      <td>2018-02-14 19:46:34</td>\n",
       "      <td>2018-02-16 18:17:02</td>\n",
       "      <td>2018-02-26 00:00:00</td>\n",
       "    </tr>\n",
       "  </tbody>\n",
       "</table>\n",
       "</div>"
      ],
      "text/plain": [
       "                           order_id                       customer_id  \\\n",
       "0  e481f51cbdc54678b7cc49136f2d6af7  9ef432eb6251297304e76186b10a928d   \n",
       "1  53cdb2fc8bc7dce0b6741e2150273451  b0830fb4747a6c6d20dea0b8c802d7ef   \n",
       "2  47770eb9100c2d0c44946d9cf07ec65d  41ce2a54c0b03bf3443c3d931a367089   \n",
       "3  949d5b44dbf5de918fe9c16f97b45f8a  f88197465ea7920adcdbec7375364d82   \n",
       "4  ad21c59c0840e6cb83a9ceb5573f8159  8ab97904e6daea8866dbdbc4fb7aad2c   \n",
       "\n",
       "  order_status order_purchase_timestamp    order_approved_at  \\\n",
       "0    delivered      2017-10-02 10:56:33  2017-10-02 11:07:15   \n",
       "1    delivered      2018-07-24 20:41:37  2018-07-26 03:24:27   \n",
       "2    delivered      2018-08-08 08:38:49  2018-08-08 08:55:23   \n",
       "3    delivered      2017-11-18 19:28:06  2017-11-18 19:45:59   \n",
       "4    delivered      2018-02-13 21:18:39  2018-02-13 22:20:29   \n",
       "\n",
       "  order_delivered_carrier_date order_delivered_customer_date  \\\n",
       "0          2017-10-04 19:55:00           2017-10-10 21:25:13   \n",
       "1          2018-07-26 14:31:00           2018-08-07 15:27:45   \n",
       "2          2018-08-08 13:50:00           2018-08-17 18:06:29   \n",
       "3          2017-11-22 13:39:59           2017-12-02 00:28:42   \n",
       "4          2018-02-14 19:46:34           2018-02-16 18:17:02   \n",
       "\n",
       "  order_estimated_delivery_date  \n",
       "0           2017-10-18 00:00:00  \n",
       "1           2018-08-13 00:00:00  \n",
       "2           2018-09-04 00:00:00  \n",
       "3           2017-12-15 00:00:00  \n",
       "4           2018-02-26 00:00:00  "
      ]
     },
     "execution_count": 658,
     "metadata": {},
     "output_type": "execute_result"
    }
   ],
   "source": [
    "orders.head()"
   ]
  },
  {
   "cell_type": "code",
   "execution_count": 659,
   "id": "ff57f91c",
   "metadata": {
    "ExecuteTime": {
     "end_time": "2022-08-05T08:38:04.240195Z",
     "start_time": "2022-08-05T08:38:04.230135Z"
    }
   },
   "outputs": [],
   "source": [
    "orders = orders.drop(columns=['order_approved_at', 'order_delivered_carrier_date'])"
   ]
  },
  {
   "cell_type": "code",
   "execution_count": 660,
   "id": "824468aa",
   "metadata": {
    "ExecuteTime": {
     "end_time": "2022-08-05T08:38:04.255301Z",
     "start_time": "2022-08-05T08:38:04.242095Z"
    }
   },
   "outputs": [
    {
     "data": {
      "text/html": [
       "<div>\n",
       "<style scoped>\n",
       "    .dataframe tbody tr th:only-of-type {\n",
       "        vertical-align: middle;\n",
       "    }\n",
       "\n",
       "    .dataframe tbody tr th {\n",
       "        vertical-align: top;\n",
       "    }\n",
       "\n",
       "    .dataframe thead th {\n",
       "        text-align: right;\n",
       "    }\n",
       "</style>\n",
       "<table border=\"1\" class=\"dataframe\">\n",
       "  <thead>\n",
       "    <tr style=\"text-align: right;\">\n",
       "      <th></th>\n",
       "      <th>product_id</th>\n",
       "      <th>product_category_name</th>\n",
       "      <th>product_name_lenght</th>\n",
       "      <th>product_description_lenght</th>\n",
       "      <th>product_photos_qty</th>\n",
       "      <th>product_weight_g</th>\n",
       "      <th>product_length_cm</th>\n",
       "      <th>product_height_cm</th>\n",
       "      <th>product_width_cm</th>\n",
       "    </tr>\n",
       "  </thead>\n",
       "  <tbody>\n",
       "    <tr>\n",
       "      <th>0</th>\n",
       "      <td>1e9e8ef04dbcff4541ed26657ea517e5</td>\n",
       "      <td>perfumaria</td>\n",
       "      <td>40.0</td>\n",
       "      <td>287.0</td>\n",
       "      <td>1.0</td>\n",
       "      <td>225.0</td>\n",
       "      <td>16.0</td>\n",
       "      <td>10.0</td>\n",
       "      <td>14.0</td>\n",
       "    </tr>\n",
       "    <tr>\n",
       "      <th>1</th>\n",
       "      <td>3aa071139cb16b67ca9e5dea641aaa2f</td>\n",
       "      <td>artes</td>\n",
       "      <td>44.0</td>\n",
       "      <td>276.0</td>\n",
       "      <td>1.0</td>\n",
       "      <td>1000.0</td>\n",
       "      <td>30.0</td>\n",
       "      <td>18.0</td>\n",
       "      <td>20.0</td>\n",
       "    </tr>\n",
       "    <tr>\n",
       "      <th>2</th>\n",
       "      <td>96bd76ec8810374ed1b65e291975717f</td>\n",
       "      <td>esporte_lazer</td>\n",
       "      <td>46.0</td>\n",
       "      <td>250.0</td>\n",
       "      <td>1.0</td>\n",
       "      <td>154.0</td>\n",
       "      <td>18.0</td>\n",
       "      <td>9.0</td>\n",
       "      <td>15.0</td>\n",
       "    </tr>\n",
       "    <tr>\n",
       "      <th>3</th>\n",
       "      <td>cef67bcfe19066a932b7673e239eb23d</td>\n",
       "      <td>bebes</td>\n",
       "      <td>27.0</td>\n",
       "      <td>261.0</td>\n",
       "      <td>1.0</td>\n",
       "      <td>371.0</td>\n",
       "      <td>26.0</td>\n",
       "      <td>4.0</td>\n",
       "      <td>26.0</td>\n",
       "    </tr>\n",
       "    <tr>\n",
       "      <th>4</th>\n",
       "      <td>9dc1a7de274444849c219cff195d0b71</td>\n",
       "      <td>utilidades_domesticas</td>\n",
       "      <td>37.0</td>\n",
       "      <td>402.0</td>\n",
       "      <td>4.0</td>\n",
       "      <td>625.0</td>\n",
       "      <td>20.0</td>\n",
       "      <td>17.0</td>\n",
       "      <td>13.0</td>\n",
       "    </tr>\n",
       "  </tbody>\n",
       "</table>\n",
       "</div>"
      ],
      "text/plain": [
       "                         product_id  product_category_name  \\\n",
       "0  1e9e8ef04dbcff4541ed26657ea517e5             perfumaria   \n",
       "1  3aa071139cb16b67ca9e5dea641aaa2f                  artes   \n",
       "2  96bd76ec8810374ed1b65e291975717f          esporte_lazer   \n",
       "3  cef67bcfe19066a932b7673e239eb23d                  bebes   \n",
       "4  9dc1a7de274444849c219cff195d0b71  utilidades_domesticas   \n",
       "\n",
       "   product_name_lenght  product_description_lenght  product_photos_qty  \\\n",
       "0                 40.0                       287.0                 1.0   \n",
       "1                 44.0                       276.0                 1.0   \n",
       "2                 46.0                       250.0                 1.0   \n",
       "3                 27.0                       261.0                 1.0   \n",
       "4                 37.0                       402.0                 4.0   \n",
       "\n",
       "   product_weight_g  product_length_cm  product_height_cm  product_width_cm  \n",
       "0             225.0               16.0               10.0              14.0  \n",
       "1            1000.0               30.0               18.0              20.0  \n",
       "2             154.0               18.0                9.0              15.0  \n",
       "3             371.0               26.0                4.0              26.0  \n",
       "4             625.0               20.0               17.0              13.0  "
      ]
     },
     "execution_count": 660,
     "metadata": {},
     "output_type": "execute_result"
    }
   ],
   "source": [
    "products.head()"
   ]
  },
  {
   "cell_type": "code",
   "execution_count": 661,
   "id": "bf871ab1",
   "metadata": {
    "ExecuteTime": {
     "end_time": "2022-08-05T08:38:04.262361Z",
     "start_time": "2022-08-05T08:38:04.257960Z"
    }
   },
   "outputs": [],
   "source": [
    "products = products.drop(columns=['product_name_lenght', 'product_description_lenght', \n",
    "                                  'product_photos_qty', 'product_weight_g', 'product_length_cm', \n",
    "                                  'product_height_cm', 'product_width_cm'])"
   ]
  },
  {
   "cell_type": "code",
   "execution_count": 662,
   "id": "8e1e616a",
   "metadata": {
    "ExecuteTime": {
     "end_time": "2022-08-05T08:38:04.272621Z",
     "start_time": "2022-08-05T08:38:04.264839Z"
    }
   },
   "outputs": [
    {
     "data": {
      "text/html": [
       "<div>\n",
       "<style scoped>\n",
       "    .dataframe tbody tr th:only-of-type {\n",
       "        vertical-align: middle;\n",
       "    }\n",
       "\n",
       "    .dataframe tbody tr th {\n",
       "        vertical-align: top;\n",
       "    }\n",
       "\n",
       "    .dataframe thead th {\n",
       "        text-align: right;\n",
       "    }\n",
       "</style>\n",
       "<table border=\"1\" class=\"dataframe\">\n",
       "  <thead>\n",
       "    <tr style=\"text-align: right;\">\n",
       "      <th></th>\n",
       "      <th>seller_id</th>\n",
       "      <th>seller_zip_code_prefix</th>\n",
       "      <th>seller_city</th>\n",
       "      <th>seller_state</th>\n",
       "    </tr>\n",
       "  </thead>\n",
       "  <tbody>\n",
       "    <tr>\n",
       "      <th>0</th>\n",
       "      <td>3442f8959a84dea7ee197c632cb2df15</td>\n",
       "      <td>13023</td>\n",
       "      <td>campinas</td>\n",
       "      <td>SP</td>\n",
       "    </tr>\n",
       "    <tr>\n",
       "      <th>1</th>\n",
       "      <td>d1b65fc7debc3361ea86b5f14c68d2e2</td>\n",
       "      <td>13844</td>\n",
       "      <td>mogi guacu</td>\n",
       "      <td>SP</td>\n",
       "    </tr>\n",
       "    <tr>\n",
       "      <th>2</th>\n",
       "      <td>ce3ad9de960102d0677a81f5d0bb7b2d</td>\n",
       "      <td>20031</td>\n",
       "      <td>rio de janeiro</td>\n",
       "      <td>RJ</td>\n",
       "    </tr>\n",
       "    <tr>\n",
       "      <th>3</th>\n",
       "      <td>c0f3eea2e14555b6faeea3dd58c1b1c3</td>\n",
       "      <td>4195</td>\n",
       "      <td>sao paulo</td>\n",
       "      <td>SP</td>\n",
       "    </tr>\n",
       "    <tr>\n",
       "      <th>4</th>\n",
       "      <td>51a04a8a6bdcb23deccc82b0b80742cf</td>\n",
       "      <td>12914</td>\n",
       "      <td>braganca paulista</td>\n",
       "      <td>SP</td>\n",
       "    </tr>\n",
       "  </tbody>\n",
       "</table>\n",
       "</div>"
      ],
      "text/plain": [
       "                          seller_id  seller_zip_code_prefix  \\\n",
       "0  3442f8959a84dea7ee197c632cb2df15                   13023   \n",
       "1  d1b65fc7debc3361ea86b5f14c68d2e2                   13844   \n",
       "2  ce3ad9de960102d0677a81f5d0bb7b2d                   20031   \n",
       "3  c0f3eea2e14555b6faeea3dd58c1b1c3                    4195   \n",
       "4  51a04a8a6bdcb23deccc82b0b80742cf                   12914   \n",
       "\n",
       "         seller_city seller_state  \n",
       "0           campinas           SP  \n",
       "1         mogi guacu           SP  \n",
       "2     rio de janeiro           RJ  \n",
       "3          sao paulo           SP  \n",
       "4  braganca paulista           SP  "
      ]
     },
     "execution_count": 662,
     "metadata": {},
     "output_type": "execute_result"
    }
   ],
   "source": [
    "sellers.head()"
   ]
  },
  {
   "cell_type": "markdown",
   "id": "c862d229",
   "metadata": {},
   "source": [
    "Le produit ou le vendeur peut avoir un lien avec la satisfaction du client, on va donc garder les variables `product_id` et `seller_id`"
   ]
  },
  {
   "cell_type": "markdown",
   "id": "29d77665",
   "metadata": {},
   "source": [
    "## Jointure des dataframes"
   ]
  },
  {
   "cell_type": "markdown",
   "id": "c98dc3c2",
   "metadata": {},
   "source": [
    "On commence par remplacer la colonne `product_category_name` de `products` par `product_category_name_english`"
   ]
  },
  {
   "cell_type": "code",
   "execution_count": 663,
   "id": "b88add56",
   "metadata": {
    "ExecuteTime": {
     "end_time": "2022-08-05T08:38:04.310489Z",
     "start_time": "2022-08-05T08:38:04.274727Z"
    }
   },
   "outputs": [],
   "source": [
    "df = pd.merge(products, translation, how='left')\n",
    "df.isna().mean()\n",
    "\n",
    "mask1 = df['product_category_name'] == 'portateis_cozinha_e_preparadores_de_alimentos'\n",
    "df.loc[mask1, 'product_category_name_english'] = 'kitchen_and_food_preparation'\n",
    "mask2 = df['product_category_name'] == 'pc_gamer'\n",
    "df.loc[mask2, 'product_category_name_english'] = 'pc_gamer'\n",
    "df[mask]\n",
    "\n",
    "products = df.drop(columns='product_category_name')"
   ]
  },
  {
   "cell_type": "code",
   "execution_count": 664,
   "id": "676a7a64",
   "metadata": {
    "ExecuteTime": {
     "end_time": "2022-08-05T08:38:04.439483Z",
     "start_time": "2022-08-05T08:38:04.312634Z"
    }
   },
   "outputs": [
    {
     "name": "stdout",
     "output_type": "stream",
     "text": [
      "(99441, 10)\n",
      "(99441, 5)\n",
      "(99441, 6)\n"
     ]
    }
   ],
   "source": [
    "df = pd.merge(customers, orders, on='customer_id', how='left')\n",
    "print(df.shape)\n",
    "print(customers.shape)\n",
    "print(orders.shape)"
   ]
  },
  {
   "cell_type": "code",
   "execution_count": 665,
   "id": "12632650",
   "metadata": {
    "ExecuteTime": {
     "end_time": "2022-08-05T08:38:04.589379Z",
     "start_time": "2022-08-05T08:38:04.441826Z"
    }
   },
   "outputs": [],
   "source": [
    "df = pd.merge(df, items, on='order_id', how='left')"
   ]
  },
  {
   "cell_type": "code",
   "execution_count": 666,
   "id": "f9cb16f2",
   "metadata": {
    "ExecuteTime": {
     "end_time": "2022-08-05T08:38:04.602946Z",
     "start_time": "2022-08-05T08:38:04.600046Z"
    }
   },
   "outputs": [
    {
     "name": "stdout",
     "output_type": "stream",
     "text": [
      "(112650, 6)\n",
      "(113425, 15)\n"
     ]
    }
   ],
   "source": [
    "print(items.shape)\n",
    "print(df.shape)"
   ]
  },
  {
   "cell_type": "code",
   "execution_count": 667,
   "id": "07940080",
   "metadata": {
    "ExecuteTime": {
     "end_time": "2022-08-05T08:38:04.777153Z",
     "start_time": "2022-08-05T08:38:04.606104Z"
    }
   },
   "outputs": [],
   "source": [
    "df = pd.merge(df, reviews, on='order_id', how='left')"
   ]
  },
  {
   "cell_type": "code",
   "execution_count": 668,
   "id": "1977784d",
   "metadata": {
    "ExecuteTime": {
     "end_time": "2022-08-05T08:38:04.940957Z",
     "start_time": "2022-08-05T08:38:04.937397Z"
    }
   },
   "outputs": [
    {
     "name": "stdout",
     "output_type": "stream",
     "text": [
      "(99224, 5)\n",
      "(114092, 19)\n"
     ]
    }
   ],
   "source": [
    "print(reviews.shape)\n",
    "print(df.shape)"
   ]
  },
  {
   "cell_type": "code",
   "execution_count": 669,
   "id": "fc90a337",
   "metadata": {
    "ExecuteTime": {
     "end_time": "2022-08-05T08:38:04.934638Z",
     "start_time": "2022-08-05T08:38:04.785967Z"
    }
   },
   "outputs": [],
   "source": [
    "df = pd.merge(df, products, on='product_id', how='left')"
   ]
  },
  {
   "cell_type": "code",
   "execution_count": 670,
   "id": "a833ce4e",
   "metadata": {
    "ExecuteTime": {
     "end_time": "2022-08-05T08:38:04.940957Z",
     "start_time": "2022-08-05T08:38:04.937397Z"
    }
   },
   "outputs": [
    {
     "name": "stdout",
     "output_type": "stream",
     "text": [
      "(32951, 2)\n",
      "(114092, 20)\n"
     ]
    }
   ],
   "source": [
    "print(products.shape)\n",
    "print(df.shape)"
   ]
  },
  {
   "cell_type": "code",
   "execution_count": 671,
   "id": "71994097",
   "metadata": {
    "ExecuteTime": {
     "end_time": "2022-08-05T08:38:04.963198Z",
     "start_time": "2022-08-05T08:38:04.943351Z"
    }
   },
   "outputs": [
    {
     "data": {
      "text/html": [
       "<div>\n",
       "<style scoped>\n",
       "    .dataframe tbody tr th:only-of-type {\n",
       "        vertical-align: middle;\n",
       "    }\n",
       "\n",
       "    .dataframe tbody tr th {\n",
       "        vertical-align: top;\n",
       "    }\n",
       "\n",
       "    .dataframe thead th {\n",
       "        text-align: right;\n",
       "    }\n",
       "</style>\n",
       "<table border=\"1\" class=\"dataframe\">\n",
       "  <thead>\n",
       "    <tr style=\"text-align: right;\">\n",
       "      <th></th>\n",
       "      <th>customer_id</th>\n",
       "      <th>customer_unique_id</th>\n",
       "      <th>customer_zip_code_prefix</th>\n",
       "      <th>customer_city</th>\n",
       "      <th>customer_state</th>\n",
       "      <th>order_id</th>\n",
       "      <th>order_status</th>\n",
       "      <th>order_purchase_timestamp</th>\n",
       "      <th>order_delivered_customer_date</th>\n",
       "      <th>order_estimated_delivery_date</th>\n",
       "      <th>order_item_id</th>\n",
       "      <th>product_id</th>\n",
       "      <th>seller_id</th>\n",
       "      <th>price</th>\n",
       "      <th>freight_value</th>\n",
       "      <th>review_id</th>\n",
       "      <th>review_score</th>\n",
       "      <th>review_creation_date</th>\n",
       "      <th>review_answer_timestamp</th>\n",
       "      <th>product_category_name_english</th>\n",
       "    </tr>\n",
       "  </thead>\n",
       "  <tbody>\n",
       "    <tr>\n",
       "      <th>0</th>\n",
       "      <td>06b8999e2fba1a1fbc88172c00ba8bc7</td>\n",
       "      <td>861eff4711a542e4b93843c6dd7febb0</td>\n",
       "      <td>14409</td>\n",
       "      <td>franca</td>\n",
       "      <td>SP</td>\n",
       "      <td>00e7ee1b050b8499577073aeb2a297a1</td>\n",
       "      <td>delivered</td>\n",
       "      <td>2017-05-16 15:05:35</td>\n",
       "      <td>2017-05-25 10:35:35</td>\n",
       "      <td>2017-06-05 00:00:00</td>\n",
       "      <td>1.0</td>\n",
       "      <td>a9516a079e37a9c9c36b9b78b10169e8</td>\n",
       "      <td>7c67e1448b00f6e969d365cea6b010ab</td>\n",
       "      <td>124.99</td>\n",
       "      <td>21.88</td>\n",
       "      <td>88b8b52d46df026a9d1ad2136a59b30b</td>\n",
       "      <td>4.0</td>\n",
       "      <td>2017-05-26 00:00:00</td>\n",
       "      <td>2017-05-30 22:34:40</td>\n",
       "      <td>office_furniture</td>\n",
       "    </tr>\n",
       "    <tr>\n",
       "      <th>1</th>\n",
       "      <td>18955e83d337fd6b2def6b18a428ac77</td>\n",
       "      <td>290c77bc529b7ac935b93aa66c333dc3</td>\n",
       "      <td>9790</td>\n",
       "      <td>sao bernardo do campo</td>\n",
       "      <td>SP</td>\n",
       "      <td>29150127e6685892b6eab3eec79f59c7</td>\n",
       "      <td>delivered</td>\n",
       "      <td>2018-01-12 20:48:24</td>\n",
       "      <td>2018-01-29 12:41:19</td>\n",
       "      <td>2018-02-06 00:00:00</td>\n",
       "      <td>1.0</td>\n",
       "      <td>4aa6014eceb682077f9dc4bffebc05b0</td>\n",
       "      <td>b8bc237ba3788b23da09c0f1f3a3288c</td>\n",
       "      <td>289.00</td>\n",
       "      <td>46.48</td>\n",
       "      <td>02fc48a9efa3e3d0f1a8ea26507eeec3</td>\n",
       "      <td>5.0</td>\n",
       "      <td>2018-01-30 00:00:00</td>\n",
       "      <td>2018-02-10 22:43:29</td>\n",
       "      <td>housewares</td>\n",
       "    </tr>\n",
       "    <tr>\n",
       "      <th>2</th>\n",
       "      <td>4e7b3e00288586ebd08712fdd0374a03</td>\n",
       "      <td>060e732b5b29e8181a18229c7b0b2b5e</td>\n",
       "      <td>1151</td>\n",
       "      <td>sao paulo</td>\n",
       "      <td>SP</td>\n",
       "      <td>b2059ed67ce144a36e2aa97d2c9e9ad2</td>\n",
       "      <td>delivered</td>\n",
       "      <td>2018-05-19 16:07:45</td>\n",
       "      <td>2018-06-14 17:58:51</td>\n",
       "      <td>2018-06-13 00:00:00</td>\n",
       "      <td>1.0</td>\n",
       "      <td>bd07b66896d6f1494f5b86251848ced7</td>\n",
       "      <td>7c67e1448b00f6e969d365cea6b010ab</td>\n",
       "      <td>139.94</td>\n",
       "      <td>17.79</td>\n",
       "      <td>5ad6695d76ee186dc473c42706984d87</td>\n",
       "      <td>5.0</td>\n",
       "      <td>2018-06-15 00:00:00</td>\n",
       "      <td>2018-06-15 12:10:59</td>\n",
       "      <td>office_furniture</td>\n",
       "    </tr>\n",
       "    <tr>\n",
       "      <th>3</th>\n",
       "      <td>b2b6027bc5c5109e529d4dc6358b12c3</td>\n",
       "      <td>259dac757896d24d7702b9acbbff3f3c</td>\n",
       "      <td>8775</td>\n",
       "      <td>mogi das cruzes</td>\n",
       "      <td>SP</td>\n",
       "      <td>951670f92359f4fe4a63112aa7306eba</td>\n",
       "      <td>delivered</td>\n",
       "      <td>2018-03-13 16:06:38</td>\n",
       "      <td>2018-03-28 16:04:25</td>\n",
       "      <td>2018-04-10 00:00:00</td>\n",
       "      <td>1.0</td>\n",
       "      <td>a5647c44af977b148e0a3a4751a09e2e</td>\n",
       "      <td>7c67e1448b00f6e969d365cea6b010ab</td>\n",
       "      <td>149.94</td>\n",
       "      <td>23.36</td>\n",
       "      <td>059a801bb31f6aab2266e672cab87bc5</td>\n",
       "      <td>5.0</td>\n",
       "      <td>2018-03-29 00:00:00</td>\n",
       "      <td>2018-04-02 18:36:47</td>\n",
       "      <td>office_furniture</td>\n",
       "    </tr>\n",
       "    <tr>\n",
       "      <th>4</th>\n",
       "      <td>4f2d8ab171c80ec8364f7c12e35b23ad</td>\n",
       "      <td>345ecd01c38d18a9036ed96c73b8d066</td>\n",
       "      <td>13056</td>\n",
       "      <td>campinas</td>\n",
       "      <td>SP</td>\n",
       "      <td>6b7d50bd145f6fc7f33cebabd7e49d0f</td>\n",
       "      <td>delivered</td>\n",
       "      <td>2018-07-29 09:51:30</td>\n",
       "      <td>2018-08-09 20:55:48</td>\n",
       "      <td>2018-08-15 00:00:00</td>\n",
       "      <td>1.0</td>\n",
       "      <td>9391a573abe00141c56e38d84d7d5b3b</td>\n",
       "      <td>4a3ca9315b744ce9f8e9374361493884</td>\n",
       "      <td>230.00</td>\n",
       "      <td>22.25</td>\n",
       "      <td>8490879d58d6c5d7773f2739a03f089a</td>\n",
       "      <td>5.0</td>\n",
       "      <td>2018-08-10 00:00:00</td>\n",
       "      <td>2018-08-17 01:59:52</td>\n",
       "      <td>home_confort</td>\n",
       "    </tr>\n",
       "  </tbody>\n",
       "</table>\n",
       "</div>"
      ],
      "text/plain": [
       "                        customer_id                customer_unique_id  \\\n",
       "0  06b8999e2fba1a1fbc88172c00ba8bc7  861eff4711a542e4b93843c6dd7febb0   \n",
       "1  18955e83d337fd6b2def6b18a428ac77  290c77bc529b7ac935b93aa66c333dc3   \n",
       "2  4e7b3e00288586ebd08712fdd0374a03  060e732b5b29e8181a18229c7b0b2b5e   \n",
       "3  b2b6027bc5c5109e529d4dc6358b12c3  259dac757896d24d7702b9acbbff3f3c   \n",
       "4  4f2d8ab171c80ec8364f7c12e35b23ad  345ecd01c38d18a9036ed96c73b8d066   \n",
       "\n",
       "   customer_zip_code_prefix          customer_city customer_state  \\\n",
       "0                     14409                 franca             SP   \n",
       "1                      9790  sao bernardo do campo             SP   \n",
       "2                      1151              sao paulo             SP   \n",
       "3                      8775        mogi das cruzes             SP   \n",
       "4                     13056               campinas             SP   \n",
       "\n",
       "                           order_id order_status order_purchase_timestamp  \\\n",
       "0  00e7ee1b050b8499577073aeb2a297a1    delivered      2017-05-16 15:05:35   \n",
       "1  29150127e6685892b6eab3eec79f59c7    delivered      2018-01-12 20:48:24   \n",
       "2  b2059ed67ce144a36e2aa97d2c9e9ad2    delivered      2018-05-19 16:07:45   \n",
       "3  951670f92359f4fe4a63112aa7306eba    delivered      2018-03-13 16:06:38   \n",
       "4  6b7d50bd145f6fc7f33cebabd7e49d0f    delivered      2018-07-29 09:51:30   \n",
       "\n",
       "  order_delivered_customer_date order_estimated_delivery_date  order_item_id  \\\n",
       "0           2017-05-25 10:35:35           2017-06-05 00:00:00            1.0   \n",
       "1           2018-01-29 12:41:19           2018-02-06 00:00:00            1.0   \n",
       "2           2018-06-14 17:58:51           2018-06-13 00:00:00            1.0   \n",
       "3           2018-03-28 16:04:25           2018-04-10 00:00:00            1.0   \n",
       "4           2018-08-09 20:55:48           2018-08-15 00:00:00            1.0   \n",
       "\n",
       "                         product_id                         seller_id   price  \\\n",
       "0  a9516a079e37a9c9c36b9b78b10169e8  7c67e1448b00f6e969d365cea6b010ab  124.99   \n",
       "1  4aa6014eceb682077f9dc4bffebc05b0  b8bc237ba3788b23da09c0f1f3a3288c  289.00   \n",
       "2  bd07b66896d6f1494f5b86251848ced7  7c67e1448b00f6e969d365cea6b010ab  139.94   \n",
       "3  a5647c44af977b148e0a3a4751a09e2e  7c67e1448b00f6e969d365cea6b010ab  149.94   \n",
       "4  9391a573abe00141c56e38d84d7d5b3b  4a3ca9315b744ce9f8e9374361493884  230.00   \n",
       "\n",
       "   freight_value                         review_id  review_score  \\\n",
       "0          21.88  88b8b52d46df026a9d1ad2136a59b30b           4.0   \n",
       "1          46.48  02fc48a9efa3e3d0f1a8ea26507eeec3           5.0   \n",
       "2          17.79  5ad6695d76ee186dc473c42706984d87           5.0   \n",
       "3          23.36  059a801bb31f6aab2266e672cab87bc5           5.0   \n",
       "4          22.25  8490879d58d6c5d7773f2739a03f089a           5.0   \n",
       "\n",
       "  review_creation_date review_answer_timestamp product_category_name_english  \n",
       "0  2017-05-26 00:00:00     2017-05-30 22:34:40              office_furniture  \n",
       "1  2018-01-30 00:00:00     2018-02-10 22:43:29                    housewares  \n",
       "2  2018-06-15 00:00:00     2018-06-15 12:10:59              office_furniture  \n",
       "3  2018-03-29 00:00:00     2018-04-02 18:36:47              office_furniture  \n",
       "4  2018-08-10 00:00:00     2018-08-17 01:59:52                  home_confort  "
      ]
     },
     "execution_count": 671,
     "metadata": {},
     "output_type": "execute_result"
    }
   ],
   "source": [
    "df.head()"
   ]
  },
  {
   "cell_type": "markdown",
   "id": "8d661609",
   "metadata": {},
   "source": [
    "Un `customer_id` peut apparaître plusieurs fois s'il a passer plusieurs commandes en une seule fois, et le `customer_unique_id` apparaît même quand les commandes ne datent pas du même instant tant que c'est la même personne qui a fait la commande."
   ]
  },
  {
   "cell_type": "code",
   "execution_count": 672,
   "id": "e2dd6049",
   "metadata": {
    "ExecuteTime": {
     "end_time": "2022-08-05T08:38:05.043028Z",
     "start_time": "2022-08-05T08:38:04.965541Z"
    }
   },
   "outputs": [
    {
     "data": {
      "text/plain": [
       "(114092, 17)"
      ]
     },
     "execution_count": 672,
     "metadata": {},
     "output_type": "execute_result"
    }
   ],
   "source": [
    "df = df.drop(columns=['customer_id', 'order_id', 'review_id'])\n",
    "df.shape"
   ]
  },
  {
   "cell_type": "code",
   "execution_count": 673,
   "id": "7e7e1cda",
   "metadata": {
    "ExecuteTime": {
     "end_time": "2022-08-05T08:38:05.096203Z",
     "start_time": "2022-08-05T08:38:05.045427Z"
    }
   },
   "outputs": [
    {
     "data": {
      "text/plain": [
       "(110839, 17)"
      ]
     },
     "execution_count": 673,
     "metadata": {},
     "output_type": "execute_result"
    }
   ],
   "source": [
    "df = df[df['order_delivered_customer_date'].notna()]\n",
    "df.shape"
   ]
  },
  {
   "cell_type": "code",
   "execution_count": 674,
   "id": "d1da8ce1",
   "metadata": {
    "ExecuteTime": {
     "end_time": "2022-08-05T08:38:05.105208Z",
     "start_time": "2022-08-05T08:38:05.098625Z"
    }
   },
   "outputs": [
    {
     "data": {
      "text/plain": [
       "customer_unique_id                object\n",
       "customer_zip_code_prefix           int64\n",
       "customer_city                     object\n",
       "customer_state                    object\n",
       "order_status                      object\n",
       "order_purchase_timestamp          object\n",
       "order_delivered_customer_date     object\n",
       "order_estimated_delivery_date     object\n",
       "order_item_id                    float64\n",
       "product_id                        object\n",
       "seller_id                         object\n",
       "price                            float64\n",
       "freight_value                    float64\n",
       "review_score                     float64\n",
       "review_creation_date              object\n",
       "review_answer_timestamp           object\n",
       "product_category_name_english     object\n",
       "dtype: object"
      ]
     },
     "execution_count": 674,
     "metadata": {},
     "output_type": "execute_result"
    }
   ],
   "source": [
    "df.dtypes"
   ]
  },
  {
   "cell_type": "markdown",
   "id": "8285e5e5",
   "metadata": {},
   "source": [
    "# Variables temporelles"
   ]
  },
  {
   "cell_type": "code",
   "execution_count": 675,
   "id": "88cd1d1b",
   "metadata": {
    "ExecuteTime": {
     "end_time": "2022-08-05T08:38:05.298799Z",
     "start_time": "2022-08-05T08:38:05.107831Z"
    }
   },
   "outputs": [],
   "source": [
    "columns = ['order_purchase_timestamp', 'order_delivered_customer_date', 'order_estimated_delivery_date',\n",
    "           'review_creation_date', 'review_answer_timestamp'\n",
    "          ]\n",
    "for col in columns:\n",
    "    df[col] = df[col].astype('datetime64')"
   ]
  },
  {
   "cell_type": "code",
   "execution_count": 676,
   "id": "7b88a019",
   "metadata": {
    "ExecuteTime": {
     "end_time": "2022-08-05T08:38:05.306199Z",
     "start_time": "2022-08-05T08:38:05.301030Z"
    }
   },
   "outputs": [
    {
     "data": {
      "text/plain": [
       "customer_unique_id                       object\n",
       "customer_zip_code_prefix                  int64\n",
       "customer_city                            object\n",
       "customer_state                           object\n",
       "order_status                             object\n",
       "order_purchase_timestamp         datetime64[ns]\n",
       "order_delivered_customer_date    datetime64[ns]\n",
       "order_estimated_delivery_date    datetime64[ns]\n",
       "order_item_id                           float64\n",
       "product_id                               object\n",
       "seller_id                                object\n",
       "price                                   float64\n",
       "freight_value                           float64\n",
       "review_score                            float64\n",
       "review_creation_date             datetime64[ns]\n",
       "review_answer_timestamp          datetime64[ns]\n",
       "product_category_name_english            object\n",
       "dtype: object"
      ]
     },
     "execution_count": 676,
     "metadata": {},
     "output_type": "execute_result"
    }
   ],
   "source": [
    "df.dtypes"
   ]
  },
  {
   "cell_type": "code",
   "execution_count": 677,
   "id": "5d35c47e",
   "metadata": {
    "ExecuteTime": {
     "end_time": "2022-08-05T08:38:05.355876Z",
     "start_time": "2022-08-05T08:38:05.308332Z"
    }
   },
   "outputs": [
    {
     "data": {
      "text/html": [
       "<div>\n",
       "<style scoped>\n",
       "    .dataframe tbody tr th:only-of-type {\n",
       "        vertical-align: middle;\n",
       "    }\n",
       "\n",
       "    .dataframe tbody tr th {\n",
       "        vertical-align: top;\n",
       "    }\n",
       "\n",
       "    .dataframe thead th {\n",
       "        text-align: right;\n",
       "    }\n",
       "</style>\n",
       "<table border=\"1\" class=\"dataframe\">\n",
       "  <thead>\n",
       "    <tr style=\"text-align: right;\">\n",
       "      <th></th>\n",
       "      <th>customer_unique_id</th>\n",
       "      <th>customer_zip_code_prefix</th>\n",
       "      <th>customer_city</th>\n",
       "      <th>customer_state</th>\n",
       "      <th>order_status</th>\n",
       "      <th>order_purchase_timestamp</th>\n",
       "      <th>order_item_id</th>\n",
       "      <th>product_id</th>\n",
       "      <th>seller_id</th>\n",
       "      <th>price</th>\n",
       "      <th>freight_value</th>\n",
       "      <th>review_score</th>\n",
       "      <th>product_category_name_english</th>\n",
       "      <th>delivered_estimated_interval</th>\n",
       "      <th>review_delivered_interval</th>\n",
       "      <th>answer_review_interval</th>\n",
       "    </tr>\n",
       "  </thead>\n",
       "  <tbody>\n",
       "    <tr>\n",
       "      <th>0</th>\n",
       "      <td>861eff4711a542e4b93843c6dd7febb0</td>\n",
       "      <td>14409</td>\n",
       "      <td>franca</td>\n",
       "      <td>SP</td>\n",
       "      <td>delivered</td>\n",
       "      <td>2017-05-16 15:05:35</td>\n",
       "      <td>1.0</td>\n",
       "      <td>a9516a079e37a9c9c36b9b78b10169e8</td>\n",
       "      <td>7c67e1448b00f6e969d365cea6b010ab</td>\n",
       "      <td>124.99</td>\n",
       "      <td>21.88</td>\n",
       "      <td>4.0</td>\n",
       "      <td>office_furniture</td>\n",
       "      <td>-11 days +10:35:35</td>\n",
       "      <td>0 days 13:24:25</td>\n",
       "      <td>4 days 22:34:40</td>\n",
       "    </tr>\n",
       "    <tr>\n",
       "      <th>1</th>\n",
       "      <td>290c77bc529b7ac935b93aa66c333dc3</td>\n",
       "      <td>9790</td>\n",
       "      <td>sao bernardo do campo</td>\n",
       "      <td>SP</td>\n",
       "      <td>delivered</td>\n",
       "      <td>2018-01-12 20:48:24</td>\n",
       "      <td>1.0</td>\n",
       "      <td>4aa6014eceb682077f9dc4bffebc05b0</td>\n",
       "      <td>b8bc237ba3788b23da09c0f1f3a3288c</td>\n",
       "      <td>289.00</td>\n",
       "      <td>46.48</td>\n",
       "      <td>5.0</td>\n",
       "      <td>housewares</td>\n",
       "      <td>-8 days +12:41:19</td>\n",
       "      <td>0 days 11:18:41</td>\n",
       "      <td>11 days 22:43:29</td>\n",
       "    </tr>\n",
       "    <tr>\n",
       "      <th>2</th>\n",
       "      <td>060e732b5b29e8181a18229c7b0b2b5e</td>\n",
       "      <td>1151</td>\n",
       "      <td>sao paulo</td>\n",
       "      <td>SP</td>\n",
       "      <td>delivered</td>\n",
       "      <td>2018-05-19 16:07:45</td>\n",
       "      <td>1.0</td>\n",
       "      <td>bd07b66896d6f1494f5b86251848ced7</td>\n",
       "      <td>7c67e1448b00f6e969d365cea6b010ab</td>\n",
       "      <td>139.94</td>\n",
       "      <td>17.79</td>\n",
       "      <td>5.0</td>\n",
       "      <td>office_furniture</td>\n",
       "      <td>1 days 17:58:51</td>\n",
       "      <td>0 days 06:01:09</td>\n",
       "      <td>0 days 12:10:59</td>\n",
       "    </tr>\n",
       "    <tr>\n",
       "      <th>3</th>\n",
       "      <td>259dac757896d24d7702b9acbbff3f3c</td>\n",
       "      <td>8775</td>\n",
       "      <td>mogi das cruzes</td>\n",
       "      <td>SP</td>\n",
       "      <td>delivered</td>\n",
       "      <td>2018-03-13 16:06:38</td>\n",
       "      <td>1.0</td>\n",
       "      <td>a5647c44af977b148e0a3a4751a09e2e</td>\n",
       "      <td>7c67e1448b00f6e969d365cea6b010ab</td>\n",
       "      <td>149.94</td>\n",
       "      <td>23.36</td>\n",
       "      <td>5.0</td>\n",
       "      <td>office_furniture</td>\n",
       "      <td>-13 days +16:04:25</td>\n",
       "      <td>0 days 07:55:35</td>\n",
       "      <td>4 days 18:36:47</td>\n",
       "    </tr>\n",
       "    <tr>\n",
       "      <th>4</th>\n",
       "      <td>345ecd01c38d18a9036ed96c73b8d066</td>\n",
       "      <td>13056</td>\n",
       "      <td>campinas</td>\n",
       "      <td>SP</td>\n",
       "      <td>delivered</td>\n",
       "      <td>2018-07-29 09:51:30</td>\n",
       "      <td>1.0</td>\n",
       "      <td>9391a573abe00141c56e38d84d7d5b3b</td>\n",
       "      <td>4a3ca9315b744ce9f8e9374361493884</td>\n",
       "      <td>230.00</td>\n",
       "      <td>22.25</td>\n",
       "      <td>5.0</td>\n",
       "      <td>home_confort</td>\n",
       "      <td>-6 days +20:55:48</td>\n",
       "      <td>0 days 03:04:12</td>\n",
       "      <td>7 days 01:59:52</td>\n",
       "    </tr>\n",
       "  </tbody>\n",
       "</table>\n",
       "</div>"
      ],
      "text/plain": [
       "                 customer_unique_id  customer_zip_code_prefix  \\\n",
       "0  861eff4711a542e4b93843c6dd7febb0                     14409   \n",
       "1  290c77bc529b7ac935b93aa66c333dc3                      9790   \n",
       "2  060e732b5b29e8181a18229c7b0b2b5e                      1151   \n",
       "3  259dac757896d24d7702b9acbbff3f3c                      8775   \n",
       "4  345ecd01c38d18a9036ed96c73b8d066                     13056   \n",
       "\n",
       "           customer_city customer_state order_status order_purchase_timestamp  \\\n",
       "0                 franca             SP    delivered      2017-05-16 15:05:35   \n",
       "1  sao bernardo do campo             SP    delivered      2018-01-12 20:48:24   \n",
       "2              sao paulo             SP    delivered      2018-05-19 16:07:45   \n",
       "3        mogi das cruzes             SP    delivered      2018-03-13 16:06:38   \n",
       "4               campinas             SP    delivered      2018-07-29 09:51:30   \n",
       "\n",
       "   order_item_id                        product_id  \\\n",
       "0            1.0  a9516a079e37a9c9c36b9b78b10169e8   \n",
       "1            1.0  4aa6014eceb682077f9dc4bffebc05b0   \n",
       "2            1.0  bd07b66896d6f1494f5b86251848ced7   \n",
       "3            1.0  a5647c44af977b148e0a3a4751a09e2e   \n",
       "4            1.0  9391a573abe00141c56e38d84d7d5b3b   \n",
       "\n",
       "                          seller_id   price  freight_value  review_score  \\\n",
       "0  7c67e1448b00f6e969d365cea6b010ab  124.99          21.88           4.0   \n",
       "1  b8bc237ba3788b23da09c0f1f3a3288c  289.00          46.48           5.0   \n",
       "2  7c67e1448b00f6e969d365cea6b010ab  139.94          17.79           5.0   \n",
       "3  7c67e1448b00f6e969d365cea6b010ab  149.94          23.36           5.0   \n",
       "4  4a3ca9315b744ce9f8e9374361493884  230.00          22.25           5.0   \n",
       "\n",
       "  product_category_name_english delivered_estimated_interval  \\\n",
       "0              office_furniture           -11 days +10:35:35   \n",
       "1                    housewares            -8 days +12:41:19   \n",
       "2              office_furniture              1 days 17:58:51   \n",
       "3              office_furniture           -13 days +16:04:25   \n",
       "4                  home_confort            -6 days +20:55:48   \n",
       "\n",
       "  review_delivered_interval answer_review_interval  \n",
       "0           0 days 13:24:25        4 days 22:34:40  \n",
       "1           0 days 11:18:41       11 days 22:43:29  \n",
       "2           0 days 06:01:09        0 days 12:10:59  \n",
       "3           0 days 07:55:35        4 days 18:36:47  \n",
       "4           0 days 03:04:12        7 days 01:59:52  "
      ]
     },
     "execution_count": 677,
     "metadata": {},
     "output_type": "execute_result"
    }
   ],
   "source": [
    "# Différence entre la date de livraison et la date estimée\n",
    "df['delivered_estimated_interval'] = df['order_delivered_customer_date'] - df['order_estimated_delivery_date']\n",
    "# Différence entre la date du commentaire et la date de livraison\n",
    "df['review_delivered_interval'] = df['review_creation_date'] - df['order_delivered_customer_date']\n",
    "# Différence entre la date de réponse au commentaire et la date de sa création\n",
    "df['answer_review_interval'] = df['review_answer_timestamp'] - df['review_creation_date']\n",
    "df = df.drop(columns=['order_delivered_customer_date', 'order_estimated_delivery_date', \n",
    "                      'review_creation_date', 'review_answer_timestamp'])\n",
    "df.head()"
   ]
  },
  {
   "cell_type": "code",
   "execution_count": 678,
   "id": "ea4b352b",
   "metadata": {
    "ExecuteTime": {
     "end_time": "2022-08-05T08:38:05.362540Z",
     "start_time": "2022-08-05T08:38:05.358249Z"
    }
   },
   "outputs": [
    {
     "data": {
      "text/plain": [
       "(110839, 16)"
      ]
     },
     "execution_count": 678,
     "metadata": {},
     "output_type": "execute_result"
    }
   ],
   "source": [
    "df.shape"
   ]
  },
  {
   "cell_type": "code",
   "execution_count": 679,
   "id": "b379ede4",
   "metadata": {
    "ExecuteTime": {
     "end_time": "2022-08-05T08:38:05.377486Z",
     "start_time": "2022-08-05T08:38:05.364623Z"
    }
   },
   "outputs": [],
   "source": [
    "df = df[['customer_unique_id', 'product_id', 'seller_id',\n",
    "         'customer_zip_code_prefix', 'customer_city', 'customer_state',\n",
    "         'order_status', 'order_item_id',\n",
    "         'order_purchase_timestamp', 'delivered_estimated_interval', 'review_delivered_interval',\n",
    "         'answer_review_interval',\n",
    "         'price', 'freight_value', 'product_category_name_english',\n",
    "         'review_score']]"
   ]
  },
  {
   "cell_type": "code",
   "execution_count": 680,
   "id": "b001c3e6",
   "metadata": {
    "ExecuteTime": {
     "end_time": "2022-08-05T08:38:05.396577Z",
     "start_time": "2022-08-05T08:38:05.379659Z"
    }
   },
   "outputs": [
    {
     "data": {
      "text/html": [
       "<div>\n",
       "<style scoped>\n",
       "    .dataframe tbody tr th:only-of-type {\n",
       "        vertical-align: middle;\n",
       "    }\n",
       "\n",
       "    .dataframe tbody tr th {\n",
       "        vertical-align: top;\n",
       "    }\n",
       "\n",
       "    .dataframe thead th {\n",
       "        text-align: right;\n",
       "    }\n",
       "</style>\n",
       "<table border=\"1\" class=\"dataframe\">\n",
       "  <thead>\n",
       "    <tr style=\"text-align: right;\">\n",
       "      <th></th>\n",
       "      <th>customer_unique_id</th>\n",
       "      <th>product_id</th>\n",
       "      <th>seller_id</th>\n",
       "      <th>customer_zip_code_prefix</th>\n",
       "      <th>customer_city</th>\n",
       "      <th>customer_state</th>\n",
       "      <th>order_status</th>\n",
       "      <th>order_item_id</th>\n",
       "      <th>order_purchase_timestamp</th>\n",
       "      <th>delivered_estimated_interval</th>\n",
       "      <th>review_delivered_interval</th>\n",
       "      <th>answer_review_interval</th>\n",
       "      <th>price</th>\n",
       "      <th>freight_value</th>\n",
       "      <th>product_category_name_english</th>\n",
       "      <th>review_score</th>\n",
       "    </tr>\n",
       "  </thead>\n",
       "  <tbody>\n",
       "    <tr>\n",
       "      <th>0</th>\n",
       "      <td>861eff4711a542e4b93843c6dd7febb0</td>\n",
       "      <td>a9516a079e37a9c9c36b9b78b10169e8</td>\n",
       "      <td>7c67e1448b00f6e969d365cea6b010ab</td>\n",
       "      <td>14409</td>\n",
       "      <td>franca</td>\n",
       "      <td>SP</td>\n",
       "      <td>delivered</td>\n",
       "      <td>1.0</td>\n",
       "      <td>2017-05-16 15:05:35</td>\n",
       "      <td>-11 days +10:35:35</td>\n",
       "      <td>0 days 13:24:25</td>\n",
       "      <td>4 days 22:34:40</td>\n",
       "      <td>124.99</td>\n",
       "      <td>21.88</td>\n",
       "      <td>office_furniture</td>\n",
       "      <td>4.0</td>\n",
       "    </tr>\n",
       "    <tr>\n",
       "      <th>1</th>\n",
       "      <td>290c77bc529b7ac935b93aa66c333dc3</td>\n",
       "      <td>4aa6014eceb682077f9dc4bffebc05b0</td>\n",
       "      <td>b8bc237ba3788b23da09c0f1f3a3288c</td>\n",
       "      <td>9790</td>\n",
       "      <td>sao bernardo do campo</td>\n",
       "      <td>SP</td>\n",
       "      <td>delivered</td>\n",
       "      <td>1.0</td>\n",
       "      <td>2018-01-12 20:48:24</td>\n",
       "      <td>-8 days +12:41:19</td>\n",
       "      <td>0 days 11:18:41</td>\n",
       "      <td>11 days 22:43:29</td>\n",
       "      <td>289.00</td>\n",
       "      <td>46.48</td>\n",
       "      <td>housewares</td>\n",
       "      <td>5.0</td>\n",
       "    </tr>\n",
       "    <tr>\n",
       "      <th>2</th>\n",
       "      <td>060e732b5b29e8181a18229c7b0b2b5e</td>\n",
       "      <td>bd07b66896d6f1494f5b86251848ced7</td>\n",
       "      <td>7c67e1448b00f6e969d365cea6b010ab</td>\n",
       "      <td>1151</td>\n",
       "      <td>sao paulo</td>\n",
       "      <td>SP</td>\n",
       "      <td>delivered</td>\n",
       "      <td>1.0</td>\n",
       "      <td>2018-05-19 16:07:45</td>\n",
       "      <td>1 days 17:58:51</td>\n",
       "      <td>0 days 06:01:09</td>\n",
       "      <td>0 days 12:10:59</td>\n",
       "      <td>139.94</td>\n",
       "      <td>17.79</td>\n",
       "      <td>office_furniture</td>\n",
       "      <td>5.0</td>\n",
       "    </tr>\n",
       "    <tr>\n",
       "      <th>3</th>\n",
       "      <td>259dac757896d24d7702b9acbbff3f3c</td>\n",
       "      <td>a5647c44af977b148e0a3a4751a09e2e</td>\n",
       "      <td>7c67e1448b00f6e969d365cea6b010ab</td>\n",
       "      <td>8775</td>\n",
       "      <td>mogi das cruzes</td>\n",
       "      <td>SP</td>\n",
       "      <td>delivered</td>\n",
       "      <td>1.0</td>\n",
       "      <td>2018-03-13 16:06:38</td>\n",
       "      <td>-13 days +16:04:25</td>\n",
       "      <td>0 days 07:55:35</td>\n",
       "      <td>4 days 18:36:47</td>\n",
       "      <td>149.94</td>\n",
       "      <td>23.36</td>\n",
       "      <td>office_furniture</td>\n",
       "      <td>5.0</td>\n",
       "    </tr>\n",
       "    <tr>\n",
       "      <th>4</th>\n",
       "      <td>345ecd01c38d18a9036ed96c73b8d066</td>\n",
       "      <td>9391a573abe00141c56e38d84d7d5b3b</td>\n",
       "      <td>4a3ca9315b744ce9f8e9374361493884</td>\n",
       "      <td>13056</td>\n",
       "      <td>campinas</td>\n",
       "      <td>SP</td>\n",
       "      <td>delivered</td>\n",
       "      <td>1.0</td>\n",
       "      <td>2018-07-29 09:51:30</td>\n",
       "      <td>-6 days +20:55:48</td>\n",
       "      <td>0 days 03:04:12</td>\n",
       "      <td>7 days 01:59:52</td>\n",
       "      <td>230.00</td>\n",
       "      <td>22.25</td>\n",
       "      <td>home_confort</td>\n",
       "      <td>5.0</td>\n",
       "    </tr>\n",
       "  </tbody>\n",
       "</table>\n",
       "</div>"
      ],
      "text/plain": [
       "                 customer_unique_id                        product_id  \\\n",
       "0  861eff4711a542e4b93843c6dd7febb0  a9516a079e37a9c9c36b9b78b10169e8   \n",
       "1  290c77bc529b7ac935b93aa66c333dc3  4aa6014eceb682077f9dc4bffebc05b0   \n",
       "2  060e732b5b29e8181a18229c7b0b2b5e  bd07b66896d6f1494f5b86251848ced7   \n",
       "3  259dac757896d24d7702b9acbbff3f3c  a5647c44af977b148e0a3a4751a09e2e   \n",
       "4  345ecd01c38d18a9036ed96c73b8d066  9391a573abe00141c56e38d84d7d5b3b   \n",
       "\n",
       "                          seller_id  customer_zip_code_prefix  \\\n",
       "0  7c67e1448b00f6e969d365cea6b010ab                     14409   \n",
       "1  b8bc237ba3788b23da09c0f1f3a3288c                      9790   \n",
       "2  7c67e1448b00f6e969d365cea6b010ab                      1151   \n",
       "3  7c67e1448b00f6e969d365cea6b010ab                      8775   \n",
       "4  4a3ca9315b744ce9f8e9374361493884                     13056   \n",
       "\n",
       "           customer_city customer_state order_status  order_item_id  \\\n",
       "0                 franca             SP    delivered            1.0   \n",
       "1  sao bernardo do campo             SP    delivered            1.0   \n",
       "2              sao paulo             SP    delivered            1.0   \n",
       "3        mogi das cruzes             SP    delivered            1.0   \n",
       "4               campinas             SP    delivered            1.0   \n",
       "\n",
       "  order_purchase_timestamp delivered_estimated_interval  \\\n",
       "0      2017-05-16 15:05:35           -11 days +10:35:35   \n",
       "1      2018-01-12 20:48:24            -8 days +12:41:19   \n",
       "2      2018-05-19 16:07:45              1 days 17:58:51   \n",
       "3      2018-03-13 16:06:38           -13 days +16:04:25   \n",
       "4      2018-07-29 09:51:30            -6 days +20:55:48   \n",
       "\n",
       "  review_delivered_interval answer_review_interval   price  freight_value  \\\n",
       "0           0 days 13:24:25        4 days 22:34:40  124.99          21.88   \n",
       "1           0 days 11:18:41       11 days 22:43:29  289.00          46.48   \n",
       "2           0 days 06:01:09        0 days 12:10:59  139.94          17.79   \n",
       "3           0 days 07:55:35        4 days 18:36:47  149.94          23.36   \n",
       "4           0 days 03:04:12        7 days 01:59:52  230.00          22.25   \n",
       "\n",
       "  product_category_name_english  review_score  \n",
       "0              office_furniture           4.0  \n",
       "1                    housewares           5.0  \n",
       "2              office_furniture           5.0  \n",
       "3              office_furniture           5.0  \n",
       "4                  home_confort           5.0  "
      ]
     },
     "execution_count": 680,
     "metadata": {},
     "output_type": "execute_result"
    }
   ],
   "source": [
    "df.head()"
   ]
  },
  {
   "cell_type": "markdown",
   "id": "38dc69d1",
   "metadata": {},
   "source": [
    "# Visualisation des données"
   ]
  },
  {
   "cell_type": "markdown",
   "id": "80eb46cc",
   "metadata": {},
   "source": [
    "## Changement de type"
   ]
  },
  {
   "cell_type": "code",
   "execution_count": 681,
   "id": "8f8dff82",
   "metadata": {
    "ExecuteTime": {
     "end_time": "2022-08-05T08:38:05.428833Z",
     "start_time": "2022-08-05T08:38:05.399076Z"
    }
   },
   "outputs": [],
   "source": [
    "df['order_item_id'] = df['order_item_id'].astype('Int64')\n",
    "df['review_score'] = df['review_score'].astype('Int64')\n",
    "df['customer_zip_code_prefix'] = df['customer_zip_code_prefix'].astype('object')"
   ]
  },
  {
   "cell_type": "code",
   "execution_count": 61,
   "id": "424ca6fe",
   "metadata": {
    "ExecuteTime": {
     "end_time": "2022-08-02T17:11:06.954417Z",
     "start_time": "2022-08-02T17:11:06.948860Z"
    }
   },
   "outputs": [
    {
     "data": {
      "text/plain": [
       "customer_unique_id                        object\n",
       "product_id                                object\n",
       "seller_id                                 object\n",
       "customer_zip_code_prefix                  object\n",
       "customer_city                             object\n",
       "customer_state                            object\n",
       "order_status                              object\n",
       "order_item_id                              Int64\n",
       "order_purchase_timestamp          datetime64[ns]\n",
       "delivered_estimated_interval     timedelta64[ns]\n",
       "review_delivered_interval        timedelta64[ns]\n",
       "answer_review_interval           timedelta64[ns]\n",
       "price                                    float64\n",
       "freight_value                            float64\n",
       "product_category_name_english             object\n",
       "review_score                               Int64\n",
       "dtype: object"
      ]
     },
     "execution_count": 61,
     "metadata": {},
     "output_type": "execute_result"
    }
   ],
   "source": [
    "df.dtypes"
   ]
  },
  {
   "cell_type": "markdown",
   "id": "12f731b5",
   "metadata": {},
   "source": [
    "## Variables continues"
   ]
  },
  {
   "cell_type": "code",
   "execution_count": 62,
   "id": "d4056533",
   "metadata": {
    "ExecuteTime": {
     "end_time": "2022-08-02T17:11:07.553516Z",
     "start_time": "2022-08-02T17:11:06.956652Z"
    }
   },
   "outputs": [
    {
     "data": {
      "image/png": "[encoded data removed]",
      "text/plain": [
       "<Figure size 360x360 with 1 Axes>"
      ]
     },
     "metadata": {},
     "output_type": "display_data"
    },
    {
     "data": {
      "image/png": "[encoded data removed]",
      "text/plain": [
       "<Figure size 360x360 with 1 Axes>"
      ]
     },
     "metadata": {},
     "output_type": "display_data"
    }
   ],
   "source": [
    "for col in df.select_dtypes('float'):\n",
    "    sns.displot(x=df[col], bins=50)"
   ]
  },
  {
   "cell_type": "code",
   "execution_count": 63,
   "id": "7e2cc5ae",
   "metadata": {
    "ExecuteTime": {
     "end_time": "2022-08-02T17:11:09.261980Z",
     "start_time": "2022-08-02T17:11:07.555417Z"
    }
   },
   "outputs": [
    {
     "data": {
      "image/png": "[encoded data removed]",
      "text/plain": [
       "<Figure size 360x360 with 1 Axes>"
      ]
     },
     "metadata": {},
     "output_type": "display_data"
    },
    {
     "data": {
      "image/png": "[encoded data removed]",
      "text/plain": [
       "<Figure size 360x360 with 1 Axes>"
      ]
     },
     "metadata": {},
     "output_type": "display_data"
    }
   ],
   "source": [
    "for col in df.select_dtypes('float'):\n",
    "    sns.displot(x=df.loc[df[col]>0, col], bins=30, log_scale=True)"
   ]
  },
  {
   "cell_type": "markdown",
   "id": "6f263055",
   "metadata": {},
   "source": [
    "## Variables entières"
   ]
  },
  {
   "cell_type": "code",
   "execution_count": 64,
   "id": "1b14231b",
   "metadata": {
    "ExecuteTime": {
     "end_time": "2022-08-02T17:11:09.726146Z",
     "start_time": "2022-08-02T17:11:09.264373Z"
    }
   },
   "outputs": [
    {
     "data": {
      "image/png": "[encoded data removed]",
      "text/plain": [
       "<Figure size 360x360 with 1 Axes>"
      ]
     },
     "metadata": {},
     "output_type": "display_data"
    }
   ],
   "source": [
    "sns.displot(x=df['order_item_id'], log_scale=(False, True));"
   ]
  },
  {
   "cell_type": "code",
   "execution_count": 65,
   "id": "621b8e8c",
   "metadata": {
    "ExecuteTime": {
     "end_time": "2022-08-02T17:11:09.882472Z",
     "start_time": "2022-08-02T17:11:09.728631Z"
    }
   },
   "outputs": [
    {
     "data": {
      "image/png": "[encoded data removed]",
      "text/plain": [
       "<Figure size 576x432 with 1 Axes>"
      ]
     },
     "metadata": {},
     "output_type": "display_data"
    }
   ],
   "source": [
    "plt.figure(figsize=(8,6))\n",
    "sns.countplot(x=df['review_score'].dropna());"
   ]
  },
  {
   "cell_type": "markdown",
   "id": "6380c9e8",
   "metadata": {},
   "source": [
    "## Dates"
   ]
  },
  {
   "cell_type": "code",
   "execution_count": 66,
   "id": "66d86e46",
   "metadata": {
    "ExecuteTime": {
     "end_time": "2022-08-02T17:11:10.242381Z",
     "start_time": "2022-08-02T17:11:09.884667Z"
    }
   },
   "outputs": [
    {
     "data": {
      "image/png": "[encoded data removed]",
      "text/plain": [
       "<Figure size 576x432 with 1 Axes>"
      ]
     },
     "metadata": {},
     "output_type": "display_data"
    }
   ],
   "source": [
    "plt.figure(figsize=(8,6))\n",
    "sns.histplot(x=df['order_purchase_timestamp']);"
   ]
  },
  {
   "cell_type": "code",
   "execution_count": 67,
   "id": "144de7b7",
   "metadata": {
    "ExecuteTime": {
     "end_time": "2022-08-02T17:11:10.417577Z",
     "start_time": "2022-08-02T17:11:10.244629Z"
    }
   },
   "outputs": [
    {
     "data": {
      "image/png": "[encoded data removed]",
      "text/plain": [
       "<Figure size 576x432 with 1 Axes>"
      ]
     },
     "metadata": {},
     "output_type": "display_data"
    }
   ],
   "source": [
    "plt.figure(figsize=(8,6))\n",
    "sns.countplot(x=df['order_purchase_timestamp'].dt.month, color='b');"
   ]
  },
  {
   "cell_type": "code",
   "execution_count": 68,
   "id": "38e680df",
   "metadata": {
    "ExecuteTime": {
     "end_time": "2022-08-02T17:11:10.791566Z",
     "start_time": "2022-08-02T17:11:10.428289Z"
    }
   },
   "outputs": [
    {
     "data": {
      "image/png": "[encoded data removed]",
      "text/plain": [
       "<Figure size 864x576 with 1 Axes>"
      ]
     },
     "metadata": {},
     "output_type": "display_data"
    }
   ],
   "source": [
    "plt.figure(figsize=(12,8))\n",
    "sns.countplot(x=df['order_purchase_timestamp'].dt.day, color='b');"
   ]
  },
  {
   "cell_type": "code",
   "execution_count": 69,
   "id": "326699e7",
   "metadata": {
    "ExecuteTime": {
     "end_time": "2022-08-02T17:11:11.029136Z",
     "start_time": "2022-08-02T17:11:10.794887Z"
    }
   },
   "outputs": [
    {
     "data": {
      "image/png": "[encoded data removed]",
      "text/plain": [
       "<Figure size 864x576 with 1 Axes>"
      ]
     },
     "metadata": {},
     "output_type": "display_data"
    }
   ],
   "source": [
    "plt.figure(figsize=(12,8))\n",
    "order = ['Monday', 'Tuesday', 'Wednesday', 'Thursday', 'Friday', 'Saturday', 'Sunday']\n",
    "sns.countplot(x=df['order_purchase_timestamp'].dt.day_name(), order=order, color='b');"
   ]
  },
  {
   "cell_type": "code",
   "execution_count": 70,
   "id": "60697998",
   "metadata": {
    "ExecuteTime": {
     "end_time": "2022-08-02T17:11:11.346778Z",
     "start_time": "2022-08-02T17:11:11.031030Z"
    }
   },
   "outputs": [
    {
     "data": {
      "image/png": "[encoded data removed]",
      "text/plain": [
       "<Figure size 360x360 with 1 Axes>"
      ]
     },
     "metadata": {},
     "output_type": "display_data"
    }
   ],
   "source": [
    "sns.displot(x=df['delivered_estimated_interval'].dt.days, bins=50);"
   ]
  },
  {
   "cell_type": "code",
   "execution_count": 71,
   "id": "12858a0f",
   "metadata": {
    "ExecuteTime": {
     "end_time": "2022-08-02T17:11:11.894646Z",
     "start_time": "2022-08-02T17:11:11.348660Z"
    }
   },
   "outputs": [
    {
     "data": {
      "image/png": "[encoded data removed]",
      "text/plain": [
       "<Figure size 360x360 with 1 Axes>"
      ]
     },
     "metadata": {},
     "output_type": "display_data"
    }
   ],
   "source": [
    "g = sns.displot(x=df['delivered_estimated_interval'].dt.days, kind='kde')\n",
    "g.ax.set_xlim(-50, 50);"
   ]
  },
  {
   "cell_type": "code",
   "execution_count": 72,
   "id": "53c3450f",
   "metadata": {
    "ExecuteTime": {
     "end_time": "2022-08-02T17:11:11.904917Z",
     "start_time": "2022-08-02T17:11:11.897120Z"
    }
   },
   "outputs": [
    {
     "data": {
      "text/plain": [
       "-187.0    1\n",
       "-175.0    1\n",
       "-174.0    1\n",
       "-168.0    2\n",
       "-165.0    1\n",
       "         ..\n",
       " 56.0     1\n",
       " 59.0     2\n",
       " 66.0     1\n",
       " 88.0     1\n",
       " 106.0    1\n",
       "Name: review_delivered_interval, Length: 164, dtype: int64"
      ]
     },
     "execution_count": 72,
     "metadata": {},
     "output_type": "execute_result"
    }
   ],
   "source": [
    "df['review_delivered_interval'].dt.days.value_counts().sort_index()"
   ]
  },
  {
   "cell_type": "code",
   "execution_count": 73,
   "id": "be708d7c",
   "metadata": {
    "ExecuteTime": {
     "end_time": "2022-08-02T17:11:12.279744Z",
     "start_time": "2022-08-02T17:11:11.906466Z"
    }
   },
   "outputs": [
    {
     "data": {
      "image/png": "[encoded data removed]",
      "text/plain": [
       "<Figure size 360x360 with 1 Axes>"
      ]
     },
     "metadata": {},
     "output_type": "display_data"
    }
   ],
   "source": [
    "g = sns.displot(x=df['review_delivered_interval'].dt.days, kind='kde')\n",
    "g.ax.set_xlim(-5, 5);"
   ]
  },
  {
   "cell_type": "markdown",
   "id": "374b3bb3",
   "metadata": {},
   "source": [
    "Bizarre que des commentaires aient été postés avant la livraison de la commande, peut-être des clients insatisfaits du temps de livraison."
   ]
  },
  {
   "cell_type": "code",
   "execution_count": 74,
   "id": "2057e3b4",
   "metadata": {
    "ExecuteTime": {
     "end_time": "2022-08-02T17:11:12.290617Z",
     "start_time": "2022-08-02T17:11:12.282198Z"
    }
   },
   "outputs": [
    {
     "data": {
      "text/plain": [
       "0.0      27570\n",
       "1.0      35200\n",
       "2.0      18219\n",
       "3.0      16079\n",
       "4.0       5244\n",
       "         ...  \n",
       "446.0        1\n",
       "471.0        1\n",
       "508.0        1\n",
       "512.0        1\n",
       "518.0        1\n",
       "Name: answer_review_interval, Length: 214, dtype: int64"
      ]
     },
     "execution_count": 74,
     "metadata": {},
     "output_type": "execute_result"
    }
   ],
   "source": [
    "df['answer_review_interval'].dt.days.value_counts().sort_index()"
   ]
  },
  {
   "cell_type": "code",
   "execution_count": 75,
   "id": "7cbd616f",
   "metadata": {
    "ExecuteTime": {
     "end_time": "2022-08-02T17:11:12.637034Z",
     "start_time": "2022-08-02T17:11:12.292209Z"
    }
   },
   "outputs": [
    {
     "data": {
      "image/png": "[encoded data removed]",
      "text/plain": [
       "<Figure size 360x360 with 1 Axes>"
      ]
     },
     "metadata": {},
     "output_type": "display_data"
    }
   ],
   "source": [
    "g = sns.displot(x=df['answer_review_interval'].dt.days, bins=100)\n",
    "g.ax.set_xlim(-5, 25);"
   ]
  },
  {
   "cell_type": "markdown",
   "id": "5ce22bba",
   "metadata": {},
   "source": [
    "## Variables qualitatives"
   ]
  },
  {
   "cell_type": "code",
   "execution_count": 76,
   "id": "7de28ff8",
   "metadata": {
    "ExecuteTime": {
     "end_time": "2022-08-02T17:11:12.697511Z",
     "start_time": "2022-08-02T17:11:12.639327Z"
    }
   },
   "outputs": [
    {
     "name": "stdout",
     "output_type": "stream",
     "text": [
      "customer_unique_id-------------------------------- 96096\n",
      "product_id---------------------------------------- 32952\n",
      "seller_id----------------------------------------- 3096\n",
      "customer_zip_code_prefix-------------------------- 14994\n",
      "customer_city------------------------------------- 4119\n",
      "customer_state------------------------------------ 27\n",
      "order_status-------------------------------------- 8\n",
      "product_category_name_english--------------------- 74\n"
     ]
    }
   ],
   "source": [
    "for col in df.select_dtypes('object'):\n",
    "    print(f'{col :-<50} {df[col].unique().size}')"
   ]
  },
  {
   "cell_type": "code",
   "execution_count": 77,
   "id": "9b05a74d",
   "metadata": {
    "ExecuteTime": {
     "end_time": "2022-08-02T17:11:12.894081Z",
     "start_time": "2022-08-02T17:11:12.699381Z"
    }
   },
   "outputs": [
    {
     "data": {
      "image/png": "[encoded data removed]",
      "text/plain": [
       "<Figure size 576x432 with 1 Axes>"
      ]
     },
     "metadata": {},
     "output_type": "display_data"
    }
   ],
   "source": [
    "plt.figure(figsize=(8,6))\n",
    "sns.countplot(y=df['order_status']);"
   ]
  },
  {
   "cell_type": "code",
   "execution_count": 78,
   "id": "a1150efe",
   "metadata": {
    "ExecuteTime": {
     "end_time": "2022-08-02T17:11:12.905807Z",
     "start_time": "2022-08-02T17:11:12.895627Z"
    }
   },
   "outputs": [
    {
     "data": {
      "text/plain": [
       "delivered      110840\n",
       "shipped          1197\n",
       "canceled          711\n",
       "unavailable       612\n",
       "invoiced          366\n",
       "processing        358\n",
       "created             5\n",
       "approved            3\n",
       "Name: order_status, dtype: int64"
      ]
     },
     "execution_count": 78,
     "metadata": {},
     "output_type": "execute_result"
    }
   ],
   "source": [
    "df['order_status'].value_counts()"
   ]
  },
  {
   "cell_type": "code",
   "execution_count": 79,
   "id": "83a2f675",
   "metadata": {
    "ExecuteTime": {
     "end_time": "2022-08-02T17:11:13.162707Z",
     "start_time": "2022-08-02T17:11:12.907464Z"
    }
   },
   "outputs": [
    {
     "data": {
      "image/png": "[encoded data removed]",
      "text/plain": [
       "<Figure size 576x432 with 1 Axes>"
      ]
     },
     "metadata": {},
     "output_type": "display_data"
    }
   ],
   "source": [
    "order = df['customer_state'].value_counts().index\n",
    "plt.figure(figsize=(8,6))\n",
    "sns.countplot(y=df['customer_state'], order=order);"
   ]
  },
  {
   "cell_type": "code",
   "execution_count": 80,
   "id": "7969469f",
   "metadata": {
    "ExecuteTime": {
     "end_time": "2022-08-02T17:11:14.069697Z",
     "start_time": "2022-08-02T17:11:13.164437Z"
    }
   },
   "outputs": [
    {
     "data": {
      "image/png": "[encoded data removed]",
      "text/plain": [
       "<Figure size 864x1440 with 1 Axes>"
      ]
     },
     "metadata": {},
     "output_type": "display_data"
    }
   ],
   "source": [
    "order = df['product_category_name_english'].value_counts().index\n",
    "plt.figure(figsize=(12,20))\n",
    "sns.countplot(y=df['product_category_name_english'], order=order)\n",
    "plt.ylabel('');"
   ]
  },
  {
   "cell_type": "code",
   "execution_count": 81,
   "id": "2463ed94",
   "metadata": {
    "ExecuteTime": {
     "end_time": "2022-08-02T17:11:14.129269Z",
     "start_time": "2022-08-02T17:11:14.071381Z"
    }
   },
   "outputs": [
    {
     "data": {
      "text/plain": [
       "array(['signaling_and_security', 'security_and_services'], dtype=object)"
      ]
     },
     "execution_count": 81,
     "metadata": {},
     "output_type": "execute_result"
    }
   ],
   "source": [
    "col = 'product_category_name_english'\n",
    "df.loc[df[col].str.contains('secur').fillna(False), col].unique()"
   ]
  },
  {
   "cell_type": "code",
   "execution_count": 82,
   "id": "435f6a47",
   "metadata": {
    "ExecuteTime": {
     "end_time": "2022-08-02T17:11:14.134451Z",
     "start_time": "2022-08-02T17:11:14.131230Z"
    }
   },
   "outputs": [
    {
     "name": "stdout",
     "output_type": "stream",
     "text": [
      "\n",
      "'art', 'arts_and_craftmanship'\n",
      "'kitchen_and_food_preparation', 'la_cuisine'\n",
      "'stationery', 'office_furniture'\n",
      "'food_drink', 'food', 'drinks'\n",
      "'home_appliances', 'home_appliances_2', 'small_appliances_home_oven_and_coffee', 'small_appliances'\n",
      "'construction_tools_lights', 'construction_tools_construction', 'construction_tools_safety'\n",
      "'cds_dvds_musicals', 'music'\n",
      "'home_confort', 'home_comfort_2'\n",
      "\n"
     ]
    }
   ],
   "source": [
    "print(\"\"\"\n",
    "'art', 'arts_and_craftmanship'\n",
    "'kitchen_and_food_preparation', 'la_cuisine'\n",
    "'stationery', 'office_furniture'\n",
    "'food_drink', 'food', 'drinks'\n",
    "'home_appliances', 'home_appliances_2', 'small_appliances_home_oven_and_coffee', 'small_appliances'\n",
    "'construction_tools_lights', 'construction_tools_construction', 'construction_tools_safety'\n",
    "'cds_dvds_musicals', 'music'\n",
    "'home_confort', 'home_comfort_2'\n",
    "\"\"\")"
   ]
  },
  {
   "cell_type": "markdown",
   "id": "4dd66adb",
   "metadata": {},
   "source": [
    "# Segmentation RFM"
   ]
  },
  {
   "cell_type": "code",
   "execution_count": 487,
   "id": "8e756291",
   "metadata": {
    "ExecuteTime": {
     "end_time": "2022-08-05T07:19:56.693760Z",
     "start_time": "2022-08-05T07:19:56.684324Z"
    }
   },
   "outputs": [
    {
     "data": {
      "text/plain": [
       "array(['delivered', 'canceled'], dtype=object)"
      ]
     },
     "execution_count": 487,
     "metadata": {},
     "output_type": "execute_result"
    }
   ],
   "source": [
    "df['order_status'].unique()"
   ]
  },
  {
   "cell_type": "markdown",
   "id": "b9c5aea7",
   "metadata": {},
   "source": [
    "On enlève les clients qui ont annulé leur commande"
   ]
  },
  {
   "cell_type": "code",
   "execution_count": 488,
   "id": "55cd161b",
   "metadata": {
    "ExecuteTime": {
     "end_time": "2022-08-05T07:19:57.883343Z",
     "start_time": "2022-08-05T07:19:57.836305Z"
    }
   },
   "outputs": [
    {
     "name": "stdout",
     "output_type": "stream",
     "text": [
      "(110839, 16)\n",
      "(110832, 16)\n"
     ]
    }
   ],
   "source": [
    "print(df.shape)\n",
    "df = df[df['order_status'] == 'delivered']\n",
    "print(df.shape)"
   ]
  },
  {
   "cell_type": "code",
   "execution_count": 489,
   "id": "e766708a",
   "metadata": {
    "ExecuteTime": {
     "end_time": "2022-08-05T07:19:59.843746Z",
     "start_time": "2022-08-05T07:19:59.834950Z"
    }
   },
   "outputs": [
    {
     "data": {
      "text/plain": [
       "array(['delivered'], dtype=object)"
      ]
     },
     "execution_count": 489,
     "metadata": {},
     "output_type": "execute_result"
    }
   ],
   "source": [
    "df['order_status'].unique()"
   ]
  },
  {
   "cell_type": "markdown",
   "id": "d0ea71ca",
   "metadata": {},
   "source": [
    "## Récence"
   ]
  },
  {
   "cell_type": "markdown",
   "id": "0ca76702",
   "metadata": {},
   "source": [
    "### Test"
   ]
  },
  {
   "cell_type": "code",
   "execution_count": 277,
   "id": "9139dbda",
   "metadata": {
    "ExecuteTime": {
     "end_time": "2022-08-04T17:29:21.408537Z",
     "start_time": "2022-08-04T17:29:21.360707Z"
    }
   },
   "outputs": [],
   "source": [
    "value_counts = df['customer_unique_id'].value_counts()\n",
    "repeated_customers = value_counts[value_counts > 1].index"
   ]
  },
  {
   "cell_type": "code",
   "execution_count": 504,
   "id": "ce3ed58a",
   "metadata": {
    "ExecuteTime": {
     "end_time": "2022-08-05T07:25:55.501672Z",
     "start_time": "2022-08-05T07:25:55.463856Z"
    }
   },
   "outputs": [
    {
     "data": {
      "text/plain": [
       "(29173, 16)"
      ]
     },
     "execution_count": 504,
     "metadata": {},
     "output_type": "execute_result"
    }
   ],
   "source": [
    "df_ = df[df['customer_unique_id'].isin(repeated_customers)]\n",
    "df_ = df_.sort_values(by='order_purchase_timestamp')\n",
    "df_.shape"
   ]
  },
  {
   "cell_type": "code",
   "execution_count": 525,
   "id": "ff93dc81",
   "metadata": {
    "ExecuteTime": {
     "end_time": "2022-08-05T07:43:22.897613Z",
     "start_time": "2022-08-05T07:43:22.887703Z"
    }
   },
   "outputs": [],
   "source": [
    "df_ = df_.drop_duplicates('order_purchase_timestamp')"
   ]
  },
  {
   "cell_type": "code",
   "execution_count": 528,
   "id": "a539ee78",
   "metadata": {
    "ExecuteTime": {
     "end_time": "2022-08-05T07:44:16.845165Z",
     "start_time": "2022-08-05T07:44:16.831996Z"
    }
   },
   "outputs": [
    {
     "data": {
      "text/plain": [
       "8d50f5eadf50201ccdcedfb9e2ac8455    15\n",
       "3e43e6105506432c953e165fb2acf44c     9\n",
       "ca77025e7201e3b30c44b472ff346268     7\n",
       "6469f99c1f9dfae7733b25662e7f1782     7\n",
       "1b6c7548a2a1f9037c1fd3ddfed95f33     7\n",
       "                                    ..\n",
       "8241424764e0bfa6bfcb3c6cda391ac8     2\n",
       "ca55f9ebddc988ee65f4dea1a93ebc98     2\n",
       "5457ae2c352c18e3bf5cba68301d96a8     2\n",
       "63ded44f46d409896e3b7c47daa688ae     2\n",
       "4ef6c02126b21225e011b242f9f79c6f     2\n",
       "Name: customer_unique_id, Length: 2564, dtype: int64"
      ]
     },
     "execution_count": 528,
     "metadata": {},
     "output_type": "execute_result"
    }
   ],
   "source": [
    "a = df_['customer_unique_id'].value_counts()\n",
    "a[a>1]"
   ]
  },
  {
   "cell_type": "code",
   "execution_count": 180,
   "id": "7d00d38e",
   "metadata": {
    "ExecuteTime": {
     "end_time": "2022-08-04T17:13:47.421103Z",
     "start_time": "2022-08-04T17:13:47.398355Z"
    }
   },
   "outputs": [
    {
     "data": {
      "text/html": [
       "<div>\n",
       "<style scoped>\n",
       "    .dataframe tbody tr th:only-of-type {\n",
       "        vertical-align: middle;\n",
       "    }\n",
       "\n",
       "    .dataframe tbody tr th {\n",
       "        vertical-align: top;\n",
       "    }\n",
       "\n",
       "    .dataframe thead th {\n",
       "        text-align: right;\n",
       "    }\n",
       "</style>\n",
       "<table border=\"1\" class=\"dataframe\">\n",
       "  <thead>\n",
       "    <tr style=\"text-align: right;\">\n",
       "      <th></th>\n",
       "      <th>customer_unique_id</th>\n",
       "      <th>customer_zip_code_prefix</th>\n",
       "      <th>customer_city</th>\n",
       "      <th>customer_state</th>\n",
       "      <th>order_status</th>\n",
       "      <th>order_purchase_timestamp</th>\n",
       "      <th>order_delivered_customer_date</th>\n",
       "      <th>order_estimated_delivery_date</th>\n",
       "      <th>order_item_id</th>\n",
       "      <th>product_id</th>\n",
       "      <th>seller_id</th>\n",
       "      <th>price</th>\n",
       "      <th>freight_value</th>\n",
       "      <th>review_score</th>\n",
       "      <th>review_creation_date</th>\n",
       "      <th>review_answer_timestamp</th>\n",
       "      <th>product_category_name_english</th>\n",
       "    </tr>\n",
       "  </thead>\n",
       "  <tbody>\n",
       "    <tr>\n",
       "      <th>24296</th>\n",
       "      <td>830d5b7aaa3b6f1e9ad63703bec97d23</td>\n",
       "      <td>14600</td>\n",
       "      <td>sao joaquim da barra</td>\n",
       "      <td>SP</td>\n",
       "      <td>delivered</td>\n",
       "      <td>2016-09-15 12:16:38</td>\n",
       "      <td>2016-11-09 07:47:38</td>\n",
       "      <td>2016-10-04 00:00:00</td>\n",
       "      <td>3.0</td>\n",
       "      <td>5a6b04657a4c5ee34285d1e4619a96b4</td>\n",
       "      <td>ecccfa2bb93b34a3bf033cc5d1dcdc69</td>\n",
       "      <td>44.99</td>\n",
       "      <td>2.83</td>\n",
       "      <td>1.0</td>\n",
       "      <td>2016-10-06 00:00:00</td>\n",
       "      <td>2016-10-07 18:32:28</td>\n",
       "      <td>health_beauty</td>\n",
       "    </tr>\n",
       "    <tr>\n",
       "      <th>24295</th>\n",
       "      <td>830d5b7aaa3b6f1e9ad63703bec97d23</td>\n",
       "      <td>14600</td>\n",
       "      <td>sao joaquim da barra</td>\n",
       "      <td>SP</td>\n",
       "      <td>delivered</td>\n",
       "      <td>2016-09-15 12:16:38</td>\n",
       "      <td>2016-11-09 07:47:38</td>\n",
       "      <td>2016-10-04 00:00:00</td>\n",
       "      <td>2.0</td>\n",
       "      <td>5a6b04657a4c5ee34285d1e4619a96b4</td>\n",
       "      <td>ecccfa2bb93b34a3bf033cc5d1dcdc69</td>\n",
       "      <td>44.99</td>\n",
       "      <td>2.83</td>\n",
       "      <td>1.0</td>\n",
       "      <td>2016-10-06 00:00:00</td>\n",
       "      <td>2016-10-07 18:32:28</td>\n",
       "      <td>health_beauty</td>\n",
       "    </tr>\n",
       "    <tr>\n",
       "      <th>24294</th>\n",
       "      <td>830d5b7aaa3b6f1e9ad63703bec97d23</td>\n",
       "      <td>14600</td>\n",
       "      <td>sao joaquim da barra</td>\n",
       "      <td>SP</td>\n",
       "      <td>delivered</td>\n",
       "      <td>2016-09-15 12:16:38</td>\n",
       "      <td>2016-11-09 07:47:38</td>\n",
       "      <td>2016-10-04 00:00:00</td>\n",
       "      <td>1.0</td>\n",
       "      <td>5a6b04657a4c5ee34285d1e4619a96b4</td>\n",
       "      <td>ecccfa2bb93b34a3bf033cc5d1dcdc69</td>\n",
       "      <td>44.99</td>\n",
       "      <td>2.83</td>\n",
       "      <td>1.0</td>\n",
       "      <td>2016-10-06 00:00:00</td>\n",
       "      <td>2016-10-07 18:32:28</td>\n",
       "      <td>health_beauty</td>\n",
       "    </tr>\n",
       "  </tbody>\n",
       "</table>\n",
       "</div>"
      ],
      "text/plain": [
       "                     customer_unique_id  customer_zip_code_prefix  \\\n",
       "24296  830d5b7aaa3b6f1e9ad63703bec97d23                     14600   \n",
       "24295  830d5b7aaa3b6f1e9ad63703bec97d23                     14600   \n",
       "24294  830d5b7aaa3b6f1e9ad63703bec97d23                     14600   \n",
       "\n",
       "              customer_city customer_state order_status  \\\n",
       "24296  sao joaquim da barra             SP    delivered   \n",
       "24295  sao joaquim da barra             SP    delivered   \n",
       "24294  sao joaquim da barra             SP    delivered   \n",
       "\n",
       "      order_purchase_timestamp order_delivered_customer_date  \\\n",
       "24296      2016-09-15 12:16:38           2016-11-09 07:47:38   \n",
       "24295      2016-09-15 12:16:38           2016-11-09 07:47:38   \n",
       "24294      2016-09-15 12:16:38           2016-11-09 07:47:38   \n",
       "\n",
       "      order_estimated_delivery_date  order_item_id  \\\n",
       "24296           2016-10-04 00:00:00            3.0   \n",
       "24295           2016-10-04 00:00:00            2.0   \n",
       "24294           2016-10-04 00:00:00            1.0   \n",
       "\n",
       "                             product_id                         seller_id  \\\n",
       "24296  5a6b04657a4c5ee34285d1e4619a96b4  ecccfa2bb93b34a3bf033cc5d1dcdc69   \n",
       "24295  5a6b04657a4c5ee34285d1e4619a96b4  ecccfa2bb93b34a3bf033cc5d1dcdc69   \n",
       "24294  5a6b04657a4c5ee34285d1e4619a96b4  ecccfa2bb93b34a3bf033cc5d1dcdc69   \n",
       "\n",
       "       price  freight_value  review_score review_creation_date  \\\n",
       "24296  44.99           2.83           1.0  2016-10-06 00:00:00   \n",
       "24295  44.99           2.83           1.0  2016-10-06 00:00:00   \n",
       "24294  44.99           2.83           1.0  2016-10-06 00:00:00   \n",
       "\n",
       "      review_answer_timestamp product_category_name_english  \n",
       "24296     2016-10-07 18:32:28                 health_beauty  \n",
       "24295     2016-10-07 18:32:28                 health_beauty  \n",
       "24294     2016-10-07 18:32:28                 health_beauty  "
      ]
     },
     "execution_count": 180,
     "metadata": {},
     "output_type": "execute_result"
    }
   ],
   "source": [
    "customer_id = df_['customer_unique_id'].unique()[0]\n",
    "df_[df_['customer_unique_id'] == customer_id]"
   ]
  },
  {
   "cell_type": "code",
   "execution_count": 181,
   "id": "1291d5c5",
   "metadata": {
    "ExecuteTime": {
     "end_time": "2022-08-04T17:13:47.581623Z",
     "start_time": "2022-08-04T17:13:47.567813Z"
    }
   },
   "outputs": [],
   "source": [
    "df_last = df_.drop_duplicates(subset='customer_unique_id', keep='last')"
   ]
  },
  {
   "cell_type": "code",
   "execution_count": 182,
   "id": "e5143ab1",
   "metadata": {
    "ExecuteTime": {
     "end_time": "2022-08-04T17:13:48.213219Z",
     "start_time": "2022-08-04T17:13:48.206226Z"
    }
   },
   "outputs": [
    {
     "data": {
      "text/plain": [
       "11691"
      ]
     },
     "execution_count": 182,
     "metadata": {},
     "output_type": "execute_result"
    }
   ],
   "source": [
    "df_last['customer_unique_id'].unique().size"
   ]
  },
  {
   "cell_type": "code",
   "execution_count": 215,
   "id": "68e5ba39",
   "metadata": {
    "ExecuteTime": {
     "end_time": "2022-08-02T21:24:26.179838Z",
     "start_time": "2022-08-02T21:24:26.174656Z"
    }
   },
   "outputs": [
    {
     "data": {
      "text/plain": [
       "array(['delivered', 'canceled'], dtype=object)"
      ]
     },
     "execution_count": 215,
     "metadata": {},
     "output_type": "execute_result"
    }
   ],
   "source": [
    "df_['order_status'].unique()"
   ]
  },
  {
   "cell_type": "code",
   "execution_count": 216,
   "id": "a46ac676",
   "metadata": {
    "ExecuteTime": {
     "end_time": "2022-08-02T21:24:50.482600Z",
     "start_time": "2022-08-02T21:24:50.462332Z"
    }
   },
   "outputs": [
    {
     "data": {
      "text/html": [
       "<div>\n",
       "<style scoped>\n",
       "    .dataframe tbody tr th:only-of-type {\n",
       "        vertical-align: middle;\n",
       "    }\n",
       "\n",
       "    .dataframe tbody tr th {\n",
       "        vertical-align: top;\n",
       "    }\n",
       "\n",
       "    .dataframe thead th {\n",
       "        text-align: right;\n",
       "    }\n",
       "</style>\n",
       "<table border=\"1\" class=\"dataframe\">\n",
       "  <thead>\n",
       "    <tr style=\"text-align: right;\">\n",
       "      <th></th>\n",
       "      <th>customer_unique_id</th>\n",
       "      <th>customer_zip_code_prefix</th>\n",
       "      <th>customer_city</th>\n",
       "      <th>customer_state</th>\n",
       "      <th>order_status</th>\n",
       "      <th>order_purchase_timestamp</th>\n",
       "      <th>order_delivered_customer_date</th>\n",
       "      <th>order_estimated_delivery_date</th>\n",
       "      <th>order_item_id</th>\n",
       "      <th>product_id</th>\n",
       "      <th>seller_id</th>\n",
       "      <th>price</th>\n",
       "      <th>freight_value</th>\n",
       "      <th>review_score</th>\n",
       "      <th>review_creation_date</th>\n",
       "      <th>review_answer_timestamp</th>\n",
       "      <th>product_category_name_english</th>\n",
       "    </tr>\n",
       "  </thead>\n",
       "  <tbody>\n",
       "    <tr>\n",
       "      <th>23951</th>\n",
       "      <td>830d5b7aaa3b6f1e9ad63703bec97d23</td>\n",
       "      <td>14600</td>\n",
       "      <td>sao joaquim da barra</td>\n",
       "      <td>SP</td>\n",
       "      <td>delivered</td>\n",
       "      <td>2016-09-15 12:16:38</td>\n",
       "      <td>2016-11-09 07:47:38</td>\n",
       "      <td>2016-10-04 00:00:00</td>\n",
       "      <td>2</td>\n",
       "      <td>5a6b04657a4c5ee34285d1e4619a96b4</td>\n",
       "      <td>ecccfa2bb93b34a3bf033cc5d1dcdc69</td>\n",
       "      <td>44.99</td>\n",
       "      <td>2.83</td>\n",
       "      <td>1</td>\n",
       "      <td>2016-10-06 00:00:00</td>\n",
       "      <td>2016-10-07 18:32:28</td>\n",
       "      <td>health_beauty</td>\n",
       "    </tr>\n",
       "    <tr>\n",
       "      <th>105389</th>\n",
       "      <td>f176923a0a4ab546c7287791ccb82193</td>\n",
       "      <td>78075</td>\n",
       "      <td>cuiaba</td>\n",
       "      <td>MT</td>\n",
       "      <td>delivered</td>\n",
       "      <td>2016-10-04 13:11:29</td>\n",
       "      <td>2016-10-11 13:46:32</td>\n",
       "      <td>2016-12-06 00:00:00</td>\n",
       "      <td>1</td>\n",
       "      <td>43bb8825dd6838251606e5e4130cfff4</td>\n",
       "      <td>939f6e231201f26803cb5c3a3d2940b3</td>\n",
       "      <td>23.90</td>\n",
       "      <td>26.82</td>\n",
       "      <td>5</td>\n",
       "      <td>2016-10-20 00:00:00</td>\n",
       "      <td>2016-10-21 01:50:25</td>\n",
       "      <td>furniture_decor</td>\n",
       "    </tr>\n",
       "    <tr>\n",
       "      <th>111805</th>\n",
       "      <td>a9530b74fe56ca4be9e5f2c7e7c4175a</td>\n",
       "      <td>89124</td>\n",
       "      <td>benedito novo</td>\n",
       "      <td>SC</td>\n",
       "      <td>delivered</td>\n",
       "      <td>2016-10-04 15:02:53</td>\n",
       "      <td>2016-10-26 13:21:41</td>\n",
       "      <td>2016-11-28 00:00:00</td>\n",
       "      <td>2</td>\n",
       "      <td>8f1e43e0e3374ed8c84df748034d6179</td>\n",
       "      <td>ecccfa2bb93b34a3bf033cc5d1dcdc69</td>\n",
       "      <td>59.90</td>\n",
       "      <td>14.87</td>\n",
       "      <td>1</td>\n",
       "      <td>2016-10-27 00:00:00</td>\n",
       "      <td>2016-10-31 09:55:13</td>\n",
       "      <td>health_beauty</td>\n",
       "    </tr>\n",
       "    <tr>\n",
       "      <th>49130</th>\n",
       "      <td>2e15add79c76241beffe812a24ad3a31</td>\n",
       "      <td>22745</td>\n",
       "      <td>rio de janeiro</td>\n",
       "      <td>RJ</td>\n",
       "      <td>delivered</td>\n",
       "      <td>2016-10-04 16:41:59</td>\n",
       "      <td>2016-10-29 12:53:41</td>\n",
       "      <td>2016-11-28 00:00:00</td>\n",
       "      <td>2</td>\n",
       "      <td>8adc1d29aa4fd4d758a91ef997c8a0a2</td>\n",
       "      <td>b2ba3715d723d245138f291a6fe42594</td>\n",
       "      <td>64.90</td>\n",
       "      <td>16.70</td>\n",
       "      <td>1</td>\n",
       "      <td>2016-10-30 00:00:00</td>\n",
       "      <td>2016-11-01 20:14:18</td>\n",
       "      <td>toys</td>\n",
       "    </tr>\n",
       "    <tr>\n",
       "      <th>30173</th>\n",
       "      <td>e37af39d93f352f64ede45a151161d0c</td>\n",
       "      <td>21215</td>\n",
       "      <td>rio de janeiro</td>\n",
       "      <td>RJ</td>\n",
       "      <td>delivered</td>\n",
       "      <td>2016-10-04 22:03:46</td>\n",
       "      <td>2016-10-17 15:36:53</td>\n",
       "      <td>2016-11-28 00:00:00</td>\n",
       "      <td>1</td>\n",
       "      <td>201ec8e4fb8456dd06265be68eb419a7</td>\n",
       "      <td>5a8e7d5003a1f221f9e1d6e411de7c23</td>\n",
       "      <td>59.90</td>\n",
       "      <td>14.83</td>\n",
       "      <td>3</td>\n",
       "      <td>2016-11-30 00:00:00</td>\n",
       "      <td>2016-12-02 12:19:04</td>\n",
       "      <td>furniture_decor</td>\n",
       "    </tr>\n",
       "    <tr>\n",
       "      <th>...</th>\n",
       "      <td>...</td>\n",
       "      <td>...</td>\n",
       "      <td>...</td>\n",
       "      <td>...</td>\n",
       "      <td>...</td>\n",
       "      <td>...</td>\n",
       "      <td>...</td>\n",
       "      <td>...</td>\n",
       "      <td>...</td>\n",
       "      <td>...</td>\n",
       "      <td>...</td>\n",
       "      <td>...</td>\n",
       "      <td>...</td>\n",
       "      <td>...</td>\n",
       "      <td>...</td>\n",
       "      <td>...</td>\n",
       "      <td>...</td>\n",
       "    </tr>\n",
       "    <tr>\n",
       "      <th>92375</th>\n",
       "      <td>fb7e29c65321441231990afc201c1b14</td>\n",
       "      <td>4107</td>\n",
       "      <td>sao paulo</td>\n",
       "      <td>SP</td>\n",
       "      <td>delivered</td>\n",
       "      <td>2018-08-28 19:32:05</td>\n",
       "      <td>2018-08-30 18:32:36</td>\n",
       "      <td>2018-09-12 00:00:00</td>\n",
       "      <td>4</td>\n",
       "      <td>7001d71d1ad858e07e5a341649412e76</td>\n",
       "      <td>f0b47fbbc6dee9aafe415a6e33051b3f</td>\n",
       "      <td>49.99</td>\n",
       "      <td>3.57</td>\n",
       "      <td>5</td>\n",
       "      <td>2018-08-31 00:00:00</td>\n",
       "      <td>2018-09-02 21:09:20</td>\n",
       "      <td>housewares</td>\n",
       "    </tr>\n",
       "    <tr>\n",
       "      <th>14237</th>\n",
       "      <td>1041688b50cfd8ef6df6086a1746a30c</td>\n",
       "      <td>25720</td>\n",
       "      <td>petropolis</td>\n",
       "      <td>RJ</td>\n",
       "      <td>delivered</td>\n",
       "      <td>2018-08-28 21:56:12</td>\n",
       "      <td>2018-08-30 19:04:08</td>\n",
       "      <td>2018-09-03 00:00:00</td>\n",
       "      <td>1</td>\n",
       "      <td>15de022edf1005363381e66bed514528</td>\n",
       "      <td>537eb890efff034a88679788b647c564</td>\n",
       "      <td>19.90</td>\n",
       "      <td>7.56</td>\n",
       "      <td>5</td>\n",
       "      <td>2018-08-31 00:00:00</td>\n",
       "      <td>2018-09-03 14:39:35</td>\n",
       "      <td>furniture_decor</td>\n",
       "    </tr>\n",
       "    <tr>\n",
       "      <th>95973</th>\n",
       "      <td>9dfcc502727549f99c9f73dbd28b35e9</td>\n",
       "      <td>3059</td>\n",
       "      <td>sao paulo</td>\n",
       "      <td>SP</td>\n",
       "      <td>delivered</td>\n",
       "      <td>2018-08-28 22:30:32</td>\n",
       "      <td>2018-08-30 17:18:48</td>\n",
       "      <td>2018-09-12 00:00:00</td>\n",
       "      <td>1</td>\n",
       "      <td>44406b87e5ac6494cdb0c9dccd3b88d3</td>\n",
       "      <td>7dc8c42cc750eeafea6c85712ffee9bf</td>\n",
       "      <td>39.99</td>\n",
       "      <td>9.03</td>\n",
       "      <td>2</td>\n",
       "      <td>2018-08-31 00:00:00</td>\n",
       "      <td>2018-08-31 21:03:13</td>\n",
       "      <td>costruction_tools_garden</td>\n",
       "    </tr>\n",
       "    <tr>\n",
       "      <th>101534</th>\n",
       "      <td>afbcfd0b9c5233e7ccc73428526fbb52</td>\n",
       "      <td>12243</td>\n",
       "      <td>sao jose dos campos</td>\n",
       "      <td>SP</td>\n",
       "      <td>delivered</td>\n",
       "      <td>2018-08-29 08:46:11</td>\n",
       "      <td>2018-08-30 21:54:45</td>\n",
       "      <td>2018-09-11 00:00:00</td>\n",
       "      <td>5</td>\n",
       "      <td>8d4dac6177fb8134f26fb4c5cc6c0aff</td>\n",
       "      <td>c70c1b0d8ca86052f45a432a38b73958</td>\n",
       "      <td>91.55</td>\n",
       "      <td>7.90</td>\n",
       "      <td>5</td>\n",
       "      <td>2018-08-31 00:00:00</td>\n",
       "      <td>2018-09-01 16:57:41</td>\n",
       "      <td>health_beauty</td>\n",
       "    </tr>\n",
       "    <tr>\n",
       "      <th>95601</th>\n",
       "      <td>5c58de6fb80e93396e2f35642666b693</td>\n",
       "      <td>80045</td>\n",
       "      <td>curitiba</td>\n",
       "      <td>PR</td>\n",
       "      <td>delivered</td>\n",
       "      <td>2018-08-29 14:18:23</td>\n",
       "      <td>2018-08-30 16:24:55</td>\n",
       "      <td>2018-09-04 00:00:00</td>\n",
       "      <td>2</td>\n",
       "      <td>2b4472df15512a2825ae86fd9ae79335</td>\n",
       "      <td>67bf6941ba2f1fa1d02c375766bc3e53</td>\n",
       "      <td>209.00</td>\n",
       "      <td>46.48</td>\n",
       "      <td>5</td>\n",
       "      <td>2018-08-31 00:00:00</td>\n",
       "      <td>2018-10-24 16:27:36</td>\n",
       "      <td>kitchen_dining_laundry_garden_furniture</td>\n",
       "    </tr>\n",
       "  </tbody>\n",
       "</table>\n",
       "<p>11564 rows × 17 columns</p>\n",
       "</div>"
      ],
      "text/plain": [
       "                      customer_unique_id  customer_zip_code_prefix  \\\n",
       "23951   830d5b7aaa3b6f1e9ad63703bec97d23                     14600   \n",
       "105389  f176923a0a4ab546c7287791ccb82193                     78075   \n",
       "111805  a9530b74fe56ca4be9e5f2c7e7c4175a                     89124   \n",
       "49130   2e15add79c76241beffe812a24ad3a31                     22745   \n",
       "30173   e37af39d93f352f64ede45a151161d0c                     21215   \n",
       "...                                  ...                       ...   \n",
       "92375   fb7e29c65321441231990afc201c1b14                      4107   \n",
       "14237   1041688b50cfd8ef6df6086a1746a30c                     25720   \n",
       "95973   9dfcc502727549f99c9f73dbd28b35e9                      3059   \n",
       "101534  afbcfd0b9c5233e7ccc73428526fbb52                     12243   \n",
       "95601   5c58de6fb80e93396e2f35642666b693                     80045   \n",
       "\n",
       "               customer_city customer_state order_status  \\\n",
       "23951   sao joaquim da barra             SP    delivered   \n",
       "105389                cuiaba             MT    delivered   \n",
       "111805         benedito novo             SC    delivered   \n",
       "49130         rio de janeiro             RJ    delivered   \n",
       "30173         rio de janeiro             RJ    delivered   \n",
       "...                      ...            ...          ...   \n",
       "92375              sao paulo             SP    delivered   \n",
       "14237             petropolis             RJ    delivered   \n",
       "95973              sao paulo             SP    delivered   \n",
       "101534   sao jose dos campos             SP    delivered   \n",
       "95601               curitiba             PR    delivered   \n",
       "\n",
       "       order_purchase_timestamp order_delivered_customer_date  \\\n",
       "23951       2016-09-15 12:16:38           2016-11-09 07:47:38   \n",
       "105389      2016-10-04 13:11:29           2016-10-11 13:46:32   \n",
       "111805      2016-10-04 15:02:53           2016-10-26 13:21:41   \n",
       "49130       2016-10-04 16:41:59           2016-10-29 12:53:41   \n",
       "30173       2016-10-04 22:03:46           2016-10-17 15:36:53   \n",
       "...                         ...                           ...   \n",
       "92375       2018-08-28 19:32:05           2018-08-30 18:32:36   \n",
       "14237       2018-08-28 21:56:12           2018-08-30 19:04:08   \n",
       "95973       2018-08-28 22:30:32           2018-08-30 17:18:48   \n",
       "101534      2018-08-29 08:46:11           2018-08-30 21:54:45   \n",
       "95601       2018-08-29 14:18:23           2018-08-30 16:24:55   \n",
       "\n",
       "       order_estimated_delivery_date  order_item_id  \\\n",
       "23951            2016-10-04 00:00:00              2   \n",
       "105389           2016-12-06 00:00:00              1   \n",
       "111805           2016-11-28 00:00:00              2   \n",
       "49130            2016-11-28 00:00:00              2   \n",
       "30173            2016-11-28 00:00:00              1   \n",
       "...                              ...            ...   \n",
       "92375            2018-09-12 00:00:00              4   \n",
       "14237            2018-09-03 00:00:00              1   \n",
       "95973            2018-09-12 00:00:00              1   \n",
       "101534           2018-09-11 00:00:00              5   \n",
       "95601            2018-09-04 00:00:00              2   \n",
       "\n",
       "                              product_id                         seller_id  \\\n",
       "23951   5a6b04657a4c5ee34285d1e4619a96b4  ecccfa2bb93b34a3bf033cc5d1dcdc69   \n",
       "105389  43bb8825dd6838251606e5e4130cfff4  939f6e231201f26803cb5c3a3d2940b3   \n",
       "111805  8f1e43e0e3374ed8c84df748034d6179  ecccfa2bb93b34a3bf033cc5d1dcdc69   \n",
       "49130   8adc1d29aa4fd4d758a91ef997c8a0a2  b2ba3715d723d245138f291a6fe42594   \n",
       "30173   201ec8e4fb8456dd06265be68eb419a7  5a8e7d5003a1f221f9e1d6e411de7c23   \n",
       "...                                  ...                               ...   \n",
       "92375   7001d71d1ad858e07e5a341649412e76  f0b47fbbc6dee9aafe415a6e33051b3f   \n",
       "14237   15de022edf1005363381e66bed514528  537eb890efff034a88679788b647c564   \n",
       "95973   44406b87e5ac6494cdb0c9dccd3b88d3  7dc8c42cc750eeafea6c85712ffee9bf   \n",
       "101534  8d4dac6177fb8134f26fb4c5cc6c0aff  c70c1b0d8ca86052f45a432a38b73958   \n",
       "95601   2b4472df15512a2825ae86fd9ae79335  67bf6941ba2f1fa1d02c375766bc3e53   \n",
       "\n",
       "         price  freight_value  review_score review_creation_date  \\\n",
       "23951    44.99           2.83             1  2016-10-06 00:00:00   \n",
       "105389   23.90          26.82             5  2016-10-20 00:00:00   \n",
       "111805   59.90          14.87             1  2016-10-27 00:00:00   \n",
       "49130    64.90          16.70             1  2016-10-30 00:00:00   \n",
       "30173    59.90          14.83             3  2016-11-30 00:00:00   \n",
       "...        ...            ...           ...                  ...   \n",
       "92375    49.99           3.57             5  2018-08-31 00:00:00   \n",
       "14237    19.90           7.56             5  2018-08-31 00:00:00   \n",
       "95973    39.99           9.03             2  2018-08-31 00:00:00   \n",
       "101534   91.55           7.90             5  2018-08-31 00:00:00   \n",
       "95601   209.00          46.48             5  2018-08-31 00:00:00   \n",
       "\n",
       "       review_answer_timestamp            product_category_name_english  \n",
       "23951      2016-10-07 18:32:28                            health_beauty  \n",
       "105389     2016-10-21 01:50:25                          furniture_decor  \n",
       "111805     2016-10-31 09:55:13                            health_beauty  \n",
       "49130      2016-11-01 20:14:18                                     toys  \n",
       "30173      2016-12-02 12:19:04                          furniture_decor  \n",
       "...                        ...                                      ...  \n",
       "92375      2018-09-02 21:09:20                               housewares  \n",
       "14237      2018-09-03 14:39:35                          furniture_decor  \n",
       "95973      2018-08-31 21:03:13                 costruction_tools_garden  \n",
       "101534     2018-09-01 16:57:41                            health_beauty  \n",
       "95601      2018-10-24 16:27:36  kitchen_dining_laundry_garden_furniture  \n",
       "\n",
       "[11564 rows x 17 columns]"
      ]
     },
     "execution_count": 216,
     "metadata": {},
     "output_type": "execute_result"
    }
   ],
   "source": [
    "df_last"
   ]
  },
  {
   "cell_type": "markdown",
   "id": "44f4c2e3",
   "metadata": {},
   "source": [
    "### Vérification"
   ]
  },
  {
   "cell_type": "code",
   "execution_count": 218,
   "id": "3cca6b10",
   "metadata": {
    "ExecuteTime": {
     "end_time": "2022-08-02T21:29:54.462216Z",
     "start_time": "2022-08-02T21:29:54.447086Z"
    }
   },
   "outputs": [
    {
     "data": {
      "text/html": [
       "<div>\n",
       "<style scoped>\n",
       "    .dataframe tbody tr th:only-of-type {\n",
       "        vertical-align: middle;\n",
       "    }\n",
       "\n",
       "    .dataframe tbody tr th {\n",
       "        vertical-align: top;\n",
       "    }\n",
       "\n",
       "    .dataframe thead th {\n",
       "        text-align: right;\n",
       "    }\n",
       "</style>\n",
       "<table border=\"1\" class=\"dataframe\">\n",
       "  <thead>\n",
       "    <tr style=\"text-align: right;\">\n",
       "      <th></th>\n",
       "      <th>customer_unique_id</th>\n",
       "      <th>customer_zip_code_prefix</th>\n",
       "      <th>customer_city</th>\n",
       "      <th>customer_state</th>\n",
       "      <th>order_status</th>\n",
       "      <th>order_purchase_timestamp</th>\n",
       "      <th>order_delivered_customer_date</th>\n",
       "      <th>order_estimated_delivery_date</th>\n",
       "      <th>order_item_id</th>\n",
       "      <th>product_id</th>\n",
       "      <th>seller_id</th>\n",
       "      <th>price</th>\n",
       "      <th>freight_value</th>\n",
       "      <th>review_score</th>\n",
       "      <th>review_creation_date</th>\n",
       "      <th>review_answer_timestamp</th>\n",
       "      <th>product_category_name_english</th>\n",
       "    </tr>\n",
       "  </thead>\n",
       "  <tbody>\n",
       "    <tr>\n",
       "      <th>10969</th>\n",
       "      <td>65c2b54b418a73fcb36a6b6e6765dd23</td>\n",
       "      <td>30670</td>\n",
       "      <td>belo horizonte</td>\n",
       "      <td>MG</td>\n",
       "      <td>delivered</td>\n",
       "      <td>2017-08-12 08:19:12</td>\n",
       "      <td>2017-08-24 19:23:02</td>\n",
       "      <td>2017-09-05 00:00:00</td>\n",
       "      <td>2</td>\n",
       "      <td>777d2e438a1b645f3aec9bd57e92672c</td>\n",
       "      <td>4a3ca9315b744ce9f8e9374361493884</td>\n",
       "      <td>69.9</td>\n",
       "      <td>16.25</td>\n",
       "      <td>4</td>\n",
       "      <td>2017-08-25 00:00:00</td>\n",
       "      <td>2017-08-26 02:05:18</td>\n",
       "      <td>bed_bath_table</td>\n",
       "    </tr>\n",
       "    <tr>\n",
       "      <th>54778</th>\n",
       "      <td>c60635e3c36e27ff9222fdac1ef3e17f</td>\n",
       "      <td>74013</td>\n",
       "      <td>goiania</td>\n",
       "      <td>GO</td>\n",
       "      <td>delivered</td>\n",
       "      <td>2018-04-22 07:23:36</td>\n",
       "      <td>2018-05-10 00:07:45</td>\n",
       "      <td>2018-05-21 00:00:00</td>\n",
       "      <td>1</td>\n",
       "      <td>35488a446a9fe259f079ba250f4e2110</td>\n",
       "      <td>f8db351d8c4c4c22c6835c19a46f01b0</td>\n",
       "      <td>89.9</td>\n",
       "      <td>18.51</td>\n",
       "      <td>4</td>\n",
       "      <td>2018-05-11 00:00:00</td>\n",
       "      <td>2018-05-11 12:12:46</td>\n",
       "      <td>perfumery</td>\n",
       "    </tr>\n",
       "    <tr>\n",
       "      <th>38491</th>\n",
       "      <td>d03b324a9f1d52f6ef3e1386477061a8</td>\n",
       "      <td>13013</td>\n",
       "      <td>campinas</td>\n",
       "      <td>SP</td>\n",
       "      <td>delivered</td>\n",
       "      <td>2018-05-28 11:02:23</td>\n",
       "      <td>2018-05-29 18:08:52</td>\n",
       "      <td>2018-06-13 00:00:00</td>\n",
       "      <td>1</td>\n",
       "      <td>ea3d1fd6192d8c4443e67d2360461a70</td>\n",
       "      <td>8d899e15a5925f097cca50faa49b15e3</td>\n",
       "      <td>67.0</td>\n",
       "      <td>9.44</td>\n",
       "      <td>5</td>\n",
       "      <td>2018-05-30 00:00:00</td>\n",
       "      <td>2018-05-30 22:45:57</td>\n",
       "      <td>furniture_decor</td>\n",
       "    </tr>\n",
       "  </tbody>\n",
       "</table>\n",
       "</div>"
      ],
      "text/plain": [
       "                     customer_unique_id  customer_zip_code_prefix  \\\n",
       "10969  65c2b54b418a73fcb36a6b6e6765dd23                     30670   \n",
       "54778  c60635e3c36e27ff9222fdac1ef3e17f                     74013   \n",
       "38491  d03b324a9f1d52f6ef3e1386477061a8                     13013   \n",
       "\n",
       "        customer_city customer_state order_status order_purchase_timestamp  \\\n",
       "10969  belo horizonte             MG    delivered      2017-08-12 08:19:12   \n",
       "54778         goiania             GO    delivered      2018-04-22 07:23:36   \n",
       "38491        campinas             SP    delivered      2018-05-28 11:02:23   \n",
       "\n",
       "      order_delivered_customer_date order_estimated_delivery_date  \\\n",
       "10969           2017-08-24 19:23:02           2017-09-05 00:00:00   \n",
       "54778           2018-05-10 00:07:45           2018-05-21 00:00:00   \n",
       "38491           2018-05-29 18:08:52           2018-06-13 00:00:00   \n",
       "\n",
       "       order_item_id                        product_id  \\\n",
       "10969              2  777d2e438a1b645f3aec9bd57e92672c   \n",
       "54778              1  35488a446a9fe259f079ba250f4e2110   \n",
       "38491              1  ea3d1fd6192d8c4443e67d2360461a70   \n",
       "\n",
       "                              seller_id  price  freight_value  review_score  \\\n",
       "10969  4a3ca9315b744ce9f8e9374361493884   69.9          16.25             4   \n",
       "54778  f8db351d8c4c4c22c6835c19a46f01b0   89.9          18.51             4   \n",
       "38491  8d899e15a5925f097cca50faa49b15e3   67.0           9.44             5   \n",
       "\n",
       "      review_creation_date review_answer_timestamp  \\\n",
       "10969  2017-08-25 00:00:00     2017-08-26 02:05:18   \n",
       "54778  2018-05-11 00:00:00     2018-05-11 12:12:46   \n",
       "38491  2018-05-30 00:00:00     2018-05-30 22:45:57   \n",
       "\n",
       "      product_category_name_english  \n",
       "10969                bed_bath_table  \n",
       "54778                     perfumery  \n",
       "38491               furniture_decor  "
      ]
     },
     "execution_count": 218,
     "metadata": {},
     "output_type": "execute_result"
    }
   ],
   "source": [
    "sample = df_last.sample(3)\n",
    "sample"
   ]
  },
  {
   "cell_type": "code",
   "execution_count": 220,
   "id": "04d64e8b",
   "metadata": {
    "ExecuteTime": {
     "end_time": "2022-08-02T21:31:27.484144Z",
     "start_time": "2022-08-02T21:31:27.465760Z"
    }
   },
   "outputs": [
    {
     "data": {
      "text/html": [
       "<div>\n",
       "<style scoped>\n",
       "    .dataframe tbody tr th:only-of-type {\n",
       "        vertical-align: middle;\n",
       "    }\n",
       "\n",
       "    .dataframe tbody tr th {\n",
       "        vertical-align: top;\n",
       "    }\n",
       "\n",
       "    .dataframe thead th {\n",
       "        text-align: right;\n",
       "    }\n",
       "</style>\n",
       "<table border=\"1\" class=\"dataframe\">\n",
       "  <thead>\n",
       "    <tr style=\"text-align: right;\">\n",
       "      <th></th>\n",
       "      <th>customer_unique_id</th>\n",
       "      <th>customer_zip_code_prefix</th>\n",
       "      <th>customer_city</th>\n",
       "      <th>customer_state</th>\n",
       "      <th>order_status</th>\n",
       "      <th>order_purchase_timestamp</th>\n",
       "      <th>order_delivered_customer_date</th>\n",
       "      <th>order_estimated_delivery_date</th>\n",
       "      <th>order_item_id</th>\n",
       "      <th>product_id</th>\n",
       "      <th>seller_id</th>\n",
       "      <th>price</th>\n",
       "      <th>freight_value</th>\n",
       "      <th>review_score</th>\n",
       "      <th>review_creation_date</th>\n",
       "      <th>review_answer_timestamp</th>\n",
       "      <th>product_category_name_english</th>\n",
       "    </tr>\n",
       "  </thead>\n",
       "  <tbody>\n",
       "    <tr>\n",
       "      <th>10968</th>\n",
       "      <td>65c2b54b418a73fcb36a6b6e6765dd23</td>\n",
       "      <td>30670</td>\n",
       "      <td>belo horizonte</td>\n",
       "      <td>MG</td>\n",
       "      <td>delivered</td>\n",
       "      <td>2017-08-12 08:19:12</td>\n",
       "      <td>2017-08-24 19:23:02</td>\n",
       "      <td>2017-09-05 00:00:00</td>\n",
       "      <td>1</td>\n",
       "      <td>777d2e438a1b645f3aec9bd57e92672c</td>\n",
       "      <td>4a3ca9315b744ce9f8e9374361493884</td>\n",
       "      <td>69.9</td>\n",
       "      <td>16.25</td>\n",
       "      <td>4</td>\n",
       "      <td>2017-08-25 00:00:00</td>\n",
       "      <td>2017-08-26 02:05:18</td>\n",
       "      <td>bed_bath_table</td>\n",
       "    </tr>\n",
       "    <tr>\n",
       "      <th>10969</th>\n",
       "      <td>65c2b54b418a73fcb36a6b6e6765dd23</td>\n",
       "      <td>30670</td>\n",
       "      <td>belo horizonte</td>\n",
       "      <td>MG</td>\n",
       "      <td>delivered</td>\n",
       "      <td>2017-08-12 08:19:12</td>\n",
       "      <td>2017-08-24 19:23:02</td>\n",
       "      <td>2017-09-05 00:00:00</td>\n",
       "      <td>2</td>\n",
       "      <td>777d2e438a1b645f3aec9bd57e92672c</td>\n",
       "      <td>4a3ca9315b744ce9f8e9374361493884</td>\n",
       "      <td>69.9</td>\n",
       "      <td>16.25</td>\n",
       "      <td>4</td>\n",
       "      <td>2017-08-25 00:00:00</td>\n",
       "      <td>2017-08-26 02:05:18</td>\n",
       "      <td>bed_bath_table</td>\n",
       "    </tr>\n",
       "  </tbody>\n",
       "</table>\n",
       "</div>"
      ],
      "text/plain": [
       "                     customer_unique_id  customer_zip_code_prefix  \\\n",
       "10968  65c2b54b418a73fcb36a6b6e6765dd23                     30670   \n",
       "10969  65c2b54b418a73fcb36a6b6e6765dd23                     30670   \n",
       "\n",
       "        customer_city customer_state order_status order_purchase_timestamp  \\\n",
       "10968  belo horizonte             MG    delivered      2017-08-12 08:19:12   \n",
       "10969  belo horizonte             MG    delivered      2017-08-12 08:19:12   \n",
       "\n",
       "      order_delivered_customer_date order_estimated_delivery_date  \\\n",
       "10968           2017-08-24 19:23:02           2017-09-05 00:00:00   \n",
       "10969           2017-08-24 19:23:02           2017-09-05 00:00:00   \n",
       "\n",
       "       order_item_id                        product_id  \\\n",
       "10968              1  777d2e438a1b645f3aec9bd57e92672c   \n",
       "10969              2  777d2e438a1b645f3aec9bd57e92672c   \n",
       "\n",
       "                              seller_id  price  freight_value  review_score  \\\n",
       "10968  4a3ca9315b744ce9f8e9374361493884   69.9          16.25             4   \n",
       "10969  4a3ca9315b744ce9f8e9374361493884   69.9          16.25             4   \n",
       "\n",
       "      review_creation_date review_answer_timestamp  \\\n",
       "10968  2017-08-25 00:00:00     2017-08-26 02:05:18   \n",
       "10969  2017-08-25 00:00:00     2017-08-26 02:05:18   \n",
       "\n",
       "      product_category_name_english  \n",
       "10968                bed_bath_table  \n",
       "10969                bed_bath_table  "
      ]
     },
     "execution_count": 220,
     "metadata": {},
     "output_type": "execute_result"
    }
   ],
   "source": [
    "customer_id = sample['customer_unique_id'].iloc[0]\n",
    "df_[df_['customer_unique_id'] == customer_id]"
   ]
  },
  {
   "cell_type": "code",
   "execution_count": 221,
   "id": "6de2217e",
   "metadata": {
    "ExecuteTime": {
     "end_time": "2022-08-02T21:31:56.763646Z",
     "start_time": "2022-08-02T21:31:56.745891Z"
    }
   },
   "outputs": [
    {
     "data": {
      "text/html": [
       "<div>\n",
       "<style scoped>\n",
       "    .dataframe tbody tr th:only-of-type {\n",
       "        vertical-align: middle;\n",
       "    }\n",
       "\n",
       "    .dataframe tbody tr th {\n",
       "        vertical-align: top;\n",
       "    }\n",
       "\n",
       "    .dataframe thead th {\n",
       "        text-align: right;\n",
       "    }\n",
       "</style>\n",
       "<table border=\"1\" class=\"dataframe\">\n",
       "  <thead>\n",
       "    <tr style=\"text-align: right;\">\n",
       "      <th></th>\n",
       "      <th>customer_unique_id</th>\n",
       "      <th>customer_zip_code_prefix</th>\n",
       "      <th>customer_city</th>\n",
       "      <th>customer_state</th>\n",
       "      <th>order_status</th>\n",
       "      <th>order_purchase_timestamp</th>\n",
       "      <th>order_delivered_customer_date</th>\n",
       "      <th>order_estimated_delivery_date</th>\n",
       "      <th>order_item_id</th>\n",
       "      <th>product_id</th>\n",
       "      <th>seller_id</th>\n",
       "      <th>price</th>\n",
       "      <th>freight_value</th>\n",
       "      <th>review_score</th>\n",
       "      <th>review_creation_date</th>\n",
       "      <th>review_answer_timestamp</th>\n",
       "      <th>product_category_name_english</th>\n",
       "    </tr>\n",
       "  </thead>\n",
       "  <tbody>\n",
       "    <tr>\n",
       "      <th>23337</th>\n",
       "      <td>c60635e3c36e27ff9222fdac1ef3e17f</td>\n",
       "      <td>74013</td>\n",
       "      <td>goiania</td>\n",
       "      <td>GO</td>\n",
       "      <td>delivered</td>\n",
       "      <td>2018-01-21 11:29:19</td>\n",
       "      <td>2018-01-30 20:41:39</td>\n",
       "      <td>2018-02-16 00:00:00</td>\n",
       "      <td>1</td>\n",
       "      <td>17704da54fb7512da5a72cc3b227185e</td>\n",
       "      <td>a416b6a846a11724393025641d4edd5e</td>\n",
       "      <td>179.9</td>\n",
       "      <td>16.02</td>\n",
       "      <td>4</td>\n",
       "      <td>2018-01-31 00:00:00</td>\n",
       "      <td>2018-02-01 00:27:04</td>\n",
       "      <td>health_beauty</td>\n",
       "    </tr>\n",
       "    <tr>\n",
       "      <th>54778</th>\n",
       "      <td>c60635e3c36e27ff9222fdac1ef3e17f</td>\n",
       "      <td>74013</td>\n",
       "      <td>goiania</td>\n",
       "      <td>GO</td>\n",
       "      <td>delivered</td>\n",
       "      <td>2018-04-22 07:23:36</td>\n",
       "      <td>2018-05-10 00:07:45</td>\n",
       "      <td>2018-05-21 00:00:00</td>\n",
       "      <td>1</td>\n",
       "      <td>35488a446a9fe259f079ba250f4e2110</td>\n",
       "      <td>f8db351d8c4c4c22c6835c19a46f01b0</td>\n",
       "      <td>89.9</td>\n",
       "      <td>18.51</td>\n",
       "      <td>4</td>\n",
       "      <td>2018-05-11 00:00:00</td>\n",
       "      <td>2018-05-11 12:12:46</td>\n",
       "      <td>perfumery</td>\n",
       "    </tr>\n",
       "  </tbody>\n",
       "</table>\n",
       "</div>"
      ],
      "text/plain": [
       "                     customer_unique_id  customer_zip_code_prefix  \\\n",
       "23337  c60635e3c36e27ff9222fdac1ef3e17f                     74013   \n",
       "54778  c60635e3c36e27ff9222fdac1ef3e17f                     74013   \n",
       "\n",
       "      customer_city customer_state order_status order_purchase_timestamp  \\\n",
       "23337       goiania             GO    delivered      2018-01-21 11:29:19   \n",
       "54778       goiania             GO    delivered      2018-04-22 07:23:36   \n",
       "\n",
       "      order_delivered_customer_date order_estimated_delivery_date  \\\n",
       "23337           2018-01-30 20:41:39           2018-02-16 00:00:00   \n",
       "54778           2018-05-10 00:07:45           2018-05-21 00:00:00   \n",
       "\n",
       "       order_item_id                        product_id  \\\n",
       "23337              1  17704da54fb7512da5a72cc3b227185e   \n",
       "54778              1  35488a446a9fe259f079ba250f4e2110   \n",
       "\n",
       "                              seller_id  price  freight_value  review_score  \\\n",
       "23337  a416b6a846a11724393025641d4edd5e  179.9          16.02             4   \n",
       "54778  f8db351d8c4c4c22c6835c19a46f01b0   89.9          18.51             4   \n",
       "\n",
       "      review_creation_date review_answer_timestamp  \\\n",
       "23337  2018-01-31 00:00:00     2018-02-01 00:27:04   \n",
       "54778  2018-05-11 00:00:00     2018-05-11 12:12:46   \n",
       "\n",
       "      product_category_name_english  \n",
       "23337                 health_beauty  \n",
       "54778                     perfumery  "
      ]
     },
     "execution_count": 221,
     "metadata": {},
     "output_type": "execute_result"
    }
   ],
   "source": [
    "customer_id = sample['customer_unique_id'].iloc[1]\n",
    "df_[df_['customer_unique_id'] == customer_id]"
   ]
  },
  {
   "cell_type": "code",
   "execution_count": 222,
   "id": "19816533",
   "metadata": {
    "ExecuteTime": {
     "end_time": "2022-08-02T21:32:14.011276Z",
     "start_time": "2022-08-02T21:32:13.993194Z"
    }
   },
   "outputs": [
    {
     "data": {
      "text/html": [
       "<div>\n",
       "<style scoped>\n",
       "    .dataframe tbody tr th:only-of-type {\n",
       "        vertical-align: middle;\n",
       "    }\n",
       "\n",
       "    .dataframe tbody tr th {\n",
       "        vertical-align: top;\n",
       "    }\n",
       "\n",
       "    .dataframe thead th {\n",
       "        text-align: right;\n",
       "    }\n",
       "</style>\n",
       "<table border=\"1\" class=\"dataframe\">\n",
       "  <thead>\n",
       "    <tr style=\"text-align: right;\">\n",
       "      <th></th>\n",
       "      <th>customer_unique_id</th>\n",
       "      <th>customer_zip_code_prefix</th>\n",
       "      <th>customer_city</th>\n",
       "      <th>customer_state</th>\n",
       "      <th>order_status</th>\n",
       "      <th>order_purchase_timestamp</th>\n",
       "      <th>order_delivered_customer_date</th>\n",
       "      <th>order_estimated_delivery_date</th>\n",
       "      <th>order_item_id</th>\n",
       "      <th>product_id</th>\n",
       "      <th>seller_id</th>\n",
       "      <th>price</th>\n",
       "      <th>freight_value</th>\n",
       "      <th>review_score</th>\n",
       "      <th>review_creation_date</th>\n",
       "      <th>review_answer_timestamp</th>\n",
       "      <th>product_category_name_english</th>\n",
       "    </tr>\n",
       "  </thead>\n",
       "  <tbody>\n",
       "    <tr>\n",
       "      <th>38492</th>\n",
       "      <td>d03b324a9f1d52f6ef3e1386477061a8</td>\n",
       "      <td>13013</td>\n",
       "      <td>campinas</td>\n",
       "      <td>SP</td>\n",
       "      <td>delivered</td>\n",
       "      <td>2018-05-28 11:02:23</td>\n",
       "      <td>2018-05-29 18:08:52</td>\n",
       "      <td>2018-06-13 00:00:00</td>\n",
       "      <td>2</td>\n",
       "      <td>ea3d1fd6192d8c4443e67d2360461a70</td>\n",
       "      <td>8d899e15a5925f097cca50faa49b15e3</td>\n",
       "      <td>67.0</td>\n",
       "      <td>9.44</td>\n",
       "      <td>5</td>\n",
       "      <td>2018-05-30 00:00:00</td>\n",
       "      <td>2018-05-30 22:45:57</td>\n",
       "      <td>furniture_decor</td>\n",
       "    </tr>\n",
       "    <tr>\n",
       "      <th>38491</th>\n",
       "      <td>d03b324a9f1d52f6ef3e1386477061a8</td>\n",
       "      <td>13013</td>\n",
       "      <td>campinas</td>\n",
       "      <td>SP</td>\n",
       "      <td>delivered</td>\n",
       "      <td>2018-05-28 11:02:23</td>\n",
       "      <td>2018-05-29 18:08:52</td>\n",
       "      <td>2018-06-13 00:00:00</td>\n",
       "      <td>1</td>\n",
       "      <td>ea3d1fd6192d8c4443e67d2360461a70</td>\n",
       "      <td>8d899e15a5925f097cca50faa49b15e3</td>\n",
       "      <td>67.0</td>\n",
       "      <td>9.44</td>\n",
       "      <td>5</td>\n",
       "      <td>2018-05-30 00:00:00</td>\n",
       "      <td>2018-05-30 22:45:57</td>\n",
       "      <td>furniture_decor</td>\n",
       "    </tr>\n",
       "  </tbody>\n",
       "</table>\n",
       "</div>"
      ],
      "text/plain": [
       "                     customer_unique_id  customer_zip_code_prefix  \\\n",
       "38492  d03b324a9f1d52f6ef3e1386477061a8                     13013   \n",
       "38491  d03b324a9f1d52f6ef3e1386477061a8                     13013   \n",
       "\n",
       "      customer_city customer_state order_status order_purchase_timestamp  \\\n",
       "38492      campinas             SP    delivered      2018-05-28 11:02:23   \n",
       "38491      campinas             SP    delivered      2018-05-28 11:02:23   \n",
       "\n",
       "      order_delivered_customer_date order_estimated_delivery_date  \\\n",
       "38492           2018-05-29 18:08:52           2018-06-13 00:00:00   \n",
       "38491           2018-05-29 18:08:52           2018-06-13 00:00:00   \n",
       "\n",
       "       order_item_id                        product_id  \\\n",
       "38492              2  ea3d1fd6192d8c4443e67d2360461a70   \n",
       "38491              1  ea3d1fd6192d8c4443e67d2360461a70   \n",
       "\n",
       "                              seller_id  price  freight_value  review_score  \\\n",
       "38492  8d899e15a5925f097cca50faa49b15e3   67.0           9.44             5   \n",
       "38491  8d899e15a5925f097cca50faa49b15e3   67.0           9.44             5   \n",
       "\n",
       "      review_creation_date review_answer_timestamp  \\\n",
       "38492  2018-05-30 00:00:00     2018-05-30 22:45:57   \n",
       "38491  2018-05-30 00:00:00     2018-05-30 22:45:57   \n",
       "\n",
       "      product_category_name_english  \n",
       "38492               furniture_decor  \n",
       "38491               furniture_decor  "
      ]
     },
     "execution_count": 222,
     "metadata": {},
     "output_type": "execute_result"
    }
   ],
   "source": [
    "customer_id = sample['customer_unique_id'].iloc[2]\n",
    "df_[df_['customer_unique_id'] == customer_id]"
   ]
  },
  {
   "cell_type": "markdown",
   "id": "68d23605",
   "metadata": {},
   "source": [
    "On retrouve effectivement les dates les plus récentes dans `df_last`, le code semble donc fonctionner"
   ]
  },
  {
   "cell_type": "markdown",
   "id": "15615466",
   "metadata": {},
   "source": [
    "## Fréquence"
   ]
  },
  {
   "cell_type": "markdown",
   "id": "320aefc5",
   "metadata": {},
   "source": [
    "### Test"
   ]
  },
  {
   "cell_type": "code",
   "execution_count": 696,
   "id": "05a5fce0",
   "metadata": {
    "ExecuteTime": {
     "end_time": "2022-08-05T08:48:45.272860Z",
     "start_time": "2022-08-05T08:48:45.255975Z"
    }
   },
   "outputs": [
    {
     "data": {
      "text/html": [
       "<div>\n",
       "<style scoped>\n",
       "    .dataframe tbody tr th:only-of-type {\n",
       "        vertical-align: middle;\n",
       "    }\n",
       "\n",
       "    .dataframe tbody tr th {\n",
       "        vertical-align: top;\n",
       "    }\n",
       "\n",
       "    .dataframe thead th {\n",
       "        text-align: right;\n",
       "    }\n",
       "</style>\n",
       "<table border=\"1\" class=\"dataframe\">\n",
       "  <thead>\n",
       "    <tr style=\"text-align: right;\">\n",
       "      <th></th>\n",
       "      <th>customer_unique_id</th>\n",
       "      <th>product_id</th>\n",
       "      <th>seller_id</th>\n",
       "      <th>customer_zip_code_prefix</th>\n",
       "      <th>customer_city</th>\n",
       "      <th>customer_state</th>\n",
       "      <th>order_status</th>\n",
       "      <th>order_item_id</th>\n",
       "      <th>order_purchase_timestamp</th>\n",
       "      <th>delivered_estimated_interval</th>\n",
       "      <th>review_delivered_interval</th>\n",
       "      <th>answer_review_interval</th>\n",
       "      <th>price</th>\n",
       "      <th>freight_value</th>\n",
       "      <th>product_category_name_english</th>\n",
       "      <th>review_score</th>\n",
       "    </tr>\n",
       "  </thead>\n",
       "  <tbody>\n",
       "    <tr>\n",
       "      <th>0</th>\n",
       "      <td>861eff4711a542e4b93843c6dd7febb0</td>\n",
       "      <td>a9516a079e37a9c9c36b9b78b10169e8</td>\n",
       "      <td>7c67e1448b00f6e969d365cea6b010ab</td>\n",
       "      <td>14409</td>\n",
       "      <td>franca</td>\n",
       "      <td>SP</td>\n",
       "      <td>delivered</td>\n",
       "      <td>1</td>\n",
       "      <td>2017-05-16 15:05:35</td>\n",
       "      <td>-11 days +10:35:35</td>\n",
       "      <td>0 days 13:24:25</td>\n",
       "      <td>4 days 22:34:40</td>\n",
       "      <td>124.99</td>\n",
       "      <td>21.88</td>\n",
       "      <td>office_furniture</td>\n",
       "      <td>4</td>\n",
       "    </tr>\n",
       "    <tr>\n",
       "      <th>1</th>\n",
       "      <td>290c77bc529b7ac935b93aa66c333dc3</td>\n",
       "      <td>4aa6014eceb682077f9dc4bffebc05b0</td>\n",
       "      <td>b8bc237ba3788b23da09c0f1f3a3288c</td>\n",
       "      <td>9790</td>\n",
       "      <td>sao bernardo do campo</td>\n",
       "      <td>SP</td>\n",
       "      <td>delivered</td>\n",
       "      <td>1</td>\n",
       "      <td>2018-01-12 20:48:24</td>\n",
       "      <td>-8 days +12:41:19</td>\n",
       "      <td>0 days 11:18:41</td>\n",
       "      <td>11 days 22:43:29</td>\n",
       "      <td>289.00</td>\n",
       "      <td>46.48</td>\n",
       "      <td>housewares</td>\n",
       "      <td>5</td>\n",
       "    </tr>\n",
       "    <tr>\n",
       "      <th>2</th>\n",
       "      <td>060e732b5b29e8181a18229c7b0b2b5e</td>\n",
       "      <td>bd07b66896d6f1494f5b86251848ced7</td>\n",
       "      <td>7c67e1448b00f6e969d365cea6b010ab</td>\n",
       "      <td>1151</td>\n",
       "      <td>sao paulo</td>\n",
       "      <td>SP</td>\n",
       "      <td>delivered</td>\n",
       "      <td>1</td>\n",
       "      <td>2018-05-19 16:07:45</td>\n",
       "      <td>1 days 17:58:51</td>\n",
       "      <td>0 days 06:01:09</td>\n",
       "      <td>0 days 12:10:59</td>\n",
       "      <td>139.94</td>\n",
       "      <td>17.79</td>\n",
       "      <td>office_furniture</td>\n",
       "      <td>5</td>\n",
       "    </tr>\n",
       "    <tr>\n",
       "      <th>3</th>\n",
       "      <td>259dac757896d24d7702b9acbbff3f3c</td>\n",
       "      <td>a5647c44af977b148e0a3a4751a09e2e</td>\n",
       "      <td>7c67e1448b00f6e969d365cea6b010ab</td>\n",
       "      <td>8775</td>\n",
       "      <td>mogi das cruzes</td>\n",
       "      <td>SP</td>\n",
       "      <td>delivered</td>\n",
       "      <td>1</td>\n",
       "      <td>2018-03-13 16:06:38</td>\n",
       "      <td>-13 days +16:04:25</td>\n",
       "      <td>0 days 07:55:35</td>\n",
       "      <td>4 days 18:36:47</td>\n",
       "      <td>149.94</td>\n",
       "      <td>23.36</td>\n",
       "      <td>office_furniture</td>\n",
       "      <td>5</td>\n",
       "    </tr>\n",
       "    <tr>\n",
       "      <th>4</th>\n",
       "      <td>345ecd01c38d18a9036ed96c73b8d066</td>\n",
       "      <td>9391a573abe00141c56e38d84d7d5b3b</td>\n",
       "      <td>4a3ca9315b744ce9f8e9374361493884</td>\n",
       "      <td>13056</td>\n",
       "      <td>campinas</td>\n",
       "      <td>SP</td>\n",
       "      <td>delivered</td>\n",
       "      <td>1</td>\n",
       "      <td>2018-07-29 09:51:30</td>\n",
       "      <td>-6 days +20:55:48</td>\n",
       "      <td>0 days 03:04:12</td>\n",
       "      <td>7 days 01:59:52</td>\n",
       "      <td>230.00</td>\n",
       "      <td>22.25</td>\n",
       "      <td>home_confort</td>\n",
       "      <td>5</td>\n",
       "    </tr>\n",
       "  </tbody>\n",
       "</table>\n",
       "</div>"
      ],
      "text/plain": [
       "                 customer_unique_id                        product_id  \\\n",
       "0  861eff4711a542e4b93843c6dd7febb0  a9516a079e37a9c9c36b9b78b10169e8   \n",
       "1  290c77bc529b7ac935b93aa66c333dc3  4aa6014eceb682077f9dc4bffebc05b0   \n",
       "2  060e732b5b29e8181a18229c7b0b2b5e  bd07b66896d6f1494f5b86251848ced7   \n",
       "3  259dac757896d24d7702b9acbbff3f3c  a5647c44af977b148e0a3a4751a09e2e   \n",
       "4  345ecd01c38d18a9036ed96c73b8d066  9391a573abe00141c56e38d84d7d5b3b   \n",
       "\n",
       "                          seller_id customer_zip_code_prefix  \\\n",
       "0  7c67e1448b00f6e969d365cea6b010ab                    14409   \n",
       "1  b8bc237ba3788b23da09c0f1f3a3288c                     9790   \n",
       "2  7c67e1448b00f6e969d365cea6b010ab                     1151   \n",
       "3  7c67e1448b00f6e969d365cea6b010ab                     8775   \n",
       "4  4a3ca9315b744ce9f8e9374361493884                    13056   \n",
       "\n",
       "           customer_city customer_state order_status  order_item_id  \\\n",
       "0                 franca             SP    delivered              1   \n",
       "1  sao bernardo do campo             SP    delivered              1   \n",
       "2              sao paulo             SP    delivered              1   \n",
       "3        mogi das cruzes             SP    delivered              1   \n",
       "4               campinas             SP    delivered              1   \n",
       "\n",
       "  order_purchase_timestamp delivered_estimated_interval  \\\n",
       "0      2017-05-16 15:05:35           -11 days +10:35:35   \n",
       "1      2018-01-12 20:48:24            -8 days +12:41:19   \n",
       "2      2018-05-19 16:07:45              1 days 17:58:51   \n",
       "3      2018-03-13 16:06:38           -13 days +16:04:25   \n",
       "4      2018-07-29 09:51:30            -6 days +20:55:48   \n",
       "\n",
       "  review_delivered_interval answer_review_interval   price  freight_value  \\\n",
       "0           0 days 13:24:25        4 days 22:34:40  124.99          21.88   \n",
       "1           0 days 11:18:41       11 days 22:43:29  289.00          46.48   \n",
       "2           0 days 06:01:09        0 days 12:10:59  139.94          17.79   \n",
       "3           0 days 07:55:35        4 days 18:36:47  149.94          23.36   \n",
       "4           0 days 03:04:12        7 days 01:59:52  230.00          22.25   \n",
       "\n",
       "  product_category_name_english  review_score  \n",
       "0              office_furniture             4  \n",
       "1                    housewares             5  \n",
       "2              office_furniture             5  \n",
       "3              office_furniture             5  \n",
       "4                  home_confort             5  "
      ]
     },
     "execution_count": 696,
     "metadata": {},
     "output_type": "execute_result"
    }
   ],
   "source": [
    "df.head()"
   ]
  },
  {
   "cell_type": "code",
   "execution_count": 709,
   "id": "94fee246",
   "metadata": {
    "ExecuteTime": {
     "end_time": "2022-08-05T08:51:41.242195Z",
     "start_time": "2022-08-05T08:51:41.195588Z"
    }
   },
   "outputs": [],
   "source": [
    "value_counts = customers['customer_unique_id'].value_counts()\n",
    "repeated_customers = value_counts[value_counts > 4].index"
   ]
  },
  {
   "cell_type": "code",
   "execution_count": 710,
   "id": "be58522f",
   "metadata": {
    "ExecuteTime": {
     "end_time": "2022-08-05T08:51:41.612059Z",
     "start_time": "2022-08-05T08:51:41.581945Z"
    }
   },
   "outputs": [
    {
     "name": "stderr",
     "output_type": "stream",
     "text": [
      "<ipython-input-710-3b05203b12c3>:2: SettingWithCopyWarning: \n",
      "A value is trying to be set on a copy of a slice from a DataFrame.\n",
      "Try using .loc[row_indexer,col_indexer] = value instead\n",
      "\n",
      "See the caveats in the documentation: https://pandas.pydata.org/pandas-docs/stable/user_guide/indexing.html#returning-a-view-versus-a-copy\n",
      "  df_['order_purchase_timestamp'] = df_['order_purchase_timestamp'].dt.date\n"
     ]
    },
    {
     "data": {
      "text/plain": [
       "array([datetime.date(2017, 3, 26), datetime.date(2017, 6, 2),\n",
       "       datetime.date(2017, 6, 24), datetime.date(2017, 7, 16),\n",
       "       datetime.date(2018, 6, 14)], dtype=object)"
      ]
     },
     "execution_count": 710,
     "metadata": {},
     "output_type": "execute_result"
    }
   ],
   "source": [
    "df_ = df[df['customer_unique_id'].isin(repeated_customers)]\n",
    "df_['order_purchase_timestamp'] = df_['order_purchase_timestamp'].dt.date\n",
    "customer = df_[df_['customer_unique_id'] == df_['customer_unique_id'].unique()[0]]\n",
    "purchase_dates = np.sort(customer['order_purchase_timestamp'].unique())\n",
    "purchase_dates"
   ]
  },
  {
   "cell_type": "code",
   "execution_count": 711,
   "id": "f5df833b",
   "metadata": {
    "ExecuteTime": {
     "end_time": "2022-08-05T08:52:00.070926Z",
     "start_time": "2022-08-05T08:52:00.065872Z"
    }
   },
   "outputs": [
    {
     "data": {
      "text/plain": [
       "array([datetime.timedelta(days=68), datetime.timedelta(days=22),\n",
       "       datetime.timedelta(days=22), datetime.timedelta(days=333)],\n",
       "      dtype=object)"
      ]
     },
     "execution_count": 711,
     "metadata": {},
     "output_type": "execute_result"
    }
   ],
   "source": [
    "interval = []\n",
    "for i in range(len(purchase_dates[:-1])):\n",
    "    interval.append(purchase_dates[i+1] - purchase_dates[i])\n",
    "interval = np.array(interval)\n",
    "interval"
   ]
  },
  {
   "cell_type": "code",
   "execution_count": 712,
   "id": "f535f67e",
   "metadata": {
    "ExecuteTime": {
     "end_time": "2022-08-05T08:52:18.620217Z",
     "start_time": "2022-08-05T08:52:18.615896Z"
    }
   },
   "outputs": [
    {
     "data": {
      "text/plain": [
       "datetime.timedelta(days=111, seconds=21600)"
      ]
     },
     "execution_count": 712,
     "metadata": {},
     "output_type": "execute_result"
    }
   ],
   "source": [
    "frequency = interval.mean()\n",
    "frequency"
   ]
  },
  {
   "cell_type": "code",
   "execution_count": 713,
   "id": "8a6b178e",
   "metadata": {
    "ExecuteTime": {
     "end_time": "2022-08-05T08:52:21.185749Z",
     "start_time": "2022-08-05T08:52:21.180554Z"
    }
   },
   "outputs": [
    {
     "data": {
      "text/plain": [
       "0   111 days 06:00:00\n",
       "dtype: timedelta64[ns]"
      ]
     },
     "execution_count": 713,
     "metadata": {},
     "output_type": "execute_result"
    }
   ],
   "source": [
    "pd.Series(frequency)"
   ]
  },
  {
   "cell_type": "markdown",
   "id": "1b7feaef",
   "metadata": {},
   "source": [
    "### Généralisation"
   ]
  },
  {
   "cell_type": "code",
   "execution_count": 732,
   "id": "d8b2f6a6",
   "metadata": {
    "ExecuteTime": {
     "end_time": "2022-08-05T09:22:01.486665Z",
     "start_time": "2022-08-05T09:22:01.475930Z"
    }
   },
   "outputs": [],
   "source": [
    "df_ = df.copy()"
   ]
  },
  {
   "cell_type": "code",
   "execution_count": 733,
   "id": "24669add",
   "metadata": {
    "ExecuteTime": {
     "end_time": "2022-08-05T09:32:46.517325Z",
     "start_time": "2022-08-05T09:22:01.746062Z"
    },
    "scrolled": true
   },
   "outputs": [
    {
     "name": "stderr",
     "output_type": "stream",
     "text": [
      "<ipython-input-733-f45ddefc5763>:10: RuntimeWarning: Mean of empty slice.\n",
      "  frequency.append(interval.mean())\n"
     ]
    }
   ],
   "source": [
    "frequency = []\n",
    "df_['order_purchase_timestamp'] = df_['order_purchase_timestamp'].dt.date\n",
    "for customer_id in df_['customer_unique_id'].unique():\n",
    "    customer = df_[df_['customer_unique_id'] == customer_id]\n",
    "    purchase_dates = np.sort(customer['order_purchase_timestamp'].unique())\n",
    "    interval = []\n",
    "    for i in range(len(purchase_dates[:-1])):\n",
    "        interval.append(purchase_dates[i+1] - purchase_dates[i])\n",
    "    interval = np.array(interval)\n",
    "    frequency.append(interval.mean())"
   ]
  },
  {
   "cell_type": "code",
   "execution_count": 734,
   "id": "57c41e32",
   "metadata": {
    "ExecuteTime": {
     "end_time": "2022-08-05T09:43:04.331673Z",
     "start_time": "2022-08-05T09:43:04.327914Z"
    }
   },
   "outputs": [
    {
     "data": {
      "text/plain": [
       "93356"
      ]
     },
     "execution_count": 734,
     "metadata": {},
     "output_type": "execute_result"
    }
   ],
   "source": [
    "len(frequency)"
   ]
  },
  {
   "cell_type": "code",
   "execution_count": 738,
   "id": "8708134b",
   "metadata": {
    "ExecuteTime": {
     "end_time": "2022-08-05T21:06:41.515950Z",
     "start_time": "2022-08-05T21:06:41.362884Z"
    }
   },
   "outputs": [
    {
     "data": {
      "text/html": [
       "<div>\n",
       "<style scoped>\n",
       "    .dataframe tbody tr th:only-of-type {\n",
       "        vertical-align: middle;\n",
       "    }\n",
       "\n",
       "    .dataframe tbody tr th {\n",
       "        vertical-align: top;\n",
       "    }\n",
       "\n",
       "    .dataframe thead th {\n",
       "        text-align: right;\n",
       "    }\n",
       "</style>\n",
       "<table border=\"1\" class=\"dataframe\">\n",
       "  <thead>\n",
       "    <tr style=\"text-align: right;\">\n",
       "      <th></th>\n",
       "      <th>customer_unique_id</th>\n",
       "      <th>frequency</th>\n",
       "    </tr>\n",
       "  </thead>\n",
       "  <tbody>\n",
       "    <tr>\n",
       "      <th>0</th>\n",
       "      <td>861eff4711a542e4b93843c6dd7febb0</td>\n",
       "      <td>NaT</td>\n",
       "    </tr>\n",
       "    <tr>\n",
       "      <th>1</th>\n",
       "      <td>290c77bc529b7ac935b93aa66c333dc3</td>\n",
       "      <td>NaT</td>\n",
       "    </tr>\n",
       "    <tr>\n",
       "      <th>2</th>\n",
       "      <td>060e732b5b29e8181a18229c7b0b2b5e</td>\n",
       "      <td>NaT</td>\n",
       "    </tr>\n",
       "    <tr>\n",
       "      <th>3</th>\n",
       "      <td>259dac757896d24d7702b9acbbff3f3c</td>\n",
       "      <td>NaT</td>\n",
       "    </tr>\n",
       "    <tr>\n",
       "      <th>4</th>\n",
       "      <td>345ecd01c38d18a9036ed96c73b8d066</td>\n",
       "      <td>NaT</td>\n",
       "    </tr>\n",
       "  </tbody>\n",
       "</table>\n",
       "</div>"
      ],
      "text/plain": [
       "                 customer_unique_id frequency\n",
       "0  861eff4711a542e4b93843c6dd7febb0       NaT\n",
       "1  290c77bc529b7ac935b93aa66c333dc3       NaT\n",
       "2  060e732b5b29e8181a18229c7b0b2b5e       NaT\n",
       "3  259dac757896d24d7702b9acbbff3f3c       NaT\n",
       "4  345ecd01c38d18a9036ed96c73b8d066       NaT"
      ]
     },
     "execution_count": 738,
     "metadata": {},
     "output_type": "execute_result"
    }
   ],
   "source": [
    "frequencies = pd.DataFrame({'customer_unique_id': df_['customer_unique_id'].unique(), \n",
    "                            'frequency': frequency})\n",
    "frequencies.head()"
   ]
  },
  {
   "cell_type": "code",
   "execution_count": 739,
   "id": "4f64bb1b",
   "metadata": {
    "ExecuteTime": {
     "end_time": "2022-08-05T21:06:52.806687Z",
     "start_time": "2022-08-05T21:06:52.776418Z"
    }
   },
   "outputs": [
    {
     "data": {
      "text/plain": [
       "(2015, 2)"
      ]
     },
     "execution_count": 739,
     "metadata": {},
     "output_type": "execute_result"
    }
   ],
   "source": [
    "frequencies.dropna().shape"
   ]
  },
  {
   "cell_type": "code",
   "execution_count": 741,
   "id": "10f69fd6",
   "metadata": {
    "ExecuteTime": {
     "end_time": "2022-08-05T21:08:03.898919Z",
     "start_time": "2022-08-05T21:08:03.584908Z"
    }
   },
   "outputs": [],
   "source": [
    "frequencies.to_csv('frequencies')"
   ]
  },
  {
   "cell_type": "code",
   "execution_count": 744,
   "id": "8d01ce40",
   "metadata": {
    "ExecuteTime": {
     "end_time": "2022-08-05T21:11:03.864395Z",
     "start_time": "2022-08-05T21:11:03.773742Z"
    }
   },
   "outputs": [
    {
     "name": "stdout",
     "output_type": "stream",
     "text": [
      "(110839, 17)\n"
     ]
    },
    {
     "data": {
      "text/html": [
       "<div>\n",
       "<style scoped>\n",
       "    .dataframe tbody tr th:only-of-type {\n",
       "        vertical-align: middle;\n",
       "    }\n",
       "\n",
       "    .dataframe tbody tr th {\n",
       "        vertical-align: top;\n",
       "    }\n",
       "\n",
       "    .dataframe thead th {\n",
       "        text-align: right;\n",
       "    }\n",
       "</style>\n",
       "<table border=\"1\" class=\"dataframe\">\n",
       "  <thead>\n",
       "    <tr style=\"text-align: right;\">\n",
       "      <th></th>\n",
       "      <th>customer_unique_id</th>\n",
       "      <th>product_id</th>\n",
       "      <th>seller_id</th>\n",
       "      <th>customer_zip_code_prefix</th>\n",
       "      <th>customer_city</th>\n",
       "      <th>customer_state</th>\n",
       "      <th>order_status</th>\n",
       "      <th>order_item_id</th>\n",
       "      <th>order_purchase_timestamp</th>\n",
       "      <th>delivered_estimated_interval</th>\n",
       "      <th>review_delivered_interval</th>\n",
       "      <th>answer_review_interval</th>\n",
       "      <th>price</th>\n",
       "      <th>freight_value</th>\n",
       "      <th>product_category_name_english</th>\n",
       "      <th>review_score</th>\n",
       "      <th>frequency</th>\n",
       "    </tr>\n",
       "  </thead>\n",
       "  <tbody>\n",
       "    <tr>\n",
       "      <th>0</th>\n",
       "      <td>861eff4711a542e4b93843c6dd7febb0</td>\n",
       "      <td>a9516a079e37a9c9c36b9b78b10169e8</td>\n",
       "      <td>7c67e1448b00f6e969d365cea6b010ab</td>\n",
       "      <td>14409</td>\n",
       "      <td>franca</td>\n",
       "      <td>SP</td>\n",
       "      <td>delivered</td>\n",
       "      <td>1</td>\n",
       "      <td>2017-05-16 15:05:35</td>\n",
       "      <td>-11 days +10:35:35</td>\n",
       "      <td>0 days 13:24:25</td>\n",
       "      <td>4 days 22:34:40</td>\n",
       "      <td>124.99</td>\n",
       "      <td>21.88</td>\n",
       "      <td>office_furniture</td>\n",
       "      <td>4</td>\n",
       "      <td>NaT</td>\n",
       "    </tr>\n",
       "    <tr>\n",
       "      <th>1</th>\n",
       "      <td>290c77bc529b7ac935b93aa66c333dc3</td>\n",
       "      <td>4aa6014eceb682077f9dc4bffebc05b0</td>\n",
       "      <td>b8bc237ba3788b23da09c0f1f3a3288c</td>\n",
       "      <td>9790</td>\n",
       "      <td>sao bernardo do campo</td>\n",
       "      <td>SP</td>\n",
       "      <td>delivered</td>\n",
       "      <td>1</td>\n",
       "      <td>2018-01-12 20:48:24</td>\n",
       "      <td>-8 days +12:41:19</td>\n",
       "      <td>0 days 11:18:41</td>\n",
       "      <td>11 days 22:43:29</td>\n",
       "      <td>289.00</td>\n",
       "      <td>46.48</td>\n",
       "      <td>housewares</td>\n",
       "      <td>5</td>\n",
       "      <td>NaT</td>\n",
       "    </tr>\n",
       "    <tr>\n",
       "      <th>2</th>\n",
       "      <td>060e732b5b29e8181a18229c7b0b2b5e</td>\n",
       "      <td>bd07b66896d6f1494f5b86251848ced7</td>\n",
       "      <td>7c67e1448b00f6e969d365cea6b010ab</td>\n",
       "      <td>1151</td>\n",
       "      <td>sao paulo</td>\n",
       "      <td>SP</td>\n",
       "      <td>delivered</td>\n",
       "      <td>1</td>\n",
       "      <td>2018-05-19 16:07:45</td>\n",
       "      <td>1 days 17:58:51</td>\n",
       "      <td>0 days 06:01:09</td>\n",
       "      <td>0 days 12:10:59</td>\n",
       "      <td>139.94</td>\n",
       "      <td>17.79</td>\n",
       "      <td>office_furniture</td>\n",
       "      <td>5</td>\n",
       "      <td>NaT</td>\n",
       "    </tr>\n",
       "    <tr>\n",
       "      <th>3</th>\n",
       "      <td>259dac757896d24d7702b9acbbff3f3c</td>\n",
       "      <td>a5647c44af977b148e0a3a4751a09e2e</td>\n",
       "      <td>7c67e1448b00f6e969d365cea6b010ab</td>\n",
       "      <td>8775</td>\n",
       "      <td>mogi das cruzes</td>\n",
       "      <td>SP</td>\n",
       "      <td>delivered</td>\n",
       "      <td>1</td>\n",
       "      <td>2018-03-13 16:06:38</td>\n",
       "      <td>-13 days +16:04:25</td>\n",
       "      <td>0 days 07:55:35</td>\n",
       "      <td>4 days 18:36:47</td>\n",
       "      <td>149.94</td>\n",
       "      <td>23.36</td>\n",
       "      <td>office_furniture</td>\n",
       "      <td>5</td>\n",
       "      <td>NaT</td>\n",
       "    </tr>\n",
       "    <tr>\n",
       "      <th>4</th>\n",
       "      <td>345ecd01c38d18a9036ed96c73b8d066</td>\n",
       "      <td>9391a573abe00141c56e38d84d7d5b3b</td>\n",
       "      <td>4a3ca9315b744ce9f8e9374361493884</td>\n",
       "      <td>13056</td>\n",
       "      <td>campinas</td>\n",
       "      <td>SP</td>\n",
       "      <td>delivered</td>\n",
       "      <td>1</td>\n",
       "      <td>2018-07-29 09:51:30</td>\n",
       "      <td>-6 days +20:55:48</td>\n",
       "      <td>0 days 03:04:12</td>\n",
       "      <td>7 days 01:59:52</td>\n",
       "      <td>230.00</td>\n",
       "      <td>22.25</td>\n",
       "      <td>home_confort</td>\n",
       "      <td>5</td>\n",
       "      <td>NaT</td>\n",
       "    </tr>\n",
       "  </tbody>\n",
       "</table>\n",
       "</div>"
      ],
      "text/plain": [
       "                 customer_unique_id                        product_id  \\\n",
       "0  861eff4711a542e4b93843c6dd7febb0  a9516a079e37a9c9c36b9b78b10169e8   \n",
       "1  290c77bc529b7ac935b93aa66c333dc3  4aa6014eceb682077f9dc4bffebc05b0   \n",
       "2  060e732b5b29e8181a18229c7b0b2b5e  bd07b66896d6f1494f5b86251848ced7   \n",
       "3  259dac757896d24d7702b9acbbff3f3c  a5647c44af977b148e0a3a4751a09e2e   \n",
       "4  345ecd01c38d18a9036ed96c73b8d066  9391a573abe00141c56e38d84d7d5b3b   \n",
       "\n",
       "                          seller_id customer_zip_code_prefix  \\\n",
       "0  7c67e1448b00f6e969d365cea6b010ab                    14409   \n",
       "1  b8bc237ba3788b23da09c0f1f3a3288c                     9790   \n",
       "2  7c67e1448b00f6e969d365cea6b010ab                     1151   \n",
       "3  7c67e1448b00f6e969d365cea6b010ab                     8775   \n",
       "4  4a3ca9315b744ce9f8e9374361493884                    13056   \n",
       "\n",
       "           customer_city customer_state order_status  order_item_id  \\\n",
       "0                 franca             SP    delivered              1   \n",
       "1  sao bernardo do campo             SP    delivered              1   \n",
       "2              sao paulo             SP    delivered              1   \n",
       "3        mogi das cruzes             SP    delivered              1   \n",
       "4               campinas             SP    delivered              1   \n",
       "\n",
       "  order_purchase_timestamp delivered_estimated_interval  \\\n",
       "0      2017-05-16 15:05:35           -11 days +10:35:35   \n",
       "1      2018-01-12 20:48:24            -8 days +12:41:19   \n",
       "2      2018-05-19 16:07:45              1 days 17:58:51   \n",
       "3      2018-03-13 16:06:38           -13 days +16:04:25   \n",
       "4      2018-07-29 09:51:30            -6 days +20:55:48   \n",
       "\n",
       "  review_delivered_interval answer_review_interval   price  freight_value  \\\n",
       "0           0 days 13:24:25        4 days 22:34:40  124.99          21.88   \n",
       "1           0 days 11:18:41       11 days 22:43:29  289.00          46.48   \n",
       "2           0 days 06:01:09        0 days 12:10:59  139.94          17.79   \n",
       "3           0 days 07:55:35        4 days 18:36:47  149.94          23.36   \n",
       "4           0 days 03:04:12        7 days 01:59:52  230.00          22.25   \n",
       "\n",
       "  product_category_name_english  review_score frequency  \n",
       "0              office_furniture             4       NaT  \n",
       "1                    housewares             5       NaT  \n",
       "2              office_furniture             5       NaT  \n",
       "3              office_furniture             5       NaT  \n",
       "4                  home_confort             5       NaT  "
      ]
     },
     "execution_count": 744,
     "metadata": {},
     "output_type": "execute_result"
    }
   ],
   "source": [
    "df = pd.merge(df, frequencies, how='left')\n",
    "print(df.shape)\n",
    "df.head()"
   ]
  },
  {
   "cell_type": "markdown",
   "id": "9c3a3196",
   "metadata": {},
   "source": [
    "### Vérification"
   ]
  },
  {
   "cell_type": "code",
   "execution_count": 745,
   "id": "781fbb4e",
   "metadata": {
    "ExecuteTime": {
     "end_time": "2022-08-05T21:11:16.435753Z",
     "start_time": "2022-08-05T21:11:16.420757Z"
    }
   },
   "outputs": [
    {
     "data": {
      "text/plain": [
       "(5360, 17)"
      ]
     },
     "execution_count": 745,
     "metadata": {},
     "output_type": "execute_result"
    }
   ],
   "source": [
    "df_ = df[df['frequency'].notna()]\n",
    "df_.shape"
   ]
  },
  {
   "cell_type": "code",
   "execution_count": 746,
   "id": "564ba73a",
   "metadata": {
    "ExecuteTime": {
     "end_time": "2022-08-05T21:11:19.099198Z",
     "start_time": "2022-08-05T21:11:19.088751Z"
    }
   },
   "outputs": [],
   "source": [
    "df_ = df_.sample(3)"
   ]
  },
  {
   "cell_type": "code",
   "execution_count": 747,
   "id": "9fe37281",
   "metadata": {
    "ExecuteTime": {
     "end_time": "2022-08-05T21:11:19.752770Z",
     "start_time": "2022-08-05T21:11:19.736638Z"
    }
   },
   "outputs": [
    {
     "data": {
      "text/html": [
       "<div>\n",
       "<style scoped>\n",
       "    .dataframe tbody tr th:only-of-type {\n",
       "        vertical-align: middle;\n",
       "    }\n",
       "\n",
       "    .dataframe tbody tr th {\n",
       "        vertical-align: top;\n",
       "    }\n",
       "\n",
       "    .dataframe thead th {\n",
       "        text-align: right;\n",
       "    }\n",
       "</style>\n",
       "<table border=\"1\" class=\"dataframe\">\n",
       "  <thead>\n",
       "    <tr style=\"text-align: right;\">\n",
       "      <th></th>\n",
       "      <th>customer_unique_id</th>\n",
       "      <th>product_id</th>\n",
       "      <th>seller_id</th>\n",
       "      <th>customer_zip_code_prefix</th>\n",
       "      <th>customer_city</th>\n",
       "      <th>customer_state</th>\n",
       "      <th>order_status</th>\n",
       "      <th>order_item_id</th>\n",
       "      <th>order_purchase_timestamp</th>\n",
       "      <th>delivered_estimated_interval</th>\n",
       "      <th>review_delivered_interval</th>\n",
       "      <th>answer_review_interval</th>\n",
       "      <th>price</th>\n",
       "      <th>freight_value</th>\n",
       "      <th>product_category_name_english</th>\n",
       "      <th>review_score</th>\n",
       "      <th>frequency</th>\n",
       "    </tr>\n",
       "  </thead>\n",
       "  <tbody>\n",
       "    <tr>\n",
       "      <th>69203</th>\n",
       "      <td>3e7bb77746c1489704b3e041860dfb6d</td>\n",
       "      <td>3362ea39c2b9a88dc82f2cd6f6838bcc</td>\n",
       "      <td>dfa0c4c6229ab200a4a1336b4d7128ff</td>\n",
       "      <td>74930</td>\n",
       "      <td>aparecida de goiania</td>\n",
       "      <td>GO</td>\n",
       "      <td>delivered</td>\n",
       "      <td>1</td>\n",
       "      <td>2018-06-24 18:24:56</td>\n",
       "      <td>-15 days +21:11:59</td>\n",
       "      <td>0 days 02:48:01</td>\n",
       "      <td>1 days 22:26:11</td>\n",
       "      <td>39.00</td>\n",
       "      <td>22.99</td>\n",
       "      <td>housewares</td>\n",
       "      <td>5</td>\n",
       "      <td>48 days</td>\n",
       "    </tr>\n",
       "    <tr>\n",
       "      <th>86107</th>\n",
       "      <td>18e1192f2a6be73c4365dbc29eb7a6f7</td>\n",
       "      <td>7b9bb69797f028ddec912dd004873f33</td>\n",
       "      <td>725c32fa80c2faacc4fc88450d27314e</td>\n",
       "      <td>7903</td>\n",
       "      <td>francisco morato</td>\n",
       "      <td>SP</td>\n",
       "      <td>delivered</td>\n",
       "      <td>1</td>\n",
       "      <td>2018-02-14 10:00:46</td>\n",
       "      <td>-8 days +21:45:16</td>\n",
       "      <td>0 days 02:14:44</td>\n",
       "      <td>4 days 13:01:51</td>\n",
       "      <td>79.99</td>\n",
       "      <td>9.37</td>\n",
       "      <td>toys</td>\n",
       "      <td>4</td>\n",
       "      <td>1 days</td>\n",
       "    </tr>\n",
       "    <tr>\n",
       "      <th>36523</th>\n",
       "      <td>9a6a921e2fdd2e6ba9c4fbdf24381248</td>\n",
       "      <td>d122ad26c4f3f21e0167a6ccc55fe9fe</td>\n",
       "      <td>f262cbc1c910c83959f849465454ddd3</td>\n",
       "      <td>40285</td>\n",
       "      <td>salvador</td>\n",
       "      <td>BA</td>\n",
       "      <td>delivered</td>\n",
       "      <td>1</td>\n",
       "      <td>2018-02-06 14:42:05</td>\n",
       "      <td>-6 days +01:04:50</td>\n",
       "      <td>0 days 22:55:10</td>\n",
       "      <td>0 days 11:03:59</td>\n",
       "      <td>24.99</td>\n",
       "      <td>15.79</td>\n",
       "      <td>stationery</td>\n",
       "      <td>4</td>\n",
       "      <td>32 days</td>\n",
       "    </tr>\n",
       "  </tbody>\n",
       "</table>\n",
       "</div>"
      ],
      "text/plain": [
       "                     customer_unique_id                        product_id  \\\n",
       "69203  3e7bb77746c1489704b3e041860dfb6d  3362ea39c2b9a88dc82f2cd6f6838bcc   \n",
       "86107  18e1192f2a6be73c4365dbc29eb7a6f7  7b9bb69797f028ddec912dd004873f33   \n",
       "36523  9a6a921e2fdd2e6ba9c4fbdf24381248  d122ad26c4f3f21e0167a6ccc55fe9fe   \n",
       "\n",
       "                              seller_id customer_zip_code_prefix  \\\n",
       "69203  dfa0c4c6229ab200a4a1336b4d7128ff                    74930   \n",
       "86107  725c32fa80c2faacc4fc88450d27314e                     7903   \n",
       "36523  f262cbc1c910c83959f849465454ddd3                    40285   \n",
       "\n",
       "              customer_city customer_state order_status  order_item_id  \\\n",
       "69203  aparecida de goiania             GO    delivered              1   \n",
       "86107      francisco morato             SP    delivered              1   \n",
       "36523              salvador             BA    delivered              1   \n",
       "\n",
       "      order_purchase_timestamp delivered_estimated_interval  \\\n",
       "69203      2018-06-24 18:24:56           -15 days +21:11:59   \n",
       "86107      2018-02-14 10:00:46            -8 days +21:45:16   \n",
       "36523      2018-02-06 14:42:05            -6 days +01:04:50   \n",
       "\n",
       "      review_delivered_interval answer_review_interval  price  freight_value  \\\n",
       "69203           0 days 02:48:01        1 days 22:26:11  39.00          22.99   \n",
       "86107           0 days 02:14:44        4 days 13:01:51  79.99           9.37   \n",
       "36523           0 days 22:55:10        0 days 11:03:59  24.99          15.79   \n",
       "\n",
       "      product_category_name_english  review_score frequency  \n",
       "69203                    housewares             5   48 days  \n",
       "86107                          toys             4    1 days  \n",
       "36523                    stationery             4   32 days  "
      ]
     },
     "execution_count": 747,
     "metadata": {},
     "output_type": "execute_result"
    }
   ],
   "source": [
    "df_"
   ]
  },
  {
   "cell_type": "code",
   "execution_count": 748,
   "id": "79951d28",
   "metadata": {
    "ExecuteTime": {
     "end_time": "2022-08-05T21:11:27.227692Z",
     "start_time": "2022-08-05T21:11:27.210228Z"
    }
   },
   "outputs": [
    {
     "data": {
      "text/plain": [
       "datetime.timedelta(days=48)"
      ]
     },
     "execution_count": 748,
     "metadata": {},
     "output_type": "execute_result"
    }
   ],
   "source": [
    "customer = df[df['customer_unique_id'] == df_['customer_unique_id'].iloc[0]]\n",
    "\n",
    "purchase_dates = np.sort(customer['order_purchase_timestamp'].dt.date.unique())\n",
    "interval = []\n",
    "for i in range(len(purchase_dates[:-1])):\n",
    "    interval.append(purchase_dates[i+1] - purchase_dates[i])\n",
    "interval = np.array(interval)\n",
    "interval.mean()"
   ]
  },
  {
   "cell_type": "code",
   "execution_count": 749,
   "id": "5288fd3a",
   "metadata": {
    "ExecuteTime": {
     "end_time": "2022-08-05T21:11:28.588292Z",
     "start_time": "2022-08-05T21:11:28.571692Z"
    }
   },
   "outputs": [
    {
     "data": {
      "text/plain": [
       "datetime.timedelta(days=1)"
      ]
     },
     "execution_count": 749,
     "metadata": {},
     "output_type": "execute_result"
    }
   ],
   "source": [
    "customer = df[df['customer_unique_id'] == df_['customer_unique_id'].iloc[1]]\n",
    "\n",
    "purchase_dates = np.sort(customer['order_purchase_timestamp'].dt.date.unique())\n",
    "interval = []\n",
    "for i in range(len(purchase_dates[:-1])):\n",
    "    interval.append(purchase_dates[i+1] - purchase_dates[i])\n",
    "interval = np.array(interval)\n",
    "interval.mean()"
   ]
  },
  {
   "cell_type": "code",
   "execution_count": 750,
   "id": "27b9b904",
   "metadata": {
    "ExecuteTime": {
     "end_time": "2022-08-05T21:11:30.118665Z",
     "start_time": "2022-08-05T21:11:30.101218Z"
    }
   },
   "outputs": [
    {
     "data": {
      "text/plain": [
       "datetime.timedelta(days=32)"
      ]
     },
     "execution_count": 750,
     "metadata": {},
     "output_type": "execute_result"
    }
   ],
   "source": [
    "customer = df[df['customer_unique_id'] == df_['customer_unique_id'].iloc[2]]\n",
    "\n",
    "purchase_dates = np.sort(customer['order_purchase_timestamp'].dt.date.unique())\n",
    "interval = []\n",
    "for i in range(len(purchase_dates[:-1])):\n",
    "    interval.append(purchase_dates[i+1] - purchase_dates[i])\n",
    "interval = np.array(interval)\n",
    "interval.mean()"
   ]
  },
  {
   "cell_type": "markdown",
   "id": "88d4f17e",
   "metadata": {},
   "source": [
    "Tout à l'air ok, maintenant il faut remplir les NaT"
   ]
  },
  {
   "cell_type": "code",
   "execution_count": null,
   "id": "0d7aa8c8",
   "metadata": {},
   "outputs": [],
   "source": []
  },
  {
   "cell_type": "code",
   "execution_count": null,
   "id": "825bda28",
   "metadata": {},
   "outputs": [],
   "source": []
  },
  {
   "cell_type": "code",
   "execution_count": null,
   "id": "6031a5a8",
   "metadata": {},
   "outputs": [],
   "source": []
  },
  {
   "cell_type": "code",
   "execution_count": 766,
   "id": "350c46ed",
   "metadata": {
    "ExecuteTime": {
     "end_time": "2022-08-05T21:19:18.643441Z",
     "start_time": "2022-08-05T21:19:18.448937Z"
    }
   },
   "outputs": [
    {
     "data": {
      "text/plain": [
       "(120027, 18)"
      ]
     },
     "execution_count": 766,
     "metadata": {},
     "output_type": "execute_result"
    }
   ],
   "source": [
    "df_ = pd.merge(df, customers, how='left')\n",
    "df_.shape"
   ]
  },
  {
   "cell_type": "code",
   "execution_count": 768,
   "id": "05aeaffa",
   "metadata": {
    "ExecuteTime": {
     "end_time": "2022-08-05T21:19:58.125502Z",
     "start_time": "2022-08-05T21:19:58.051625Z"
    }
   },
   "outputs": [
    {
     "data": {
      "text/plain": [
       "(96662, 18)"
      ]
     },
     "execution_count": 768,
     "metadata": {},
     "output_type": "execute_result"
    }
   ],
   "source": [
    "df_ = df_.drop_duplicates('customer_id')\n",
    "df_.shape"
   ]
  },
  {
   "cell_type": "code",
   "execution_count": 773,
   "id": "9043838d",
   "metadata": {
    "ExecuteTime": {
     "end_time": "2022-08-05T21:21:46.070405Z",
     "start_time": "2022-08-05T21:21:46.023128Z"
    }
   },
   "outputs": [],
   "source": [
    "a = df_['customer_unique_id'].value_counts()\n",
    "a = a[a>1]"
   ]
  },
  {
   "cell_type": "code",
   "execution_count": 775,
   "id": "3ea11822",
   "metadata": {
    "ExecuteTime": {
     "end_time": "2022-08-05T21:22:23.942504Z",
     "start_time": "2022-08-05T21:22:23.921420Z"
    }
   },
   "outputs": [
    {
     "data": {
      "text/plain": [
       "(6267, 18)"
      ]
     },
     "execution_count": 775,
     "metadata": {},
     "output_type": "execute_result"
    }
   ],
   "source": [
    "df_ = df_[df_['customer_unique_id'].isin(a.index)]\n",
    "df_.shape"
   ]
  },
  {
   "cell_type": "code",
   "execution_count": 777,
   "id": "8209ce2c",
   "metadata": {
    "ExecuteTime": {
     "end_time": "2022-08-05T21:22:48.297887Z",
     "start_time": "2022-08-05T21:22:48.293170Z"
    }
   },
   "outputs": [
    {
     "data": {
      "text/plain": [
       "3198"
      ]
     },
     "execution_count": 777,
     "metadata": {},
     "output_type": "execute_result"
    }
   ],
   "source": [
    "df_['order_purchase_timestamp'].unique().size"
   ]
  },
  {
   "cell_type": "code",
   "execution_count": null,
   "id": "8a926da9",
   "metadata": {},
   "outputs": [],
   "source": []
  }
 ],
 "metadata": {
  "kernelspec": {
   "display_name": "Python 3",
   "language": "python",
   "name": "python3"
  },
  "language_info": {
   "codemirror_mode": {
    "name": "ipython",
    "version": 3
   },
   "file_extension": ".py",
   "mimetype": "text/x-python",
   "name": "python",
   "nbconvert_exporter": "python",
   "pygments_lexer": "ipython3",
   "version": "3.9.4"
  },
  "toc": {
   "base_numbering": 1,
   "nav_menu": {},
   "number_sections": true,
   "sideBar": true,
   "skip_h1_title": false,
   "title_cell": "Table of Contents",
   "title_sidebar": "Contents",
   "toc_cell": false,
   "toc_position": {
    "height": "calc(100% - 180px)",
    "left": "10px",
    "top": "150px",
    "width": "286.719px"
   },
   "toc_section_display": true,
   "toc_window_display": true
  }
 },
 "nbformat": 4,
 "nbformat_minor": 5
}
