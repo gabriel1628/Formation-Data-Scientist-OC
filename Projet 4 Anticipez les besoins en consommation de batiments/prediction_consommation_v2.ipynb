{
 "cells": [
  {
   "cell_type": "markdown",
   "id": "4602070c",
   "metadata": {},
   "source": [
    "Dans ce notebook, on va utiliser le type de bâtiment mais pas les usages principaux"
   ]
  },
  {
   "cell_type": "code",
   "execution_count": 69,
   "id": "7803223a",
   "metadata": {
    "ExecuteTime": {
     "end_time": "2023-03-12T17:14:55.150274Z",
     "start_time": "2023-03-12T17:14:51.042774Z"
    }
   },
   "outputs": [],
   "source": [
    "import numpy as np\n",
    "import pandas as pd\n",
    "pd.set_option('display.max_rows', 100)\n",
    "pd.set_option('display.max_columns', 100)\n",
    "\n",
    "import matplotlib.pyplot as plt\n",
    "import seaborn as sns\n",
    "sns.set_theme()\n",
    "\n",
    "import sklearn\n",
    "sklearn.set_config(transform_output = \"pandas\")\n",
    "\n",
    "from sklearn.preprocessing import OneHotEncoder, TargetEncoder, MinMaxScaler\n",
    "from sklearn.compose import make_column_transformer\n",
    "from sklearn.model_selection import train_test_split\n",
    "from sklearn.pipeline import make_pipeline\n",
    "from sklearn.metrics import r2_score, mean_absolute_error as mae, mean_absolute_percentage_error as mape, mean_squared_error as mse\n",
    "from sklearn.linear_model import LinearRegression\n",
    "\n",
    "import warnings\n",
    "#warnings.filterwarnings(\"ignore\")\n",
    "\n",
    "from utils import *"
   ]
  },
  {
   "cell_type": "code",
   "execution_count": 70,
   "id": "cb299d37",
   "metadata": {
    "ExecuteTime": {
     "end_time": "2023-03-12T17:15:08.217316Z",
     "start_time": "2023-03-12T17:15:08.188912Z"
    }
   },
   "outputs": [
    {
     "name": "stdout",
     "output_type": "stream",
     "text": [
      "(1578, 20)\n"
     ]
    }
   ],
   "source": [
    "df = pd.read_csv('df_clean.csv', index_col=0)\n",
    "print(df.shape)"
   ]
  },
  {
   "cell_type": "code",
   "execution_count": 71,
   "id": "b837aa53",
   "metadata": {
    "ExecuteTime": {
     "end_time": "2023-03-12T17:15:11.193080Z",
     "start_time": "2023-03-12T17:15:11.163584Z"
    }
   },
   "outputs": [
    {
     "data": {
      "text/html": [
       "<div>\n",
       "<style scoped>\n",
       "    .dataframe tbody tr th:only-of-type {\n",
       "        vertical-align: middle;\n",
       "    }\n",
       "\n",
       "    .dataframe tbody tr th {\n",
       "        vertical-align: top;\n",
       "    }\n",
       "\n",
       "    .dataframe thead th {\n",
       "        text-align: right;\n",
       "    }\n",
       "</style>\n",
       "<table border=\"1\" class=\"dataframe\">\n",
       "  <thead>\n",
       "    <tr style=\"text-align: right;\">\n",
       "      <th></th>\n",
       "      <th>PrimaryPropertyType</th>\n",
       "      <th>CouncilDistrictCode</th>\n",
       "      <th>Neighborhood</th>\n",
       "      <th>YearBuilt</th>\n",
       "      <th>NumberofFloors</th>\n",
       "      <th>PropertyGFATotal</th>\n",
       "      <th>LargestPropertyUseType</th>\n",
       "      <th>LargestPropertyUseTypeGFA</th>\n",
       "      <th>SecondLargestPropertyUseType</th>\n",
       "      <th>SecondLargestPropertyUseTypeGFA</th>\n",
       "      <th>ThirdLargestPropertyUseType</th>\n",
       "      <th>ThirdLargestPropertyUseTypeGFA</th>\n",
       "      <th>ENERGYSTARScore</th>\n",
       "      <th>SiteEUIWN(kBtu/sf)</th>\n",
       "      <th>SiteEnergyUseWN(kBtu)</th>\n",
       "      <th>SteamUse(kBtu)</th>\n",
       "      <th>Electricity(kBtu)</th>\n",
       "      <th>NaturalGas(kBtu)</th>\n",
       "      <th>TotalGHGEmissions</th>\n",
       "      <th>GHGEmissionsIntensity</th>\n",
       "    </tr>\n",
       "  </thead>\n",
       "  <tbody>\n",
       "    <tr>\n",
       "      <th>0</th>\n",
       "      <td>Hotel</td>\n",
       "      <td>7</td>\n",
       "      <td>DOWNTOWN</td>\n",
       "      <td>1927</td>\n",
       "      <td>12</td>\n",
       "      <td>88434</td>\n",
       "      <td>Hotel</td>\n",
       "      <td>88434.0</td>\n",
       "      <td>NaN</td>\n",
       "      <td>0.0</td>\n",
       "      <td>NaN</td>\n",
       "      <td>0.0</td>\n",
       "      <td>60.0</td>\n",
       "      <td>84.300003</td>\n",
       "      <td>7456910.0</td>\n",
       "      <td>2003882.00</td>\n",
       "      <td>3946027.0</td>\n",
       "      <td>1276453.0</td>\n",
       "      <td>249.98</td>\n",
       "      <td>2.83</td>\n",
       "    </tr>\n",
       "    <tr>\n",
       "      <th>1</th>\n",
       "      <td>Hotel</td>\n",
       "      <td>7</td>\n",
       "      <td>DOWNTOWN</td>\n",
       "      <td>1996</td>\n",
       "      <td>11</td>\n",
       "      <td>103566</td>\n",
       "      <td>Hotel</td>\n",
       "      <td>83880.0</td>\n",
       "      <td>Parking</td>\n",
       "      <td>15064.0</td>\n",
       "      <td>Restaurant</td>\n",
       "      <td>4622.0</td>\n",
       "      <td>61.0</td>\n",
       "      <td>97.900002</td>\n",
       "      <td>8664479.0</td>\n",
       "      <td>0.00</td>\n",
       "      <td>3242851.0</td>\n",
       "      <td>5145082.0</td>\n",
       "      <td>295.86</td>\n",
       "      <td>2.86</td>\n",
       "    </tr>\n",
       "    <tr>\n",
       "      <th>2</th>\n",
       "      <td>Hotel</td>\n",
       "      <td>7</td>\n",
       "      <td>DOWNTOWN</td>\n",
       "      <td>1969</td>\n",
       "      <td>41</td>\n",
       "      <td>956110</td>\n",
       "      <td>Hotel</td>\n",
       "      <td>756493.0</td>\n",
       "      <td>NaN</td>\n",
       "      <td>0.0</td>\n",
       "      <td>NaN</td>\n",
       "      <td>0.0</td>\n",
       "      <td>43.0</td>\n",
       "      <td>97.699997</td>\n",
       "      <td>73937112.0</td>\n",
       "      <td>21566554.00</td>\n",
       "      <td>49526664.0</td>\n",
       "      <td>1493800.0</td>\n",
       "      <td>2089.28</td>\n",
       "      <td>2.19</td>\n",
       "    </tr>\n",
       "    <tr>\n",
       "      <th>3</th>\n",
       "      <td>Hotel</td>\n",
       "      <td>7</td>\n",
       "      <td>DOWNTOWN</td>\n",
       "      <td>1926</td>\n",
       "      <td>10</td>\n",
       "      <td>61320</td>\n",
       "      <td>Hotel</td>\n",
       "      <td>61320.0</td>\n",
       "      <td>NaN</td>\n",
       "      <td>0.0</td>\n",
       "      <td>NaN</td>\n",
       "      <td>0.0</td>\n",
       "      <td>56.0</td>\n",
       "      <td>113.300003</td>\n",
       "      <td>6946800.5</td>\n",
       "      <td>2214446.25</td>\n",
       "      <td>2768924.0</td>\n",
       "      <td>1811213.0</td>\n",
       "      <td>286.43</td>\n",
       "      <td>4.67</td>\n",
       "    </tr>\n",
       "    <tr>\n",
       "      <th>4</th>\n",
       "      <td>Hotel</td>\n",
       "      <td>7</td>\n",
       "      <td>DOWNTOWN</td>\n",
       "      <td>1980</td>\n",
       "      <td>18</td>\n",
       "      <td>175580</td>\n",
       "      <td>Hotel</td>\n",
       "      <td>123445.0</td>\n",
       "      <td>Parking</td>\n",
       "      <td>68009.0</td>\n",
       "      <td>Swimming Pool</td>\n",
       "      <td>0.0</td>\n",
       "      <td>75.0</td>\n",
       "      <td>118.699997</td>\n",
       "      <td>14656503.0</td>\n",
       "      <td>0.00</td>\n",
       "      <td>5368607.0</td>\n",
       "      <td>8803998.0</td>\n",
       "      <td>505.01</td>\n",
       "      <td>2.88</td>\n",
       "    </tr>\n",
       "  </tbody>\n",
       "</table>\n",
       "</div>"
      ],
      "text/plain": [
       "  PrimaryPropertyType  CouncilDistrictCode Neighborhood  YearBuilt  \\\n",
       "0               Hotel                    7     DOWNTOWN       1927   \n",
       "1               Hotel                    7     DOWNTOWN       1996   \n",
       "2               Hotel                    7     DOWNTOWN       1969   \n",
       "3               Hotel                    7     DOWNTOWN       1926   \n",
       "4               Hotel                    7     DOWNTOWN       1980   \n",
       "\n",
       "   NumberofFloors  PropertyGFATotal LargestPropertyUseType  \\\n",
       "0              12             88434                  Hotel   \n",
       "1              11            103566                  Hotel   \n",
       "2              41            956110                  Hotel   \n",
       "3              10             61320                  Hotel   \n",
       "4              18            175580                  Hotel   \n",
       "\n",
       "   LargestPropertyUseTypeGFA SecondLargestPropertyUseType  \\\n",
       "0                    88434.0                          NaN   \n",
       "1                    83880.0                      Parking   \n",
       "2                   756493.0                          NaN   \n",
       "3                    61320.0                          NaN   \n",
       "4                   123445.0                      Parking   \n",
       "\n",
       "   SecondLargestPropertyUseTypeGFA ThirdLargestPropertyUseType  \\\n",
       "0                              0.0                         NaN   \n",
       "1                          15064.0                  Restaurant   \n",
       "2                              0.0                         NaN   \n",
       "3                              0.0                         NaN   \n",
       "4                          68009.0               Swimming Pool   \n",
       "\n",
       "   ThirdLargestPropertyUseTypeGFA  ENERGYSTARScore  SiteEUIWN(kBtu/sf)  \\\n",
       "0                             0.0             60.0           84.300003   \n",
       "1                          4622.0             61.0           97.900002   \n",
       "2                             0.0             43.0           97.699997   \n",
       "3                             0.0             56.0          113.300003   \n",
       "4                             0.0             75.0          118.699997   \n",
       "\n",
       "   SiteEnergyUseWN(kBtu)  SteamUse(kBtu)  Electricity(kBtu)  NaturalGas(kBtu)  \\\n",
       "0              7456910.0      2003882.00          3946027.0         1276453.0   \n",
       "1              8664479.0            0.00          3242851.0         5145082.0   \n",
       "2             73937112.0     21566554.00         49526664.0         1493800.0   \n",
       "3              6946800.5      2214446.25          2768924.0         1811213.0   \n",
       "4             14656503.0            0.00          5368607.0         8803998.0   \n",
       "\n",
       "   TotalGHGEmissions  GHGEmissionsIntensity  \n",
       "0             249.98                   2.83  \n",
       "1             295.86                   2.86  \n",
       "2            2089.28                   2.19  \n",
       "3             286.43                   4.67  \n",
       "4             505.01                   2.88  "
      ]
     },
     "execution_count": 71,
     "metadata": {},
     "output_type": "execute_result"
    }
   ],
   "source": [
    "df.head()"
   ]
  },
  {
   "cell_type": "markdown",
   "id": "4c2cf6b7",
   "metadata": {},
   "source": [
    "# Prédiction sur la consommation non normalisée"
   ]
  },
  {
   "cell_type": "markdown",
   "id": "df61d517",
   "metadata": {},
   "source": [
    "Pour commencer on va utiliser peu de variables pour la modélisation, puis on en rajoutera au fur et à mesure"
   ]
  },
  {
   "cell_type": "markdown",
   "id": "1fb0a25e",
   "metadata": {},
   "source": [
    "## Train/Test split"
   ]
  },
  {
   "cell_type": "code",
   "execution_count": 72,
   "id": "aa941005",
   "metadata": {
    "ExecuteTime": {
     "end_time": "2023-03-12T17:21:14.354775Z",
     "start_time": "2023-03-12T17:21:14.350482Z"
    }
   },
   "outputs": [
    {
     "name": "stdout",
     "output_type": "stream",
     "text": [
      "X shape : (1578, 3)\n",
      "y shape : (1578,)\n"
     ]
    },
    {
     "data": {
      "text/html": [
       "<div>\n",
       "<style scoped>\n",
       "    .dataframe tbody tr th:only-of-type {\n",
       "        vertical-align: middle;\n",
       "    }\n",
       "\n",
       "    .dataframe tbody tr th {\n",
       "        vertical-align: top;\n",
       "    }\n",
       "\n",
       "    .dataframe thead th {\n",
       "        text-align: right;\n",
       "    }\n",
       "</style>\n",
       "<table border=\"1\" class=\"dataframe\">\n",
       "  <thead>\n",
       "    <tr style=\"text-align: right;\">\n",
       "      <th></th>\n",
       "      <th>PrimaryPropertyType</th>\n",
       "      <th>CouncilDistrictCode</th>\n",
       "      <th>PropertyGFATotal</th>\n",
       "    </tr>\n",
       "  </thead>\n",
       "  <tbody>\n",
       "    <tr>\n",
       "      <th>0</th>\n",
       "      <td>Hotel</td>\n",
       "      <td>7</td>\n",
       "      <td>88434</td>\n",
       "    </tr>\n",
       "    <tr>\n",
       "      <th>1</th>\n",
       "      <td>Hotel</td>\n",
       "      <td>7</td>\n",
       "      <td>103566</td>\n",
       "    </tr>\n",
       "    <tr>\n",
       "      <th>2</th>\n",
       "      <td>Hotel</td>\n",
       "      <td>7</td>\n",
       "      <td>956110</td>\n",
       "    </tr>\n",
       "    <tr>\n",
       "      <th>3</th>\n",
       "      <td>Hotel</td>\n",
       "      <td>7</td>\n",
       "      <td>61320</td>\n",
       "    </tr>\n",
       "    <tr>\n",
       "      <th>4</th>\n",
       "      <td>Hotel</td>\n",
       "      <td>7</td>\n",
       "      <td>175580</td>\n",
       "    </tr>\n",
       "  </tbody>\n",
       "</table>\n",
       "</div>"
      ],
      "text/plain": [
       "  PrimaryPropertyType  CouncilDistrictCode  PropertyGFATotal\n",
       "0               Hotel                    7             88434\n",
       "1               Hotel                    7            103566\n",
       "2               Hotel                    7            956110\n",
       "3               Hotel                    7             61320\n",
       "4               Hotel                    7            175580"
      ]
     },
     "metadata": {},
     "output_type": "display_data"
    },
    {
     "data": {
      "text/plain": [
       "0     7456910.0\n",
       "1     8664479.0\n",
       "2    73937112.0\n",
       "3     6946800.5\n",
       "4    14656503.0\n",
       "Name: SiteEnergyUseWN(kBtu), dtype: float64"
      ]
     },
     "metadata": {},
     "output_type": "display_data"
    }
   ],
   "source": [
    "X = df[['SiteEnergyUseWN(kBtu)', 'PrimaryPropertyType', 'CouncilDistrictCode', 'PropertyGFATotal']]\n",
    "y = X.pop('SiteEnergyUseWN(kBtu)')\n",
    "print('X shape :', X.shape)\n",
    "print('y shape :', y.shape)\n",
    "display(X.head())\n",
    "display(y.head())"
   ]
  },
  {
   "cell_type": "markdown",
   "metadata": {},
   "source": [
    "On va changer les types des données"
   ]
  },
  {
   "cell_type": "code",
   "execution_count": 73,
   "metadata": {},
   "outputs": [
    {
     "data": {
      "text/plain": [
       "PrimaryPropertyType    object\n",
       "CouncilDistrictCode     int64\n",
       "PropertyGFATotal        int64\n",
       "dtype: object"
      ]
     },
     "execution_count": 73,
     "metadata": {},
     "output_type": "execute_result"
    }
   ],
   "source": [
    "X.dtypes"
   ]
  },
  {
   "cell_type": "code",
   "execution_count": 74,
   "metadata": {},
   "outputs": [
    {
     "data": {
      "text/plain": [
       "Index                  12.328125\n",
       "PrimaryPropertyType    12.328125\n",
       "CouncilDistrictCode    12.328125\n",
       "PropertyGFATotal       12.328125\n",
       "dtype: float64"
      ]
     },
     "execution_count": 74,
     "metadata": {},
     "output_type": "execute_result"
    }
   ],
   "source": [
    "X.memory_usage() / 1024"
   ]
  },
  {
   "cell_type": "code",
   "execution_count": 75,
   "metadata": {},
   "outputs": [],
   "source": [
    "X[\"PrimaryPropertyType\"] = X[\"PrimaryPropertyType\"].astype(\"category\")\n",
    "X[\"CouncilDistrictCode\"] = X[\"CouncilDistrictCode\"].astype(\"category\")\n",
    "X[\"PropertyGFATotal\"] = pd.to_numeric(X[\"PropertyGFATotal\"], downcast=\"integer\")"
   ]
  },
  {
   "cell_type": "code",
   "execution_count": 76,
   "metadata": {},
   "outputs": [
    {
     "data": {
      "text/plain": [
       "PrimaryPropertyType    category\n",
       "CouncilDistrictCode    category\n",
       "PropertyGFATotal          int32\n",
       "dtype: object"
      ]
     },
     "execution_count": 76,
     "metadata": {},
     "output_type": "execute_result"
    }
   ],
   "source": [
    "X.dtypes"
   ]
  },
  {
   "cell_type": "code",
   "execution_count": 77,
   "metadata": {},
   "outputs": [
    {
     "data": {
      "text/plain": [
       "Index                  12.328125\n",
       "PrimaryPropertyType     2.232422\n",
       "CouncilDistrictCode     1.888672\n",
       "PropertyGFATotal        6.164062\n",
       "dtype: float64"
      ]
     },
     "execution_count": 77,
     "metadata": {},
     "output_type": "execute_result"
    }
   ],
   "source": [
    "X.memory_usage() / 1024"
   ]
  },
  {
   "cell_type": "markdown",
   "metadata": {},
   "source": [
    "Même chose avec y"
   ]
  },
  {
   "cell_type": "code",
   "execution_count": 78,
   "metadata": {},
   "outputs": [
    {
     "name": "stdout",
     "output_type": "stream",
     "text": [
      "float64\n",
      "12.328125\n"
     ]
    }
   ],
   "source": [
    "print(y.dtype)\n",
    "print(y.memory_usage(index=False) / 1024)"
   ]
  },
  {
   "cell_type": "code",
   "execution_count": 79,
   "metadata": {},
   "outputs": [
    {
     "name": "stdout",
     "output_type": "stream",
     "text": [
      "float32\n",
      "6.1640625\n"
     ]
    }
   ],
   "source": [
    "y = pd.to_numeric(y, downcast=\"float\")\n",
    "print(y.dtype)\n",
    "print(y.memory_usage(index=False) / 1024)"
   ]
  },
  {
   "cell_type": "markdown",
   "metadata": {},
   "source": [
    "Train-Test split :"
   ]
  },
  {
   "cell_type": "code",
   "execution_count": 80,
   "id": "22e53546",
   "metadata": {
    "ExecuteTime": {
     "end_time": "2023-03-12T17:26:24.843708Z",
     "start_time": "2023-03-12T17:26:24.839042Z"
    }
   },
   "outputs": [
    {
     "name": "stdout",
     "output_type": "stream",
     "text": [
      "X_train shape : (1262, 3)\n",
      "y_train shape : (1262,)\n",
      "X_test shape : (316, 3)\n",
      "y_test shape : (316,)\n"
     ]
    }
   ],
   "source": [
    "X_train, X_test, y_train, y_test = train_test_split(X, y, test_size=0.20, random_state=42)\n",
    "print('X_train shape :', X_train.shape)\n",
    "print('y_train shape :', y_train.shape)\n",
    "print('X_test shape :', X_test.shape)\n",
    "print('y_test shape :', y_test.shape)"
   ]
  },
  {
   "cell_type": "markdown",
   "id": "e34bdd25",
   "metadata": {},
   "source": [
    "## Preprocessing"
   ]
  },
  {
   "cell_type": "markdown",
   "metadata": {},
   "source": [
    "### Encodage"
   ]
  },
  {
   "cell_type": "markdown",
   "metadata": {},
   "source": [
    "Différents types d'encodage à tester :\n",
    "- [OneHotEncoder](https://scikit-learn.org/stable/modules/generated/sklearn.preprocessing.OneHotEncoder.html)\n",
    "- [TargetEncoder](https://scikit-learn.org/stable/modules/generated/sklearn.preprocessing.TargetEncoder.html#sklearn.preprocessing.TargetEncoder)\n",
    "- [GLMMEncoder](https://contrib.scikit-learn.org/category_encoders/glmm.html)\n",
    "- [LeaveOneOutEncoder](https://contrib.scikit-learn.org/category_encoders/leaveoneout.html)\n",
    "- [MEstimateEncoder](https://contrib.scikit-learn.org/category_encoders/mestimate.html)\n",
    "- [HashingEncoder](https://contrib.scikit-learn.org/category_encoders/hashing.html)\n",
    "\n",
    "Lien utiles :\n",
    "- https://www.kaggle.com/code/shahules/an-overview-of-encoding-techniques\n",
    "- https://towardsdatascience.com/6-ways-to-encode-features-for-machine-learning-algorithms-21593f6238b0\n",
    "- https://scikit-learn.org/stable/modules/preprocessing.html#encoding-categorical-features\n",
    "- https://contrib.scikit-learn.org/category_encoders/"
   ]
  },
  {
   "cell_type": "markdown",
   "metadata": {},
   "source": [
    "#### Encodage One-hot\n",
    "\n",
    "On va effectuer un encodage One-Hot pour les variables catégorielles et et une standardisation Min-Max pour les variables numériques."
   ]
  },
  {
   "cell_type": "markdown",
   "id": "76a1a44b",
   "metadata": {},
   "source": [
    "Vérifions que toutes les catégories sont présentes dans le jeu d'entrainement"
   ]
  },
  {
   "cell_type": "code",
   "execution_count": 81,
   "id": "556dc58f",
   "metadata": {},
   "outputs": [
    {
     "name": "stdout",
     "output_type": "stream",
     "text": [
      "X\n",
      "PrimaryPropertyType    19\n",
      "CouncilDistrictCode     7\n",
      "dtype: int64\n",
      "\n",
      "X_train\n",
      "PrimaryPropertyType    19\n",
      "CouncilDistrictCode     7\n",
      "dtype: int64\n"
     ]
    }
   ],
   "source": [
    "print('X', X[['PrimaryPropertyType', 'CouncilDistrictCode']].nunique(), sep='\\n')\n",
    "print()\n",
    "print('X_train', X_train[['PrimaryPropertyType', 'CouncilDistrictCode']].nunique(), sep='\\n')"
   ]
  },
  {
   "cell_type": "code",
   "execution_count": 82,
   "id": "a60b9465",
   "metadata": {},
   "outputs": [
    {
     "data": {
      "text/html": [
       "<style>#sk-container-id-7 {color: black;}#sk-container-id-7 pre{padding: 0;}#sk-container-id-7 div.sk-toggleable {background-color: white;}#sk-container-id-7 label.sk-toggleable__label {cursor: pointer;display: block;width: 100%;margin-bottom: 0;padding: 0.3em;box-sizing: border-box;text-align: center;}#sk-container-id-7 label.sk-toggleable__label-arrow:before {content: \"▸\";float: left;margin-right: 0.25em;color: #696969;}#sk-container-id-7 label.sk-toggleable__label-arrow:hover:before {color: black;}#sk-container-id-7 div.sk-estimator:hover label.sk-toggleable__label-arrow:before {color: black;}#sk-container-id-7 div.sk-toggleable__content {max-height: 0;max-width: 0;overflow: hidden;text-align: left;background-color: #f0f8ff;}#sk-container-id-7 div.sk-toggleable__content pre {margin: 0.2em;color: black;border-radius: 0.25em;background-color: #f0f8ff;}#sk-container-id-7 input.sk-toggleable__control:checked~div.sk-toggleable__content {max-height: 200px;max-width: 100%;overflow: auto;}#sk-container-id-7 input.sk-toggleable__control:checked~label.sk-toggleable__label-arrow:before {content: \"▾\";}#sk-container-id-7 div.sk-estimator input.sk-toggleable__control:checked~label.sk-toggleable__label {background-color: #d4ebff;}#sk-container-id-7 div.sk-label input.sk-toggleable__control:checked~label.sk-toggleable__label {background-color: #d4ebff;}#sk-container-id-7 input.sk-hidden--visually {border: 0;clip: rect(1px 1px 1px 1px);clip: rect(1px, 1px, 1px, 1px);height: 1px;margin: -1px;overflow: hidden;padding: 0;position: absolute;width: 1px;}#sk-container-id-7 div.sk-estimator {font-family: monospace;background-color: #f0f8ff;border: 1px dotted black;border-radius: 0.25em;box-sizing: border-box;margin-bottom: 0.5em;}#sk-container-id-7 div.sk-estimator:hover {background-color: #d4ebff;}#sk-container-id-7 div.sk-parallel-item::after {content: \"\";width: 100%;border-bottom: 1px solid gray;flex-grow: 1;}#sk-container-id-7 div.sk-label:hover label.sk-toggleable__label {background-color: #d4ebff;}#sk-container-id-7 div.sk-serial::before {content: \"\";position: absolute;border-left: 1px solid gray;box-sizing: border-box;top: 0;bottom: 0;left: 50%;z-index: 0;}#sk-container-id-7 div.sk-serial {display: flex;flex-direction: column;align-items: center;background-color: white;padding-right: 0.2em;padding-left: 0.2em;position: relative;}#sk-container-id-7 div.sk-item {position: relative;z-index: 1;}#sk-container-id-7 div.sk-parallel {display: flex;align-items: stretch;justify-content: center;background-color: white;position: relative;}#sk-container-id-7 div.sk-item::before, #sk-container-id-7 div.sk-parallel-item::before {content: \"\";position: absolute;border-left: 1px solid gray;box-sizing: border-box;top: 0;bottom: 0;left: 50%;z-index: -1;}#sk-container-id-7 div.sk-parallel-item {display: flex;flex-direction: column;z-index: 1;position: relative;background-color: white;}#sk-container-id-7 div.sk-parallel-item:first-child::after {align-self: flex-end;width: 50%;}#sk-container-id-7 div.sk-parallel-item:last-child::after {align-self: flex-start;width: 50%;}#sk-container-id-7 div.sk-parallel-item:only-child::after {width: 0;}#sk-container-id-7 div.sk-dashed-wrapped {border: 1px dashed gray;margin: 0 0.4em 0.5em 0.4em;box-sizing: border-box;padding-bottom: 0.4em;background-color: white;}#sk-container-id-7 div.sk-label label {font-family: monospace;font-weight: bold;display: inline-block;line-height: 1.2em;}#sk-container-id-7 div.sk-label-container {text-align: center;}#sk-container-id-7 div.sk-container {/* jupyter's `normalize.less` sets `[hidden] { display: none; }` but bootstrap.min.css set `[hidden] { display: none !important; }` so we also need the `!important` here to be able to override the default hidden behavior on the sphinx rendered scikit-learn.org. See: https://github.com/scikit-learn/scikit-learn/issues/21755 */display: inline-block !important;position: relative;}#sk-container-id-7 div.sk-text-repr-fallback {display: none;}</style><div id=\"sk-container-id-7\" class=\"sk-top-container\"><div class=\"sk-text-repr-fallback\"><pre>ColumnTransformer(remainder=MinMaxScaler(),\n",
       "                  transformers=[(&#x27;onehotencoder-1&#x27;,\n",
       "                                 OneHotEncoder(dtype=&lt;class &#x27;numpy.int8&#x27;&gt;,\n",
       "                                               feature_name_combiner=&lt;function custom_combiner at 0x136e37ce0&gt;,\n",
       "                                               sparse_output=False),\n",
       "                                 [&#x27;PrimaryPropertyType&#x27;]),\n",
       "                                (&#x27;onehotencoder-2&#x27;,\n",
       "                                 OneHotEncoder(dtype=&lt;class &#x27;numpy.int8&#x27;&gt;,\n",
       "                                               sparse_output=False),\n",
       "                                 [&#x27;CouncilDistrictCode&#x27;])],\n",
       "                  verbose_feature_names_out=False)</pre><b>In a Jupyter environment, please rerun this cell to show the HTML representation or trust the notebook. <br />On GitHub, the HTML representation is unable to render, please try loading this page with nbviewer.org.</b></div><div class=\"sk-container\" hidden><div class=\"sk-item sk-dashed-wrapped\"><div class=\"sk-label-container\"><div class=\"sk-label sk-toggleable\"><input class=\"sk-toggleable__control sk-hidden--visually\" id=\"sk-estimator-id-51\" type=\"checkbox\" ><label for=\"sk-estimator-id-51\" class=\"sk-toggleable__label sk-toggleable__label-arrow\">ColumnTransformer</label><div class=\"sk-toggleable__content\"><pre>ColumnTransformer(remainder=MinMaxScaler(),\n",
       "                  transformers=[(&#x27;onehotencoder-1&#x27;,\n",
       "                                 OneHotEncoder(dtype=&lt;class &#x27;numpy.int8&#x27;&gt;,\n",
       "                                               feature_name_combiner=&lt;function custom_combiner at 0x136e37ce0&gt;,\n",
       "                                               sparse_output=False),\n",
       "                                 [&#x27;PrimaryPropertyType&#x27;]),\n",
       "                                (&#x27;onehotencoder-2&#x27;,\n",
       "                                 OneHotEncoder(dtype=&lt;class &#x27;numpy.int8&#x27;&gt;,\n",
       "                                               sparse_output=False),\n",
       "                                 [&#x27;CouncilDistrictCode&#x27;])],\n",
       "                  verbose_feature_names_out=False)</pre></div></div></div><div class=\"sk-parallel\"><div class=\"sk-parallel-item\"><div class=\"sk-item\"><div class=\"sk-label-container\"><div class=\"sk-label sk-toggleable\"><input class=\"sk-toggleable__control sk-hidden--visually\" id=\"sk-estimator-id-52\" type=\"checkbox\" ><label for=\"sk-estimator-id-52\" class=\"sk-toggleable__label sk-toggleable__label-arrow\">onehotencoder-1</label><div class=\"sk-toggleable__content\"><pre>[&#x27;PrimaryPropertyType&#x27;]</pre></div></div></div><div class=\"sk-serial\"><div class=\"sk-item\"><div class=\"sk-estimator sk-toggleable\"><input class=\"sk-toggleable__control sk-hidden--visually\" id=\"sk-estimator-id-53\" type=\"checkbox\" ><label for=\"sk-estimator-id-53\" class=\"sk-toggleable__label sk-toggleable__label-arrow\">OneHotEncoder</label><div class=\"sk-toggleable__content\"><pre>OneHotEncoder(dtype=&lt;class &#x27;numpy.int8&#x27;&gt;,\n",
       "              feature_name_combiner=&lt;function custom_combiner at 0x136e37ce0&gt;,\n",
       "              sparse_output=False)</pre></div></div></div></div></div></div><div class=\"sk-parallel-item\"><div class=\"sk-item\"><div class=\"sk-label-container\"><div class=\"sk-label sk-toggleable\"><input class=\"sk-toggleable__control sk-hidden--visually\" id=\"sk-estimator-id-54\" type=\"checkbox\" ><label for=\"sk-estimator-id-54\" class=\"sk-toggleable__label sk-toggleable__label-arrow\">onehotencoder-2</label><div class=\"sk-toggleable__content\"><pre>[&#x27;CouncilDistrictCode&#x27;]</pre></div></div></div><div class=\"sk-serial\"><div class=\"sk-item\"><div class=\"sk-estimator sk-toggleable\"><input class=\"sk-toggleable__control sk-hidden--visually\" id=\"sk-estimator-id-55\" type=\"checkbox\" ><label for=\"sk-estimator-id-55\" class=\"sk-toggleable__label sk-toggleable__label-arrow\">OneHotEncoder</label><div class=\"sk-toggleable__content\"><pre>OneHotEncoder(dtype=&lt;class &#x27;numpy.int8&#x27;&gt;, sparse_output=False)</pre></div></div></div></div></div></div><div class=\"sk-parallel-item\"><div class=\"sk-item\"><div class=\"sk-label-container\"><div class=\"sk-label sk-toggleable\"><input class=\"sk-toggleable__control sk-hidden--visually\" id=\"sk-estimator-id-56\" type=\"checkbox\" ><label for=\"sk-estimator-id-56\" class=\"sk-toggleable__label sk-toggleable__label-arrow\">remainder</label><div class=\"sk-toggleable__content\"><pre></pre></div></div></div><div class=\"sk-serial\"><div class=\"sk-item\"><div class=\"sk-estimator sk-toggleable\"><input class=\"sk-toggleable__control sk-hidden--visually\" id=\"sk-estimator-id-57\" type=\"checkbox\" ><label for=\"sk-estimator-id-57\" class=\"sk-toggleable__label sk-toggleable__label-arrow\">MinMaxScaler</label><div class=\"sk-toggleable__content\"><pre>MinMaxScaler()</pre></div></div></div></div></div></div></div></div></div></div>"
      ],
      "text/plain": [
       "ColumnTransformer(remainder=MinMaxScaler(),\n",
       "                  transformers=[('onehotencoder-1',\n",
       "                                 OneHotEncoder(dtype=<class 'numpy.int8'>,\n",
       "                                               feature_name_combiner=<function custom_combiner at 0x136e37ce0>,\n",
       "                                               sparse_output=False),\n",
       "                                 ['PrimaryPropertyType']),\n",
       "                                ('onehotencoder-2',\n",
       "                                 OneHotEncoder(dtype=<class 'numpy.int8'>,\n",
       "                                               sparse_output=False),\n",
       "                                 ['CouncilDistrictCode'])],\n",
       "                  verbose_feature_names_out=False)"
      ]
     },
     "execution_count": 82,
     "metadata": {},
     "output_type": "execute_result"
    }
   ],
   "source": [
    "def custom_combiner(feature, category):\n",
    "    return str(category)\n",
    "\n",
    "col_transformer = make_column_transformer(\n",
    "    (OneHotEncoder(sparse_output=False, dtype=np.int8, feature_name_combiner=custom_combiner), ['PrimaryPropertyType']),\n",
    "    (OneHotEncoder(sparse_output=False, dtype=np.int8), ['CouncilDistrictCode']),\n",
    "    remainder=MinMaxScaler(),\n",
    "    verbose_feature_names_out=False\n",
    ")\n",
    "col_transformer"
   ]
  },
  {
   "cell_type": "code",
   "execution_count": 83,
   "id": "e6d0a4b1",
   "metadata": {},
   "outputs": [
    {
     "name": "stdout",
     "output_type": "stream",
     "text": [
      "X_transform shape : (1262, 27)\n"
     ]
    },
    {
     "data": {
      "text/html": [
       "<div>\n",
       "<style scoped>\n",
       "    .dataframe tbody tr th:only-of-type {\n",
       "        vertical-align: middle;\n",
       "    }\n",
       "\n",
       "    .dataframe tbody tr th {\n",
       "        vertical-align: top;\n",
       "    }\n",
       "\n",
       "    .dataframe thead th {\n",
       "        text-align: right;\n",
       "    }\n",
       "</style>\n",
       "<table border=\"1\" class=\"dataframe\">\n",
       "  <thead>\n",
       "    <tr style=\"text-align: right;\">\n",
       "      <th></th>\n",
       "      <th>Distribution Center</th>\n",
       "      <th>Hospital</th>\n",
       "      <th>Hotel</th>\n",
       "      <th>K-12 School</th>\n",
       "      <th>Laboratory</th>\n",
       "      <th>Large Office</th>\n",
       "      <th>Medical Office</th>\n",
       "      <th>Mixed Use Property</th>\n",
       "      <th>Other</th>\n",
       "      <th>Refrigerated Warehouse</th>\n",
       "      <th>Restaurant</th>\n",
       "      <th>Retail Store</th>\n",
       "      <th>Self-Storage Facility</th>\n",
       "      <th>Senior Care Community</th>\n",
       "      <th>Small- and Mid-Sized Office</th>\n",
       "      <th>Supermarket / Grocery Store</th>\n",
       "      <th>University</th>\n",
       "      <th>Warehouse</th>\n",
       "      <th>Worship Facility</th>\n",
       "      <th>CouncilDistrictCode_1</th>\n",
       "      <th>CouncilDistrictCode_2</th>\n",
       "      <th>CouncilDistrictCode_3</th>\n",
       "      <th>CouncilDistrictCode_4</th>\n",
       "      <th>CouncilDistrictCode_5</th>\n",
       "      <th>CouncilDistrictCode_6</th>\n",
       "      <th>CouncilDistrictCode_7</th>\n",
       "      <th>PropertyGFATotal</th>\n",
       "    </tr>\n",
       "  </thead>\n",
       "  <tbody>\n",
       "    <tr>\n",
       "      <th>300</th>\n",
       "      <td>0</td>\n",
       "      <td>0</td>\n",
       "      <td>0</td>\n",
       "      <td>0</td>\n",
       "      <td>0</td>\n",
       "      <td>0</td>\n",
       "      <td>0</td>\n",
       "      <td>0</td>\n",
       "      <td>0</td>\n",
       "      <td>0</td>\n",
       "      <td>0</td>\n",
       "      <td>0</td>\n",
       "      <td>0</td>\n",
       "      <td>0</td>\n",
       "      <td>1</td>\n",
       "      <td>0</td>\n",
       "      <td>0</td>\n",
       "      <td>0</td>\n",
       "      <td>0</td>\n",
       "      <td>0</td>\n",
       "      <td>0</td>\n",
       "      <td>0</td>\n",
       "      <td>0</td>\n",
       "      <td>0</td>\n",
       "      <td>0</td>\n",
       "      <td>1</td>\n",
       "      <td>0.018968</td>\n",
       "    </tr>\n",
       "    <tr>\n",
       "      <th>2207</th>\n",
       "      <td>0</td>\n",
       "      <td>0</td>\n",
       "      <td>0</td>\n",
       "      <td>0</td>\n",
       "      <td>0</td>\n",
       "      <td>0</td>\n",
       "      <td>0</td>\n",
       "      <td>0</td>\n",
       "      <td>0</td>\n",
       "      <td>0</td>\n",
       "      <td>0</td>\n",
       "      <td>1</td>\n",
       "      <td>0</td>\n",
       "      <td>0</td>\n",
       "      <td>0</td>\n",
       "      <td>0</td>\n",
       "      <td>0</td>\n",
       "      <td>0</td>\n",
       "      <td>0</td>\n",
       "      <td>0</td>\n",
       "      <td>1</td>\n",
       "      <td>0</td>\n",
       "      <td>0</td>\n",
       "      <td>0</td>\n",
       "      <td>0</td>\n",
       "      <td>0</td>\n",
       "      <td>0.011862</td>\n",
       "    </tr>\n",
       "    <tr>\n",
       "      <th>2998</th>\n",
       "      <td>0</td>\n",
       "      <td>0</td>\n",
       "      <td>0</td>\n",
       "      <td>0</td>\n",
       "      <td>0</td>\n",
       "      <td>0</td>\n",
       "      <td>0</td>\n",
       "      <td>1</td>\n",
       "      <td>0</td>\n",
       "      <td>0</td>\n",
       "      <td>0</td>\n",
       "      <td>0</td>\n",
       "      <td>0</td>\n",
       "      <td>0</td>\n",
       "      <td>0</td>\n",
       "      <td>0</td>\n",
       "      <td>0</td>\n",
       "      <td>0</td>\n",
       "      <td>0</td>\n",
       "      <td>0</td>\n",
       "      <td>0</td>\n",
       "      <td>1</td>\n",
       "      <td>0</td>\n",
       "      <td>0</td>\n",
       "      <td>0</td>\n",
       "      <td>0</td>\n",
       "      <td>0.005809</td>\n",
       "    </tr>\n",
       "    <tr>\n",
       "      <th>3187</th>\n",
       "      <td>0</td>\n",
       "      <td>1</td>\n",
       "      <td>0</td>\n",
       "      <td>0</td>\n",
       "      <td>0</td>\n",
       "      <td>0</td>\n",
       "      <td>0</td>\n",
       "      <td>0</td>\n",
       "      <td>0</td>\n",
       "      <td>0</td>\n",
       "      <td>0</td>\n",
       "      <td>0</td>\n",
       "      <td>0</td>\n",
       "      <td>0</td>\n",
       "      <td>0</td>\n",
       "      <td>0</td>\n",
       "      <td>0</td>\n",
       "      <td>0</td>\n",
       "      <td>0</td>\n",
       "      <td>0</td>\n",
       "      <td>0</td>\n",
       "      <td>0</td>\n",
       "      <td>1</td>\n",
       "      <td>0</td>\n",
       "      <td>0</td>\n",
       "      <td>0</td>\n",
       "      <td>0.145617</td>\n",
       "    </tr>\n",
       "    <tr>\n",
       "      <th>257</th>\n",
       "      <td>0</td>\n",
       "      <td>0</td>\n",
       "      <td>0</td>\n",
       "      <td>0</td>\n",
       "      <td>0</td>\n",
       "      <td>0</td>\n",
       "      <td>0</td>\n",
       "      <td>0</td>\n",
       "      <td>0</td>\n",
       "      <td>0</td>\n",
       "      <td>0</td>\n",
       "      <td>0</td>\n",
       "      <td>0</td>\n",
       "      <td>0</td>\n",
       "      <td>0</td>\n",
       "      <td>0</td>\n",
       "      <td>0</td>\n",
       "      <td>1</td>\n",
       "      <td>0</td>\n",
       "      <td>0</td>\n",
       "      <td>1</td>\n",
       "      <td>0</td>\n",
       "      <td>0</td>\n",
       "      <td>0</td>\n",
       "      <td>0</td>\n",
       "      <td>0</td>\n",
       "      <td>0.053691</td>\n",
       "    </tr>\n",
       "  </tbody>\n",
       "</table>\n",
       "</div>"
      ],
      "text/plain": [
       "      Distribution Center  Hospital  Hotel  K-12 School  Laboratory  \\\n",
       "300                     0         0      0            0           0   \n",
       "2207                    0         0      0            0           0   \n",
       "2998                    0         0      0            0           0   \n",
       "3187                    0         1      0            0           0   \n",
       "257                     0         0      0            0           0   \n",
       "\n",
       "      Large Office  Medical Office  Mixed Use Property  Other  \\\n",
       "300              0               0                   0      0   \n",
       "2207             0               0                   0      0   \n",
       "2998             0               0                   1      0   \n",
       "3187             0               0                   0      0   \n",
       "257              0               0                   0      0   \n",
       "\n",
       "      Refrigerated Warehouse  Restaurant  Retail Store  Self-Storage Facility  \\\n",
       "300                        0           0             0                      0   \n",
       "2207                       0           0             1                      0   \n",
       "2998                       0           0             0                      0   \n",
       "3187                       0           0             0                      0   \n",
       "257                        0           0             0                      0   \n",
       "\n",
       "      Senior Care Community  Small- and Mid-Sized Office  \\\n",
       "300                       0                            1   \n",
       "2207                      0                            0   \n",
       "2998                      0                            0   \n",
       "3187                      0                            0   \n",
       "257                       0                            0   \n",
       "\n",
       "      Supermarket / Grocery Store  University  Warehouse  Worship Facility  \\\n",
       "300                             0           0          0                 0   \n",
       "2207                            0           0          0                 0   \n",
       "2998                            0           0          0                 0   \n",
       "3187                            0           0          0                 0   \n",
       "257                             0           0          1                 0   \n",
       "\n",
       "      CouncilDistrictCode_1  CouncilDistrictCode_2  CouncilDistrictCode_3  \\\n",
       "300                       0                      0                      0   \n",
       "2207                      0                      1                      0   \n",
       "2998                      0                      0                      1   \n",
       "3187                      0                      0                      0   \n",
       "257                       0                      1                      0   \n",
       "\n",
       "      CouncilDistrictCode_4  CouncilDistrictCode_5  CouncilDistrictCode_6  \\\n",
       "300                       0                      0                      0   \n",
       "2207                      0                      0                      0   \n",
       "2998                      0                      0                      0   \n",
       "3187                      1                      0                      0   \n",
       "257                       0                      0                      0   \n",
       "\n",
       "      CouncilDistrictCode_7  PropertyGFATotal  \n",
       "300                       1          0.018968  \n",
       "2207                      0          0.011862  \n",
       "2998                      0          0.005809  \n",
       "3187                      0          0.145617  \n",
       "257                       0          0.053691  "
      ]
     },
     "execution_count": 83,
     "metadata": {},
     "output_type": "execute_result"
    }
   ],
   "source": [
    "X_transform = col_transformer.fit_transform(X_train)\n",
    "print('X_transform shape :', X_transform.shape)\n",
    "X_transform.head()"
   ]
  },
  {
   "cell_type": "code",
   "execution_count": 84,
   "id": "eb3bd525",
   "metadata": {},
   "outputs": [
    {
     "data": {
      "text/plain": [
       "int8       26\n",
       "float64     1\n",
       "Name: count, dtype: int64"
      ]
     },
     "execution_count": 84,
     "metadata": {},
     "output_type": "execute_result"
    }
   ],
   "source": [
    "# dtypes\n",
    "X_transform.dtypes.value_counts()"
   ]
  },
  {
   "cell_type": "code",
   "execution_count": 85,
   "id": "1d3c205c",
   "metadata": {},
   "outputs": [
    {
     "data": {
      "text/plain": [
       "51.76171875"
      ]
     },
     "execution_count": 85,
     "metadata": {},
     "output_type": "execute_result"
    }
   ],
   "source": [
    "# memory usage in kB\n",
    "X_transform.memory_usage().sum() / 1024"
   ]
  },
  {
   "cell_type": "markdown",
   "id": "21cdae8f",
   "metadata": {},
   "source": [
    "## Entrainement d'un modèle dans une pipeline\n",
    "\n",
    "On va tester un simple algorithme de régression linéaire que l'on va intégrer dans une pipeline contenant le preprocessing avant l'ajustement du modèle."
   ]
  },
  {
   "cell_type": "code",
   "execution_count": 86,
   "id": "ddf7261d",
   "metadata": {},
   "outputs": [
    {
     "data": {
      "text/html": [
       "<style>#sk-container-id-8 {color: black;}#sk-container-id-8 pre{padding: 0;}#sk-container-id-8 div.sk-toggleable {background-color: white;}#sk-container-id-8 label.sk-toggleable__label {cursor: pointer;display: block;width: 100%;margin-bottom: 0;padding: 0.3em;box-sizing: border-box;text-align: center;}#sk-container-id-8 label.sk-toggleable__label-arrow:before {content: \"▸\";float: left;margin-right: 0.25em;color: #696969;}#sk-container-id-8 label.sk-toggleable__label-arrow:hover:before {color: black;}#sk-container-id-8 div.sk-estimator:hover label.sk-toggleable__label-arrow:before {color: black;}#sk-container-id-8 div.sk-toggleable__content {max-height: 0;max-width: 0;overflow: hidden;text-align: left;background-color: #f0f8ff;}#sk-container-id-8 div.sk-toggleable__content pre {margin: 0.2em;color: black;border-radius: 0.25em;background-color: #f0f8ff;}#sk-container-id-8 input.sk-toggleable__control:checked~div.sk-toggleable__content {max-height: 200px;max-width: 100%;overflow: auto;}#sk-container-id-8 input.sk-toggleable__control:checked~label.sk-toggleable__label-arrow:before {content: \"▾\";}#sk-container-id-8 div.sk-estimator input.sk-toggleable__control:checked~label.sk-toggleable__label {background-color: #d4ebff;}#sk-container-id-8 div.sk-label input.sk-toggleable__control:checked~label.sk-toggleable__label {background-color: #d4ebff;}#sk-container-id-8 input.sk-hidden--visually {border: 0;clip: rect(1px 1px 1px 1px);clip: rect(1px, 1px, 1px, 1px);height: 1px;margin: -1px;overflow: hidden;padding: 0;position: absolute;width: 1px;}#sk-container-id-8 div.sk-estimator {font-family: monospace;background-color: #f0f8ff;border: 1px dotted black;border-radius: 0.25em;box-sizing: border-box;margin-bottom: 0.5em;}#sk-container-id-8 div.sk-estimator:hover {background-color: #d4ebff;}#sk-container-id-8 div.sk-parallel-item::after {content: \"\";width: 100%;border-bottom: 1px solid gray;flex-grow: 1;}#sk-container-id-8 div.sk-label:hover label.sk-toggleable__label {background-color: #d4ebff;}#sk-container-id-8 div.sk-serial::before {content: \"\";position: absolute;border-left: 1px solid gray;box-sizing: border-box;top: 0;bottom: 0;left: 50%;z-index: 0;}#sk-container-id-8 div.sk-serial {display: flex;flex-direction: column;align-items: center;background-color: white;padding-right: 0.2em;padding-left: 0.2em;position: relative;}#sk-container-id-8 div.sk-item {position: relative;z-index: 1;}#sk-container-id-8 div.sk-parallel {display: flex;align-items: stretch;justify-content: center;background-color: white;position: relative;}#sk-container-id-8 div.sk-item::before, #sk-container-id-8 div.sk-parallel-item::before {content: \"\";position: absolute;border-left: 1px solid gray;box-sizing: border-box;top: 0;bottom: 0;left: 50%;z-index: -1;}#sk-container-id-8 div.sk-parallel-item {display: flex;flex-direction: column;z-index: 1;position: relative;background-color: white;}#sk-container-id-8 div.sk-parallel-item:first-child::after {align-self: flex-end;width: 50%;}#sk-container-id-8 div.sk-parallel-item:last-child::after {align-self: flex-start;width: 50%;}#sk-container-id-8 div.sk-parallel-item:only-child::after {width: 0;}#sk-container-id-8 div.sk-dashed-wrapped {border: 1px dashed gray;margin: 0 0.4em 0.5em 0.4em;box-sizing: border-box;padding-bottom: 0.4em;background-color: white;}#sk-container-id-8 div.sk-label label {font-family: monospace;font-weight: bold;display: inline-block;line-height: 1.2em;}#sk-container-id-8 div.sk-label-container {text-align: center;}#sk-container-id-8 div.sk-container {/* jupyter's `normalize.less` sets `[hidden] { display: none; }` but bootstrap.min.css set `[hidden] { display: none !important; }` so we also need the `!important` here to be able to override the default hidden behavior on the sphinx rendered scikit-learn.org. See: https://github.com/scikit-learn/scikit-learn/issues/21755 */display: inline-block !important;position: relative;}#sk-container-id-8 div.sk-text-repr-fallback {display: none;}</style><div id=\"sk-container-id-8\" class=\"sk-top-container\"><div class=\"sk-text-repr-fallback\"><pre>Pipeline(steps=[(&#x27;columntransformer&#x27;,\n",
       "                 ColumnTransformer(remainder=MinMaxScaler(),\n",
       "                                   transformers=[(&#x27;onehotencoder-1&#x27;,\n",
       "                                                  OneHotEncoder(dtype=&lt;class &#x27;numpy.int8&#x27;&gt;,\n",
       "                                                                feature_name_combiner=&lt;function custom_combiner at 0x136e37ce0&gt;,\n",
       "                                                                sparse_output=False),\n",
       "                                                  [&#x27;PrimaryPropertyType&#x27;]),\n",
       "                                                 (&#x27;onehotencoder-2&#x27;,\n",
       "                                                  OneHotEncoder(dtype=&lt;class &#x27;numpy.int8&#x27;&gt;,\n",
       "                                                                sparse_output=False),\n",
       "                                                  [&#x27;CouncilDistrictCode&#x27;])],\n",
       "                                   verbose_feature_names_out=False)),\n",
       "                (&#x27;linearregression&#x27;, LinearRegression())])</pre><b>In a Jupyter environment, please rerun this cell to show the HTML representation or trust the notebook. <br />On GitHub, the HTML representation is unable to render, please try loading this page with nbviewer.org.</b></div><div class=\"sk-container\" hidden><div class=\"sk-item sk-dashed-wrapped\"><div class=\"sk-label-container\"><div class=\"sk-label sk-toggleable\"><input class=\"sk-toggleable__control sk-hidden--visually\" id=\"sk-estimator-id-58\" type=\"checkbox\" ><label for=\"sk-estimator-id-58\" class=\"sk-toggleable__label sk-toggleable__label-arrow\">Pipeline</label><div class=\"sk-toggleable__content\"><pre>Pipeline(steps=[(&#x27;columntransformer&#x27;,\n",
       "                 ColumnTransformer(remainder=MinMaxScaler(),\n",
       "                                   transformers=[(&#x27;onehotencoder-1&#x27;,\n",
       "                                                  OneHotEncoder(dtype=&lt;class &#x27;numpy.int8&#x27;&gt;,\n",
       "                                                                feature_name_combiner=&lt;function custom_combiner at 0x136e37ce0&gt;,\n",
       "                                                                sparse_output=False),\n",
       "                                                  [&#x27;PrimaryPropertyType&#x27;]),\n",
       "                                                 (&#x27;onehotencoder-2&#x27;,\n",
       "                                                  OneHotEncoder(dtype=&lt;class &#x27;numpy.int8&#x27;&gt;,\n",
       "                                                                sparse_output=False),\n",
       "                                                  [&#x27;CouncilDistrictCode&#x27;])],\n",
       "                                   verbose_feature_names_out=False)),\n",
       "                (&#x27;linearregression&#x27;, LinearRegression())])</pre></div></div></div><div class=\"sk-serial\"><div class=\"sk-item sk-dashed-wrapped\"><div class=\"sk-label-container\"><div class=\"sk-label sk-toggleable\"><input class=\"sk-toggleable__control sk-hidden--visually\" id=\"sk-estimator-id-59\" type=\"checkbox\" ><label for=\"sk-estimator-id-59\" class=\"sk-toggleable__label sk-toggleable__label-arrow\">columntransformer: ColumnTransformer</label><div class=\"sk-toggleable__content\"><pre>ColumnTransformer(remainder=MinMaxScaler(),\n",
       "                  transformers=[(&#x27;onehotencoder-1&#x27;,\n",
       "                                 OneHotEncoder(dtype=&lt;class &#x27;numpy.int8&#x27;&gt;,\n",
       "                                               feature_name_combiner=&lt;function custom_combiner at 0x136e37ce0&gt;,\n",
       "                                               sparse_output=False),\n",
       "                                 [&#x27;PrimaryPropertyType&#x27;]),\n",
       "                                (&#x27;onehotencoder-2&#x27;,\n",
       "                                 OneHotEncoder(dtype=&lt;class &#x27;numpy.int8&#x27;&gt;,\n",
       "                                               sparse_output=False),\n",
       "                                 [&#x27;CouncilDistrictCode&#x27;])],\n",
       "                  verbose_feature_names_out=False)</pre></div></div></div><div class=\"sk-parallel\"><div class=\"sk-parallel-item\"><div class=\"sk-item\"><div class=\"sk-label-container\"><div class=\"sk-label sk-toggleable\"><input class=\"sk-toggleable__control sk-hidden--visually\" id=\"sk-estimator-id-60\" type=\"checkbox\" ><label for=\"sk-estimator-id-60\" class=\"sk-toggleable__label sk-toggleable__label-arrow\">onehotencoder-1</label><div class=\"sk-toggleable__content\"><pre>[&#x27;PrimaryPropertyType&#x27;]</pre></div></div></div><div class=\"sk-serial\"><div class=\"sk-item\"><div class=\"sk-estimator sk-toggleable\"><input class=\"sk-toggleable__control sk-hidden--visually\" id=\"sk-estimator-id-61\" type=\"checkbox\" ><label for=\"sk-estimator-id-61\" class=\"sk-toggleable__label sk-toggleable__label-arrow\">OneHotEncoder</label><div class=\"sk-toggleable__content\"><pre>OneHotEncoder(dtype=&lt;class &#x27;numpy.int8&#x27;&gt;,\n",
       "              feature_name_combiner=&lt;function custom_combiner at 0x136e37ce0&gt;,\n",
       "              sparse_output=False)</pre></div></div></div></div></div></div><div class=\"sk-parallel-item\"><div class=\"sk-item\"><div class=\"sk-label-container\"><div class=\"sk-label sk-toggleable\"><input class=\"sk-toggleable__control sk-hidden--visually\" id=\"sk-estimator-id-62\" type=\"checkbox\" ><label for=\"sk-estimator-id-62\" class=\"sk-toggleable__label sk-toggleable__label-arrow\">onehotencoder-2</label><div class=\"sk-toggleable__content\"><pre>[&#x27;CouncilDistrictCode&#x27;]</pre></div></div></div><div class=\"sk-serial\"><div class=\"sk-item\"><div class=\"sk-estimator sk-toggleable\"><input class=\"sk-toggleable__control sk-hidden--visually\" id=\"sk-estimator-id-63\" type=\"checkbox\" ><label for=\"sk-estimator-id-63\" class=\"sk-toggleable__label sk-toggleable__label-arrow\">OneHotEncoder</label><div class=\"sk-toggleable__content\"><pre>OneHotEncoder(dtype=&lt;class &#x27;numpy.int8&#x27;&gt;, sparse_output=False)</pre></div></div></div></div></div></div><div class=\"sk-parallel-item\"><div class=\"sk-item\"><div class=\"sk-label-container\"><div class=\"sk-label sk-toggleable\"><input class=\"sk-toggleable__control sk-hidden--visually\" id=\"sk-estimator-id-64\" type=\"checkbox\" ><label for=\"sk-estimator-id-64\" class=\"sk-toggleable__label sk-toggleable__label-arrow\">remainder</label><div class=\"sk-toggleable__content\"><pre>[&#x27;PropertyGFATotal&#x27;]</pre></div></div></div><div class=\"sk-serial\"><div class=\"sk-item\"><div class=\"sk-estimator sk-toggleable\"><input class=\"sk-toggleable__control sk-hidden--visually\" id=\"sk-estimator-id-65\" type=\"checkbox\" ><label for=\"sk-estimator-id-65\" class=\"sk-toggleable__label sk-toggleable__label-arrow\">MinMaxScaler</label><div class=\"sk-toggleable__content\"><pre>MinMaxScaler()</pre></div></div></div></div></div></div></div></div><div class=\"sk-item\"><div class=\"sk-estimator sk-toggleable\"><input class=\"sk-toggleable__control sk-hidden--visually\" id=\"sk-estimator-id-66\" type=\"checkbox\" ><label for=\"sk-estimator-id-66\" class=\"sk-toggleable__label sk-toggleable__label-arrow\">LinearRegression</label><div class=\"sk-toggleable__content\"><pre>LinearRegression()</pre></div></div></div></div></div></div></div>"
      ],
      "text/plain": [
       "Pipeline(steps=[('columntransformer',\n",
       "                 ColumnTransformer(remainder=MinMaxScaler(),\n",
       "                                   transformers=[('onehotencoder-1',\n",
       "                                                  OneHotEncoder(dtype=<class 'numpy.int8'>,\n",
       "                                                                feature_name_combiner=<function custom_combiner at 0x136e37ce0>,\n",
       "                                                                sparse_output=False),\n",
       "                                                  ['PrimaryPropertyType']),\n",
       "                                                 ('onehotencoder-2',\n",
       "                                                  OneHotEncoder(dtype=<class 'numpy.int8'>,\n",
       "                                                                sparse_output=False),\n",
       "                                                  ['CouncilDistrictCode'])],\n",
       "                                   verbose_feature_names_out=False)),\n",
       "                ('linearregression', LinearRegression())])"
      ]
     },
     "execution_count": 86,
     "metadata": {},
     "output_type": "execute_result"
    }
   ],
   "source": [
    "pipeline = make_pipeline(col_transformer, LinearRegression())\n",
    "pipeline"
   ]
  },
  {
   "cell_type": "code",
   "execution_count": 87,
   "id": "253acd41",
   "metadata": {},
   "outputs": [
    {
     "data": {
      "text/html": [
       "<style>#sk-container-id-9 {color: black;}#sk-container-id-9 pre{padding: 0;}#sk-container-id-9 div.sk-toggleable {background-color: white;}#sk-container-id-9 label.sk-toggleable__label {cursor: pointer;display: block;width: 100%;margin-bottom: 0;padding: 0.3em;box-sizing: border-box;text-align: center;}#sk-container-id-9 label.sk-toggleable__label-arrow:before {content: \"▸\";float: left;margin-right: 0.25em;color: #696969;}#sk-container-id-9 label.sk-toggleable__label-arrow:hover:before {color: black;}#sk-container-id-9 div.sk-estimator:hover label.sk-toggleable__label-arrow:before {color: black;}#sk-container-id-9 div.sk-toggleable__content {max-height: 0;max-width: 0;overflow: hidden;text-align: left;background-color: #f0f8ff;}#sk-container-id-9 div.sk-toggleable__content pre {margin: 0.2em;color: black;border-radius: 0.25em;background-color: #f0f8ff;}#sk-container-id-9 input.sk-toggleable__control:checked~div.sk-toggleable__content {max-height: 200px;max-width: 100%;overflow: auto;}#sk-container-id-9 input.sk-toggleable__control:checked~label.sk-toggleable__label-arrow:before {content: \"▾\";}#sk-container-id-9 div.sk-estimator input.sk-toggleable__control:checked~label.sk-toggleable__label {background-color: #d4ebff;}#sk-container-id-9 div.sk-label input.sk-toggleable__control:checked~label.sk-toggleable__label {background-color: #d4ebff;}#sk-container-id-9 input.sk-hidden--visually {border: 0;clip: rect(1px 1px 1px 1px);clip: rect(1px, 1px, 1px, 1px);height: 1px;margin: -1px;overflow: hidden;padding: 0;position: absolute;width: 1px;}#sk-container-id-9 div.sk-estimator {font-family: monospace;background-color: #f0f8ff;border: 1px dotted black;border-radius: 0.25em;box-sizing: border-box;margin-bottom: 0.5em;}#sk-container-id-9 div.sk-estimator:hover {background-color: #d4ebff;}#sk-container-id-9 div.sk-parallel-item::after {content: \"\";width: 100%;border-bottom: 1px solid gray;flex-grow: 1;}#sk-container-id-9 div.sk-label:hover label.sk-toggleable__label {background-color: #d4ebff;}#sk-container-id-9 div.sk-serial::before {content: \"\";position: absolute;border-left: 1px solid gray;box-sizing: border-box;top: 0;bottom: 0;left: 50%;z-index: 0;}#sk-container-id-9 div.sk-serial {display: flex;flex-direction: column;align-items: center;background-color: white;padding-right: 0.2em;padding-left: 0.2em;position: relative;}#sk-container-id-9 div.sk-item {position: relative;z-index: 1;}#sk-container-id-9 div.sk-parallel {display: flex;align-items: stretch;justify-content: center;background-color: white;position: relative;}#sk-container-id-9 div.sk-item::before, #sk-container-id-9 div.sk-parallel-item::before {content: \"\";position: absolute;border-left: 1px solid gray;box-sizing: border-box;top: 0;bottom: 0;left: 50%;z-index: -1;}#sk-container-id-9 div.sk-parallel-item {display: flex;flex-direction: column;z-index: 1;position: relative;background-color: white;}#sk-container-id-9 div.sk-parallel-item:first-child::after {align-self: flex-end;width: 50%;}#sk-container-id-9 div.sk-parallel-item:last-child::after {align-self: flex-start;width: 50%;}#sk-container-id-9 div.sk-parallel-item:only-child::after {width: 0;}#sk-container-id-9 div.sk-dashed-wrapped {border: 1px dashed gray;margin: 0 0.4em 0.5em 0.4em;box-sizing: border-box;padding-bottom: 0.4em;background-color: white;}#sk-container-id-9 div.sk-label label {font-family: monospace;font-weight: bold;display: inline-block;line-height: 1.2em;}#sk-container-id-9 div.sk-label-container {text-align: center;}#sk-container-id-9 div.sk-container {/* jupyter's `normalize.less` sets `[hidden] { display: none; }` but bootstrap.min.css set `[hidden] { display: none !important; }` so we also need the `!important` here to be able to override the default hidden behavior on the sphinx rendered scikit-learn.org. See: https://github.com/scikit-learn/scikit-learn/issues/21755 */display: inline-block !important;position: relative;}#sk-container-id-9 div.sk-text-repr-fallback {display: none;}</style><div id=\"sk-container-id-9\" class=\"sk-top-container\"><div class=\"sk-text-repr-fallback\"><pre>Pipeline(steps=[(&#x27;columntransformer&#x27;,\n",
       "                 ColumnTransformer(remainder=MinMaxScaler(),\n",
       "                                   transformers=[(&#x27;onehotencoder-1&#x27;,\n",
       "                                                  OneHotEncoder(dtype=&lt;class &#x27;numpy.int8&#x27;&gt;,\n",
       "                                                                feature_name_combiner=&lt;function custom_combiner at 0x136e37ce0&gt;,\n",
       "                                                                sparse_output=False),\n",
       "                                                  [&#x27;PrimaryPropertyType&#x27;]),\n",
       "                                                 (&#x27;onehotencoder-2&#x27;,\n",
       "                                                  OneHotEncoder(dtype=&lt;class &#x27;numpy.int8&#x27;&gt;,\n",
       "                                                                sparse_output=False),\n",
       "                                                  [&#x27;CouncilDistrictCode&#x27;])],\n",
       "                                   verbose_feature_names_out=False)),\n",
       "                (&#x27;linearregression&#x27;, LinearRegression())])</pre><b>In a Jupyter environment, please rerun this cell to show the HTML representation or trust the notebook. <br />On GitHub, the HTML representation is unable to render, please try loading this page with nbviewer.org.</b></div><div class=\"sk-container\" hidden><div class=\"sk-item sk-dashed-wrapped\"><div class=\"sk-label-container\"><div class=\"sk-label sk-toggleable\"><input class=\"sk-toggleable__control sk-hidden--visually\" id=\"sk-estimator-id-67\" type=\"checkbox\" ><label for=\"sk-estimator-id-67\" class=\"sk-toggleable__label sk-toggleable__label-arrow\">Pipeline</label><div class=\"sk-toggleable__content\"><pre>Pipeline(steps=[(&#x27;columntransformer&#x27;,\n",
       "                 ColumnTransformer(remainder=MinMaxScaler(),\n",
       "                                   transformers=[(&#x27;onehotencoder-1&#x27;,\n",
       "                                                  OneHotEncoder(dtype=&lt;class &#x27;numpy.int8&#x27;&gt;,\n",
       "                                                                feature_name_combiner=&lt;function custom_combiner at 0x136e37ce0&gt;,\n",
       "                                                                sparse_output=False),\n",
       "                                                  [&#x27;PrimaryPropertyType&#x27;]),\n",
       "                                                 (&#x27;onehotencoder-2&#x27;,\n",
       "                                                  OneHotEncoder(dtype=&lt;class &#x27;numpy.int8&#x27;&gt;,\n",
       "                                                                sparse_output=False),\n",
       "                                                  [&#x27;CouncilDistrictCode&#x27;])],\n",
       "                                   verbose_feature_names_out=False)),\n",
       "                (&#x27;linearregression&#x27;, LinearRegression())])</pre></div></div></div><div class=\"sk-serial\"><div class=\"sk-item sk-dashed-wrapped\"><div class=\"sk-label-container\"><div class=\"sk-label sk-toggleable\"><input class=\"sk-toggleable__control sk-hidden--visually\" id=\"sk-estimator-id-68\" type=\"checkbox\" ><label for=\"sk-estimator-id-68\" class=\"sk-toggleable__label sk-toggleable__label-arrow\">columntransformer: ColumnTransformer</label><div class=\"sk-toggleable__content\"><pre>ColumnTransformer(remainder=MinMaxScaler(),\n",
       "                  transformers=[(&#x27;onehotencoder-1&#x27;,\n",
       "                                 OneHotEncoder(dtype=&lt;class &#x27;numpy.int8&#x27;&gt;,\n",
       "                                               feature_name_combiner=&lt;function custom_combiner at 0x136e37ce0&gt;,\n",
       "                                               sparse_output=False),\n",
       "                                 [&#x27;PrimaryPropertyType&#x27;]),\n",
       "                                (&#x27;onehotencoder-2&#x27;,\n",
       "                                 OneHotEncoder(dtype=&lt;class &#x27;numpy.int8&#x27;&gt;,\n",
       "                                               sparse_output=False),\n",
       "                                 [&#x27;CouncilDistrictCode&#x27;])],\n",
       "                  verbose_feature_names_out=False)</pre></div></div></div><div class=\"sk-parallel\"><div class=\"sk-parallel-item\"><div class=\"sk-item\"><div class=\"sk-label-container\"><div class=\"sk-label sk-toggleable\"><input class=\"sk-toggleable__control sk-hidden--visually\" id=\"sk-estimator-id-69\" type=\"checkbox\" ><label for=\"sk-estimator-id-69\" class=\"sk-toggleable__label sk-toggleable__label-arrow\">onehotencoder-1</label><div class=\"sk-toggleable__content\"><pre>[&#x27;PrimaryPropertyType&#x27;]</pre></div></div></div><div class=\"sk-serial\"><div class=\"sk-item\"><div class=\"sk-estimator sk-toggleable\"><input class=\"sk-toggleable__control sk-hidden--visually\" id=\"sk-estimator-id-70\" type=\"checkbox\" ><label for=\"sk-estimator-id-70\" class=\"sk-toggleable__label sk-toggleable__label-arrow\">OneHotEncoder</label><div class=\"sk-toggleable__content\"><pre>OneHotEncoder(dtype=&lt;class &#x27;numpy.int8&#x27;&gt;,\n",
       "              feature_name_combiner=&lt;function custom_combiner at 0x136e37ce0&gt;,\n",
       "              sparse_output=False)</pre></div></div></div></div></div></div><div class=\"sk-parallel-item\"><div class=\"sk-item\"><div class=\"sk-label-container\"><div class=\"sk-label sk-toggleable\"><input class=\"sk-toggleable__control sk-hidden--visually\" id=\"sk-estimator-id-71\" type=\"checkbox\" ><label for=\"sk-estimator-id-71\" class=\"sk-toggleable__label sk-toggleable__label-arrow\">onehotencoder-2</label><div class=\"sk-toggleable__content\"><pre>[&#x27;CouncilDistrictCode&#x27;]</pre></div></div></div><div class=\"sk-serial\"><div class=\"sk-item\"><div class=\"sk-estimator sk-toggleable\"><input class=\"sk-toggleable__control sk-hidden--visually\" id=\"sk-estimator-id-72\" type=\"checkbox\" ><label for=\"sk-estimator-id-72\" class=\"sk-toggleable__label sk-toggleable__label-arrow\">OneHotEncoder</label><div class=\"sk-toggleable__content\"><pre>OneHotEncoder(dtype=&lt;class &#x27;numpy.int8&#x27;&gt;, sparse_output=False)</pre></div></div></div></div></div></div><div class=\"sk-parallel-item\"><div class=\"sk-item\"><div class=\"sk-label-container\"><div class=\"sk-label sk-toggleable\"><input class=\"sk-toggleable__control sk-hidden--visually\" id=\"sk-estimator-id-73\" type=\"checkbox\" ><label for=\"sk-estimator-id-73\" class=\"sk-toggleable__label sk-toggleable__label-arrow\">remainder</label><div class=\"sk-toggleable__content\"><pre>[&#x27;PropertyGFATotal&#x27;]</pre></div></div></div><div class=\"sk-serial\"><div class=\"sk-item\"><div class=\"sk-estimator sk-toggleable\"><input class=\"sk-toggleable__control sk-hidden--visually\" id=\"sk-estimator-id-74\" type=\"checkbox\" ><label for=\"sk-estimator-id-74\" class=\"sk-toggleable__label sk-toggleable__label-arrow\">MinMaxScaler</label><div class=\"sk-toggleable__content\"><pre>MinMaxScaler()</pre></div></div></div></div></div></div></div></div><div class=\"sk-item\"><div class=\"sk-estimator sk-toggleable\"><input class=\"sk-toggleable__control sk-hidden--visually\" id=\"sk-estimator-id-75\" type=\"checkbox\" ><label for=\"sk-estimator-id-75\" class=\"sk-toggleable__label sk-toggleable__label-arrow\">LinearRegression</label><div class=\"sk-toggleable__content\"><pre>LinearRegression()</pre></div></div></div></div></div></div></div>"
      ],
      "text/plain": [
       "Pipeline(steps=[('columntransformer',\n",
       "                 ColumnTransformer(remainder=MinMaxScaler(),\n",
       "                                   transformers=[('onehotencoder-1',\n",
       "                                                  OneHotEncoder(dtype=<class 'numpy.int8'>,\n",
       "                                                                feature_name_combiner=<function custom_combiner at 0x136e37ce0>,\n",
       "                                                                sparse_output=False),\n",
       "                                                  ['PrimaryPropertyType']),\n",
       "                                                 ('onehotencoder-2',\n",
       "                                                  OneHotEncoder(dtype=<class 'numpy.int8'>,\n",
       "                                                                sparse_output=False),\n",
       "                                                  ['CouncilDistrictCode'])],\n",
       "                                   verbose_feature_names_out=False)),\n",
       "                ('linearregression', LinearRegression())])"
      ]
     },
     "execution_count": 87,
     "metadata": {},
     "output_type": "execute_result"
    }
   ],
   "source": [
    "pipeline.fit(X_train, y_train)"
   ]
  },
  {
   "cell_type": "markdown",
   "id": "c3f45bfc",
   "metadata": {},
   "source": [
    "Résultats sur le jeu d'entrainement"
   ]
  },
  {
   "cell_type": "code",
   "execution_count": 88,
   "id": "1fcfdf7c",
   "metadata": {},
   "outputs": [
    {
     "name": "stdout",
     "output_type": "stream",
     "text": [
      "R2 : 0.6552295150798304\n",
      "MSE : 148749053239358.9\n",
      "MAE : 4414832.646676282\n",
      "MAPE : 1.5792748250708524\n"
     ]
    }
   ],
   "source": [
    "y_pred = pipeline.predict(X_train)\n",
    "print('R2 :', r2_score(y_train, y_pred))\n",
    "print('MSE :', mse(y_train, y_pred))\n",
    "print('MAE :', mae(y_train, y_pred))\n",
    "print('MAPE :', mape(y_train, y_pred))"
   ]
  },
  {
   "cell_type": "markdown",
   "id": "aed7e591",
   "metadata": {},
   "source": [
    "Résultats sur le jeu de test"
   ]
  },
  {
   "cell_type": "code",
   "execution_count": 89,
   "id": "2df87531",
   "metadata": {},
   "outputs": [
    {
     "name": "stdout",
     "output_type": "stream",
     "text": [
      "R2 : 0.170998206224247\n",
      "MSE : 677615855415889.9\n",
      "MAE : 5154703.867212223\n",
      "MAPE : 1.4011663886440855\n"
     ]
    }
   ],
   "source": [
    "y_pred = pipeline.predict(X_test)\n",
    "print('R2 :', r2_score(y_test, y_pred))\n",
    "print('MSE :', mse(y_test, y_pred))\n",
    "print('MAE :', mae(y_test, y_pred))\n",
    "print('MAPE :', mape(y_test, y_pred))"
   ]
  },
  {
   "cell_type": "markdown",
   "id": "6cafe29a",
   "metadata": {},
   "source": [
    "Il y a clairement de l'overfitting sur ce modèle simple"
   ]
  },
  {
   "cell_type": "markdown",
   "id": "c57e0efe",
   "metadata": {},
   "source": [
    "## Comparaison de modèles"
   ]
  },
  {
   "cell_type": "code",
   "execution_count": 90,
   "id": "ff9f7a24",
   "metadata": {},
   "outputs": [],
   "source": [
    "from sklearn.dummy import DummyRegressor\n",
    "from sklearn.linear_model import LinearRegression, Ridge, Lasso, RANSACRegressor, QuantileRegressor, SGDRegressor\n",
    "from sklearn.svm import LinearSVR\n",
    "from sklearn.neighbors import KNeighborsRegressor\n",
    "from sklearn.cross_decomposition import PLSRegression\n",
    "from sklearn.gaussian_process import GaussianProcessRegressor\n",
    "from sklearn.ensemble import (RandomForestRegressor, BaggingRegressor, AdaBoostRegressor, \n",
    "                              GradientBoostingRegressor, HistGradientBoostingRegressor)\n",
    "from xgboost import XGBRegressor\n",
    "from sklearn.neural_network import MLPRegressor\n",
    "\n",
    "import time\n",
    "\n",
    "import warnings\n",
    "warnings.filterwarnings(\"ignore\")"
   ]
  },
  {
   "cell_type": "code",
   "execution_count": 91,
   "id": "01370f4c",
   "metadata": {},
   "outputs": [
    {
     "name": "stdout",
     "output_type": "stream",
     "text": [
      "_____________________________________________________________________________________\n",
      "model\t\t\t train_score\t test_score\t fit_time\t predict_time\n",
      "=====================================================================================\n",
      "dummy       \t\t 0.000\t\t -0.000\t\t 0.014s\t\t 0.007s\n",
      "-------------------------------------------------------------------------------------\n",
      "lin_reg     \t\t 0.655\t\t 0.171\t\t 0.01s\t\t 0.006s\n",
      "-------------------------------------------------------------------------------------\n",
      "ridge       \t\t 0.654\t\t 0.168\t\t 0.011s\t\t 0.006s\n",
      "-------------------------------------------------------------------------------------\n",
      "lasso       \t\t 0.658\t\t 0.177\t\t 0.039s\t\t 0.006s\n",
      "-------------------------------------------------------------------------------------\n",
      "quantile    \t\t -0.071\t\t -0.042\t\t 0.09s\t\t 0.004s\n",
      "-------------------------------------------------------------------------------------\n",
      "sgd         \t\t 0.657\t\t 0.170\t\t 0.108s\t\t 0.006s\n",
      "-------------------------------------------------------------------------------------\n",
      "lin_svm     \t\t -0.157\t\t -0.089\t\t 0.008s\t\t 0.005s\n",
      "-------------------------------------------------------------------------------------\n",
      "knn         \t\t 0.700\t\t 0.098\t\t 0.008s\t\t 0.008s\n",
      "-------------------------------------------------------------------------------------\n",
      "pls1        \t\t 0.646\t\t 0.161\t\t 0.012s\t\t 0.006s\n",
      "-------------------------------------------------------------------------------------\n",
      "gaussian    \t\t 0.891\t\t -173.375\t\t 0.13s\t\t 0.028s\n",
      "-------------------------------------------------------------------------------------\n"
     ]
    },
    {
     "name": "stdout",
     "output_type": "stream",
     "text": [
      "forest      \t\t 0.952\t\t 0.196\t\t 0.51s\t\t 0.014s\n",
      "-------------------------------------------------------------------------------------\n",
      "bagging     \t\t 0.930\t\t 0.179\t\t 0.054s\t\t 0.006s\n",
      "-------------------------------------------------------------------------------------\n",
      "adaboost    \t\t 0.837\t\t 0.221\t\t 0.027s\t\t 0.005s\n",
      "-------------------------------------------------------------------------------------\n",
      "gradboost   \t\t 0.941\t\t 0.174\t\t 0.107s\t\t 0.005s\n",
      "-------------------------------------------------------------------------------------\n",
      "histgboost  \t\t 0.675\t\t 0.243\t\t 0.186s\t\t 0.006s\n",
      "-------------------------------------------------------------------------------------\n",
      "xgb         \t\t 0.995\t\t 0.199\t\t 0.137s\t\t 0.007s\n",
      "-------------------------------------------------------------------------------------\n",
      "neur_net    \t\t 0.633\t\t 0.130\t\t 1.272s\t\t 0.004s\n",
      "-------------------------------------------------------------------------------------\n"
     ]
    }
   ],
   "source": [
    "models = {'dummy': DummyRegressor(strategy='mean'),\n",
    "          'lin_reg': LinearRegression(),\n",
    "          'ridge': Ridge(random_state=42),\n",
    "          'lasso': Lasso(random_state=42),\n",
    "          #'ransac': RANSACRegressor(random_state=42),\n",
    "          'quantile': QuantileRegressor(solver='highs'),\n",
    "          'sgd': SGDRegressor(random_state=42),\n",
    "          'lin_svm': LinearSVR(random_state=42),\n",
    "          'knn': KNeighborsRegressor(),\n",
    "          'pls1': PLSRegression(),\n",
    "          'gaussian': GaussianProcessRegressor(random_state=42),\n",
    "          'forest': RandomForestRegressor(random_state=42),\n",
    "          'bagging': BaggingRegressor(random_state=42),\n",
    "          'adaboost': AdaBoostRegressor(random_state=42),\n",
    "          'gradboost': GradientBoostingRegressor(random_state=42),\n",
    "          'histgboost': HistGradientBoostingRegressor(random_state=42),\n",
    "          'xgb': XGBRegressor(random_state=42),\n",
    "          'neur_net': MLPRegressor(hidden_layer_sizes=[10]*10, random_state=42)\n",
    "         }\n",
    "\n",
    "model_results = model_comparison(models, X_train, y_train, X_test, y_test, col_transformer)"
   ]
  },
  {
   "cell_type": "code",
   "execution_count": 92,
   "id": "ec5e9f29",
   "metadata": {},
   "outputs": [
    {
     "data": {
      "text/html": [
       "<div>\n",
       "<style scoped>\n",
       "    .dataframe tbody tr th:only-of-type {\n",
       "        vertical-align: middle;\n",
       "    }\n",
       "\n",
       "    .dataframe tbody tr th {\n",
       "        vertical-align: top;\n",
       "    }\n",
       "\n",
       "    .dataframe thead th {\n",
       "        text-align: right;\n",
       "    }\n",
       "</style>\n",
       "<table border=\"1\" class=\"dataframe\">\n",
       "  <thead>\n",
       "    <tr style=\"text-align: right;\">\n",
       "      <th></th>\n",
       "      <th>train_score</th>\n",
       "      <th>test_score</th>\n",
       "      <th>fit_time</th>\n",
       "      <th>predict_time</th>\n",
       "    </tr>\n",
       "    <tr>\n",
       "      <th>model</th>\n",
       "      <th></th>\n",
       "      <th></th>\n",
       "      <th></th>\n",
       "      <th></th>\n",
       "    </tr>\n",
       "  </thead>\n",
       "  <tbody>\n",
       "    <tr>\n",
       "      <th>histgboost</th>\n",
       "      <td>0.6750</td>\n",
       "      <td>0.2429</td>\n",
       "      <td>0.1863</td>\n",
       "      <td>0.0062</td>\n",
       "    </tr>\n",
       "    <tr>\n",
       "      <th>adaboost</th>\n",
       "      <td>0.8367</td>\n",
       "      <td>0.2213</td>\n",
       "      <td>0.0266</td>\n",
       "      <td>0.0055</td>\n",
       "    </tr>\n",
       "    <tr>\n",
       "      <th>xgb</th>\n",
       "      <td>0.9954</td>\n",
       "      <td>0.1990</td>\n",
       "      <td>0.1367</td>\n",
       "      <td>0.0065</td>\n",
       "    </tr>\n",
       "    <tr>\n",
       "      <th>forest</th>\n",
       "      <td>0.9525</td>\n",
       "      <td>0.1957</td>\n",
       "      <td>0.5102</td>\n",
       "      <td>0.0139</td>\n",
       "    </tr>\n",
       "    <tr>\n",
       "      <th>bagging</th>\n",
       "      <td>0.9302</td>\n",
       "      <td>0.1790</td>\n",
       "      <td>0.0543</td>\n",
       "      <td>0.0061</td>\n",
       "    </tr>\n",
       "    <tr>\n",
       "      <th>lasso</th>\n",
       "      <td>0.6583</td>\n",
       "      <td>0.1768</td>\n",
       "      <td>0.0393</td>\n",
       "      <td>0.0060</td>\n",
       "    </tr>\n",
       "    <tr>\n",
       "      <th>gradboost</th>\n",
       "      <td>0.9407</td>\n",
       "      <td>0.1743</td>\n",
       "      <td>0.1073</td>\n",
       "      <td>0.0047</td>\n",
       "    </tr>\n",
       "    <tr>\n",
       "      <th>lin_reg</th>\n",
       "      <td>0.6552</td>\n",
       "      <td>0.1710</td>\n",
       "      <td>0.0096</td>\n",
       "      <td>0.0059</td>\n",
       "    </tr>\n",
       "    <tr>\n",
       "      <th>sgd</th>\n",
       "      <td>0.6569</td>\n",
       "      <td>0.1699</td>\n",
       "      <td>0.1079</td>\n",
       "      <td>0.0060</td>\n",
       "    </tr>\n",
       "    <tr>\n",
       "      <th>ridge</th>\n",
       "      <td>0.6544</td>\n",
       "      <td>0.1675</td>\n",
       "      <td>0.0111</td>\n",
       "      <td>0.0061</td>\n",
       "    </tr>\n",
       "    <tr>\n",
       "      <th>pls1</th>\n",
       "      <td>0.6460</td>\n",
       "      <td>0.1610</td>\n",
       "      <td>0.0115</td>\n",
       "      <td>0.0064</td>\n",
       "    </tr>\n",
       "    <tr>\n",
       "      <th>neur_net</th>\n",
       "      <td>0.6329</td>\n",
       "      <td>0.1304</td>\n",
       "      <td>1.2725</td>\n",
       "      <td>0.0044</td>\n",
       "    </tr>\n",
       "    <tr>\n",
       "      <th>knn</th>\n",
       "      <td>0.7003</td>\n",
       "      <td>0.0977</td>\n",
       "      <td>0.0078</td>\n",
       "      <td>0.0083</td>\n",
       "    </tr>\n",
       "    <tr>\n",
       "      <th>dummy</th>\n",
       "      <td>0.0000</td>\n",
       "      <td>-0.0001</td>\n",
       "      <td>0.0136</td>\n",
       "      <td>0.0069</td>\n",
       "    </tr>\n",
       "    <tr>\n",
       "      <th>quantile</th>\n",
       "      <td>-0.0714</td>\n",
       "      <td>-0.0420</td>\n",
       "      <td>0.0900</td>\n",
       "      <td>0.0045</td>\n",
       "    </tr>\n",
       "    <tr>\n",
       "      <th>lin_svm</th>\n",
       "      <td>-0.1571</td>\n",
       "      <td>-0.0892</td>\n",
       "      <td>0.0083</td>\n",
       "      <td>0.0046</td>\n",
       "    </tr>\n",
       "    <tr>\n",
       "      <th>gaussian</th>\n",
       "      <td>0.8907</td>\n",
       "      <td>-173.3752</td>\n",
       "      <td>0.1305</td>\n",
       "      <td>0.0280</td>\n",
       "    </tr>\n",
       "  </tbody>\n",
       "</table>\n",
       "</div>"
      ],
      "text/plain": [
       "            train_score  test_score  fit_time  predict_time\n",
       "model                                                      \n",
       "histgboost       0.6750      0.2429    0.1863        0.0062\n",
       "adaboost         0.8367      0.2213    0.0266        0.0055\n",
       "xgb              0.9954      0.1990    0.1367        0.0065\n",
       "forest           0.9525      0.1957    0.5102        0.0139\n",
       "bagging          0.9302      0.1790    0.0543        0.0061\n",
       "lasso            0.6583      0.1768    0.0393        0.0060\n",
       "gradboost        0.9407      0.1743    0.1073        0.0047\n",
       "lin_reg          0.6552      0.1710    0.0096        0.0059\n",
       "sgd              0.6569      0.1699    0.1079        0.0060\n",
       "ridge            0.6544      0.1675    0.0111        0.0061\n",
       "pls1             0.6460      0.1610    0.0115        0.0064\n",
       "neur_net         0.6329      0.1304    1.2725        0.0044\n",
       "knn              0.7003      0.0977    0.0078        0.0083\n",
       "dummy            0.0000     -0.0001    0.0136        0.0069\n",
       "quantile        -0.0714     -0.0420    0.0900        0.0045\n",
       "lin_svm         -0.1571     -0.0892    0.0083        0.0046\n",
       "gaussian         0.8907   -173.3752    0.1305        0.0280"
      ]
     },
     "execution_count": 92,
     "metadata": {},
     "output_type": "execute_result"
    }
   ],
   "source": [
    "model_results.sort_values(by=\"test_score\", ascending=False)"
   ]
  },
  {
   "cell_type": "markdown",
   "metadata": {},
   "source": [
    "## Prédictions avec XGBoost"
   ]
  },
  {
   "cell_type": "markdown",
   "metadata": {},
   "source": [
    "Sur toutes les caractéristiques sauf `ThirdLargestPropertyUseTypeGFA` et `ThirdLargestPropertyUseType` qui contient trop de valeurs manquantes"
   ]
  },
  {
   "cell_type": "code",
   "execution_count": 111,
   "metadata": {},
   "outputs": [
    {
     "data": {
      "text/html": [
       "<div>\n",
       "<style scoped>\n",
       "    .dataframe tbody tr th:only-of-type {\n",
       "        vertical-align: middle;\n",
       "    }\n",
       "\n",
       "    .dataframe tbody tr th {\n",
       "        vertical-align: top;\n",
       "    }\n",
       "\n",
       "    .dataframe thead th {\n",
       "        text-align: right;\n",
       "    }\n",
       "</style>\n",
       "<table border=\"1\" class=\"dataframe\">\n",
       "  <thead>\n",
       "    <tr style=\"text-align: right;\">\n",
       "      <th></th>\n",
       "      <th>PrimaryPropertyType</th>\n",
       "      <th>CouncilDistrictCode</th>\n",
       "      <th>Neighborhood</th>\n",
       "      <th>YearBuilt</th>\n",
       "      <th>NumberofFloors</th>\n",
       "      <th>PropertyGFATotal</th>\n",
       "      <th>LargestPropertyUseType</th>\n",
       "      <th>LargestPropertyUseTypeGFA</th>\n",
       "      <th>SecondLargestPropertyUseType</th>\n",
       "      <th>SecondLargestPropertyUseTypeGFA</th>\n",
       "      <th>ENERGYSTARScore</th>\n",
       "    </tr>\n",
       "  </thead>\n",
       "  <tbody>\n",
       "    <tr>\n",
       "      <th>0</th>\n",
       "      <td>Hotel</td>\n",
       "      <td>7</td>\n",
       "      <td>DOWNTOWN</td>\n",
       "      <td>1927</td>\n",
       "      <td>12</td>\n",
       "      <td>88434</td>\n",
       "      <td>Hotel</td>\n",
       "      <td>88434.0</td>\n",
       "      <td>NaN</td>\n",
       "      <td>0.0</td>\n",
       "      <td>60.0</td>\n",
       "    </tr>\n",
       "    <tr>\n",
       "      <th>1</th>\n",
       "      <td>Hotel</td>\n",
       "      <td>7</td>\n",
       "      <td>DOWNTOWN</td>\n",
       "      <td>1996</td>\n",
       "      <td>11</td>\n",
       "      <td>103566</td>\n",
       "      <td>Hotel</td>\n",
       "      <td>83880.0</td>\n",
       "      <td>Parking</td>\n",
       "      <td>15064.0</td>\n",
       "      <td>61.0</td>\n",
       "    </tr>\n",
       "    <tr>\n",
       "      <th>2</th>\n",
       "      <td>Hotel</td>\n",
       "      <td>7</td>\n",
       "      <td>DOWNTOWN</td>\n",
       "      <td>1969</td>\n",
       "      <td>41</td>\n",
       "      <td>956110</td>\n",
       "      <td>Hotel</td>\n",
       "      <td>756493.0</td>\n",
       "      <td>NaN</td>\n",
       "      <td>0.0</td>\n",
       "      <td>43.0</td>\n",
       "    </tr>\n",
       "    <tr>\n",
       "      <th>3</th>\n",
       "      <td>Hotel</td>\n",
       "      <td>7</td>\n",
       "      <td>DOWNTOWN</td>\n",
       "      <td>1926</td>\n",
       "      <td>10</td>\n",
       "      <td>61320</td>\n",
       "      <td>Hotel</td>\n",
       "      <td>61320.0</td>\n",
       "      <td>NaN</td>\n",
       "      <td>0.0</td>\n",
       "      <td>56.0</td>\n",
       "    </tr>\n",
       "    <tr>\n",
       "      <th>4</th>\n",
       "      <td>Hotel</td>\n",
       "      <td>7</td>\n",
       "      <td>DOWNTOWN</td>\n",
       "      <td>1980</td>\n",
       "      <td>18</td>\n",
       "      <td>175580</td>\n",
       "      <td>Hotel</td>\n",
       "      <td>123445.0</td>\n",
       "      <td>Parking</td>\n",
       "      <td>68009.0</td>\n",
       "      <td>75.0</td>\n",
       "    </tr>\n",
       "  </tbody>\n",
       "</table>\n",
       "</div>"
      ],
      "text/plain": [
       "  PrimaryPropertyType  CouncilDistrictCode Neighborhood  YearBuilt  \\\n",
       "0               Hotel                    7     DOWNTOWN       1927   \n",
       "1               Hotel                    7     DOWNTOWN       1996   \n",
       "2               Hotel                    7     DOWNTOWN       1969   \n",
       "3               Hotel                    7     DOWNTOWN       1926   \n",
       "4               Hotel                    7     DOWNTOWN       1980   \n",
       "\n",
       "   NumberofFloors  PropertyGFATotal LargestPropertyUseType  \\\n",
       "0              12             88434                  Hotel   \n",
       "1              11            103566                  Hotel   \n",
       "2              41            956110                  Hotel   \n",
       "3              10             61320                  Hotel   \n",
       "4              18            175580                  Hotel   \n",
       "\n",
       "   LargestPropertyUseTypeGFA SecondLargestPropertyUseType  \\\n",
       "0                    88434.0                          NaN   \n",
       "1                    83880.0                      Parking   \n",
       "2                   756493.0                          NaN   \n",
       "3                    61320.0                          NaN   \n",
       "4                   123445.0                      Parking   \n",
       "\n",
       "   SecondLargestPropertyUseTypeGFA  ENERGYSTARScore  \n",
       "0                              0.0             60.0  \n",
       "1                          15064.0             61.0  \n",
       "2                              0.0             43.0  \n",
       "3                              0.0             56.0  \n",
       "4                          68009.0             75.0  "
      ]
     },
     "execution_count": 111,
     "metadata": {},
     "output_type": "execute_result"
    }
   ],
   "source": [
    "cols_todrop = [\"ThirdLargestPropertyUseType\", \"ThirdLargestPropertyUseTypeGFA\", \"SiteEUIWN(kBtu/sf)\", \"SiteEnergyUseWN(kBtu)\",\n",
    "               \"SteamUse(kBtu)\", \"Electricity(kBtu)\", \"NaturalGas(kBtu)\", \"TotalGHGEmissions\", \"GHGEmissionsIntensity\"]\n",
    "X = df.drop(columns=cols_todrop)\n",
    "X.head()"
   ]
  },
  {
   "cell_type": "code",
   "execution_count": 112,
   "metadata": {},
   "outputs": [
    {
     "data": {
      "text/plain": [
       "PrimaryPropertyType                 object\n",
       "CouncilDistrictCode                  int64\n",
       "Neighborhood                        object\n",
       "YearBuilt                            int64\n",
       "NumberofFloors                       int64\n",
       "PropertyGFATotal                     int64\n",
       "LargestPropertyUseType              object\n",
       "LargestPropertyUseTypeGFA          float64\n",
       "SecondLargestPropertyUseType        object\n",
       "SecondLargestPropertyUseTypeGFA    float64\n",
       "ENERGYSTARScore                    float64\n",
       "dtype: object"
      ]
     },
     "execution_count": 112,
     "metadata": {},
     "output_type": "execute_result"
    }
   ],
   "source": [
    "X.dtypes"
   ]
  },
  {
   "cell_type": "code",
   "execution_count": 113,
   "metadata": {},
   "outputs": [
    {
     "data": {
      "text/plain": [
       "PrimaryPropertyType                category\n",
       "CouncilDistrictCode                    int8\n",
       "Neighborhood                       category\n",
       "YearBuilt                             int16\n",
       "NumberofFloors                         int8\n",
       "PropertyGFATotal                      int32\n",
       "LargestPropertyUseType             category\n",
       "LargestPropertyUseTypeGFA           float32\n",
       "SecondLargestPropertyUseType       category\n",
       "SecondLargestPropertyUseTypeGFA     float32\n",
       "ENERGYSTARScore                     float32\n",
       "dtype: object"
      ]
     },
     "execution_count": 113,
     "metadata": {},
     "output_type": "execute_result"
    }
   ],
   "source": [
    "for col in X.select_dtypes(object):\n",
    "    X[col] = X[col].astype(\"category\")\n",
    "for col in X.select_dtypes(int):\n",
    "    X[col] = pd.to_numeric(X[col], downcast=\"integer\")\n",
    "for col in X.select_dtypes(float):\n",
    "    X[col] = pd.to_numeric(X[col], downcast=\"float\")\n",
    "X.dtypes"
   ]
  },
  {
   "cell_type": "code",
   "execution_count": 114,
   "metadata": {},
   "outputs": [
    {
     "name": "stdout",
     "output_type": "stream",
     "text": [
      "Score          Train          Test           \n",
      "R2             1.0            0.24           \n",
      "MAPE           0.088          0.712          \n",
      "MAE            137578.95      4372832.5      \n",
      "MedAE          81909.0        996892.75      \n"
     ]
    }
   ],
   "source": [
    "X_train, X_test, y_train, y_test = train_test_split(X, y, test_size=0.20, random_state=42)\n",
    "\n",
    "model = XGBRegressor(random_state=0, enable_categorical=True, tree_method=\"hist\")\n",
    "model.fit(X_train, y_train)\n",
    "\n",
    "model_evaluation_2(model, X_train, X_test, y_train, y_test)"
   ]
  },
  {
   "cell_type": "markdown",
   "metadata": {},
   "source": [
    "### Grid Search"
   ]
  },
  {
   "cell_type": "code",
   "execution_count": 115,
   "metadata": {},
   "outputs": [],
   "source": [
    "from sklearn.model_selection import GridSearchCV"
   ]
  },
  {
   "cell_type": "markdown",
   "metadata": {},
   "source": [
    "évaluation sur le $R^2$ :"
   ]
  },
  {
   "cell_type": "code",
   "execution_count": 116,
   "metadata": {},
   "outputs": [
    {
     "name": "stdout",
     "output_type": "stream",
     "text": [
      "Fitting 5 folds for each of 108 candidates, totalling 540 fits\n"
     ]
    },
    {
     "name": "stdout",
     "output_type": "stream",
     "text": [
      "Best set of hyperparameters:  {'learning_rate': 0.1, 'max_depth': 5, 'n_estimators': 200, 'subsample': 0.5}\n",
      "Best score:  0.7100022609178132\n",
      "CPU times: user 2.59 s, sys: 192 ms, total: 2.78 s\n",
      "Wall time: 9.66 s\n"
     ]
    }
   ],
   "source": [
    "%%time\n",
    "# Define the hyperparameter grid\n",
    "param_grid = {\n",
    "    'n_estimators': [10, 50, 200],\n",
    "    'max_depth': [2, 3, 5, 7],\n",
    "    'learning_rate': [0.1, 0.01, 0.001],\n",
    "    'subsample': [0.5, 0.75, 1],\n",
    "}\n",
    "\n",
    "# Create the XGBoost model object\n",
    "xgb = XGBRegressor(random_state=0, enable_categorical=True, tree_method=\"hist\")\n",
    "\n",
    "# Create the GridSearchCV object\n",
    "grid_search = GridSearchCV(xgb, param_grid, cv=5, scoring='r2', n_jobs=-1, verbose=1)\n",
    "\n",
    "# Fit the GridSearchCV object to the training data\n",
    "grid_search.fit(X_train, y_train)\n",
    "\n",
    "# Print the best set of hyperparameters and the corresponding score\n",
    "print(\"Best set of hyperparameters: \", grid_search.best_params_)\n",
    "print(\"Best score: \", grid_search.best_score_)"
   ]
  },
  {
   "cell_type": "code",
   "execution_count": 117,
   "metadata": {},
   "outputs": [
    {
     "name": "stdout",
     "output_type": "stream",
     "text": [
      "Score          Train          Test           \n",
      "R2             0.997          0.164          \n",
      "MAPE           0.394          0.664          \n",
      "MAE            803299.06      4906201.5      \n",
      "MedAE          533609.9       1066091.2      \n"
     ]
    }
   ],
   "source": [
    "xgb = XGBRegressor(random_state=0, enable_categorical=True, tree_method=\"hist\", **grid_search.best_params_)\n",
    "xgb.fit(X_train, y_train)\n",
    "\n",
    "model_evaluation_2(xgb, X_train, X_test, y_train, y_test)"
   ]
  },
  {
   "cell_type": "markdown",
   "metadata": {},
   "source": [
    "évaluation sur la MAE :"
   ]
  },
  {
   "cell_type": "code",
   "execution_count": 118,
   "metadata": {},
   "outputs": [
    {
     "name": "stdout",
     "output_type": "stream",
     "text": [
      "Fitting 5 folds for each of 108 candidates, totalling 540 fits\n",
      "Best set of hyperparameters:  {'learning_rate': 0.1, 'max_depth': 5, 'n_estimators': 200, 'subsample': 0.5}\n",
      "Best score:  -3267924.35\n",
      "CPU times: user 2.6 s, sys: 106 ms, total: 2.7 s\n",
      "Wall time: 8.94 s\n"
     ]
    }
   ],
   "source": [
    "%%time\n",
    "# Define the hyperparameter grid\n",
    "param_grid = {\n",
    "    'n_estimators': [10, 50, 200],\n",
    "    'max_depth': [2, 3, 5, 7],\n",
    "    'learning_rate': [0.1, 0.01, 0.001],\n",
    "    'subsample': [0.5, 0.75, 1],\n",
    "}\n",
    "\n",
    "# Create the XGBoost model object\n",
    "xgb = XGBRegressor(random_state=0, enable_categorical=True, tree_method=\"hist\")\n",
    "\n",
    "# Create the GridSearchCV object\n",
    "grid_search = GridSearchCV(xgb, param_grid, cv=5, scoring='neg_mean_absolute_error', n_jobs=-1, verbose=1)\n",
    "\n",
    "# Fit the GridSearchCV object to the training data\n",
    "grid_search.fit(X_train, y_train)\n",
    "\n",
    "# Print the best set of hyperparameters and the corresponding score\n",
    "print(\"Best set of hyperparameters: \", grid_search.best_params_)\n",
    "print(\"Best score: \", grid_search.best_score_)"
   ]
  },
  {
   "cell_type": "code",
   "execution_count": 119,
   "metadata": {},
   "outputs": [
    {
     "name": "stdout",
     "output_type": "stream",
     "text": [
      "Score          Train          Test           \n",
      "R2             0.997          0.164          \n",
      "MAPE           0.394          0.664          \n",
      "MAE            803299.06      4906201.5      \n",
      "MedAE          533609.9       1066091.2      \n"
     ]
    }
   ],
   "source": [
    "xgb = XGBRegressor(random_state=0, enable_categorical=True, tree_method=\"hist\", **grid_search.best_params_)\n",
    "xgb.fit(X_train, y_train)\n",
    "\n",
    "model_evaluation_2(xgb, X_train, X_test, y_train, y_test)"
   ]
  },
  {
   "cell_type": "markdown",
   "metadata": {},
   "source": [
    "Même résultats qu'en évaluant sur le $R^2$, le modèle overfit clairement"
   ]
  },
  {
   "cell_type": "markdown",
   "metadata": {},
   "source": [
    "## XGBoost avec quelques caractéristiques"
   ]
  },
  {
   "cell_type": "code",
   "execution_count": 120,
   "metadata": {},
   "outputs": [],
   "source": [
    "X = df[['PrimaryPropertyType', 'CouncilDistrictCode', 'PropertyGFATotal']]\n",
    "X[\"PrimaryPropertyType\"] = X[\"PrimaryPropertyType\"].astype(\"category\")\n",
    "X[\"CouncilDistrictCode\"] = X[\"CouncilDistrictCode\"].astype(\"category\")\n",
    "X[\"PropertyGFATotal\"] = pd.to_numeric(X[\"PropertyGFATotal\"], downcast=\"integer\")"
   ]
  },
  {
   "cell_type": "code",
   "execution_count": 121,
   "metadata": {},
   "outputs": [
    {
     "data": {
      "text/plain": [
       "PrimaryPropertyType    0.0\n",
       "CouncilDistrictCode    0.0\n",
       "PropertyGFATotal       0.0\n",
       "dtype: float64"
      ]
     },
     "execution_count": 121,
     "metadata": {},
     "output_type": "execute_result"
    }
   ],
   "source": [
    "X.isna().mean()"
   ]
  },
  {
   "cell_type": "code",
   "execution_count": 122,
   "metadata": {},
   "outputs": [
    {
     "name": "stdout",
     "output_type": "stream",
     "text": [
      "Score          Train          Test           \n",
      "R2             1.0            0.24           \n",
      "MAPE           0.088          0.712          \n",
      "MAE            137578.95      4372832.5      \n",
      "MedAE          81909.0        996892.75      \n"
     ]
    }
   ],
   "source": [
    "xgb = XGBRegressor(random_state=0, enable_categorical=True, tree_method=\"hist\")\n",
    "xgb.fit(X_train, y_train)\n",
    "\n",
    "y_fit, y_pred = model_evaluation_2(xgb, X_train, X_test, y_train, y_test, return_preds=True)"
   ]
  },
  {
   "cell_type": "code",
   "execution_count": 123,
   "metadata": {},
   "outputs": [
    {
     "data": {
      "text/plain": [
       "<seaborn.axisgrid.FacetGrid at 0x13fb071d0>"
      ]
     },
     "execution_count": 123,
     "metadata": {},
     "output_type": "execute_result"
    },
    {
     "data": {
      "image/png": "[encoded data removed]",
      "text/plain": [
       "<Figure size 500x500 with 1 Axes>"
      ]
     },
     "metadata": {},
     "output_type": "display_data"
    }
   ],
   "source": [
    "residuals = np.abs(y_train - y_fit)\n",
    "sns.displot(x=residuals, log_scale=True)"
   ]
  },
  {
   "cell_type": "markdown",
   "metadata": {},
   "source": [
    "### Grid Search"
   ]
  },
  {
   "cell_type": "code",
   "execution_count": 124,
   "metadata": {},
   "outputs": [],
   "source": [
    "from sklearn.model_selection import GridSearchCV"
   ]
  },
  {
   "cell_type": "markdown",
   "metadata": {},
   "source": [
    "évaluation sur le $R^2$ :"
   ]
  },
  {
   "cell_type": "code",
   "execution_count": 125,
   "metadata": {},
   "outputs": [
    {
     "name": "stdout",
     "output_type": "stream",
     "text": [
      "Fitting 5 folds for each of 108 candidates, totalling 540 fits\n",
      "Best set of hyperparameters:  {'learning_rate': 0.1, 'max_depth': 5, 'n_estimators': 200, 'subsample': 0.5}\n",
      "Best score:  0.7100022609178132\n",
      "CPU times: user 2.62 s, sys: 96.9 ms, total: 2.72 s\n",
      "Wall time: 7.69 s\n"
     ]
    }
   ],
   "source": [
    "%%time\n",
    "# Define the hyperparameter grid\n",
    "param_grid = {\n",
    "    'n_estimators': [10, 50, 200],\n",
    "    'max_depth': [2, 3, 5, 7],\n",
    "    'learning_rate': [0.1, 0.01, 0.001],\n",
    "    'subsample': [0.5, 0.75, 1],\n",
    "}\n",
    "\n",
    "# Create the XGBoost model object\n",
    "xgb = XGBRegressor(random_state=0, enable_categorical=True, tree_method=\"hist\")\n",
    "\n",
    "# Create the GridSearchCV object\n",
    "grid_search = GridSearchCV(xgb, param_grid, cv=5, scoring='r2', n_jobs=-1, verbose=1)\n",
    "\n",
    "# Fit the GridSearchCV object to the training data\n",
    "grid_search.fit(X_train, y_train)\n",
    "\n",
    "# Print the best set of hyperparameters and the corresponding score\n",
    "print(\"Best set of hyperparameters: \", grid_search.best_params_)\n",
    "print(\"Best score: \", grid_search.best_score_)"
   ]
  },
  {
   "cell_type": "code",
   "execution_count": 126,
   "metadata": {},
   "outputs": [
    {
     "name": "stdout",
     "output_type": "stream",
     "text": [
      "Score          Train          Test           \n",
      "R2             0.997          0.164          \n",
      "MAPE           0.394          0.664          \n",
      "MAE            803299.06      4906201.5      \n",
      "MedAE          533609.9       1066091.2      \n"
     ]
    }
   ],
   "source": [
    "xgb = XGBRegressor(random_state=0, enable_categorical=True, tree_method=\"hist\", **grid_search.best_params_)\n",
    "xgb.fit(X_train, y_train)\n",
    "\n",
    "model_evaluation_2(xgb, X_train, X_test, y_train, y_test)"
   ]
  },
  {
   "cell_type": "markdown",
   "metadata": {},
   "source": [
    "évaluation sur la MAE :"
   ]
  },
  {
   "cell_type": "code",
   "execution_count": 127,
   "metadata": {},
   "outputs": [
    {
     "name": "stdout",
     "output_type": "stream",
     "text": [
      "Fitting 5 folds for each of 108 candidates, totalling 540 fits\n",
      "Best set of hyperparameters:  {'learning_rate': 0.1, 'max_depth': 5, 'n_estimators': 200, 'subsample': 0.5}\n",
      "Best score:  -3267924.35\n",
      "CPU times: user 3.09 s, sys: 160 ms, total: 3.25 s\n",
      "Wall time: 7.73 s\n"
     ]
    }
   ],
   "source": [
    "%%time\n",
    "# Define the hyperparameter grid\n",
    "param_grid = {\n",
    "    'n_estimators': [10, 50, 200],\n",
    "    'max_depth': [2, 3, 5, 7],\n",
    "    'learning_rate': [0.1, 0.01, 0.001],\n",
    "    'subsample': [0.5, 0.75, 1],\n",
    "}\n",
    "\n",
    "# Create the XGBoost model object\n",
    "xgb = XGBRegressor(random_state=0, enable_categorical=True, tree_method=\"hist\")\n",
    "\n",
    "# Create the GridSearchCV object\n",
    "grid_search = GridSearchCV(xgb, param_grid, cv=5, scoring='neg_mean_absolute_error', n_jobs=-1, verbose=1)\n",
    "\n",
    "# Fit the GridSearchCV object to the training data\n",
    "grid_search.fit(X_train, y_train)\n",
    "\n",
    "# Print the best set of hyperparameters and the corresponding score\n",
    "print(\"Best set of hyperparameters: \", grid_search.best_params_)\n",
    "print(\"Best score: \", grid_search.best_score_)"
   ]
  },
  {
   "cell_type": "code",
   "execution_count": 128,
   "metadata": {},
   "outputs": [
    {
     "name": "stdout",
     "output_type": "stream",
     "text": [
      "Score          Train          Test           \n",
      "R2             0.997          0.164          \n",
      "MAPE           0.394          0.664          \n",
      "MAE            803299.06      4906201.5      \n",
      "MedAE          533609.9       1066091.2      \n"
     ]
    }
   ],
   "source": [
    "xgb = XGBRegressor(random_state=0, enable_categorical=True, tree_method=\"hist\", **grid_search.best_params_)\n",
    "xgb.fit(X_train, y_train)\n",
    "\n",
    "model_evaluation_2(xgb, X_train, X_test, y_train, y_test)"
   ]
  },
  {
   "cell_type": "markdown",
   "metadata": {},
   "source": [
    "R2 moins bon sur le test mais amélioration sur la MAPE."
   ]
  },
  {
   "cell_type": "markdown",
   "id": "58a2b845",
   "metadata": {},
   "source": [
    "## Rajout des variables `YearBuilt` et `NumberofFloors`\n",
    "\n",
    "On va discrétiser les variables `YearBuilt` et `NumberofFloors` (voir [ce lien](https://scikit-learn.org/stable/modules/preprocessing.html#discretization) pour plus d'informations)"
   ]
  },
  {
   "cell_type": "code",
   "execution_count": 131,
   "id": "e972bf0c",
   "metadata": {},
   "outputs": [],
   "source": [
    "from sklearn.preprocessing import KBinsDiscretizer"
   ]
  },
  {
   "cell_type": "code",
   "execution_count": 132,
   "id": "7a37d38a",
   "metadata": {},
   "outputs": [
    {
     "data": {
      "text/html": [
       "<div>\n",
       "<style scoped>\n",
       "    .dataframe tbody tr th:only-of-type {\n",
       "        vertical-align: middle;\n",
       "    }\n",
       "\n",
       "    .dataframe tbody tr th {\n",
       "        vertical-align: top;\n",
       "    }\n",
       "\n",
       "    .dataframe thead th {\n",
       "        text-align: right;\n",
       "    }\n",
       "</style>\n",
       "<table border=\"1\" class=\"dataframe\">\n",
       "  <thead>\n",
       "    <tr style=\"text-align: right;\">\n",
       "      <th></th>\n",
       "      <th>YearBuilt</th>\n",
       "    </tr>\n",
       "  </thead>\n",
       "  <tbody>\n",
       "    <tr>\n",
       "      <th>0</th>\n",
       "      <td>1927</td>\n",
       "    </tr>\n",
       "    <tr>\n",
       "      <th>1</th>\n",
       "      <td>1996</td>\n",
       "    </tr>\n",
       "    <tr>\n",
       "      <th>2</th>\n",
       "      <td>1969</td>\n",
       "    </tr>\n",
       "    <tr>\n",
       "      <th>3</th>\n",
       "      <td>1926</td>\n",
       "    </tr>\n",
       "    <tr>\n",
       "      <th>4</th>\n",
       "      <td>1980</td>\n",
       "    </tr>\n",
       "  </tbody>\n",
       "</table>\n",
       "</div>"
      ],
      "text/plain": [
       "   YearBuilt\n",
       "0       1927\n",
       "1       1996\n",
       "2       1969\n",
       "3       1926\n",
       "4       1980"
      ]
     },
     "execution_count": 132,
     "metadata": {},
     "output_type": "execute_result"
    }
   ],
   "source": [
    "X_ = df[['YearBuilt']]\n",
    "X_.head()"
   ]
  },
  {
   "cell_type": "code",
   "execution_count": 133,
   "id": "7a33e0cb",
   "metadata": {},
   "outputs": [
    {
     "data": {
      "text/html": [
       "<div>\n",
       "<style scoped>\n",
       "    .dataframe tbody tr th:only-of-type {\n",
       "        vertical-align: middle;\n",
       "    }\n",
       "\n",
       "    .dataframe tbody tr th {\n",
       "        vertical-align: top;\n",
       "    }\n",
       "\n",
       "    .dataframe thead th {\n",
       "        text-align: right;\n",
       "    }\n",
       "</style>\n",
       "<table border=\"1\" class=\"dataframe\">\n",
       "  <thead>\n",
       "    <tr style=\"text-align: right;\">\n",
       "      <th></th>\n",
       "      <th>YearBuilt</th>\n",
       "    </tr>\n",
       "  </thead>\n",
       "  <tbody>\n",
       "    <tr>\n",
       "      <th>0</th>\n",
       "      <td>2.0</td>\n",
       "    </tr>\n",
       "    <tr>\n",
       "      <th>1</th>\n",
       "      <td>8.0</td>\n",
       "    </tr>\n",
       "    <tr>\n",
       "      <th>2</th>\n",
       "      <td>5.0</td>\n",
       "    </tr>\n",
       "    <tr>\n",
       "      <th>3</th>\n",
       "      <td>2.0</td>\n",
       "    </tr>\n",
       "    <tr>\n",
       "      <th>4</th>\n",
       "      <td>6.0</td>\n",
       "    </tr>\n",
       "  </tbody>\n",
       "</table>\n",
       "</div>"
      ],
      "text/plain": [
       "   YearBuilt\n",
       "0        2.0\n",
       "1        8.0\n",
       "2        5.0\n",
       "3        2.0\n",
       "4        6.0"
      ]
     },
     "execution_count": 133,
     "metadata": {},
     "output_type": "execute_result"
    }
   ],
   "source": [
    "nbins = 10\n",
    "est = KBinsDiscretizer(n_bins=nbins, encode='ordinal', strategy='quantile', subsample=None)\n",
    "X_transform = est.fit_transform(X_)\n",
    "X_transform.head()"
   ]
  },
  {
   "cell_type": "code",
   "execution_count": 134,
   "id": "05d87f66",
   "metadata": {},
   "outputs": [
    {
     "data": {
      "text/plain": [
       "array([array([1900. , 1912. , 1926. , 1948. , 1958. , 1965. , 1973. , 1983.9,\n",
       "              1995. , 2003. , 2015. ])                                       ],\n",
       "      dtype=object)"
      ]
     },
     "execution_count": 134,
     "metadata": {},
     "output_type": "execute_result"
    }
   ],
   "source": [
    "est.bin_edges_"
   ]
  },
  {
   "cell_type": "code",
   "execution_count": 135,
   "id": "063a1a96",
   "metadata": {},
   "outputs": [
    {
     "data": {
      "text/plain": [
       "<Axes: xlabel='YearBuilt', ylabel='Count'>"
      ]
     },
     "execution_count": 135,
     "metadata": {},
     "output_type": "execute_result"
    },
    {
     "data": {
      "image/png": "[encoded data removed]",
      "text/plain": [
       "<Figure size 640x480 with 1 Axes>"
      ]
     },
     "metadata": {},
     "output_type": "display_data"
    }
   ],
   "source": [
    "sns.histplot(data=X_transform, x='YearBuilt', bins=nbins)"
   ]
  },
  {
   "cell_type": "code",
   "execution_count": 136,
   "id": "89ea2e58",
   "metadata": {},
   "outputs": [
    {
     "data": {
      "text/plain": [
       "<Axes: xlabel='YearBuilt', ylabel='SiteEnergyUseWN(kBtu)'>"
      ]
     },
     "execution_count": 136,
     "metadata": {},
     "output_type": "execute_result"
    },
    {
     "data": {
      "image/png": "[encoded data removed]",
      "text/plain": [
       "<Figure size 640x480 with 1 Axes>"
      ]
     },
     "metadata": {},
     "output_type": "display_data"
    }
   ],
   "source": [
    "sns.boxplot(x=X_transform['YearBuilt'], y=df['SiteEnergyUseWN(kBtu)'], showfliers=False, showmeans=True,\n",
    "            meanprops={\"marker\": \"o\",\n",
    "                       \"markeredgecolor\": \"red\",\n",
    "                       \"markerfacecolor\": \"blue\",\n",
    "                       \"markersize\": \"6\"})"
   ]
  },
  {
   "cell_type": "markdown",
   "id": "feaca5cc",
   "metadata": {},
   "source": [
    "TODO : il faut chercher à maximiser le $R^2$ (ou bien le $\\eta^2$), c'est-à-dire le rapport entre la variance interclasse (somme des carrés estimés) et la variance totale (somme des carrés totaux).\n",
    "Voir ce cours [Openclassrooms](https://openclassrooms.com/fr/courses/7410486-nettoyez-et-analysez-votre-jeu-de-donnees/7428558-analysez-une-variable-quantitative-et-une-qualitative-par-anova) et le notebook __Réalisez des modélisations de données performantes/TP 4 - Pratiquez l'analyse de la variance sur le jeu de données du blé.ipynb__ dans les téléchargements."
   ]
  },
  {
   "cell_type": "markdown",
   "id": "9932af5c",
   "metadata": {},
   "source": [
    "Calcul du $\\eta^2$ et de la p-value pour différents nombres d'intervalles : (rajouter la p-value)"
   ]
  },
  {
   "cell_type": "code",
   "execution_count": 137,
   "id": "5c03b817",
   "metadata": {},
   "outputs": [],
   "source": [
    "def eta_squared(x,y):\n",
    "    moyenne_y = y.mean()\n",
    "    classes = []\n",
    "    for classe in x.unique():\n",
    "        yi_classe = y[x==classe]\n",
    "        classes.append({'ni': len(yi_classe),\n",
    "                        'moyenne_classe': yi_classe.mean()})\n",
    "    SCT = sum([(yj-moyenne_y)**2 for yj in y])\n",
    "    SCE = sum([c['ni']*(c['moyenne_classe']-moyenne_y)**2 for c in classes])\n",
    "    return SCE/SCT"
   ]
  },
  {
   "cell_type": "code",
   "execution_count": 166,
   "id": "3c87ff2f",
   "metadata": {},
   "outputs": [],
   "source": [
    "x = df[[\"YearBuilt\"]]\n",
    "y = df['SiteEnergyUseWN(kBtu)']\n",
    "nbins = 50\n",
    "eta_dic = {}\n",
    "for n in range(2, nbins):\n",
    "    est = KBinsDiscretizer(n_bins=n, encode='ordinal', strategy='quantile', subsample=None)\n",
    "    xt = est.fit_transform(x)[\"YearBuilt\"]\n",
    "    #print(\"bins :\", list(xt.value_counts().sort_index().index))\n",
    "    eta_dic[n] = eta_squared(xt, y)"
   ]
  },
  {
   "cell_type": "code",
   "execution_count": 175,
   "id": "d4a7ee45",
   "metadata": {},
   "outputs": [
    {
     "data": {
      "text/plain": [
       "2    0.014094\n",
       "3    0.023852\n",
       "4    0.022548\n",
       "5    0.019485\n",
       "6    0.024077\n",
       "dtype: float64"
      ]
     },
     "execution_count": 175,
     "metadata": {},
     "output_type": "execute_result"
    }
   ],
   "source": [
    "s_eta = pd.Series(eta_dic)\n",
    "s_eta.head()"
   ]
  },
  {
   "cell_type": "code",
   "execution_count": 176,
   "id": "f3c73f09",
   "metadata": {},
   "outputs": [
    {
     "data": {
      "text/plain": [
       "0.04558369242003886"
      ]
     },
     "execution_count": 176,
     "metadata": {},
     "output_type": "execute_result"
    }
   ],
   "source": [
    "s_eta.max()"
   ]
  },
  {
   "cell_type": "code",
   "execution_count": 177,
   "id": "236e97c6",
   "metadata": {},
   "outputs": [
    {
     "data": {
      "text/plain": [
       "40"
      ]
     },
     "execution_count": 177,
     "metadata": {},
     "output_type": "execute_result"
    }
   ],
   "source": [
    "s_eta.argmax()"
   ]
  },
  {
   "cell_type": "code",
   "execution_count": 178,
   "id": "f252f877",
   "metadata": {},
   "outputs": [
    {
     "data": {
      "text/plain": [
       "42"
      ]
     },
     "execution_count": 178,
     "metadata": {},
     "output_type": "execute_result"
    }
   ],
   "source": [
    "s_eta.idxmax()"
   ]
  },
  {
   "cell_type": "code",
   "execution_count": 179,
   "id": "b54d2e9d",
   "metadata": {},
   "outputs": [
    {
     "data": {
      "text/plain": [
       "0.04558369242003886"
      ]
     },
     "execution_count": 179,
     "metadata": {},
     "output_type": "execute_result"
    }
   ],
   "source": [
    "s_eta.iloc[40]"
   ]
  },
  {
   "cell_type": "code",
   "execution_count": 180,
   "id": "56aecb3f",
   "metadata": {},
   "outputs": [
    {
     "data": {
      "text/plain": [
       "0.04558369242003886"
      ]
     },
     "execution_count": 180,
     "metadata": {},
     "output_type": "execute_result"
    }
   ],
   "source": [
    "s_eta.loc[42]"
   ]
  },
  {
   "cell_type": "markdown",
   "id": "7bcd8241",
   "metadata": {},
   "source": [
    "# Prédiction sur le log de la target non normalisée"
   ]
  },
  {
   "cell_type": "code",
   "execution_count": null,
   "id": "7b7da46e",
   "metadata": {},
   "outputs": [],
   "source": []
  }
 ],
 "metadata": {
  "kernelspec": {
   "display_name": "Python 3",
   "language": "python",
   "name": "python3"
  },
  "language_info": {
   "codemirror_mode": {
    "name": "ipython",
    "version": 3
   },
   "file_extension": ".py",
   "mimetype": "text/x-python",
   "name": "python",
   "nbconvert_exporter": "python",
   "pygments_lexer": "ipython3",
   "version": "3.11.2"
  },
  "toc": {
   "base_numbering": 1,
   "nav_menu": {},
   "number_sections": true,
   "sideBar": true,
   "skip_h1_title": true,
   "title_cell": "Table of Contents",
   "title_sidebar": "Contents",
   "toc_cell": false,
   "toc_position": {},
   "toc_section_display": true,
   "toc_window_display": true
  }
 },
 "nbformat": 4,
 "nbformat_minor": 5
}
