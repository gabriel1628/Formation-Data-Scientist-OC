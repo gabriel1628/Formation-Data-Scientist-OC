{
 "cells": [
  {
   "cell_type": "code",
   "execution_count": 1,
   "id": "7803223a",
   "metadata": {
    "ExecuteTime": {
     "end_time": "2023-03-12T17:14:55.150274Z",
     "start_time": "2023-03-12T17:14:51.042774Z"
    }
   },
   "outputs": [],
   "source": [
    "import numpy as np\n",
    "\n",
    "import pandas as pd\n",
    "\n",
    "import matplotlib.pyplot as plt\n",
    "import seaborn as sns\n",
    "sns.set_theme()\n",
    "\n",
    "import warnings\n",
    "warnings.filterwarnings(\"ignore\")"
   ]
  },
  {
   "cell_type": "code",
   "execution_count": 2,
   "id": "cb299d37",
   "metadata": {
    "ExecuteTime": {
     "end_time": "2023-03-12T17:15:08.217316Z",
     "start_time": "2023-03-12T17:15:08.188912Z"
    }
   },
   "outputs": [
    {
     "name": "stdout",
     "output_type": "stream",
     "text": [
      "(1578, 17)\n"
     ]
    }
   ],
   "source": [
    "df = pd.read_csv('df_clean.csv', index_col=0)\n",
    "print(df.shape)"
   ]
  },
  {
   "cell_type": "code",
   "execution_count": 3,
   "id": "b837aa53",
   "metadata": {
    "ExecuteTime": {
     "end_time": "2023-03-12T17:15:11.193080Z",
     "start_time": "2023-03-12T17:15:11.163584Z"
    }
   },
   "outputs": [
    {
     "data": {
      "text/html": [
       "<div>\n",
       "<style scoped>\n",
       "    .dataframe tbody tr th:only-of-type {\n",
       "        vertical-align: middle;\n",
       "    }\n",
       "\n",
       "    .dataframe tbody tr th {\n",
       "        vertical-align: top;\n",
       "    }\n",
       "\n",
       "    .dataframe thead th {\n",
       "        text-align: right;\n",
       "    }\n",
       "</style>\n",
       "<table border=\"1\" class=\"dataframe\">\n",
       "  <thead>\n",
       "    <tr style=\"text-align: right;\">\n",
       "      <th></th>\n",
       "      <th>Neighborhood</th>\n",
       "      <th>YearBuilt</th>\n",
       "      <th>NumberofFloors</th>\n",
       "      <th>LargestPropertyUseType</th>\n",
       "      <th>LargestPropertyUseTypeGFA</th>\n",
       "      <th>SecondLargestPropertyUseType</th>\n",
       "      <th>SecondLargestPropertyUseTypeGFA</th>\n",
       "      <th>ThirdLargestPropertyUseType</th>\n",
       "      <th>ThirdLargestPropertyUseTypeGFA</th>\n",
       "      <th>ENERGYSTARScore</th>\n",
       "      <th>SiteEUIWN(kBtu/sf)</th>\n",
       "      <th>SiteEnergyUseWN(kBtu)</th>\n",
       "      <th>SteamUse(kBtu)</th>\n",
       "      <th>Electricity(kBtu)</th>\n",
       "      <th>NaturalGas(kBtu)</th>\n",
       "      <th>TotalGHGEmissions</th>\n",
       "      <th>GHGEmissionsIntensity</th>\n",
       "    </tr>\n",
       "  </thead>\n",
       "  <tbody>\n",
       "    <tr>\n",
       "      <th>0</th>\n",
       "      <td>DOWNTOWN</td>\n",
       "      <td>1927</td>\n",
       "      <td>12</td>\n",
       "      <td>Hotel</td>\n",
       "      <td>88434.0</td>\n",
       "      <td>None</td>\n",
       "      <td>0.0</td>\n",
       "      <td>None</td>\n",
       "      <td>0.0</td>\n",
       "      <td>60.0</td>\n",
       "      <td>84.300003</td>\n",
       "      <td>7456910.0</td>\n",
       "      <td>2003882.00</td>\n",
       "      <td>3946027.0</td>\n",
       "      <td>1276453.0</td>\n",
       "      <td>249.98</td>\n",
       "      <td>2.83</td>\n",
       "    </tr>\n",
       "    <tr>\n",
       "      <th>1</th>\n",
       "      <td>DOWNTOWN</td>\n",
       "      <td>1996</td>\n",
       "      <td>11</td>\n",
       "      <td>Hotel</td>\n",
       "      <td>83880.0</td>\n",
       "      <td>Parking</td>\n",
       "      <td>15064.0</td>\n",
       "      <td>Restaurant</td>\n",
       "      <td>4622.0</td>\n",
       "      <td>61.0</td>\n",
       "      <td>97.900002</td>\n",
       "      <td>8664479.0</td>\n",
       "      <td>0.00</td>\n",
       "      <td>3242851.0</td>\n",
       "      <td>5145082.0</td>\n",
       "      <td>295.86</td>\n",
       "      <td>2.86</td>\n",
       "    </tr>\n",
       "    <tr>\n",
       "      <th>2</th>\n",
       "      <td>DOWNTOWN</td>\n",
       "      <td>1969</td>\n",
       "      <td>41</td>\n",
       "      <td>Hotel</td>\n",
       "      <td>756493.0</td>\n",
       "      <td>None</td>\n",
       "      <td>0.0</td>\n",
       "      <td>None</td>\n",
       "      <td>0.0</td>\n",
       "      <td>43.0</td>\n",
       "      <td>97.699997</td>\n",
       "      <td>73937112.0</td>\n",
       "      <td>21566554.00</td>\n",
       "      <td>49526664.0</td>\n",
       "      <td>1493800.0</td>\n",
       "      <td>2089.28</td>\n",
       "      <td>2.19</td>\n",
       "    </tr>\n",
       "    <tr>\n",
       "      <th>3</th>\n",
       "      <td>DOWNTOWN</td>\n",
       "      <td>1926</td>\n",
       "      <td>10</td>\n",
       "      <td>Hotel</td>\n",
       "      <td>61320.0</td>\n",
       "      <td>None</td>\n",
       "      <td>0.0</td>\n",
       "      <td>None</td>\n",
       "      <td>0.0</td>\n",
       "      <td>56.0</td>\n",
       "      <td>113.300003</td>\n",
       "      <td>6946800.5</td>\n",
       "      <td>2214446.25</td>\n",
       "      <td>2768924.0</td>\n",
       "      <td>1811213.0</td>\n",
       "      <td>286.43</td>\n",
       "      <td>4.67</td>\n",
       "    </tr>\n",
       "    <tr>\n",
       "      <th>4</th>\n",
       "      <td>DOWNTOWN</td>\n",
       "      <td>1980</td>\n",
       "      <td>18</td>\n",
       "      <td>Hotel</td>\n",
       "      <td>123445.0</td>\n",
       "      <td>Parking</td>\n",
       "      <td>68009.0</td>\n",
       "      <td>Swimming Pool</td>\n",
       "      <td>0.0</td>\n",
       "      <td>75.0</td>\n",
       "      <td>118.699997</td>\n",
       "      <td>14656503.0</td>\n",
       "      <td>0.00</td>\n",
       "      <td>5368607.0</td>\n",
       "      <td>8803998.0</td>\n",
       "      <td>505.01</td>\n",
       "      <td>2.88</td>\n",
       "    </tr>\n",
       "  </tbody>\n",
       "</table>\n",
       "</div>"
      ],
      "text/plain": [
       "  Neighborhood  YearBuilt  NumberofFloors LargestPropertyUseType  \\\n",
       "0     DOWNTOWN       1927              12                  Hotel   \n",
       "1     DOWNTOWN       1996              11                  Hotel   \n",
       "2     DOWNTOWN       1969              41                  Hotel   \n",
       "3     DOWNTOWN       1926              10                  Hotel   \n",
       "4     DOWNTOWN       1980              18                  Hotel   \n",
       "\n",
       "   LargestPropertyUseTypeGFA SecondLargestPropertyUseType  \\\n",
       "0                    88434.0                         None   \n",
       "1                    83880.0                      Parking   \n",
       "2                   756493.0                         None   \n",
       "3                    61320.0                         None   \n",
       "4                   123445.0                      Parking   \n",
       "\n",
       "   SecondLargestPropertyUseTypeGFA ThirdLargestPropertyUseType  \\\n",
       "0                              0.0                        None   \n",
       "1                          15064.0                  Restaurant   \n",
       "2                              0.0                        None   \n",
       "3                              0.0                        None   \n",
       "4                          68009.0               Swimming Pool   \n",
       "\n",
       "   ThirdLargestPropertyUseTypeGFA  ENERGYSTARScore  SiteEUIWN(kBtu/sf)  \\\n",
       "0                             0.0             60.0           84.300003   \n",
       "1                          4622.0             61.0           97.900002   \n",
       "2                             0.0             43.0           97.699997   \n",
       "3                             0.0             56.0          113.300003   \n",
       "4                             0.0             75.0          118.699997   \n",
       "\n",
       "   SiteEnergyUseWN(kBtu)  SteamUse(kBtu)  Electricity(kBtu)  NaturalGas(kBtu)  \\\n",
       "0              7456910.0      2003882.00          3946027.0         1276453.0   \n",
       "1              8664479.0            0.00          3242851.0         5145082.0   \n",
       "2             73937112.0     21566554.00         49526664.0         1493800.0   \n",
       "3              6946800.5      2214446.25          2768924.0         1811213.0   \n",
       "4             14656503.0            0.00          5368607.0         8803998.0   \n",
       "\n",
       "   TotalGHGEmissions  GHGEmissionsIntensity  \n",
       "0             249.98                   2.83  \n",
       "1             295.86                   2.86  \n",
       "2            2089.28                   2.19  \n",
       "3             286.43                   4.67  \n",
       "4             505.01                   2.88  "
      ]
     },
     "execution_count": 3,
     "metadata": {},
     "output_type": "execute_result"
    }
   ],
   "source": [
    "df.head()"
   ]
  },
  {
   "cell_type": "code",
   "execution_count": 5,
   "id": "aa941005",
   "metadata": {
    "ExecuteTime": {
     "end_time": "2023-03-12T17:21:14.354775Z",
     "start_time": "2023-03-12T17:21:14.350482Z"
    }
   },
   "outputs": [
    {
     "name": "stdout",
     "output_type": "stream",
     "text": [
      "X shape : (1578, 10)\n",
      "y shape : (1578,)\n"
     ]
    }
   ],
   "source": [
    "X = df.drop(columns=['SiteEUIWN(kBtu/sf)',# 'SiteEnergyUseWN(kBtu)',\n",
    "                    'SteamUse(kBtu)', 'Electricity(kBtu)', 'NaturalGas(kBtu)',\n",
    "                    'TotalGHGEmissions', 'GHGEmissionsIntensity'])\n",
    "y = X.pop('SiteEnergyUseWN(kBtu)')\n",
    "print('X shape :', X.shape)\n",
    "print('y shape :', y.shape)"
   ]
  },
  {
   "cell_type": "code",
   "execution_count": 6,
   "id": "2ac5ddf5",
   "metadata": {
    "ExecuteTime": {
     "end_time": "2023-03-12T17:22:11.439798Z",
     "start_time": "2023-03-12T17:22:11.427188Z"
    }
   },
   "outputs": [
    {
     "data": {
      "text/html": [
       "<div>\n",
       "<style scoped>\n",
       "    .dataframe tbody tr th:only-of-type {\n",
       "        vertical-align: middle;\n",
       "    }\n",
       "\n",
       "    .dataframe tbody tr th {\n",
       "        vertical-align: top;\n",
       "    }\n",
       "\n",
       "    .dataframe thead th {\n",
       "        text-align: right;\n",
       "    }\n",
       "</style>\n",
       "<table border=\"1\" class=\"dataframe\">\n",
       "  <thead>\n",
       "    <tr style=\"text-align: right;\">\n",
       "      <th></th>\n",
       "      <th>Neighborhood</th>\n",
       "      <th>YearBuilt</th>\n",
       "      <th>NumberofFloors</th>\n",
       "      <th>LargestPropertyUseType</th>\n",
       "      <th>LargestPropertyUseTypeGFA</th>\n",
       "      <th>SecondLargestPropertyUseType</th>\n",
       "      <th>SecondLargestPropertyUseTypeGFA</th>\n",
       "      <th>ThirdLargestPropertyUseType</th>\n",
       "      <th>ThirdLargestPropertyUseTypeGFA</th>\n",
       "      <th>ENERGYSTARScore</th>\n",
       "    </tr>\n",
       "  </thead>\n",
       "  <tbody>\n",
       "    <tr>\n",
       "      <th>0</th>\n",
       "      <td>DOWNTOWN</td>\n",
       "      <td>1927</td>\n",
       "      <td>12</td>\n",
       "      <td>Hotel</td>\n",
       "      <td>88434.0</td>\n",
       "      <td>None</td>\n",
       "      <td>0.0</td>\n",
       "      <td>None</td>\n",
       "      <td>0.0</td>\n",
       "      <td>60.0</td>\n",
       "    </tr>\n",
       "    <tr>\n",
       "      <th>1</th>\n",
       "      <td>DOWNTOWN</td>\n",
       "      <td>1996</td>\n",
       "      <td>11</td>\n",
       "      <td>Hotel</td>\n",
       "      <td>83880.0</td>\n",
       "      <td>Parking</td>\n",
       "      <td>15064.0</td>\n",
       "      <td>Restaurant</td>\n",
       "      <td>4622.0</td>\n",
       "      <td>61.0</td>\n",
       "    </tr>\n",
       "    <tr>\n",
       "      <th>2</th>\n",
       "      <td>DOWNTOWN</td>\n",
       "      <td>1969</td>\n",
       "      <td>41</td>\n",
       "      <td>Hotel</td>\n",
       "      <td>756493.0</td>\n",
       "      <td>None</td>\n",
       "      <td>0.0</td>\n",
       "      <td>None</td>\n",
       "      <td>0.0</td>\n",
       "      <td>43.0</td>\n",
       "    </tr>\n",
       "    <tr>\n",
       "      <th>3</th>\n",
       "      <td>DOWNTOWN</td>\n",
       "      <td>1926</td>\n",
       "      <td>10</td>\n",
       "      <td>Hotel</td>\n",
       "      <td>61320.0</td>\n",
       "      <td>None</td>\n",
       "      <td>0.0</td>\n",
       "      <td>None</td>\n",
       "      <td>0.0</td>\n",
       "      <td>56.0</td>\n",
       "    </tr>\n",
       "    <tr>\n",
       "      <th>4</th>\n",
       "      <td>DOWNTOWN</td>\n",
       "      <td>1980</td>\n",
       "      <td>18</td>\n",
       "      <td>Hotel</td>\n",
       "      <td>123445.0</td>\n",
       "      <td>Parking</td>\n",
       "      <td>68009.0</td>\n",
       "      <td>Swimming Pool</td>\n",
       "      <td>0.0</td>\n",
       "      <td>75.0</td>\n",
       "    </tr>\n",
       "  </tbody>\n",
       "</table>\n",
       "</div>"
      ],
      "text/plain": [
       "  Neighborhood  YearBuilt  NumberofFloors LargestPropertyUseType  \\\n",
       "0     DOWNTOWN       1927              12                  Hotel   \n",
       "1     DOWNTOWN       1996              11                  Hotel   \n",
       "2     DOWNTOWN       1969              41                  Hotel   \n",
       "3     DOWNTOWN       1926              10                  Hotel   \n",
       "4     DOWNTOWN       1980              18                  Hotel   \n",
       "\n",
       "   LargestPropertyUseTypeGFA SecondLargestPropertyUseType  \\\n",
       "0                    88434.0                         None   \n",
       "1                    83880.0                      Parking   \n",
       "2                   756493.0                         None   \n",
       "3                    61320.0                         None   \n",
       "4                   123445.0                      Parking   \n",
       "\n",
       "   SecondLargestPropertyUseTypeGFA ThirdLargestPropertyUseType  \\\n",
       "0                              0.0                        None   \n",
       "1                          15064.0                  Restaurant   \n",
       "2                              0.0                        None   \n",
       "3                              0.0                        None   \n",
       "4                          68009.0               Swimming Pool   \n",
       "\n",
       "   ThirdLargestPropertyUseTypeGFA  ENERGYSTARScore  \n",
       "0                             0.0             60.0  \n",
       "1                          4622.0             61.0  \n",
       "2                             0.0             43.0  \n",
       "3                             0.0             56.0  \n",
       "4                             0.0             75.0  "
      ]
     },
     "execution_count": 6,
     "metadata": {},
     "output_type": "execute_result"
    }
   ],
   "source": [
    "X.head()"
   ]
  },
  {
   "cell_type": "code",
   "execution_count": 8,
   "id": "0a547e5d",
   "metadata": {
    "ExecuteTime": {
     "end_time": "2023-03-12T17:24:05.062659Z",
     "start_time": "2023-03-12T17:24:04.871614Z"
    }
   },
   "outputs": [
    {
     "data": {
      "text/plain": [
       "<AxesSubplot:xlabel='YearBuilt', ylabel='SiteEUIWN(kBtu/sf)'>"
      ]
     },
     "execution_count": 8,
     "metadata": {},
     "output_type": "execute_result"
    },
    {
     "data": {
      "image/png": "[encoded data removed]",
      "text/plain": [
       "<Figure size 432x288 with 1 Axes>"
      ]
     },
     "metadata": {
      "needs_background": "light"
     },
     "output_type": "display_data"
    }
   ],
   "source": [
    "sns.scatterplot(x=df['YearBuilt'], y=df['SiteEUIWN(kBtu/sf)'])"
   ]
  },
  {
   "cell_type": "code",
   "execution_count": 9,
   "id": "35530963",
   "metadata": {
    "ExecuteTime": {
     "end_time": "2023-03-12T17:24:25.565311Z",
     "start_time": "2023-03-12T17:24:25.292964Z"
    }
   },
   "outputs": [
    {
     "data": {
      "text/plain": [
       "<seaborn.axisgrid.FacetGrid at 0x7f859b2d7b80>"
      ]
     },
     "execution_count": 9,
     "metadata": {},
     "output_type": "execute_result"
    },
    {
     "data": {
      "image/png": "[encoded data removed]",
      "text/plain": [
       "<Figure size 360x360 with 1 Axes>"
      ]
     },
     "metadata": {
      "needs_background": "light"
     },
     "output_type": "display_data"
    }
   ],
   "source": [
    "sns.displot(x=X['YearBuilt'])"
   ]
  },
  {
   "cell_type": "code",
   "execution_count": 11,
   "id": "22e53546",
   "metadata": {
    "ExecuteTime": {
     "end_time": "2023-03-12T17:26:24.843708Z",
     "start_time": "2023-03-12T17:26:24.839042Z"
    }
   },
   "outputs": [
    {
     "data": {
      "text/plain": [
       "13"
      ]
     },
     "execution_count": 11,
     "metadata": {},
     "output_type": "execute_result"
    }
   ],
   "source": [
    "X['Neighborhood'].unique().size"
   ]
  },
  {
   "cell_type": "code",
   "execution_count": null,
   "id": "50cece55",
   "metadata": {},
   "outputs": [],
   "source": []
  }
 ],
 "metadata": {
  "kernelspec": {
   "display_name": "Python 3",
   "language": "python",
   "name": "python3"
  },
  "language_info": {
   "codemirror_mode": {
    "name": "ipython",
    "version": 3
   },
   "file_extension": ".py",
   "mimetype": "text/x-python",
   "name": "python",
   "nbconvert_exporter": "python",
   "pygments_lexer": "ipython3",
   "version": "3.9.4"
  },
  "toc": {
   "base_numbering": 1,
   "nav_menu": {},
   "number_sections": true,
   "sideBar": true,
   "skip_h1_title": true,
   "title_cell": "Table of Contents",
   "title_sidebar": "Contents",
   "toc_cell": false,
   "toc_position": {},
   "toc_section_display": true,
   "toc_window_display": true
  }
 },
 "nbformat": 4,
 "nbformat_minor": 5
}
