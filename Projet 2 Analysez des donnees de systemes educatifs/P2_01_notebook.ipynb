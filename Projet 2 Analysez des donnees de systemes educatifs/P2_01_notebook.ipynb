{
 "cells": [
  {
   "cell_type": "markdown",
   "id": "33a5b669",
   "metadata": {},
   "source": [
    "Dans ce notebook on va faire une pré-analyse des données de la Banque Mondiale qui sont réparties dans 5 fichiers :\n",
    "- EdStatsCountry-Series.csv\n",
    "- EdStatsFootNote.csv\n",
    "- EdStatsCountry.csv\n",
    "- EdStatsSeries.csv\n",
    "- EdStatsData.csv"
   ]
  },
  {
   "cell_type": "code",
   "execution_count": 1,
   "id": "433c3522",
   "metadata": {},
   "outputs": [],
   "source": [
    "import pandas as pd\n",
    "import numpy as np\n",
    "import matplotlib.pyplot as plt\n",
    "import seaborn as sns\n",
    "sns.set_theme(style=\"whitegrid\")"
   ]
  },
  {
   "cell_type": "markdown",
   "id": "1409b005",
   "metadata": {},
   "source": [
    "# Analyse de \"EdStatsCountry-Series.csv\""
   ]
  },
  {
   "cell_type": "code",
   "execution_count": 2,
   "id": "c5d075dd",
   "metadata": {},
   "outputs": [
    {
     "data": {
      "text/html": [
       "<div>\n",
       "<style scoped>\n",
       "    .dataframe tbody tr th:only-of-type {\n",
       "        vertical-align: middle;\n",
       "    }\n",
       "\n",
       "    .dataframe tbody tr th {\n",
       "        vertical-align: top;\n",
       "    }\n",
       "\n",
       "    .dataframe thead th {\n",
       "        text-align: right;\n",
       "    }\n",
       "</style>\n",
       "<table border=\"1\" class=\"dataframe\">\n",
       "  <thead>\n",
       "    <tr style=\"text-align: right;\">\n",
       "      <th></th>\n",
       "      <th>CountryCode</th>\n",
       "      <th>SeriesCode</th>\n",
       "      <th>DESCRIPTION</th>\n",
       "      <th>Unnamed: 3</th>\n",
       "    </tr>\n",
       "  </thead>\n",
       "  <tbody>\n",
       "    <tr>\n",
       "      <th>0</th>\n",
       "      <td>ABW</td>\n",
       "      <td>SP.POP.TOTL</td>\n",
       "      <td>Data sources : United Nations World Population...</td>\n",
       "      <td>NaN</td>\n",
       "    </tr>\n",
       "    <tr>\n",
       "      <th>1</th>\n",
       "      <td>ABW</td>\n",
       "      <td>SP.POP.GROW</td>\n",
       "      <td>Data sources: United Nations World Population ...</td>\n",
       "      <td>NaN</td>\n",
       "    </tr>\n",
       "    <tr>\n",
       "      <th>2</th>\n",
       "      <td>AFG</td>\n",
       "      <td>SP.POP.GROW</td>\n",
       "      <td>Data sources: United Nations World Population ...</td>\n",
       "      <td>NaN</td>\n",
       "    </tr>\n",
       "    <tr>\n",
       "      <th>3</th>\n",
       "      <td>AFG</td>\n",
       "      <td>NY.GDP.PCAP.PP.CD</td>\n",
       "      <td>Estimates are based on regression.</td>\n",
       "      <td>NaN</td>\n",
       "    </tr>\n",
       "    <tr>\n",
       "      <th>4</th>\n",
       "      <td>AFG</td>\n",
       "      <td>SP.POP.TOTL</td>\n",
       "      <td>Data sources : United Nations World Population...</td>\n",
       "      <td>NaN</td>\n",
       "    </tr>\n",
       "  </tbody>\n",
       "</table>\n",
       "</div>"
      ],
      "text/plain": [
       "  CountryCode         SeriesCode  \\\n",
       "0         ABW        SP.POP.TOTL   \n",
       "1         ABW        SP.POP.GROW   \n",
       "2         AFG        SP.POP.GROW   \n",
       "3         AFG  NY.GDP.PCAP.PP.CD   \n",
       "4         AFG        SP.POP.TOTL   \n",
       "\n",
       "                                         DESCRIPTION  Unnamed: 3  \n",
       "0  Data sources : United Nations World Population...         NaN  \n",
       "1  Data sources: United Nations World Population ...         NaN  \n",
       "2  Data sources: United Nations World Population ...         NaN  \n",
       "3                 Estimates are based on regression.         NaN  \n",
       "4  Data sources : United Nations World Population...         NaN  "
      ]
     },
     "execution_count": 2,
     "metadata": {},
     "output_type": "execute_result"
    }
   ],
   "source": [
    "country_series = pd.read_csv(\"Edstats_csv/EdStatsCountry-Series.csv\")\n",
    "country_series.head()"
   ]
  },
  {
   "cell_type": "code",
   "execution_count": 3,
   "id": "71600196",
   "metadata": {},
   "outputs": [
    {
     "data": {
      "text/plain": [
       "(613, 4)"
      ]
     },
     "execution_count": 3,
     "metadata": {},
     "output_type": "execute_result"
    }
   ],
   "source": [
    "country_series.shape"
   ]
  },
  {
   "cell_type": "code",
   "execution_count": 4,
   "id": "f2a080c5",
   "metadata": {},
   "outputs": [
    {
     "data": {
      "text/plain": [
       "CountryCode    0.0\n",
       "SeriesCode     0.0\n",
       "DESCRIPTION    0.0\n",
       "Unnamed: 3     1.0\n",
       "dtype: float64"
      ]
     },
     "execution_count": 4,
     "metadata": {},
     "output_type": "execute_result"
    }
   ],
   "source": [
    "country_series.isna().mean()"
   ]
  },
  {
   "cell_type": "markdown",
   "id": "155c921a",
   "metadata": {},
   "source": [
    "La dernière colonne `Unnamed: 3` ne contient que des nan"
   ]
  },
  {
   "cell_type": "markdown",
   "id": "8bcc244b",
   "metadata": {},
   "source": [
    "Regardons ce que contient la colonne `DESCRIPTION`"
   ]
  },
  {
   "cell_type": "code",
   "execution_count": 5,
   "id": "9ab5fd21",
   "metadata": {
    "tags": []
   },
   "outputs": [
    {
     "data": {
      "text/plain": [
       "array(['Data sources : United Nations World Population Prospects',\n",
       "       'Data sources: United Nations World Population Prospects',\n",
       "       'Estimates are based on regression.',\n",
       "       'Data sources : Institute of Statistics, Eurostat',\n",
       "       'Data sources : Australian Bureau of Statistics',\n",
       "       'Including Other Territories comprising Jervis Bay Territory, Christmas Island and the Cocos (Keeling) Islands. ',\n",
       "       'Data sources: Australian Bureau of Statistics',\n",
       "       'Data sources : Eurostat',\n",
       "       'Data sources : Eurostat, State Statistical Committee, United Nations World Population Prospects',\n",
       "       'Data sources: Eurostat, State Statistical Committee, United Nations World Population Prospects',\n",
       "       'Data sources : National Statistical Committee of the Republic of Belarus',\n",
       "       'Data sources: National Statistical Committee of the Republic of Belarus',\n",
       "       'Data sources : Bermuda Government Department of Statistics',\n",
       "       'Data sources: Bermuda Government Department of Statistics',\n",
       "       'Data sources : Statistics Canada',\n",
       "       'Data sources: Statistics Canada',\n",
       "       'Refers to Guernsey, and Jersey.',\n",
       "       'Data sources : National Bureau of Statistics',\n",
       "       'Excluding Hong Kong SAR, Macao SAR, Taiwan.',\n",
       "       'Data sources: National Bureau of Statistics',\n",
       "       'Data are for areas under the effective control of the Government of the Republic of Cyprus.',\n",
       "       'Including Northern-Cyprus.',\n",
       "       'Data sources: Eurostat, United Nations World Population Prospects. Including the French overseas departments of French Guiana, Guadeloupe, Martinique, Mayotte, and Réunion.',\n",
       "       'Including the four French overseas departments (French Guyana, Guadeloupe, Martinique and Réunion)',\n",
       "       'Data sources : Eurostat, United Nations World Population Prospects. Including the French overseas departments of French Guiana, Guadeloupe, Martinique, Mayotte, and Réunion.',\n",
       "       'Data sources: Eurostat',\n",
       "       'Data sources : GeoStats. GeoStats. Adjusted to mid-year population using geometric mean for the years where mid-year population figures are not available. Excluding Abkhazia and South Ossetia.',\n",
       "       'Including Abkhazia and South Ossetia.',\n",
       "       'Excludes Abkhazia and South Ossetia.',\n",
       "       'Derived using ratio of age group from WPP and World Bank population.',\n",
       "       'Data sources: GeoStats. GeoStats. Adjusted to mid-year population using geometric mean for the years where mid-year population figures are not available. Excluding Abkhazia and South Ossetia.',\n",
       "       'Excluding Abkhazia and South Ossetia.',\n",
       "       'Data sources: Statistics Greenland',\n",
       "       'Data sources : Statistics Greenland',\n",
       "       'Data sources: Census and Statistics Department',\n",
       "       'Data sources : Census and Statistics Department',\n",
       "       'Data sources: Croatian Bureau of Statistics, Council of Europe',\n",
       "       'Data sources : Croatian Bureau of Statistics, Council of Europe',\n",
       "       'Data sources: Central Bureau of Statistics',\n",
       "       'Data sources : Central Bureau of Statistics',\n",
       "       'Data sources: Ministry of Internal Affairs and Communications, Statistics Bureau; United Nations Population and Vital Statistics Report',\n",
       "       'Data sources : Ministry of Internal Affairs and Communications, Statistics Bureau; United Nations Population and Vital Statistics Report',\n",
       "       'Data sources : Statistical Agency of Kazakhstan, 1979 Census, 1989 Census, United Nations World Population Prospects',\n",
       "       'Data sources: Statistical Agency of Kazakhstan, 1979 Census, 1989 Census, United Nations World Population Prospects',\n",
       "       'Data sources : National Statistical Committee, United Nations World Population Prospects',\n",
       "       'Data sources: National Statistical Committee, United Nations World Population Prospects',\n",
       "       'Data sources : Korean Statistical Information Service',\n",
       "       'Data sources: Korean Statistical Information Service',\n",
       "       \"Data sources : Registrar General's Department, Department of Census and Statistics\",\n",
       "       \"Data sources: Registrar General's Department, Department of Census and Statistics\",\n",
       "       'Includes Former Spanish Sahara.',\n",
       "       'Morocco only. (Excluding former Spanish Sahara)',\n",
       "       \"Data sources : National Bureau of Statistics. Excluding Transnistria. For 1950-94, World Bank estimates using UN World Population Prospects' growth rates of whole Moldova.\",\n",
       "       'Excludes Transnistria.', 'Including Transnistria.',\n",
       "       \"Data sources: National Bureau of Statistics. Excluding Transnistria. For 1950-94, World Bank estimates using UN World Population Prospects 2010 Revision's growth rates of whole Moldova.\",\n",
       "       'Excluding Transnistria.',\n",
       "       'Data sources : For 1960-1989, United Nations World Population Prospects. For 1990 onwards, 1990, 1995, 2000, 2006, 2014 censuses, and data on expatriate employment from Maldives National Bureau of Statistics. The census data are adjusted for mid-year and for foreign population.',\n",
       "       'Data sources: For 1960-1989, United Nations World Population Prospects. For 1990 onwards, 1990, 1995, 2000, 2006, 2014 censuses, and data on expatriate employment from Maldives National Bureau of Statistics. The census data are adjusted for mid-year and for foreign population.',\n",
       "       'Data sources : For years after 2000, Statistical Office of Montenegro. For years 1960-1999, growth rates of United Nations World Population Prospects were used to estimate backwards.',\n",
       "       'Data sources : Statistics Mauritius, United Nations World Population Prospects',\n",
       "       'Including Agalega and St. Brandon.',\n",
       "       'Data sources: Central Statistics Office, United Nations Population and Vital Statistics Report, United Nations World Population Prospects',\n",
       "       'Excluding Agalega and St. Brandon.',\n",
       "       'Including Sabah and Sarawak.',\n",
       "       'Data sources : Institute of Statistics and Economic Studies',\n",
       "       'Data sources: Institute of Statistics and Economic Studies, 1983 Census, 1989 Census, 1996 Census',\n",
       "       'Data sources: Statistics New Zealand',\n",
       "       'Data sources : Statistics New Zealand',\n",
       "       'Data sources : U.S. Census Bureau, 1990 Census',\n",
       "       'Data sources: U.S. Census Bureau, 1990 Census',\n",
       "       'Data sources : World Bank estimates based on data from Palestinian Central Bureau of Statistics, excluding E. Jerusalem.',\n",
       "       'Excluding East Jerusalem.',\n",
       "       'Data sources: World Bank estimates based on data from Palestinian Central Bureau of Statistics, excluding E. Jerusalem.',\n",
       "       'Data sources : Russian Federation Federal State Statistics Service (its January 1st populations were adjusted to mid-year populations by using geometric mean), 1979 Census, 1989 Census.',\n",
       "       'Data sources : United Nations World Population Prospects. Estimates are for Sudan excluding South Sudan.',\n",
       "       'Data sources: Department of Statistics Singapore',\n",
       "       'Data sources : Department of Statistics Singapore',\n",
       "       'Data sources: Statistical Office of the Republic of Serbia, Eurostat, TransMONEE, Council of Europe. Excluding Kosovo for all years 1950-2011',\n",
       "       'Including Kosovo.',\n",
       "       'Data sources : Statistical Office of the Republic of Serbia, Eurostat, TransMONEE, Council of Europe. Note : Excluding Kosovo.',\n",
       "       'Excluding Kosovo.', 'Covers mainland Tanzania only.',\n",
       "       'Including Zanzibar.',\n",
       "       'Data sources : State Statistics Committee of Ukraine, United Nations World Population Prospects, Council of Europe, United Nations Population and Vital Statistics Report',\n",
       "       'Data sources: State Statistics Committee of Ukraine, United Nations World Population Prospects, Council of Europe, United Nations Population and Vital Statistics Report',\n",
       "       'Data sources : U.S. Census Bureau',\n",
       "       'Data sources: U.S. Census Bureau',\n",
       "       'Data sources : State Committee of the Republic of Uzbekistan on Statistics, United Nations World Population Prospects',\n",
       "       'Based on official exchange rates.',\n",
       "       'Data sources : U.S. Census Bureau, United Nations Population and Vital Statistics Report',\n",
       "       'Data sources: U.S. Census Bureau, United Nations Population and Vital Statistics Report',\n",
       "       'Data sources: General Statistics Office of Vietnam',\n",
       "       'Data sources : General Statistics Office of Vietnam',\n",
       "       \"Data sources : World Bank's Kosovo coutnry office, Kosovo Agency of Statistics, U.S. Census Bureau\",\n",
       "       \"Data sources: World Bank's Kosovo coutnry office, Kosovo Agency of Statistics, U.S. Census Bureau\",\n",
       "       'Data sources : Statistics South Africa, United Nations World Population Prospects'],\n",
       "      dtype=object)"
      ]
     },
     "execution_count": 5,
     "metadata": {},
     "output_type": "execute_result"
    }
   ],
   "source": [
    "country_series[\"DESCRIPTION\"].unique()"
   ]
  },
  {
   "cell_type": "code",
   "execution_count": 6,
   "id": "d563227d",
   "metadata": {},
   "outputs": [
    {
     "data": {
      "text/plain": [
       "211"
      ]
     },
     "execution_count": 6,
     "metadata": {},
     "output_type": "execute_result"
    }
   ],
   "source": [
    "# Nombre de pays répertoriés dans ce fichier\n",
    "country_series[\"CountryCode\"].unique().size"
   ]
  },
  {
   "cell_type": "markdown",
   "id": "3f137fc8",
   "metadata": {},
   "source": [
    "Sur ce jeu de données on trouve une description associée au receuil des indicateurs pour 211 pays et régions du monde. On trouve dans la colonne `DESCRIPTION` la source des données associées aux indicateurs pour les différents pays et les territoires inclus ou pas dans le pays concerné."
   ]
  },
  {
   "cell_type": "markdown",
   "id": "40b0741e",
   "metadata": {},
   "source": [
    "# Analyse de \"EdStatsFootNote.csv\""
   ]
  },
  {
   "cell_type": "code",
   "execution_count": 7,
   "id": "8fa6ab56",
   "metadata": {},
   "outputs": [
    {
     "data": {
      "text/html": [
       "<div>\n",
       "<style scoped>\n",
       "    .dataframe tbody tr th:only-of-type {\n",
       "        vertical-align: middle;\n",
       "    }\n",
       "\n",
       "    .dataframe tbody tr th {\n",
       "        vertical-align: top;\n",
       "    }\n",
       "\n",
       "    .dataframe thead th {\n",
       "        text-align: right;\n",
       "    }\n",
       "</style>\n",
       "<table border=\"1\" class=\"dataframe\">\n",
       "  <thead>\n",
       "    <tr style=\"text-align: right;\">\n",
       "      <th></th>\n",
       "      <th>CountryCode</th>\n",
       "      <th>SeriesCode</th>\n",
       "      <th>Year</th>\n",
       "      <th>DESCRIPTION</th>\n",
       "      <th>Unnamed: 4</th>\n",
       "    </tr>\n",
       "  </thead>\n",
       "  <tbody>\n",
       "    <tr>\n",
       "      <th>0</th>\n",
       "      <td>ABW</td>\n",
       "      <td>SE.PRE.ENRL.FE</td>\n",
       "      <td>YR2001</td>\n",
       "      <td>Country estimation.</td>\n",
       "      <td>NaN</td>\n",
       "    </tr>\n",
       "    <tr>\n",
       "      <th>1</th>\n",
       "      <td>ABW</td>\n",
       "      <td>SE.TER.TCHR.FE</td>\n",
       "      <td>YR2005</td>\n",
       "      <td>Country estimation.</td>\n",
       "      <td>NaN</td>\n",
       "    </tr>\n",
       "    <tr>\n",
       "      <th>2</th>\n",
       "      <td>ABW</td>\n",
       "      <td>SE.PRE.TCHR.FE</td>\n",
       "      <td>YR2000</td>\n",
       "      <td>Country estimation.</td>\n",
       "      <td>NaN</td>\n",
       "    </tr>\n",
       "    <tr>\n",
       "      <th>3</th>\n",
       "      <td>ABW</td>\n",
       "      <td>SE.SEC.ENRL.GC</td>\n",
       "      <td>YR2004</td>\n",
       "      <td>Country estimation.</td>\n",
       "      <td>NaN</td>\n",
       "    </tr>\n",
       "    <tr>\n",
       "      <th>4</th>\n",
       "      <td>ABW</td>\n",
       "      <td>SE.PRE.TCHR</td>\n",
       "      <td>YR2006</td>\n",
       "      <td>Country estimation.</td>\n",
       "      <td>NaN</td>\n",
       "    </tr>\n",
       "  </tbody>\n",
       "</table>\n",
       "</div>"
      ],
      "text/plain": [
       "  CountryCode      SeriesCode    Year          DESCRIPTION  Unnamed: 4\n",
       "0         ABW  SE.PRE.ENRL.FE  YR2001  Country estimation.         NaN\n",
       "1         ABW  SE.TER.TCHR.FE  YR2005  Country estimation.         NaN\n",
       "2         ABW  SE.PRE.TCHR.FE  YR2000  Country estimation.         NaN\n",
       "3         ABW  SE.SEC.ENRL.GC  YR2004  Country estimation.         NaN\n",
       "4         ABW     SE.PRE.TCHR  YR2006  Country estimation.         NaN"
      ]
     },
     "execution_count": 7,
     "metadata": {},
     "output_type": "execute_result"
    }
   ],
   "source": [
    "foot_note = pd.read_csv(\"Edstats_csv/EdStatsFootNote.csv\")\n",
    "foot_note.head()"
   ]
  },
  {
   "cell_type": "code",
   "execution_count": 8,
   "id": "b1f3b0fc",
   "metadata": {},
   "outputs": [
    {
     "data": {
      "text/plain": [
       "(643638, 5)"
      ]
     },
     "execution_count": 8,
     "metadata": {},
     "output_type": "execute_result"
    }
   ],
   "source": [
    "foot_note.shape"
   ]
  },
  {
   "cell_type": "code",
   "execution_count": 9,
   "id": "f5df798e",
   "metadata": {},
   "outputs": [
    {
     "data": {
      "text/plain": [
       "CountryCode    0.0\n",
       "SeriesCode     0.0\n",
       "Year           0.0\n",
       "DESCRIPTION    0.0\n",
       "Unnamed: 4     1.0\n",
       "dtype: float64"
      ]
     },
     "execution_count": 9,
     "metadata": {},
     "output_type": "execute_result"
    }
   ],
   "source": [
    "foot_note.isna().mean()"
   ]
  },
  {
   "cell_type": "code",
   "execution_count": 10,
   "id": "311a4850",
   "metadata": {
    "scrolled": true
   },
   "outputs": [
    {
     "data": {
      "text/plain": [
       "array(['Country estimation.', 'UIS Estimation',\n",
       "       'UNESCO Institute for Statistics (UIS) estimate',\n",
       "       '5-year average value between 0s and 5s',\n",
       "       'Percentage includes lower secondary education.', 'Country data',\n",
       "       'Country Data', 'UNSD WPP08 revision file 2A and 3A.',\n",
       "       'Not applicable',\n",
       "       'Percentage includes all tertiary levels (ISCED 5-8)', 'Estimated',\n",
       "       'UIS estimation.', '<0.1. Plausible bound is <0.1-0.1',\n",
       "       'Uncertainty bound is 127.1 - 148.2',\n",
       "       'Uncertainty bound is 146.6 - 173.2',\n",
       "       'Uncertainty bound is 134.1 - 157.1',\n",
       "       'Uncertainty bound is 207.2 - 261.6',\n",
       "       'Uncertainty bound is 60.2 - 86.1',\n",
       "       'Uncertainty bound is 184.5 - 227.9',\n",
       "       'Uncertainty bound is 167.8 - 201.7',\n",
       "       'Uncertainty bound is 130.4 - 152.5',\n",
       "       'Uncertainty bound is 240.3 - 308.5', 'Country estimation',\n",
       "       'Uncertainty bound is 212.6 - 269.3',\n",
       "       'Uncertainty bound is 201.4 - 253.3',\n",
       "       'Uncertainty bound is 190.1 - 236.6',\n",
       "       'Uncertainty bound is 162.4 - 193.8',\n",
       "       'Uncertainty bound is 123.7 - 144.2',\n",
       "       'Uncertainty bound is 98.4 - 115',\n",
       "       'Uncertainty bound is 56.6 - 84.7', 'UIS estimation',\n",
       "       'Uncertainty bound is 260.6 - 335.6',\n",
       "       'Uncertainty bound is 229.5 - 293.2',\n",
       "       'Uncertainty bound is 116.9 - 136.5',\n",
       "       'Uncertainty bound is 113.4 - 132.5',\n",
       "       'Uncertainty bound is 102.3 - 119.6',\n",
       "       'Uncertainty bound is 90.3 - 106.6', 'National Estimate',\n",
       "       'Uncertainty bound is 255.3 - 329.5',\n",
       "       'Uncertainty bound is 234.9 - 300.9',\n",
       "       'Uncertainty bound is 179 - 218.9',\n",
       "       'Uncertainty bound is 81.7 - 99.4',\n",
       "       'Uncertainty bound is 270.4 - 347.9',\n",
       "       'Uncertainty bound is 250.1 - 323.2',\n",
       "       'Uncertainty bound is 156.8 - 186.4',\n",
       "       'Uncertainty bound is 109.8 - 128.4',\n",
       "       'Uncertainty bound is 94.4 - 110.8',\n",
       "       'Uncertainty bound is 86.1 - 102.9',\n",
       "       'Uncertainty bound is 77.3 - 96.3',\n",
       "       'Uncertainty bound is 68.2 - 90.7',\n",
       "       '<0.1. Plausible bound is <0.1-<0.1',\n",
       "       'Uncertainty bound is 265.2 - 342',\n",
       "       'Uncertainty bound is 245.3 - 315.6',\n",
       "       'Uncertainty bound is 223.8 - 284.9',\n",
       "       'Uncertainty bound is 195.8 - 245.1',\n",
       "       'Uncertainty bound is 173.4 - 209.9',\n",
       "       'Uncertainty bound is 72.7 - 93.4',\n",
       "       'Uncertainty bound is 218.2 - 276.9',\n",
       "       'Uncertainty bound is 151.6 - 179.5',\n",
       "       'Uncertainty bound is 142 - 167.5',\n",
       "       'Uncertainty bound is 137.7 - 162',\n",
       "       'Uncertainty bound is 120.4 - 140.3',\n",
       "       'Uncertainty bound is 106.1 - 124.1',\n",
       "       'Uncertainty bound is 64 - 88.1',\n",
       "       'WB estimate based on the UNSD WPP08 revision file 2A and 3A, and WB population.',\n",
       "       'Uncertainty bound is 140.7 - 198.5', 'Plausible bound is 1.1-1.6',\n",
       "       'Uncertainty bound is 195.9 - 247.1',\n",
       "       'Uncertainty bound is 50 - 151.5',\n",
       "       'Uncertainty bound is 56.1 - 155.1',\n",
       "       'Uncertainty bound is 200.7 - 250.2',\n",
       "       'Uncertainty bound is 187.8 - 240.4',\n",
       "       'Uncertainty bound is 182.6 - 235.3',\n",
       "       'Uncertainty bound is 196.3 - 250',\n",
       "       'Uncertainty bound is 198.6 - 249.1',\n",
       "       'Uncertainty bound is 184.6 - 293.1', 'Plausible bound is 1.5-2.2',\n",
       "       'Uncertainty bound is 45 - 149.1', 'Plausible bound is 1-1.5',\n",
       "       'Plausible bound is 0.1-0.4', 'Plausible bound is 1.4-2',\n",
       "       'Plausible bound is 1-1.4', 'Uncertainty bound is 195.4 - 252',\n",
       "       'Uncertainty bound is 176.5 - 229.3',\n",
       "       'Uncertainty bound is 169.5 - 222.1',\n",
       "       'Uncertainty bound is 161.2 - 214.2', 'Plausible bound is 0.2-0.6',\n",
       "       'Plausible bound is 0.3-0.8', 'Plausible bound is 1.2-1.7',\n",
       "       'Plausible bound is 1.2-1.8', 'Uncertainty bound is 181.3 - 308.1',\n",
       "       'Uncertainty bound is 188 - 281.5',\n",
       "       'Uncertainty bound is 192.8 - 260.1',\n",
       "       'Uncertainty bound is 197.6 - 248.5',\n",
       "       'Uncertainty bound is 199.4 - 249.4',\n",
       "       'Uncertainty bound is 129.2 - 190.6',\n",
       "       'Uncertainty bound is 73 - 161.8',\n",
       "       'Uncertainty bound is 63.8 - 158.4', 'National Estimation',\n",
       "       'Plausible bound is 1.5-2.1'], dtype=object)"
      ]
     },
     "execution_count": 10,
     "metadata": {},
     "output_type": "execute_result"
    }
   ],
   "source": [
    "foot_note[\"DESCRIPTION\"].unique()[:100]"
   ]
  },
  {
   "cell_type": "code",
   "execution_count": 11,
   "id": "51acc565",
   "metadata": {},
   "outputs": [
    {
     "data": {
      "text/plain": [
       "0"
      ]
     },
     "execution_count": 11,
     "metadata": {},
     "output_type": "execute_result"
    }
   ],
   "source": [
    "# Vérification des doublons\n",
    "foot_note.duplicated().sum()"
   ]
  },
  {
   "cell_type": "markdown",
   "id": "270d9fa0",
   "metadata": {},
   "source": [
    "Ce jeu de données contient également une description concernant la valeur des indicateurs pour chaque pays mais cette fois pour différentes années. On peut également y trouver des incertitudes pour certaines valeurs. Ces données pourraient être intéressantes pour une étude plus poussée que ce que nous voulons ici."
   ]
  },
  {
   "cell_type": "code",
   "execution_count": 12,
   "id": "e490824c",
   "metadata": {},
   "outputs": [],
   "source": [
    "del foot_note"
   ]
  },
  {
   "cell_type": "markdown",
   "id": "25ec2372",
   "metadata": {},
   "source": [
    "# Analyse de \"EdStatsCountry.csv\""
   ]
  },
  {
   "cell_type": "code",
   "execution_count": 13,
   "id": "f732ab5c",
   "metadata": {},
   "outputs": [
    {
     "data": {
      "text/html": [
       "<div>\n",
       "<style scoped>\n",
       "    .dataframe tbody tr th:only-of-type {\n",
       "        vertical-align: middle;\n",
       "    }\n",
       "\n",
       "    .dataframe tbody tr th {\n",
       "        vertical-align: top;\n",
       "    }\n",
       "\n",
       "    .dataframe thead th {\n",
       "        text-align: right;\n",
       "    }\n",
       "</style>\n",
       "<table border=\"1\" class=\"dataframe\">\n",
       "  <thead>\n",
       "    <tr style=\"text-align: right;\">\n",
       "      <th></th>\n",
       "      <th>Country Code</th>\n",
       "      <th>Short Name</th>\n",
       "      <th>Table Name</th>\n",
       "      <th>Long Name</th>\n",
       "      <th>2-alpha code</th>\n",
       "      <th>Currency Unit</th>\n",
       "      <th>Special Notes</th>\n",
       "      <th>Region</th>\n",
       "      <th>Income Group</th>\n",
       "      <th>WB-2 code</th>\n",
       "      <th>...</th>\n",
       "      <th>IMF data dissemination standard</th>\n",
       "      <th>Latest population census</th>\n",
       "      <th>Latest household survey</th>\n",
       "      <th>Source of most recent Income and expenditure data</th>\n",
       "      <th>Vital registration complete</th>\n",
       "      <th>Latest agricultural census</th>\n",
       "      <th>Latest industrial data</th>\n",
       "      <th>Latest trade data</th>\n",
       "      <th>Latest water withdrawal data</th>\n",
       "      <th>Unnamed: 31</th>\n",
       "    </tr>\n",
       "  </thead>\n",
       "  <tbody>\n",
       "    <tr>\n",
       "      <th>0</th>\n",
       "      <td>ABW</td>\n",
       "      <td>Aruba</td>\n",
       "      <td>Aruba</td>\n",
       "      <td>Aruba</td>\n",
       "      <td>AW</td>\n",
       "      <td>Aruban florin</td>\n",
       "      <td>SNA data for 2000-2011 are updated from offici...</td>\n",
       "      <td>Latin America &amp; Caribbean</td>\n",
       "      <td>High income: nonOECD</td>\n",
       "      <td>AW</td>\n",
       "      <td>...</td>\n",
       "      <td>NaN</td>\n",
       "      <td>2010</td>\n",
       "      <td>NaN</td>\n",
       "      <td>NaN</td>\n",
       "      <td>Yes</td>\n",
       "      <td>NaN</td>\n",
       "      <td>NaN</td>\n",
       "      <td>2012.0</td>\n",
       "      <td>NaN</td>\n",
       "      <td>NaN</td>\n",
       "    </tr>\n",
       "    <tr>\n",
       "      <th>1</th>\n",
       "      <td>AFG</td>\n",
       "      <td>Afghanistan</td>\n",
       "      <td>Afghanistan</td>\n",
       "      <td>Islamic State of Afghanistan</td>\n",
       "      <td>AF</td>\n",
       "      <td>Afghan afghani</td>\n",
       "      <td>Fiscal year end: March 20; reporting period fo...</td>\n",
       "      <td>South Asia</td>\n",
       "      <td>Low income</td>\n",
       "      <td>AF</td>\n",
       "      <td>...</td>\n",
       "      <td>General Data Dissemination System (GDDS)</td>\n",
       "      <td>1979</td>\n",
       "      <td>Multiple Indicator Cluster Survey (MICS), 2010/11</td>\n",
       "      <td>Integrated household survey (IHS), 2008</td>\n",
       "      <td>NaN</td>\n",
       "      <td>2013/14</td>\n",
       "      <td>NaN</td>\n",
       "      <td>2012.0</td>\n",
       "      <td>2000</td>\n",
       "      <td>NaN</td>\n",
       "    </tr>\n",
       "    <tr>\n",
       "      <th>2</th>\n",
       "      <td>AGO</td>\n",
       "      <td>Angola</td>\n",
       "      <td>Angola</td>\n",
       "      <td>People's Republic of Angola</td>\n",
       "      <td>AO</td>\n",
       "      <td>Angolan kwanza</td>\n",
       "      <td>April 2013 database update: Based on IMF data,...</td>\n",
       "      <td>Sub-Saharan Africa</td>\n",
       "      <td>Upper middle income</td>\n",
       "      <td>AO</td>\n",
       "      <td>...</td>\n",
       "      <td>General Data Dissemination System (GDDS)</td>\n",
       "      <td>1970</td>\n",
       "      <td>Malaria Indicator Survey (MIS), 2011</td>\n",
       "      <td>Integrated household survey (IHS), 2008</td>\n",
       "      <td>NaN</td>\n",
       "      <td>2015</td>\n",
       "      <td>NaN</td>\n",
       "      <td>NaN</td>\n",
       "      <td>2005</td>\n",
       "      <td>NaN</td>\n",
       "    </tr>\n",
       "    <tr>\n",
       "      <th>3</th>\n",
       "      <td>ALB</td>\n",
       "      <td>Albania</td>\n",
       "      <td>Albania</td>\n",
       "      <td>Republic of Albania</td>\n",
       "      <td>AL</td>\n",
       "      <td>Albanian lek</td>\n",
       "      <td>NaN</td>\n",
       "      <td>Europe &amp; Central Asia</td>\n",
       "      <td>Upper middle income</td>\n",
       "      <td>AL</td>\n",
       "      <td>...</td>\n",
       "      <td>General Data Dissemination System (GDDS)</td>\n",
       "      <td>2011</td>\n",
       "      <td>Demographic and Health Survey (DHS), 2008/09</td>\n",
       "      <td>Living Standards Measurement Study Survey (LSM...</td>\n",
       "      <td>Yes</td>\n",
       "      <td>2012</td>\n",
       "      <td>2010.0</td>\n",
       "      <td>2012.0</td>\n",
       "      <td>2006</td>\n",
       "      <td>NaN</td>\n",
       "    </tr>\n",
       "    <tr>\n",
       "      <th>4</th>\n",
       "      <td>AND</td>\n",
       "      <td>Andorra</td>\n",
       "      <td>Andorra</td>\n",
       "      <td>Principality of Andorra</td>\n",
       "      <td>AD</td>\n",
       "      <td>Euro</td>\n",
       "      <td>NaN</td>\n",
       "      <td>Europe &amp; Central Asia</td>\n",
       "      <td>High income: nonOECD</td>\n",
       "      <td>AD</td>\n",
       "      <td>...</td>\n",
       "      <td>NaN</td>\n",
       "      <td>2011. Population figures compiled from adminis...</td>\n",
       "      <td>NaN</td>\n",
       "      <td>NaN</td>\n",
       "      <td>Yes</td>\n",
       "      <td>NaN</td>\n",
       "      <td>NaN</td>\n",
       "      <td>2006.0</td>\n",
       "      <td>NaN</td>\n",
       "      <td>NaN</td>\n",
       "    </tr>\n",
       "  </tbody>\n",
       "</table>\n",
       "<p>5 rows × 32 columns</p>\n",
       "</div>"
      ],
      "text/plain": [
       "  Country Code   Short Name   Table Name                     Long Name  \\\n",
       "0          ABW        Aruba        Aruba                         Aruba   \n",
       "1          AFG  Afghanistan  Afghanistan  Islamic State of Afghanistan   \n",
       "2          AGO       Angola       Angola   People's Republic of Angola   \n",
       "3          ALB      Albania      Albania           Republic of Albania   \n",
       "4          AND      Andorra      Andorra       Principality of Andorra   \n",
       "\n",
       "  2-alpha code   Currency Unit  \\\n",
       "0           AW   Aruban florin   \n",
       "1           AF  Afghan afghani   \n",
       "2           AO  Angolan kwanza   \n",
       "3           AL    Albanian lek   \n",
       "4           AD            Euro   \n",
       "\n",
       "                                       Special Notes  \\\n",
       "0  SNA data for 2000-2011 are updated from offici...   \n",
       "1  Fiscal year end: March 20; reporting period fo...   \n",
       "2  April 2013 database update: Based on IMF data,...   \n",
       "3                                                NaN   \n",
       "4                                                NaN   \n",
       "\n",
       "                      Region          Income Group WB-2 code  ...  \\\n",
       "0  Latin America & Caribbean  High income: nonOECD        AW  ...   \n",
       "1                 South Asia            Low income        AF  ...   \n",
       "2         Sub-Saharan Africa   Upper middle income        AO  ...   \n",
       "3      Europe & Central Asia   Upper middle income        AL  ...   \n",
       "4      Europe & Central Asia  High income: nonOECD        AD  ...   \n",
       "\n",
       "            IMF data dissemination standard  \\\n",
       "0                                       NaN   \n",
       "1  General Data Dissemination System (GDDS)   \n",
       "2  General Data Dissemination System (GDDS)   \n",
       "3  General Data Dissemination System (GDDS)   \n",
       "4                                       NaN   \n",
       "\n",
       "                            Latest population census  \\\n",
       "0                                               2010   \n",
       "1                                               1979   \n",
       "2                                               1970   \n",
       "3                                               2011   \n",
       "4  2011. Population figures compiled from adminis...   \n",
       "\n",
       "                             Latest household survey  \\\n",
       "0                                                NaN   \n",
       "1  Multiple Indicator Cluster Survey (MICS), 2010/11   \n",
       "2               Malaria Indicator Survey (MIS), 2011   \n",
       "3       Demographic and Health Survey (DHS), 2008/09   \n",
       "4                                                NaN   \n",
       "\n",
       "   Source of most recent Income and expenditure data  \\\n",
       "0                                                NaN   \n",
       "1            Integrated household survey (IHS), 2008   \n",
       "2            Integrated household survey (IHS), 2008   \n",
       "3  Living Standards Measurement Study Survey (LSM...   \n",
       "4                                                NaN   \n",
       "\n",
       "  Vital registration complete Latest agricultural census  \\\n",
       "0                         Yes                        NaN   \n",
       "1                         NaN                    2013/14   \n",
       "2                         NaN                       2015   \n",
       "3                         Yes                       2012   \n",
       "4                         Yes                        NaN   \n",
       "\n",
       "  Latest industrial data Latest trade data Latest water withdrawal data  \\\n",
       "0                    NaN            2012.0                          NaN   \n",
       "1                    NaN            2012.0                         2000   \n",
       "2                    NaN               NaN                         2005   \n",
       "3                 2010.0            2012.0                         2006   \n",
       "4                    NaN            2006.0                          NaN   \n",
       "\n",
       "  Unnamed: 31  \n",
       "0         NaN  \n",
       "1         NaN  \n",
       "2         NaN  \n",
       "3         NaN  \n",
       "4         NaN  \n",
       "\n",
       "[5 rows x 32 columns]"
      ]
     },
     "execution_count": 13,
     "metadata": {},
     "output_type": "execute_result"
    }
   ],
   "source": [
    "countries = pd.read_csv(\"Edstats_csv/EdStatsCountry.csv\")\n",
    "countries.head()"
   ]
  },
  {
   "cell_type": "code",
   "execution_count": 14,
   "id": "88dd58f9",
   "metadata": {},
   "outputs": [
    {
     "data": {
      "text/plain": [
       "(241, 32)"
      ]
     },
     "execution_count": 14,
     "metadata": {},
     "output_type": "execute_result"
    }
   ],
   "source": [
    "countries.shape"
   ]
  },
  {
   "cell_type": "code",
   "execution_count": 15,
   "id": "dd5acfcf",
   "metadata": {},
   "outputs": [
    {
     "data": {
      "text/plain": [
       "0"
      ]
     },
     "execution_count": 15,
     "metadata": {},
     "output_type": "execute_result"
    }
   ],
   "source": [
    "# on regarde s'il y a des doublons sur la colonne \"Country Code\"\n",
    "countries[\"Country Code\"].duplicated().sum()"
   ]
  },
  {
   "cell_type": "code",
   "execution_count": 16,
   "id": "9bae0b09",
   "metadata": {
    "scrolled": true
   },
   "outputs": [
    {
     "data": {
      "text/plain": [
       "Country Code                                          object\n",
       "Short Name                                            object\n",
       "Table Name                                            object\n",
       "Long Name                                             object\n",
       "2-alpha code                                          object\n",
       "Currency Unit                                         object\n",
       "Special Notes                                         object\n",
       "Region                                                object\n",
       "Income Group                                          object\n",
       "WB-2 code                                             object\n",
       "National accounts base year                           object\n",
       "National accounts reference year                     float64\n",
       "SNA price valuation                                   object\n",
       "Lending category                                      object\n",
       "Other groups                                          object\n",
       "System of National Accounts                           object\n",
       "Alternative conversion factor                         object\n",
       "PPP survey year                                       object\n",
       "Balance of Payments Manual in use                     object\n",
       "External debt Reporting status                        object\n",
       "System of trade                                       object\n",
       "Government Accounting concept                         object\n",
       "IMF data dissemination standard                       object\n",
       "Latest population census                              object\n",
       "Latest household survey                               object\n",
       "Source of most recent Income and expenditure data     object\n",
       "Vital registration complete                           object\n",
       "Latest agricultural census                            object\n",
       "Latest industrial data                               float64\n",
       "Latest trade data                                    float64\n",
       "Latest water withdrawal data                          object\n",
       "Unnamed: 31                                          float64\n",
       "dtype: object"
      ]
     },
     "execution_count": 16,
     "metadata": {},
     "output_type": "execute_result"
    }
   ],
   "source": [
    "countries.dtypes"
   ]
  },
  {
   "cell_type": "markdown",
   "id": "cf81408c",
   "metadata": {},
   "source": [
    "On calcule le taux de valeurs manquantes dans le tableau (sans prendre en compte la dernière colonne \"Unnamed: 31\")"
   ]
  },
  {
   "cell_type": "code",
   "execution_count": 17,
   "id": "016df870",
   "metadata": {},
   "outputs": [
    {
     "data": {
      "text/plain": [
       "(241, 31)"
      ]
     },
     "execution_count": 17,
     "metadata": {},
     "output_type": "execute_result"
    }
   ],
   "source": [
    "# On supprime les colonnes ne contenant que des nan\n",
    "countries = countries.dropna(axis=1, how=\"all\")\n",
    "countries.shape"
   ]
  },
  {
   "cell_type": "code",
   "execution_count": 18,
   "id": "0990d28d",
   "metadata": {},
   "outputs": [
    {
     "data": {
      "text/plain": [
       "0.28"
      ]
     },
     "execution_count": 18,
     "metadata": {},
     "output_type": "execute_result"
    }
   ],
   "source": [
    "# Taux de valeurs manquantes\n",
    "na_rate = countries.isna().sum().sum() / (241*31)\n",
    "# ou bien\n",
    "na_rate = countries.isna().mean().mean()\n",
    "na_rate.round(2)"
   ]
  },
  {
   "cell_type": "markdown",
   "id": "542cf0e5",
   "metadata": {},
   "source": [
    "Ce jeu de données contient des informations relatives à 241 pays et régions du monde. La seule variable qui semble intéressante ici est la colonne \"Income Group\" qui classe les pays selon leurs revenus. On pourrait ne s'intéresser qu'aux pays riches car les populations y seront plus susceptibles de devenir clients.\n",
    "Le tableau contient 28% de valeurs manquantes (sans compter la dernière colonne \"Unnamed: 31\")."
   ]
  },
  {
   "cell_type": "markdown",
   "id": "b0ea8b68",
   "metadata": {},
   "source": [
    "# Analyse de \"EdStatsSeries.csv\""
   ]
  },
  {
   "cell_type": "code",
   "execution_count": 19,
   "id": "78c453b7",
   "metadata": {
    "scrolled": true
   },
   "outputs": [
    {
     "data": {
      "text/html": [
       "<div>\n",
       "<style scoped>\n",
       "    .dataframe tbody tr th:only-of-type {\n",
       "        vertical-align: middle;\n",
       "    }\n",
       "\n",
       "    .dataframe tbody tr th {\n",
       "        vertical-align: top;\n",
       "    }\n",
       "\n",
       "    .dataframe thead th {\n",
       "        text-align: right;\n",
       "    }\n",
       "</style>\n",
       "<table border=\"1\" class=\"dataframe\">\n",
       "  <thead>\n",
       "    <tr style=\"text-align: right;\">\n",
       "      <th></th>\n",
       "      <th>Series Code</th>\n",
       "      <th>Topic</th>\n",
       "      <th>Indicator Name</th>\n",
       "      <th>Short definition</th>\n",
       "      <th>Long definition</th>\n",
       "      <th>Unit of measure</th>\n",
       "      <th>Periodicity</th>\n",
       "      <th>Base Period</th>\n",
       "      <th>Other notes</th>\n",
       "      <th>Aggregation method</th>\n",
       "      <th>...</th>\n",
       "      <th>Notes from original source</th>\n",
       "      <th>General comments</th>\n",
       "      <th>Source</th>\n",
       "      <th>Statistical concept and methodology</th>\n",
       "      <th>Development relevance</th>\n",
       "      <th>Related source links</th>\n",
       "      <th>Other web links</th>\n",
       "      <th>Related indicators</th>\n",
       "      <th>License Type</th>\n",
       "      <th>Unnamed: 20</th>\n",
       "    </tr>\n",
       "  </thead>\n",
       "  <tbody>\n",
       "    <tr>\n",
       "      <th>0</th>\n",
       "      <td>BAR.NOED.1519.FE.ZS</td>\n",
       "      <td>Attainment</td>\n",
       "      <td>Barro-Lee: Percentage of female population age...</td>\n",
       "      <td>Percentage of female population age 15-19 with...</td>\n",
       "      <td>Percentage of female population age 15-19 with...</td>\n",
       "      <td>NaN</td>\n",
       "      <td>NaN</td>\n",
       "      <td>NaN</td>\n",
       "      <td>NaN</td>\n",
       "      <td>NaN</td>\n",
       "      <td>...</td>\n",
       "      <td>NaN</td>\n",
       "      <td>NaN</td>\n",
       "      <td>Robert J. Barro and Jong-Wha Lee: http://www.b...</td>\n",
       "      <td>NaN</td>\n",
       "      <td>NaN</td>\n",
       "      <td>NaN</td>\n",
       "      <td>NaN</td>\n",
       "      <td>NaN</td>\n",
       "      <td>NaN</td>\n",
       "      <td>NaN</td>\n",
       "    </tr>\n",
       "    <tr>\n",
       "      <th>1</th>\n",
       "      <td>BAR.NOED.1519.ZS</td>\n",
       "      <td>Attainment</td>\n",
       "      <td>Barro-Lee: Percentage of population age 15-19 ...</td>\n",
       "      <td>Percentage of population age 15-19 with no edu...</td>\n",
       "      <td>Percentage of population age 15-19 with no edu...</td>\n",
       "      <td>NaN</td>\n",
       "      <td>NaN</td>\n",
       "      <td>NaN</td>\n",
       "      <td>NaN</td>\n",
       "      <td>NaN</td>\n",
       "      <td>...</td>\n",
       "      <td>NaN</td>\n",
       "      <td>NaN</td>\n",
       "      <td>Robert J. Barro and Jong-Wha Lee: http://www.b...</td>\n",
       "      <td>NaN</td>\n",
       "      <td>NaN</td>\n",
       "      <td>NaN</td>\n",
       "      <td>NaN</td>\n",
       "      <td>NaN</td>\n",
       "      <td>NaN</td>\n",
       "      <td>NaN</td>\n",
       "    </tr>\n",
       "  </tbody>\n",
       "</table>\n",
       "<p>2 rows × 21 columns</p>\n",
       "</div>"
      ],
      "text/plain": [
       "           Series Code       Topic  \\\n",
       "0  BAR.NOED.1519.FE.ZS  Attainment   \n",
       "1     BAR.NOED.1519.ZS  Attainment   \n",
       "\n",
       "                                      Indicator Name  \\\n",
       "0  Barro-Lee: Percentage of female population age...   \n",
       "1  Barro-Lee: Percentage of population age 15-19 ...   \n",
       "\n",
       "                                    Short definition  \\\n",
       "0  Percentage of female population age 15-19 with...   \n",
       "1  Percentage of population age 15-19 with no edu...   \n",
       "\n",
       "                                     Long definition  Unit of measure  \\\n",
       "0  Percentage of female population age 15-19 with...              NaN   \n",
       "1  Percentage of population age 15-19 with no edu...              NaN   \n",
       "\n",
       "  Periodicity Base Period Other notes Aggregation method  ...  \\\n",
       "0         NaN         NaN         NaN                NaN  ...   \n",
       "1         NaN         NaN         NaN                NaN  ...   \n",
       "\n",
       "  Notes from original source  General comments  \\\n",
       "0                        NaN               NaN   \n",
       "1                        NaN               NaN   \n",
       "\n",
       "                                              Source  \\\n",
       "0  Robert J. Barro and Jong-Wha Lee: http://www.b...   \n",
       "1  Robert J. Barro and Jong-Wha Lee: http://www.b...   \n",
       "\n",
       "  Statistical concept and methodology Development relevance  \\\n",
       "0                                 NaN                   NaN   \n",
       "1                                 NaN                   NaN   \n",
       "\n",
       "  Related source links Other web links  Related indicators  License Type  \\\n",
       "0                  NaN             NaN                 NaN           NaN   \n",
       "1                  NaN             NaN                 NaN           NaN   \n",
       "\n",
       "   Unnamed: 20  \n",
       "0          NaN  \n",
       "1          NaN  \n",
       "\n",
       "[2 rows x 21 columns]"
      ]
     },
     "execution_count": 19,
     "metadata": {},
     "output_type": "execute_result"
    }
   ],
   "source": [
    "indicators = pd.read_csv(\"Edstats_csv/EdStatsSeries.csv\")\n",
    "indicators.head(2)"
   ]
  },
  {
   "cell_type": "code",
   "execution_count": 20,
   "id": "e583724f",
   "metadata": {},
   "outputs": [
    {
     "data": {
      "text/plain": [
       "(3665, 21)"
      ]
     },
     "execution_count": 20,
     "metadata": {},
     "output_type": "execute_result"
    }
   ],
   "source": [
    "indicators.shape"
   ]
  },
  {
   "cell_type": "code",
   "execution_count": 21,
   "id": "bb9ca84d",
   "metadata": {},
   "outputs": [
    {
     "data": {
      "text/plain": [
       "(3665, 15)"
      ]
     },
     "execution_count": 21,
     "metadata": {},
     "output_type": "execute_result"
    }
   ],
   "source": [
    "indicators = indicators.dropna(axis=1, how=\"all\")\n",
    "indicators.shape"
   ]
  },
  {
   "cell_type": "code",
   "execution_count": 22,
   "id": "c984216c",
   "metadata": {
    "scrolled": true
   },
   "outputs": [
    {
     "data": {
      "text/plain": [
       "Series Code                            object\n",
       "Topic                                  object\n",
       "Indicator Name                         object\n",
       "Short definition                       object\n",
       "Long definition                        object\n",
       "Periodicity                            object\n",
       "Base Period                            object\n",
       "Other notes                            object\n",
       "Aggregation method                     object\n",
       "Limitations and exceptions             object\n",
       "General comments                       object\n",
       "Source                                 object\n",
       "Statistical concept and methodology    object\n",
       "Development relevance                  object\n",
       "Related source links                   object\n",
       "dtype: object"
      ]
     },
     "execution_count": 22,
     "metadata": {},
     "output_type": "execute_result"
    }
   ],
   "source": [
    "indicators.dtypes"
   ]
  },
  {
   "cell_type": "code",
   "execution_count": 23,
   "id": "cea36b0a",
   "metadata": {},
   "outputs": [
    {
     "data": {
      "text/plain": [
       "0"
      ]
     },
     "execution_count": 23,
     "metadata": {},
     "output_type": "execute_result"
    }
   ],
   "source": [
    "# on vérifie s'il y a des doublons\n",
    "indicators[\"Series Code\"].duplicated().sum()"
   ]
  },
  {
   "cell_type": "markdown",
   "id": "505d5462",
   "metadata": {},
   "source": [
    "Ce jeu de données contient la description des 3665 indicateurs. Il va nous permettre de déterminer lesquels peuvent nous intéresser\n",
    "Les seuls colonnes qui vont nous intéresser ici sont le code de l'indicateur (`Series Code`), son sujet (`Topic`), son nom (`Indicator Name`) et sa définition (`Short definition`et `Long definition`)."
   ]
  },
  {
   "cell_type": "code",
   "execution_count": 24,
   "id": "b93d1cdd",
   "metadata": {},
   "outputs": [
    {
     "data": {
      "text/html": [
       "<div>\n",
       "<style scoped>\n",
       "    .dataframe tbody tr th:only-of-type {\n",
       "        vertical-align: middle;\n",
       "    }\n",
       "\n",
       "    .dataframe tbody tr th {\n",
       "        vertical-align: top;\n",
       "    }\n",
       "\n",
       "    .dataframe thead th {\n",
       "        text-align: right;\n",
       "    }\n",
       "</style>\n",
       "<table border=\"1\" class=\"dataframe\">\n",
       "  <thead>\n",
       "    <tr style=\"text-align: right;\">\n",
       "      <th></th>\n",
       "      <th>Series Code</th>\n",
       "      <th>Topic</th>\n",
       "      <th>Indicator Name</th>\n",
       "      <th>Short definition</th>\n",
       "      <th>Long definition</th>\n",
       "    </tr>\n",
       "  </thead>\n",
       "  <tbody>\n",
       "    <tr>\n",
       "      <th>0</th>\n",
       "      <td>BAR.NOED.1519.FE.ZS</td>\n",
       "      <td>Attainment</td>\n",
       "      <td>Barro-Lee: Percentage of female population age...</td>\n",
       "      <td>Percentage of female population age 15-19 with...</td>\n",
       "      <td>Percentage of female population age 15-19 with...</td>\n",
       "    </tr>\n",
       "    <tr>\n",
       "      <th>1</th>\n",
       "      <td>BAR.NOED.1519.ZS</td>\n",
       "      <td>Attainment</td>\n",
       "      <td>Barro-Lee: Percentage of population age 15-19 ...</td>\n",
       "      <td>Percentage of population age 15-19 with no edu...</td>\n",
       "      <td>Percentage of population age 15-19 with no edu...</td>\n",
       "    </tr>\n",
       "    <tr>\n",
       "      <th>2</th>\n",
       "      <td>BAR.NOED.15UP.FE.ZS</td>\n",
       "      <td>Attainment</td>\n",
       "      <td>Barro-Lee: Percentage of female population age...</td>\n",
       "      <td>Percentage of female population age 15+ with n...</td>\n",
       "      <td>Percentage of female population age 15+ with n...</td>\n",
       "    </tr>\n",
       "    <tr>\n",
       "      <th>3</th>\n",
       "      <td>BAR.NOED.15UP.ZS</td>\n",
       "      <td>Attainment</td>\n",
       "      <td>Barro-Lee: Percentage of population age 15+ wi...</td>\n",
       "      <td>Percentage of population age 15+ with no educa...</td>\n",
       "      <td>Percentage of population age 15+ with no educa...</td>\n",
       "    </tr>\n",
       "    <tr>\n",
       "      <th>4</th>\n",
       "      <td>BAR.NOED.2024.FE.ZS</td>\n",
       "      <td>Attainment</td>\n",
       "      <td>Barro-Lee: Percentage of female population age...</td>\n",
       "      <td>Percentage of female population age 20-24 with...</td>\n",
       "      <td>Percentage of female population age 20-24 with...</td>\n",
       "    </tr>\n",
       "  </tbody>\n",
       "</table>\n",
       "</div>"
      ],
      "text/plain": [
       "           Series Code       Topic  \\\n",
       "0  BAR.NOED.1519.FE.ZS  Attainment   \n",
       "1     BAR.NOED.1519.ZS  Attainment   \n",
       "2  BAR.NOED.15UP.FE.ZS  Attainment   \n",
       "3     BAR.NOED.15UP.ZS  Attainment   \n",
       "4  BAR.NOED.2024.FE.ZS  Attainment   \n",
       "\n",
       "                                      Indicator Name  \\\n",
       "0  Barro-Lee: Percentage of female population age...   \n",
       "1  Barro-Lee: Percentage of population age 15-19 ...   \n",
       "2  Barro-Lee: Percentage of female population age...   \n",
       "3  Barro-Lee: Percentage of population age 15+ wi...   \n",
       "4  Barro-Lee: Percentage of female population age...   \n",
       "\n",
       "                                    Short definition  \\\n",
       "0  Percentage of female population age 15-19 with...   \n",
       "1  Percentage of population age 15-19 with no edu...   \n",
       "2  Percentage of female population age 15+ with n...   \n",
       "3  Percentage of population age 15+ with no educa...   \n",
       "4  Percentage of female population age 20-24 with...   \n",
       "\n",
       "                                     Long definition  \n",
       "0  Percentage of female population age 15-19 with...  \n",
       "1  Percentage of population age 15-19 with no edu...  \n",
       "2  Percentage of female population age 15+ with n...  \n",
       "3  Percentage of population age 15+ with no educa...  \n",
       "4  Percentage of female population age 20-24 with...  "
      ]
     },
     "execution_count": 24,
     "metadata": {},
     "output_type": "execute_result"
    }
   ],
   "source": [
    "indicators = indicators.loc[:, :\"Long definition\"]\n",
    "indicators.head()"
   ]
  },
  {
   "cell_type": "markdown",
   "id": "915e4d59",
   "metadata": {},
   "source": [
    "## Choix des indicateurs"
   ]
  },
  {
   "cell_type": "markdown",
   "id": "e15d73ff",
   "metadata": {},
   "source": [
    "Regardons les indicateurs qui peuvent nous intéresser. Pour commencer, regardons les différents sujets traités dans les données :"
   ]
  },
  {
   "cell_type": "code",
   "execution_count": 25,
   "id": "c997db62",
   "metadata": {},
   "outputs": [
    {
     "data": {
      "text/plain": [
       "array(['Attainment', 'Education Equality',\n",
       "       'Infrastructure: Communications', 'Learning Outcomes',\n",
       "       'Economic Policy & Debt: National accounts: US$ at current prices: Aggregate indicators',\n",
       "       'Economic Policy & Debt: National accounts: US$ at constant 2010 prices: Aggregate indicators',\n",
       "       'Economic Policy & Debt: Purchasing power parity',\n",
       "       'Economic Policy & Debt: National accounts: Atlas GNI & GNI per capita',\n",
       "       'Teachers', 'Education Management Information Systems (SABER)',\n",
       "       'Early Child Development (SABER)',\n",
       "       'Engaging the Private Sector (SABER)',\n",
       "       'School Health and School Feeding (SABER)',\n",
       "       'School Autonomy and Accountability (SABER)',\n",
       "       'School Finance (SABER)', 'Student Assessment (SABER)',\n",
       "       'Teachers (SABER)', 'Tertiary Education (SABER)',\n",
       "       'Workforce Development (SABER)', 'Literacy', 'Background',\n",
       "       'Primary', 'Secondary', 'Tertiary', 'Early Childhood Education',\n",
       "       'Pre-Primary', 'Expenditures', 'Health: Risk factors',\n",
       "       'Health: Mortality',\n",
       "       'Social Protection & Labor: Labor force structure', 'Laber',\n",
       "       'Social Protection & Labor: Unemployment',\n",
       "       'Health: Population: Structure', 'Population',\n",
       "       'Health: Population: Dynamics', 'EMIS',\n",
       "       'Post-Secondary/Non-Tertiary'], dtype=object)"
      ]
     },
     "execution_count": 25,
     "metadata": {},
     "output_type": "execute_result"
    }
   ],
   "source": [
    "indicators[\"Topic\"].unique()"
   ]
  },
  {
   "cell_type": "markdown",
   "id": "0666754a",
   "metadata": {},
   "source": [
    "Le sujet `Infrastructure: Communications` nous intéresse évidemment pour les cours en ligne"
   ]
  },
  {
   "cell_type": "code",
   "execution_count": 26,
   "id": "dc3b19e3",
   "metadata": {},
   "outputs": [
    {
     "data": {
      "text/plain": [
       "610    Personal computers (per 100 people)\n",
       "611        Internet users (per 100 people)\n",
       "Name: Indicator Name, dtype: object"
      ]
     },
     "execution_count": 26,
     "metadata": {},
     "output_type": "execute_result"
    }
   ],
   "source": [
    "# regardons les indicateurs en lien avec ce sujet\n",
    "indicators[indicators[\"Topic\"] == \"Infrastructure: Communications\"][\"Indicator Name\"]"
   ]
  },
  {
   "cell_type": "markdown",
   "id": "b90c5856",
   "metadata": {},
   "source": [
    "Les deux indicateurs peuvent nous intéresser mais nous ne garderons que `Internet users (per 100 people)`."
   ]
  },
  {
   "cell_type": "code",
   "execution_count": 27,
   "id": "1d23f7bd",
   "metadata": {},
   "outputs": [
    {
     "data": {
      "text/html": [
       "<div>\n",
       "<style scoped>\n",
       "    .dataframe tbody tr th:only-of-type {\n",
       "        vertical-align: middle;\n",
       "    }\n",
       "\n",
       "    .dataframe tbody tr th {\n",
       "        vertical-align: top;\n",
       "    }\n",
       "\n",
       "    .dataframe thead th {\n",
       "        text-align: right;\n",
       "    }\n",
       "</style>\n",
       "<table border=\"1\" class=\"dataframe\">\n",
       "  <thead>\n",
       "    <tr style=\"text-align: right;\">\n",
       "      <th></th>\n",
       "      <th>Series Code</th>\n",
       "      <th>Topic</th>\n",
       "      <th>Indicator Name</th>\n",
       "      <th>Short definition</th>\n",
       "      <th>Long definition</th>\n",
       "    </tr>\n",
       "  </thead>\n",
       "  <tbody>\n",
       "    <tr>\n",
       "      <th>611</th>\n",
       "      <td>IT.NET.USER.P2</td>\n",
       "      <td>Infrastructure: Communications</td>\n",
       "      <td>Internet users (per 100 people)</td>\n",
       "      <td>NaN</td>\n",
       "      <td>Internet users are individuals who have used t...</td>\n",
       "    </tr>\n",
       "  </tbody>\n",
       "</table>\n",
       "</div>"
      ],
      "text/plain": [
       "        Series Code                           Topic  \\\n",
       "611  IT.NET.USER.P2  Infrastructure: Communications   \n",
       "\n",
       "                      Indicator Name Short definition  \\\n",
       "611  Internet users (per 100 people)              NaN   \n",
       "\n",
       "                                       Long definition  \n",
       "611  Internet users are individuals who have used t...  "
      ]
     },
     "execution_count": 27,
     "metadata": {},
     "output_type": "execute_result"
    }
   ],
   "source": [
    "# on stocke cet indicateur dans la variable internet\n",
    "internet = indicators[indicators[\"Indicator Name\"] == \"Internet users (per 100 people)\"]\n",
    "internet"
   ]
  },
  {
   "cell_type": "markdown",
   "id": "f999da71",
   "metadata": {},
   "source": [
    " "
   ]
  },
  {
   "cell_type": "markdown",
   "id": "66336f40",
   "metadata": {},
   "source": [
    "Le sujet `Population` peut nous intéresser pour connaître la population cible, à savoir la population en âge d'être au lycée ou dans le supérieur"
   ]
  },
  {
   "cell_type": "code",
   "execution_count": 28,
   "id": "6649848c",
   "metadata": {},
   "outputs": [
    {
     "data": {
      "text/plain": [
       "213"
      ]
     },
     "execution_count": 28,
     "metadata": {},
     "output_type": "execute_result"
    }
   ],
   "source": [
    "s = indicators[indicators[\"Topic\"] == \"Population\"][\"Indicator Name\"]\n",
    "s.size"
   ]
  },
  {
   "cell_type": "code",
   "execution_count": 29,
   "id": "6ff03036",
   "metadata": {},
   "outputs": [
    {
     "data": {
      "text/plain": [
       "array(['Population, ages 3-5, female', 'Population, ages 3-5, male',\n",
       "       'Population, ages 3-5, total', 'Population, ages 4-6, female',\n",
       "       'Population, ages 4-6, male', 'Population, ages 4-6, total',\n",
       "       'Population, ages 5-9, female', 'Population, ages 5-9, male',\n",
       "       'Population, ages 5-9, total', 'Population, ages 5-10, female',\n",
       "       'Population, ages 5-10, male', 'Population, ages 5-10, total',\n",
       "       'Population, ages 5-11, female', 'Population, ages 5-11, male',\n",
       "       'Population, ages 5-11, total', 'Population, ages 6-9, female',\n",
       "       'Population, ages 6-9, male', 'Population, ages 6-9, total',\n",
       "       'Population, ages 6-10, female', 'Population, ages 6-10, male',\n",
       "       'Population, ages 6-10, total', 'Population, ages 6-11, female',\n",
       "       'Population, ages 6-11, male', 'Population, ages 6-11, total',\n",
       "       'Population, ages 6-12, female', 'Population, ages 6-12, male',\n",
       "       'Population, ages 6-12, total', 'Population, ages 7-9, female',\n",
       "       'Population, ages 7-9, male', 'Population, ages 7-9, total',\n",
       "       'Population, ages 7-10, female', 'Population, ages 7-10, male',\n",
       "       'Population, ages 7-10, total', 'Population, ages 7-11, female',\n",
       "       'Population, ages 7-11, male', 'Population, ages 7-11, total',\n",
       "       'Population, ages 7-12, female', 'Population, ages 7-12, male',\n",
       "       'Population, ages 7-12, total', 'Population, ages 7-13, female',\n",
       "       'Population, ages 7-13, male', 'Population, ages 7-13, total',\n",
       "       'Population, ages 10-14, female', 'Population, ages 10-14, male',\n",
       "       'Population, ages 10-14, total', 'Population, ages 10-15, female',\n",
       "       'Population, ages 10-15, male', 'Population, ages 10-15, total',\n",
       "       'Population, ages 10-16, female', 'Population, ages 10-16, male',\n",
       "       'Population, ages 10-16, total', 'Population, ages 10-17, female',\n",
       "       'Population, ages 10-17, male', 'Population, ages 10-17, total',\n",
       "       'Population, ages 10-18, female', 'Population, ages 10-18, male',\n",
       "       'Population, ages 10-18, total', 'Population, ages 11-15, female',\n",
       "       'Population, ages 11-15, male', 'Population, ages 11-15, total',\n",
       "       'Population, ages 11-16, female', 'Population, ages 11-16, male',\n",
       "       'Population, ages 11-16, total', 'Population, ages 11-17, female',\n",
       "       'Population, ages 11-17, male', 'Population, ages 11-17, total',\n",
       "       'Population, ages 11-18, female', 'Population, ages 11-18, male',\n",
       "       'Population, ages 11-18, total', 'Population, ages 12-15, female',\n",
       "       'Population, ages 12-15, male', 'Population, ages 12-15, total',\n",
       "       'Population, ages 12-16, female', 'Population, ages 12-16, male',\n",
       "       'Population, ages 12-16, total', 'Population, ages 12-17, female',\n",
       "       'Population, ages 12-17, male', 'Population, ages 12-17, total',\n",
       "       'Population, ages 12-18, female', 'Population, ages 12-18, male',\n",
       "       'Population, ages 12-18, total', 'Population, ages 13-16, female',\n",
       "       'Population, ages 13-16, male', 'Population, ages 13-16, total',\n",
       "       'Population, ages 13-17, female', 'Population, ages 13-17, male',\n",
       "       'Population, ages 13-17, total', 'Population, ages 13-18, female',\n",
       "       'Population, ages 13-18, male', 'Population, ages 13-18, total',\n",
       "       'Population, ages 13-19, female', 'Population, ages 13-19, male',\n",
       "       'Population, ages 13-19, total', 'Population, ages 14-18, female',\n",
       "       'Population, ages 14-18, male', 'Population, ages 14-18, total',\n",
       "       'Population, ages 14-19, female', 'Population, ages 14-19, male',\n",
       "       'Population, ages 14-19, total', 'Population, ages 15-24, female',\n",
       "       'Population, ages 15-24, male', 'Population, ages 15-24, total',\n",
       "       'Age population, age 0, female, UNESCO', 'Population, age 0, male',\n",
       "       'Age population, age 0, total, UNESCO',\n",
       "       'Age population, age 01, female, UNESCO',\n",
       "       'Population, age 1, male', 'Age population, age 01, total, UNESCO',\n",
       "       'Age population, age 02, female, UNESCO',\n",
       "       'Population, age 2, male', 'Age population, age 02, total, UNESCO',\n",
       "       'Age population, age 03, female, UNESCO',\n",
       "       'Population, age 3, male', 'Age population, age 03, total, UNESCO',\n",
       "       'Age population, age 04, female, UNESCO',\n",
       "       'Population, age 4, male', 'Age population, age 04, total, UNESCO',\n",
       "       'Age population, age 05, female, UNESCO',\n",
       "       'Population, age 5, male', 'Age population, age 05, total, UNESCO',\n",
       "       'Age population, age 06, female, UNESCO',\n",
       "       'Population, age 6, male', 'Age population, age 06, total, UNESCO',\n",
       "       'Age population, age 07, female, UNESCO',\n",
       "       'Population, age 7, male', 'Age population, age 07, total, UNESCO',\n",
       "       'Age population, age 08, female, UNESCO',\n",
       "       'Population, age 8, male', 'Age population, age 08, total, UNESCO',\n",
       "       'Age population, age 09, female, UNESCO',\n",
       "       'Population, age 9, male', 'Age population, age 09, total, UNESCO',\n",
       "       'Age population, age 10, female, UNESCO',\n",
       "       'Population, age 10, male',\n",
       "       'Age population, age 10, total, UNESCO',\n",
       "       'Age population, age 11, female, UNESCO',\n",
       "       'Population, age 11, male',\n",
       "       'Age population, age 11, total, UNESCO',\n",
       "       'Age population, age 12, female, UNESCO',\n",
       "       'Population, age 12, male',\n",
       "       'Age population, age 12, total, UNESCO',\n",
       "       'Age population, age 13, female, UNESCO',\n",
       "       'Population, age 13, male',\n",
       "       'Age population, age 13, total, UNESCO',\n",
       "       'Age population, age 14, female, UNESCO',\n",
       "       'Population, age 14, male',\n",
       "       'Age population, age 14, total, UNESCO',\n",
       "       'Age population, age 15, female, UNESCO',\n",
       "       'Population, age 15, male',\n",
       "       'Age population, age 15, total, UNESCO',\n",
       "       'Age population, age 16, female, UNESCO',\n",
       "       'Population, age 16, male',\n",
       "       'Age population, age 16, total, UNESCO',\n",
       "       'Age population, age 17, female, UNESCO',\n",
       "       'Population, age 17, male',\n",
       "       'Age population, age 17, total, UNESCO',\n",
       "       'Age population, age 18, female, UNESCO',\n",
       "       'Population, age 18, male',\n",
       "       'Age population, age 18, total, UNESCO',\n",
       "       'Age population, age 19, female, UNESCO',\n",
       "       'Population, age 19, male',\n",
       "       'Age population, age 19, total, UNESCO',\n",
       "       'Age population, age 20, female, UNESCO',\n",
       "       'Population, age 20, male',\n",
       "       'Age population, age 20, total, UNESCO',\n",
       "       'Age population, age 21, female, UNESCO',\n",
       "       'Population, age 21, male',\n",
       "       'Age population, age 21, total, UNESCO',\n",
       "       'Age population, age 22, female, UNESCO',\n",
       "       'Population, age 22, male',\n",
       "       'Age population, age 22, total, UNESCO',\n",
       "       'Age population, age 23, female, UNESCO',\n",
       "       'Population, age 23, male',\n",
       "       'Age population, age 23, total, UNESCO',\n",
       "       'Age population, age 24, female, UNESCO',\n",
       "       'Population, age 24, male',\n",
       "       'Age population, age 24, total, UNESCO',\n",
       "       'Age population, age 25, female, UNESCO',\n",
       "       'Population, age 25, male',\n",
       "       'Age population, age 25, total, UNESCO',\n",
       "       'Population of the official age for pre-primary education, female (number)',\n",
       "       'Population of the official age for pre-primary education, both sexes (number)',\n",
       "       'Population of the official age for pre-primary education, male (number)',\n",
       "       'Population of the official age for the last grade of primary education, female (number)',\n",
       "       'Population of the official age for the last grade of primary education, male (number)',\n",
       "       'Population of the official age for the last grade of primary education, both sexes (number)',\n",
       "       'Population of the official age for primary education, female (number)',\n",
       "       'Population of the official age for primary education, both sexes (number)',\n",
       "       'Population of the official age for primary education, male (number)',\n",
       "       'Population of the official age for lower secondary education, female (number)',\n",
       "       'Population of the official age for lower secondary education, both sexes (number)',\n",
       "       'Population of the official age for lower secondary education, male (number)',\n",
       "       'Population of the official age for secondary education, female (number)',\n",
       "       'Population of the official age for secondary education, both sexes (number)',\n",
       "       'Population of the official age for secondary education, male (number)',\n",
       "       'Population of the official age for upper secondary education, female (number)',\n",
       "       'Population of the official age for upper secondary education, both sexes (number)',\n",
       "       'Population of the official age for upper secondary education, male (number)',\n",
       "       'Population of the official age for tertiary education, female (number)',\n",
       "       'Population of the official age for tertiary education, both sexes (number)',\n",
       "       'Population of the official age for tertiary education, male (number)',\n",
       "       'Population of the official entrance age to primary education, both sexes (number)',\n",
       "       'Population of the official entrance age to primary education, female (number)',\n",
       "       'Population of the official entrance age to primary education, male (number)',\n",
       "       'Population of the official entrance age to secondary general education, both sexes (number)',\n",
       "       'Population of the official entrance age to secondary general education, female (number)',\n",
       "       'Population of the official entrance age to secondary general education, male (number)',\n",
       "       'Population of the official age for post-secondary non-tertiary education, both sexes (number)',\n",
       "       'Population of the official age for post-secondary non-tertiary education, female (number)',\n",
       "       'Population of the official age for post-secondary non-tertiary education, male (number)',\n",
       "       'Population of compulsory school age, both sexes (number)',\n",
       "       'Population of compulsory school age, female (number)',\n",
       "       'Population of compulsory school age, male (number)'], dtype=object)"
      ]
     },
     "execution_count": 29,
     "metadata": {},
     "output_type": "execute_result"
    }
   ],
   "source": [
    "s.values"
   ]
  },
  {
   "cell_type": "markdown",
   "id": "708dafc0",
   "metadata": {},
   "source": [
    "Nous allons retenir l'indicateur de la population totale âgée entre 15 et 24 ans : `Population, ages 15-24, total`"
   ]
  },
  {
   "cell_type": "code",
   "execution_count": 30,
   "id": "3fa6f81f",
   "metadata": {},
   "outputs": [
    {
     "data": {
      "text/html": [
       "<div>\n",
       "<style scoped>\n",
       "    .dataframe tbody tr th:only-of-type {\n",
       "        vertical-align: middle;\n",
       "    }\n",
       "\n",
       "    .dataframe tbody tr th {\n",
       "        vertical-align: top;\n",
       "    }\n",
       "\n",
       "    .dataframe thead th {\n",
       "        text-align: right;\n",
       "    }\n",
       "</style>\n",
       "<table border=\"1\" class=\"dataframe\">\n",
       "  <thead>\n",
       "    <tr style=\"text-align: right;\">\n",
       "      <th></th>\n",
       "      <th>Series Code</th>\n",
       "      <th>Topic</th>\n",
       "      <th>Indicator Name</th>\n",
       "      <th>Short definition</th>\n",
       "      <th>Long definition</th>\n",
       "    </tr>\n",
       "  </thead>\n",
       "  <tbody>\n",
       "    <tr>\n",
       "      <th>2506</th>\n",
       "      <td>SP.POP.1524.TO.UN</td>\n",
       "      <td>Population</td>\n",
       "      <td>Population, ages 15-24, total</td>\n",
       "      <td>Population, ages 15-24, total is the total pop...</td>\n",
       "      <td>Population, ages 15-24, total is the total pop...</td>\n",
       "    </tr>\n",
       "  </tbody>\n",
       "</table>\n",
       "</div>"
      ],
      "text/plain": [
       "            Series Code       Topic                 Indicator Name  \\\n",
       "2506  SP.POP.1524.TO.UN  Population  Population, ages 15-24, total   \n",
       "\n",
       "                                       Short definition  \\\n",
       "2506  Population, ages 15-24, total is the total pop...   \n",
       "\n",
       "                                        Long definition  \n",
       "2506  Population, ages 15-24, total is the total pop...  "
      ]
     },
     "execution_count": 30,
     "metadata": {},
     "output_type": "execute_result"
    }
   ],
   "source": [
    "# on stocke cet indicateur dans la variable pop\n",
    "pop = indicators[indicators[\"Indicator Name\"] == \"Population, ages 15-24, total\"]\n",
    "pop"
   ]
  },
  {
   "cell_type": "markdown",
   "id": "2d930bf7",
   "metadata": {},
   "source": [
    " "
   ]
  },
  {
   "cell_type": "markdown",
   "id": "573bb708",
   "metadata": {},
   "source": [
    "Les sujets commençant par \"Economic Policy & Debt\" possèdent des indicateurs sur la richesse du pays. Cela va nous intéresser car les populations les plus riches seront plus susceptibles de devenir clients."
   ]
  },
  {
   "cell_type": "code",
   "execution_count": 31,
   "id": "53928148",
   "metadata": {},
   "outputs": [
    {
     "data": {
      "text/plain": [
       "1668    GNI per capita, Atlas method (current US$)\n",
       "Name: Indicator Name, dtype: object"
      ]
     },
     "execution_count": 31,
     "metadata": {},
     "output_type": "execute_result"
    }
   ],
   "source": [
    "indicators[indicators[\"Topic\"] == \"Economic Policy & Debt: National accounts: Atlas GNI & GNI per capita\"][\"Indicator Name\"]"
   ]
  },
  {
   "cell_type": "code",
   "execution_count": 32,
   "id": "768311d5",
   "metadata": {},
   "outputs": [
    {
     "data": {
      "text/plain": [
       "1659               GDP (constant 2010 US$)\n",
       "1663    GDP per capita (constant 2010 US$)\n",
       "Name: Indicator Name, dtype: object"
      ]
     },
     "execution_count": 32,
     "metadata": {},
     "output_type": "execute_result"
    }
   ],
   "source": [
    "indicators[indicators[\"Topic\"] == \"Economic Policy & Debt: National accounts: US$ at constant 2010 prices: Aggregate indicators\"][\"Indicator Name\"]"
   ]
  },
  {
   "cell_type": "code",
   "execution_count": 33,
   "id": "646b9f23",
   "metadata": {},
   "outputs": [
    {
     "data": {
      "text/plain": [
       "1660                   GDP, PPP (current international $)\n",
       "1661             GDP, PPP (constant 2011 international $)\n",
       "1664        GDP per capita, PPP (current international $)\n",
       "1665    GDP per capita, PPP (constant 2011 internation...\n",
       "1667                   GNI, PPP (current international $)\n",
       "1669        GNI per capita, PPP (current international $)\n",
       "Name: Indicator Name, dtype: object"
      ]
     },
     "execution_count": 33,
     "metadata": {},
     "output_type": "execute_result"
    }
   ],
   "source": [
    "indicators[indicators[\"Topic\"] == \"Economic Policy & Debt: Purchasing power parity\"][\"Indicator Name\"]"
   ]
  },
  {
   "cell_type": "code",
   "execution_count": 34,
   "id": "703e0376",
   "metadata": {},
   "outputs": [
    {
     "data": {
      "text/plain": [
       "1658               GDP (current US$)\n",
       "1662    GDP per capita (current US$)\n",
       "1666               GNI (current US$)\n",
       "Name: Indicator Name, dtype: object"
      ]
     },
     "execution_count": 34,
     "metadata": {},
     "output_type": "execute_result"
    }
   ],
   "source": [
    "indicators[indicators[\"Topic\"] == \"Economic Policy & Debt: National accounts: US$ at current prices: Aggregate indicators\"][\"Indicator Name\"]"
   ]
  },
  {
   "cell_type": "markdown",
   "id": "dadb16de",
   "metadata": {},
   "source": [
    "Il y a plusieurs indicateurs qui donnent le PIB (GDP) ou le RNB (GNI), la différence réside dans la méthode de calcul du PIB/RNB. Dans le suite on ne gardera que l'indicateur `GNI per capita, Atlas method (current US$)` pour comparer le revenu par habitant."
   ]
  },
  {
   "cell_type": "code",
   "execution_count": 35,
   "id": "a10d29ee",
   "metadata": {
    "scrolled": true
   },
   "outputs": [
    {
     "data": {
      "text/html": [
       "<div>\n",
       "<style scoped>\n",
       "    .dataframe tbody tr th:only-of-type {\n",
       "        vertical-align: middle;\n",
       "    }\n",
       "\n",
       "    .dataframe tbody tr th {\n",
       "        vertical-align: top;\n",
       "    }\n",
       "\n",
       "    .dataframe thead th {\n",
       "        text-align: right;\n",
       "    }\n",
       "</style>\n",
       "<table border=\"1\" class=\"dataframe\">\n",
       "  <thead>\n",
       "    <tr style=\"text-align: right;\">\n",
       "      <th></th>\n",
       "      <th>Series Code</th>\n",
       "      <th>Topic</th>\n",
       "      <th>Indicator Name</th>\n",
       "      <th>Short definition</th>\n",
       "      <th>Long definition</th>\n",
       "    </tr>\n",
       "  </thead>\n",
       "  <tbody>\n",
       "    <tr>\n",
       "      <th>1668</th>\n",
       "      <td>NY.GNP.PCAP.CD</td>\n",
       "      <td>Economic Policy &amp; Debt: National accounts: Atl...</td>\n",
       "      <td>GNI per capita, Atlas method (current US$)</td>\n",
       "      <td>NaN</td>\n",
       "      <td>GNI per capita (formerly GNP per capita) is th...</td>\n",
       "    </tr>\n",
       "  </tbody>\n",
       "</table>\n",
       "</div>"
      ],
      "text/plain": [
       "         Series Code                                              Topic  \\\n",
       "1668  NY.GNP.PCAP.CD  Economic Policy & Debt: National accounts: Atl...   \n",
       "\n",
       "                                  Indicator Name Short definition  \\\n",
       "1668  GNI per capita, Atlas method (current US$)              NaN   \n",
       "\n",
       "                                        Long definition  \n",
       "1668  GNI per capita (formerly GNP per capita) is th...  "
      ]
     },
     "execution_count": 35,
     "metadata": {},
     "output_type": "execute_result"
    }
   ],
   "source": [
    "# on stocke cet indicateur dans la variable income\n",
    "income = indicators[indicators[\"Topic\"] == \"Economic Policy & Debt: National accounts: Atlas GNI & GNI per capita\"]\n",
    "income"
   ]
  },
  {
   "cell_type": "markdown",
   "id": "93cc2e96",
   "metadata": {},
   "source": [
    " "
   ]
  },
  {
   "cell_type": "markdown",
   "id": "0ea53898",
   "metadata": {},
   "source": [
    "Le sujet `Attainment` va nous intéresser car il possède des indicateurs sur les prévisions futures de la population pour différentes tranches d'âge en fonction du niveau d'étude."
   ]
  },
  {
   "cell_type": "code",
   "execution_count": 36,
   "id": "d91663ad",
   "metadata": {},
   "outputs": [
    {
     "data": {
      "text/plain": [
       "733"
      ]
     },
     "execution_count": 36,
     "metadata": {},
     "output_type": "execute_result"
    }
   ],
   "source": [
    "s = indicators[indicators[\"Topic\"] == \"Attainment\"][\"Indicator Name\"]\n",
    "s.size"
   ]
  },
  {
   "cell_type": "code",
   "execution_count": 37,
   "id": "5e2b06b0",
   "metadata": {},
   "outputs": [
    {
     "data": {
      "text/plain": [
       "array(['Projection: Percentage of the population age 15-19 by highest level of educational attainment. Primary. Female',\n",
       "       'Projection: Percentage of the population age 15-19 by highest level of educational attainment. Primary. Male',\n",
       "       'Projection: Percentage of the population age 15-19 by highest level of educational attainment. Primary. Total',\n",
       "       'Projection: Percentage of the population age 15-19 by highest level of educational attainment. Lower Secondary. Female',\n",
       "       'Projection: Percentage of the population age 15-19 by highest level of educational attainment. Lower Secondary. Male',\n",
       "       'Projection: Percentage of the population age 15-19 by highest level of educational attainment. Lower Secondary. Total',\n",
       "       'Projection: Percentage of the population age 15-19 by highest level of educational attainment. Upper Secondary. Female',\n",
       "       'Projection: Percentage of the population age 15-19 by highest level of educational attainment. Upper Secondary. Male',\n",
       "       'Projection: Percentage of the population age 15-19 by highest level of educational attainment. Upper Secondary. Total',\n",
       "       'Projection: Percentage of the population age 15-19 by highest level of educational attainment. Post Secondary. Female',\n",
       "       'Projection: Percentage of the population age 15-19 by highest level of educational attainment. Post Secondary. Male',\n",
       "       'Projection: Percentage of the population age 15-19 by highest level of educational attainment. Post Secondary. Total',\n",
       "       'Projection: Percentage of the population age 15-19 by highest level of educational attainment. No Education. Female',\n",
       "       'Projection: Percentage of the population age 15-19 by highest level of educational attainment. No Education. Male',\n",
       "       'Projection: Percentage of the population age 15-19 by highest level of educational attainment. No Education. Total',\n",
       "       'Projection: Percentage of the population age 15-19 by highest level of educational attainment. Incomplete Primary. Female',\n",
       "       'Projection: Percentage of the population age 15-19 by highest level of educational attainment. Incomplete Primary. Male',\n",
       "       'Projection: Percentage of the population age 15-19 by highest level of educational attainment. Incomplete Primary. Total',\n",
       "       'Projection: Percentage of the population age 15+ by highest level of educational attainment. Primary. Female',\n",
       "       'Projection: Percentage of the population age 15+ by highest level of educational attainment. Primary. Male',\n",
       "       'Projection: Percentage of the population age 15+ by highest level of educational attainment. Primary. Total',\n",
       "       'Projection: Percentage of the population age 15+ by highest level of educational attainment. Lower Secondary. Female',\n",
       "       'Projection: Percentage of the population age 15+ by highest level of educational attainment. Lower Secondary. Male',\n",
       "       'Projection: Percentage of the population age 15+ by highest level of educational attainment. Lower Secondary. Total',\n",
       "       'Projection: Percentage of the population age 15+ by highest level of educational attainment. Upper Secondary. Female',\n",
       "       'Projection: Percentage of the population age 15+ by highest level of educational attainment. Upper Secondary. Male',\n",
       "       'Projection: Percentage of the population age 15+ by highest level of educational attainment. Upper Secondary. Total',\n",
       "       'Projection: Percentage of the population age 15+ by highest level of educational attainment. Post Secondary. Female',\n",
       "       'Projection: Percentage of the population age 15+ by highest level of educational attainment. Post Secondary. Male',\n",
       "       'Projection: Percentage of the population age 15+ by highest level of educational attainment. Post Secondary. Total',\n",
       "       'Projection: Percentage of the population age 15+ by highest level of educational attainment. No Education. Female',\n",
       "       'Projection: Percentage of the population age 15+ by highest level of educational attainment. No Education. Male',\n",
       "       'Projection: Percentage of the population age 15+ by highest level of educational attainment. No Education. Total',\n",
       "       'Projection: Percentage of the population age 15+ by highest level of educational attainment. Incomplete Primary. Female',\n",
       "       'Projection: Percentage of the population age 15+ by highest level of educational attainment. Incomplete Primary. Male',\n",
       "       'Projection: Percentage of the population age 15+ by highest level of educational attainment. Incomplete Primary. Total',\n",
       "       'Projection: Percentage of the population age 20-24 by highest level of educational attainment. Primary. Female',\n",
       "       'Projection: Percentage of the population age 20-24 by highest level of educational attainment. Primary. Male',\n",
       "       'Projection: Percentage of the population age 20-24 by highest level of educational attainment. Primary. Total',\n",
       "       'Projection: Percentage of the population age 20-24 by highest level of educational attainment. Lower Secondary. Female',\n",
       "       'Projection: Percentage of the population age 20-24 by highest level of educational attainment. Lower Secondary. Male',\n",
       "       'Projection: Percentage of the population age 20-24 by highest level of educational attainment. Lower Secondary. Total',\n",
       "       'Projection: Percentage of the population age 20-24 by highest level of educational attainment. Upper Secondary. Female',\n",
       "       'Projection: Percentage of the population age 20-24 by highest level of educational attainment. Upper Secondary. Male',\n",
       "       'Projection: Percentage of the population age 20-24 by highest level of educational attainment. Upper Secondary. Total',\n",
       "       'Projection: Percentage of the population age 20-24 by highest level of educational attainment. Post Secondary. Female',\n",
       "       'Projection: Percentage of the population age 20-24 by highest level of educational attainment. Post Secondary. Male',\n",
       "       'Projection: Percentage of the population age 20-24 by highest level of educational attainment. Post Secondary. Total',\n",
       "       'Projection: Percentage of the population age 20-24 by highest level of educational attainment. No Education. Female',\n",
       "       'Projection: Percentage of the population age 20-24 by highest level of educational attainment. No Education. Male',\n",
       "       'Projection: Percentage of the population age 20-24 by highest level of educational attainment. No Education. Total',\n",
       "       'Projection: Percentage of the population age 20-24 by highest level of educational attainment. Incomplete Primary. Female',\n",
       "       'Projection: Percentage of the population age 20-24 by highest level of educational attainment. Incomplete Primary. Male',\n",
       "       'Projection: Percentage of the population age 20-24 by highest level of educational attainment. Incomplete Primary. Total',\n",
       "       'Projection: Percentage of the population age 20-39 by highest level of educational attainment. Primary. Female',\n",
       "       'Projection: Percentage of the population age 20-39 by highest level of educational attainment. Primary. Male',\n",
       "       'Projection: Percentage of the population age 20-39 by highest level of educational attainment. Primary. Total',\n",
       "       'Projection: Percentage of the population age 20-39 by highest level of educational attainment. Lower Secondary. Female',\n",
       "       'Projection: Percentage of the population age 20-39 by highest level of educational attainment. Lower Secondary. Male',\n",
       "       'Projection: Percentage of the population age 20-39 by highest level of educational attainment. Lower Secondary. Total',\n",
       "       'Projection: Percentage of the population age 20-39 by highest level of educational attainment. Upper Secondary. Female',\n",
       "       'Projection: Percentage of the population age 20-39 by highest level of educational attainment. Upper Secondary. Male',\n",
       "       'Projection: Percentage of the population age 20-39 by highest level of educational attainment. Upper Secondary. Total',\n",
       "       'Projection: Percentage of the population age 20-39 by highest level of educational attainment. Post Secondary. Female',\n",
       "       'Projection: Percentage of the population age 20-39 by highest level of educational attainment. Post Secondary. Male',\n",
       "       'Projection: Percentage of the population age 20-39 by highest level of educational attainment. Post Secondary. Total',\n",
       "       'Projection: Percentage of the population age 20-39 by highest level of educational attainment. No Education. Female',\n",
       "       'Projection: Percentage of the population age 20-39 by highest level of educational attainment. No Education. Male',\n",
       "       'Projection: Percentage of the population age 20-39 by highest level of educational attainment. No Education. Total',\n",
       "       'Projection: Percentage of the population age 20-39 by highest level of educational attainment. Incomplete Primary. Female',\n",
       "       'Projection: Percentage of the population age 20-39 by highest level of educational attainment. Incomplete Primary. Male',\n",
       "       'Projection: Percentage of the population age 20-39 by highest level of educational attainment. Incomplete Primary. Total',\n",
       "       'Projection: Percentage of the population age 20-64 by highest level of educational attainment. Primary. Female',\n",
       "       'Projection: Percentage of the population age 20-64 by highest level of educational attainment. Primary. Male',\n",
       "       'Projection: Percentage of the population age 20-64 by highest level of educational attainment. Primary. Total',\n",
       "       'Projection: Percentage of the population age 20-64 by highest level of educational attainment. Lower Secondary. Female',\n",
       "       'Projection: Percentage of the population age 20-64 by highest level of educational attainment. Lower Secondary. Male',\n",
       "       'Projection: Percentage of the population age 20-64 by highest level of educational attainment. Lower Secondary. Total',\n",
       "       'Projection: Percentage of the population age 20-64 by highest level of educational attainment. Upper Secondary. Female',\n",
       "       'Projection: Percentage of the population age 20-64 by highest level of educational attainment. Upper Secondary. Male',\n",
       "       'Projection: Percentage of the population age 20-64 by highest level of educational attainment. Upper Secondary. Total',\n",
       "       'Projection: Percentage of the population age 20-64 by highest level of educational attainment. Post Secondary. Female',\n",
       "       'Projection: Percentage of the population age 20-64 by highest level of educational attainment. Post Secondary. Male',\n",
       "       'Projection: Percentage of the population age 20-64 by highest level of educational attainment. Post Secondary. Total',\n",
       "       'Projection: Percentage of the population age 20-64 by highest level of educational attainment. No Education. Female',\n",
       "       'Projection: Percentage of the population age 20-64 by highest level of educational attainment. No Education. Male',\n",
       "       'Projection: Percentage of the population age 20-64 by highest level of educational attainment. No Education. Total',\n",
       "       'Projection: Percentage of the population age 20-64 by highest level of educational attainment. Incomplete Primary. Female',\n",
       "       'Projection: Percentage of the population age 20-64 by highest level of educational attainment. Incomplete Primary. Male',\n",
       "       'Projection: Percentage of the population age 20-64 by highest level of educational attainment. Incomplete Primary. Total',\n",
       "       'Projection: Percentage of the population age 25-29 by highest level of educational attainment. Primary. Female',\n",
       "       'Projection: Percentage of the population age 25-29 by highest level of educational attainment. Primary. Male',\n",
       "       'Projection: Percentage of the population age 25-29 by highest level of educational attainment. Primary. Total',\n",
       "       'Projection: Percentage of the population age 25-29 by highest level of educational attainment. Lower Secondary. Female',\n",
       "       'Projection: Percentage of the population age 25-29 by highest level of educational attainment. Lower Secondary. Male',\n",
       "       'Projection: Percentage of the population age 25-29 by highest level of educational attainment. Lower Secondary. Total',\n",
       "       'Projection: Percentage of the population age 25-29 by highest level of educational attainment. Upper Secondary. Female',\n",
       "       'Projection: Percentage of the population age 25-29 by highest level of educational attainment. Upper Secondary. Male',\n",
       "       'Projection: Percentage of the population age 25-29 by highest level of educational attainment. Upper Secondary. Total',\n",
       "       'Projection: Percentage of the population age 25-29 by highest level of educational attainment. Post Secondary. Female',\n",
       "       'Projection: Percentage of the population age 25-29 by highest level of educational attainment. Post Secondary. Male',\n",
       "       'Projection: Percentage of the population age 25-29 by highest level of educational attainment. Post Secondary. Total',\n",
       "       'Projection: Percentage of the population age 25-29 by highest level of educational attainment. No Education. Female',\n",
       "       'Projection: Percentage of the population age 25-29 by highest level of educational attainment. No Education. Male',\n",
       "       'Projection: Percentage of the population age 25-29 by highest level of educational attainment. No Education. Total',\n",
       "       'Projection: Percentage of the population age 25-29 by highest level of educational attainment. Incomplete Primary. Female',\n",
       "       'Projection: Percentage of the population age 25-29 by highest level of educational attainment. Incomplete Primary. Male',\n",
       "       'Projection: Percentage of the population age 25-29 by highest level of educational attainment. Incomplete Primary. Total',\n",
       "       'Projection: Percentage of the population age 25+ by highest level of educational attainment. Primary. Female',\n",
       "       'Projection: Percentage of the population age 25+ by highest level of educational attainment. Primary. Male',\n",
       "       'Projection: Percentage of the population age 25+ by highest level of educational attainment. Primary. Total',\n",
       "       'Projection: Percentage of the population age 25+ by highest level of educational attainment. Lower Secondary. Female',\n",
       "       'Projection: Percentage of the population age 25+ by highest level of educational attainment. Lower Secondary. Male',\n",
       "       'Projection: Percentage of the population age 25+ by highest level of educational attainment. Lower Secondary. Total',\n",
       "       'Projection: Percentage of the population age 25+ by highest level of educational attainment. Upper Secondary. Female',\n",
       "       'Projection: Percentage of the population age 25+ by highest level of educational attainment. Upper Secondary. Male',\n",
       "       'Projection: Percentage of the population age 25+ by highest level of educational attainment. Upper Secondary. Total',\n",
       "       'Projection: Percentage of the population age 25+ by highest level of educational attainment. Post Secondary. Female',\n",
       "       'Projection: Percentage of the population age 25+ by highest level of educational attainment. Post Secondary. Male',\n",
       "       'Projection: Percentage of the population age 25+ by highest level of educational attainment. Post Secondary. Total',\n",
       "       'Projection: Percentage of the population age 25+ by highest level of educational attainment. No Education. Female',\n",
       "       'Projection: Percentage of the population age 25+ by highest level of educational attainment. No Education. Male',\n",
       "       'Projection: Percentage of the population age 25+ by highest level of educational attainment. No Education. Total',\n",
       "       'Projection: Percentage of the population age 25+ by highest level of educational attainment. Incomplete Primary. Female',\n",
       "       'Projection: Percentage of the population age 25+ by highest level of educational attainment. Incomplete Primary. Male',\n",
       "       'Projection: Percentage of the population age 25+ by highest level of educational attainment. Incomplete Primary. Total',\n",
       "       'Projection: Percentage of the population age 40-64 by highest level of educational attainment. Primary. Female',\n",
       "       'Projection: Percentage of the population age 40-64 by highest level of educational attainment. Primary. Male',\n",
       "       'Projection: Percentage of the population age 40-64 by highest level of educational attainment. Primary. Total',\n",
       "       'Projection: Percentage of the population age 40-64 by highest level of educational attainment. Lower Secondary. Female',\n",
       "       'Projection: Percentage of the population age 40-64 by highest level of educational attainment. Lower Secondary. Male',\n",
       "       'Projection: Percentage of the population age 40-64 by highest level of educational attainment. Lower Secondary. Total',\n",
       "       'Projection: Percentage of the population age 40-64 by highest level of educational attainment. Upper Secondary. Female',\n",
       "       'Projection: Percentage of the population age 40-64 by highest level of educational attainment. Upper Secondary. Male',\n",
       "       'Projection: Percentage of the population age 40-64 by highest level of educational attainment. Upper Secondary. Total',\n",
       "       'Projection: Percentage of the population age 40-64 by highest level of educational attainment. Post Secondary. Female',\n",
       "       'Projection: Percentage of the population age 40-64 by highest level of educational attainment. Post Secondary. Male',\n",
       "       'Projection: Percentage of the population age 40-64 by highest level of educational attainment. Post Secondary. Total',\n",
       "       'Projection: Percentage of the population age 40-64 by highest level of educational attainment. No Education. Female',\n",
       "       'Projection: Percentage of the population age 40-64 by highest level of educational attainment. No Education. Male',\n",
       "       'Projection: Percentage of the population age 40-64 by highest level of educational attainment. No Education. Total',\n",
       "       'Projection: Percentage of the population age 40-64 by highest level of educational attainment. Incomplete Primary. Female',\n",
       "       'Projection: Percentage of the population age 40-64 by highest level of educational attainment. Incomplete Primary. Male',\n",
       "       'Projection: Percentage of the population age 40-64 by highest level of educational attainment. Incomplete Primary. Total',\n",
       "       'Projection: Percentage of the population age 60+ by highest level of educational attainment. Primary. Female',\n",
       "       'Projection: Percentage of the population age 60+ by highest level of educational attainment. Primary. Male',\n",
       "       'Projection: Percentage of the population age 60+ by highest level of educational attainment. Primary. Total',\n",
       "       'Projection: Percentage of the population age 60+ by highest level of educational attainment. Lower Secondary. Female',\n",
       "       'Projection: Percentage of the population age 60+ by highest level of educational attainment. Lower Secondary. Male',\n",
       "       'Projection: Percentage of the population age 60+ by highest level of educational attainment. Lower Secondary. Total',\n",
       "       'Projection: Percentage of the population age 60+ by highest level of educational attainment. Upper Secondary. Female',\n",
       "       'Projection: Percentage of the population age 60+ by highest level of educational attainment. Upper Secondary. Male',\n",
       "       'Projection: Percentage of the population age 60+ by highest level of educational attainment. Upper Secondary. Total',\n",
       "       'Projection: Percentage of the population age 60+ by highest level of educational attainment. Post Secondary. Female',\n",
       "       'Projection: Percentage of the population age 60+ by highest level of educational attainment. Post Secondary. Male',\n",
       "       'Projection: Percentage of the population age 60+ by highest level of educational attainment. Post Secondary. Total',\n",
       "       'Projection: Percentage of the population age 60+ by highest level of educational attainment. No Education. Female',\n",
       "       'Projection: Percentage of the population age 60+ by highest level of educational attainment. No Education. Male',\n",
       "       'Projection: Percentage of the population age 60+ by highest level of educational attainment. No Education. Total',\n",
       "       'Projection: Percentage of the population age 60+ by highest level of educational attainment. Incomplete Primary. Female',\n",
       "       'Projection: Percentage of the population age 60+ by highest level of educational attainment. Incomplete Primary. Male',\n",
       "       'Projection: Percentage of the population age 60+ by highest level of educational attainment. Incomplete Primary. Total',\n",
       "       'Projection: Percentage of the population age 80+ by highest level of educational attainment. Primary. Female',\n",
       "       'Projection: Percentage of the population age 80+ by highest level of educational attainment. Primary. Male',\n",
       "       'Projection: Percentage of the population age 80+ by highest level of educational attainment. Primary. Total',\n",
       "       'Projection: Percentage of the population age 80+ by highest level of educational attainment. Lower Secondary. Female',\n",
       "       'Projection: Percentage of the population age 80+ by highest level of educational attainment. Lower Secondary. Male',\n",
       "       'Projection: Percentage of the population age 80+ by highest level of educational attainment. Lower Secondary. Total',\n",
       "       'Projection: Percentage of the population age 80+ by highest level of educational attainment. Upper Secondary. Female',\n",
       "       'Projection: Percentage of the population age 80+ by highest level of educational attainment. Upper Secondary. Male',\n",
       "       'Projection: Percentage of the population age 80+ by highest level of educational attainment. Upper Secondary. Total',\n",
       "       'Projection: Percentage of the population age 80+ by highest level of educational attainment. Post Secondary. Female',\n",
       "       'Projection: Percentage of the population age 80+ by highest level of educational attainment. Post Secondary. Male',\n",
       "       'Projection: Percentage of the population age 80+ by highest level of educational attainment. Post Secondary. Total',\n",
       "       'Projection: Percentage of the population age 80+ by highest level of educational attainment. No Education. Female',\n",
       "       'Projection: Percentage of the population age 80+ by highest level of educational attainment. No Education. Male',\n",
       "       'Projection: Percentage of the population age 80+ by highest level of educational attainment. No Education. Total',\n",
       "       'Projection: Percentage of the population age 80+ by highest level of educational attainment. Incomplete Primary. Female',\n",
       "       'Projection: Percentage of the population age 80+ by highest level of educational attainment. Incomplete Primary. Male',\n",
       "       'Projection: Percentage of the population age 80+ by highest level of educational attainment. Incomplete Primary. Total',\n",
       "       'Projection: Percentage of the total population by highest level of educational attainment. Primary. Female',\n",
       "       'Projection: Percentage of the total population by highest level of educational attainment. Primary. Male',\n",
       "       'Projection: Percentage of the total population by highest level of educational attainment. Primary. Total',\n",
       "       'Projection: Percentage of the total population by highest level of educational attainment. Lower Secondary. Female',\n",
       "       'Projection: Percentage of the total population by highest level of educational attainment. Lower Secondary. Male',\n",
       "       'Projection: Percentage of the total population by highest level of educational attainment. Lower Secondary. Total',\n",
       "       'Projection: Percentage of the total population by highest level of educational attainment. Upper Secondary. Female',\n",
       "       'Projection: Percentage of the total population by highest level of educational attainment. Upper Secondary. Male',\n",
       "       'Projection: Percentage of the total population by highest level of educational attainment. Upper Secondary. Total',\n",
       "       'Projection: Percentage of the total population by highest level of educational attainment. Post Secondary. Female',\n",
       "       'Projection: Percentage of the total population by highest level of educational attainment. Post Secondary. Male',\n",
       "       'Projection: Percentage of the total population by highest level of educational attainment. Post Secondary. Total',\n",
       "       'Projection: Percentage of the total population by highest level of educational attainment. No Education. Female',\n",
       "       'Projection: Percentage of the total population by highest level of educational attainment. No Education. Male',\n",
       "       'Projection: Percentage of the total population by highest level of educational attainment. No Education. Total',\n",
       "       'Projection: Percentage of the total population by highest level of educational attainment. Incomplete Primary. Female',\n",
       "       'Projection: Percentage of the total population by highest level of educational attainment. Incomplete Primary. Male',\n",
       "       'Projection: Percentage of the total population by highest level of educational attainment. Incomplete Primary. Total',\n",
       "       'Projection: Mean years of schooling. Age 0-19. Female',\n",
       "       'Projection: Mean years of schooling. Age 0-19. Male',\n",
       "       'Projection: Mean years of schooling. Age 0-19. Total',\n",
       "       'Projection: Mean years of schooling. Age 15-19. Female',\n",
       "       'Projection: Mean years of schooling. Age 15-19. Male',\n",
       "       'Projection: Mean years of schooling. Age 15-19. Total',\n",
       "       'Projection: Mean years of schooling. Age 15+. Female',\n",
       "       'Projection: Mean Years of Schooling. Age 15+. Gender Gap',\n",
       "       'Projection: Mean years of schooling. Age 15+. Male',\n",
       "       'Projection: Mean years of schooling. Age 15+. Total',\n",
       "       'Projection: Mean years of schooling. Age 20-24. Female',\n",
       "       'Projection: Mean years of schooling. Age 20-24. Male',\n",
       "       'Projection: Mean years of schooling. Age 20-24. Total',\n",
       "       'Projection: Mean years of schooling. Age 20-39. Female',\n",
       "       'Projection: Mean years of schooling. Age 20-39. Male',\n",
       "       'Projection: Mean years of schooling. Age 20-39. Total',\n",
       "       'Projection: Mean years of schooling. Age 20-64. Female',\n",
       "       'Projection: Mean years of schooling. Age 20-64. Male',\n",
       "       'Projection: Mean years of schooling. Age 20-64. Total',\n",
       "       'Projection: Mean years of schooling. Age 25-29. Female',\n",
       "       'Projection: Mean years of schooling. Age 25-29. Male',\n",
       "       'Projection: Mean years of schooling. Age 25-29. Total',\n",
       "       'Projection: Mean years of schooling. Age 25+. Female',\n",
       "       'Projection: Mean Years of Schooling. Age 25+. Gender Gap',\n",
       "       'Projection: Mean years of schooling. Age 25+. Male',\n",
       "       'Projection: Mean years of schooling. Age 25+. Total',\n",
       "       'Projection: Mean years of schooling. Age 40-64. Female',\n",
       "       'Projection: Mean years of schooling. Age 40-64. Male',\n",
       "       'Projection: Mean years of schooling. Age 40-64. Total',\n",
       "       'Projection: Mean years of schooling. Age 60+. Female',\n",
       "       'Projection: Mean years of schooling. Age 60+. Male',\n",
       "       'Projection: Mean years of schooling. Age 60+. Total',\n",
       "       'Projection: Mean years of schooling. Age 65+. Female',\n",
       "       'Projection: Mean years of schooling. Age 65+. Male',\n",
       "       'Projection: Mean years of schooling. Age 65+. Total',\n",
       "       'Projection: Mean years of schooling. Age 80+. Female',\n",
       "       'Projection: Mean years of schooling. Age 80+. Male',\n",
       "       'Projection: Mean years of schooling. Age 80+. Total',\n",
       "       'Projection: Population age 15-19 in thousands by highest level of educational attainment. Primary. Female',\n",
       "       'Projection: Population age 15-19 in thousands by highest level of educational attainment. Primary. Male',\n",
       "       'Projection: Population age 15-19 in thousands by highest level of educational attainment. Primary. Total',\n",
       "       'Projection: Population age 15-19 in thousands by highest level of educational attainment. Lower Secondary. Female',\n",
       "       'Projection: Population age 15-19 in thousands by highest level of educational attainment. Lower Secondary. Male',\n",
       "       'Projection: Population age 15-19 in thousands by highest level of educational attainment. Lower Secondary. Total',\n",
       "       'Projection: Population age 15-19 in thousands by highest level of educational attainment. Upper Secondary. Female',\n",
       "       'Projection: Population age 15-19 in thousands by highest level of educational attainment. Upper Secondary. Male',\n",
       "       'Projection: Population age 15-19 in thousands by highest level of educational attainment. Upper Secondary. Total',\n",
       "       'Projection: Population age 15-19 in thousands by highest level of educational attainment. Post Secondary. Female',\n",
       "       'Projection: Population age 15-19 in thousands by highest level of educational attainment. Post Secondary. Male',\n",
       "       'Projection: Population age 15-19 in thousands by highest level of educational attainment. Post Secondary. Total',\n",
       "       'Projection: Population age 15-19 in thousands by highest level of educational attainment. No Education. Female',\n",
       "       'Projection: Population age 15-19 in thousands by highest level of educational attainment. No Education. Male',\n",
       "       'Projection: Population age 15-19 in thousands by highest level of educational attainment. No Education. Total',\n",
       "       'Projection: Population age 15-19 in thousands by highest level of educational attainment. Incomplete Primary. Female',\n",
       "       'Projection: Population age 15-19 in thousands by highest level of educational attainment. Incomplete Primary. Male',\n",
       "       'Projection: Population age 15-19 in thousands by highest level of educational attainment. Incomplete Primary. Total',\n",
       "       'Projection: Population age 20-24 in thousands by highest level of educational attainment. Primary. Female',\n",
       "       'Projection: Population age 20-24 in thousands by highest level of educational attainment. Primary. Male',\n",
       "       'Projection: Population age 20-24 in thousands by highest level of educational attainment. Primary. Total',\n",
       "       'Projection: Population age 20-24 in thousands by highest level of educational attainment. Lower Secondary. Female',\n",
       "       'Projection: Population age 20-24 in thousands by highest level of educational attainment. Lower Secondary. Male',\n",
       "       'Projection: Population age 20-24 in thousands by highest level of educational attainment. Lower Secondary. Total',\n",
       "       'Projection: Population age 20-24 in thousands by highest level of educational attainment. Upper Secondary. Female',\n",
       "       'Projection: Population age 20-24 in thousands by highest level of educational attainment. Upper Secondary. Male',\n",
       "       'Projection: Population age 20-24 in thousands by highest level of educational attainment. Upper Secondary. Total',\n",
       "       'Projection: Population age 20-24 in thousands by highest level of educational attainment. Post Secondary. Female',\n",
       "       'Projection: Population age 20-24 in thousands by highest level of educational attainment. Post Secondary. Male',\n",
       "       'Projection: Population age 20-24 in thousands by highest level of educational attainment. Post Secondary. Total',\n",
       "       'Projection: Population age 20-24 in thousands by highest level of educational attainment. No Education. Female',\n",
       "       'Projection: Population age 20-24 in thousands by highest level of educational attainment. No Education. Male',\n",
       "       'Projection: Population age 20-24 in thousands by highest level of educational attainment. No Education. Total',\n",
       "       'Projection: Population age 20-24 in thousands by highest level of educational attainment. Incomplete Primary. Female',\n",
       "       'Projection: Population age 20-24 in thousands by highest level of educational attainment. Incomplete Primary. Male',\n",
       "       'Projection: Population age 20-24 in thousands by highest level of educational attainment. Incomplete Primary. Total',\n",
       "       'Projection: Population age 25-29 in thousands by highest level of educational attainment. Primary. Female',\n",
       "       'Projection: Population age 25-29 in thousands by highest level of educational attainment. Primary. Male',\n",
       "       'Projection: Population age 25-29 in thousands by highest level of educational attainment. Primary. Total',\n",
       "       'Projection: Population age 25-29 in thousands by highest level of educational attainment. Lower Secondary. Female',\n",
       "       'Projection: Population age 25-29 in thousands by highest level of educational attainment. Lower Secondary. Male',\n",
       "       'Projection: Population age 25-29 in thousands by highest level of educational attainment. Lower Secondary. Total',\n",
       "       'Projection: Population age 25-29 in thousands by highest level of educational attainment. Upper Secondary. Female',\n",
       "       'Projection: Population age 25-29 in thousands by highest level of educational attainment. Upper Secondary. Male',\n",
       "       'Projection: Population age 25-29 in thousands by highest level of educational attainment. Upper Secondary. Total',\n",
       "       'Projection: Population age 25-29 in thousands by highest level of educational attainment. Post Secondary. Female',\n",
       "       'Projection: Population age 25-29 in thousands by highest level of educational attainment. Post Secondary. Male',\n",
       "       'Projection: Population age 25-29 in thousands by highest level of educational attainment. Post Secondary. Total',\n",
       "       'Projection: Population age 25-29 in thousands by highest level of educational attainment. No Education. Female',\n",
       "       'Projection: Population age 25-29 in thousands by highest level of educational attainment. No Education. Male',\n",
       "       'Projection: Population age 25-29 in thousands by highest level of educational attainment. No Education. Total',\n",
       "       'Projection: Population age 25-29 in thousands by highest level of educational attainment. Incomplete Primary. Female',\n",
       "       'Projection: Population age 25-29 in thousands by highest level of educational attainment. Incomplete Primary. Male',\n",
       "       'Projection: Population age 25-29 in thousands by highest level of educational attainment. Incomplete Primary. Total',\n",
       "       'Projection: Population in thousands by highest level of educational attainment. Primary. Female',\n",
       "       'Projection: Population in thousands by highest level of educational attainment. Primary. Male',\n",
       "       'Projection: Population in thousands by highest level of educational attainment. Primary. Total',\n",
       "       'Projection: Population in thousands by highest level of educational attainment. Lower Secondary. Female',\n",
       "       'Projection: Population in thousands by highest level of educational attainment. Lower Secondary. Male',\n",
       "       'Projection: Population in thousands by highest level of educational attainment. Lower Secondary. Total',\n",
       "       'Projection: Population in thousands by highest level of educational attainment. Upper Secondary. Female',\n",
       "       'Projection: Population in thousands by highest level of educational attainment. Upper Secondary. Male',\n",
       "       'Projection: Population in thousands by highest level of educational attainment. Upper Secondary. Total',\n",
       "       'Projection: Population in thousands by highest level of educational attainment. Post Secondary. Female',\n",
       "       'Projection: Population in thousands by highest level of educational attainment. Post Secondary. Male',\n",
       "       'Projection: Population in thousands by highest level of educational attainment. Post Secondary. Total',\n",
       "       'Projection: Population in thousands by highest level of educational attainment. No Education. Female',\n",
       "       'Projection: Population in thousands by highest level of educational attainment. No Education. Male',\n",
       "       'Projection: Population in thousands by highest level of educational attainment. No Education. Total',\n",
       "       'Projection: Population in thousands by highest level of educational attainment. Incomplete Primary. Female',\n",
       "       'Projection: Population in thousands by highest level of educational attainment. Incomplete Primary. Male',\n",
       "       'Projection: Population in thousands by highest level of educational attainment. Incomplete Primary. Total'],\n",
       "      dtype=object)"
      ]
     },
     "execution_count": 37,
     "metadata": {},
     "output_type": "execute_result"
    }
   ],
   "source": [
    "s[s.str.contains(\"Projection\")].values"
   ]
  },
  {
   "cell_type": "markdown",
   "id": "c21fc2e0",
   "metadata": {},
   "source": [
    "Nous allons retenir les indicateurs pour les populations âgée entre 15 et 24 ans qui auront au moins atteint le lycée (upper secondary)."
   ]
  },
  {
   "cell_type": "code",
   "execution_count": 38,
   "id": "eac2f5f8",
   "metadata": {},
   "outputs": [
    {
     "data": {
      "text/plain": [
       "array(['Projection: Population age 15-19 in thousands by highest level of educational attainment. Upper Secondary. Total',\n",
       "       'Projection: Population age 15-19 in thousands by highest level of educational attainment. Post Secondary. Total',\n",
       "       'Projection: Population age 20-24 in thousands by highest level of educational attainment. Upper Secondary. Total',\n",
       "       'Projection: Population age 20-24 in thousands by highest level of educational attainment. Post Secondary. Total'],\n",
       "      dtype=object)"
      ]
     },
     "execution_count": 38,
     "metadata": {},
     "output_type": "execute_result"
    }
   ],
   "source": [
    "# liste des indicateurs qui nous intéressent\n",
    "liste = [\"Projection: Population age 15-19 in thousands by highest level of educational attainment. Upper Secondary. Total\",\n",
    "         \"Projection: Population age 20-24 in thousands by highest level of educational attainment. Upper Secondary. Total\",\n",
    "         \"Projection: Population age 15-19 in thousands by highest level of educational attainment. Post Secondary. Total\",\n",
    "         \"Projection: Population age 20-24 in thousands by highest level of educational attainment. Post Secondary. Total\",\n",
    "        ]\n",
    "# on va utiliser un masque\n",
    "condition = indicators[\"Indicator Name\"] == liste[0]\n",
    "for val in liste[1:]:\n",
    "    cond = indicators[\"Indicator Name\"] == val\n",
    "    condition = condition | cond\n",
    "# on sélectionne les indicateurs et on les met dans la variable projection\n",
    "projection = indicators[condition]\n",
    "projection[\"Indicator Name\"].values"
   ]
  },
  {
   "cell_type": "markdown",
   "id": "8057d9f4",
   "metadata": {},
   "source": [
    "\n"
   ]
  },
  {
   "cell_type": "markdown",
   "id": "1810de54",
   "metadata": {},
   "source": [
    "**Après avoir sélectionner les indicateurs qui nous intéressaient, on les regroupe dans la variable indicators (qui contient initialement tous les indicateurs)**"
   ]
  },
  {
   "cell_type": "code",
   "execution_count": 39,
   "id": "c31b5ae9",
   "metadata": {
    "scrolled": true
   },
   "outputs": [
    {
     "data": {
      "text/html": [
       "<div>\n",
       "<style scoped>\n",
       "    .dataframe tbody tr th:only-of-type {\n",
       "        vertical-align: middle;\n",
       "    }\n",
       "\n",
       "    .dataframe tbody tr th {\n",
       "        vertical-align: top;\n",
       "    }\n",
       "\n",
       "    .dataframe thead th {\n",
       "        text-align: right;\n",
       "    }\n",
       "</style>\n",
       "<table border=\"1\" class=\"dataframe\">\n",
       "  <thead>\n",
       "    <tr style=\"text-align: right;\">\n",
       "      <th></th>\n",
       "      <th>Series Code</th>\n",
       "      <th>Topic</th>\n",
       "      <th>Indicator Name</th>\n",
       "      <th>Short definition</th>\n",
       "      <th>Long definition</th>\n",
       "    </tr>\n",
       "  </thead>\n",
       "  <tbody>\n",
       "    <tr>\n",
       "      <th>611</th>\n",
       "      <td>IT.NET.USER.P2</td>\n",
       "      <td>Infrastructure: Communications</td>\n",
       "      <td>Internet users (per 100 people)</td>\n",
       "      <td>NaN</td>\n",
       "      <td>Internet users are individuals who have used t...</td>\n",
       "    </tr>\n",
       "    <tr>\n",
       "      <th>1668</th>\n",
       "      <td>NY.GNP.PCAP.CD</td>\n",
       "      <td>Economic Policy &amp; Debt: National accounts: Atl...</td>\n",
       "      <td>GNI per capita, Atlas method (current US$)</td>\n",
       "      <td>NaN</td>\n",
       "      <td>GNI per capita (formerly GNP per capita) is th...</td>\n",
       "    </tr>\n",
       "    <tr>\n",
       "      <th>2506</th>\n",
       "      <td>SP.POP.1524.TO.UN</td>\n",
       "      <td>Population</td>\n",
       "      <td>Population, ages 15-24, total</td>\n",
       "      <td>Population, ages 15-24, total is the total pop...</td>\n",
       "      <td>Population, ages 15-24, total is the total pop...</td>\n",
       "    </tr>\n",
       "    <tr>\n",
       "      <th>1930</th>\n",
       "      <td>PRJ.POP.1519.3.MF</td>\n",
       "      <td>Attainment</td>\n",
       "      <td>Projection: Population age 15-19 in thousands ...</td>\n",
       "      <td>NaN</td>\n",
       "      <td>Total population in thousands in the specified...</td>\n",
       "    </tr>\n",
       "    <tr>\n",
       "      <th>1933</th>\n",
       "      <td>PRJ.POP.1519.4.MF</td>\n",
       "      <td>Attainment</td>\n",
       "      <td>Projection: Population age 15-19 in thousands ...</td>\n",
       "      <td>NaN</td>\n",
       "      <td>Total population in thousands in the specified...</td>\n",
       "    </tr>\n",
       "    <tr>\n",
       "      <th>1948</th>\n",
       "      <td>PRJ.POP.2024.3.MF</td>\n",
       "      <td>Attainment</td>\n",
       "      <td>Projection: Population age 20-24 in thousands ...</td>\n",
       "      <td>NaN</td>\n",
       "      <td>Total population in thousands in the specified...</td>\n",
       "    </tr>\n",
       "    <tr>\n",
       "      <th>1951</th>\n",
       "      <td>PRJ.POP.2024.4.MF</td>\n",
       "      <td>Attainment</td>\n",
       "      <td>Projection: Population age 20-24 in thousands ...</td>\n",
       "      <td>NaN</td>\n",
       "      <td>Total population in thousands in the specified...</td>\n",
       "    </tr>\n",
       "  </tbody>\n",
       "</table>\n",
       "</div>"
      ],
      "text/plain": [
       "            Series Code                                              Topic  \\\n",
       "611      IT.NET.USER.P2                     Infrastructure: Communications   \n",
       "1668     NY.GNP.PCAP.CD  Economic Policy & Debt: National accounts: Atl...   \n",
       "2506  SP.POP.1524.TO.UN                                         Population   \n",
       "1930  PRJ.POP.1519.3.MF                                         Attainment   \n",
       "1933  PRJ.POP.1519.4.MF                                         Attainment   \n",
       "1948  PRJ.POP.2024.3.MF                                         Attainment   \n",
       "1951  PRJ.POP.2024.4.MF                                         Attainment   \n",
       "\n",
       "                                         Indicator Name  \\\n",
       "611                     Internet users (per 100 people)   \n",
       "1668         GNI per capita, Atlas method (current US$)   \n",
       "2506                      Population, ages 15-24, total   \n",
       "1930  Projection: Population age 15-19 in thousands ...   \n",
       "1933  Projection: Population age 15-19 in thousands ...   \n",
       "1948  Projection: Population age 20-24 in thousands ...   \n",
       "1951  Projection: Population age 20-24 in thousands ...   \n",
       "\n",
       "                                       Short definition  \\\n",
       "611                                                 NaN   \n",
       "1668                                                NaN   \n",
       "2506  Population, ages 15-24, total is the total pop...   \n",
       "1930                                                NaN   \n",
       "1933                                                NaN   \n",
       "1948                                                NaN   \n",
       "1951                                                NaN   \n",
       "\n",
       "                                        Long definition  \n",
       "611   Internet users are individuals who have used t...  \n",
       "1668  GNI per capita (formerly GNP per capita) is th...  \n",
       "2506  Population, ages 15-24, total is the total pop...  \n",
       "1930  Total population in thousands in the specified...  \n",
       "1933  Total population in thousands in the specified...  \n",
       "1948  Total population in thousands in the specified...  \n",
       "1951  Total population in thousands in the specified...  "
      ]
     },
     "execution_count": 39,
     "metadata": {},
     "output_type": "execute_result"
    }
   ],
   "source": [
    "indicators = pd.concat([internet, income, pop, projection])\n",
    "indicators"
   ]
  },
  {
   "cell_type": "markdown",
   "id": "e75c027f",
   "metadata": {},
   "source": [
    "# Analyse de \"EdStatsData.csv\""
   ]
  },
  {
   "cell_type": "code",
   "execution_count": 40,
   "id": "92d99531",
   "metadata": {
    "scrolled": true
   },
   "outputs": [
    {
     "data": {
      "text/html": [
       "<div>\n",
       "<style scoped>\n",
       "    .dataframe tbody tr th:only-of-type {\n",
       "        vertical-align: middle;\n",
       "    }\n",
       "\n",
       "    .dataframe tbody tr th {\n",
       "        vertical-align: top;\n",
       "    }\n",
       "\n",
       "    .dataframe thead th {\n",
       "        text-align: right;\n",
       "    }\n",
       "</style>\n",
       "<table border=\"1\" class=\"dataframe\">\n",
       "  <thead>\n",
       "    <tr style=\"text-align: right;\">\n",
       "      <th></th>\n",
       "      <th>Country Name</th>\n",
       "      <th>Country Code</th>\n",
       "      <th>Indicator Name</th>\n",
       "      <th>Indicator Code</th>\n",
       "      <th>1970</th>\n",
       "      <th>1971</th>\n",
       "      <th>1972</th>\n",
       "      <th>1973</th>\n",
       "      <th>1974</th>\n",
       "      <th>1975</th>\n",
       "      <th>...</th>\n",
       "      <th>2060</th>\n",
       "      <th>2065</th>\n",
       "      <th>2070</th>\n",
       "      <th>2075</th>\n",
       "      <th>2080</th>\n",
       "      <th>2085</th>\n",
       "      <th>2090</th>\n",
       "      <th>2095</th>\n",
       "      <th>2100</th>\n",
       "      <th>Unnamed: 69</th>\n",
       "    </tr>\n",
       "  </thead>\n",
       "  <tbody>\n",
       "    <tr>\n",
       "      <th>0</th>\n",
       "      <td>Arab World</td>\n",
       "      <td>ARB</td>\n",
       "      <td>Adjusted net enrolment rate, lower secondary, ...</td>\n",
       "      <td>UIS.NERA.2</td>\n",
       "      <td>NaN</td>\n",
       "      <td>NaN</td>\n",
       "      <td>NaN</td>\n",
       "      <td>NaN</td>\n",
       "      <td>NaN</td>\n",
       "      <td>NaN</td>\n",
       "      <td>...</td>\n",
       "      <td>NaN</td>\n",
       "      <td>NaN</td>\n",
       "      <td>NaN</td>\n",
       "      <td>NaN</td>\n",
       "      <td>NaN</td>\n",
       "      <td>NaN</td>\n",
       "      <td>NaN</td>\n",
       "      <td>NaN</td>\n",
       "      <td>NaN</td>\n",
       "      <td>NaN</td>\n",
       "    </tr>\n",
       "    <tr>\n",
       "      <th>1</th>\n",
       "      <td>Arab World</td>\n",
       "      <td>ARB</td>\n",
       "      <td>Adjusted net enrolment rate, lower secondary, ...</td>\n",
       "      <td>UIS.NERA.2.F</td>\n",
       "      <td>NaN</td>\n",
       "      <td>NaN</td>\n",
       "      <td>NaN</td>\n",
       "      <td>NaN</td>\n",
       "      <td>NaN</td>\n",
       "      <td>NaN</td>\n",
       "      <td>...</td>\n",
       "      <td>NaN</td>\n",
       "      <td>NaN</td>\n",
       "      <td>NaN</td>\n",
       "      <td>NaN</td>\n",
       "      <td>NaN</td>\n",
       "      <td>NaN</td>\n",
       "      <td>NaN</td>\n",
       "      <td>NaN</td>\n",
       "      <td>NaN</td>\n",
       "      <td>NaN</td>\n",
       "    </tr>\n",
       "  </tbody>\n",
       "</table>\n",
       "<p>2 rows × 70 columns</p>\n",
       "</div>"
      ],
      "text/plain": [
       "  Country Name Country Code  \\\n",
       "0   Arab World          ARB   \n",
       "1   Arab World          ARB   \n",
       "\n",
       "                                      Indicator Name Indicator Code  1970  \\\n",
       "0  Adjusted net enrolment rate, lower secondary, ...     UIS.NERA.2   NaN   \n",
       "1  Adjusted net enrolment rate, lower secondary, ...   UIS.NERA.2.F   NaN   \n",
       "\n",
       "   1971  1972  1973  1974  1975  ...  2060  2065  2070  2075  2080  2085  \\\n",
       "0   NaN   NaN   NaN   NaN   NaN  ...   NaN   NaN   NaN   NaN   NaN   NaN   \n",
       "1   NaN   NaN   NaN   NaN   NaN  ...   NaN   NaN   NaN   NaN   NaN   NaN   \n",
       "\n",
       "   2090  2095  2100  Unnamed: 69  \n",
       "0   NaN   NaN   NaN          NaN  \n",
       "1   NaN   NaN   NaN          NaN  \n",
       "\n",
       "[2 rows x 70 columns]"
      ]
     },
     "execution_count": 40,
     "metadata": {},
     "output_type": "execute_result"
    }
   ],
   "source": [
    "data = pd.read_csv(\"Edstats_csv/EdStatsData.csv\")\n",
    "data.head(2)"
   ]
  },
  {
   "cell_type": "code",
   "execution_count": 41,
   "id": "f532aa47",
   "metadata": {},
   "outputs": [
    {
     "data": {
      "text/plain": [
       "(886930, 69)"
      ]
     },
     "execution_count": 41,
     "metadata": {},
     "output_type": "execute_result"
    }
   ],
   "source": [
    "data = data.drop(columns=\"Unnamed: 69\")\n",
    "data.shape"
   ]
  },
  {
   "cell_type": "code",
   "execution_count": 42,
   "id": "8e0aec85",
   "metadata": {},
   "outputs": [
    {
     "data": {
      "text/plain": [
       "0.86"
      ]
     },
     "execution_count": 42,
     "metadata": {},
     "output_type": "execute_result"
    }
   ],
   "source": [
    "# Taux de valeurs manquantes\n",
    "na_rate = data.isna().mean().mean()\n",
    "na_rate.round(2)"
   ]
  },
  {
   "cell_type": "code",
   "execution_count": 43,
   "id": "c95a4b36",
   "metadata": {},
   "outputs": [
    {
     "data": {
      "text/plain": [
       "0"
      ]
     },
     "execution_count": 43,
     "metadata": {},
     "output_type": "execute_result"
    }
   ],
   "source": [
    "# Vérification des doublons\n",
    "data.loc[:, :\"Indicator Code\"].duplicated().sum()"
   ]
  },
  {
   "cell_type": "markdown",
   "id": "03caafc8",
   "metadata": {},
   "source": [
    "Ce jeu de données contient les valeurs de chaque indicateur pour les différents pays, c'est là que se trouvent les données qui nous intéressent. Les valeurs d'un indicateur pour un pays donné sont réparties en colonnes en fonction de l'année, allant de 1970 pour les valeurs les plus anciennes jusqu'à 2100 pour les prévisions.\n",
    "Le tableau contient 86% de valeurs manquantes mais nous ne seront intéressés que par les valeurs les plus récentes et les valeurs futures pour les prévisions."
   ]
  },
  {
   "cell_type": "markdown",
   "id": "9ec32938",
   "metadata": {
    "toc-hr-collapsed": true
   },
   "source": [
    "# Nettoyage des data"
   ]
  },
  {
   "cell_type": "markdown",
   "id": "4ec6f63e",
   "metadata": {},
   "source": [
    "## On ne garde que les pays riches"
   ]
  },
  {
   "cell_type": "code",
   "execution_count": 44,
   "id": "82a7a664",
   "metadata": {
    "scrolled": true
   },
   "outputs": [
    {
     "data": {
      "text/html": [
       "<div>\n",
       "<style scoped>\n",
       "    .dataframe tbody tr th:only-of-type {\n",
       "        vertical-align: middle;\n",
       "    }\n",
       "\n",
       "    .dataframe tbody tr th {\n",
       "        vertical-align: top;\n",
       "    }\n",
       "\n",
       "    .dataframe thead th {\n",
       "        text-align: right;\n",
       "    }\n",
       "</style>\n",
       "<table border=\"1\" class=\"dataframe\">\n",
       "  <thead>\n",
       "    <tr style=\"text-align: right;\">\n",
       "      <th></th>\n",
       "      <th>Country Name</th>\n",
       "      <th>Country Code</th>\n",
       "      <th>Indicator Name</th>\n",
       "      <th>Indicator Code</th>\n",
       "      <th>1970</th>\n",
       "      <th>1971</th>\n",
       "      <th>1972</th>\n",
       "      <th>1973</th>\n",
       "      <th>1974</th>\n",
       "      <th>1975</th>\n",
       "      <th>...</th>\n",
       "      <th>2055</th>\n",
       "      <th>2060</th>\n",
       "      <th>2065</th>\n",
       "      <th>2070</th>\n",
       "      <th>2075</th>\n",
       "      <th>2080</th>\n",
       "      <th>2085</th>\n",
       "      <th>2090</th>\n",
       "      <th>2095</th>\n",
       "      <th>2100</th>\n",
       "    </tr>\n",
       "  </thead>\n",
       "  <tbody>\n",
       "    <tr>\n",
       "      <th>106285</th>\n",
       "      <td>Andorra</td>\n",
       "      <td>AND</td>\n",
       "      <td>Adjusted net enrolment rate, lower secondary, ...</td>\n",
       "      <td>UIS.NERA.2</td>\n",
       "      <td>NaN</td>\n",
       "      <td>NaN</td>\n",
       "      <td>NaN</td>\n",
       "      <td>NaN</td>\n",
       "      <td>NaN</td>\n",
       "      <td>NaN</td>\n",
       "      <td>...</td>\n",
       "      <td>NaN</td>\n",
       "      <td>NaN</td>\n",
       "      <td>NaN</td>\n",
       "      <td>NaN</td>\n",
       "      <td>NaN</td>\n",
       "      <td>NaN</td>\n",
       "      <td>NaN</td>\n",
       "      <td>NaN</td>\n",
       "      <td>NaN</td>\n",
       "      <td>NaN</td>\n",
       "    </tr>\n",
       "    <tr>\n",
       "      <th>106286</th>\n",
       "      <td>Andorra</td>\n",
       "      <td>AND</td>\n",
       "      <td>Adjusted net enrolment rate, lower secondary, ...</td>\n",
       "      <td>UIS.NERA.2.F</td>\n",
       "      <td>NaN</td>\n",
       "      <td>NaN</td>\n",
       "      <td>NaN</td>\n",
       "      <td>NaN</td>\n",
       "      <td>NaN</td>\n",
       "      <td>NaN</td>\n",
       "      <td>...</td>\n",
       "      <td>NaN</td>\n",
       "      <td>NaN</td>\n",
       "      <td>NaN</td>\n",
       "      <td>NaN</td>\n",
       "      <td>NaN</td>\n",
       "      <td>NaN</td>\n",
       "      <td>NaN</td>\n",
       "      <td>NaN</td>\n",
       "      <td>NaN</td>\n",
       "      <td>NaN</td>\n",
       "    </tr>\n",
       "    <tr>\n",
       "      <th>106287</th>\n",
       "      <td>Andorra</td>\n",
       "      <td>AND</td>\n",
       "      <td>Adjusted net enrolment rate, lower secondary, ...</td>\n",
       "      <td>UIS.NERA.2.GPI</td>\n",
       "      <td>NaN</td>\n",
       "      <td>NaN</td>\n",
       "      <td>NaN</td>\n",
       "      <td>NaN</td>\n",
       "      <td>NaN</td>\n",
       "      <td>NaN</td>\n",
       "      <td>...</td>\n",
       "      <td>NaN</td>\n",
       "      <td>NaN</td>\n",
       "      <td>NaN</td>\n",
       "      <td>NaN</td>\n",
       "      <td>NaN</td>\n",
       "      <td>NaN</td>\n",
       "      <td>NaN</td>\n",
       "      <td>NaN</td>\n",
       "      <td>NaN</td>\n",
       "      <td>NaN</td>\n",
       "    </tr>\n",
       "    <tr>\n",
       "      <th>106288</th>\n",
       "      <td>Andorra</td>\n",
       "      <td>AND</td>\n",
       "      <td>Adjusted net enrolment rate, lower secondary, ...</td>\n",
       "      <td>UIS.NERA.2.M</td>\n",
       "      <td>NaN</td>\n",
       "      <td>NaN</td>\n",
       "      <td>NaN</td>\n",
       "      <td>NaN</td>\n",
       "      <td>NaN</td>\n",
       "      <td>NaN</td>\n",
       "      <td>...</td>\n",
       "      <td>NaN</td>\n",
       "      <td>NaN</td>\n",
       "      <td>NaN</td>\n",
       "      <td>NaN</td>\n",
       "      <td>NaN</td>\n",
       "      <td>NaN</td>\n",
       "      <td>NaN</td>\n",
       "      <td>NaN</td>\n",
       "      <td>NaN</td>\n",
       "      <td>NaN</td>\n",
       "    </tr>\n",
       "    <tr>\n",
       "      <th>106289</th>\n",
       "      <td>Andorra</td>\n",
       "      <td>AND</td>\n",
       "      <td>Adjusted net enrolment rate, primary, both sex...</td>\n",
       "      <td>SE.PRM.TENR</td>\n",
       "      <td>NaN</td>\n",
       "      <td>NaN</td>\n",
       "      <td>NaN</td>\n",
       "      <td>NaN</td>\n",
       "      <td>NaN</td>\n",
       "      <td>NaN</td>\n",
       "      <td>...</td>\n",
       "      <td>NaN</td>\n",
       "      <td>NaN</td>\n",
       "      <td>NaN</td>\n",
       "      <td>NaN</td>\n",
       "      <td>NaN</td>\n",
       "      <td>NaN</td>\n",
       "      <td>NaN</td>\n",
       "      <td>NaN</td>\n",
       "      <td>NaN</td>\n",
       "      <td>NaN</td>\n",
       "    </tr>\n",
       "  </tbody>\n",
       "</table>\n",
       "<p>5 rows × 69 columns</p>\n",
       "</div>"
      ],
      "text/plain": [
       "       Country Name Country Code  \\\n",
       "106285      Andorra          AND   \n",
       "106286      Andorra          AND   \n",
       "106287      Andorra          AND   \n",
       "106288      Andorra          AND   \n",
       "106289      Andorra          AND   \n",
       "\n",
       "                                           Indicator Name  Indicator Code  \\\n",
       "106285  Adjusted net enrolment rate, lower secondary, ...      UIS.NERA.2   \n",
       "106286  Adjusted net enrolment rate, lower secondary, ...    UIS.NERA.2.F   \n",
       "106287  Adjusted net enrolment rate, lower secondary, ...  UIS.NERA.2.GPI   \n",
       "106288  Adjusted net enrolment rate, lower secondary, ...    UIS.NERA.2.M   \n",
       "106289  Adjusted net enrolment rate, primary, both sex...     SE.PRM.TENR   \n",
       "\n",
       "        1970  1971  1972  1973  1974  1975  ...  2055  2060  2065  2070  2075  \\\n",
       "106285   NaN   NaN   NaN   NaN   NaN   NaN  ...   NaN   NaN   NaN   NaN   NaN   \n",
       "106286   NaN   NaN   NaN   NaN   NaN   NaN  ...   NaN   NaN   NaN   NaN   NaN   \n",
       "106287   NaN   NaN   NaN   NaN   NaN   NaN  ...   NaN   NaN   NaN   NaN   NaN   \n",
       "106288   NaN   NaN   NaN   NaN   NaN   NaN  ...   NaN   NaN   NaN   NaN   NaN   \n",
       "106289   NaN   NaN   NaN   NaN   NaN   NaN  ...   NaN   NaN   NaN   NaN   NaN   \n",
       "\n",
       "        2080  2085  2090  2095  2100  \n",
       "106285   NaN   NaN   NaN   NaN   NaN  \n",
       "106286   NaN   NaN   NaN   NaN   NaN  \n",
       "106287   NaN   NaN   NaN   NaN   NaN  \n",
       "106288   NaN   NaN   NaN   NaN   NaN  \n",
       "106289   NaN   NaN   NaN   NaN   NaN  \n",
       "\n",
       "[5 rows x 69 columns]"
      ]
     },
     "execution_count": 44,
     "metadata": {},
     "output_type": "execute_result"
    }
   ],
   "source": [
    "mask1 = countries[\"Income Group\"] == \"High income: nonOECD\"\n",
    "mask2 = countries[\"Income Group\"] == \"High income: OECD\"\n",
    "high_income_countries = countries[mask1 | mask2]\n",
    "\n",
    "data = data[data[\"Country Code\"].isin(high_income_countries[\"Country Code\"])]\n",
    "data.head()"
   ]
  },
  {
   "cell_type": "code",
   "execution_count": 45,
   "id": "ebb0f8a8",
   "metadata": {},
   "outputs": [
    {
     "data": {
      "text/plain": [
       "(274875, 69)"
      ]
     },
     "execution_count": 45,
     "metadata": {},
     "output_type": "execute_result"
    }
   ],
   "source": [
    "data.shape"
   ]
  },
  {
   "cell_type": "markdown",
   "id": "6e6c2466",
   "metadata": {},
   "source": [
    "## On ne garde que les data pour les indicateurs qui nous intéressent"
   ]
  },
  {
   "cell_type": "code",
   "execution_count": 46,
   "id": "efb7e0a8",
   "metadata": {},
   "outputs": [
    {
     "data": {
      "text/html": [
       "<div>\n",
       "<style scoped>\n",
       "    .dataframe tbody tr th:only-of-type {\n",
       "        vertical-align: middle;\n",
       "    }\n",
       "\n",
       "    .dataframe tbody tr th {\n",
       "        vertical-align: top;\n",
       "    }\n",
       "\n",
       "    .dataframe thead th {\n",
       "        text-align: right;\n",
       "    }\n",
       "</style>\n",
       "<table border=\"1\" class=\"dataframe\">\n",
       "  <thead>\n",
       "    <tr style=\"text-align: right;\">\n",
       "      <th></th>\n",
       "      <th>Country Name</th>\n",
       "      <th>Country Code</th>\n",
       "      <th>Indicator Name</th>\n",
       "      <th>Indicator Code</th>\n",
       "      <th>1970</th>\n",
       "      <th>1971</th>\n",
       "      <th>1972</th>\n",
       "      <th>1973</th>\n",
       "      <th>1974</th>\n",
       "      <th>1975</th>\n",
       "      <th>...</th>\n",
       "      <th>2055</th>\n",
       "      <th>2060</th>\n",
       "      <th>2065</th>\n",
       "      <th>2070</th>\n",
       "      <th>2075</th>\n",
       "      <th>2080</th>\n",
       "      <th>2085</th>\n",
       "      <th>2090</th>\n",
       "      <th>2095</th>\n",
       "      <th>2100</th>\n",
       "    </tr>\n",
       "  </thead>\n",
       "  <tbody>\n",
       "    <tr>\n",
       "      <th>107536</th>\n",
       "      <td>Andorra</td>\n",
       "      <td>AND</td>\n",
       "      <td>GNI per capita, Atlas method (current US$)</td>\n",
       "      <td>NY.GNP.PCAP.CD</td>\n",
       "      <td>NaN</td>\n",
       "      <td>NaN</td>\n",
       "      <td>NaN</td>\n",
       "      <td>NaN</td>\n",
       "      <td>NaN</td>\n",
       "      <td>NaN</td>\n",
       "      <td>...</td>\n",
       "      <td>NaN</td>\n",
       "      <td>NaN</td>\n",
       "      <td>NaN</td>\n",
       "      <td>NaN</td>\n",
       "      <td>NaN</td>\n",
       "      <td>NaN</td>\n",
       "      <td>NaN</td>\n",
       "      <td>NaN</td>\n",
       "      <td>NaN</td>\n",
       "      <td>NaN</td>\n",
       "    </tr>\n",
       "    <tr>\n",
       "      <th>107660</th>\n",
       "      <td>Andorra</td>\n",
       "      <td>AND</td>\n",
       "      <td>Internet users (per 100 people)</td>\n",
       "      <td>IT.NET.USER.P2</td>\n",
       "      <td>NaN</td>\n",
       "      <td>NaN</td>\n",
       "      <td>NaN</td>\n",
       "      <td>NaN</td>\n",
       "      <td>NaN</td>\n",
       "      <td>NaN</td>\n",
       "      <td>...</td>\n",
       "      <td>NaN</td>\n",
       "      <td>NaN</td>\n",
       "      <td>NaN</td>\n",
       "      <td>NaN</td>\n",
       "      <td>NaN</td>\n",
       "      <td>NaN</td>\n",
       "      <td>NaN</td>\n",
       "      <td>NaN</td>\n",
       "      <td>NaN</td>\n",
       "      <td>NaN</td>\n",
       "    </tr>\n",
       "    <tr>\n",
       "      <th>108767</th>\n",
       "      <td>Andorra</td>\n",
       "      <td>AND</td>\n",
       "      <td>Population, ages 15-24, total</td>\n",
       "      <td>SP.POP.1524.TO.UN</td>\n",
       "      <td>NaN</td>\n",
       "      <td>NaN</td>\n",
       "      <td>NaN</td>\n",
       "      <td>NaN</td>\n",
       "      <td>NaN</td>\n",
       "      <td>NaN</td>\n",
       "      <td>...</td>\n",
       "      <td>NaN</td>\n",
       "      <td>NaN</td>\n",
       "      <td>NaN</td>\n",
       "      <td>NaN</td>\n",
       "      <td>NaN</td>\n",
       "      <td>NaN</td>\n",
       "      <td>NaN</td>\n",
       "      <td>NaN</td>\n",
       "      <td>NaN</td>\n",
       "      <td>NaN</td>\n",
       "    </tr>\n",
       "    <tr>\n",
       "      <th>109881</th>\n",
       "      <td>Andorra</td>\n",
       "      <td>AND</td>\n",
       "      <td>Wittgenstein Projection: Population age 15-19 ...</td>\n",
       "      <td>PRJ.POP.1519.4.MF</td>\n",
       "      <td>NaN</td>\n",
       "      <td>NaN</td>\n",
       "      <td>NaN</td>\n",
       "      <td>NaN</td>\n",
       "      <td>NaN</td>\n",
       "      <td>NaN</td>\n",
       "      <td>...</td>\n",
       "      <td>NaN</td>\n",
       "      <td>NaN</td>\n",
       "      <td>NaN</td>\n",
       "      <td>NaN</td>\n",
       "      <td>NaN</td>\n",
       "      <td>NaN</td>\n",
       "      <td>NaN</td>\n",
       "      <td>NaN</td>\n",
       "      <td>NaN</td>\n",
       "      <td>NaN</td>\n",
       "    </tr>\n",
       "    <tr>\n",
       "      <th>109887</th>\n",
       "      <td>Andorra</td>\n",
       "      <td>AND</td>\n",
       "      <td>Wittgenstein Projection: Population age 15-19 ...</td>\n",
       "      <td>PRJ.POP.1519.3.MF</td>\n",
       "      <td>NaN</td>\n",
       "      <td>NaN</td>\n",
       "      <td>NaN</td>\n",
       "      <td>NaN</td>\n",
       "      <td>NaN</td>\n",
       "      <td>NaN</td>\n",
       "      <td>...</td>\n",
       "      <td>NaN</td>\n",
       "      <td>NaN</td>\n",
       "      <td>NaN</td>\n",
       "      <td>NaN</td>\n",
       "      <td>NaN</td>\n",
       "      <td>NaN</td>\n",
       "      <td>NaN</td>\n",
       "      <td>NaN</td>\n",
       "      <td>NaN</td>\n",
       "      <td>NaN</td>\n",
       "    </tr>\n",
       "  </tbody>\n",
       "</table>\n",
       "<p>5 rows × 69 columns</p>\n",
       "</div>"
      ],
      "text/plain": [
       "       Country Name Country Code  \\\n",
       "107536      Andorra          AND   \n",
       "107660      Andorra          AND   \n",
       "108767      Andorra          AND   \n",
       "109881      Andorra          AND   \n",
       "109887      Andorra          AND   \n",
       "\n",
       "                                           Indicator Name     Indicator Code  \\\n",
       "107536         GNI per capita, Atlas method (current US$)     NY.GNP.PCAP.CD   \n",
       "107660                    Internet users (per 100 people)     IT.NET.USER.P2   \n",
       "108767                      Population, ages 15-24, total  SP.POP.1524.TO.UN   \n",
       "109881  Wittgenstein Projection: Population age 15-19 ...  PRJ.POP.1519.4.MF   \n",
       "109887  Wittgenstein Projection: Population age 15-19 ...  PRJ.POP.1519.3.MF   \n",
       "\n",
       "        1970  1971  1972  1973  1974  1975  ...  2055  2060  2065  2070  2075  \\\n",
       "107536   NaN   NaN   NaN   NaN   NaN   NaN  ...   NaN   NaN   NaN   NaN   NaN   \n",
       "107660   NaN   NaN   NaN   NaN   NaN   NaN  ...   NaN   NaN   NaN   NaN   NaN   \n",
       "108767   NaN   NaN   NaN   NaN   NaN   NaN  ...   NaN   NaN   NaN   NaN   NaN   \n",
       "109881   NaN   NaN   NaN   NaN   NaN   NaN  ...   NaN   NaN   NaN   NaN   NaN   \n",
       "109887   NaN   NaN   NaN   NaN   NaN   NaN  ...   NaN   NaN   NaN   NaN   NaN   \n",
       "\n",
       "        2080  2085  2090  2095  2100  \n",
       "107536   NaN   NaN   NaN   NaN   NaN  \n",
       "107660   NaN   NaN   NaN   NaN   NaN  \n",
       "108767   NaN   NaN   NaN   NaN   NaN  \n",
       "109881   NaN   NaN   NaN   NaN   NaN  \n",
       "109887   NaN   NaN   NaN   NaN   NaN  \n",
       "\n",
       "[5 rows x 69 columns]"
      ]
     },
     "execution_count": 46,
     "metadata": {},
     "output_type": "execute_result"
    }
   ],
   "source": [
    "data = data[data[\"Indicator Code\"].isin(indicators[\"Series Code\"])]\n",
    "data.head()"
   ]
  },
  {
   "cell_type": "code",
   "execution_count": 47,
   "id": "98205cf7",
   "metadata": {},
   "outputs": [
    {
     "data": {
      "text/plain": [
       "(525, 69)"
      ]
     },
     "execution_count": 47,
     "metadata": {},
     "output_type": "execute_result"
    }
   ],
   "source": [
    "data.shape"
   ]
  },
  {
   "cell_type": "markdown",
   "id": "91eba016",
   "metadata": {},
   "source": [
    "## On supprime les pays associés aux lignes qui ne contiennent que des nan"
   ]
  },
  {
   "cell_type": "code",
   "execution_count": 48,
   "id": "effb4c4e",
   "metadata": {},
   "outputs": [
    {
     "name": "stdout",
     "output_type": "stream",
     "text": [
      "['Andorra' 'Antigua and Barbuda' 'Aruba' 'Barbados' 'Bermuda'\n",
      " 'Brunei Darussalam' 'Cayman Islands' 'Channel Islands' 'Curacao'\n",
      " 'Faroe Islands' 'French Polynesia' 'Greenland' 'Guam' 'Isle of Man'\n",
      " 'Liechtenstein' 'Monaco' 'New Caledonia' 'Northern Mariana Islands'\n",
      " 'Oman' 'Puerto Rico' 'San Marino' 'Sint Maarten (Dutch part)'\n",
      " 'St. Kitts and Nevis' 'St. Martin (French part)'\n",
      " 'Turks and Caicos Islands' 'Virgin Islands (U.S.)']\n"
     ]
    },
    {
     "data": {
      "text/plain": [
       "(343, 69)"
      ]
     },
     "execution_count": 48,
     "metadata": {},
     "output_type": "execute_result"
    }
   ],
   "source": [
    "# data privée des 4 premières colonnes et des lignes ne contenant que des nan\n",
    "df = data.iloc[:, 4:].dropna(how=\"all\")\n",
    "\n",
    "# lignes à supprimer:\n",
    "rows_to_del = [i for i in data.index if i not in df.index]\n",
    "\n",
    "# liste des pays qui vont être supprimés\n",
    "deleted_countries = data.loc[rows_to_del,:][\"Country Name\"].unique()\n",
    "print(deleted_countries)\n",
    "\n",
    "mask = data[\"Country Name\"].isin(deleted_countries)\n",
    "data = data[~mask]\n",
    "data.shape"
   ]
  },
  {
   "cell_type": "markdown",
   "id": "3efdb076",
   "metadata": {},
   "source": [
    "On sépare les données liées aux différentes variables en plusieurs DataFrame"
   ]
  },
  {
   "cell_type": "code",
   "execution_count": 49,
   "id": "8dad795f",
   "metadata": {},
   "outputs": [],
   "source": [
    "# donées liées à internet\n",
    "mask = data[\"Indicator Name\"] == \"Internet users (per 100 people)\"\n",
    "data_internet = data[mask]\n",
    "\n",
    "# données liées aux revenus\n",
    "mask = data[\"Indicator Name\"] == \"GNI per capita, Atlas method (current US$)\"\n",
    "data_income = data[mask]\n",
    "\n",
    "# données liées à la population\n",
    "mask = data[\"Indicator Name\"].isin(pop[\"Indicator Name\"])\n",
    "data_pop = data[mask]\n",
    "\n",
    "# données liées aux prévision de la population\n",
    "mask = data[\"Indicator Code\"].isin(projection[\"Series Code\"])\n",
    "data_projection = data[mask]"
   ]
  },
  {
   "cell_type": "markdown",
   "id": "f1eb365a",
   "metadata": {},
   "source": [
    "## data liées à internet"
   ]
  },
  {
   "cell_type": "code",
   "execution_count": 50,
   "id": "51858c99",
   "metadata": {
    "scrolled": true
   },
   "outputs": [
    {
     "data": {
      "text/html": [
       "<div>\n",
       "<style scoped>\n",
       "    .dataframe tbody tr th:only-of-type {\n",
       "        vertical-align: middle;\n",
       "    }\n",
       "\n",
       "    .dataframe tbody tr th {\n",
       "        vertical-align: top;\n",
       "    }\n",
       "\n",
       "    .dataframe thead th {\n",
       "        text-align: right;\n",
       "    }\n",
       "</style>\n",
       "<table border=\"1\" class=\"dataframe\">\n",
       "  <thead>\n",
       "    <tr style=\"text-align: right;\">\n",
       "      <th></th>\n",
       "      <th>Country Name</th>\n",
       "      <th>Country Code</th>\n",
       "      <th>Indicator Name</th>\n",
       "      <th>Indicator Code</th>\n",
       "      <th>1970</th>\n",
       "      <th>1971</th>\n",
       "      <th>1972</th>\n",
       "      <th>1973</th>\n",
       "      <th>1974</th>\n",
       "      <th>1975</th>\n",
       "      <th>...</th>\n",
       "      <th>2055</th>\n",
       "      <th>2060</th>\n",
       "      <th>2065</th>\n",
       "      <th>2070</th>\n",
       "      <th>2075</th>\n",
       "      <th>2080</th>\n",
       "      <th>2085</th>\n",
       "      <th>2090</th>\n",
       "      <th>2095</th>\n",
       "      <th>2100</th>\n",
       "    </tr>\n",
       "  </thead>\n",
       "  <tbody>\n",
       "    <tr>\n",
       "      <th>129650</th>\n",
       "      <td>Australia</td>\n",
       "      <td>AUS</td>\n",
       "      <td>Internet users (per 100 people)</td>\n",
       "      <td>IT.NET.USER.P2</td>\n",
       "      <td>NaN</td>\n",
       "      <td>NaN</td>\n",
       "      <td>NaN</td>\n",
       "      <td>NaN</td>\n",
       "      <td>NaN</td>\n",
       "      <td>NaN</td>\n",
       "      <td>...</td>\n",
       "      <td>NaN</td>\n",
       "      <td>NaN</td>\n",
       "      <td>NaN</td>\n",
       "      <td>NaN</td>\n",
       "      <td>NaN</td>\n",
       "      <td>NaN</td>\n",
       "      <td>NaN</td>\n",
       "      <td>NaN</td>\n",
       "      <td>NaN</td>\n",
       "      <td>NaN</td>\n",
       "    </tr>\n",
       "    <tr>\n",
       "      <th>133315</th>\n",
       "      <td>Austria</td>\n",
       "      <td>AUT</td>\n",
       "      <td>Internet users (per 100 people)</td>\n",
       "      <td>IT.NET.USER.P2</td>\n",
       "      <td>NaN</td>\n",
       "      <td>NaN</td>\n",
       "      <td>NaN</td>\n",
       "      <td>NaN</td>\n",
       "      <td>NaN</td>\n",
       "      <td>NaN</td>\n",
       "      <td>...</td>\n",
       "      <td>NaN</td>\n",
       "      <td>NaN</td>\n",
       "      <td>NaN</td>\n",
       "      <td>NaN</td>\n",
       "      <td>NaN</td>\n",
       "      <td>NaN</td>\n",
       "      <td>NaN</td>\n",
       "      <td>NaN</td>\n",
       "      <td>NaN</td>\n",
       "      <td>NaN</td>\n",
       "    </tr>\n",
       "    <tr>\n",
       "      <th>140645</th>\n",
       "      <td>Bahamas, The</td>\n",
       "      <td>BHS</td>\n",
       "      <td>Internet users (per 100 people)</td>\n",
       "      <td>IT.NET.USER.P2</td>\n",
       "      <td>NaN</td>\n",
       "      <td>NaN</td>\n",
       "      <td>NaN</td>\n",
       "      <td>NaN</td>\n",
       "      <td>NaN</td>\n",
       "      <td>NaN</td>\n",
       "      <td>...</td>\n",
       "      <td>NaN</td>\n",
       "      <td>NaN</td>\n",
       "      <td>NaN</td>\n",
       "      <td>NaN</td>\n",
       "      <td>NaN</td>\n",
       "      <td>NaN</td>\n",
       "      <td>NaN</td>\n",
       "      <td>NaN</td>\n",
       "      <td>NaN</td>\n",
       "      <td>NaN</td>\n",
       "    </tr>\n",
       "    <tr>\n",
       "      <th>144310</th>\n",
       "      <td>Bahrain</td>\n",
       "      <td>BHR</td>\n",
       "      <td>Internet users (per 100 people)</td>\n",
       "      <td>IT.NET.USER.P2</td>\n",
       "      <td>NaN</td>\n",
       "      <td>NaN</td>\n",
       "      <td>NaN</td>\n",
       "      <td>NaN</td>\n",
       "      <td>NaN</td>\n",
       "      <td>NaN</td>\n",
       "      <td>...</td>\n",
       "      <td>NaN</td>\n",
       "      <td>NaN</td>\n",
       "      <td>NaN</td>\n",
       "      <td>NaN</td>\n",
       "      <td>NaN</td>\n",
       "      <td>NaN</td>\n",
       "      <td>NaN</td>\n",
       "      <td>NaN</td>\n",
       "      <td>NaN</td>\n",
       "      <td>NaN</td>\n",
       "    </tr>\n",
       "    <tr>\n",
       "      <th>158970</th>\n",
       "      <td>Belgium</td>\n",
       "      <td>BEL</td>\n",
       "      <td>Internet users (per 100 people)</td>\n",
       "      <td>IT.NET.USER.P2</td>\n",
       "      <td>NaN</td>\n",
       "      <td>NaN</td>\n",
       "      <td>NaN</td>\n",
       "      <td>NaN</td>\n",
       "      <td>NaN</td>\n",
       "      <td>NaN</td>\n",
       "      <td>...</td>\n",
       "      <td>NaN</td>\n",
       "      <td>NaN</td>\n",
       "      <td>NaN</td>\n",
       "      <td>NaN</td>\n",
       "      <td>NaN</td>\n",
       "      <td>NaN</td>\n",
       "      <td>NaN</td>\n",
       "      <td>NaN</td>\n",
       "      <td>NaN</td>\n",
       "      <td>NaN</td>\n",
       "    </tr>\n",
       "  </tbody>\n",
       "</table>\n",
       "<p>5 rows × 69 columns</p>\n",
       "</div>"
      ],
      "text/plain": [
       "        Country Name Country Code                   Indicator Name  \\\n",
       "129650     Australia          AUS  Internet users (per 100 people)   \n",
       "133315       Austria          AUT  Internet users (per 100 people)   \n",
       "140645  Bahamas, The          BHS  Internet users (per 100 people)   \n",
       "144310       Bahrain          BHR  Internet users (per 100 people)   \n",
       "158970       Belgium          BEL  Internet users (per 100 people)   \n",
       "\n",
       "        Indicator Code  1970  1971  1972  1973  1974  1975  ...  2055  2060  \\\n",
       "129650  IT.NET.USER.P2   NaN   NaN   NaN   NaN   NaN   NaN  ...   NaN   NaN   \n",
       "133315  IT.NET.USER.P2   NaN   NaN   NaN   NaN   NaN   NaN  ...   NaN   NaN   \n",
       "140645  IT.NET.USER.P2   NaN   NaN   NaN   NaN   NaN   NaN  ...   NaN   NaN   \n",
       "144310  IT.NET.USER.P2   NaN   NaN   NaN   NaN   NaN   NaN  ...   NaN   NaN   \n",
       "158970  IT.NET.USER.P2   NaN   NaN   NaN   NaN   NaN   NaN  ...   NaN   NaN   \n",
       "\n",
       "        2065  2070  2075  2080  2085  2090  2095  2100  \n",
       "129650   NaN   NaN   NaN   NaN   NaN   NaN   NaN   NaN  \n",
       "133315   NaN   NaN   NaN   NaN   NaN   NaN   NaN   NaN  \n",
       "140645   NaN   NaN   NaN   NaN   NaN   NaN   NaN   NaN  \n",
       "144310   NaN   NaN   NaN   NaN   NaN   NaN   NaN   NaN  \n",
       "158970   NaN   NaN   NaN   NaN   NaN   NaN   NaN   NaN  \n",
       "\n",
       "[5 rows x 69 columns]"
      ]
     },
     "execution_count": 50,
     "metadata": {},
     "output_type": "execute_result"
    }
   ],
   "source": [
    "data_internet.head()"
   ]
  },
  {
   "cell_type": "code",
   "execution_count": 51,
   "id": "ec9585a4",
   "metadata": {},
   "outputs": [
    {
     "data": {
      "text/plain": [
       "(49, 69)"
      ]
     },
     "execution_count": 51,
     "metadata": {},
     "output_type": "execute_result"
    }
   ],
   "source": [
    "data_internet.shape"
   ]
  },
  {
   "cell_type": "code",
   "execution_count": 52,
   "id": "60cfcde7",
   "metadata": {},
   "outputs": [
    {
     "data": {
      "text/plain": [
       "0"
      ]
     },
     "execution_count": 52,
     "metadata": {},
     "output_type": "execute_result"
    }
   ],
   "source": [
    "# On vérifie s'il y a des doublons\n",
    "data_internet[\"Country Name\"].duplicated().sum()"
   ]
  },
  {
   "cell_type": "markdown",
   "id": "6feec4f4",
   "metadata": {},
   "source": [
    "On ne garde que les valeurs les plus récentes"
   ]
  },
  {
   "cell_type": "code",
   "execution_count": 53,
   "id": "4543fb24",
   "metadata": {},
   "outputs": [
    {
     "data": {
      "text/html": [
       "<div>\n",
       "<style scoped>\n",
       "    .dataframe tbody tr th:only-of-type {\n",
       "        vertical-align: middle;\n",
       "    }\n",
       "\n",
       "    .dataframe tbody tr th {\n",
       "        vertical-align: top;\n",
       "    }\n",
       "\n",
       "    .dataframe thead th {\n",
       "        text-align: right;\n",
       "    }\n",
       "</style>\n",
       "<table border=\"1\" class=\"dataframe\">\n",
       "  <thead>\n",
       "    <tr style=\"text-align: right;\">\n",
       "      <th></th>\n",
       "      <th>Country Name</th>\n",
       "      <th>Internet users</th>\n",
       "      <th>dates</th>\n",
       "    </tr>\n",
       "  </thead>\n",
       "  <tbody>\n",
       "    <tr>\n",
       "      <th>0</th>\n",
       "      <td>Australia</td>\n",
       "      <td>88.238658</td>\n",
       "      <td>2016</td>\n",
       "    </tr>\n",
       "    <tr>\n",
       "      <th>1</th>\n",
       "      <td>Austria</td>\n",
       "      <td>84.323331</td>\n",
       "      <td>2016</td>\n",
       "    </tr>\n",
       "    <tr>\n",
       "      <th>2</th>\n",
       "      <td>Bahamas, The</td>\n",
       "      <td>80.000000</td>\n",
       "      <td>2016</td>\n",
       "    </tr>\n",
       "    <tr>\n",
       "      <th>3</th>\n",
       "      <td>Bahrain</td>\n",
       "      <td>97.999981</td>\n",
       "      <td>2016</td>\n",
       "    </tr>\n",
       "    <tr>\n",
       "      <th>4</th>\n",
       "      <td>Belgium</td>\n",
       "      <td>86.516500</td>\n",
       "      <td>2016</td>\n",
       "    </tr>\n",
       "  </tbody>\n",
       "</table>\n",
       "</div>"
      ],
      "text/plain": [
       "   Country Name  Internet users  dates\n",
       "0     Australia       88.238658   2016\n",
       "1       Austria       84.323331   2016\n",
       "2  Bahamas, The       80.000000   2016\n",
       "3       Bahrain       97.999981   2016\n",
       "4       Belgium       86.516500   2016"
      ]
     },
     "execution_count": 53,
     "metadata": {},
     "output_type": "execute_result"
    }
   ],
   "source": [
    "country_names = []\n",
    "dates = []\n",
    "values = []\n",
    "for i in np.arange(data_internet.shape[0]): # on parcourt les lignes\n",
    "    s = data_internet.iloc[i,:] # on met la ligne dans s\n",
    "    # on parcourt les colonnes depuis la dernière ('2100') jusqu'à tomber sur une\n",
    "    # valeur non nulle\n",
    "    j = s.size-1\n",
    "    while pd.isna(s[j]) == True:\n",
    "        j -= 1\n",
    "    # l'indice j correspond à la dernière valeur non nulle\n",
    "    country_names.append(s[\"Country Name\"])\n",
    "    dates.append(int(s.index[j])) # on convertit la date en int\n",
    "    values.append(s[j])\n",
    "\n",
    "data_internet = pd.DataFrame({\"Country Name\":country_names,\n",
    "                              \"Internet users\": values,\n",
    "                              \"dates\": dates\n",
    "                             })\n",
    "data_internet.head()"
   ]
  },
  {
   "cell_type": "markdown",
   "id": "889c843a",
   "metadata": {},
   "source": [
    "On vérifie que les données datent toutes de la même année"
   ]
  },
  {
   "cell_type": "code",
   "execution_count": 54,
   "id": "a2b9865f",
   "metadata": {},
   "outputs": [
    {
     "data": {
      "text/plain": [
       "array([2016])"
      ]
     },
     "execution_count": 54,
     "metadata": {},
     "output_type": "execute_result"
    }
   ],
   "source": [
    "data_internet[\"dates\"].unique()"
   ]
  },
  {
   "cell_type": "markdown",
   "id": "7c58029f",
   "metadata": {},
   "source": [
    "On enlève la colonne `dates` car elle n'est plus utile"
   ]
  },
  {
   "cell_type": "code",
   "execution_count": 55,
   "id": "53ac7973",
   "metadata": {},
   "outputs": [
    {
     "data": {
      "text/html": [
       "<div>\n",
       "<style scoped>\n",
       "    .dataframe tbody tr th:only-of-type {\n",
       "        vertical-align: middle;\n",
       "    }\n",
       "\n",
       "    .dataframe tbody tr th {\n",
       "        vertical-align: top;\n",
       "    }\n",
       "\n",
       "    .dataframe thead th {\n",
       "        text-align: right;\n",
       "    }\n",
       "</style>\n",
       "<table border=\"1\" class=\"dataframe\">\n",
       "  <thead>\n",
       "    <tr style=\"text-align: right;\">\n",
       "      <th></th>\n",
       "      <th>Country Name</th>\n",
       "      <th>Internet users</th>\n",
       "    </tr>\n",
       "  </thead>\n",
       "  <tbody>\n",
       "    <tr>\n",
       "      <th>0</th>\n",
       "      <td>Australia</td>\n",
       "      <td>88.238658</td>\n",
       "    </tr>\n",
       "    <tr>\n",
       "      <th>1</th>\n",
       "      <td>Austria</td>\n",
       "      <td>84.323331</td>\n",
       "    </tr>\n",
       "    <tr>\n",
       "      <th>2</th>\n",
       "      <td>Bahamas, The</td>\n",
       "      <td>80.000000</td>\n",
       "    </tr>\n",
       "    <tr>\n",
       "      <th>3</th>\n",
       "      <td>Bahrain</td>\n",
       "      <td>97.999981</td>\n",
       "    </tr>\n",
       "    <tr>\n",
       "      <th>4</th>\n",
       "      <td>Belgium</td>\n",
       "      <td>86.516500</td>\n",
       "    </tr>\n",
       "  </tbody>\n",
       "</table>\n",
       "</div>"
      ],
      "text/plain": [
       "   Country Name  Internet users\n",
       "0     Australia       88.238658\n",
       "1       Austria       84.323331\n",
       "2  Bahamas, The       80.000000\n",
       "3       Bahrain       97.999981\n",
       "4       Belgium       86.516500"
      ]
     },
     "execution_count": 55,
     "metadata": {},
     "output_type": "execute_result"
    }
   ],
   "source": [
    "data_internet = data_internet.drop(columns=\"dates\")\n",
    "data_internet.head()"
   ]
  },
  {
   "cell_type": "code",
   "execution_count": 56,
   "id": "71380abc",
   "metadata": {},
   "outputs": [
    {
     "data": {
      "text/plain": [
       "(49, 2)"
      ]
     },
     "execution_count": 56,
     "metadata": {},
     "output_type": "execute_result"
    }
   ],
   "source": [
    "data_internet.shape"
   ]
  },
  {
   "cell_type": "code",
   "execution_count": 57,
   "id": "5ea1ad08",
   "metadata": {},
   "outputs": [
    {
     "data": {
      "text/html": [
       "<div>\n",
       "<style scoped>\n",
       "    .dataframe tbody tr th:only-of-type {\n",
       "        vertical-align: middle;\n",
       "    }\n",
       "\n",
       "    .dataframe tbody tr th {\n",
       "        vertical-align: top;\n",
       "    }\n",
       "\n",
       "    .dataframe thead th {\n",
       "        text-align: right;\n",
       "    }\n",
       "</style>\n",
       "<table border=\"1\" class=\"dataframe\">\n",
       "  <thead>\n",
       "    <tr style=\"text-align: right;\">\n",
       "      <th></th>\n",
       "      <th>Internet users</th>\n",
       "    </tr>\n",
       "  </thead>\n",
       "  <tbody>\n",
       "    <tr>\n",
       "      <th>count</th>\n",
       "      <td>49.000000</td>\n",
       "    </tr>\n",
       "    <tr>\n",
       "      <th>mean</th>\n",
       "      <td>81.728470</td>\n",
       "    </tr>\n",
       "    <tr>\n",
       "      <th>std</th>\n",
       "      <td>12.559358</td>\n",
       "    </tr>\n",
       "    <tr>\n",
       "      <th>min</th>\n",
       "      <td>23.780000</td>\n",
       "    </tr>\n",
       "    <tr>\n",
       "      <th>25%</th>\n",
       "      <td>75.900360</td>\n",
       "    </tr>\n",
       "    <tr>\n",
       "      <th>50%</th>\n",
       "      <td>81.642985</td>\n",
       "    </tr>\n",
       "    <tr>\n",
       "      <th>75%</th>\n",
       "      <td>89.840000</td>\n",
       "    </tr>\n",
       "    <tr>\n",
       "      <th>max</th>\n",
       "      <td>98.240016</td>\n",
       "    </tr>\n",
       "  </tbody>\n",
       "</table>\n",
       "</div>"
      ],
      "text/plain": [
       "       Internet users\n",
       "count       49.000000\n",
       "mean        81.728470\n",
       "std         12.559358\n",
       "min         23.780000\n",
       "25%         75.900360\n",
       "50%         81.642985\n",
       "75%         89.840000\n",
       "max         98.240016"
      ]
     },
     "execution_count": 57,
     "metadata": {},
     "output_type": "execute_result"
    }
   ],
   "source": [
    "data_internet.describe()"
   ]
  },
  {
   "cell_type": "code",
   "execution_count": 58,
   "id": "30aae2be",
   "metadata": {},
   "outputs": [
    {
     "data": {
      "image/png": "[encoded data removed]",
      "text/plain": [
       "<Figure size 432x288 with 1 Axes>"
      ]
     },
     "metadata": {},
     "output_type": "display_data"
    }
   ],
   "source": [
    "ax = sns.boxplot(x=\"Internet users\", data=data_internet)"
   ]
  },
  {
   "cell_type": "markdown",
   "id": "4d99a15d",
   "metadata": {},
   "source": [
    "## data liées aux revenus"
   ]
  },
  {
   "cell_type": "code",
   "execution_count": 59,
   "id": "e27a3f80",
   "metadata": {
    "scrolled": true
   },
   "outputs": [
    {
     "data": {
      "text/html": [
       "<div>\n",
       "<style scoped>\n",
       "    .dataframe tbody tr th:only-of-type {\n",
       "        vertical-align: middle;\n",
       "    }\n",
       "\n",
       "    .dataframe tbody tr th {\n",
       "        vertical-align: top;\n",
       "    }\n",
       "\n",
       "    .dataframe thead th {\n",
       "        text-align: right;\n",
       "    }\n",
       "</style>\n",
       "<table border=\"1\" class=\"dataframe\">\n",
       "  <thead>\n",
       "    <tr style=\"text-align: right;\">\n",
       "      <th></th>\n",
       "      <th>Country Name</th>\n",
       "      <th>Country Code</th>\n",
       "      <th>Indicator Name</th>\n",
       "      <th>Indicator Code</th>\n",
       "      <th>1970</th>\n",
       "      <th>1971</th>\n",
       "      <th>1972</th>\n",
       "      <th>1973</th>\n",
       "      <th>1974</th>\n",
       "      <th>1975</th>\n",
       "      <th>...</th>\n",
       "      <th>2055</th>\n",
       "      <th>2060</th>\n",
       "      <th>2065</th>\n",
       "      <th>2070</th>\n",
       "      <th>2075</th>\n",
       "      <th>2080</th>\n",
       "      <th>2085</th>\n",
       "      <th>2090</th>\n",
       "      <th>2095</th>\n",
       "      <th>2100</th>\n",
       "    </tr>\n",
       "  </thead>\n",
       "  <tbody>\n",
       "    <tr>\n",
       "      <th>129526</th>\n",
       "      <td>Australia</td>\n",
       "      <td>AUS</td>\n",
       "      <td>GNI per capita, Atlas method (current US$)</td>\n",
       "      <td>NY.GNP.PCAP.CD</td>\n",
       "      <td>3280.0</td>\n",
       "      <td>3480.0</td>\n",
       "      <td>3890.0</td>\n",
       "      <td>4660.0</td>\n",
       "      <td>5960.0</td>\n",
       "      <td>7230.0</td>\n",
       "      <td>...</td>\n",
       "      <td>NaN</td>\n",
       "      <td>NaN</td>\n",
       "      <td>NaN</td>\n",
       "      <td>NaN</td>\n",
       "      <td>NaN</td>\n",
       "      <td>NaN</td>\n",
       "      <td>NaN</td>\n",
       "      <td>NaN</td>\n",
       "      <td>NaN</td>\n",
       "      <td>NaN</td>\n",
       "    </tr>\n",
       "    <tr>\n",
       "      <th>133191</th>\n",
       "      <td>Austria</td>\n",
       "      <td>AUT</td>\n",
       "      <td>GNI per capita, Atlas method (current US$)</td>\n",
       "      <td>NY.GNP.PCAP.CD</td>\n",
       "      <td>2060.0</td>\n",
       "      <td>2320.0</td>\n",
       "      <td>2760.0</td>\n",
       "      <td>3580.0</td>\n",
       "      <td>4650.0</td>\n",
       "      <td>5540.0</td>\n",
       "      <td>...</td>\n",
       "      <td>NaN</td>\n",
       "      <td>NaN</td>\n",
       "      <td>NaN</td>\n",
       "      <td>NaN</td>\n",
       "      <td>NaN</td>\n",
       "      <td>NaN</td>\n",
       "      <td>NaN</td>\n",
       "      <td>NaN</td>\n",
       "      <td>NaN</td>\n",
       "      <td>NaN</td>\n",
       "    </tr>\n",
       "    <tr>\n",
       "      <th>140521</th>\n",
       "      <td>Bahamas, The</td>\n",
       "      <td>BHS</td>\n",
       "      <td>GNI per capita, Atlas method (current US$)</td>\n",
       "      <td>NY.GNP.PCAP.CD</td>\n",
       "      <td>2920.0</td>\n",
       "      <td>3110.0</td>\n",
       "      <td>3190.0</td>\n",
       "      <td>3740.0</td>\n",
       "      <td>3840.0</td>\n",
       "      <td>4640.0</td>\n",
       "      <td>...</td>\n",
       "      <td>NaN</td>\n",
       "      <td>NaN</td>\n",
       "      <td>NaN</td>\n",
       "      <td>NaN</td>\n",
       "      <td>NaN</td>\n",
       "      <td>NaN</td>\n",
       "      <td>NaN</td>\n",
       "      <td>NaN</td>\n",
       "      <td>NaN</td>\n",
       "      <td>NaN</td>\n",
       "    </tr>\n",
       "    <tr>\n",
       "      <th>144186</th>\n",
       "      <td>Bahrain</td>\n",
       "      <td>BHR</td>\n",
       "      <td>GNI per capita, Atlas method (current US$)</td>\n",
       "      <td>NY.GNP.PCAP.CD</td>\n",
       "      <td>NaN</td>\n",
       "      <td>NaN</td>\n",
       "      <td>NaN</td>\n",
       "      <td>NaN</td>\n",
       "      <td>NaN</td>\n",
       "      <td>NaN</td>\n",
       "      <td>...</td>\n",
       "      <td>NaN</td>\n",
       "      <td>NaN</td>\n",
       "      <td>NaN</td>\n",
       "      <td>NaN</td>\n",
       "      <td>NaN</td>\n",
       "      <td>NaN</td>\n",
       "      <td>NaN</td>\n",
       "      <td>NaN</td>\n",
       "      <td>NaN</td>\n",
       "      <td>NaN</td>\n",
       "    </tr>\n",
       "    <tr>\n",
       "      <th>158846</th>\n",
       "      <td>Belgium</td>\n",
       "      <td>BEL</td>\n",
       "      <td>GNI per capita, Atlas method (current US$)</td>\n",
       "      <td>NY.GNP.PCAP.CD</td>\n",
       "      <td>2800.0</td>\n",
       "      <td>3090.0</td>\n",
       "      <td>3660.0</td>\n",
       "      <td>4710.0</td>\n",
       "      <td>6020.0</td>\n",
       "      <td>6940.0</td>\n",
       "      <td>...</td>\n",
       "      <td>NaN</td>\n",
       "      <td>NaN</td>\n",
       "      <td>NaN</td>\n",
       "      <td>NaN</td>\n",
       "      <td>NaN</td>\n",
       "      <td>NaN</td>\n",
       "      <td>NaN</td>\n",
       "      <td>NaN</td>\n",
       "      <td>NaN</td>\n",
       "      <td>NaN</td>\n",
       "    </tr>\n",
       "  </tbody>\n",
       "</table>\n",
       "<p>5 rows × 69 columns</p>\n",
       "</div>"
      ],
      "text/plain": [
       "        Country Name Country Code                              Indicator Name  \\\n",
       "129526     Australia          AUS  GNI per capita, Atlas method (current US$)   \n",
       "133191       Austria          AUT  GNI per capita, Atlas method (current US$)   \n",
       "140521  Bahamas, The          BHS  GNI per capita, Atlas method (current US$)   \n",
       "144186       Bahrain          BHR  GNI per capita, Atlas method (current US$)   \n",
       "158846       Belgium          BEL  GNI per capita, Atlas method (current US$)   \n",
       "\n",
       "        Indicator Code    1970    1971    1972    1973    1974    1975  ...  \\\n",
       "129526  NY.GNP.PCAP.CD  3280.0  3480.0  3890.0  4660.0  5960.0  7230.0  ...   \n",
       "133191  NY.GNP.PCAP.CD  2060.0  2320.0  2760.0  3580.0  4650.0  5540.0  ...   \n",
       "140521  NY.GNP.PCAP.CD  2920.0  3110.0  3190.0  3740.0  3840.0  4640.0  ...   \n",
       "144186  NY.GNP.PCAP.CD     NaN     NaN     NaN     NaN     NaN     NaN  ...   \n",
       "158846  NY.GNP.PCAP.CD  2800.0  3090.0  3660.0  4710.0  6020.0  6940.0  ...   \n",
       "\n",
       "        2055  2060  2065  2070  2075  2080  2085  2090  2095  2100  \n",
       "129526   NaN   NaN   NaN   NaN   NaN   NaN   NaN   NaN   NaN   NaN  \n",
       "133191   NaN   NaN   NaN   NaN   NaN   NaN   NaN   NaN   NaN   NaN  \n",
       "140521   NaN   NaN   NaN   NaN   NaN   NaN   NaN   NaN   NaN   NaN  \n",
       "144186   NaN   NaN   NaN   NaN   NaN   NaN   NaN   NaN   NaN   NaN  \n",
       "158846   NaN   NaN   NaN   NaN   NaN   NaN   NaN   NaN   NaN   NaN  \n",
       "\n",
       "[5 rows x 69 columns]"
      ]
     },
     "execution_count": 59,
     "metadata": {},
     "output_type": "execute_result"
    }
   ],
   "source": [
    "data_income.head()"
   ]
  },
  {
   "cell_type": "code",
   "execution_count": 60,
   "id": "b3b3bc8c",
   "metadata": {},
   "outputs": [
    {
     "data": {
      "text/plain": [
       "(49, 69)"
      ]
     },
     "execution_count": 60,
     "metadata": {},
     "output_type": "execute_result"
    }
   ],
   "source": [
    "data_income.shape"
   ]
  },
  {
   "cell_type": "markdown",
   "id": "d3b26769",
   "metadata": {},
   "source": [
    "Regardons les dates les plus récentes pour lesquelles il y a des données"
   ]
  },
  {
   "cell_type": "code",
   "execution_count": 61,
   "id": "60901b06",
   "metadata": {},
   "outputs": [
    {
     "data": {
      "text/plain": [
       "{2015, 2016}"
      ]
     },
     "execution_count": 61,
     "metadata": {},
     "output_type": "execute_result"
    }
   ],
   "source": [
    "#country_names = []\n",
    "dates = []\n",
    "for i in np.arange(data_income.shape[0]): # on parcourt les lignes\n",
    "    s = data_income.iloc[i,:] # on met la ligne dans s\n",
    "    # on parcourt les colonnes depuis la dernière ('2100') jusqu'à tomber sur une\n",
    "    # valeur non nulle\n",
    "    j = s.size-1\n",
    "    while pd.isna(s[j]) == True:\n",
    "        j -= 1\n",
    "    # l'indice j correspond à la dernière valeur non nulle\n",
    "    #country_names.append(s[\"Country Name\"])\n",
    "    dates.append(int(s.index[j])) # on convertit la date en int\n",
    "# on regarde les valeurs uniques dans dates\n",
    "set(dates)"
   ]
  },
  {
   "cell_type": "markdown",
   "id": "0f884442",
   "metadata": {},
   "source": [
    "On voit que certains pays ont des données jusqu'en 2015 et d'autres jusqu'en 2016. Pour les comparer, on va retenir la moyenne des valeurs entre 2013 et 2016 pour tous les pays. On va mettre cette moyenne dans une colonne `GNI per capita`"
   ]
  },
  {
   "cell_type": "code",
   "execution_count": 62,
   "id": "d08f1b97",
   "metadata": {},
   "outputs": [
    {
     "name": "stderr",
     "output_type": "stream",
     "text": [
      "<ipython-input-62-90bd0a818e65>:1: SettingWithCopyWarning: \n",
      "A value is trying to be set on a copy of a slice from a DataFrame.\n",
      "Try using .loc[row_indexer,col_indexer] = value instead\n",
      "\n",
      "See the caveats in the documentation: https://pandas.pydata.org/pandas-docs/stable/user_guide/indexing.html#returning-a-view-versus-a-copy\n",
      "  data_income[\"GNI per capita\"] = data_income.loc[:, \"2013\":\"2016\"].mean(axis=1)\n"
     ]
    },
    {
     "data": {
      "text/html": [
       "<div>\n",
       "<style scoped>\n",
       "    .dataframe tbody tr th:only-of-type {\n",
       "        vertical-align: middle;\n",
       "    }\n",
       "\n",
       "    .dataframe tbody tr th {\n",
       "        vertical-align: top;\n",
       "    }\n",
       "\n",
       "    .dataframe thead th {\n",
       "        text-align: right;\n",
       "    }\n",
       "</style>\n",
       "<table border=\"1\" class=\"dataframe\">\n",
       "  <thead>\n",
       "    <tr style=\"text-align: right;\">\n",
       "      <th></th>\n",
       "      <th>2013</th>\n",
       "      <th>2014</th>\n",
       "      <th>2015</th>\n",
       "      <th>2016</th>\n",
       "      <th>GNI per capita</th>\n",
       "    </tr>\n",
       "  </thead>\n",
       "  <tbody>\n",
       "    <tr>\n",
       "      <th>129526</th>\n",
       "      <td>65640.0</td>\n",
       "      <td>64860.0</td>\n",
       "      <td>60330.0</td>\n",
       "      <td>54420.0</td>\n",
       "      <td>61312.500000</td>\n",
       "    </tr>\n",
       "    <tr>\n",
       "      <th>133191</th>\n",
       "      <td>50750.0</td>\n",
       "      <td>50400.0</td>\n",
       "      <td>47610.0</td>\n",
       "      <td>45790.0</td>\n",
       "      <td>48637.500000</td>\n",
       "    </tr>\n",
       "    <tr>\n",
       "      <th>140521</th>\n",
       "      <td>25060.0</td>\n",
       "      <td>26780.0</td>\n",
       "      <td>26130.0</td>\n",
       "      <td>26490.0</td>\n",
       "      <td>26115.000000</td>\n",
       "    </tr>\n",
       "    <tr>\n",
       "      <th>144186</th>\n",
       "      <td>21710.0</td>\n",
       "      <td>21010.0</td>\n",
       "      <td>22660.0</td>\n",
       "      <td>NaN</td>\n",
       "      <td>21793.333333</td>\n",
       "    </tr>\n",
       "    <tr>\n",
       "      <th>158846</th>\n",
       "      <td>47330.0</td>\n",
       "      <td>46940.0</td>\n",
       "      <td>44340.0</td>\n",
       "      <td>41820.0</td>\n",
       "      <td>45107.500000</td>\n",
       "    </tr>\n",
       "  </tbody>\n",
       "</table>\n",
       "</div>"
      ],
      "text/plain": [
       "           2013     2014     2015     2016  GNI per capita\n",
       "129526  65640.0  64860.0  60330.0  54420.0    61312.500000\n",
       "133191  50750.0  50400.0  47610.0  45790.0    48637.500000\n",
       "140521  25060.0  26780.0  26130.0  26490.0    26115.000000\n",
       "144186  21710.0  21010.0  22660.0      NaN    21793.333333\n",
       "158846  47330.0  46940.0  44340.0  41820.0    45107.500000"
      ]
     },
     "execution_count": 62,
     "metadata": {},
     "output_type": "execute_result"
    }
   ],
   "source": [
    "data_income[\"GNI per capita\"] = data_income.loc[:, \"2013\":\"2016\"].mean(axis=1)\n",
    "data_income[[\"2013\", \"2014\", \"2015\", \"2016\", \"GNI per capita\"]].head()"
   ]
  },
  {
   "cell_type": "markdown",
   "id": "b8f22c0b",
   "metadata": {},
   "source": [
    "On ne garde que les colonnes `Country Name` et `GNI per capita`"
   ]
  },
  {
   "cell_type": "code",
   "execution_count": 63,
   "id": "942daaed",
   "metadata": {},
   "outputs": [
    {
     "data": {
      "text/html": [
       "<div>\n",
       "<style scoped>\n",
       "    .dataframe tbody tr th:only-of-type {\n",
       "        vertical-align: middle;\n",
       "    }\n",
       "\n",
       "    .dataframe tbody tr th {\n",
       "        vertical-align: top;\n",
       "    }\n",
       "\n",
       "    .dataframe thead th {\n",
       "        text-align: right;\n",
       "    }\n",
       "</style>\n",
       "<table border=\"1\" class=\"dataframe\">\n",
       "  <thead>\n",
       "    <tr style=\"text-align: right;\">\n",
       "      <th></th>\n",
       "      <th>Country Name</th>\n",
       "      <th>GNI per capita</th>\n",
       "    </tr>\n",
       "  </thead>\n",
       "  <tbody>\n",
       "    <tr>\n",
       "      <th>129526</th>\n",
       "      <td>Australia</td>\n",
       "      <td>61312.500000</td>\n",
       "    </tr>\n",
       "    <tr>\n",
       "      <th>133191</th>\n",
       "      <td>Austria</td>\n",
       "      <td>48637.500000</td>\n",
       "    </tr>\n",
       "    <tr>\n",
       "      <th>140521</th>\n",
       "      <td>Bahamas, The</td>\n",
       "      <td>26115.000000</td>\n",
       "    </tr>\n",
       "    <tr>\n",
       "      <th>144186</th>\n",
       "      <td>Bahrain</td>\n",
       "      <td>21793.333333</td>\n",
       "    </tr>\n",
       "    <tr>\n",
       "      <th>158846</th>\n",
       "      <td>Belgium</td>\n",
       "      <td>45107.500000</td>\n",
       "    </tr>\n",
       "  </tbody>\n",
       "</table>\n",
       "</div>"
      ],
      "text/plain": [
       "        Country Name  GNI per capita\n",
       "129526     Australia    61312.500000\n",
       "133191       Austria    48637.500000\n",
       "140521  Bahamas, The    26115.000000\n",
       "144186       Bahrain    21793.333333\n",
       "158846       Belgium    45107.500000"
      ]
     },
     "execution_count": 63,
     "metadata": {},
     "output_type": "execute_result"
    }
   ],
   "source": [
    "data_income = data_income.iloc[:, [0, -1]]\n",
    "data_income.head()"
   ]
  },
  {
   "cell_type": "code",
   "execution_count": 64,
   "id": "5c3f922a",
   "metadata": {},
   "outputs": [
    {
     "data": {
      "text/html": [
       "<div>\n",
       "<style scoped>\n",
       "    .dataframe tbody tr th:only-of-type {\n",
       "        vertical-align: middle;\n",
       "    }\n",
       "\n",
       "    .dataframe tbody tr th {\n",
       "        vertical-align: top;\n",
       "    }\n",
       "\n",
       "    .dataframe thead th {\n",
       "        text-align: right;\n",
       "    }\n",
       "</style>\n",
       "<table border=\"1\" class=\"dataframe\">\n",
       "  <thead>\n",
       "    <tr style=\"text-align: right;\">\n",
       "      <th></th>\n",
       "      <th>GNI per capita</th>\n",
       "    </tr>\n",
       "  </thead>\n",
       "  <tbody>\n",
       "    <tr>\n",
       "      <th>count</th>\n",
       "      <td>49.000000</td>\n",
       "    </tr>\n",
       "    <tr>\n",
       "      <th>mean</th>\n",
       "      <td>38137.227891</td>\n",
       "    </tr>\n",
       "    <tr>\n",
       "      <th>std</th>\n",
       "      <td>20947.022703</td>\n",
       "    </tr>\n",
       "    <tr>\n",
       "      <th>min</th>\n",
       "      <td>10792.500000</td>\n",
       "    </tr>\n",
       "    <tr>\n",
       "      <th>25%</th>\n",
       "      <td>20730.000000</td>\n",
       "    </tr>\n",
       "    <tr>\n",
       "      <th>50%</th>\n",
       "      <td>40095.000000</td>\n",
       "    </tr>\n",
       "    <tr>\n",
       "      <th>75%</th>\n",
       "      <td>48820.000000</td>\n",
       "    </tr>\n",
       "    <tr>\n",
       "      <th>max</th>\n",
       "      <td>96337.500000</td>\n",
       "    </tr>\n",
       "  </tbody>\n",
       "</table>\n",
       "</div>"
      ],
      "text/plain": [
       "       GNI per capita\n",
       "count       49.000000\n",
       "mean     38137.227891\n",
       "std      20947.022703\n",
       "min      10792.500000\n",
       "25%      20730.000000\n",
       "50%      40095.000000\n",
       "75%      48820.000000\n",
       "max      96337.500000"
      ]
     },
     "execution_count": 64,
     "metadata": {},
     "output_type": "execute_result"
    }
   ],
   "source": [
    "data_income.describe()"
   ]
  },
  {
   "cell_type": "code",
   "execution_count": 65,
   "id": "d32206ee",
   "metadata": {},
   "outputs": [
    {
     "data": {
      "image/png": "[encoded data removed]",
      "text/plain": [
       "<Figure size 432x288 with 1 Axes>"
      ]
     },
     "metadata": {},
     "output_type": "display_data"
    }
   ],
   "source": [
    "ax = sns.boxplot(x=data_income[\"GNI per capita\"])"
   ]
  },
  {
   "cell_type": "markdown",
   "id": "02f73c5b",
   "metadata": {},
   "source": [
    "On regroupe les data avec une jointure interne. La colonne commune aux DataFrame est la colonne `Country Name`, la jointure va donc se faire sur cette colonne automatiquement."
   ]
  },
  {
   "cell_type": "code",
   "execution_count": 66,
   "id": "d2a42765",
   "metadata": {},
   "outputs": [],
   "source": [
    "data = pd.merge(data_internet, data_income)"
   ]
  },
  {
   "cell_type": "markdown",
   "id": "248c5d79",
   "metadata": {},
   "source": [
    "## data liées à la population"
   ]
  },
  {
   "cell_type": "code",
   "execution_count": 67,
   "id": "2b0d311c",
   "metadata": {},
   "outputs": [
    {
     "data": {
      "text/html": [
       "<div>\n",
       "<style scoped>\n",
       "    .dataframe tbody tr th:only-of-type {\n",
       "        vertical-align: middle;\n",
       "    }\n",
       "\n",
       "    .dataframe tbody tr th {\n",
       "        vertical-align: top;\n",
       "    }\n",
       "\n",
       "    .dataframe thead th {\n",
       "        text-align: right;\n",
       "    }\n",
       "</style>\n",
       "<table border=\"1\" class=\"dataframe\">\n",
       "  <thead>\n",
       "    <tr style=\"text-align: right;\">\n",
       "      <th></th>\n",
       "      <th>Country Name</th>\n",
       "      <th>Country Code</th>\n",
       "      <th>Indicator Name</th>\n",
       "      <th>Indicator Code</th>\n",
       "      <th>1970</th>\n",
       "      <th>1971</th>\n",
       "      <th>1972</th>\n",
       "      <th>1973</th>\n",
       "      <th>1974</th>\n",
       "      <th>1975</th>\n",
       "      <th>...</th>\n",
       "      <th>2055</th>\n",
       "      <th>2060</th>\n",
       "      <th>2065</th>\n",
       "      <th>2070</th>\n",
       "      <th>2075</th>\n",
       "      <th>2080</th>\n",
       "      <th>2085</th>\n",
       "      <th>2090</th>\n",
       "      <th>2095</th>\n",
       "      <th>2100</th>\n",
       "    </tr>\n",
       "  </thead>\n",
       "  <tbody>\n",
       "    <tr>\n",
       "      <th>130757</th>\n",
       "      <td>Australia</td>\n",
       "      <td>AUS</td>\n",
       "      <td>Population, ages 15-24, total</td>\n",
       "      <td>SP.POP.1524.TO.UN</td>\n",
       "      <td>NaN</td>\n",
       "      <td>NaN</td>\n",
       "      <td>NaN</td>\n",
       "      <td>NaN</td>\n",
       "      <td>NaN</td>\n",
       "      <td>NaN</td>\n",
       "      <td>...</td>\n",
       "      <td>NaN</td>\n",
       "      <td>NaN</td>\n",
       "      <td>NaN</td>\n",
       "      <td>NaN</td>\n",
       "      <td>NaN</td>\n",
       "      <td>NaN</td>\n",
       "      <td>NaN</td>\n",
       "      <td>NaN</td>\n",
       "      <td>NaN</td>\n",
       "      <td>NaN</td>\n",
       "    </tr>\n",
       "    <tr>\n",
       "      <th>134422</th>\n",
       "      <td>Austria</td>\n",
       "      <td>AUT</td>\n",
       "      <td>Population, ages 15-24, total</td>\n",
       "      <td>SP.POP.1524.TO.UN</td>\n",
       "      <td>NaN</td>\n",
       "      <td>NaN</td>\n",
       "      <td>NaN</td>\n",
       "      <td>NaN</td>\n",
       "      <td>NaN</td>\n",
       "      <td>NaN</td>\n",
       "      <td>...</td>\n",
       "      <td>NaN</td>\n",
       "      <td>NaN</td>\n",
       "      <td>NaN</td>\n",
       "      <td>NaN</td>\n",
       "      <td>NaN</td>\n",
       "      <td>NaN</td>\n",
       "      <td>NaN</td>\n",
       "      <td>NaN</td>\n",
       "      <td>NaN</td>\n",
       "      <td>NaN</td>\n",
       "    </tr>\n",
       "    <tr>\n",
       "      <th>141752</th>\n",
       "      <td>Bahamas, The</td>\n",
       "      <td>BHS</td>\n",
       "      <td>Population, ages 15-24, total</td>\n",
       "      <td>SP.POP.1524.TO.UN</td>\n",
       "      <td>NaN</td>\n",
       "      <td>NaN</td>\n",
       "      <td>NaN</td>\n",
       "      <td>NaN</td>\n",
       "      <td>NaN</td>\n",
       "      <td>NaN</td>\n",
       "      <td>...</td>\n",
       "      <td>NaN</td>\n",
       "      <td>NaN</td>\n",
       "      <td>NaN</td>\n",
       "      <td>NaN</td>\n",
       "      <td>NaN</td>\n",
       "      <td>NaN</td>\n",
       "      <td>NaN</td>\n",
       "      <td>NaN</td>\n",
       "      <td>NaN</td>\n",
       "      <td>NaN</td>\n",
       "    </tr>\n",
       "    <tr>\n",
       "      <th>145417</th>\n",
       "      <td>Bahrain</td>\n",
       "      <td>BHR</td>\n",
       "      <td>Population, ages 15-24, total</td>\n",
       "      <td>SP.POP.1524.TO.UN</td>\n",
       "      <td>NaN</td>\n",
       "      <td>NaN</td>\n",
       "      <td>NaN</td>\n",
       "      <td>NaN</td>\n",
       "      <td>NaN</td>\n",
       "      <td>NaN</td>\n",
       "      <td>...</td>\n",
       "      <td>NaN</td>\n",
       "      <td>NaN</td>\n",
       "      <td>NaN</td>\n",
       "      <td>NaN</td>\n",
       "      <td>NaN</td>\n",
       "      <td>NaN</td>\n",
       "      <td>NaN</td>\n",
       "      <td>NaN</td>\n",
       "      <td>NaN</td>\n",
       "      <td>NaN</td>\n",
       "    </tr>\n",
       "    <tr>\n",
       "      <th>160077</th>\n",
       "      <td>Belgium</td>\n",
       "      <td>BEL</td>\n",
       "      <td>Population, ages 15-24, total</td>\n",
       "      <td>SP.POP.1524.TO.UN</td>\n",
       "      <td>NaN</td>\n",
       "      <td>NaN</td>\n",
       "      <td>NaN</td>\n",
       "      <td>NaN</td>\n",
       "      <td>NaN</td>\n",
       "      <td>NaN</td>\n",
       "      <td>...</td>\n",
       "      <td>NaN</td>\n",
       "      <td>NaN</td>\n",
       "      <td>NaN</td>\n",
       "      <td>NaN</td>\n",
       "      <td>NaN</td>\n",
       "      <td>NaN</td>\n",
       "      <td>NaN</td>\n",
       "      <td>NaN</td>\n",
       "      <td>NaN</td>\n",
       "      <td>NaN</td>\n",
       "    </tr>\n",
       "  </tbody>\n",
       "</table>\n",
       "<p>5 rows × 69 columns</p>\n",
       "</div>"
      ],
      "text/plain": [
       "        Country Name Country Code                 Indicator Name  \\\n",
       "130757     Australia          AUS  Population, ages 15-24, total   \n",
       "134422       Austria          AUT  Population, ages 15-24, total   \n",
       "141752  Bahamas, The          BHS  Population, ages 15-24, total   \n",
       "145417       Bahrain          BHR  Population, ages 15-24, total   \n",
       "160077       Belgium          BEL  Population, ages 15-24, total   \n",
       "\n",
       "           Indicator Code  1970  1971  1972  1973  1974  1975  ...  2055  \\\n",
       "130757  SP.POP.1524.TO.UN   NaN   NaN   NaN   NaN   NaN   NaN  ...   NaN   \n",
       "134422  SP.POP.1524.TO.UN   NaN   NaN   NaN   NaN   NaN   NaN  ...   NaN   \n",
       "141752  SP.POP.1524.TO.UN   NaN   NaN   NaN   NaN   NaN   NaN  ...   NaN   \n",
       "145417  SP.POP.1524.TO.UN   NaN   NaN   NaN   NaN   NaN   NaN  ...   NaN   \n",
       "160077  SP.POP.1524.TO.UN   NaN   NaN   NaN   NaN   NaN   NaN  ...   NaN   \n",
       "\n",
       "        2060  2065  2070  2075  2080  2085  2090  2095  2100  \n",
       "130757   NaN   NaN   NaN   NaN   NaN   NaN   NaN   NaN   NaN  \n",
       "134422   NaN   NaN   NaN   NaN   NaN   NaN   NaN   NaN   NaN  \n",
       "141752   NaN   NaN   NaN   NaN   NaN   NaN   NaN   NaN   NaN  \n",
       "145417   NaN   NaN   NaN   NaN   NaN   NaN   NaN   NaN   NaN  \n",
       "160077   NaN   NaN   NaN   NaN   NaN   NaN   NaN   NaN   NaN  \n",
       "\n",
       "[5 rows x 69 columns]"
      ]
     },
     "execution_count": 67,
     "metadata": {},
     "output_type": "execute_result"
    }
   ],
   "source": [
    "data_pop.head()"
   ]
  },
  {
   "cell_type": "code",
   "execution_count": 68,
   "id": "039b154c",
   "metadata": {},
   "outputs": [
    {
     "data": {
      "text/plain": [
       "(49, 69)"
      ]
     },
     "execution_count": 68,
     "metadata": {},
     "output_type": "execute_result"
    }
   ],
   "source": [
    "data_pop.shape"
   ]
  },
  {
   "cell_type": "code",
   "execution_count": 69,
   "id": "f97de980",
   "metadata": {},
   "outputs": [],
   "source": [
    "# on supprime les colonnes qui ne contiennent que des nan\n",
    "data_pop = data_pop.dropna(axis=\"columns\", how=\"all\")\n",
    "\n",
    "# on supprime les données antérieures à 2010\n",
    "data_pop = data_pop.drop(columns=data_pop.loc[:, \"Country Code\":\"2009\"].columns)"
   ]
  },
  {
   "cell_type": "code",
   "execution_count": 70,
   "id": "8a6afa8e",
   "metadata": {},
   "outputs": [
    {
     "data": {
      "text/plain": [
       "(49, 7)"
      ]
     },
     "execution_count": 70,
     "metadata": {},
     "output_type": "execute_result"
    }
   ],
   "source": [
    "data_pop.shape"
   ]
  },
  {
   "cell_type": "code",
   "execution_count": 71,
   "id": "f087feeb",
   "metadata": {},
   "outputs": [
    {
     "data": {
      "text/plain": [
       "Country Name    0.0\n",
       "2010            0.0\n",
       "2011            0.0\n",
       "2012            0.0\n",
       "2013            0.0\n",
       "2014            0.0\n",
       "2015            0.0\n",
       "dtype: float64"
      ]
     },
     "execution_count": 71,
     "metadata": {},
     "output_type": "execute_result"
    }
   ],
   "source": [
    "# on regarde s'il y a des valeurs manquantes\n",
    "data_pop.isna().mean()"
   ]
  },
  {
   "cell_type": "code",
   "execution_count": 72,
   "id": "ddac299b",
   "metadata": {},
   "outputs": [
    {
     "data": {
      "text/html": [
       "<div>\n",
       "<style scoped>\n",
       "    .dataframe tbody tr th:only-of-type {\n",
       "        vertical-align: middle;\n",
       "    }\n",
       "\n",
       "    .dataframe tbody tr th {\n",
       "        vertical-align: top;\n",
       "    }\n",
       "\n",
       "    .dataframe thead th {\n",
       "        text-align: right;\n",
       "    }\n",
       "</style>\n",
       "<table border=\"1\" class=\"dataframe\">\n",
       "  <thead>\n",
       "    <tr style=\"text-align: right;\">\n",
       "      <th></th>\n",
       "      <th>Country Name</th>\n",
       "      <th>2015</th>\n",
       "    </tr>\n",
       "  </thead>\n",
       "  <tbody>\n",
       "    <tr>\n",
       "      <th>130757</th>\n",
       "      <td>Australia</td>\n",
       "      <td>2914620.0</td>\n",
       "    </tr>\n",
       "    <tr>\n",
       "      <th>134422</th>\n",
       "      <td>Austria</td>\n",
       "      <td>964629.0</td>\n",
       "    </tr>\n",
       "    <tr>\n",
       "      <th>141752</th>\n",
       "      <td>Bahamas, The</td>\n",
       "      <td>61260.0</td>\n",
       "    </tr>\n",
       "    <tr>\n",
       "      <th>145417</th>\n",
       "      <td>Bahrain</td>\n",
       "      <td>132609.0</td>\n",
       "    </tr>\n",
       "    <tr>\n",
       "      <th>160077</th>\n",
       "      <td>Belgium</td>\n",
       "      <td>1241946.0</td>\n",
       "    </tr>\n",
       "  </tbody>\n",
       "</table>\n",
       "</div>"
      ],
      "text/plain": [
       "        Country Name       2015\n",
       "130757     Australia  2914620.0\n",
       "134422       Austria   964629.0\n",
       "141752  Bahamas, The    61260.0\n",
       "145417       Bahrain   132609.0\n",
       "160077       Belgium  1241946.0"
      ]
     },
     "execution_count": 72,
     "metadata": {},
     "output_type": "execute_result"
    }
   ],
   "source": [
    "# on ne garde que les noms des pays et les données datant de 2015\n",
    "data_pop = data_pop.iloc[:, [0,-1]]\n",
    "data_pop.head()"
   ]
  },
  {
   "cell_type": "code",
   "execution_count": 73,
   "id": "bc128882",
   "metadata": {},
   "outputs": [
    {
     "data": {
      "text/html": [
       "<div>\n",
       "<style scoped>\n",
       "    .dataframe tbody tr th:only-of-type {\n",
       "        vertical-align: middle;\n",
       "    }\n",
       "\n",
       "    .dataframe tbody tr th {\n",
       "        vertical-align: top;\n",
       "    }\n",
       "\n",
       "    .dataframe thead th {\n",
       "        text-align: right;\n",
       "    }\n",
       "</style>\n",
       "<table border=\"1\" class=\"dataframe\">\n",
       "  <thead>\n",
       "    <tr style=\"text-align: right;\">\n",
       "      <th></th>\n",
       "      <th>Country Name</th>\n",
       "      <th>Population</th>\n",
       "    </tr>\n",
       "  </thead>\n",
       "  <tbody>\n",
       "    <tr>\n",
       "      <th>130757</th>\n",
       "      <td>Australia</td>\n",
       "      <td>2914620.0</td>\n",
       "    </tr>\n",
       "    <tr>\n",
       "      <th>134422</th>\n",
       "      <td>Austria</td>\n",
       "      <td>964629.0</td>\n",
       "    </tr>\n",
       "    <tr>\n",
       "      <th>141752</th>\n",
       "      <td>Bahamas, The</td>\n",
       "      <td>61260.0</td>\n",
       "    </tr>\n",
       "    <tr>\n",
       "      <th>145417</th>\n",
       "      <td>Bahrain</td>\n",
       "      <td>132609.0</td>\n",
       "    </tr>\n",
       "    <tr>\n",
       "      <th>160077</th>\n",
       "      <td>Belgium</td>\n",
       "      <td>1241946.0</td>\n",
       "    </tr>\n",
       "  </tbody>\n",
       "</table>\n",
       "</div>"
      ],
      "text/plain": [
       "        Country Name  Population\n",
       "130757     Australia   2914620.0\n",
       "134422       Austria    964629.0\n",
       "141752  Bahamas, The     61260.0\n",
       "145417       Bahrain    132609.0\n",
       "160077       Belgium   1241946.0"
      ]
     },
     "execution_count": 73,
     "metadata": {},
     "output_type": "execute_result"
    }
   ],
   "source": [
    "# on renomme la colonne `2015` en `Population`\n",
    "data_pop = data_pop.rename(columns={\"2015\": \"Population\"})\n",
    "data_pop.head()"
   ]
  },
  {
   "cell_type": "code",
   "execution_count": 74,
   "id": "6bf7519c",
   "metadata": {},
   "outputs": [
    {
     "data": {
      "text/html": [
       "<div>\n",
       "<style scoped>\n",
       "    .dataframe tbody tr th:only-of-type {\n",
       "        vertical-align: middle;\n",
       "    }\n",
       "\n",
       "    .dataframe tbody tr th {\n",
       "        vertical-align: top;\n",
       "    }\n",
       "\n",
       "    .dataframe thead th {\n",
       "        text-align: right;\n",
       "    }\n",
       "</style>\n",
       "<table border=\"1\" class=\"dataframe\">\n",
       "  <thead>\n",
       "    <tr style=\"text-align: right;\">\n",
       "      <th></th>\n",
       "      <th>Population</th>\n",
       "    </tr>\n",
       "  </thead>\n",
       "  <tbody>\n",
       "    <tr>\n",
       "      <th>count</th>\n",
       "      <td>4.900000e+01</td>\n",
       "    </tr>\n",
       "    <tr>\n",
       "      <th>mean</th>\n",
       "      <td>3.114512e+06</td>\n",
       "    </tr>\n",
       "    <tr>\n",
       "      <th>std</th>\n",
       "      <td>6.941752e+06</td>\n",
       "    </tr>\n",
       "    <tr>\n",
       "      <th>min</th>\n",
       "      <td>4.457000e+04</td>\n",
       "    </tr>\n",
       "    <tr>\n",
       "      <th>25%</th>\n",
       "      <td>2.269000e+05</td>\n",
       "    </tr>\n",
       "    <tr>\n",
       "      <th>50%</th>\n",
       "      <td>7.436080e+05</td>\n",
       "    </tr>\n",
       "    <tr>\n",
       "      <th>75%</th>\n",
       "      <td>2.914620e+06</td>\n",
       "    </tr>\n",
       "    <tr>\n",
       "      <th>max</th>\n",
       "      <td>4.514752e+07</td>\n",
       "    </tr>\n",
       "  </tbody>\n",
       "</table>\n",
       "</div>"
      ],
      "text/plain": [
       "         Population\n",
       "count  4.900000e+01\n",
       "mean   3.114512e+06\n",
       "std    6.941752e+06\n",
       "min    4.457000e+04\n",
       "25%    2.269000e+05\n",
       "50%    7.436080e+05\n",
       "75%    2.914620e+06\n",
       "max    4.514752e+07"
      ]
     },
     "execution_count": 74,
     "metadata": {},
     "output_type": "execute_result"
    }
   ],
   "source": [
    "data_pop.describe()"
   ]
  },
  {
   "cell_type": "code",
   "execution_count": 75,
   "id": "c986f013",
   "metadata": {},
   "outputs": [
    {
     "data": {
      "image/png": "[encoded data removed]",
      "text/plain": [
       "<Figure size 432x288 with 1 Axes>"
      ]
     },
     "metadata": {},
     "output_type": "display_data"
    }
   ],
   "source": [
    "ax = sns.boxplot(x=data_pop[\"Population\"])"
   ]
  },
  {
   "cell_type": "markdown",
   "id": "ce5b945b",
   "metadata": {},
   "source": [
    "On regroupe les données"
   ]
  },
  {
   "cell_type": "code",
   "execution_count": 76,
   "id": "263fb39c",
   "metadata": {},
   "outputs": [],
   "source": [
    "data = pd.merge(data, data_pop)"
   ]
  },
  {
   "cell_type": "markdown",
   "id": "671092e5",
   "metadata": {},
   "source": [
    "## data liées aux prévisions de la population"
   ]
  },
  {
   "cell_type": "code",
   "execution_count": 77,
   "id": "5c362c43",
   "metadata": {
    "scrolled": true
   },
   "outputs": [
    {
     "data": {
      "text/html": [
       "<div>\n",
       "<style scoped>\n",
       "    .dataframe tbody tr th:only-of-type {\n",
       "        vertical-align: middle;\n",
       "    }\n",
       "\n",
       "    .dataframe tbody tr th {\n",
       "        vertical-align: top;\n",
       "    }\n",
       "\n",
       "    .dataframe thead th {\n",
       "        text-align: right;\n",
       "    }\n",
       "</style>\n",
       "<table border=\"1\" class=\"dataframe\">\n",
       "  <thead>\n",
       "    <tr style=\"text-align: right;\">\n",
       "      <th></th>\n",
       "      <th>Country Name</th>\n",
       "      <th>Country Code</th>\n",
       "      <th>Indicator Name</th>\n",
       "      <th>Indicator Code</th>\n",
       "      <th>1970</th>\n",
       "      <th>1971</th>\n",
       "      <th>1972</th>\n",
       "      <th>1973</th>\n",
       "      <th>1974</th>\n",
       "      <th>1975</th>\n",
       "      <th>...</th>\n",
       "      <th>2055</th>\n",
       "      <th>2060</th>\n",
       "      <th>2065</th>\n",
       "      <th>2070</th>\n",
       "      <th>2075</th>\n",
       "      <th>2080</th>\n",
       "      <th>2085</th>\n",
       "      <th>2090</th>\n",
       "      <th>2095</th>\n",
       "      <th>2100</th>\n",
       "    </tr>\n",
       "  </thead>\n",
       "  <tbody>\n",
       "    <tr>\n",
       "      <th>131871</th>\n",
       "      <td>Australia</td>\n",
       "      <td>AUS</td>\n",
       "      <td>Wittgenstein Projection: Population age 15-19 ...</td>\n",
       "      <td>PRJ.POP.1519.4.MF</td>\n",
       "      <td>NaN</td>\n",
       "      <td>NaN</td>\n",
       "      <td>NaN</td>\n",
       "      <td>NaN</td>\n",
       "      <td>NaN</td>\n",
       "      <td>NaN</td>\n",
       "      <td>...</td>\n",
       "      <td>33.88</td>\n",
       "      <td>35.78</td>\n",
       "      <td>37.38</td>\n",
       "      <td>38.59</td>\n",
       "      <td>39.31</td>\n",
       "      <td>39.61</td>\n",
       "      <td>39.70</td>\n",
       "      <td>39.72</td>\n",
       "      <td>39.62</td>\n",
       "      <td>39.28</td>\n",
       "    </tr>\n",
       "    <tr>\n",
       "      <th>131877</th>\n",
       "      <td>Australia</td>\n",
       "      <td>AUS</td>\n",
       "      <td>Wittgenstein Projection: Population age 15-19 ...</td>\n",
       "      <td>PRJ.POP.1519.3.MF</td>\n",
       "      <td>NaN</td>\n",
       "      <td>NaN</td>\n",
       "      <td>NaN</td>\n",
       "      <td>NaN</td>\n",
       "      <td>NaN</td>\n",
       "      <td>NaN</td>\n",
       "      <td>...</td>\n",
       "      <td>1441.62</td>\n",
       "      <td>1510.77</td>\n",
       "      <td>1569.06</td>\n",
       "      <td>1611.50</td>\n",
       "      <td>1634.36</td>\n",
       "      <td>1640.60</td>\n",
       "      <td>1638.96</td>\n",
       "      <td>1635.36</td>\n",
       "      <td>1627.24</td>\n",
       "      <td>1610.01</td>\n",
       "    </tr>\n",
       "    <tr>\n",
       "      <th>131889</th>\n",
       "      <td>Australia</td>\n",
       "      <td>AUS</td>\n",
       "      <td>Wittgenstein Projection: Population age 20-24 ...</td>\n",
       "      <td>PRJ.POP.2024.4.MF</td>\n",
       "      <td>NaN</td>\n",
       "      <td>NaN</td>\n",
       "      <td>NaN</td>\n",
       "      <td>NaN</td>\n",
       "      <td>NaN</td>\n",
       "      <td>NaN</td>\n",
       "      <td>...</td>\n",
       "      <td>727.93</td>\n",
       "      <td>760.56</td>\n",
       "      <td>790.19</td>\n",
       "      <td>815.29</td>\n",
       "      <td>832.70</td>\n",
       "      <td>840.37</td>\n",
       "      <td>839.79</td>\n",
       "      <td>835.47</td>\n",
       "      <td>830.33</td>\n",
       "      <td>823.02</td>\n",
       "    </tr>\n",
       "    <tr>\n",
       "      <th>131895</th>\n",
       "      <td>Australia</td>\n",
       "      <td>AUS</td>\n",
       "      <td>Wittgenstein Projection: Population age 20-24 ...</td>\n",
       "      <td>PRJ.POP.2024.3.MF</td>\n",
       "      <td>NaN</td>\n",
       "      <td>NaN</td>\n",
       "      <td>NaN</td>\n",
       "      <td>NaN</td>\n",
       "      <td>NaN</td>\n",
       "      <td>NaN</td>\n",
       "      <td>...</td>\n",
       "      <td>1227.91</td>\n",
       "      <td>1240.07</td>\n",
       "      <td>1249.26</td>\n",
       "      <td>1252.91</td>\n",
       "      <td>1246.76</td>\n",
       "      <td>1228.55</td>\n",
       "      <td>1201.13</td>\n",
       "      <td>1171.22</td>\n",
       "      <td>1142.60</td>\n",
       "      <td>1113.36</td>\n",
       "    </tr>\n",
       "    <tr>\n",
       "      <th>135536</th>\n",
       "      <td>Austria</td>\n",
       "      <td>AUT</td>\n",
       "      <td>Wittgenstein Projection: Population age 15-19 ...</td>\n",
       "      <td>PRJ.POP.1519.4.MF</td>\n",
       "      <td>NaN</td>\n",
       "      <td>NaN</td>\n",
       "      <td>NaN</td>\n",
       "      <td>NaN</td>\n",
       "      <td>NaN</td>\n",
       "      <td>NaN</td>\n",
       "      <td>...</td>\n",
       "      <td>14.82</td>\n",
       "      <td>15.22</td>\n",
       "      <td>15.70</td>\n",
       "      <td>15.98</td>\n",
       "      <td>15.94</td>\n",
       "      <td>15.71</td>\n",
       "      <td>15.39</td>\n",
       "      <td>15.13</td>\n",
       "      <td>14.92</td>\n",
       "      <td>14.68</td>\n",
       "    </tr>\n",
       "  </tbody>\n",
       "</table>\n",
       "<p>5 rows × 69 columns</p>\n",
       "</div>"
      ],
      "text/plain": [
       "       Country Name Country Code  \\\n",
       "131871    Australia          AUS   \n",
       "131877    Australia          AUS   \n",
       "131889    Australia          AUS   \n",
       "131895    Australia          AUS   \n",
       "135536      Austria          AUT   \n",
       "\n",
       "                                           Indicator Name     Indicator Code  \\\n",
       "131871  Wittgenstein Projection: Population age 15-19 ...  PRJ.POP.1519.4.MF   \n",
       "131877  Wittgenstein Projection: Population age 15-19 ...  PRJ.POP.1519.3.MF   \n",
       "131889  Wittgenstein Projection: Population age 20-24 ...  PRJ.POP.2024.4.MF   \n",
       "131895  Wittgenstein Projection: Population age 20-24 ...  PRJ.POP.2024.3.MF   \n",
       "135536  Wittgenstein Projection: Population age 15-19 ...  PRJ.POP.1519.4.MF   \n",
       "\n",
       "        1970  1971  1972  1973  1974  1975  ...     2055     2060     2065  \\\n",
       "131871   NaN   NaN   NaN   NaN   NaN   NaN  ...    33.88    35.78    37.38   \n",
       "131877   NaN   NaN   NaN   NaN   NaN   NaN  ...  1441.62  1510.77  1569.06   \n",
       "131889   NaN   NaN   NaN   NaN   NaN   NaN  ...   727.93   760.56   790.19   \n",
       "131895   NaN   NaN   NaN   NaN   NaN   NaN  ...  1227.91  1240.07  1249.26   \n",
       "135536   NaN   NaN   NaN   NaN   NaN   NaN  ...    14.82    15.22    15.70   \n",
       "\n",
       "           2070     2075     2080     2085     2090     2095     2100  \n",
       "131871    38.59    39.31    39.61    39.70    39.72    39.62    39.28  \n",
       "131877  1611.50  1634.36  1640.60  1638.96  1635.36  1627.24  1610.01  \n",
       "131889   815.29   832.70   840.37   839.79   835.47   830.33   823.02  \n",
       "131895  1252.91  1246.76  1228.55  1201.13  1171.22  1142.60  1113.36  \n",
       "135536    15.98    15.94    15.71    15.39    15.13    14.92    14.68  \n",
       "\n",
       "[5 rows x 69 columns]"
      ]
     },
     "execution_count": 77,
     "metadata": {},
     "output_type": "execute_result"
    }
   ],
   "source": [
    "data_projection.head()"
   ]
  },
  {
   "cell_type": "code",
   "execution_count": 78,
   "id": "185ebf12",
   "metadata": {},
   "outputs": [
    {
     "data": {
      "text/plain": [
       "(196, 69)"
      ]
     },
     "execution_count": 78,
     "metadata": {},
     "output_type": "execute_result"
    }
   ],
   "source": [
    "data_projection.shape"
   ]
  },
  {
   "cell_type": "markdown",
   "id": "920f0608",
   "metadata": {},
   "source": [
    "On a 196 lignes car nous avons 4 indicateurs, chaque pays apparaît donc 4 fois. Comme nous avons 49 pays, on retrouve bien $49 \\times 4 = 196$"
   ]
  },
  {
   "cell_type": "code",
   "execution_count": 79,
   "id": "051eedd2",
   "metadata": {},
   "outputs": [
    {
     "data": {
      "text/plain": [
       "(196, 23)"
      ]
     },
     "execution_count": 79,
     "metadata": {},
     "output_type": "execute_result"
    }
   ],
   "source": [
    "# on supprime les colonnes qui ne contiennent que des nan\n",
    "data_projection = data_projection.dropna(axis=\"columns\", how=\"all\")\n",
    "data_projection.shape"
   ]
  },
  {
   "cell_type": "code",
   "execution_count": 80,
   "id": "9b5626db",
   "metadata": {},
   "outputs": [
    {
     "data": {
      "text/plain": [
       "Country Name      0.0\n",
       "Country Code      0.0\n",
       "Indicator Name    0.0\n",
       "Indicator Code    0.0\n",
       "2010              0.0\n",
       "2015              0.0\n",
       "2020              0.0\n",
       "2025              0.0\n",
       "2030              0.0\n",
       "2035              0.0\n",
       "2040              0.0\n",
       "2045              0.0\n",
       "2050              0.0\n",
       "2055              0.0\n",
       "2060              0.0\n",
       "2065              0.0\n",
       "2070              0.0\n",
       "2075              0.0\n",
       "2080              0.0\n",
       "2085              0.0\n",
       "2090              0.0\n",
       "2095              0.0\n",
       "2100              0.0\n",
       "dtype: float64"
      ]
     },
     "execution_count": 80,
     "metadata": {},
     "output_type": "execute_result"
    }
   ],
   "source": [
    "data_projection.isna().mean()"
   ]
  },
  {
   "cell_type": "markdown",
   "id": "c4b07bc3",
   "metadata": {},
   "source": [
    "On va faire la moyenne des prédictions entre 2020 et 2040"
   ]
  },
  {
   "cell_type": "code",
   "execution_count": 81,
   "id": "79e4abdb",
   "metadata": {
    "scrolled": true
   },
   "outputs": [
    {
     "data": {
      "text/html": [
       "<div>\n",
       "<style scoped>\n",
       "    .dataframe tbody tr th:only-of-type {\n",
       "        vertical-align: middle;\n",
       "    }\n",
       "\n",
       "    .dataframe tbody tr th {\n",
       "        vertical-align: top;\n",
       "    }\n",
       "\n",
       "    .dataframe thead th {\n",
       "        text-align: right;\n",
       "    }\n",
       "</style>\n",
       "<table border=\"1\" class=\"dataframe\">\n",
       "  <thead>\n",
       "    <tr style=\"text-align: right;\">\n",
       "      <th></th>\n",
       "      <th>Country Name</th>\n",
       "      <th>Projection</th>\n",
       "    </tr>\n",
       "  </thead>\n",
       "  <tbody>\n",
       "    <tr>\n",
       "      <th>0</th>\n",
       "      <td>Australia</td>\n",
       "      <td>2854.898</td>\n",
       "    </tr>\n",
       "    <tr>\n",
       "      <th>1</th>\n",
       "      <td>Austria</td>\n",
       "      <td>500.194</td>\n",
       "    </tr>\n",
       "    <tr>\n",
       "      <th>2</th>\n",
       "      <td>Bahamas, The</td>\n",
       "      <td>12.572</td>\n",
       "    </tr>\n",
       "    <tr>\n",
       "      <th>3</th>\n",
       "      <td>Bahrain</td>\n",
       "      <td>166.126</td>\n",
       "    </tr>\n",
       "    <tr>\n",
       "      <th>4</th>\n",
       "      <td>Belgium</td>\n",
       "      <td>920.386</td>\n",
       "    </tr>\n",
       "  </tbody>\n",
       "</table>\n",
       "</div>"
      ],
      "text/plain": [
       "   Country Name  Projection\n",
       "0     Australia    2854.898\n",
       "1       Austria     500.194\n",
       "2  Bahamas, The      12.572\n",
       "3       Bahrain     166.126\n",
       "4       Belgium     920.386"
      ]
     },
     "execution_count": 81,
     "metadata": {},
     "output_type": "execute_result"
    }
   ],
   "source": [
    "# On regroupe les données par pays en sommant les valeurs de chaque indicateur\n",
    "data_projection = data_projection.groupby(\"Country Name\").sum()\n",
    "\n",
    "# Le groupby a mis les noms de pays en indice, on les remet en colonne:\n",
    "data_projection = data_projection.reset_index(level=0)\n",
    "\n",
    "# On rajoute une colonne qui correspond à la moyenne des valeurs entre 2020 et 2035\n",
    "data_projection[\"Projection\"] = data_projection.loc[:,\"2020\":\"2040\"].mean(axis=\"columns\")\n",
    "\n",
    "# On supprime toutes les colonnes sauf la première et la dernière\n",
    "columns_to_del = data_projection.iloc[0,1:-1].index\n",
    "data_projection = data_projection.drop(columns=columns_to_del)\n",
    "\n",
    "data_projection.head()"
   ]
  },
  {
   "cell_type": "code",
   "execution_count": 82,
   "id": "fa372016",
   "metadata": {},
   "outputs": [
    {
     "data": {
      "text/html": [
       "<div>\n",
       "<style scoped>\n",
       "    .dataframe tbody tr th:only-of-type {\n",
       "        vertical-align: middle;\n",
       "    }\n",
       "\n",
       "    .dataframe tbody tr th {\n",
       "        vertical-align: top;\n",
       "    }\n",
       "\n",
       "    .dataframe thead th {\n",
       "        text-align: right;\n",
       "    }\n",
       "</style>\n",
       "<table border=\"1\" class=\"dataframe\">\n",
       "  <thead>\n",
       "    <tr style=\"text-align: right;\">\n",
       "      <th></th>\n",
       "      <th>Projection</th>\n",
       "    </tr>\n",
       "  </thead>\n",
       "  <tbody>\n",
       "    <tr>\n",
       "      <th>count</th>\n",
       "      <td>49.000000</td>\n",
       "    </tr>\n",
       "    <tr>\n",
       "      <th>mean</th>\n",
       "      <td>1973.386816</td>\n",
       "    </tr>\n",
       "    <tr>\n",
       "      <th>std</th>\n",
       "      <td>4413.485082</td>\n",
       "    </tr>\n",
       "    <tr>\n",
       "      <th>min</th>\n",
       "      <td>12.572000</td>\n",
       "    </tr>\n",
       "    <tr>\n",
       "      <th>25%</th>\n",
       "      <td>154.758000</td>\n",
       "    </tr>\n",
       "    <tr>\n",
       "      <th>50%</th>\n",
       "      <td>500.194000</td>\n",
       "    </tr>\n",
       "    <tr>\n",
       "      <th>75%</th>\n",
       "      <td>2366.800000</td>\n",
       "    </tr>\n",
       "    <tr>\n",
       "      <th>max</th>\n",
       "      <td>28329.300000</td>\n",
       "    </tr>\n",
       "  </tbody>\n",
       "</table>\n",
       "</div>"
      ],
      "text/plain": [
       "         Projection\n",
       "count     49.000000\n",
       "mean    1973.386816\n",
       "std     4413.485082\n",
       "min       12.572000\n",
       "25%      154.758000\n",
       "50%      500.194000\n",
       "75%     2366.800000\n",
       "max    28329.300000"
      ]
     },
     "execution_count": 82,
     "metadata": {},
     "output_type": "execute_result"
    }
   ],
   "source": [
    "data_projection.describe()"
   ]
  },
  {
   "cell_type": "code",
   "execution_count": 83,
   "id": "05fad450",
   "metadata": {},
   "outputs": [
    {
     "data": {
      "image/png": "[encoded data removed]",
      "text/plain": [
       "<Figure size 432x288 with 1 Axes>"
      ]
     },
     "metadata": {},
     "output_type": "display_data"
    }
   ],
   "source": [
    "ax = sns.boxplot(x=data_projection[\"Projection\"])"
   ]
  },
  {
   "cell_type": "markdown",
   "id": "0798c5af",
   "metadata": {},
   "source": [
    "On regroupe les données"
   ]
  },
  {
   "cell_type": "code",
   "execution_count": 84,
   "id": "ed10e6ae",
   "metadata": {},
   "outputs": [
    {
     "data": {
      "text/html": [
       "<div>\n",
       "<style scoped>\n",
       "    .dataframe tbody tr th:only-of-type {\n",
       "        vertical-align: middle;\n",
       "    }\n",
       "\n",
       "    .dataframe tbody tr th {\n",
       "        vertical-align: top;\n",
       "    }\n",
       "\n",
       "    .dataframe thead th {\n",
       "        text-align: right;\n",
       "    }\n",
       "</style>\n",
       "<table border=\"1\" class=\"dataframe\">\n",
       "  <thead>\n",
       "    <tr style=\"text-align: right;\">\n",
       "      <th></th>\n",
       "      <th>Country Name</th>\n",
       "      <th>Internet users</th>\n",
       "      <th>GNI per capita</th>\n",
       "      <th>Population</th>\n",
       "      <th>Projection</th>\n",
       "    </tr>\n",
       "  </thead>\n",
       "  <tbody>\n",
       "    <tr>\n",
       "      <th>0</th>\n",
       "      <td>Australia</td>\n",
       "      <td>88.238658</td>\n",
       "      <td>61312.500000</td>\n",
       "      <td>2914620.0</td>\n",
       "      <td>2854.898</td>\n",
       "    </tr>\n",
       "    <tr>\n",
       "      <th>1</th>\n",
       "      <td>Austria</td>\n",
       "      <td>84.323331</td>\n",
       "      <td>48637.500000</td>\n",
       "      <td>964629.0</td>\n",
       "      <td>500.194</td>\n",
       "    </tr>\n",
       "    <tr>\n",
       "      <th>2</th>\n",
       "      <td>Bahamas, The</td>\n",
       "      <td>80.000000</td>\n",
       "      <td>26115.000000</td>\n",
       "      <td>61260.0</td>\n",
       "      <td>12.572</td>\n",
       "    </tr>\n",
       "    <tr>\n",
       "      <th>3</th>\n",
       "      <td>Bahrain</td>\n",
       "      <td>97.999981</td>\n",
       "      <td>21793.333333</td>\n",
       "      <td>132609.0</td>\n",
       "      <td>166.126</td>\n",
       "    </tr>\n",
       "    <tr>\n",
       "      <th>4</th>\n",
       "      <td>Belgium</td>\n",
       "      <td>86.516500</td>\n",
       "      <td>45107.500000</td>\n",
       "      <td>1241946.0</td>\n",
       "      <td>920.386</td>\n",
       "    </tr>\n",
       "  </tbody>\n",
       "</table>\n",
       "</div>"
      ],
      "text/plain": [
       "   Country Name  Internet users  GNI per capita  Population  Projection\n",
       "0     Australia       88.238658    61312.500000   2914620.0    2854.898\n",
       "1       Austria       84.323331    48637.500000    964629.0     500.194\n",
       "2  Bahamas, The       80.000000    26115.000000     61260.0      12.572\n",
       "3       Bahrain       97.999981    21793.333333    132609.0     166.126\n",
       "4       Belgium       86.516500    45107.500000   1241946.0     920.386"
      ]
     },
     "execution_count": 84,
     "metadata": {},
     "output_type": "execute_result"
    }
   ],
   "source": [
    "data = pd.merge(data, data_projection)\n",
    "data.head()"
   ]
  },
  {
   "cell_type": "code",
   "execution_count": 85,
   "id": "ed6148f2",
   "metadata": {},
   "outputs": [
    {
     "data": {
      "text/plain": [
       "(49, 5)"
      ]
     },
     "execution_count": 85,
     "metadata": {},
     "output_type": "execute_result"
    }
   ],
   "source": [
    "data.shape"
   ]
  },
  {
   "cell_type": "markdown",
   "id": "5b31d9b2",
   "metadata": {},
   "source": [
    "\n"
   ]
  },
  {
   "cell_type": "markdown",
   "id": "ecebcc8b",
   "metadata": {},
   "source": [
    "# Scoring"
   ]
  },
  {
   "cell_type": "code",
   "execution_count": 86,
   "id": "e46ebcfc",
   "metadata": {},
   "outputs": [
    {
     "data": {
      "text/html": [
       "<div>\n",
       "<style scoped>\n",
       "    .dataframe tbody tr th:only-of-type {\n",
       "        vertical-align: middle;\n",
       "    }\n",
       "\n",
       "    .dataframe tbody tr th {\n",
       "        vertical-align: top;\n",
       "    }\n",
       "\n",
       "    .dataframe thead th {\n",
       "        text-align: right;\n",
       "    }\n",
       "</style>\n",
       "<table border=\"1\" class=\"dataframe\">\n",
       "  <thead>\n",
       "    <tr style=\"text-align: right;\">\n",
       "      <th></th>\n",
       "      <th>Country Name</th>\n",
       "      <th>Internet users</th>\n",
       "      <th>GNI per capita</th>\n",
       "      <th>Population</th>\n",
       "      <th>Projection</th>\n",
       "      <th>SCORE_INTERNET</th>\n",
       "      <th>SCORE_INCOME</th>\n",
       "      <th>SCORE_POPULATION</th>\n",
       "      <th>SCORE_PROJECTION</th>\n",
       "    </tr>\n",
       "  </thead>\n",
       "  <tbody>\n",
       "    <tr>\n",
       "      <th>0</th>\n",
       "      <td>Australia</td>\n",
       "      <td>88.238658</td>\n",
       "      <td>61312.500000</td>\n",
       "      <td>2914620.0</td>\n",
       "      <td>2854.898</td>\n",
       "      <td>0.898195</td>\n",
       "      <td>0.636434</td>\n",
       "      <td>0.064558</td>\n",
       "      <td>0.100775</td>\n",
       "    </tr>\n",
       "    <tr>\n",
       "      <th>1</th>\n",
       "      <td>Austria</td>\n",
       "      <td>84.323331</td>\n",
       "      <td>48637.500000</td>\n",
       "      <td>964629.0</td>\n",
       "      <td>500.194</td>\n",
       "      <td>0.858340</td>\n",
       "      <td>0.504866</td>\n",
       "      <td>0.021366</td>\n",
       "      <td>0.017656</td>\n",
       "    </tr>\n",
       "    <tr>\n",
       "      <th>2</th>\n",
       "      <td>Bahamas, The</td>\n",
       "      <td>80.000000</td>\n",
       "      <td>26115.000000</td>\n",
       "      <td>61260.0</td>\n",
       "      <td>12.572</td>\n",
       "      <td>0.814332</td>\n",
       "      <td>0.271078</td>\n",
       "      <td>0.001357</td>\n",
       "      <td>0.000444</td>\n",
       "    </tr>\n",
       "    <tr>\n",
       "      <th>3</th>\n",
       "      <td>Bahrain</td>\n",
       "      <td>97.999981</td>\n",
       "      <td>21793.333333</td>\n",
       "      <td>132609.0</td>\n",
       "      <td>166.126</td>\n",
       "      <td>0.997557</td>\n",
       "      <td>0.226219</td>\n",
       "      <td>0.002937</td>\n",
       "      <td>0.005864</td>\n",
       "    </tr>\n",
       "    <tr>\n",
       "      <th>4</th>\n",
       "      <td>Belgium</td>\n",
       "      <td>86.516500</td>\n",
       "      <td>45107.500000</td>\n",
       "      <td>1241946.0</td>\n",
       "      <td>920.386</td>\n",
       "      <td>0.880665</td>\n",
       "      <td>0.468224</td>\n",
       "      <td>0.027509</td>\n",
       "      <td>0.032489</td>\n",
       "    </tr>\n",
       "  </tbody>\n",
       "</table>\n",
       "</div>"
      ],
      "text/plain": [
       "   Country Name  Internet users  GNI per capita  Population  Projection  \\\n",
       "0     Australia       88.238658    61312.500000   2914620.0    2854.898   \n",
       "1       Austria       84.323331    48637.500000    964629.0     500.194   \n",
       "2  Bahamas, The       80.000000    26115.000000     61260.0      12.572   \n",
       "3       Bahrain       97.999981    21793.333333    132609.0     166.126   \n",
       "4       Belgium       86.516500    45107.500000   1241946.0     920.386   \n",
       "\n",
       "   SCORE_INTERNET  SCORE_INCOME  SCORE_POPULATION  SCORE_PROJECTION  \n",
       "0        0.898195      0.636434          0.064558          0.100775  \n",
       "1        0.858340      0.504866          0.021366          0.017656  \n",
       "2        0.814332      0.271078          0.001357          0.000444  \n",
       "3        0.997557      0.226219          0.002937          0.005864  \n",
       "4        0.880665      0.468224          0.027509          0.032489  "
      ]
     },
     "execution_count": 86,
     "metadata": {},
     "output_type": "execute_result"
    }
   ],
   "source": [
    "# Création du score INTERNET\n",
    "data[\"SCORE_INTERNET\"] = data[\"Internet users\"] / data[\"Internet users\"].max()\n",
    "\n",
    "# Création du score INCOME\n",
    "data[\"SCORE_INCOME\"] = data[\"GNI per capita\"] / data[\"GNI per capita\"].max()\n",
    "\n",
    "# Création du score POPULATION\n",
    "data[\"SCORE_POPULATION\"] = data[\"Population\"] / data[\"Population\"].max()\n",
    "\n",
    "# Création du score PROJECTION\n",
    "data[\"SCORE_PROJECTION\"] = data[\"Projection\"] / data[\"Projection\"].max()\n",
    "\n",
    "data.head()"
   ]
  },
  {
   "cell_type": "code",
   "execution_count": 87,
   "id": "8a68c6c4",
   "metadata": {},
   "outputs": [
    {
     "data": {
      "text/plain": [
       "Country Name        0\n",
       "Internet users      0\n",
       "GNI per capita      0\n",
       "Population          0\n",
       "Projection          0\n",
       "SCORE_INTERNET      0\n",
       "SCORE_INCOME        0\n",
       "SCORE_POPULATION    0\n",
       "SCORE_PROJECTION    0\n",
       "dtype: int64"
      ]
     },
     "execution_count": 87,
     "metadata": {},
     "output_type": "execute_result"
    }
   ],
   "source": [
    "# On vérifie qu'il n'y a pas de nan\n",
    "data.isna().sum()"
   ]
  },
  {
   "cell_type": "markdown",
   "id": "96ae19a4",
   "metadata": {},
   "source": [
    "## Calcul du score total"
   ]
  },
  {
   "cell_type": "markdown",
   "id": "4703e113",
   "metadata": {},
   "source": [
    "On calcul le score total en faisant la moyenne (non pondérée) des 4 scores"
   ]
  },
  {
   "cell_type": "code",
   "execution_count": 88,
   "id": "161df86c",
   "metadata": {
    "scrolled": true
   },
   "outputs": [
    {
     "data": {
      "text/html": [
       "<div>\n",
       "<style scoped>\n",
       "    .dataframe tbody tr th:only-of-type {\n",
       "        vertical-align: middle;\n",
       "    }\n",
       "\n",
       "    .dataframe tbody tr th {\n",
       "        vertical-align: top;\n",
       "    }\n",
       "\n",
       "    .dataframe thead th {\n",
       "        text-align: right;\n",
       "    }\n",
       "</style>\n",
       "<table border=\"1\" class=\"dataframe\">\n",
       "  <thead>\n",
       "    <tr style=\"text-align: right;\">\n",
       "      <th></th>\n",
       "      <th>Country Name</th>\n",
       "      <th>Internet users</th>\n",
       "      <th>GNI per capita</th>\n",
       "      <th>Population</th>\n",
       "      <th>Projection</th>\n",
       "      <th>SCORE_INTERNET</th>\n",
       "      <th>SCORE_INCOME</th>\n",
       "      <th>SCORE_POPULATION</th>\n",
       "      <th>SCORE_PROJECTION</th>\n",
       "      <th>SCORE_TOTAL</th>\n",
       "    </tr>\n",
       "  </thead>\n",
       "  <tbody>\n",
       "    <tr>\n",
       "      <th>0</th>\n",
       "      <td>Australia</td>\n",
       "      <td>88.238658</td>\n",
       "      <td>61312.500000</td>\n",
       "      <td>2914620.0</td>\n",
       "      <td>2854.898</td>\n",
       "      <td>0.898195</td>\n",
       "      <td>0.636434</td>\n",
       "      <td>0.064558</td>\n",
       "      <td>0.100775</td>\n",
       "      <td>0.424991</td>\n",
       "    </tr>\n",
       "    <tr>\n",
       "      <th>1</th>\n",
       "      <td>Austria</td>\n",
       "      <td>84.323331</td>\n",
       "      <td>48637.500000</td>\n",
       "      <td>964629.0</td>\n",
       "      <td>500.194</td>\n",
       "      <td>0.858340</td>\n",
       "      <td>0.504866</td>\n",
       "      <td>0.021366</td>\n",
       "      <td>0.017656</td>\n",
       "      <td>0.350557</td>\n",
       "    </tr>\n",
       "    <tr>\n",
       "      <th>2</th>\n",
       "      <td>Bahamas, The</td>\n",
       "      <td>80.000000</td>\n",
       "      <td>26115.000000</td>\n",
       "      <td>61260.0</td>\n",
       "      <td>12.572</td>\n",
       "      <td>0.814332</td>\n",
       "      <td>0.271078</td>\n",
       "      <td>0.001357</td>\n",
       "      <td>0.000444</td>\n",
       "      <td>0.271803</td>\n",
       "    </tr>\n",
       "    <tr>\n",
       "      <th>3</th>\n",
       "      <td>Bahrain</td>\n",
       "      <td>97.999981</td>\n",
       "      <td>21793.333333</td>\n",
       "      <td>132609.0</td>\n",
       "      <td>166.126</td>\n",
       "      <td>0.997557</td>\n",
       "      <td>0.226219</td>\n",
       "      <td>0.002937</td>\n",
       "      <td>0.005864</td>\n",
       "      <td>0.308144</td>\n",
       "    </tr>\n",
       "    <tr>\n",
       "      <th>4</th>\n",
       "      <td>Belgium</td>\n",
       "      <td>86.516500</td>\n",
       "      <td>45107.500000</td>\n",
       "      <td>1241946.0</td>\n",
       "      <td>920.386</td>\n",
       "      <td>0.880665</td>\n",
       "      <td>0.468224</td>\n",
       "      <td>0.027509</td>\n",
       "      <td>0.032489</td>\n",
       "      <td>0.352221</td>\n",
       "    </tr>\n",
       "  </tbody>\n",
       "</table>\n",
       "</div>"
      ],
      "text/plain": [
       "   Country Name  Internet users  GNI per capita  Population  Projection  \\\n",
       "0     Australia       88.238658    61312.500000   2914620.0    2854.898   \n",
       "1       Austria       84.323331    48637.500000    964629.0     500.194   \n",
       "2  Bahamas, The       80.000000    26115.000000     61260.0      12.572   \n",
       "3       Bahrain       97.999981    21793.333333    132609.0     166.126   \n",
       "4       Belgium       86.516500    45107.500000   1241946.0     920.386   \n",
       "\n",
       "   SCORE_INTERNET  SCORE_INCOME  SCORE_POPULATION  SCORE_PROJECTION  \\\n",
       "0        0.898195      0.636434          0.064558          0.100775   \n",
       "1        0.858340      0.504866          0.021366          0.017656   \n",
       "2        0.814332      0.271078          0.001357          0.000444   \n",
       "3        0.997557      0.226219          0.002937          0.005864   \n",
       "4        0.880665      0.468224          0.027509          0.032489   \n",
       "\n",
       "   SCORE_TOTAL  \n",
       "0     0.424991  \n",
       "1     0.350557  \n",
       "2     0.271803  \n",
       "3     0.308144  \n",
       "4     0.352221  "
      ]
     },
     "execution_count": 88,
     "metadata": {},
     "output_type": "execute_result"
    }
   ],
   "source": [
    "data[\"SCORE_TOTAL\"] = (data[\"SCORE_INCOME\"]\n",
    "                              + data[\"SCORE_INTERNET\"]\n",
    "                              + data[\"SCORE_POPULATION\"]\n",
    "                              + data[\"SCORE_PROJECTION\"]) / 4\n",
    "data.head()"
   ]
  },
  {
   "cell_type": "code",
   "execution_count": 89,
   "id": "36576b69",
   "metadata": {},
   "outputs": [
    {
     "data": {
      "text/html": [
       "<div>\n",
       "<style scoped>\n",
       "    .dataframe tbody tr th:only-of-type {\n",
       "        vertical-align: middle;\n",
       "    }\n",
       "\n",
       "    .dataframe tbody tr th {\n",
       "        vertical-align: top;\n",
       "    }\n",
       "\n",
       "    .dataframe thead th {\n",
       "        text-align: right;\n",
       "    }\n",
       "</style>\n",
       "<table border=\"1\" class=\"dataframe\">\n",
       "  <thead>\n",
       "    <tr style=\"text-align: right;\">\n",
       "      <th></th>\n",
       "      <th>Country Name</th>\n",
       "      <th>SCORE_TOTAL</th>\n",
       "    </tr>\n",
       "  </thead>\n",
       "  <tbody>\n",
       "    <tr>\n",
       "      <th>47</th>\n",
       "      <td>United States</td>\n",
       "      <td>0.837924</td>\n",
       "    </tr>\n",
       "    <tr>\n",
       "      <th>32</th>\n",
       "      <td>Norway</td>\n",
       "      <td>0.504033</td>\n",
       "    </tr>\n",
       "    <tr>\n",
       "      <th>22</th>\n",
       "      <td>Japan</td>\n",
       "      <td>0.471109</td>\n",
       "    </tr>\n",
       "    <tr>\n",
       "      <th>43</th>\n",
       "      <td>Switzerland</td>\n",
       "      <td>0.457579</td>\n",
       "    </tr>\n",
       "    <tr>\n",
       "      <th>35</th>\n",
       "      <td>Qatar</td>\n",
       "      <td>0.449827</td>\n",
       "    </tr>\n",
       "    <tr>\n",
       "      <th>27</th>\n",
       "      <td>Luxembourg</td>\n",
       "      <td>0.440670</td>\n",
       "    </tr>\n",
       "    <tr>\n",
       "      <th>46</th>\n",
       "      <td>United Kingdom</td>\n",
       "      <td>0.430388</td>\n",
       "    </tr>\n",
       "    <tr>\n",
       "      <th>15</th>\n",
       "      <td>Germany</td>\n",
       "      <td>0.426542</td>\n",
       "    </tr>\n",
       "    <tr>\n",
       "      <th>0</th>\n",
       "      <td>Australia</td>\n",
       "      <td>0.424991</td>\n",
       "    </tr>\n",
       "    <tr>\n",
       "      <th>14</th>\n",
       "      <td>France</td>\n",
       "      <td>0.419519</td>\n",
       "    </tr>\n",
       "  </tbody>\n",
       "</table>\n",
       "</div>"
      ],
      "text/plain": [
       "      Country Name  SCORE_TOTAL\n",
       "47   United States     0.837924\n",
       "32          Norway     0.504033\n",
       "22           Japan     0.471109\n",
       "43     Switzerland     0.457579\n",
       "35           Qatar     0.449827\n",
       "27      Luxembourg     0.440670\n",
       "46  United Kingdom     0.430388\n",
       "15         Germany     0.426542\n",
       "0        Australia     0.424991\n",
       "14          France     0.419519"
      ]
     },
     "execution_count": 89,
     "metadata": {},
     "output_type": "execute_result"
    }
   ],
   "source": [
    "# Regardons les 10 premiers\n",
    "data[[\"Country Name\", \"SCORE_TOTAL\"]].sort_values(\"SCORE_TOTAL\", ascending=False)[:10]"
   ]
  },
  {
   "cell_type": "code",
   "execution_count": 90,
   "id": "c9c497a0",
   "metadata": {},
   "outputs": [
    {
     "data": {
      "text/plain": [
       "Index(['SCORE_TOTAL', 'SCORE_PROJECTION', 'SCORE_POPULATION', 'SCORE_INCOME',\n",
       "       'SCORE_INTERNET'],\n",
       "      dtype='object')"
      ]
     },
     "execution_count": 90,
     "metadata": {},
     "output_type": "execute_result"
    }
   ],
   "source": [
    "data.columns[:-6:-1]"
   ]
  },
  {
   "cell_type": "code",
   "execution_count": 91,
   "id": "dcb82d3b",
   "metadata": {},
   "outputs": [],
   "source": [
    "sns.set_context(\"talk\") # for the font size"
   ]
  },
  {
   "cell_type": "code",
   "execution_count": 92,
   "id": "51aad972",
   "metadata": {},
   "outputs": [
    {
     "data": {
      "image/png": "[encoded data removed]",
      "text/plain": [
       "<Figure size 900x720 with 5 Axes>"
      ]
     },
     "metadata": {},
     "output_type": "display_data"
    }
   ],
   "source": [
    "top_ten = data.sort_values(\"SCORE_TOTAL\", ascending=False)[:10]\n",
    "\n",
    "# Make the PairGrid\n",
    "g = sns.PairGrid(top_ten,\n",
    "                 x_vars=top_ten.columns[:-6:-1],\n",
    "                 y_vars=[\"Country Name\"],\n",
    "                 height=10, aspect=.25)\n",
    "\n",
    "# Draw a dot plot using the stripplot function\n",
    "g.map(sns.stripplot, size=14, orient=\"h\", jitter=False,\n",
    "      palette=\"flare_r\", linewidth=1, edgecolor=\"w\")\n",
    "\n",
    "# Draw a bar plot using the barplot function\n",
    "#g.map(sns.barplot, palette=\"flare_r\")\n",
    "\n",
    "# Use the same x axis limits on all columns and add better labels\n",
    "g.set(xlim=(-0.05, 1.05), xlabel=\"Score\", ylabel=\"\")\n",
    "\n",
    "# Use semantically meaningful titles for the columns\n",
    "titles = [\"Total score\", \"Projection score\", \"Population score\",\n",
    "          \"Income score\", \"Internet score\"]\n",
    "\n",
    "for ax, title in zip(g.axes.flat, titles):\n",
    "\n",
    "    # Set a different title for each axes\n",
    "    ax.set(title=title)\n",
    "    ax.set_xticks([0, 0.5, 1])\n",
    "    # Make the grid horizontal instead of vertical\n",
    "    ax.xaxis.grid(False)\n",
    "    ax.yaxis.grid(True)\n",
    "    \n",
    "sns.despine(left=True, bottom=True)"
   ]
  },
  {
   "cell_type": "markdown",
   "id": "d36a3040",
   "metadata": {},
   "source": [
    "Notons la très forte corrélation entre les indicateurs `Population` et `Projection`"
   ]
  },
  {
   "cell_type": "code",
   "execution_count": 93,
   "id": "5f27972d",
   "metadata": {},
   "outputs": [
    {
     "data": {
      "text/html": [
       "<div>\n",
       "<style scoped>\n",
       "    .dataframe tbody tr th:only-of-type {\n",
       "        vertical-align: middle;\n",
       "    }\n",
       "\n",
       "    .dataframe tbody tr th {\n",
       "        vertical-align: top;\n",
       "    }\n",
       "\n",
       "    .dataframe thead th {\n",
       "        text-align: right;\n",
       "    }\n",
       "</style>\n",
       "<table border=\"1\" class=\"dataframe\">\n",
       "  <thead>\n",
       "    <tr style=\"text-align: right;\">\n",
       "      <th></th>\n",
       "      <th>SCORE_POPULATION</th>\n",
       "      <th>SCORE_PROJECTION</th>\n",
       "    </tr>\n",
       "  </thead>\n",
       "  <tbody>\n",
       "    <tr>\n",
       "      <th>SCORE_POPULATION</th>\n",
       "      <td>1.000000</td>\n",
       "      <td>0.990891</td>\n",
       "    </tr>\n",
       "    <tr>\n",
       "      <th>SCORE_PROJECTION</th>\n",
       "      <td>0.990891</td>\n",
       "      <td>1.000000</td>\n",
       "    </tr>\n",
       "  </tbody>\n",
       "</table>\n",
       "</div>"
      ],
      "text/plain": [
       "                  SCORE_POPULATION  SCORE_PROJECTION\n",
       "SCORE_POPULATION          1.000000          0.990891\n",
       "SCORE_PROJECTION          0.990891          1.000000"
      ]
     },
     "execution_count": 93,
     "metadata": {},
     "output_type": "execute_result"
    }
   ],
   "source": [
    "data[['SCORE_POPULATION', 'SCORE_PROJECTION']].corr()"
   ]
  },
  {
   "cell_type": "markdown",
   "id": "4db168c9",
   "metadata": {},
   "source": [
    "\n"
   ]
  },
  {
   "cell_type": "markdown",
   "id": "e1c86bc9",
   "metadata": {},
   "source": [
    "# Deuxième méthode : avec un score total pondéré"
   ]
  },
  {
   "cell_type": "markdown",
   "id": "1b200b67",
   "metadata": {},
   "source": [
    "On va affecter un poids deux fois plus importants pour les variables `Population` et `Projection`"
   ]
  },
  {
   "cell_type": "code",
   "execution_count": 94,
   "id": "d2c9a6a2",
   "metadata": {},
   "outputs": [],
   "source": [
    "data.loc[:, \"SCORE_TOTAL\"] = (data[\"SCORE_INCOME\"]\n",
    "                              + data[\"SCORE_INTERNET\"]\n",
    "                              + 2 * data[\"SCORE_POPULATION\"]\n",
    "                              + 2 * data[\"SCORE_PROJECTION\"]) / 6"
   ]
  },
  {
   "cell_type": "markdown",
   "id": "e4e4fbb7",
   "metadata": {},
   "source": [
    "Voyons si le classement a changé"
   ]
  },
  {
   "cell_type": "code",
   "execution_count": 95,
   "id": "47128af1",
   "metadata": {},
   "outputs": [
    {
     "data": {
      "text/html": [
       "<div>\n",
       "<style scoped>\n",
       "    .dataframe tbody tr th:only-of-type {\n",
       "        vertical-align: middle;\n",
       "    }\n",
       "\n",
       "    .dataframe tbody tr th {\n",
       "        vertical-align: top;\n",
       "    }\n",
       "\n",
       "    .dataframe thead th {\n",
       "        text-align: right;\n",
       "    }\n",
       "</style>\n",
       "<table border=\"1\" class=\"dataframe\">\n",
       "  <thead>\n",
       "    <tr style=\"text-align: right;\">\n",
       "      <th></th>\n",
       "      <th>Country Name</th>\n",
       "      <th>SCORE_TOTAL</th>\n",
       "    </tr>\n",
       "  </thead>\n",
       "  <tbody>\n",
       "    <tr>\n",
       "      <th>47</th>\n",
       "      <td>United States</td>\n",
       "      <td>0.891949</td>\n",
       "    </tr>\n",
       "    <tr>\n",
       "      <th>22</th>\n",
       "      <td>Japan</td>\n",
       "      <td>0.399002</td>\n",
       "    </tr>\n",
       "    <tr>\n",
       "      <th>36</th>\n",
       "      <td>Russian Federation</td>\n",
       "      <td>0.396304</td>\n",
       "    </tr>\n",
       "    <tr>\n",
       "      <th>14</th>\n",
       "      <td>France</td>\n",
       "      <td>0.342397</td>\n",
       "    </tr>\n",
       "    <tr>\n",
       "      <th>32</th>\n",
       "      <td>Norway</td>\n",
       "      <td>0.340308</td>\n",
       "    </tr>\n",
       "    <tr>\n",
       "      <th>46</th>\n",
       "      <td>United Kingdom</td>\n",
       "      <td>0.338614</td>\n",
       "    </tr>\n",
       "    <tr>\n",
       "      <th>15</th>\n",
       "      <td>Germany</td>\n",
       "      <td>0.336724</td>\n",
       "    </tr>\n",
       "    <tr>\n",
       "      <th>5</th>\n",
       "      <td>Canada</td>\n",
       "      <td>0.314780</td>\n",
       "    </tr>\n",
       "    <tr>\n",
       "      <th>43</th>\n",
       "      <td>Switzerland</td>\n",
       "      <td>0.311170</td>\n",
       "    </tr>\n",
       "    <tr>\n",
       "      <th>0</th>\n",
       "      <td>Australia</td>\n",
       "      <td>0.310883</td>\n",
       "    </tr>\n",
       "  </tbody>\n",
       "</table>\n",
       "</div>"
      ],
      "text/plain": [
       "          Country Name  SCORE_TOTAL\n",
       "47       United States     0.891949\n",
       "22               Japan     0.399002\n",
       "36  Russian Federation     0.396304\n",
       "14              France     0.342397\n",
       "32              Norway     0.340308\n",
       "46      United Kingdom     0.338614\n",
       "15             Germany     0.336724\n",
       "5               Canada     0.314780\n",
       "43         Switzerland     0.311170\n",
       "0            Australia     0.310883"
      ]
     },
     "execution_count": 95,
     "metadata": {},
     "output_type": "execute_result"
    }
   ],
   "source": [
    "top_ten_2 = data.sort_values(\"SCORE_TOTAL\", ascending=False)[:10]\n",
    "top_ten_2[[\"Country Name\", \"SCORE_TOTAL\"]]"
   ]
  },
  {
   "cell_type": "markdown",
   "id": "c8af94f4",
   "metadata": {},
   "source": [
    "Pays qui sont sortis du top 10"
   ]
  },
  {
   "cell_type": "code",
   "execution_count": 96,
   "id": "8361529d",
   "metadata": {},
   "outputs": [
    {
     "data": {
      "text/plain": [
       "35         Qatar\n",
       "27    Luxembourg\n",
       "Name: Country Name, dtype: object"
      ]
     },
     "execution_count": 96,
     "metadata": {},
     "output_type": "execute_result"
    }
   ],
   "source": [
    "top_ten[~top_ten[\"Country Name\"].isin(top_ten_2[\"Country Name\"])][\"Country Name\"]"
   ]
  },
  {
   "cell_type": "markdown",
   "id": "4e1683e5",
   "metadata": {},
   "source": [
    "Pays qui ont intégré le top 10"
   ]
  },
  {
   "cell_type": "code",
   "execution_count": 97,
   "id": "c7ee5e8d",
   "metadata": {},
   "outputs": [
    {
     "data": {
      "text/plain": [
       "36    Russian Federation\n",
       "5                 Canada\n",
       "Name: Country Name, dtype: object"
      ]
     },
     "execution_count": 97,
     "metadata": {},
     "output_type": "execute_result"
    }
   ],
   "source": [
    "top_ten_2[~top_ten_2[\"Country Name\"].isin(top_ten[\"Country Name\"])][\"Country Name\"]"
   ]
  },
  {
   "cell_type": "markdown",
   "id": "f273ee08",
   "metadata": {},
   "source": [
    "Après avoir fait une moyenne pondérée où les variables `Population` et `Projection` ont un poids deux fois supérieurs aux autres, le Qatar et le Luxembourg sont sortis du top 10 et la Russie et le Canada l'ont intégré."
   ]
  },
  {
   "cell_type": "code",
   "execution_count": 98,
   "id": "af060440",
   "metadata": {},
   "outputs": [
    {
     "data": {
      "image/png": "[encoded data removed]",
      "text/plain": [
       "<Figure size 900x720 with 5 Axes>"
      ]
     },
     "metadata": {},
     "output_type": "display_data"
    }
   ],
   "source": [
    "# Make the PairGrid\n",
    "g = sns.PairGrid(top_ten_2,\n",
    "                 x_vars=top_ten_2.columns[:-6:-1],\n",
    "                 y_vars=[\"Country Name\"],\n",
    "                 height=10, aspect=.25)\n",
    "\n",
    "# Draw a dot plot using the stripplot function\n",
    "g.map(sns.stripplot, size=14, orient=\"h\", jitter=False,\n",
    "      palette=\"flare_r\", linewidth=1, edgecolor=\"w\")\n",
    "\n",
    "# Draw a bar plot using the barplot function\n",
    "#g.map(sns.barplot, palette=\"flare_r\")\n",
    "\n",
    "# Use the same x axis limits on all columns and add better labels\n",
    "g.set(xlim=(-0.05, 1.05), xlabel=\"Score\", ylabel=\"\")\n",
    "\n",
    "# Use semantically meaningful titles for the columns\n",
    "titles = [\"Total score\", \"Projection score\", \"Population score\",\n",
    "          \"Income score\", \"Internet score\"]\n",
    "\n",
    "for ax, title in zip(g.axes.flat, titles):\n",
    "\n",
    "    # Set a different title for each axes\n",
    "    ax.set(title=title)\n",
    "    ax.set_xticks([0, 0.5, 1])\n",
    "    # Make the grid horizontal instead of vertical\n",
    "    ax.xaxis.grid(False)\n",
    "    ax.yaxis.grid(True)\n",
    "    \n",
    "sns.despine(left=True, bottom=True)"
   ]
  },
  {
   "cell_type": "markdown",
   "id": "68d22ad3",
   "metadata": {},
   "source": [
    "\n"
   ]
  },
  {
   "cell_type": "markdown",
   "id": "f4815fd7",
   "metadata": {},
   "source": [
    "# Troisième méthode : fusionner les variables `Population` et `Internet`"
   ]
  },
  {
   "cell_type": "markdown",
   "id": "a67c5b36",
   "metadata": {},
   "source": [
    "On crée une nouvelle variable `Target population` qui va représenter la population des 15-24 ans ayant accès à internet. On obtient cette variable en multipliant la variable `Population` avec la variable `Internet users` (divisés par 100 car c'est un pourcentage). Cela suppose que le pourcentage de la population ayant accès à internet est e même pour toutes les tranches d'âge, ce qui n'est pas forcément le cas. On peut effectivement s'attendre à ce que les 15-24 ans aient un plus grand accès à internet, mais pour simplifier le modèle on va supposer que ce n'est pas le cas.\n",
    "\n",
    "On ne va cependant pas appliquer la même opération à la variable `Projection` en supposant que la population des 15-24 ans ayant atteint le lycée ou le supérieur ont tous accès à internet."
   ]
  },
  {
   "cell_type": "code",
   "execution_count": 99,
   "id": "121d0da9",
   "metadata": {},
   "outputs": [
    {
     "data": {
      "text/html": [
       "<div>\n",
       "<style scoped>\n",
       "    .dataframe tbody tr th:only-of-type {\n",
       "        vertical-align: middle;\n",
       "    }\n",
       "\n",
       "    .dataframe tbody tr th {\n",
       "        vertical-align: top;\n",
       "    }\n",
       "\n",
       "    .dataframe thead th {\n",
       "        text-align: right;\n",
       "    }\n",
       "</style>\n",
       "<table border=\"1\" class=\"dataframe\">\n",
       "  <thead>\n",
       "    <tr style=\"text-align: right;\">\n",
       "      <th></th>\n",
       "      <th>Country Name</th>\n",
       "      <th>Internet users</th>\n",
       "      <th>GNI per capita</th>\n",
       "      <th>Population</th>\n",
       "      <th>Projection</th>\n",
       "      <th>SCORE_INTERNET</th>\n",
       "      <th>SCORE_INCOME</th>\n",
       "      <th>SCORE_POPULATION</th>\n",
       "      <th>SCORE_PROJECTION</th>\n",
       "      <th>SCORE_TOTAL</th>\n",
       "      <th>Target population</th>\n",
       "    </tr>\n",
       "  </thead>\n",
       "  <tbody>\n",
       "    <tr>\n",
       "      <th>0</th>\n",
       "      <td>Australia</td>\n",
       "      <td>88.238658</td>\n",
       "      <td>61312.500000</td>\n",
       "      <td>2914620.0</td>\n",
       "      <td>2854.898</td>\n",
       "      <td>0.898195</td>\n",
       "      <td>0.636434</td>\n",
       "      <td>0.064558</td>\n",
       "      <td>0.100775</td>\n",
       "      <td>0.310883</td>\n",
       "      <td>2.571822e+06</td>\n",
       "    </tr>\n",
       "    <tr>\n",
       "      <th>1</th>\n",
       "      <td>Austria</td>\n",
       "      <td>84.323331</td>\n",
       "      <td>48637.500000</td>\n",
       "      <td>964629.0</td>\n",
       "      <td>500.194</td>\n",
       "      <td>0.858340</td>\n",
       "      <td>0.504866</td>\n",
       "      <td>0.021366</td>\n",
       "      <td>0.017656</td>\n",
       "      <td>0.240208</td>\n",
       "      <td>8.134073e+05</td>\n",
       "    </tr>\n",
       "    <tr>\n",
       "      <th>2</th>\n",
       "      <td>Bahamas, The</td>\n",
       "      <td>80.000000</td>\n",
       "      <td>26115.000000</td>\n",
       "      <td>61260.0</td>\n",
       "      <td>12.572</td>\n",
       "      <td>0.814332</td>\n",
       "      <td>0.271078</td>\n",
       "      <td>0.001357</td>\n",
       "      <td>0.000444</td>\n",
       "      <td>0.181502</td>\n",
       "      <td>4.900800e+04</td>\n",
       "    </tr>\n",
       "    <tr>\n",
       "      <th>3</th>\n",
       "      <td>Bahrain</td>\n",
       "      <td>97.999981</td>\n",
       "      <td>21793.333333</td>\n",
       "      <td>132609.0</td>\n",
       "      <td>166.126</td>\n",
       "      <td>0.997557</td>\n",
       "      <td>0.226219</td>\n",
       "      <td>0.002937</td>\n",
       "      <td>0.005864</td>\n",
       "      <td>0.206896</td>\n",
       "      <td>1.299568e+05</td>\n",
       "    </tr>\n",
       "    <tr>\n",
       "      <th>4</th>\n",
       "      <td>Belgium</td>\n",
       "      <td>86.516500</td>\n",
       "      <td>45107.500000</td>\n",
       "      <td>1241946.0</td>\n",
       "      <td>920.386</td>\n",
       "      <td>0.880665</td>\n",
       "      <td>0.468224</td>\n",
       "      <td>0.027509</td>\n",
       "      <td>0.032489</td>\n",
       "      <td>0.244814</td>\n",
       "      <td>1.074488e+06</td>\n",
       "    </tr>\n",
       "  </tbody>\n",
       "</table>\n",
       "</div>"
      ],
      "text/plain": [
       "   Country Name  Internet users  GNI per capita  Population  Projection  \\\n",
       "0     Australia       88.238658    61312.500000   2914620.0    2854.898   \n",
       "1       Austria       84.323331    48637.500000    964629.0     500.194   \n",
       "2  Bahamas, The       80.000000    26115.000000     61260.0      12.572   \n",
       "3       Bahrain       97.999981    21793.333333    132609.0     166.126   \n",
       "4       Belgium       86.516500    45107.500000   1241946.0     920.386   \n",
       "\n",
       "   SCORE_INTERNET  SCORE_INCOME  SCORE_POPULATION  SCORE_PROJECTION  \\\n",
       "0        0.898195      0.636434          0.064558          0.100775   \n",
       "1        0.858340      0.504866          0.021366          0.017656   \n",
       "2        0.814332      0.271078          0.001357          0.000444   \n",
       "3        0.997557      0.226219          0.002937          0.005864   \n",
       "4        0.880665      0.468224          0.027509          0.032489   \n",
       "\n",
       "   SCORE_TOTAL  Target population  \n",
       "0     0.310883       2.571822e+06  \n",
       "1     0.240208       8.134073e+05  \n",
       "2     0.181502       4.900800e+04  \n",
       "3     0.206896       1.299568e+05  \n",
       "4     0.244814       1.074488e+06  "
      ]
     },
     "execution_count": 99,
     "metadata": {},
     "output_type": "execute_result"
    }
   ],
   "source": [
    "data[\"Target population\"] = data[\"Population\"] * (data[\"Internet users\"] / 100)\n",
    "data.head()"
   ]
  },
  {
   "cell_type": "markdown",
   "id": "768f9e9c",
   "metadata": {},
   "source": [
    "On crée le score associée à la nouvelle variable"
   ]
  },
  {
   "cell_type": "code",
   "execution_count": 100,
   "id": "13dfddc9",
   "metadata": {},
   "outputs": [
    {
     "data": {
      "text/html": [
       "<div>\n",
       "<style scoped>\n",
       "    .dataframe tbody tr th:only-of-type {\n",
       "        vertical-align: middle;\n",
       "    }\n",
       "\n",
       "    .dataframe tbody tr th {\n",
       "        vertical-align: top;\n",
       "    }\n",
       "\n",
       "    .dataframe thead th {\n",
       "        text-align: right;\n",
       "    }\n",
       "</style>\n",
       "<table border=\"1\" class=\"dataframe\">\n",
       "  <thead>\n",
       "    <tr style=\"text-align: right;\">\n",
       "      <th></th>\n",
       "      <th>Country Name</th>\n",
       "      <th>Internet users</th>\n",
       "      <th>GNI per capita</th>\n",
       "      <th>Population</th>\n",
       "      <th>Projection</th>\n",
       "      <th>SCORE_INTERNET</th>\n",
       "      <th>SCORE_INCOME</th>\n",
       "      <th>SCORE_POPULATION</th>\n",
       "      <th>SCORE_PROJECTION</th>\n",
       "      <th>SCORE_TOTAL</th>\n",
       "      <th>Target population</th>\n",
       "      <th>SCORE_TARGET</th>\n",
       "    </tr>\n",
       "  </thead>\n",
       "  <tbody>\n",
       "    <tr>\n",
       "      <th>0</th>\n",
       "      <td>Australia</td>\n",
       "      <td>88.238658</td>\n",
       "      <td>61312.500000</td>\n",
       "      <td>2914620.0</td>\n",
       "      <td>2854.898</td>\n",
       "      <td>0.898195</td>\n",
       "      <td>0.636434</td>\n",
       "      <td>0.064558</td>\n",
       "      <td>0.100775</td>\n",
       "      <td>0.310883</td>\n",
       "      <td>2.571822e+06</td>\n",
       "      <td>0.074780</td>\n",
       "    </tr>\n",
       "    <tr>\n",
       "      <th>1</th>\n",
       "      <td>Austria</td>\n",
       "      <td>84.323331</td>\n",
       "      <td>48637.500000</td>\n",
       "      <td>964629.0</td>\n",
       "      <td>500.194</td>\n",
       "      <td>0.858340</td>\n",
       "      <td>0.504866</td>\n",
       "      <td>0.021366</td>\n",
       "      <td>0.017656</td>\n",
       "      <td>0.240208</td>\n",
       "      <td>8.134073e+05</td>\n",
       "      <td>0.023651</td>\n",
       "    </tr>\n",
       "    <tr>\n",
       "      <th>2</th>\n",
       "      <td>Bahamas, The</td>\n",
       "      <td>80.000000</td>\n",
       "      <td>26115.000000</td>\n",
       "      <td>61260.0</td>\n",
       "      <td>12.572</td>\n",
       "      <td>0.814332</td>\n",
       "      <td>0.271078</td>\n",
       "      <td>0.001357</td>\n",
       "      <td>0.000444</td>\n",
       "      <td>0.181502</td>\n",
       "      <td>4.900800e+04</td>\n",
       "      <td>0.001425</td>\n",
       "    </tr>\n",
       "    <tr>\n",
       "      <th>3</th>\n",
       "      <td>Bahrain</td>\n",
       "      <td>97.999981</td>\n",
       "      <td>21793.333333</td>\n",
       "      <td>132609.0</td>\n",
       "      <td>166.126</td>\n",
       "      <td>0.997557</td>\n",
       "      <td>0.226219</td>\n",
       "      <td>0.002937</td>\n",
       "      <td>0.005864</td>\n",
       "      <td>0.206896</td>\n",
       "      <td>1.299568e+05</td>\n",
       "      <td>0.003779</td>\n",
       "    </tr>\n",
       "    <tr>\n",
       "      <th>4</th>\n",
       "      <td>Belgium</td>\n",
       "      <td>86.516500</td>\n",
       "      <td>45107.500000</td>\n",
       "      <td>1241946.0</td>\n",
       "      <td>920.386</td>\n",
       "      <td>0.880665</td>\n",
       "      <td>0.468224</td>\n",
       "      <td>0.027509</td>\n",
       "      <td>0.032489</td>\n",
       "      <td>0.244814</td>\n",
       "      <td>1.074488e+06</td>\n",
       "      <td>0.031242</td>\n",
       "    </tr>\n",
       "  </tbody>\n",
       "</table>\n",
       "</div>"
      ],
      "text/plain": [
       "   Country Name  Internet users  GNI per capita  Population  Projection  \\\n",
       "0     Australia       88.238658    61312.500000   2914620.0    2854.898   \n",
       "1       Austria       84.323331    48637.500000    964629.0     500.194   \n",
       "2  Bahamas, The       80.000000    26115.000000     61260.0      12.572   \n",
       "3       Bahrain       97.999981    21793.333333    132609.0     166.126   \n",
       "4       Belgium       86.516500    45107.500000   1241946.0     920.386   \n",
       "\n",
       "   SCORE_INTERNET  SCORE_INCOME  SCORE_POPULATION  SCORE_PROJECTION  \\\n",
       "0        0.898195      0.636434          0.064558          0.100775   \n",
       "1        0.858340      0.504866          0.021366          0.017656   \n",
       "2        0.814332      0.271078          0.001357          0.000444   \n",
       "3        0.997557      0.226219          0.002937          0.005864   \n",
       "4        0.880665      0.468224          0.027509          0.032489   \n",
       "\n",
       "   SCORE_TOTAL  Target population  SCORE_TARGET  \n",
       "0     0.310883       2.571822e+06      0.074780  \n",
       "1     0.240208       8.134073e+05      0.023651  \n",
       "2     0.181502       4.900800e+04      0.001425  \n",
       "3     0.206896       1.299568e+05      0.003779  \n",
       "4     0.244814       1.074488e+06      0.031242  "
      ]
     },
     "execution_count": 100,
     "metadata": {},
     "output_type": "execute_result"
    }
   ],
   "source": [
    "data[\"SCORE_TARGET\"] = data[\"Target population\"] / data[\"Target population\"].max()\n",
    "data.head()"
   ]
  },
  {
   "cell_type": "markdown",
   "id": "7d035b1e",
   "metadata": {},
   "source": [
    "On enlève les colonnes associées aux variables `Population` et `Internet users`"
   ]
  },
  {
   "cell_type": "code",
   "execution_count": 101,
   "id": "01d940c8",
   "metadata": {},
   "outputs": [
    {
     "data": {
      "text/plain": [
       "Index(['Country Name', 'Internet users', 'GNI per capita', 'Population',\n",
       "       'Projection', 'SCORE_INTERNET', 'SCORE_INCOME', 'SCORE_POPULATION',\n",
       "       'SCORE_PROJECTION', 'SCORE_TOTAL', 'Target population', 'SCORE_TARGET'],\n",
       "      dtype='object')"
      ]
     },
     "execution_count": 101,
     "metadata": {},
     "output_type": "execute_result"
    }
   ],
   "source": [
    "data.columns"
   ]
  },
  {
   "cell_type": "code",
   "execution_count": 102,
   "id": "38d677b0",
   "metadata": {},
   "outputs": [
    {
     "data": {
      "text/html": [
       "<div>\n",
       "<style scoped>\n",
       "    .dataframe tbody tr th:only-of-type {\n",
       "        vertical-align: middle;\n",
       "    }\n",
       "\n",
       "    .dataframe tbody tr th {\n",
       "        vertical-align: top;\n",
       "    }\n",
       "\n",
       "    .dataframe thead th {\n",
       "        text-align: right;\n",
       "    }\n",
       "</style>\n",
       "<table border=\"1\" class=\"dataframe\">\n",
       "  <thead>\n",
       "    <tr style=\"text-align: right;\">\n",
       "      <th></th>\n",
       "      <th>Country Name</th>\n",
       "      <th>Target population</th>\n",
       "      <th>GNI per capita</th>\n",
       "      <th>Projection</th>\n",
       "      <th>SCORE_TARGET</th>\n",
       "      <th>SCORE_INCOME</th>\n",
       "      <th>SCORE_PROJECTION</th>\n",
       "      <th>SCORE_TOTAL</th>\n",
       "    </tr>\n",
       "  </thead>\n",
       "  <tbody>\n",
       "    <tr>\n",
       "      <th>0</th>\n",
       "      <td>Australia</td>\n",
       "      <td>2.571822e+06</td>\n",
       "      <td>61312.500000</td>\n",
       "      <td>2854.898</td>\n",
       "      <td>0.074780</td>\n",
       "      <td>0.636434</td>\n",
       "      <td>0.100775</td>\n",
       "      <td>0.310883</td>\n",
       "    </tr>\n",
       "    <tr>\n",
       "      <th>1</th>\n",
       "      <td>Austria</td>\n",
       "      <td>8.134073e+05</td>\n",
       "      <td>48637.500000</td>\n",
       "      <td>500.194</td>\n",
       "      <td>0.023651</td>\n",
       "      <td>0.504866</td>\n",
       "      <td>0.017656</td>\n",
       "      <td>0.240208</td>\n",
       "    </tr>\n",
       "    <tr>\n",
       "      <th>2</th>\n",
       "      <td>Bahamas, The</td>\n",
       "      <td>4.900800e+04</td>\n",
       "      <td>26115.000000</td>\n",
       "      <td>12.572</td>\n",
       "      <td>0.001425</td>\n",
       "      <td>0.271078</td>\n",
       "      <td>0.000444</td>\n",
       "      <td>0.181502</td>\n",
       "    </tr>\n",
       "    <tr>\n",
       "      <th>3</th>\n",
       "      <td>Bahrain</td>\n",
       "      <td>1.299568e+05</td>\n",
       "      <td>21793.333333</td>\n",
       "      <td>166.126</td>\n",
       "      <td>0.003779</td>\n",
       "      <td>0.226219</td>\n",
       "      <td>0.005864</td>\n",
       "      <td>0.206896</td>\n",
       "    </tr>\n",
       "    <tr>\n",
       "      <th>4</th>\n",
       "      <td>Belgium</td>\n",
       "      <td>1.074488e+06</td>\n",
       "      <td>45107.500000</td>\n",
       "      <td>920.386</td>\n",
       "      <td>0.031242</td>\n",
       "      <td>0.468224</td>\n",
       "      <td>0.032489</td>\n",
       "      <td>0.244814</td>\n",
       "    </tr>\n",
       "  </tbody>\n",
       "</table>\n",
       "</div>"
      ],
      "text/plain": [
       "   Country Name  Target population  GNI per capita  Projection  SCORE_TARGET  \\\n",
       "0     Australia       2.571822e+06    61312.500000    2854.898      0.074780   \n",
       "1       Austria       8.134073e+05    48637.500000     500.194      0.023651   \n",
       "2  Bahamas, The       4.900800e+04    26115.000000      12.572      0.001425   \n",
       "3       Bahrain       1.299568e+05    21793.333333     166.126      0.003779   \n",
       "4       Belgium       1.074488e+06    45107.500000     920.386      0.031242   \n",
       "\n",
       "   SCORE_INCOME  SCORE_PROJECTION  SCORE_TOTAL  \n",
       "0      0.636434          0.100775     0.310883  \n",
       "1      0.504866          0.017656     0.240208  \n",
       "2      0.271078          0.000444     0.181502  \n",
       "3      0.226219          0.005864     0.206896  \n",
       "4      0.468224          0.032489     0.244814  "
      ]
     },
     "execution_count": 102,
     "metadata": {},
     "output_type": "execute_result"
    }
   ],
   "source": [
    "data = data[['Country Name', 'Target population', 'GNI per capita',\n",
    "       'Projection', 'SCORE_TARGET', 'SCORE_INCOME',\n",
    "       'SCORE_PROJECTION', 'SCORE_TOTAL']]\n",
    "data.head()"
   ]
  },
  {
   "cell_type": "code",
   "execution_count": null,
   "id": "56a24447",
   "metadata": {},
   "outputs": [],
   "source": []
  },
  {
   "cell_type": "code",
   "execution_count": 103,
   "id": "2ea84baa",
   "metadata": {},
   "outputs": [],
   "source": [
    "data[\"SCORE_TOTAL\"] = (data[\"SCORE_TARGET\"]\n",
    "                      + data[\"SCORE_INCOME\"]\n",
    "                      + data[\"SCORE_PROJECTION\"]\n",
    "                      ) / 3"
   ]
  },
  {
   "cell_type": "code",
   "execution_count": 104,
   "id": "1a2590bf",
   "metadata": {},
   "outputs": [
    {
     "data": {
      "text/html": [
       "<div>\n",
       "<style scoped>\n",
       "    .dataframe tbody tr th:only-of-type {\n",
       "        vertical-align: middle;\n",
       "    }\n",
       "\n",
       "    .dataframe tbody tr th {\n",
       "        vertical-align: top;\n",
       "    }\n",
       "\n",
       "    .dataframe thead th {\n",
       "        text-align: right;\n",
       "    }\n",
       "</style>\n",
       "<table border=\"1\" class=\"dataframe\">\n",
       "  <thead>\n",
       "    <tr style=\"text-align: right;\">\n",
       "      <th></th>\n",
       "      <th>Country Name</th>\n",
       "      <th>SCORE_TOTAL</th>\n",
       "    </tr>\n",
       "  </thead>\n",
       "  <tbody>\n",
       "    <tr>\n",
       "      <th>47</th>\n",
       "      <td>United States</td>\n",
       "      <td>0.858760</td>\n",
       "    </tr>\n",
       "    <tr>\n",
       "      <th>32</th>\n",
       "      <td>Norway</td>\n",
       "      <td>0.343231</td>\n",
       "    </tr>\n",
       "    <tr>\n",
       "      <th>22</th>\n",
       "      <td>Japan</td>\n",
       "      <td>0.334630</td>\n",
       "    </tr>\n",
       "    <tr>\n",
       "      <th>43</th>\n",
       "      <td>Switzerland</td>\n",
       "      <td>0.307977</td>\n",
       "    </tr>\n",
       "    <tr>\n",
       "      <th>36</th>\n",
       "      <td>Russian Federation</td>\n",
       "      <td>0.288907</td>\n",
       "    </tr>\n",
       "    <tr>\n",
       "      <th>35</th>\n",
       "      <td>Qatar</td>\n",
       "      <td>0.280062</td>\n",
       "    </tr>\n",
       "    <tr>\n",
       "      <th>15</th>\n",
       "      <td>Germany</td>\n",
       "      <td>0.275881</td>\n",
       "    </tr>\n",
       "    <tr>\n",
       "      <th>14</th>\n",
       "      <td>France</td>\n",
       "      <td>0.275766</td>\n",
       "    </tr>\n",
       "    <tr>\n",
       "      <th>0</th>\n",
       "      <td>Australia</td>\n",
       "      <td>0.270663</td>\n",
       "    </tr>\n",
       "    <tr>\n",
       "      <th>46</th>\n",
       "      <td>United Kingdom</td>\n",
       "      <td>0.266209</td>\n",
       "    </tr>\n",
       "  </tbody>\n",
       "</table>\n",
       "</div>"
      ],
      "text/plain": [
       "          Country Name  SCORE_TOTAL\n",
       "47       United States     0.858760\n",
       "32              Norway     0.343231\n",
       "22               Japan     0.334630\n",
       "43         Switzerland     0.307977\n",
       "36  Russian Federation     0.288907\n",
       "35               Qatar     0.280062\n",
       "15             Germany     0.275881\n",
       "14              France     0.275766\n",
       "0            Australia     0.270663\n",
       "46      United Kingdom     0.266209"
      ]
     },
     "execution_count": 104,
     "metadata": {},
     "output_type": "execute_result"
    }
   ],
   "source": [
    "top_ten_3 = data[[\"Country Name\", \"SCORE_TOTAL\"]].sort_values(\"SCORE_TOTAL\", ascending=False)[:10]\n",
    "top_ten_3"
   ]
  },
  {
   "cell_type": "markdown",
   "id": "b98e4a11",
   "metadata": {},
   "source": [
    "On compare avec le classement obtenu par la première méthode"
   ]
  },
  {
   "cell_type": "markdown",
   "id": "866eb0c5",
   "metadata": {},
   "source": [
    "Pays qui sont sortis du top 10"
   ]
  },
  {
   "cell_type": "code",
   "execution_count": 105,
   "id": "f1f8df33",
   "metadata": {},
   "outputs": [
    {
     "data": {
      "text/plain": [
       "27    Luxembourg\n",
       "Name: Country Name, dtype: object"
      ]
     },
     "execution_count": 105,
     "metadata": {},
     "output_type": "execute_result"
    }
   ],
   "source": [
    "top_ten[~top_ten[\"Country Name\"].isin(top_ten_3[\"Country Name\"])][\"Country Name\"]"
   ]
  },
  {
   "cell_type": "markdown",
   "id": "c230766e",
   "metadata": {},
   "source": [
    "Pays qui ont intégré le top 10"
   ]
  },
  {
   "cell_type": "code",
   "execution_count": 106,
   "id": "6c4c9a34",
   "metadata": {},
   "outputs": [
    {
     "data": {
      "text/plain": [
       "36    Russian Federation\n",
       "Name: Country Name, dtype: object"
      ]
     },
     "execution_count": 106,
     "metadata": {},
     "output_type": "execute_result"
    }
   ],
   "source": [
    "top_ten_3[~top_ten_3[\"Country Name\"].isin(top_ten[\"Country Name\"])][\"Country Name\"]"
   ]
  },
  {
   "cell_type": "code",
   "execution_count": null,
   "id": "6bf84ac0",
   "metadata": {},
   "outputs": [],
   "source": []
  }
 ],
 "metadata": {
  "kernelspec": {
   "display_name": "Python 3",
   "language": "python",
   "name": "python3"
  },
  "language_info": {
   "codemirror_mode": {
    "name": "ipython",
    "version": 3
   },
   "file_extension": ".py",
   "mimetype": "text/x-python",
   "name": "python",
   "nbconvert_exporter": "python",
   "pygments_lexer": "ipython3",
   "version": "3.9.4"
  },
  "toc": {
   "base_numbering": 1,
   "nav_menu": {},
   "number_sections": false,
   "sideBar": true,
   "skip_h1_title": false,
   "title_cell": "Table of Contents",
   "title_sidebar": "Contents",
   "toc_cell": false,
   "toc_position": {},
   "toc_section_display": true,
   "toc_window_display": true
  }
 },
 "nbformat": 4,
 "nbformat_minor": 5
}
